{
 "cells": [
  {
   "cell_type": "markdown",
   "metadata": {
    "colab_type": "text",
    "id": "view-in-github"
   },
   "source": [
    "<a href=\"https://colab.research.google.com/github/jydiw/nyt-covid-19-data/blob/master/eda_nytimes-data.ipynb\" target=\"_parent\"><img src=\"https://colab.research.google.com/assets/colab-badge.svg\" alt=\"Open In Colab\"/></a>"
   ]
  },
  {
   "cell_type": "markdown",
   "metadata": {
    "colab_type": "text",
    "id": "-m8i-QZVfK53"
   },
   "source": [
    "# Combining NYTimes data with county census and geoson data"
   ]
  },
  {
   "cell_type": "code",
   "execution_count": 1,
   "metadata": {
    "colab": {},
    "colab_type": "code",
    "id": "fQtYdlN2CywI"
   },
   "outputs": [],
   "source": [
    "import numpy as np\n",
    "import numpy.polynomial.polynomial as poly      # linear regression\n",
    "import pandas as pd\n",
    "\n",
    "from scipy.signal import savgol_filter          # fast smoothing of data\n",
    "\n",
    "# opening external coordinates\n",
    "import json\n",
    "import pickle\n",
    "\n",
    "# opening urls\n",
    "from urllib.request import urlopen\n",
    "\n",
    "# benchmarking\n",
    "from time import time\n",
    "\n",
    "# date/time operations\n",
    "from datetime import datetime, timedelta\n",
    "from pytz import timezone\n",
    "\n",
    "import json\n",
    "\n",
    "# plotting\n",
    "import matplotlib.pyplot as plt"
   ]
  },
  {
   "cell_type": "markdown",
   "metadata": {
    "colab_type": "text",
    "id": "Pjr_s8ejfK6R"
   },
   "source": [
    "# import nytimes data\n",
    "\n",
    "New York Times data has a few caveats, including treating New York City, Kansas City, and Joplin as single entities rather than including them in their respective counties. Read their [README](https://github.com/nytimes/covid-19-data/blob/master/README.md) for more information."
   ]
  },
  {
   "cell_type": "code",
   "execution_count": 2,
   "metadata": {
    "colab": {},
    "colab_type": "code",
    "id": "L-zPjgxai1gI"
   },
   "outputs": [],
   "source": [
    "def optimize(df):\n",
    "    '''\n",
    "    Optimizes the data types in a pandas dataframe.\n",
    "    '''\n",
    "    dft = df.copy()\n",
    "    # converts to datetime if possible\n",
    "    dft = dft.apply(lambda col:\n",
    "        pd.to_datetime(col, errors='ignore') if col.dtypes=='object' else col)\n",
    "    \n",
    "    # if there are less than half as many unique values as there are rows, convert to category\n",
    "    for col in dft.select_dtypes(include='object'):\n",
    "        if len(dft[col].unique()) / len(df[col]) < 0.5:\n",
    "            dft[col] = dft[col].astype('category')\n",
    "            \n",
    "    # downcasts numeric columns if possible\n",
    "    dft = dft.apply(lambda col: \n",
    "        pd.to_numeric(col, downcast='integer') if col.dtypes=='int64' else col)\n",
    "    dft = dft.apply(lambda col: \n",
    "        pd.to_numeric(col, downcast='float') if col.dtypes=='float64' else col)\n",
    "    \n",
    "    return dft"
   ]
  },
  {
   "cell_type": "code",
   "execution_count": 3,
   "metadata": {
    "colab": {
     "base_uri": "https://localhost:8080/",
     "height": 204
    },
    "colab_type": "code",
    "id": "nzr_oX2Ai1gL",
    "outputId": "c9e0d9df-7c12-429d-f52e-9335d4ca5450"
   },
   "outputs": [
    {
     "output_type": "execute_result",
     "data": {
      "text/plain": "        date     county       state   fips  cases  deaths\n0 2020-01-21  Snohomish  Washington  53061      1       0\n1 2020-01-22  Snohomish  Washington  53061      1       0\n2 2020-01-23  Snohomish  Washington  53061      1       0\n3 2020-01-24       Cook    Illinois  17031      1       0\n4 2020-01-24  Snohomish  Washington  53061      1       0",
      "text/html": "<div>\n<style scoped>\n    .dataframe tbody tr th:only-of-type {\n        vertical-align: middle;\n    }\n\n    .dataframe tbody tr th {\n        vertical-align: top;\n    }\n\n    .dataframe thead th {\n        text-align: right;\n    }\n</style>\n<table border=\"1\" class=\"dataframe\">\n  <thead>\n    <tr style=\"text-align: right;\">\n      <th></th>\n      <th>date</th>\n      <th>county</th>\n      <th>state</th>\n      <th>fips</th>\n      <th>cases</th>\n      <th>deaths</th>\n    </tr>\n  </thead>\n  <tbody>\n    <tr>\n      <th>0</th>\n      <td>2020-01-21</td>\n      <td>Snohomish</td>\n      <td>Washington</td>\n      <td>53061</td>\n      <td>1</td>\n      <td>0</td>\n    </tr>\n    <tr>\n      <th>1</th>\n      <td>2020-01-22</td>\n      <td>Snohomish</td>\n      <td>Washington</td>\n      <td>53061</td>\n      <td>1</td>\n      <td>0</td>\n    </tr>\n    <tr>\n      <th>2</th>\n      <td>2020-01-23</td>\n      <td>Snohomish</td>\n      <td>Washington</td>\n      <td>53061</td>\n      <td>1</td>\n      <td>0</td>\n    </tr>\n    <tr>\n      <th>3</th>\n      <td>2020-01-24</td>\n      <td>Cook</td>\n      <td>Illinois</td>\n      <td>17031</td>\n      <td>1</td>\n      <td>0</td>\n    </tr>\n    <tr>\n      <th>4</th>\n      <td>2020-01-24</td>\n      <td>Snohomish</td>\n      <td>Washington</td>\n      <td>53061</td>\n      <td>1</td>\n      <td>0</td>\n    </tr>\n  </tbody>\n</table>\n</div>"
     },
     "metadata": {},
     "execution_count": 3
    }
   ],
   "source": [
    "with urlopen('https://raw.githubusercontent.com/nytimes/covid-19-data/master/us-counties.csv') as response:\n",
    "    nyt_df_raw = optimize(pd.read_csv(response, dtype={'fips':'str'}))\n",
    "nyt_df_raw.head()"
   ]
  },
  {
   "cell_type": "code",
   "execution_count": 4,
   "metadata": {},
   "outputs": [],
   "source": [
    "nyt_df_raw['fips'] = nyt_df_raw['fips'].astype('object')\n",
    "nyt_df_raw.loc[nyt_df_raw['county'] == 'New York City','fips'] = '36NYC'\n",
    "nyt_df_raw.loc[nyt_df_raw['county'] == 'Kansas City','fips'] = '29KCM'\n",
    "nyt_df_raw.loc[nyt_df_raw['county'] == 'Joplin','fips'] = '29JOP'\n",
    "nyt_df_raw['fips'] = nyt_df_raw['fips'].astype('category')"
   ]
  },
  {
   "cell_type": "code",
   "execution_count": 5,
   "metadata": {
    "colab": {
     "base_uri": "https://localhost:8080/",
     "height": 238
    },
    "colab_type": "code",
    "id": "6JoLpYt-i1gO",
    "outputId": "0346ad1b-e575-45ee-f188-bc6ecea51051",
    "tags": []
   },
   "outputs": [
    {
     "output_type": "stream",
     "name": "stdout",
     "text": "<class 'pandas.core.frame.DataFrame'>\nRangeIndex: 518297 entries, 0 to 518296\nData columns (total 6 columns):\n #   Column  Non-Null Count   Dtype         \n---  ------  --------------   -----         \n 0   date    518297 non-null  datetime64[ns]\n 1   county  518297 non-null  category      \n 2   state   518297 non-null  category      \n 3   fips    513754 non-null  category      \n 4   cases   518297 non-null  int32         \n 5   deaths  518297 non-null  int16         \ndtypes: category(3), datetime64[ns](1), int16(1), int32(1)\nmemory usage: 9.7 MB\n"
    }
   ],
   "source": [
    "nyt_df_raw.info()"
   ]
  },
  {
   "cell_type": "markdown",
   "metadata": {
    "colab_type": "text",
    "id": "J39gYq9cfK6H"
   },
   "source": [
    "# import `info_df`"
   ]
  },
  {
   "cell_type": "code",
   "execution_count": 6,
   "metadata": {
    "tags": []
   },
   "outputs": [
    {
     "output_type": "stream",
     "name": "stdout",
     "text": "(3140, 231)\n"
    },
    {
     "output_type": "execute_result",
     "data": {
      "text/plain": "  state_fips    state   county   fips  tot_pop  tot_male  tot_female  \\\n0         01  Alabama  Autauga  01001    55869   27092.0     28777.0   \n1         01  Alabama  Baldwin  01003   223234  108247.0    114987.0   \n2         01  Alabama  Barbour  01005    24686   13064.0     11622.0   \n3         01  Alabama     Bibb  01007    22394   11929.0     10465.0   \n4         01  Alabama   Blount  01009    57826   28472.0     29354.0   \n\n   tot_pop_white_male  tot_pop_white_female  tot_pop_black_male  ...  \\\n0             20138.0               21077.0              5171.0  ...   \n1             89845.0               95902.0              9308.0  ...   \n2              5894.0                5341.0              6260.0  ...   \n3              8482.0                8181.0              2912.0  ...   \n4             24494.0               25682.0               453.0  ...   \n\n   per_pop_hispanic_male  per_pop_hispanic_female  per_pop_white  \\\n0               0.015823                 0.014087       0.737708   \n1               0.024839                 0.022349       0.832073   \n2               0.025480                 0.019768       0.455116   \n3               0.015317                 0.012503       0.744083   \n4               0.051015                 0.045516       0.867707   \n\n   per_pop_black  per_pop_native  per_pop_asian  per_pop_pacific  \\\n0       0.198643        0.004349       0.011563         0.000716   \n1       0.086076        0.006751       0.010509         0.000551   \n2       0.478287        0.003848       0.004699         0.001256   \n3       0.210726        0.004064       0.002054         0.000268   \n4       0.015080        0.004877       0.002819         0.000363   \n\n   per_pop_twoplus  per_pop_hispanic  per_votes  \n0         0.017111          0.029909   0.441408  \n1         0.016852          0.047188   0.421486  \n2         0.011545          0.045248   0.420886  \n3         0.010985          0.027820   0.390640  \n4         0.012624          0.096531   0.438972  \n\n[5 rows x 231 columns]",
      "text/html": "<div>\n<style scoped>\n    .dataframe tbody tr th:only-of-type {\n        vertical-align: middle;\n    }\n\n    .dataframe tbody tr th {\n        vertical-align: top;\n    }\n\n    .dataframe thead th {\n        text-align: right;\n    }\n</style>\n<table border=\"1\" class=\"dataframe\">\n  <thead>\n    <tr style=\"text-align: right;\">\n      <th></th>\n      <th>state_fips</th>\n      <th>state</th>\n      <th>county</th>\n      <th>fips</th>\n      <th>tot_pop</th>\n      <th>tot_male</th>\n      <th>tot_female</th>\n      <th>tot_pop_white_male</th>\n      <th>tot_pop_white_female</th>\n      <th>tot_pop_black_male</th>\n      <th>...</th>\n      <th>per_pop_hispanic_male</th>\n      <th>per_pop_hispanic_female</th>\n      <th>per_pop_white</th>\n      <th>per_pop_black</th>\n      <th>per_pop_native</th>\n      <th>per_pop_asian</th>\n      <th>per_pop_pacific</th>\n      <th>per_pop_twoplus</th>\n      <th>per_pop_hispanic</th>\n      <th>per_votes</th>\n    </tr>\n  </thead>\n  <tbody>\n    <tr>\n      <th>0</th>\n      <td>01</td>\n      <td>Alabama</td>\n      <td>Autauga</td>\n      <td>01001</td>\n      <td>55869</td>\n      <td>27092.0</td>\n      <td>28777.0</td>\n      <td>20138.0</td>\n      <td>21077.0</td>\n      <td>5171.0</td>\n      <td>...</td>\n      <td>0.015823</td>\n      <td>0.014087</td>\n      <td>0.737708</td>\n      <td>0.198643</td>\n      <td>0.004349</td>\n      <td>0.011563</td>\n      <td>0.000716</td>\n      <td>0.017111</td>\n      <td>0.029909</td>\n      <td>0.441408</td>\n    </tr>\n    <tr>\n      <th>1</th>\n      <td>01</td>\n      <td>Alabama</td>\n      <td>Baldwin</td>\n      <td>01003</td>\n      <td>223234</td>\n      <td>108247.0</td>\n      <td>114987.0</td>\n      <td>89845.0</td>\n      <td>95902.0</td>\n      <td>9308.0</td>\n      <td>...</td>\n      <td>0.024839</td>\n      <td>0.022349</td>\n      <td>0.832073</td>\n      <td>0.086076</td>\n      <td>0.006751</td>\n      <td>0.010509</td>\n      <td>0.000551</td>\n      <td>0.016852</td>\n      <td>0.047188</td>\n      <td>0.421486</td>\n    </tr>\n    <tr>\n      <th>2</th>\n      <td>01</td>\n      <td>Alabama</td>\n      <td>Barbour</td>\n      <td>01005</td>\n      <td>24686</td>\n      <td>13064.0</td>\n      <td>11622.0</td>\n      <td>5894.0</td>\n      <td>5341.0</td>\n      <td>6260.0</td>\n      <td>...</td>\n      <td>0.025480</td>\n      <td>0.019768</td>\n      <td>0.455116</td>\n      <td>0.478287</td>\n      <td>0.003848</td>\n      <td>0.004699</td>\n      <td>0.001256</td>\n      <td>0.011545</td>\n      <td>0.045248</td>\n      <td>0.420886</td>\n    </tr>\n    <tr>\n      <th>3</th>\n      <td>01</td>\n      <td>Alabama</td>\n      <td>Bibb</td>\n      <td>01007</td>\n      <td>22394</td>\n      <td>11929.0</td>\n      <td>10465.0</td>\n      <td>8482.0</td>\n      <td>8181.0</td>\n      <td>2912.0</td>\n      <td>...</td>\n      <td>0.015317</td>\n      <td>0.012503</td>\n      <td>0.744083</td>\n      <td>0.210726</td>\n      <td>0.004064</td>\n      <td>0.002054</td>\n      <td>0.000268</td>\n      <td>0.010985</td>\n      <td>0.027820</td>\n      <td>0.390640</td>\n    </tr>\n    <tr>\n      <th>4</th>\n      <td>01</td>\n      <td>Alabama</td>\n      <td>Blount</td>\n      <td>01009</td>\n      <td>57826</td>\n      <td>28472.0</td>\n      <td>29354.0</td>\n      <td>24494.0</td>\n      <td>25682.0</td>\n      <td>453.0</td>\n      <td>...</td>\n      <td>0.051015</td>\n      <td>0.045516</td>\n      <td>0.867707</td>\n      <td>0.015080</td>\n      <td>0.004877</td>\n      <td>0.002819</td>\n      <td>0.000363</td>\n      <td>0.012624</td>\n      <td>0.096531</td>\n      <td>0.438972</td>\n    </tr>\n  </tbody>\n</table>\n<p>5 rows × 231 columns</p>\n</div>"
     },
     "metadata": {},
     "execution_count": 6
    }
   ],
   "source": [
    "with open('../data/processed/info_df.p', 'rb') as f:\n",
    "    info_df = pickle.load(f)\n",
    "print(info_df.shape)\n",
    "info_df.head()"
   ]
  },
  {
   "cell_type": "code",
   "execution_count": 7,
   "metadata": {},
   "outputs": [],
   "source": [
    "with open('../data/processed/geo_json.json') as f:\n",
    "    geo_json = json.load(f)"
   ]
  },
  {
   "cell_type": "markdown",
   "metadata": {},
   "source": [
    "## engineer per capita columns"
   ]
  },
  {
   "cell_type": "code",
   "execution_count": 8,
   "metadata": {
    "tags": []
   },
   "outputs": [
    {
     "output_type": "stream",
     "name": "stdout",
     "text": "(503046, 8)\n"
    },
    {
     "output_type": "execute_result",
     "data": {
      "text/plain": "          date     county       state   fips  cases  deaths  cases_per_100k  \\\n0   2020-01-21  Snohomish  Washington  53061      1       0        0.121642   \n1   2020-01-22  Snohomish  Washington  53061      1       0        0.121642   \n2   2020-01-23  Snohomish  Washington  53061      1       0        0.121642   \n233 2020-01-24       Cook    Illinois  17031      1       0        0.019417   \n3   2020-01-24  Snohomish  Washington  53061      1       0        0.121642   \n\n     deaths_per_100k  \n0                0.0  \n1                0.0  \n2                0.0  \n233              0.0  \n3                0.0  ",
      "text/html": "<div>\n<style scoped>\n    .dataframe tbody tr th:only-of-type {\n        vertical-align: middle;\n    }\n\n    .dataframe tbody tr th {\n        vertical-align: top;\n    }\n\n    .dataframe thead th {\n        text-align: right;\n    }\n</style>\n<table border=\"1\" class=\"dataframe\">\n  <thead>\n    <tr style=\"text-align: right;\">\n      <th></th>\n      <th>date</th>\n      <th>county</th>\n      <th>state</th>\n      <th>fips</th>\n      <th>cases</th>\n      <th>deaths</th>\n      <th>cases_per_100k</th>\n      <th>deaths_per_100k</th>\n    </tr>\n  </thead>\n  <tbody>\n    <tr>\n      <th>0</th>\n      <td>2020-01-21</td>\n      <td>Snohomish</td>\n      <td>Washington</td>\n      <td>53061</td>\n      <td>1</td>\n      <td>0</td>\n      <td>0.121642</td>\n      <td>0.0</td>\n    </tr>\n    <tr>\n      <th>1</th>\n      <td>2020-01-22</td>\n      <td>Snohomish</td>\n      <td>Washington</td>\n      <td>53061</td>\n      <td>1</td>\n      <td>0</td>\n      <td>0.121642</td>\n      <td>0.0</td>\n    </tr>\n    <tr>\n      <th>2</th>\n      <td>2020-01-23</td>\n      <td>Snohomish</td>\n      <td>Washington</td>\n      <td>53061</td>\n      <td>1</td>\n      <td>0</td>\n      <td>0.121642</td>\n      <td>0.0</td>\n    </tr>\n    <tr>\n      <th>233</th>\n      <td>2020-01-24</td>\n      <td>Cook</td>\n      <td>Illinois</td>\n      <td>17031</td>\n      <td>1</td>\n      <td>0</td>\n      <td>0.019417</td>\n      <td>0.0</td>\n    </tr>\n    <tr>\n      <th>3</th>\n      <td>2020-01-24</td>\n      <td>Snohomish</td>\n      <td>Washington</td>\n      <td>53061</td>\n      <td>1</td>\n      <td>0</td>\n      <td>0.121642</td>\n      <td>0.0</td>\n    </tr>\n  </tbody>\n</table>\n</div>"
     },
     "metadata": {},
     "execution_count": 8
    }
   ],
   "source": [
    "nyt_df = nyt_df_raw.merge(\n",
    "    info_df[['fips', 'tot_pop']], \n",
    "    on='fips', \n",
    "    suffixes=('_x','')\n",
    ")\n",
    "\n",
    "# df_all = df_all.drop(['county_x', 'state_x'], axis=1)\n",
    "nyt_df[['cases_per_100k', 'deaths_per_100k']] = nyt_df[['cases', 'deaths']].div(nyt_df['tot_pop'], axis=0) * 100_000\n",
    "nyt_df = nyt_df.drop(columns=['tot_pop'])\n",
    "nyt_df = nyt_df.sort_values(by=['date', 'fips'])\n",
    "\n",
    "print(nyt_df.shape)\n",
    "nyt_df.head()"
   ]
  },
  {
   "cell_type": "code",
   "execution_count": 26,
   "metadata": {},
   "outputs": [
    {
     "output_type": "execute_result",
     "data": {
      "text/plain": "          date       county       state   fips  cases  deaths  cases_per_100k  \\\n1   2020-01-22    Snohomish  Washington  53061      1       0        0.121642   \n695 2020-01-29     Maricopa     Arizona  04013      1       0        0.022294   \n923 2020-01-29  Los Angeles  California  06037      1       0        0.009961   \n467 2020-01-29       Orange  California  06059      1       0        0.031489   \n238 2020-01-29         Cook    Illinois  17031      1       0        0.019417   \n\n     deaths_per_100k  \n1                0.0  \n695              0.0  \n923              0.0  \n467              0.0  \n238              0.0  ",
      "text/html": "<div>\n<style scoped>\n    .dataframe tbody tr th:only-of-type {\n        vertical-align: middle;\n    }\n\n    .dataframe tbody tr th {\n        vertical-align: top;\n    }\n\n    .dataframe thead th {\n        text-align: right;\n    }\n</style>\n<table border=\"1\" class=\"dataframe\">\n  <thead>\n    <tr style=\"text-align: right;\">\n      <th></th>\n      <th>date</th>\n      <th>county</th>\n      <th>state</th>\n      <th>fips</th>\n      <th>cases</th>\n      <th>deaths</th>\n      <th>cases_per_100k</th>\n      <th>deaths_per_100k</th>\n    </tr>\n  </thead>\n  <tbody>\n    <tr>\n      <th>1</th>\n      <td>2020-01-22</td>\n      <td>Snohomish</td>\n      <td>Washington</td>\n      <td>53061</td>\n      <td>1</td>\n      <td>0</td>\n      <td>0.121642</td>\n      <td>0.0</td>\n    </tr>\n    <tr>\n      <th>695</th>\n      <td>2020-01-29</td>\n      <td>Maricopa</td>\n      <td>Arizona</td>\n      <td>04013</td>\n      <td>1</td>\n      <td>0</td>\n      <td>0.022294</td>\n      <td>0.0</td>\n    </tr>\n    <tr>\n      <th>923</th>\n      <td>2020-01-29</td>\n      <td>Los Angeles</td>\n      <td>California</td>\n      <td>06037</td>\n      <td>1</td>\n      <td>0</td>\n      <td>0.009961</td>\n      <td>0.0</td>\n    </tr>\n    <tr>\n      <th>467</th>\n      <td>2020-01-29</td>\n      <td>Orange</td>\n      <td>California</td>\n      <td>06059</td>\n      <td>1</td>\n      <td>0</td>\n      <td>0.031489</td>\n      <td>0.0</td>\n    </tr>\n    <tr>\n      <th>238</th>\n      <td>2020-01-29</td>\n      <td>Cook</td>\n      <td>Illinois</td>\n      <td>17031</td>\n      <td>1</td>\n      <td>0</td>\n      <td>0.019417</td>\n      <td>0.0</td>\n    </tr>\n  </tbody>\n</table>\n</div>"
     },
     "metadata": {},
     "execution_count": 26
    }
   ],
   "source": [
    "nyt_df_w = nyt_df[((datetime(2020, 9, 9) - nyt_df['date']) / timedelta(days=1)) % 7 == 0]\n",
    "\n",
    "nyt_df_w.head()"
   ]
  },
  {
   "cell_type": "code",
   "execution_count": 14,
   "metadata": {},
   "outputs": [
    {
     "output_type": "execute_result",
     "data": {
      "text/plain": "<matplotlib.axes._subplots.AxesSubplot at 0x2b2c7f67bc8>"
     },
     "metadata": {},
     "execution_count": 14
    },
    {
     "output_type": "display_data",
     "data": {
      "text/plain": "<Figure size 432x288 with 1 Axes>",
      "image/svg+xml": "<?xml version=\"1.0\" encoding=\"utf-8\" standalone=\"no\"?>\r\n<!DOCTYPE svg PUBLIC \"-//W3C//DTD SVG 1.1//EN\"\r\n  \"http://www.w3.org/Graphics/SVG/1.1/DTD/svg11.dtd\">\r\n<!-- Created with matplotlib (https://matplotlib.org/) -->\r\n<svg height=\"248.518125pt\" version=\"1.1\" viewBox=\"0 0 394.375 248.518125\" width=\"394.375pt\" xmlns=\"http://www.w3.org/2000/svg\" xmlns:xlink=\"http://www.w3.org/1999/xlink\">\r\n <defs>\r\n  <style type=\"text/css\">\r\n*{stroke-linecap:butt;stroke-linejoin:round;}\r\n  </style>\r\n </defs>\r\n <g id=\"figure_1\">\r\n  <g id=\"patch_1\">\r\n   <path d=\"M 0 248.518125 \r\nL 394.375 248.518125 \r\nL 394.375 0 \r\nL 0 0 \r\nz\r\n\" style=\"fill:none;\"/>\r\n  </g>\r\n  <g id=\"axes_1\">\r\n   <g id=\"patch_2\">\r\n    <path d=\"M 52.375 224.64 \r\nL 387.175 224.64 \r\nL 387.175 7.2 \r\nL 52.375 7.2 \r\nz\r\n\" style=\"fill:#ffffff;\"/>\r\n   </g>\r\n   <g id=\"matplotlib.axis_1\">\r\n    <g id=\"xtick_1\">\r\n     <g id=\"line2d_1\">\r\n      <defs>\r\n       <path d=\"M 0 0 \r\nL 0 3.5 \r\n\" id=\"m6cdf194f47\" style=\"stroke:#000000;stroke-width:0.8;\"/>\r\n      </defs>\r\n      <g>\r\n       <use style=\"stroke:#000000;stroke-width:0.8;\" x=\"67.584516\" xlink:href=\"#m6cdf194f47\" y=\"224.64\"/>\r\n      </g>\r\n     </g>\r\n     <g id=\"text_1\">\r\n      <!-- 0 -->\r\n      <defs>\r\n       <path d=\"M 31.78125 66.40625 \r\nQ 24.171875 66.40625 20.328125 58.90625 \r\nQ 16.5 51.421875 16.5 36.375 \r\nQ 16.5 21.390625 20.328125 13.890625 \r\nQ 24.171875 6.390625 31.78125 6.390625 \r\nQ 39.453125 6.390625 43.28125 13.890625 \r\nQ 47.125 21.390625 47.125 36.375 \r\nQ 47.125 51.421875 43.28125 58.90625 \r\nQ 39.453125 66.40625 31.78125 66.40625 \r\nz\r\nM 31.78125 74.21875 \r\nQ 44.046875 74.21875 50.515625 64.515625 \r\nQ 56.984375 54.828125 56.984375 36.375 \r\nQ 56.984375 17.96875 50.515625 8.265625 \r\nQ 44.046875 -1.421875 31.78125 -1.421875 \r\nQ 19.53125 -1.421875 13.0625 8.265625 \r\nQ 6.59375 17.96875 6.59375 36.375 \r\nQ 6.59375 54.828125 13.0625 64.515625 \r\nQ 19.53125 74.21875 31.78125 74.21875 \r\nz\r\n\" id=\"DejaVuSans-48\"/>\r\n      </defs>\r\n      <g transform=\"translate(64.403266 239.238437)scale(0.1 -0.1)\">\r\n       <use xlink:href=\"#DejaVuSans-48\"/>\r\n      </g>\r\n     </g>\r\n    </g>\r\n    <g id=\"xtick_2\">\r\n     <g id=\"line2d_2\">\r\n      <g>\r\n       <use style=\"stroke:#000000;stroke-width:0.8;\" x=\"110.914618\" xlink:href=\"#m6cdf194f47\" y=\"224.64\"/>\r\n      </g>\r\n     </g>\r\n     <g id=\"text_2\">\r\n      <!-- 10000 -->\r\n      <defs>\r\n       <path d=\"M 12.40625 8.296875 \r\nL 28.515625 8.296875 \r\nL 28.515625 63.921875 \r\nL 10.984375 60.40625 \r\nL 10.984375 69.390625 \r\nL 28.421875 72.90625 \r\nL 38.28125 72.90625 \r\nL 38.28125 8.296875 \r\nL 54.390625 8.296875 \r\nL 54.390625 0 \r\nL 12.40625 0 \r\nz\r\n\" id=\"DejaVuSans-49\"/>\r\n      </defs>\r\n      <g transform=\"translate(95.008368 239.238437)scale(0.1 -0.1)\">\r\n       <use xlink:href=\"#DejaVuSans-49\"/>\r\n       <use x=\"63.623047\" xlink:href=\"#DejaVuSans-48\"/>\r\n       <use x=\"127.246094\" xlink:href=\"#DejaVuSans-48\"/>\r\n       <use x=\"190.869141\" xlink:href=\"#DejaVuSans-48\"/>\r\n       <use x=\"254.492188\" xlink:href=\"#DejaVuSans-48\"/>\r\n      </g>\r\n     </g>\r\n    </g>\r\n    <g id=\"xtick_3\">\r\n     <g id=\"line2d_3\">\r\n      <g>\r\n       <use style=\"stroke:#000000;stroke-width:0.8;\" x=\"154.24472\" xlink:href=\"#m6cdf194f47\" y=\"224.64\"/>\r\n      </g>\r\n     </g>\r\n     <g id=\"text_3\">\r\n      <!-- 20000 -->\r\n      <defs>\r\n       <path d=\"M 19.1875 8.296875 \r\nL 53.609375 8.296875 \r\nL 53.609375 0 \r\nL 7.328125 0 \r\nL 7.328125 8.296875 \r\nQ 12.9375 14.109375 22.625 23.890625 \r\nQ 32.328125 33.6875 34.8125 36.53125 \r\nQ 39.546875 41.84375 41.421875 45.53125 \r\nQ 43.3125 49.21875 43.3125 52.78125 \r\nQ 43.3125 58.59375 39.234375 62.25 \r\nQ 35.15625 65.921875 28.609375 65.921875 \r\nQ 23.96875 65.921875 18.8125 64.3125 \r\nQ 13.671875 62.703125 7.8125 59.421875 \r\nL 7.8125 69.390625 \r\nQ 13.765625 71.78125 18.9375 73 \r\nQ 24.125 74.21875 28.421875 74.21875 \r\nQ 39.75 74.21875 46.484375 68.546875 \r\nQ 53.21875 62.890625 53.21875 53.421875 \r\nQ 53.21875 48.921875 51.53125 44.890625 \r\nQ 49.859375 40.875 45.40625 35.40625 \r\nQ 44.1875 33.984375 37.640625 27.21875 \r\nQ 31.109375 20.453125 19.1875 8.296875 \r\nz\r\n\" id=\"DejaVuSans-50\"/>\r\n      </defs>\r\n      <g transform=\"translate(138.33847 239.238437)scale(0.1 -0.1)\">\r\n       <use xlink:href=\"#DejaVuSans-50\"/>\r\n       <use x=\"63.623047\" xlink:href=\"#DejaVuSans-48\"/>\r\n       <use x=\"127.246094\" xlink:href=\"#DejaVuSans-48\"/>\r\n       <use x=\"190.869141\" xlink:href=\"#DejaVuSans-48\"/>\r\n       <use x=\"254.492188\" xlink:href=\"#DejaVuSans-48\"/>\r\n      </g>\r\n     </g>\r\n    </g>\r\n    <g id=\"xtick_4\">\r\n     <g id=\"line2d_4\">\r\n      <g>\r\n       <use style=\"stroke:#000000;stroke-width:0.8;\" x=\"197.574822\" xlink:href=\"#m6cdf194f47\" y=\"224.64\"/>\r\n      </g>\r\n     </g>\r\n     <g id=\"text_4\">\r\n      <!-- 30000 -->\r\n      <defs>\r\n       <path d=\"M 40.578125 39.3125 \r\nQ 47.65625 37.796875 51.625 33 \r\nQ 55.609375 28.21875 55.609375 21.1875 \r\nQ 55.609375 10.40625 48.1875 4.484375 \r\nQ 40.765625 -1.421875 27.09375 -1.421875 \r\nQ 22.515625 -1.421875 17.65625 -0.515625 \r\nQ 12.796875 0.390625 7.625 2.203125 \r\nL 7.625 11.71875 \r\nQ 11.71875 9.328125 16.59375 8.109375 \r\nQ 21.484375 6.890625 26.8125 6.890625 \r\nQ 36.078125 6.890625 40.9375 10.546875 \r\nQ 45.796875 14.203125 45.796875 21.1875 \r\nQ 45.796875 27.640625 41.28125 31.265625 \r\nQ 36.765625 34.90625 28.71875 34.90625 \r\nL 20.21875 34.90625 \r\nL 20.21875 43.015625 \r\nL 29.109375 43.015625 \r\nQ 36.375 43.015625 40.234375 45.921875 \r\nQ 44.09375 48.828125 44.09375 54.296875 \r\nQ 44.09375 59.90625 40.109375 62.90625 \r\nQ 36.140625 65.921875 28.71875 65.921875 \r\nQ 24.65625 65.921875 20.015625 65.03125 \r\nQ 15.375 64.15625 9.8125 62.3125 \r\nL 9.8125 71.09375 \r\nQ 15.4375 72.65625 20.34375 73.4375 \r\nQ 25.25 74.21875 29.59375 74.21875 \r\nQ 40.828125 74.21875 47.359375 69.109375 \r\nQ 53.90625 64.015625 53.90625 55.328125 \r\nQ 53.90625 49.265625 50.4375 45.09375 \r\nQ 46.96875 40.921875 40.578125 39.3125 \r\nz\r\n\" id=\"DejaVuSans-51\"/>\r\n      </defs>\r\n      <g transform=\"translate(181.668572 239.238437)scale(0.1 -0.1)\">\r\n       <use xlink:href=\"#DejaVuSans-51\"/>\r\n       <use x=\"63.623047\" xlink:href=\"#DejaVuSans-48\"/>\r\n       <use x=\"127.246094\" xlink:href=\"#DejaVuSans-48\"/>\r\n       <use x=\"190.869141\" xlink:href=\"#DejaVuSans-48\"/>\r\n       <use x=\"254.492188\" xlink:href=\"#DejaVuSans-48\"/>\r\n      </g>\r\n     </g>\r\n    </g>\r\n    <g id=\"xtick_5\">\r\n     <g id=\"line2d_5\">\r\n      <g>\r\n       <use style=\"stroke:#000000;stroke-width:0.8;\" x=\"240.904924\" xlink:href=\"#m6cdf194f47\" y=\"224.64\"/>\r\n      </g>\r\n     </g>\r\n     <g id=\"text_5\">\r\n      <!-- 40000 -->\r\n      <defs>\r\n       <path d=\"M 37.796875 64.3125 \r\nL 12.890625 25.390625 \r\nL 37.796875 25.390625 \r\nz\r\nM 35.203125 72.90625 \r\nL 47.609375 72.90625 \r\nL 47.609375 25.390625 \r\nL 58.015625 25.390625 \r\nL 58.015625 17.1875 \r\nL 47.609375 17.1875 \r\nL 47.609375 0 \r\nL 37.796875 0 \r\nL 37.796875 17.1875 \r\nL 4.890625 17.1875 \r\nL 4.890625 26.703125 \r\nz\r\n\" id=\"DejaVuSans-52\"/>\r\n      </defs>\r\n      <g transform=\"translate(224.998674 239.238437)scale(0.1 -0.1)\">\r\n       <use xlink:href=\"#DejaVuSans-52\"/>\r\n       <use x=\"63.623047\" xlink:href=\"#DejaVuSans-48\"/>\r\n       <use x=\"127.246094\" xlink:href=\"#DejaVuSans-48\"/>\r\n       <use x=\"190.869141\" xlink:href=\"#DejaVuSans-48\"/>\r\n       <use x=\"254.492188\" xlink:href=\"#DejaVuSans-48\"/>\r\n      </g>\r\n     </g>\r\n    </g>\r\n    <g id=\"xtick_6\">\r\n     <g id=\"line2d_6\">\r\n      <g>\r\n       <use style=\"stroke:#000000;stroke-width:0.8;\" x=\"284.235026\" xlink:href=\"#m6cdf194f47\" y=\"224.64\"/>\r\n      </g>\r\n     </g>\r\n     <g id=\"text_6\">\r\n      <!-- 50000 -->\r\n      <defs>\r\n       <path d=\"M 10.796875 72.90625 \r\nL 49.515625 72.90625 \r\nL 49.515625 64.59375 \r\nL 19.828125 64.59375 \r\nL 19.828125 46.734375 \r\nQ 21.96875 47.46875 24.109375 47.828125 \r\nQ 26.265625 48.1875 28.421875 48.1875 \r\nQ 40.625 48.1875 47.75 41.5 \r\nQ 54.890625 34.8125 54.890625 23.390625 \r\nQ 54.890625 11.625 47.5625 5.09375 \r\nQ 40.234375 -1.421875 26.90625 -1.421875 \r\nQ 22.3125 -1.421875 17.546875 -0.640625 \r\nQ 12.796875 0.140625 7.71875 1.703125 \r\nL 7.71875 11.625 \r\nQ 12.109375 9.234375 16.796875 8.0625 \r\nQ 21.484375 6.890625 26.703125 6.890625 \r\nQ 35.15625 6.890625 40.078125 11.328125 \r\nQ 45.015625 15.765625 45.015625 23.390625 \r\nQ 45.015625 31 40.078125 35.4375 \r\nQ 35.15625 39.890625 26.703125 39.890625 \r\nQ 22.75 39.890625 18.8125 39.015625 \r\nQ 14.890625 38.140625 10.796875 36.28125 \r\nz\r\n\" id=\"DejaVuSans-53\"/>\r\n      </defs>\r\n      <g transform=\"translate(268.328776 239.238437)scale(0.1 -0.1)\">\r\n       <use xlink:href=\"#DejaVuSans-53\"/>\r\n       <use x=\"63.623047\" xlink:href=\"#DejaVuSans-48\"/>\r\n       <use x=\"127.246094\" xlink:href=\"#DejaVuSans-48\"/>\r\n       <use x=\"190.869141\" xlink:href=\"#DejaVuSans-48\"/>\r\n       <use x=\"254.492188\" xlink:href=\"#DejaVuSans-48\"/>\r\n      </g>\r\n     </g>\r\n    </g>\r\n    <g id=\"xtick_7\">\r\n     <g id=\"line2d_7\">\r\n      <g>\r\n       <use style=\"stroke:#000000;stroke-width:0.8;\" x=\"327.565129\" xlink:href=\"#m6cdf194f47\" y=\"224.64\"/>\r\n      </g>\r\n     </g>\r\n     <g id=\"text_7\">\r\n      <!-- 60000 -->\r\n      <defs>\r\n       <path d=\"M 33.015625 40.375 \r\nQ 26.375 40.375 22.484375 35.828125 \r\nQ 18.609375 31.296875 18.609375 23.390625 \r\nQ 18.609375 15.53125 22.484375 10.953125 \r\nQ 26.375 6.390625 33.015625 6.390625 \r\nQ 39.65625 6.390625 43.53125 10.953125 \r\nQ 47.40625 15.53125 47.40625 23.390625 \r\nQ 47.40625 31.296875 43.53125 35.828125 \r\nQ 39.65625 40.375 33.015625 40.375 \r\nz\r\nM 52.59375 71.296875 \r\nL 52.59375 62.3125 \r\nQ 48.875 64.0625 45.09375 64.984375 \r\nQ 41.3125 65.921875 37.59375 65.921875 \r\nQ 27.828125 65.921875 22.671875 59.328125 \r\nQ 17.53125 52.734375 16.796875 39.40625 \r\nQ 19.671875 43.65625 24.015625 45.921875 \r\nQ 28.375 48.1875 33.59375 48.1875 \r\nQ 44.578125 48.1875 50.953125 41.515625 \r\nQ 57.328125 34.859375 57.328125 23.390625 \r\nQ 57.328125 12.15625 50.6875 5.359375 \r\nQ 44.046875 -1.421875 33.015625 -1.421875 \r\nQ 20.359375 -1.421875 13.671875 8.265625 \r\nQ 6.984375 17.96875 6.984375 36.375 \r\nQ 6.984375 53.65625 15.1875 63.9375 \r\nQ 23.390625 74.21875 37.203125 74.21875 \r\nQ 40.921875 74.21875 44.703125 73.484375 \r\nQ 48.484375 72.75 52.59375 71.296875 \r\nz\r\n\" id=\"DejaVuSans-54\"/>\r\n      </defs>\r\n      <g transform=\"translate(311.658879 239.238437)scale(0.1 -0.1)\">\r\n       <use xlink:href=\"#DejaVuSans-54\"/>\r\n       <use x=\"63.623047\" xlink:href=\"#DejaVuSans-48\"/>\r\n       <use x=\"127.246094\" xlink:href=\"#DejaVuSans-48\"/>\r\n       <use x=\"190.869141\" xlink:href=\"#DejaVuSans-48\"/>\r\n       <use x=\"254.492188\" xlink:href=\"#DejaVuSans-48\"/>\r\n      </g>\r\n     </g>\r\n    </g>\r\n    <g id=\"xtick_8\">\r\n     <g id=\"line2d_8\">\r\n      <g>\r\n       <use style=\"stroke:#000000;stroke-width:0.8;\" x=\"370.895231\" xlink:href=\"#m6cdf194f47\" y=\"224.64\"/>\r\n      </g>\r\n     </g>\r\n     <g id=\"text_8\">\r\n      <!-- 70000 -->\r\n      <defs>\r\n       <path d=\"M 8.203125 72.90625 \r\nL 55.078125 72.90625 \r\nL 55.078125 68.703125 \r\nL 28.609375 0 \r\nL 18.3125 0 \r\nL 43.21875 64.59375 \r\nL 8.203125 64.59375 \r\nz\r\n\" id=\"DejaVuSans-55\"/>\r\n      </defs>\r\n      <g transform=\"translate(354.988981 239.238437)scale(0.1 -0.1)\">\r\n       <use xlink:href=\"#DejaVuSans-55\"/>\r\n       <use x=\"63.623047\" xlink:href=\"#DejaVuSans-48\"/>\r\n       <use x=\"127.246094\" xlink:href=\"#DejaVuSans-48\"/>\r\n       <use x=\"190.869141\" xlink:href=\"#DejaVuSans-48\"/>\r\n       <use x=\"254.492188\" xlink:href=\"#DejaVuSans-48\"/>\r\n      </g>\r\n     </g>\r\n    </g>\r\n   </g>\r\n   <g id=\"matplotlib.axis_2\">\r\n    <g id=\"ytick_1\">\r\n     <g id=\"line2d_9\">\r\n      <defs>\r\n       <path d=\"M 0 0 \r\nL -3.5 0 \r\n\" id=\"m01ff75ecfb\" style=\"stroke:#000000;stroke-width:0.8;\"/>\r\n      </defs>\r\n      <g>\r\n       <use style=\"stroke:#000000;stroke-width:0.8;\" x=\"52.375\" xlink:href=\"#m01ff75ecfb\" y=\"214.757155\"/>\r\n      </g>\r\n     </g>\r\n     <g id=\"text_9\">\r\n      <!-- 0 -->\r\n      <g transform=\"translate(39.0125 218.556374)scale(0.1 -0.1)\">\r\n       <use xlink:href=\"#DejaVuSans-48\"/>\r\n      </g>\r\n     </g>\r\n    </g>\r\n    <g id=\"ytick_2\">\r\n     <g id=\"line2d_10\">\r\n      <g>\r\n       <use style=\"stroke:#000000;stroke-width:0.8;\" x=\"52.375\" xlink:href=\"#m01ff75ecfb\" y=\"175.200141\"/>\r\n      </g>\r\n     </g>\r\n     <g id=\"text_10\">\r\n      <!-- 50000 -->\r\n      <g transform=\"translate(13.5625 178.99936)scale(0.1 -0.1)\">\r\n       <use xlink:href=\"#DejaVuSans-53\"/>\r\n       <use x=\"63.623047\" xlink:href=\"#DejaVuSans-48\"/>\r\n       <use x=\"127.246094\" xlink:href=\"#DejaVuSans-48\"/>\r\n       <use x=\"190.869141\" xlink:href=\"#DejaVuSans-48\"/>\r\n       <use x=\"254.492188\" xlink:href=\"#DejaVuSans-48\"/>\r\n      </g>\r\n     </g>\r\n    </g>\r\n    <g id=\"ytick_3\">\r\n     <g id=\"line2d_11\">\r\n      <g>\r\n       <use style=\"stroke:#000000;stroke-width:0.8;\" x=\"52.375\" xlink:href=\"#m01ff75ecfb\" y=\"135.643127\"/>\r\n      </g>\r\n     </g>\r\n     <g id=\"text_11\">\r\n      <!-- 100000 -->\r\n      <g transform=\"translate(7.2 139.442346)scale(0.1 -0.1)\">\r\n       <use xlink:href=\"#DejaVuSans-49\"/>\r\n       <use x=\"63.623047\" xlink:href=\"#DejaVuSans-48\"/>\r\n       <use x=\"127.246094\" xlink:href=\"#DejaVuSans-48\"/>\r\n       <use x=\"190.869141\" xlink:href=\"#DejaVuSans-48\"/>\r\n       <use x=\"254.492188\" xlink:href=\"#DejaVuSans-48\"/>\r\n       <use x=\"318.115234\" xlink:href=\"#DejaVuSans-48\"/>\r\n      </g>\r\n     </g>\r\n    </g>\r\n    <g id=\"ytick_4\">\r\n     <g id=\"line2d_12\">\r\n      <g>\r\n       <use style=\"stroke:#000000;stroke-width:0.8;\" x=\"52.375\" xlink:href=\"#m01ff75ecfb\" y=\"96.086113\"/>\r\n      </g>\r\n     </g>\r\n     <g id=\"text_12\">\r\n      <!-- 150000 -->\r\n      <g transform=\"translate(7.2 99.885332)scale(0.1 -0.1)\">\r\n       <use xlink:href=\"#DejaVuSans-49\"/>\r\n       <use x=\"63.623047\" xlink:href=\"#DejaVuSans-53\"/>\r\n       <use x=\"127.246094\" xlink:href=\"#DejaVuSans-48\"/>\r\n       <use x=\"190.869141\" xlink:href=\"#DejaVuSans-48\"/>\r\n       <use x=\"254.492188\" xlink:href=\"#DejaVuSans-48\"/>\r\n       <use x=\"318.115234\" xlink:href=\"#DejaVuSans-48\"/>\r\n      </g>\r\n     </g>\r\n    </g>\r\n    <g id=\"ytick_5\">\r\n     <g id=\"line2d_13\">\r\n      <g>\r\n       <use style=\"stroke:#000000;stroke-width:0.8;\" x=\"52.375\" xlink:href=\"#m01ff75ecfb\" y=\"56.529099\"/>\r\n      </g>\r\n     </g>\r\n     <g id=\"text_13\">\r\n      <!-- 200000 -->\r\n      <g transform=\"translate(7.2 60.328318)scale(0.1 -0.1)\">\r\n       <use xlink:href=\"#DejaVuSans-50\"/>\r\n       <use x=\"63.623047\" xlink:href=\"#DejaVuSans-48\"/>\r\n       <use x=\"127.246094\" xlink:href=\"#DejaVuSans-48\"/>\r\n       <use x=\"190.869141\" xlink:href=\"#DejaVuSans-48\"/>\r\n       <use x=\"254.492188\" xlink:href=\"#DejaVuSans-48\"/>\r\n       <use x=\"318.115234\" xlink:href=\"#DejaVuSans-48\"/>\r\n      </g>\r\n     </g>\r\n    </g>\r\n    <g id=\"ytick_6\">\r\n     <g id=\"line2d_14\">\r\n      <g>\r\n       <use style=\"stroke:#000000;stroke-width:0.8;\" x=\"52.375\" xlink:href=\"#m01ff75ecfb\" y=\"16.972086\"/>\r\n      </g>\r\n     </g>\r\n     <g id=\"text_14\">\r\n      <!-- 250000 -->\r\n      <g transform=\"translate(7.2 20.771304)scale(0.1 -0.1)\">\r\n       <use xlink:href=\"#DejaVuSans-50\"/>\r\n       <use x=\"63.623047\" xlink:href=\"#DejaVuSans-53\"/>\r\n       <use x=\"127.246094\" xlink:href=\"#DejaVuSans-48\"/>\r\n       <use x=\"190.869141\" xlink:href=\"#DejaVuSans-48\"/>\r\n       <use x=\"254.492188\" xlink:href=\"#DejaVuSans-48\"/>\r\n       <use x=\"318.115234\" xlink:href=\"#DejaVuSans-48\"/>\r\n      </g>\r\n     </g>\r\n    </g>\r\n   </g>\r\n   <g id=\"line2d_15\">\r\n    <path clip-path=\"url(#pb2e17051df)\" d=\"M 67.593182 214.756364 \r\nL 67.614847 214.756364 \r\nL 67.653844 214.756364 \r\nL 67.701507 214.756364 \r\nL 67.757836 214.756364 \r\nL 67.853162 214.751617 \r\nL 68.035149 214.735003 \r\nL 69.04474 214.606838 \r\nL 72.08218 214.125034 \r\nL 78.811345 211.973923 \r\nL 88.387298 208.799868 \r\nL 99.410476 206.453346 \r\nL 111.066273 201.754764 \r\nL 123.047047 196.968366 \r\nL 135.270468 192.095733 \r\nL 147.68021 187.519777 \r\nL 160.211275 182.433536 \r\nL 172.872331 176.228623 \r\nL 185.650378 168.685892 \r\nL 198.554082 161.700123 \r\nL 211.527115 153.689828 \r\nL 224.552144 143.958011 \r\nL 237.668166 131.286318 \r\nL 250.875181 117.443736 \r\nL 264.168856 101.616975 \r\nL 277.544859 84.321857 \r\nL 290.964191 69.675477 \r\nL 304.431187 58.181 \r\nL 317.902516 45.297281 \r\nL 331.39551 36.096319 \r\nL 344.905835 28.53381 \r\nL 358.42916 21.770351 \r\nL 371.956818 17.083636 \r\n\" style=\"fill:none;stroke:#1f77b4;stroke-linecap:square;stroke-width:1.5;\"/>\r\n   </g>\r\n   <g id=\"patch_3\">\r\n    <path d=\"M 52.375 224.64 \r\nL 52.375 7.2 \r\n\" style=\"fill:none;stroke:#000000;stroke-linecap:square;stroke-linejoin:miter;stroke-width:0.8;\"/>\r\n   </g>\r\n   <g id=\"patch_4\">\r\n    <path d=\"M 387.175 224.64 \r\nL 387.175 7.2 \r\n\" style=\"fill:none;stroke:#000000;stroke-linecap:square;stroke-linejoin:miter;stroke-width:0.8;\"/>\r\n   </g>\r\n   <g id=\"patch_5\">\r\n    <path d=\"M 52.375 224.64 \r\nL 387.175 224.64 \r\n\" style=\"fill:none;stroke:#000000;stroke-linecap:square;stroke-linejoin:miter;stroke-width:0.8;\"/>\r\n   </g>\r\n   <g id=\"patch_6\">\r\n    <path d=\"M 52.375 7.2 \r\nL 387.175 7.2 \r\n\" style=\"fill:none;stroke:#000000;stroke-linecap:square;stroke-linejoin:miter;stroke-width:0.8;\"/>\r\n   </g>\r\n  </g>\r\n </g>\r\n <defs>\r\n  <clipPath id=\"pb2e17051df\">\r\n   <rect height=\"217.44\" width=\"334.8\" x=\"52.375\" y=\"7.2\"/>\r\n  </clipPath>\r\n </defs>\r\n</svg>\r\n",
      "image/png": "[encoded data removed]"
     },
     "metadata": {
      "needs_background": "light"
     }
    }
   ],
   "source": [
    "nyt_df_w[nyt_df_w['county']=='Los Angeles']['cases'].plot()"
   ]
  },
  {
   "cell_type": "markdown",
   "metadata": {},
   "source": [
    "## engineer change columns, window sum, and smooth"
   ]
  },
  {
   "cell_type": "code",
   "execution_count": 27,
   "metadata": {},
   "outputs": [],
   "source": [
    "cols = ['cases', 'deaths', 'cases_per_100k', 'deaths_per_100k']\n",
    "\n",
    "def add_change_cols(df, cols, pre='new_', clip=False):\n",
    "    df = df.sort_values(by=['date', 'fips'])\n",
    "    new_cols = [pre + c for c in cols]\n",
    "    df[new_cols] = df[cols] - df.groupby(by='fips')[cols].shift()\n",
    "    df[new_cols] = df[new_cols].fillna(0)\n",
    "    df[new_cols] = df[new_cols].astype(int)\n",
    "    if clip:\n",
    "        df[new_cols] = df[new_cols].clip(lower=0)\n",
    "    return (df, new_cols)\n",
    "\n",
    "def add_window_cols(df, cols, window=7):\n",
    "    df = df.sort_values(by=['date', 'fips'])\n",
    "    new_cols = [c + '_' + str(window) + 'd' for c in cols]\n",
    "    col_dict = dict(zip(cols, new_cols))\n",
    "    df = (df.merge(df.sort_values(by=['date', 'fips'])\n",
    "            .groupby('fips')\n",
    "            .rolling(15, on='date', min_periods=0)[cols].sum()\n",
    "            .rename(columns=col_dict), on=['fips', 'date']))\n",
    "#     df[new_cols] = df[new_cols].astype(int)\n",
    "    return (df, new_cols)\n",
    "\n",
    "def add_savgol_cols(df, cols, window=7, clip=False):\n",
    "    def my_savgol(x, w):\n",
    "        if len(x) >= w:\n",
    "            return savgol_filter(x, w, 1)\n",
    "        else:\n",
    "            new_window = int(np.ceil(len(x) / 2) * 2 - 1)\n",
    "            if new_window <= 1:\n",
    "                return x\n",
    "            else:\n",
    "                return savgol_filter(x, new_window, 1)\n",
    "    df = df.sort_values(by=['date', 'fips'])\n",
    "    new_cols = [c + '_' + str(window) + 'sg' for c in cols]\n",
    "    df[new_cols] = df.groupby(by='fips')[cols].transform(lambda x: my_savgol(x, window))\n",
    "    if clip:\n",
    "        df[new_cols] = df[new_cols].clip(lower=0)\n",
    "    return (df, new_cols)\n",
    "\n",
    "def add_cols(df, cols, window, sg=True):\n",
    "    df, new_cols = add_change_cols(df, cols, pre='new_', clip=True)\n",
    "    df, cols_15d = add_window_cols(df, new_cols, window)\n",
    "    if sg:\n",
    "        df, new_cols_15sg = add_savgol_cols(df, new_cols, window, clip=True)\n",
    "    df, delta_new_cols = add_change_cols(df, new_cols, pre='delta_')\n",
    "    df, delta_cols_15d = add_window_cols(df, delta_new_cols, window)\n",
    "    if sg:\n",
    "        df, delta_new_cols_15sg = add_savgol_cols(df, delta_new_cols, window)\n",
    "\n",
    "    df['days'] = ((df['date'] - df['date'].max()) / np.timedelta64(1, 'D')).astype('int')\n",
    "    df['mortality_rate'] = df['deaths'] / nyt_df['cases']\n",
    "    df[f'mortality_rate_{window}d'] = df[f'new_deaths_{window}d'] / df[f'new_cases_{window}d']\n",
    "    df.loc[(df[f'new_deaths_{window}d'] ==0), f'mortality_rate_{window}d'] = 0\n",
    "\n",
    "    return df"
   ]
  },
  {
   "cell_type": "code",
   "execution_count": 28,
   "metadata": {},
   "outputs": [
    {
     "output_type": "execute_result",
     "data": {
      "text/plain": "        date       county       state   fips  cases  deaths  cases_per_100k  \\\n0 2020-01-22    Snohomish  Washington  53061      1       0        0.121642   \n1 2020-01-29     Maricopa     Arizona  04013      1       0        0.022294   \n2 2020-01-29  Los Angeles  California  06037      1       0        0.009961   \n3 2020-01-29       Orange  California  06059      1       0        0.031489   \n4 2020-01-29         Cook    Illinois  17031      1       0        0.019417   \n\n   deaths_per_100k  new_cases  new_deaths  ...  delta_new_deaths  \\\n0              0.0          0           0  ...                 0   \n1              0.0          0           0  ...                 0   \n2              0.0          0           0  ...                 0   \n3              0.0          0           0  ...                 0   \n4              0.0          0           0  ...                 0   \n\n   delta_new_cases_per_100k  delta_new_deaths_per_100k  delta_new_cases_2d  \\\n0                         0                          0                 0.0   \n1                         0                          0                 0.0   \n2                         0                          0                 0.0   \n3                         0                          0                 0.0   \n4                         0                          0                 0.0   \n\n   delta_new_deaths_2d  delta_new_cases_per_100k_2d  \\\n0                  0.0                          0.0   \n1                  0.0                          0.0   \n2                  0.0                          0.0   \n3                  0.0                          0.0   \n4                  0.0                          0.0   \n\n   delta_new_deaths_per_100k_2d  days  mortality_rate  mortality_rate_2d  \n0                           0.0  -231             0.0                0.0  \n1                           0.0  -224             0.0                0.0  \n2                           0.0  -224             0.0                0.0  \n3                           0.0  -224             0.0                0.0  \n4                           0.0  -224             0.0                0.0  \n\n[5 rows x 27 columns]",
      "text/html": "<div>\n<style scoped>\n    .dataframe tbody tr th:only-of-type {\n        vertical-align: middle;\n    }\n\n    .dataframe tbody tr th {\n        vertical-align: top;\n    }\n\n    .dataframe thead th {\n        text-align: right;\n    }\n</style>\n<table border=\"1\" class=\"dataframe\">\n  <thead>\n    <tr style=\"text-align: right;\">\n      <th></th>\n      <th>date</th>\n      <th>county</th>\n      <th>state</th>\n      <th>fips</th>\n      <th>cases</th>\n      <th>deaths</th>\n      <th>cases_per_100k</th>\n      <th>deaths_per_100k</th>\n      <th>new_cases</th>\n      <th>new_deaths</th>\n      <th>...</th>\n      <th>delta_new_deaths</th>\n      <th>delta_new_cases_per_100k</th>\n      <th>delta_new_deaths_per_100k</th>\n      <th>delta_new_cases_2d</th>\n      <th>delta_new_deaths_2d</th>\n      <th>delta_new_cases_per_100k_2d</th>\n      <th>delta_new_deaths_per_100k_2d</th>\n      <th>days</th>\n      <th>mortality_rate</th>\n      <th>mortality_rate_2d</th>\n    </tr>\n  </thead>\n  <tbody>\n    <tr>\n      <th>0</th>\n      <td>2020-01-22</td>\n      <td>Snohomish</td>\n      <td>Washington</td>\n      <td>53061</td>\n      <td>1</td>\n      <td>0</td>\n      <td>0.121642</td>\n      <td>0.0</td>\n      <td>0</td>\n      <td>0</td>\n      <td>...</td>\n      <td>0</td>\n      <td>0</td>\n      <td>0</td>\n      <td>0.0</td>\n      <td>0.0</td>\n      <td>0.0</td>\n      <td>0.0</td>\n      <td>-231</td>\n      <td>0.0</td>\n      <td>0.0</td>\n    </tr>\n    <tr>\n      <th>1</th>\n      <td>2020-01-29</td>\n      <td>Maricopa</td>\n      <td>Arizona</td>\n      <td>04013</td>\n      <td>1</td>\n      <td>0</td>\n      <td>0.022294</td>\n      <td>0.0</td>\n      <td>0</td>\n      <td>0</td>\n      <td>...</td>\n      <td>0</td>\n      <td>0</td>\n      <td>0</td>\n      <td>0.0</td>\n      <td>0.0</td>\n      <td>0.0</td>\n      <td>0.0</td>\n      <td>-224</td>\n      <td>0.0</td>\n      <td>0.0</td>\n    </tr>\n    <tr>\n      <th>2</th>\n      <td>2020-01-29</td>\n      <td>Los Angeles</td>\n      <td>California</td>\n      <td>06037</td>\n      <td>1</td>\n      <td>0</td>\n      <td>0.009961</td>\n      <td>0.0</td>\n      <td>0</td>\n      <td>0</td>\n      <td>...</td>\n      <td>0</td>\n      <td>0</td>\n      <td>0</td>\n      <td>0.0</td>\n      <td>0.0</td>\n      <td>0.0</td>\n      <td>0.0</td>\n      <td>-224</td>\n      <td>0.0</td>\n      <td>0.0</td>\n    </tr>\n    <tr>\n      <th>3</th>\n      <td>2020-01-29</td>\n      <td>Orange</td>\n      <td>California</td>\n      <td>06059</td>\n      <td>1</td>\n      <td>0</td>\n      <td>0.031489</td>\n      <td>0.0</td>\n      <td>0</td>\n      <td>0</td>\n      <td>...</td>\n      <td>0</td>\n      <td>0</td>\n      <td>0</td>\n      <td>0.0</td>\n      <td>0.0</td>\n      <td>0.0</td>\n      <td>0.0</td>\n      <td>-224</td>\n      <td>0.0</td>\n      <td>0.0</td>\n    </tr>\n    <tr>\n      <th>4</th>\n      <td>2020-01-29</td>\n      <td>Cook</td>\n      <td>Illinois</td>\n      <td>17031</td>\n      <td>1</td>\n      <td>0</td>\n      <td>0.019417</td>\n      <td>0.0</td>\n      <td>0</td>\n      <td>0</td>\n      <td>...</td>\n      <td>0</td>\n      <td>0</td>\n      <td>0</td>\n      <td>0.0</td>\n      <td>0.0</td>\n      <td>0.0</td>\n      <td>0.0</td>\n      <td>-224</td>\n      <td>0.0</td>\n      <td>0.0</td>\n    </tr>\n  </tbody>\n</table>\n<p>5 rows × 27 columns</p>\n</div>"
     },
     "metadata": {},
     "execution_count": 28
    }
   ],
   "source": [
    "nyt_df_w = add_cols(nyt_df_w, cols, 2, sg=False)\n",
    "nyt_df_w.head()"
   ]
  },
  {
   "cell_type": "code",
   "execution_count": null,
   "metadata": {},
   "outputs": [],
   "source": []
  },
  {
   "cell_type": "markdown",
   "metadata": {},
   "source": [
    "Incidentally, there is barely any time advantage to only processing new dates. Therefore, we'll keep the workflow to processing the entire dataframe."
   ]
  },
  {
   "cell_type": "code",
   "execution_count": null,
   "metadata": {
    "tags": []
   },
   "outputs": [],
   "source": [
    "print(nyt_df.columns)\n",
    "nyt_df.head()"
   ]
  },
  {
   "cell_type": "code",
   "execution_count": null,
   "metadata": {},
   "outputs": [],
   "source": [
    "nyt_df['days'] = ((nyt_df['date'] - nyt_df['date'].min()) / np.timedelta64(1, 'D')).astype('int')\n",
    "nyt_df['mortality_rate'] = nyt_df['deaths'] / nyt_df['cases']\n",
    "nyt_df['mortality_rate_15d'] = nyt_df['new_deaths_15d'] / nyt_df['new_cases_15d']"
   ]
  },
  {
   "cell_type": "code",
   "execution_count": null,
   "metadata": {},
   "outputs": [],
   "source": [
    "nyt_df['mortality_rate_15d'].describe()"
   ]
  },
  {
   "cell_type": "code",
   "execution_count": null,
   "metadata": {},
   "outputs": [],
   "source": [
    "nyt_df.loc[(nyt_df['mortality_rate_15d'] > 1), 'mortality_rate_15d'] = 1"
   ]
  },
  {
   "cell_type": "code",
   "execution_count": null,
   "metadata": {},
   "outputs": [],
   "source": [
    "nyt_df['mortality_rate_15d'].describe()"
   ]
  },
  {
   "cell_type": "code",
   "execution_count": null,
   "metadata": {},
   "outputs": [],
   "source": [
    "with open('../data/processed/nyt_df.p', 'wb') as file:\n",
    "    pickle.dump(nyt_df, file, protocol=pickle.HIGHEST_PROTOCOL)"
   ]
  },
  {
   "cell_type": "code",
   "execution_count": null,
   "metadata": {
    "tags": []
   },
   "outputs": [],
   "source": [
    "nyt_df_w = nyt_df[((datetime(2020, 9, 9) - nyt_df['date']) / timedelta(days=1)) % 7 == 0].drop([c for c in nyt_df.columns if 'delta' in c], axis=1)\n",
    "\n",
    "nyt_df_w.head()"
   ]
  },
  {
   "cell_type": "code",
   "execution_count": 29,
   "metadata": {},
   "outputs": [],
   "source": [
    "nyt_df_w.to_csv('../data/processed/nyt_df_w.csv', index=False)"
   ]
  },
  {
   "cell_type": "code",
   "execution_count": null,
   "metadata": {
    "tags": []
   },
   "outputs": [],
   "source": [
    "nyt_df[['date', 'county', 'state', 'fips', 'cases_per_100k']].info()"
   ]
  },
  {
   "cell_type": "markdown",
   "metadata": {},
   "source": [
    "# making clustered `nyt_df_ac`"
   ]
  },
  {
   "cell_type": "code",
   "execution_count": null,
   "metadata": {},
   "outputs": [],
   "source": [
    "# import os\n",
    "# import sys\n",
    "# module_path = os.path.abspath(os.path.join('..'))\n",
    "# if module_path not in sys.path:\n",
    "#     sys.path.append(module_path)"
   ]
  },
  {
   "cell_type": "code",
   "execution_count": null,
   "metadata": {},
   "outputs": [],
   "source": [
    "with open('../data/processed/geo_json_ac.json') as f:\n",
    "    geo_json_ac = json.load(f)"
   ]
  },
  {
   "cell_type": "code",
   "execution_count": null,
   "metadata": {
    "colab": {
     "base_uri": "https://localhost:8080/",
     "height": 204
    },
    "colab_type": "code",
    "id": "QEFxBFB5i1gS",
    "outputId": "39516789-23c0-40db-9882-acabe5aa58de",
    "tags": []
   },
   "outputs": [],
   "source": [
    "dem_df_ac = optimize(pd.read_csv('../data/processed/dem_df_ac.csv', \n",
    "                                 dtype={'fips':'str', 'cluster':'int'}))\n",
    "print(dem_df_ac.shape)\n",
    "dem_df_ac.head()"
   ]
  },
  {
   "cell_type": "code",
   "execution_count": null,
   "metadata": {
    "colab": {
     "base_uri": "https://localhost:8080/",
     "height": 111
    },
    "colab_type": "code",
    "id": "_iC3AMpiunQC",
    "outputId": "3f49a546-c981-443e-9939-f4362ff63a9a"
   },
   "outputs": [],
   "source": [
    "dem_df_ac.sort_values(by='total_pop').iloc[[0, -1]]"
   ]
  },
  {
   "cell_type": "code",
   "execution_count": null,
   "metadata": {
    "colab": {
     "base_uri": "https://localhost:8080/",
     "height": 111
    },
    "colab_type": "code",
    "id": "qCM00GHPn9qB",
    "outputId": "f8106d19-f1f3-4c62-ca66-21f58595cecd"
   },
   "outputs": [],
   "source": [
    "dem_df_ac.sort_values(by='pop_density').iloc[[0, -1]]"
   ]
  },
  {
   "cell_type": "markdown",
   "metadata": {
    "colab_type": "text",
    "id": "EiZSQomNobHw"
   },
   "source": [
    "There are several things to consider:\n",
    "\n",
    "- Raw numbers will show New York City and Los Angeles County with the highest numbers, all other factors being equal.\n",
    "- Reporting cases as a percentage (or as we'll use later, a per 100k) would better reflect the severity of infections.\n",
    "- However, a higher population density would likely make it easier to transmit the disease to another person. Looking at the day-to-day change in new cases could allow us to see how quickly the disease is spreading."
   ]
  },
  {
   "cell_type": "markdown",
   "metadata": {
    "colab_type": "text",
    "id": "kWMfxu0Zi1gX"
   },
   "source": [
    "The NYTimes dataset deals with New York City, Kansas City, and Joplin as their own entities. As such, they do not have valid `fips` codes; we must add our custom `fips` from our earlier census EDA."
   ]
  },
  {
   "cell_type": "code",
   "execution_count": null,
   "metadata": {
    "colab": {},
    "colab_type": "code",
    "id": "bK_hYzrui1gY"
   },
   "outputs": [],
   "source": [
    "nyt_df['fips'] = nyt_df['fips'].astype('object')\n",
    "nyt_df.loc[nyt_df['county'] == 'New York City','fips'] = '36NYC'\n",
    "nyt_df.loc[nyt_df['county'] == 'Kansas City','fips'] = '29KCM'\n",
    "nyt_df.loc[nyt_df['county'] == 'Joplin','fips'] = '29JOP'\n",
    "nyt_df['fips'] = nyt_df['fips'].astype('category')"
   ]
  },
  {
   "cell_type": "code",
   "execution_count": null,
   "metadata": {},
   "outputs": [],
   "source": [
    "nyt_df[nyt_df['fips']=='36NYC']"
   ]
  },
  {
   "cell_type": "markdown",
   "metadata": {
    "colab_type": "text",
    "id": "Ku-XanaCfK7R"
   },
   "source": [
    "# merge `nyt_df` and `pop_df` for feature engineering"
   ]
  },
  {
   "cell_type": "code",
   "execution_count": null,
   "metadata": {
    "tags": []
   },
   "outputs": [],
   "source": [
    "dem_df_to_merge = optimize(pd.read_csv('../data/processed/dem_df_to_merge.csv', \n",
    "                                 dtype={'fips':'str', 'cluster':'int'}))\n",
    "print(dem_df_to_merge.shape)\n",
    "dem_df_to_merge.head()"
   ]
  },
  {
   "cell_type": "markdown",
   "metadata": {},
   "source": [
    "To reduce the size of the resulting `csv`, we will only merge with the `tot_pop` column to engineer our per capita columns. We can merge with `pop_df` again when plotting our data."
   ]
  },
  {
   "cell_type": "code",
   "execution_count": null,
   "metadata": {
    "tags": []
   },
   "outputs": [],
   "source": [
    "df = nyt_df.merge(\n",
    "    dem_df_to_merge[['fips', 'cluster', 'state', 'county']], \n",
    "    on='fips', \n",
    "    suffixes=('_x','')\n",
    ")\n",
    "\n",
    "df = df.drop(['county_x', 'state_x'], axis=1)\n",
    "df = df.sort_values(by=['date', 'fips'])\n",
    "print(df.shape)\n",
    "df.head()"
   ]
  },
  {
   "cell_type": "code",
   "execution_count": null,
   "metadata": {},
   "outputs": [],
   "source": [
    "df_clustered = df.groupby(by=['state', 'cluster', 'date']).agg(\n",
    "    cases=('cases', sum),\n",
    "    deaths=('deaths', sum)\n",
    ").dropna().reset_index().astype({'cases': 'int', 'deaths':'int'})\n",
    "\n",
    "df_clustered.head()"
   ]
  },
  {
   "cell_type": "code",
   "execution_count": null,
   "metadata": {
    "tags": []
   },
   "outputs": [],
   "source": [
    "df = df_clustered.merge(dem_df_ac, on=['state', 'cluster'], suffixes=('_x',''))\n",
    "df[['cases_per_100k', 'deaths_per_100k']] = df[['cases', 'deaths']].div(df['total_pop'], axis=0) * 100_000\n",
    "df = df.sort_values(by=['date', 'fips'])\n",
    "\n",
    "print(df.shape)\n",
    "df.head()"
   ]
  },
  {
   "cell_type": "code",
   "execution_count": null,
   "metadata": {},
   "outputs": [],
   "source": [
    "cols = ['cases', 'deaths', 'cases_per_100k', 'deaths_per_100k']\n",
    "\n",
    "def add_change_cols(df, cols, pre='new_', clip=False):\n",
    "    df = df.sort_values(by=['date', 'fips'])\n",
    "    new_cols = [pre + c for c in cols]\n",
    "    df[new_cols] = df[cols] - df.groupby(by='fips')[cols].shift()\n",
    "    df[new_cols] = df[new_cols].fillna(0)\n",
    "    if clip:\n",
    "        df[new_cols] = df[new_cols].clip(lower=0)\n",
    "    return (df, new_cols)\n",
    "\n",
    "def add_savgol_cols(df, cols, window=7, clip=False):\n",
    "    def my_savgol(x, w):\n",
    "        if len(x) >= w:\n",
    "            return savgol_filter(x, w, 1)\n",
    "        else:\n",
    "            new_window = int(np.ceil(len(x) / 2) * 2 - 1)\n",
    "            if new_window <= 1:\n",
    "                return x\n",
    "            else:\n",
    "                return savgol_filter(x, new_window, 1)\n",
    "    df = df.sort_values(by=['date', 'fips'])\n",
    "    cols_d = [c + '_' + str(window) + 'sg' for c in cols]\n",
    "    df[cols_d] = df.groupby(by='fips')[cols].transform(lambda x: my_savgol(x, window))\n",
    "    if clip:\n",
    "        df[cols_d] = df[cols_d].clip(lower=0)\n",
    "    return (df, cols_d)\n",
    "\n",
    "df, new_cols = add_change_cols(df, cols, pre='new_', clip=True)\n",
    "df, new_cols_7sg = add_savgol_cols(df, new_cols, clip=True)\n",
    "df, new_cols_15sg = add_savgol_cols(df, new_cols, window=15, clip=True)\n",
    "df, delta_new_cols = add_change_cols(df, new_cols, pre='delta_')\n",
    "df, delta_new_cols_7sg = add_savgol_cols(df, delta_new_cols)\n",
    "df, delta_new_cols_15sg = add_savgol_cols(df, delta_new_cols, window=15)\n",
    "\n",
    "print(df.columns)\n",
    "df.head()"
   ]
  },
  {
   "cell_type": "code",
   "execution_count": null,
   "metadata": {},
   "outputs": [],
   "source": [
    "county = 'Los Angeles'\n",
    "plt.plot(np.arange(len(df[df['county'] == county])), 'new_cases_per_100k', data=df[df['county'] == county], color='gray')\n",
    "plt.plot(np.arange(len(df[df['county'] == county])), 'new_cases_per_100k_7sg', data=df[df['county'] == county], color='red')\n",
    "plt.plot(np.arange(len(df[df['county'] == county])), 'new_cases_per_100k_15sg', data=df[df['county'] == county], color='blue')"
   ]
  },
  {
   "cell_type": "code",
   "execution_count": null,
   "metadata": {},
   "outputs": [],
   "source": [
    "county = 'New York City'\n",
    "plt.plot(np.arange(len(df[df['county'] == county])), 'new_cases_per_100k', data=df[df['county'] == county], color='gray')\n",
    "plt.plot(np.arange(len(df[df['county'] == county])), 'new_cases_per_100k_7sg', data=df[df['county'] == county], color='red')\n",
    "plt.plot(np.arange(len(df[df['county'] == county])), 'new_cases_per_100k_15sg', data=df[df['county'] == county], color='blue')"
   ]
  }
 ],
 "metadata": {
  "colab": {
   "collapsed_sections": [],
   "include_colab_link": true,
   "name": "nyt-covid-data-county.ipynb",
   "provenance": []
  },
  "kernelspec": {
   "display_name": "Python 3",
   "language": "python",
   "name": "python3"
  },
  "language_info": {
   "codemirror_mode": {
    "name": "ipython",
    "version": 3
   },
   "file_extension": ".py",
   "mimetype": "text/x-python",
   "name": "python",
   "nbconvert_exporter": "python",
   "pygments_lexer": "ipython3",
   "version": "3.7.7-final"
  }
 },
 "nbformat": 4,
 "nbformat_minor": 4
}