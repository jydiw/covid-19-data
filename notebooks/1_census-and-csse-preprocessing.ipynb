{
 "cells": [
  {
   "cell_type": "markdown",
   "metadata": {},
   "source": [
    "# Census and CSSE Preprocessing"
   ]
  },
  {
   "cell_type": "markdown",
   "metadata": {},
   "source": [
    "The goal of this notebook is to obtain and organize the following county-level data:\r\n",
    "\r\n",
    "- nominal data: state, county, fips\r\n",
    "- census data: \r\n",
    "  - total population\r\n",
    "  - ethnic population(s)\r\n",
    "  - voting statistics\r\n",
    "  - median income\r\n",
    "  - educational attainment\r\n",
    "- geographic data (from GeoJSON): \r\n",
    "  - census area\r\n",
    "  - latitude/longitude\r\n",
    "\r\n",
    "The statistics gathered in this notebook will only need to be updated once the 2020 Census information is released to the public."
   ]
  },
  {
   "cell_type": "code",
   "execution_count": 93,
   "metadata": {},
   "outputs": [],
   "source": [
    "# standard EDA\r\n",
    "import numpy as np\r\n",
    "import pandas as pd\r\n",
    "\r\n",
    "# processing geodata\r\n",
    "import geopandas as gp\r\n",
    "import pickle               # saving to pickle instead of csv\r\n",
    "from scipy import sparse\r\n",
    "from scipy.signal import savgol_filter          # fast smoothing of data\r\n",
    "from shapely.geometry import asShape, Polygon\r\n",
    "\r\n",
    "# opening external coordinates\r\n",
    "import json\r\n",
    "\r\n",
    "# opening urls\r\n",
    "from urllib.request import urlopen\r\n",
    "\r\n",
    "# pd.options.display.max_rows = 150\r\n",
    "# pd.options.display.max_columns = 150"
   ]
  },
  {
   "cell_type": "markdown",
   "metadata": {
    "colab_type": "text",
    "id": "J39gYq9cfK6H"
   },
   "source": [
    "# 1. import census data from `census.gov`"
   ]
  },
  {
   "cell_type": "markdown",
   "metadata": {
    "colab_type": "text",
    "id": "womy4Yi5C_sT"
   },
   "source": [
    "2019 population estimates can be collected from [census.gov](https://www.census.gov/data/datasets/time-series/demo/popest/2010s-counties-total.html). For the most current estimates, we will only save data from `YEAR == 12` and `AGEGRP == 0` ([data dictionary](https://www2.census.gov/programs-surveys/popest/technical-documentation/file-layouts/2010-2019/cc-est2019-alldata.pdf))."
   ]
  },
  {
   "cell_type": "code",
   "execution_count": 94,
   "metadata": {},
   "outputs": [
    {
     "data": {
      "text/html": "<div>\n<style scoped>\n    .dataframe tbody tr th:only-of-type {\n        vertical-align: middle;\n    }\n\n    .dataframe tbody tr th {\n        vertical-align: top;\n    }\n\n    .dataframe thead th {\n        text-align: right;\n    }\n</style>\n<table border=\"1\" class=\"dataframe\">\n  <thead>\n    <tr style=\"text-align: right;\">\n      <th></th>\n      <th>sumlev</th>\n      <th>state_fips</th>\n      <th>state</th>\n      <th>county</th>\n      <th>agegrp</th>\n      <th>tot_pop</th>\n      <th>tot_male</th>\n      <th>tot_female</th>\n      <th>tot_pop_white_male</th>\n      <th>tot_pop_white_female</th>\n      <th>...</th>\n      <th>tot_pop_native_female</th>\n      <th>tot_pop_asian_male</th>\n      <th>tot_pop_asian_female</th>\n      <th>tot_pop_pacific_male</th>\n      <th>tot_pop_pacific_female</th>\n      <th>tot_pop_twoplus_male</th>\n      <th>tot_pop_twoplus_female</th>\n      <th>tot_pop_hispanic_male</th>\n      <th>tot_pop_hispanic_female</th>\n      <th>fips</th>\n    </tr>\n  </thead>\n  <tbody>\n    <tr>\n      <th>0</th>\n      <td>050</td>\n      <td>01</td>\n      <td>Alabama</td>\n      <td>Autauga County</td>\n      <td>0</td>\n      <td>55869</td>\n      <td>27092</td>\n      <td>28777</td>\n      <td>20138</td>\n      <td>21077</td>\n      <td>...</td>\n      <td>138</td>\n      <td>282</td>\n      <td>364</td>\n      <td>20</td>\n      <td>20</td>\n      <td>492</td>\n      <td>464</td>\n      <td>884</td>\n      <td>787</td>\n      <td>01001</td>\n    </tr>\n    <tr>\n      <th>1</th>\n      <td>050</td>\n      <td>01</td>\n      <td>Alabama</td>\n      <td>Autauga County</td>\n      <td>1</td>\n      <td>3277</td>\n      <td>1713</td>\n      <td>1564</td>\n      <td>1180</td>\n      <td>1072</td>\n      <td>...</td>\n      <td>6</td>\n      <td>23</td>\n      <td>19</td>\n      <td>2</td>\n      <td>3</td>\n      <td>85</td>\n      <td>64</td>\n      <td>86</td>\n      <td>60</td>\n      <td>01001</td>\n    </tr>\n    <tr>\n      <th>2</th>\n      <td>050</td>\n      <td>01</td>\n      <td>Alabama</td>\n      <td>Autauga County</td>\n      <td>2</td>\n      <td>3465</td>\n      <td>1787</td>\n      <td>1678</td>\n      <td>1210</td>\n      <td>1134</td>\n      <td>...</td>\n      <td>8</td>\n      <td>16</td>\n      <td>25</td>\n      <td>0</td>\n      <td>1</td>\n      <td>78</td>\n      <td>81</td>\n      <td>88</td>\n      <td>70</td>\n      <td>01001</td>\n    </tr>\n    <tr>\n      <th>3</th>\n      <td>050</td>\n      <td>01</td>\n      <td>Alabama</td>\n      <td>Autauga County</td>\n      <td>3</td>\n      <td>3851</td>\n      <td>1977</td>\n      <td>1874</td>\n      <td>1362</td>\n      <td>1285</td>\n      <td>...</td>\n      <td>9</td>\n      <td>17</td>\n      <td>24</td>\n      <td>0</td>\n      <td>3</td>\n      <td>66</td>\n      <td>65</td>\n      <td>94</td>\n      <td>79</td>\n      <td>01001</td>\n    </tr>\n    <tr>\n      <th>4</th>\n      <td>050</td>\n      <td>01</td>\n      <td>Alabama</td>\n      <td>Autauga County</td>\n      <td>4</td>\n      <td>3659</td>\n      <td>1854</td>\n      <td>1805</td>\n      <td>1291</td>\n      <td>1272</td>\n      <td>...</td>\n      <td>0</td>\n      <td>21</td>\n      <td>13</td>\n      <td>3</td>\n      <td>3</td>\n      <td>43</td>\n      <td>46</td>\n      <td>63</td>\n      <td>74</td>\n      <td>01001</td>\n    </tr>\n  </tbody>\n</table>\n<p>5 rows × 23 columns</p>\n</div>",
      "text/plain": "  sumlev state_fips    state          county  agegrp  tot_pop  tot_male  \\\n0    050         01  Alabama  Autauga County       0    55869     27092   \n1    050         01  Alabama  Autauga County       1     3277      1713   \n2    050         01  Alabama  Autauga County       2     3465      1787   \n3    050         01  Alabama  Autauga County       3     3851      1977   \n4    050         01  Alabama  Autauga County       4     3659      1854   \n\n   tot_female  tot_pop_white_male  tot_pop_white_female  ...  \\\n0       28777               20138                 21077  ...   \n1        1564                1180                  1072  ...   \n2        1678                1210                  1134  ...   \n3        1874                1362                  1285  ...   \n4        1805                1291                  1272  ...   \n\n   tot_pop_native_female  tot_pop_asian_male  tot_pop_asian_female  \\\n0                    138                 282                   364   \n1                      6                  23                    19   \n2                      8                  16                    25   \n3                      9                  17                    24   \n4                      0                  21                    13   \n\n   tot_pop_pacific_male  tot_pop_pacific_female  tot_pop_twoplus_male  \\\n0                    20                      20                   492   \n1                     2                       3                    85   \n2                     0                       1                    78   \n3                     0                       3                    66   \n4                     3                       3                    43   \n\n   tot_pop_twoplus_female  tot_pop_hispanic_male  tot_pop_hispanic_female  \\\n0                     464                    884                      787   \n1                      64                     86                       60   \n2                      81                     88                       70   \n3                      65                     94                       79   \n4                      46                     63                       74   \n\n    fips  \n0  01001  \n1  01001  \n2  01001  \n3  01001  \n4  01001  \n\n[5 rows x 23 columns]"
     },
     "execution_count": 94,
     "metadata": {},
     "output_type": "execute_result"
    }
   ],
   "source": [
    "raw_eth_cols = ['TOT', 'NHWA', 'NHBA', 'NHIA', 'NHAA', 'NHNA', 'NHTOM', 'H']\r\n",
    "sex_cols = ['_MALE', '_FEMALE']\r\n",
    "es_cols = [e+s for e in raw_eth_cols for s in sex_cols]\r\n",
    "\r\n",
    "pop_cols = ['SUMLEV', 'STATE', 'COUNTY', 'STNAME', 'CTYNAME', 'YEAR', 'AGEGRP', 'TOT_POP']\\\r\n",
    "       + es_cols\r\n",
    "\r\n",
    "pop_df = pd.read_csv(\r\n",
    "  '../data/external/cc-est2019-alldata.csv',\r\n",
    "  encoding='latin-1',     # to avoid unicode error\r\n",
    "  usecols=pop_cols,       # it's a big file, only import certain columns\r\n",
    "  dtype={'SUMLEV': 'str',   # these are FIPS codes\r\n",
    "       'STATE':'str',    \r\n",
    "       'COUNTY':'str'},\r\n",
    ")\r\n",
    "\r\n",
    "# mask for 2019 estimates (12)\r\n",
    "pop_df = pop_df.loc[(pop_df['YEAR'] == 12)]  \r\n",
    "pop_df = pop_df.drop(columns=['YEAR'])\r\n",
    "\r\n",
    "# rename columns to better-match nytimes data (and personal preference)\r\n",
    "pop_df = pop_df.rename(\r\n",
    "  columns={\r\n",
    "    'STATE':'state_fips',\r\n",
    "    'COUNTY':'county_fips',\r\n",
    "    'STNAME':'state',\r\n",
    "    'CTYNAME':'county',\r\n",
    "  }\r\n",
    ")\r\n",
    "\r\n",
    "# not sure if we need this level of granularity but we can keep it for now\r\n",
    "eth_cols = ['tot_pop_white', 'tot_pop_black', 'tot_pop_native', 'tot_pop_asian', \r\n",
    "      'tot_pop_pacific', 'tot_pop_twoplus', 'tot_pop_hispanic']\r\n",
    "es_cols_2 = [(e+s).lower() for e in eth_cols for s in sex_cols]\r\n",
    "pop_df = pop_df.rename(\r\n",
    "  columns=dict(zip(es_cols[2:], es_cols_2))\r\n",
    ")\r\n",
    "\r\n",
    "pop_df.columns = pop_df.columns.str.lower()\r\n",
    "\r\n",
    "# nytimes fips is 5-digit combo of state and county fips\r\n",
    "pop_df['fips'] = pop_df['state_fips'] + pop_df['county_fips']\r\n",
    "pop_df = pop_df.drop(columns=['county_fips'])\r\n",
    "\r\n",
    "pop_df = pop_df.reset_index(drop=True)\r\n",
    "\r\n",
    "pop_df.head()"
   ]
  },
  {
   "cell_type": "code",
   "execution_count": 95,
   "metadata": {
    "tags": []
   },
   "outputs": [
    {
     "name": "stdout",
     "output_type": "stream",
     "text": [
      "<class 'pandas.core.frame.DataFrame'>\n",
      "RangeIndex: 59698 entries, 0 to 59697\n",
      "Data columns (total 23 columns):\n",
      " #   Column                   Non-Null Count  Dtype \n",
      "---  ------                   --------------  ----- \n",
      " 0   sumlev                   59698 non-null  object\n",
      " 1   state_fips               59698 non-null  object\n",
      " 2   state                    59698 non-null  object\n",
      " 3   county                   59698 non-null  object\n",
      " 4   agegrp                   59698 non-null  int64 \n",
      " 5   tot_pop                  59698 non-null  int64 \n",
      " 6   tot_male                 59698 non-null  int64 \n",
      " 7   tot_female               59698 non-null  int64 \n",
      " 8   tot_pop_white_male       59698 non-null  int64 \n",
      " 9   tot_pop_white_female     59698 non-null  int64 \n",
      " 10  tot_pop_black_male       59698 non-null  int64 \n",
      " 11  tot_pop_black_female     59698 non-null  int64 \n",
      " 12  tot_pop_native_male      59698 non-null  int64 \n",
      " 13  tot_pop_native_female    59698 non-null  int64 \n",
      " 14  tot_pop_asian_male       59698 non-null  int64 \n",
      " 15  tot_pop_asian_female     59698 non-null  int64 \n",
      " 16  tot_pop_pacific_male     59698 non-null  int64 \n",
      " 17  tot_pop_pacific_female   59698 non-null  int64 \n",
      " 18  tot_pop_twoplus_male     59698 non-null  int64 \n",
      " 19  tot_pop_twoplus_female   59698 non-null  int64 \n",
      " 20  tot_pop_hispanic_male    59698 non-null  int64 \n",
      " 21  tot_pop_hispanic_female  59698 non-null  int64 \n",
      " 22  fips                     59698 non-null  object\n",
      "dtypes: int64(18), object(5)\n",
      "memory usage: 10.5+ MB\n"
     ]
    }
   ],
   "source": [
    "pop_df.info()"
   ]
  },
  {
   "cell_type": "code",
   "execution_count": 96,
   "metadata": {},
   "outputs": [
    {
     "data": {
      "text/html": "<div>\n<style scoped>\n    .dataframe tbody tr th:only-of-type {\n        vertical-align: middle;\n    }\n\n    .dataframe tbody tr th {\n        vertical-align: top;\n    }\n\n    .dataframe thead th {\n        text-align: right;\n    }\n</style>\n<table border=\"1\" class=\"dataframe\">\n  <thead>\n    <tr style=\"text-align: right;\">\n      <th></th>\n      <th>sumlev</th>\n      <th>state_fips</th>\n      <th>state</th>\n      <th>county</th>\n      <th>fips</th>\n      <th>agegrp</th>\n      <th>tot_pop</th>\n      <th>tot_male</th>\n      <th>tot_female</th>\n      <th>tot_pop_white_male</th>\n      <th>...</th>\n      <th>tot_pop_native_male</th>\n      <th>tot_pop_native_female</th>\n      <th>tot_pop_asian_male</th>\n      <th>tot_pop_asian_female</th>\n      <th>tot_pop_pacific_male</th>\n      <th>tot_pop_pacific_female</th>\n      <th>tot_pop_twoplus_male</th>\n      <th>tot_pop_twoplus_female</th>\n      <th>tot_pop_hispanic_male</th>\n      <th>tot_pop_hispanic_female</th>\n    </tr>\n  </thead>\n  <tbody>\n    <tr>\n      <th>0</th>\n      <td>050</td>\n      <td>01</td>\n      <td>Alabama</td>\n      <td>Autauga</td>\n      <td>01001</td>\n      <td>0</td>\n      <td>55869</td>\n      <td>27092</td>\n      <td>28777</td>\n      <td>20138</td>\n      <td>...</td>\n      <td>105</td>\n      <td>138</td>\n      <td>282</td>\n      <td>364</td>\n      <td>20</td>\n      <td>20</td>\n      <td>492</td>\n      <td>464</td>\n      <td>884</td>\n      <td>787</td>\n    </tr>\n    <tr>\n      <th>1</th>\n      <td>050</td>\n      <td>01</td>\n      <td>Alabama</td>\n      <td>Autauga</td>\n      <td>01001</td>\n      <td>1</td>\n      <td>3277</td>\n      <td>1713</td>\n      <td>1564</td>\n      <td>1180</td>\n      <td>...</td>\n      <td>3</td>\n      <td>6</td>\n      <td>23</td>\n      <td>19</td>\n      <td>2</td>\n      <td>3</td>\n      <td>85</td>\n      <td>64</td>\n      <td>86</td>\n      <td>60</td>\n    </tr>\n    <tr>\n      <th>2</th>\n      <td>050</td>\n      <td>01</td>\n      <td>Alabama</td>\n      <td>Autauga</td>\n      <td>01001</td>\n      <td>2</td>\n      <td>3465</td>\n      <td>1787</td>\n      <td>1678</td>\n      <td>1210</td>\n      <td>...</td>\n      <td>7</td>\n      <td>8</td>\n      <td>16</td>\n      <td>25</td>\n      <td>0</td>\n      <td>1</td>\n      <td>78</td>\n      <td>81</td>\n      <td>88</td>\n      <td>70</td>\n    </tr>\n    <tr>\n      <th>3</th>\n      <td>050</td>\n      <td>01</td>\n      <td>Alabama</td>\n      <td>Autauga</td>\n      <td>01001</td>\n      <td>3</td>\n      <td>3851</td>\n      <td>1977</td>\n      <td>1874</td>\n      <td>1362</td>\n      <td>...</td>\n      <td>3</td>\n      <td>9</td>\n      <td>17</td>\n      <td>24</td>\n      <td>0</td>\n      <td>3</td>\n      <td>66</td>\n      <td>65</td>\n      <td>94</td>\n      <td>79</td>\n    </tr>\n    <tr>\n      <th>4</th>\n      <td>050</td>\n      <td>01</td>\n      <td>Alabama</td>\n      <td>Autauga</td>\n      <td>01001</td>\n      <td>4</td>\n      <td>3659</td>\n      <td>1854</td>\n      <td>1805</td>\n      <td>1291</td>\n      <td>...</td>\n      <td>4</td>\n      <td>0</td>\n      <td>21</td>\n      <td>13</td>\n      <td>3</td>\n      <td>3</td>\n      <td>43</td>\n      <td>46</td>\n      <td>63</td>\n      <td>74</td>\n    </tr>\n  </tbody>\n</table>\n<p>5 rows × 23 columns</p>\n</div>",
      "text/plain": "  sumlev state_fips    state   county   fips  agegrp  tot_pop  tot_male  \\\n0    050         01  Alabama  Autauga  01001       0    55869     27092   \n1    050         01  Alabama  Autauga  01001       1     3277      1713   \n2    050         01  Alabama  Autauga  01001       2     3465      1787   \n3    050         01  Alabama  Autauga  01001       3     3851      1977   \n4    050         01  Alabama  Autauga  01001       4     3659      1854   \n\n   tot_female  tot_pop_white_male  ...  tot_pop_native_male  \\\n0       28777               20138  ...                  105   \n1        1564                1180  ...                    3   \n2        1678                1210  ...                    7   \n3        1874                1362  ...                    3   \n4        1805                1291  ...                    4   \n\n   tot_pop_native_female  tot_pop_asian_male  tot_pop_asian_female  \\\n0                    138                 282                   364   \n1                      6                  23                    19   \n2                      8                  16                    25   \n3                      9                  17                    24   \n4                      0                  21                    13   \n\n   tot_pop_pacific_male  tot_pop_pacific_female  tot_pop_twoplus_male  \\\n0                    20                      20                   492   \n1                     2                       3                    85   \n2                     0                       1                    78   \n3                     0                       3                    66   \n4                     3                       3                    43   \n\n   tot_pop_twoplus_female  tot_pop_hispanic_male  tot_pop_hispanic_female  \n0                     464                    884                      787  \n1                      64                     86                       60  \n2                      81                     88                       70  \n3                      65                     94                       79  \n4                      46                     63                       74  \n\n[5 rows x 23 columns]"
     },
     "execution_count": 96,
     "metadata": {},
     "output_type": "execute_result"
    }
   ],
   "source": [
    "# remove descriptive terms from county names\r\n",
    "# we'll use this again so it's nice to have a function\r\n",
    "def remove_county_terms(s):\r\n",
    "  county_terms = ['County', 'Parish', 'Municipality']\r\n",
    "  for term in county_terms:\r\n",
    "    s = s.str.replace(' ' + term, '')\r\n",
    "  return s\r\n",
    "\r\n",
    "pop_df[['county']] = pop_df[['county']].apply(remove_county_terms)\r\n",
    "\r\n",
    "# personally like ordinal columns listed first\r\n",
    "pop_cols = pop_df.select_dtypes(exclude='number').columns.tolist()\\\r\n",
    "       + pop_df.select_dtypes(include='number').columns.tolist()\r\n",
    "pop_df = pop_df[pop_cols]\r\n",
    "pop_df.head()"
   ]
  },
  {
   "cell_type": "code",
   "execution_count": 97,
   "metadata": {},
   "outputs": [
    {
     "data": {
      "text/plain": "count    59690.0\nmean         1.0\nstd          0.0\nmin          1.0\n25%          1.0\n50%          1.0\n75%          1.0\nmax          1.0\ndtype: float64"
     },
     "execution_count": 97,
     "metadata": {},
     "output_type": "execute_result"
    }
   ],
   "source": [
    "# check to see if we have all ethnic groups covered\r\n",
    "(pop_df.iloc[:, 9:].sum(axis=1) / pop_df['tot_pop']).describe()"
   ]
  },
  {
   "cell_type": "code",
   "execution_count": 98,
   "metadata": {},
   "outputs": [
    {
     "data": {
      "text/plain": "Index(['sumlev', 'state_fips', 'state', 'county', 'fips', 'agegrp', 'tot_pop',\n       'tot_male', 'tot_female', 'tot_pop_white_male', 'tot_pop_white_female',\n       'tot_pop_black_male', 'tot_pop_black_female', 'tot_pop_native_male',\n       'tot_pop_native_female', 'tot_pop_asian_male', 'tot_pop_asian_female',\n       'tot_pop_pacific_male', 'tot_pop_pacific_female',\n       'tot_pop_twoplus_male', 'tot_pop_twoplus_female',\n       'tot_pop_hispanic_male', 'tot_pop_hispanic_female', 'tot_pop_white',\n       'tot_pop_black', 'tot_pop_native', 'tot_pop_asian', 'tot_pop_pacific',\n       'tot_pop_twoplus', 'tot_pop_hispanic'],\n      dtype='object')"
     },
     "execution_count": 98,
     "metadata": {},
     "output_type": "execute_result"
    }
   ],
   "source": [
    "# add sex-aggregated columns\r\n",
    "eth_cols_3 = [e.lower() for e in eth_cols]\r\n",
    "\r\n",
    "for e in eth_cols_3:\r\n",
    "  pop_df.loc[:, e] =\\\r\n",
    "  pop_df.loc[:, e+'_male'] + pop_df.loc[:, e+'_female']\r\n",
    "  \r\n",
    "pop_df.columns"
   ]
  },
  {
   "cell_type": "markdown",
   "metadata": {},
   "source": [
    "### calculating age coefficient and adding percentages"
   ]
  },
  {
   "cell_type": "code",
   "execution_count": 99,
   "metadata": {},
   "outputs": [],
   "source": [
    "# engineer an 'age' column from the age group bins\r\n",
    "def age_coefficient(df):\r\n",
    "  \r\n",
    "  grouped = df[df['agegrp']!=0].groupby(by='fips')\r\n",
    "  cols = df.select_dtypes(include='number').columns.tolist()\r\n",
    "  cols.remove('agegrp')\r\n",
    "  age_cols = ['age_' + c[4:] for c in cols]\r\n",
    "  \r\n",
    "  def _age(g):\r\n",
    "    return (g['agegrp'] * g.loc[:, cols].T).sum(axis=1)\\\r\n",
    "         / g.loc[:, cols].sum()\r\n",
    "  \r\n",
    "  adf = pd.DataFrame(grouped.apply(_age).values, columns=age_cols)\r\n",
    "  df = df[df['agegrp']==0].drop(columns='agegrp').reset_index(drop=True)\r\n",
    "  \r\n",
    "  return pd.concat([df, adf], axis=1)"
   ]
  },
  {
   "cell_type": "code",
   "execution_count": 100,
   "metadata": {},
   "outputs": [],
   "source": [
    "pop_df = pop_df.pipe(age_coefficient)"
   ]
  },
  {
   "cell_type": "markdown",
   "metadata": {},
   "source": [
    "FUTURE WORK: impute numbers using neighbors"
   ]
  },
  {
   "cell_type": "code",
   "execution_count": 101,
   "metadata": {},
   "outputs": [
    {
     "data": {
      "text/html": "<div>\n<style scoped>\n    .dataframe tbody tr th:only-of-type {\n        vertical-align: middle;\n    }\n\n    .dataframe tbody tr th {\n        vertical-align: top;\n    }\n\n    .dataframe thead th {\n        text-align: right;\n    }\n</style>\n<table border=\"1\" class=\"dataframe\">\n  <thead>\n    <tr style=\"text-align: right;\">\n      <th></th>\n      <th>sumlev</th>\n      <th>state_fips</th>\n      <th>state</th>\n      <th>county</th>\n      <th>fips</th>\n      <th>tot_pop</th>\n      <th>tot_male</th>\n      <th>tot_female</th>\n      <th>tot_pop_white_male</th>\n      <th>tot_pop_white_female</th>\n      <th>...</th>\n      <th>age_pop_twoplus_female</th>\n      <th>age_pop_hispanic_male</th>\n      <th>age_pop_hispanic_female</th>\n      <th>age_pop_white</th>\n      <th>age_pop_black</th>\n      <th>age_pop_native</th>\n      <th>age_pop_asian</th>\n      <th>age_pop_pacific</th>\n      <th>age_pop_twoplus</th>\n      <th>age_pop_hispanic</th>\n    </tr>\n  </thead>\n  <tbody>\n    <tr>\n      <th>3137</th>\n      <td>050</td>\n      <td>56</td>\n      <td>Wyoming</td>\n      <td>Sweetwater</td>\n      <td>56037</td>\n      <td>42343</td>\n      <td>21808</td>\n      <td>20535</td>\n      <td>17223</td>\n      <td>16338</td>\n      <td>...</td>\n      <td>5.368715</td>\n      <td>6.708533</td>\n      <td>6.691400</td>\n      <td>8.249993</td>\n      <td>7.766932</td>\n      <td>8.125373</td>\n      <td>7.314634</td>\n      <td>7.381818</td>\n      <td>5.692090</td>\n      <td>6.700384</td>\n    </tr>\n    <tr>\n      <th>3138</th>\n      <td>050</td>\n      <td>56</td>\n      <td>Wyoming</td>\n      <td>Teton</td>\n      <td>56039</td>\n      <td>23464</td>\n      <td>12142</td>\n      <td>11322</td>\n      <td>9832</td>\n      <td>9168</td>\n      <td>...</td>\n      <td>6.362963</td>\n      <td>6.478238</td>\n      <td>6.364072</td>\n      <td>9.129947</td>\n      <td>9.055172</td>\n      <td>9.121622</td>\n      <td>7.544974</td>\n      <td>9.666667</td>\n      <td>6.196610</td>\n      <td>6.424592</td>\n    </tr>\n    <tr>\n      <th>3139</th>\n      <td>050</td>\n      <td>56</td>\n      <td>Wyoming</td>\n      <td>Uinta</td>\n      <td>56041</td>\n      <td>20226</td>\n      <td>10224</td>\n      <td>10002</td>\n      <td>8935</td>\n      <td>8722</td>\n      <td>...</td>\n      <td>5.892308</td>\n      <td>6.529666</td>\n      <td>6.106992</td>\n      <td>8.239961</td>\n      <td>6.706349</td>\n      <td>8.451389</td>\n      <td>7.978261</td>\n      <td>5.916667</td>\n      <td>6.650641</td>\n      <td>6.316408</td>\n    </tr>\n    <tr>\n      <th>3140</th>\n      <td>050</td>\n      <td>56</td>\n      <td>Wyoming</td>\n      <td>Washakie</td>\n      <td>56043</td>\n      <td>7805</td>\n      <td>3963</td>\n      <td>3842</td>\n      <td>3266</td>\n      <td>3151</td>\n      <td>...</td>\n      <td>7.318182</td>\n      <td>7.125664</td>\n      <td>6.983425</td>\n      <td>9.446782</td>\n      <td>9.342105</td>\n      <td>9.490566</td>\n      <td>9.054545</td>\n      <td>NaN</td>\n      <td>7.171642</td>\n      <td>7.055957</td>\n    </tr>\n    <tr>\n      <th>3141</th>\n      <td>050</td>\n      <td>56</td>\n      <td>Wyoming</td>\n      <td>Weston</td>\n      <td>56045</td>\n      <td>6927</td>\n      <td>3624</td>\n      <td>3303</td>\n      <td>3273</td>\n      <td>2963</td>\n      <td>...</td>\n      <td>5.791045</td>\n      <td>7.819355</td>\n      <td>6.530769</td>\n      <td>9.333387</td>\n      <td>8.400000</td>\n      <td>8.177570</td>\n      <td>10.168142</td>\n      <td>9.000000</td>\n      <td>6.221429</td>\n      <td>7.231579</td>\n    </tr>\n  </tbody>\n</table>\n<p>5 rows × 53 columns</p>\n</div>",
      "text/plain": "     sumlev state_fips    state      county   fips  tot_pop  tot_male  \\\n3137    050         56  Wyoming  Sweetwater  56037    42343     21808   \n3138    050         56  Wyoming       Teton  56039    23464     12142   \n3139    050         56  Wyoming       Uinta  56041    20226     10224   \n3140    050         56  Wyoming    Washakie  56043     7805      3963   \n3141    050         56  Wyoming      Weston  56045     6927      3624   \n\n      tot_female  tot_pop_white_male  tot_pop_white_female  ...  \\\n3137       20535               17223                 16338  ...   \n3138       11322                9832                  9168  ...   \n3139       10002                8935                  8722  ...   \n3140        3842                3266                  3151  ...   \n3141        3303                3273                  2963  ...   \n\n      age_pop_twoplus_female  age_pop_hispanic_male  age_pop_hispanic_female  \\\n3137                5.368715               6.708533                 6.691400   \n3138                6.362963               6.478238                 6.364072   \n3139                5.892308               6.529666                 6.106992   \n3140                7.318182               7.125664                 6.983425   \n3141                5.791045               7.819355                 6.530769   \n\n      age_pop_white  age_pop_black  age_pop_native  age_pop_asian  \\\n3137       8.249993       7.766932        8.125373       7.314634   \n3138       9.129947       9.055172        9.121622       7.544974   \n3139       8.239961       6.706349        8.451389       7.978261   \n3140       9.446782       9.342105        9.490566       9.054545   \n3141       9.333387       8.400000        8.177570      10.168142   \n\n      age_pop_pacific  age_pop_twoplus  age_pop_hispanic  \n3137         7.381818         5.692090          6.700384  \n3138         9.666667         6.196610          6.424592  \n3139         5.916667         6.650641          6.316408  \n3140              NaN         7.171642          7.055957  \n3141         9.000000         6.221429          7.231579  \n\n[5 rows x 53 columns]"
     },
     "execution_count": 101,
     "metadata": {},
     "output_type": "execute_result"
    }
   ],
   "source": [
    "pop_df.tail()"
   ]
  },
  {
   "cell_type": "code",
   "execution_count": 102,
   "metadata": {},
   "outputs": [],
   "source": [
    "def save_df(df, filename, csv_=False, pickle_=True, path='../data/processed/'):\r\n",
    "  if csv_ + pickle_ == 0:\r\n",
    "    csv_ = True\r\n",
    "  if csv_:\r\n",
    "    df.to_csv(f'{path}{filename}.csv', index=False)\r\n",
    "  if pickle_:\r\n",
    "    with open(f'{path}{filename}.p', 'wb') as file:\r\n",
    "      pickle.dump(df, file, protocol=pickle.HIGHEST_PROTOCOL)"
   ]
  },
  {
   "cell_type": "code",
   "execution_count": 103,
   "metadata": {},
   "outputs": [],
   "source": [
    "pop_df = pop_df.sort_values(by='fips')\n",
    "save_df(pop_df, 'pop_df')"
   ]
  },
  {
   "cell_type": "markdown",
   "metadata": {},
   "source": [
    "# 2. add census region labels"
   ]
  },
  {
   "cell_type": "code",
   "execution_count": 104,
   "metadata": {},
   "outputs": [
    {
     "data": {
      "text/html": "<div>\n<style scoped>\n    .dataframe tbody tr th:only-of-type {\n        vertical-align: middle;\n    }\n\n    .dataframe tbody tr th {\n        vertical-align: top;\n    }\n\n    .dataframe thead th {\n        text-align: right;\n    }\n</style>\n<table border=\"1\" class=\"dataframe\">\n  <thead>\n    <tr style=\"text-align: right;\">\n      <th></th>\n      <th>state</th>\n      <th>state code</th>\n      <th>region</th>\n      <th>division</th>\n    </tr>\n  </thead>\n  <tbody>\n    <tr>\n      <th>0</th>\n      <td>Alaska</td>\n      <td>AK</td>\n      <td>West</td>\n      <td>Pacific</td>\n    </tr>\n    <tr>\n      <th>1</th>\n      <td>Alabama</td>\n      <td>AL</td>\n      <td>South</td>\n      <td>East South Central</td>\n    </tr>\n    <tr>\n      <th>2</th>\n      <td>Arkansas</td>\n      <td>AR</td>\n      <td>South</td>\n      <td>West South Central</td>\n    </tr>\n    <tr>\n      <th>3</th>\n      <td>Arizona</td>\n      <td>AZ</td>\n      <td>West</td>\n      <td>Mountain</td>\n    </tr>\n    <tr>\n      <th>4</th>\n      <td>California</td>\n      <td>CA</td>\n      <td>West</td>\n      <td>Pacific</td>\n    </tr>\n  </tbody>\n</table>\n</div>",
      "text/plain": "        state state code region            division\n0      Alaska         AK   West             Pacific\n1     Alabama         AL  South  East South Central\n2    Arkansas         AR  South  West South Central\n3     Arizona         AZ   West            Mountain\n4  California         CA   West             Pacific"
     },
     "execution_count": 104,
     "metadata": {},
     "output_type": "execute_result"
    }
   ],
   "source": [
    "with urlopen('https://raw.githubusercontent.com/cphalpert/census-regions/master/us%20census%20bureau%20regions%20and%20divisions.csv') as response:\r\n",
    "  region_df = pd.read_csv(\r\n",
    "    response\r\n",
    "  )\r\n",
    "region_df.columns = region_df.columns.str.lower()\r\n",
    "region_df.head()"
   ]
  },
  {
   "cell_type": "markdown",
   "metadata": {},
   "source": [
    "## merge with `pop_df` to begin building `info_df`"
   ]
  },
  {
   "cell_type": "code",
   "execution_count": 105,
   "metadata": {},
   "outputs": [
    {
     "data": {
      "text/html": "<div>\n<style scoped>\n    .dataframe tbody tr th:only-of-type {\n        vertical-align: middle;\n    }\n\n    .dataframe tbody tr th {\n        vertical-align: top;\n    }\n\n    .dataframe thead th {\n        text-align: right;\n    }\n</style>\n<table border=\"1\" class=\"dataframe\">\n  <thead>\n    <tr style=\"text-align: right;\">\n      <th></th>\n      <th>sumlev</th>\n      <th>state_fips</th>\n      <th>state</th>\n      <th>county</th>\n      <th>fips</th>\n      <th>tot_pop</th>\n      <th>tot_male</th>\n      <th>tot_female</th>\n      <th>tot_pop_white_male</th>\n      <th>tot_pop_white_female</th>\n      <th>...</th>\n      <th>age_pop_hispanic_female</th>\n      <th>age_pop_white</th>\n      <th>age_pop_black</th>\n      <th>age_pop_native</th>\n      <th>age_pop_asian</th>\n      <th>age_pop_pacific</th>\n      <th>age_pop_twoplus</th>\n      <th>age_pop_hispanic</th>\n      <th>region</th>\n      <th>division</th>\n    </tr>\n  </thead>\n  <tbody>\n    <tr>\n      <th>0</th>\n      <td>050</td>\n      <td>01</td>\n      <td>Alabama</td>\n      <td>Autauga</td>\n      <td>01001</td>\n      <td>55869</td>\n      <td>27092</td>\n      <td>28777</td>\n      <td>20138</td>\n      <td>21077</td>\n      <td>...</td>\n      <td>7.072427</td>\n      <td>8.727963</td>\n      <td>7.813750</td>\n      <td>9.786008</td>\n      <td>7.899381</td>\n      <td>7.125000</td>\n      <td>5.352510</td>\n      <td>6.707361</td>\n      <td>South</td>\n      <td>East South Central</td>\n    </tr>\n    <tr>\n      <th>1</th>\n      <td>050</td>\n      <td>01</td>\n      <td>Alabama</td>\n      <td>Baldwin</td>\n      <td>01003</td>\n      <td>223234</td>\n      <td>108247</td>\n      <td>114987</td>\n      <td>89845</td>\n      <td>95902</td>\n      <td>...</td>\n      <td>6.719182</td>\n      <td>9.321749</td>\n      <td>7.849388</td>\n      <td>8.999336</td>\n      <td>7.638534</td>\n      <td>8.422764</td>\n      <td>5.812600</td>\n      <td>6.602525</td>\n      <td>South</td>\n      <td>East South Central</td>\n    </tr>\n    <tr>\n      <th>2</th>\n      <td>050</td>\n      <td>01</td>\n      <td>Alabama</td>\n      <td>Barbour</td>\n      <td>01005</td>\n      <td>24686</td>\n      <td>13064</td>\n      <td>11622</td>\n      <td>5894</td>\n      <td>5341</td>\n      <td>...</td>\n      <td>5.766393</td>\n      <td>9.818336</td>\n      <td>8.107733</td>\n      <td>9.852632</td>\n      <td>9.137931</td>\n      <td>6.741935</td>\n      <td>6.136842</td>\n      <td>6.142346</td>\n      <td>South</td>\n      <td>East South Central</td>\n    </tr>\n    <tr>\n      <th>3</th>\n      <td>050</td>\n      <td>01</td>\n      <td>Alabama</td>\n      <td>Bibb</td>\n      <td>01007</td>\n      <td>22394</td>\n      <td>11929</td>\n      <td>10465</td>\n      <td>8482</td>\n      <td>8181</td>\n      <td>...</td>\n      <td>6.975000</td>\n      <td>8.871332</td>\n      <td>7.993219</td>\n      <td>8.384615</td>\n      <td>8.760870</td>\n      <td>5.833333</td>\n      <td>6.357724</td>\n      <td>7.091493</td>\n      <td>South</td>\n      <td>East South Central</td>\n    </tr>\n    <tr>\n      <th>4</th>\n      <td>050</td>\n      <td>01</td>\n      <td>Alabama</td>\n      <td>Blount</td>\n      <td>01009</td>\n      <td>57826</td>\n      <td>28472</td>\n      <td>29354</td>\n      <td>24494</td>\n      <td>25682</td>\n      <td>...</td>\n      <td>6.061930</td>\n      <td>8.955796</td>\n      <td>7.990826</td>\n      <td>9.790780</td>\n      <td>8.723926</td>\n      <td>8.952381</td>\n      <td>6.512329</td>\n      <td>6.240595</td>\n      <td>South</td>\n      <td>East South Central</td>\n    </tr>\n  </tbody>\n</table>\n<p>5 rows × 55 columns</p>\n</div>",
      "text/plain": "  sumlev state_fips    state   county   fips  tot_pop  tot_male  tot_female  \\\n0    050         01  Alabama  Autauga  01001    55869     27092       28777   \n1    050         01  Alabama  Baldwin  01003   223234    108247      114987   \n2    050         01  Alabama  Barbour  01005    24686     13064       11622   \n3    050         01  Alabama     Bibb  01007    22394     11929       10465   \n4    050         01  Alabama   Blount  01009    57826     28472       29354   \n\n   tot_pop_white_male  tot_pop_white_female  ...  age_pop_hispanic_female  \\\n0               20138                 21077  ...                 7.072427   \n1               89845                 95902  ...                 6.719182   \n2                5894                  5341  ...                 5.766393   \n3                8482                  8181  ...                 6.975000   \n4               24494                 25682  ...                 6.061930   \n\n   age_pop_white  age_pop_black  age_pop_native  age_pop_asian  \\\n0       8.727963       7.813750        9.786008       7.899381   \n1       9.321749       7.849388        8.999336       7.638534   \n2       9.818336       8.107733        9.852632       9.137931   \n3       8.871332       7.993219        8.384615       8.760870   \n4       8.955796       7.990826        9.790780       8.723926   \n\n   age_pop_pacific  age_pop_twoplus  age_pop_hispanic  region  \\\n0         7.125000         5.352510          6.707361   South   \n1         8.422764         5.812600          6.602525   South   \n2         6.741935         6.136842          6.142346   South   \n3         5.833333         6.357724          7.091493   South   \n4         8.952381         6.512329          6.240595   South   \n\n             division  \n0  East South Central  \n1  East South Central  \n2  East South Central  \n3  East South Central  \n4  East South Central  \n\n[5 rows x 55 columns]"
     },
     "execution_count": 105,
     "metadata": {},
     "output_type": "execute_result"
    }
   ],
   "source": [
    "info_df = pop_df.merge(region_df[['state', 'region', 'division']], on='state')\n",
    "info_df.head()"
   ]
  },
  {
   "cell_type": "markdown",
   "metadata": {
    "colab_type": "text",
    "id": "FGH01VFhfK6X"
   },
   "source": [
    "# 2. import geojson for boundaries and census areas"
   ]
  },
  {
   "cell_type": "code",
   "execution_count": 106,
   "metadata": {},
   "outputs": [
    {
     "data": {
      "text/html": "<div>\n<style scoped>\n    .dataframe tbody tr th:only-of-type {\n        vertical-align: middle;\n    }\n\n    .dataframe tbody tr th {\n        vertical-align: top;\n    }\n\n    .dataframe thead th {\n        text-align: right;\n    }\n</style>\n<table border=\"1\" class=\"dataframe\">\n  <thead>\n    <tr style=\"text-align: right;\">\n      <th></th>\n      <th>state_fips</th>\n      <th>fips</th>\n      <th>area</th>\n      <th>geometry</th>\n    </tr>\n  </thead>\n  <tbody>\n    <tr>\n      <th>0</th>\n      <td>01</td>\n      <td>01001</td>\n      <td>1539.602123</td>\n      <td>POLYGON ((-86.91759 32.66417, -86.71339 32.661...</td>\n    </tr>\n    <tr>\n      <th>1</th>\n      <td>01</td>\n      <td>01003</td>\n      <td>4117.546676</td>\n      <td>POLYGON ((-88.02632 30.75336, -87.94455 30.827...</td>\n    </tr>\n    <tr>\n      <th>2</th>\n      <td>01</td>\n      <td>01005</td>\n      <td>2292.144655</td>\n      <td>POLYGON ((-85.73573 31.62449, -85.66565 31.786...</td>\n    </tr>\n    <tr>\n      <th>3</th>\n      <td>01</td>\n      <td>01007</td>\n      <td>1612.167481</td>\n      <td>POLYGON ((-87.42194 33.00338, -87.31854 33.006...</td>\n    </tr>\n    <tr>\n      <th>4</th>\n      <td>01</td>\n      <td>01009</td>\n      <td>1670.103911</td>\n      <td>POLYGON ((-86.96336 33.85822, -86.92439 33.909...</td>\n    </tr>\n  </tbody>\n</table>\n</div>",
      "text/plain": "  state_fips   fips         area  \\\n0         01  01001  1539.602123   \n1         01  01003  4117.546676   \n2         01  01005  2292.144655   \n3         01  01007  1612.167481   \n4         01  01009  1670.103911   \n\n                                            geometry  \n0  POLYGON ((-86.91759 32.66417, -86.71339 32.661...  \n1  POLYGON ((-88.02632 30.75336, -87.94455 30.827...  \n2  POLYGON ((-85.73573 31.62449, -85.66565 31.786...  \n3  POLYGON ((-87.42194 33.00338, -87.31854 33.006...  \n4  POLYGON ((-86.96336 33.85822, -86.92439 33.909...  "
     },
     "execution_count": 106,
     "metadata": {},
     "output_type": "execute_result"
    }
   ],
   "source": [
    "# https://www.census.gov/geographies/mapping-files/time-series/geo/carto-boundary-file.html\r\n",
    "\r\n",
    "geo_df = gp.read_file('../data/external/cb_2018_us_county_20m/cb_2018_us_county_20m.shp')\r\n",
    "geo_df = geo_df.sort_values(by='GEOID').reset_index(drop=True)\r\n",
    "geo_df['ALAND'] = geo_df['ALAND'] / 1e6   # convert m^2 to km^2\r\n",
    "geo_df = geo_df[['STATEFP', 'GEOID', 'ALAND', 'geometry']]\r\n",
    "geo_df.rename(columns={\r\n",
    "  'STATEFP': 'state_fips', \r\n",
    "  'GEOID': 'fips', \r\n",
    "  'ALAND': 'area'\r\n",
    "}, inplace=True)\r\n",
    "geo_df.head()"
   ]
  },
  {
   "cell_type": "markdown",
   "metadata": {},
   "source": [
    "## find neighbors (for clustering later)"
   ]
  },
  {
   "cell_type": "code",
   "execution_count": 107,
   "metadata": {},
   "outputs": [
    {
     "data": {
      "text/html": "<div>\n<style scoped>\n    .dataframe tbody tr th:only-of-type {\n        vertical-align: middle;\n    }\n\n    .dataframe tbody tr th {\n        vertical-align: top;\n    }\n\n    .dataframe thead th {\n        text-align: right;\n    }\n</style>\n<table border=\"1\" class=\"dataframe\">\n  <thead>\n    <tr style=\"text-align: right;\">\n      <th></th>\n      <th>state_fips</th>\n      <th>fips</th>\n      <th>area</th>\n      <th>geometry</th>\n      <th>neighbors</th>\n    </tr>\n  </thead>\n  <tbody>\n    <tr>\n      <th>0</th>\n      <td>01</td>\n      <td>01001</td>\n      <td>1539.602123</td>\n      <td>POLYGON ((-86.91759 32.66417, -86.71339 32.661...</td>\n      <td>[01021, 01047, 01051, 01085, 01101]</td>\n    </tr>\n    <tr>\n      <th>1</th>\n      <td>01</td>\n      <td>01003</td>\n      <td>4117.546676</td>\n      <td>POLYGON ((-88.02632 30.75336, -87.94455 30.827...</td>\n      <td>[01025, 01053, 01097, 01099, 01129]</td>\n    </tr>\n    <tr>\n      <th>2</th>\n      <td>01</td>\n      <td>01005</td>\n      <td>2292.144655</td>\n      <td>POLYGON ((-85.73573 31.62449, -85.66565 31.786...</td>\n      <td>[01011, 01045, 01067, 01109, 01113]</td>\n    </tr>\n    <tr>\n      <th>3</th>\n      <td>01</td>\n      <td>01007</td>\n      <td>1612.167481</td>\n      <td>POLYGON ((-87.42194 33.00338, -87.31854 33.006...</td>\n      <td>[01021, 01065, 01073, 01105, 01117, 01125]</td>\n    </tr>\n    <tr>\n      <th>4</th>\n      <td>01</td>\n      <td>01009</td>\n      <td>1670.103911</td>\n      <td>POLYGON ((-86.96336 33.85822, -86.92439 33.909...</td>\n      <td>[01043, 01055, 01073, 01095, 01115, 01127]</td>\n    </tr>\n  </tbody>\n</table>\n</div>",
      "text/plain": "  state_fips   fips         area  \\\n0         01  01001  1539.602123   \n1         01  01003  4117.546676   \n2         01  01005  2292.144655   \n3         01  01007  1612.167481   \n4         01  01009  1670.103911   \n\n                                            geometry  \\\n0  POLYGON ((-86.91759 32.66417, -86.71339 32.661...   \n1  POLYGON ((-88.02632 30.75336, -87.94455 30.827...   \n2  POLYGON ((-85.73573 31.62449, -85.66565 31.786...   \n3  POLYGON ((-87.42194 33.00338, -87.31854 33.006...   \n4  POLYGON ((-86.96336 33.85822, -86.92439 33.909...   \n\n                                    neighbors  \n0         [01021, 01047, 01051, 01085, 01101]  \n1         [01025, 01053, 01097, 01099, 01129]  \n2         [01011, 01045, 01067, 01109, 01113]  \n3  [01021, 01065, 01073, 01105, 01117, 01125]  \n4  [01043, 01055, 01073, 01095, 01115, 01127]  "
     },
     "execution_count": 107,
     "metadata": {},
     "output_type": "execute_result"
    }
   ],
   "source": [
    "# https://gis.stackexchange.com/a/281676\r\n",
    "\r\n",
    "def county_neighbors(g):\r\n",
    "  \r\n",
    "  indices = g['fips'].tolist()\r\n",
    "  neighbor_matrix = []\r\n",
    "  \r\n",
    "  for i, row in g.iterrows():\r\n",
    "    neighbors = g[g['geometry'].intersects(row['geometry'])]['fips'].tolist()\r\n",
    "    neighbors.remove(row['fips'])\r\n",
    "    neighbor_matrix.append(neighbors)\r\n",
    "  \r\n",
    "  g['neighbors'] = neighbor_matrix\r\n",
    "  return g\r\n",
    "\r\n",
    "geo_df = geo_df.groupby(by='state_fips').apply(county_neighbors)\r\n",
    "geo_df.head()"
   ]
  },
  {
   "cell_type": "code",
   "execution_count": 108,
   "metadata": {},
   "outputs": [],
   "source": [
    "# def centroid(df):\r\n",
    "#   centroids = df['geometry'].centroid\r\n",
    "#   return [c.coords[0] for c in centroids]\r\n",
    "\r\n",
    "# geo_df['lon'], geo_df['lat'] = zip(*geo_df.pipe(centroid))\r\n",
    "# geo_df.head()"
   ]
  },
  {
   "cell_type": "code",
   "execution_count": 109,
   "metadata": {},
   "outputs": [],
   "source": [
    "save_df(geo_df, 'geo_df')"
   ]
  },
  {
   "cell_type": "code",
   "execution_count": 110,
   "metadata": {},
   "outputs": [
    {
     "data": {
      "text/html": "<div>\n<style scoped>\n    .dataframe tbody tr th:only-of-type {\n        vertical-align: middle;\n    }\n\n    .dataframe tbody tr th {\n        vertical-align: top;\n    }\n\n    .dataframe thead th {\n        text-align: right;\n    }\n</style>\n<table border=\"1\" class=\"dataframe\">\n  <thead>\n    <tr style=\"text-align: right;\">\n      <th></th>\n      <th>sumlev</th>\n      <th>state_fips</th>\n      <th>state</th>\n      <th>county</th>\n      <th>fips</th>\n      <th>tot_pop</th>\n      <th>tot_male</th>\n      <th>tot_female</th>\n      <th>tot_pop_white_male</th>\n      <th>tot_pop_white_female</th>\n      <th>...</th>\n      <th>age_pop_black</th>\n      <th>age_pop_native</th>\n      <th>age_pop_asian</th>\n      <th>age_pop_pacific</th>\n      <th>age_pop_twoplus</th>\n      <th>age_pop_hispanic</th>\n      <th>region</th>\n      <th>division</th>\n      <th>area</th>\n      <th>neighbors</th>\n    </tr>\n  </thead>\n  <tbody>\n    <tr>\n      <th>0</th>\n      <td>050</td>\n      <td>01</td>\n      <td>Alabama</td>\n      <td>Autauga</td>\n      <td>01001</td>\n      <td>55869</td>\n      <td>27092</td>\n      <td>28777</td>\n      <td>20138</td>\n      <td>21077</td>\n      <td>...</td>\n      <td>7.813750</td>\n      <td>9.786008</td>\n      <td>7.899381</td>\n      <td>7.125000</td>\n      <td>5.352510</td>\n      <td>6.707361</td>\n      <td>South</td>\n      <td>East South Central</td>\n      <td>1539.602123</td>\n      <td>[01021, 01047, 01051, 01085, 01101]</td>\n    </tr>\n    <tr>\n      <th>1</th>\n      <td>050</td>\n      <td>01</td>\n      <td>Alabama</td>\n      <td>Baldwin</td>\n      <td>01003</td>\n      <td>223234</td>\n      <td>108247</td>\n      <td>114987</td>\n      <td>89845</td>\n      <td>95902</td>\n      <td>...</td>\n      <td>7.849388</td>\n      <td>8.999336</td>\n      <td>7.638534</td>\n      <td>8.422764</td>\n      <td>5.812600</td>\n      <td>6.602525</td>\n      <td>South</td>\n      <td>East South Central</td>\n      <td>4117.546676</td>\n      <td>[01025, 01053, 01097, 01099, 01129]</td>\n    </tr>\n    <tr>\n      <th>2</th>\n      <td>050</td>\n      <td>01</td>\n      <td>Alabama</td>\n      <td>Barbour</td>\n      <td>01005</td>\n      <td>24686</td>\n      <td>13064</td>\n      <td>11622</td>\n      <td>5894</td>\n      <td>5341</td>\n      <td>...</td>\n      <td>8.107733</td>\n      <td>9.852632</td>\n      <td>9.137931</td>\n      <td>6.741935</td>\n      <td>6.136842</td>\n      <td>6.142346</td>\n      <td>South</td>\n      <td>East South Central</td>\n      <td>2292.144655</td>\n      <td>[01011, 01045, 01067, 01109, 01113]</td>\n    </tr>\n    <tr>\n      <th>3</th>\n      <td>050</td>\n      <td>01</td>\n      <td>Alabama</td>\n      <td>Bibb</td>\n      <td>01007</td>\n      <td>22394</td>\n      <td>11929</td>\n      <td>10465</td>\n      <td>8482</td>\n      <td>8181</td>\n      <td>...</td>\n      <td>7.993219</td>\n      <td>8.384615</td>\n      <td>8.760870</td>\n      <td>5.833333</td>\n      <td>6.357724</td>\n      <td>7.091493</td>\n      <td>South</td>\n      <td>East South Central</td>\n      <td>1612.167481</td>\n      <td>[01021, 01065, 01073, 01105, 01117, 01125]</td>\n    </tr>\n    <tr>\n      <th>4</th>\n      <td>050</td>\n      <td>01</td>\n      <td>Alabama</td>\n      <td>Blount</td>\n      <td>01009</td>\n      <td>57826</td>\n      <td>28472</td>\n      <td>29354</td>\n      <td>24494</td>\n      <td>25682</td>\n      <td>...</td>\n      <td>7.990826</td>\n      <td>9.790780</td>\n      <td>8.723926</td>\n      <td>8.952381</td>\n      <td>6.512329</td>\n      <td>6.240595</td>\n      <td>South</td>\n      <td>East South Central</td>\n      <td>1670.103911</td>\n      <td>[01043, 01055, 01073, 01095, 01115, 01127]</td>\n    </tr>\n  </tbody>\n</table>\n<p>5 rows × 57 columns</p>\n</div>",
      "text/plain": "  sumlev state_fips    state   county   fips  tot_pop  tot_male  tot_female  \\\n0    050         01  Alabama  Autauga  01001    55869     27092       28777   \n1    050         01  Alabama  Baldwin  01003   223234    108247      114987   \n2    050         01  Alabama  Barbour  01005    24686     13064       11622   \n3    050         01  Alabama     Bibb  01007    22394     11929       10465   \n4    050         01  Alabama   Blount  01009    57826     28472       29354   \n\n   tot_pop_white_male  tot_pop_white_female  ...  age_pop_black  \\\n0               20138                 21077  ...       7.813750   \n1               89845                 95902  ...       7.849388   \n2                5894                  5341  ...       8.107733   \n3                8482                  8181  ...       7.993219   \n4               24494                 25682  ...       7.990826   \n\n   age_pop_native  age_pop_asian  age_pop_pacific  age_pop_twoplus  \\\n0        9.786008       7.899381         7.125000         5.352510   \n1        8.999336       7.638534         8.422764         5.812600   \n2        9.852632       9.137931         6.741935         6.136842   \n3        8.384615       8.760870         5.833333         6.357724   \n4        9.790780       8.723926         8.952381         6.512329   \n\n   age_pop_hispanic  region            division         area  \\\n0          6.707361   South  East South Central  1539.602123   \n1          6.602525   South  East South Central  4117.546676   \n2          6.142346   South  East South Central  2292.144655   \n3          7.091493   South  East South Central  1612.167481   \n4          6.240595   South  East South Central  1670.103911   \n\n                                    neighbors  \n0         [01021, 01047, 01051, 01085, 01101]  \n1         [01025, 01053, 01097, 01099, 01129]  \n2         [01011, 01045, 01067, 01109, 01113]  \n3  [01021, 01065, 01073, 01105, 01117, 01125]  \n4  [01043, 01055, 01073, 01095, 01115, 01127]  \n\n[5 rows x 57 columns]"
     },
     "execution_count": 110,
     "metadata": {},
     "output_type": "execute_result"
    }
   ],
   "source": [
    "info_df = info_df.merge(geo_df[['fips', 'area', 'neighbors']], on='fips')\n",
    "info_df.head()"
   ]
  },
  {
   "cell_type": "markdown",
   "metadata": {},
   "source": [
    "We will merge latitude/longitude coordinates with `info_df` when we process CSSE data."
   ]
  },
  {
   "cell_type": "markdown",
   "metadata": {},
   "source": [
    "# 3. add 2020 general election data"
   ]
  },
  {
   "cell_type": "markdown",
   "metadata": {},
   "source": [
    "Mask compliance has been very political, so it would be interesting to see how political differences vary by county. Data taken from [github.com/tonmcg](https://github.com/tonmcg). Alaska data taken from [RRH Elections](https://rrhelections.com/index.php/2018/02/02/alaska-results-by-county-equivalent-1960-2016/).\r\n",
    "\r\n",
    "County-level election data not immediately available for 2020 general election, so we will substitute 2016 election results using analysis from [RRH Elections](https://rrhelections.com/index.php/2018/02/02/alaska-results-by-county-equivalent-1960-2016/)."
   ]
  },
  {
   "cell_type": "code",
   "execution_count": 111,
   "metadata": {},
   "outputs": [
    {
     "data": {
      "text/html": "<div>\n<style scoped>\n    .dataframe tbody tr th:only-of-type {\n        vertical-align: middle;\n    }\n\n    .dataframe tbody tr th {\n        vertical-align: top;\n    }\n\n    .dataframe thead th {\n        text-align: right;\n    }\n</style>\n<table border=\"1\" class=\"dataframe\">\n  <thead>\n    <tr style=\"text-align: right;\">\n      <th></th>\n      <th>state</th>\n      <th>county</th>\n      <th>fips</th>\n      <th>tot_votes_dem</th>\n      <th>tot_votes_gop</th>\n      <th>tot_votes</th>\n      <th>votes_diff</th>\n    </tr>\n  </thead>\n  <tbody>\n    <tr>\n      <th>0</th>\n      <td>Alabama</td>\n      <td>Autauga</td>\n      <td>01001</td>\n      <td>7503</td>\n      <td>19838</td>\n      <td>27770</td>\n      <td>12335</td>\n    </tr>\n    <tr>\n      <th>1</th>\n      <td>Alabama</td>\n      <td>Baldwin</td>\n      <td>01003</td>\n      <td>24578</td>\n      <td>83544</td>\n      <td>109679</td>\n      <td>58966</td>\n    </tr>\n    <tr>\n      <th>2</th>\n      <td>Alabama</td>\n      <td>Barbour</td>\n      <td>01005</td>\n      <td>4816</td>\n      <td>5622</td>\n      <td>10518</td>\n      <td>806</td>\n    </tr>\n    <tr>\n      <th>3</th>\n      <td>Alabama</td>\n      <td>Bibb</td>\n      <td>01007</td>\n      <td>1986</td>\n      <td>7525</td>\n      <td>9595</td>\n      <td>5539</td>\n    </tr>\n    <tr>\n      <th>4</th>\n      <td>Alabama</td>\n      <td>Blount</td>\n      <td>01009</td>\n      <td>2640</td>\n      <td>24711</td>\n      <td>27588</td>\n      <td>22071</td>\n    </tr>\n  </tbody>\n</table>\n</div>",
      "text/plain": "     state   county   fips  tot_votes_dem  tot_votes_gop  tot_votes  \\\n0  Alabama  Autauga  01001           7503          19838      27770   \n1  Alabama  Baldwin  01003          24578          83544     109679   \n2  Alabama  Barbour  01005           4816           5622      10518   \n3  Alabama     Bibb  01007           1986           7525       9595   \n4  Alabama   Blount  01009           2640          24711      27588   \n\n   votes_diff  \n0       12335  \n1       58966  \n2         806  \n3        5539  \n4       22071  "
     },
     "execution_count": 111,
     "metadata": {},
     "output_type": "execute_result"
    }
   ],
   "source": [
    "with urlopen('https://raw.githubusercontent.com/tonmcg/US_County_Level_Election_Results_08-20/master/2020_US_County_Level_Presidential_Results.csv') as response:\r\n",
    "  elect_20_df = pd.read_csv(\r\n",
    "    response,\r\n",
    "    # encoding='latin-1',    # to avoid unicode error\r\n",
    "    dtype={\r\n",
    "      'votes_dem':'int',\r\n",
    "      'votes_gop':'int',\r\n",
    "      'total_votes':'int',\r\n",
    "      'county_fips':'str'},\r\n",
    "  )\r\n",
    "\r\n",
    "elect_20_df.rename(\r\n",
    "  columns={\r\n",
    "    'state_name':'state',\r\n",
    "    'county_name':'county',\r\n",
    "    'county_fips':'fips',\r\n",
    "    'votes_dem':'tot_votes_dem',\r\n",
    "    'votes_gop':'tot_votes_gop',\r\n",
    "    'total_votes':'tot_votes',\r\n",
    "    'diff': 'votes_diff'\r\n",
    "  }, inplace=True\r\n",
    ")\r\n",
    "\r\n",
    "elect_20_df[['county']] = elect_20_df[['county']].apply(remove_county_terms)\r\n",
    "\r\n",
    "# # https://stackoverflow.com/a/23836353\r\n",
    "# elect_df['fips'] = elect_df['fips'].apply('{0:0>5}'.format) \r\n",
    "\r\n",
    "elect_cols = ['state', 'county', 'fips', 'tot_votes_dem', 'tot_votes_gop', 'tot_votes', 'votes_diff']\r\n",
    "elect_20_df = elect_20_df[elect_cols]\r\n",
    "elect_20_df = elect_20_df[elect_20_df['state'] != 'Alaska']\r\n",
    "elect_20_df = elect_20_df.sort_values(by='fips')\r\n",
    "elect_20_df.head()"
   ]
  },
  {
   "cell_type": "code",
   "execution_count": 112,
   "metadata": {},
   "outputs": [
    {
     "data": {
      "text/html": "<div>\n<style scoped>\n    .dataframe tbody tr th:only-of-type {\n        vertical-align: middle;\n    }\n\n    .dataframe tbody tr th {\n        vertical-align: top;\n    }\n\n    .dataframe thead th {\n        text-align: right;\n    }\n</style>\n<table border=\"1\" class=\"dataframe\">\n  <thead>\n    <tr style=\"text-align: right;\">\n      <th></th>\n      <th>state</th>\n      <th>county</th>\n      <th>fips</th>\n      <th>tot_votes_dem</th>\n      <th>tot_votes_gop</th>\n      <th>tot_votes</th>\n      <th>votes_diff</th>\n    </tr>\n  </thead>\n  <tbody>\n  </tbody>\n</table>\n</div>",
      "text/plain": "Empty DataFrame\nColumns: [state, county, fips, tot_votes_dem, tot_votes_gop, tot_votes, votes_diff]\nIndex: []"
     },
     "execution_count": 112,
     "metadata": {},
     "output_type": "execute_result"
    }
   ],
   "source": [
    "elect_20_df[elect_20_df.isna().any(axis=1)]"
   ]
  },
  {
   "cell_type": "code",
   "execution_count": 113,
   "metadata": {},
   "outputs": [],
   "source": [
    "# with urlopen('https://raw.githubusercontent.com/tonmcg/US_County_Level_Election_Results_08-20/master/2016_US_County_Level_Presidential_Results.csv') as response:\r\n",
    "#   elect_16_df = pd.read_csv(\r\n",
    "#     response,\r\n",
    "#     # encoding='latin-1',    # to avoid unicode error\r\n",
    "#     dtype={\r\n",
    "#       'votes_dem':'int',\r\n",
    "#       'votes_gop':'int',\r\n",
    "#       'total_votes':'int',\r\n",
    "#       'county_fips':'str'},\r\n",
    "#   )\r\n",
    "\r\n",
    "# elect_16_df.rename(\r\n",
    "#   columns={\r\n",
    "#     'county_name':'county',\r\n",
    "#     'combined_fips':'fips',\r\n",
    "#     'votes_dem':'tot_votes_dem',\r\n",
    "#     'votes_gop':'tot_votes_gop',\r\n",
    "#     'total_votes':'tot_votes',\r\n",
    "#     'diff': 'votes_diff'\r\n",
    "#   }, inplace=True\r\n",
    "# )\r\n",
    "\r\n",
    "# elect_16_df[['county']] = elect_16_df[['county']].apply(remove_county_terms)\r\n",
    "\r\n",
    "# # https://stackoverflow.com/a/23836353\r\n",
    "# elect_16_df['fips'] = elect_16_df['fips'].apply('{0:0>5}'.format) \r\n",
    "\r\n",
    "# elect_cols = ['state_abbr', 'county', 'fips', 'tot_votes_dem', 'tot_votes_gop', 'tot_votes', 'votes_diff']\r\n",
    "# elect_16_df = elect_16_df[elect_cols]\r\n",
    "# elect_16_df = elect_16_df.sort_values(by='fips')\r\n",
    "# elect_16_df.head()"
   ]
  },
  {
   "cell_type": "markdown",
   "metadata": {},
   "source": [
    "## add alaska 2016 elections data"
   ]
  },
  {
   "cell_type": "code",
   "execution_count": 114,
   "metadata": {},
   "outputs": [
    {
     "data": {
      "text/html": "<div>\n<style scoped>\n    .dataframe tbody tr th:only-of-type {\n        vertical-align: middle;\n    }\n\n    .dataframe tbody tr th {\n        vertical-align: top;\n    }\n\n    .dataframe thead th {\n        text-align: right;\n    }\n</style>\n<table border=\"1\" class=\"dataframe\">\n  <thead>\n    <tr style=\"text-align: right;\">\n      <th></th>\n      <th>county</th>\n      <th>tot_votes_gop</th>\n      <th>tot_votes_dem</th>\n      <th>tot_votes</th>\n      <th>votes_diff</th>\n      <th>fips</th>\n      <th>state</th>\n    </tr>\n  </thead>\n  <tbody>\n    <tr>\n      <th>22</th>\n      <td>Aleutians East</td>\n      <td>198</td>\n      <td>121</td>\n      <td>369</td>\n      <td>77</td>\n      <td>02013</td>\n      <td>Alaska</td>\n    </tr>\n    <tr>\n      <th>24</th>\n      <td>Aleutians West</td>\n      <td>260</td>\n      <td>493</td>\n      <td>846</td>\n      <td>-233</td>\n      <td>02016</td>\n      <td>Alaska</td>\n    </tr>\n    <tr>\n      <th>19</th>\n      <td>Anchorage</td>\n      <td>39942</td>\n      <td>32130</td>\n      <td>81678</td>\n      <td>7812</td>\n      <td>02020</td>\n      <td>Alaska</td>\n    </tr>\n    <tr>\n      <th>12</th>\n      <td>Bethel</td>\n      <td>809</td>\n      <td>2178</td>\n      <td>3933</td>\n      <td>-1369</td>\n      <td>02050</td>\n      <td>Alaska</td>\n    </tr>\n    <tr>\n      <th>25</th>\n      <td>Bristol Bay</td>\n      <td>180</td>\n      <td>99</td>\n      <td>316</td>\n      <td>81</td>\n      <td>02060</td>\n      <td>Alaska</td>\n    </tr>\n  </tbody>\n</table>\n</div>",
      "text/plain": "            county  tot_votes_gop  tot_votes_dem  tot_votes  votes_diff  \\\n22  Aleutians East            198            121        369          77   \n24  Aleutians West            260            493        846        -233   \n19       Anchorage          39942          32130      81678        7812   \n12          Bethel            809           2178       3933       -1369   \n25     Bristol Bay            180             99        316          81   \n\n     fips   state  \n22  02013  Alaska  \n24  02016  Alaska  \n19  02020  Alaska  \n12  02050  Alaska  \n25  02060  Alaska  "
     },
     "execution_count": 114,
     "metadata": {},
     "output_type": "execute_result"
    }
   ],
   "source": [
    "ak_elect_df = pd.read_excel('../data/external/2016 AK Gen Official.xlsx', sheet_name='By CE')\r\n",
    "ak_elect_df = ak_elect_df.iloc[0:29, 0:12]\r\n",
    "ak_elect_df.rename(\r\n",
    "  columns={\r\n",
    "    'Trump, Donald J. ':'tot_votes_gop',\r\n",
    "    'Clinton, Hillary ':'tot_votes_dem',\r\n",
    "    'ED/Muni': 'county',\r\n",
    "    'ED Total': 'tot_votes',\r\n",
    "  }, inplace=True\r\n",
    ")\r\n",
    "ak_elect_df = ak_elect_df[['county', 'tot_votes_gop', 'tot_votes_dem', 'tot_votes']].sort_values(by='county')\r\n",
    "ak_elect_df[['tot_votes_gop', 'tot_votes_dem', 'tot_votes']] = ak_elect_df[['tot_votes_gop', 'tot_votes_dem', 'tot_votes']].astype(int)\r\n",
    "ak_elect_df['votes_diff'] = ak_elect_df['tot_votes_gop'] - ak_elect_df['tot_votes_dem']\r\n",
    "ak_elect_df['fips'] = pop_df[pop_df['state'] == 'Alaska']['fips'].values\r\n",
    "ak_elect_df['state'] = ['Alaska'] * len(ak_elect_df)\r\n",
    "ak_elect_df.head()"
   ]
  },
  {
   "cell_type": "code",
   "execution_count": 115,
   "metadata": {},
   "outputs": [
    {
     "data": {
      "text/plain": "(3141, 7)"
     },
     "execution_count": 115,
     "metadata": {},
     "output_type": "execute_result"
    }
   ],
   "source": [
    "elect_df = pd.concat([elect_20_df, ak_elect_df]).sort_values(by='fips').reset_index(drop=True)\r\n",
    "elect_df.shape"
   ]
  },
  {
   "cell_type": "code",
   "execution_count": 116,
   "metadata": {},
   "outputs": [
    {
     "data": {
      "text/html": "<div>\n<style scoped>\n    .dataframe tbody tr th:only-of-type {\n        vertical-align: middle;\n    }\n\n    .dataframe tbody tr th {\n        vertical-align: top;\n    }\n\n    .dataframe thead th {\n        text-align: right;\n    }\n</style>\n<table border=\"1\" class=\"dataframe\">\n  <thead>\n    <tr style=\"text-align: right;\">\n      <th></th>\n      <th>state</th>\n      <th>county</th>\n      <th>fips</th>\n      <th>tot_votes_dem</th>\n      <th>tot_votes_gop</th>\n      <th>tot_votes</th>\n      <th>votes_diff</th>\n      <th>per_diff</th>\n    </tr>\n  </thead>\n  <tbody>\n    <tr>\n      <th>0</th>\n      <td>Alabama</td>\n      <td>Autauga</td>\n      <td>01001</td>\n      <td>7503</td>\n      <td>19838</td>\n      <td>27770</td>\n      <td>12335</td>\n      <td>0.444184</td>\n    </tr>\n    <tr>\n      <th>1</th>\n      <td>Alabama</td>\n      <td>Baldwin</td>\n      <td>01003</td>\n      <td>24578</td>\n      <td>83544</td>\n      <td>109679</td>\n      <td>58966</td>\n      <td>0.537623</td>\n    </tr>\n    <tr>\n      <th>2</th>\n      <td>Alabama</td>\n      <td>Barbour</td>\n      <td>01005</td>\n      <td>4816</td>\n      <td>5622</td>\n      <td>10518</td>\n      <td>806</td>\n      <td>0.076631</td>\n    </tr>\n    <tr>\n      <th>3</th>\n      <td>Alabama</td>\n      <td>Bibb</td>\n      <td>01007</td>\n      <td>1986</td>\n      <td>7525</td>\n      <td>9595</td>\n      <td>5539</td>\n      <td>0.577280</td>\n    </tr>\n    <tr>\n      <th>4</th>\n      <td>Alabama</td>\n      <td>Blount</td>\n      <td>01009</td>\n      <td>2640</td>\n      <td>24711</td>\n      <td>27588</td>\n      <td>22071</td>\n      <td>0.800022</td>\n    </tr>\n  </tbody>\n</table>\n</div>",
      "text/plain": "     state   county   fips  tot_votes_dem  tot_votes_gop  tot_votes  \\\n0  Alabama  Autauga  01001           7503          19838      27770   \n1  Alabama  Baldwin  01003          24578          83544     109679   \n2  Alabama  Barbour  01005           4816           5622      10518   \n3  Alabama     Bibb  01007           1986           7525       9595   \n4  Alabama   Blount  01009           2640          24711      27588   \n\n   votes_diff  per_diff  \n0       12335  0.444184  \n1       58966  0.537623  \n2         806  0.076631  \n3        5539  0.577280  \n4       22071  0.800022  "
     },
     "execution_count": 116,
     "metadata": {},
     "output_type": "execute_result"
    }
   ],
   "source": [
    "elect_df['per_diff'] = elect_df['votes_diff'] / elect_df['tot_votes']\r\n",
    "elect_df.head()"
   ]
  },
  {
   "cell_type": "code",
   "execution_count": 117,
   "metadata": {},
   "outputs": [
    {
     "data": {
      "text/html": "<div>\n<style scoped>\n    .dataframe tbody tr th:only-of-type {\n        vertical-align: middle;\n    }\n\n    .dataframe tbody tr th {\n        vertical-align: top;\n    }\n\n    .dataframe thead th {\n        text-align: right;\n    }\n</style>\n<table border=\"1\" class=\"dataframe\">\n  <thead>\n    <tr style=\"text-align: right;\">\n      <th></th>\n      <th>state</th>\n      <th>county</th>\n      <th>fips</th>\n      <th>tot_votes_dem</th>\n      <th>tot_votes_gop</th>\n      <th>tot_votes</th>\n      <th>votes_diff</th>\n      <th>per_diff</th>\n    </tr>\n  </thead>\n  <tbody>\n    <tr>\n      <th>0</th>\n      <td>Alabama</td>\n      <td>Autauga</td>\n      <td>01001</td>\n      <td>7503</td>\n      <td>19838</td>\n      <td>27770</td>\n      <td>12335</td>\n      <td>0.444184</td>\n    </tr>\n    <tr>\n      <th>1</th>\n      <td>Alabama</td>\n      <td>Baldwin</td>\n      <td>01003</td>\n      <td>24578</td>\n      <td>83544</td>\n      <td>109679</td>\n      <td>58966</td>\n      <td>0.537623</td>\n    </tr>\n    <tr>\n      <th>2</th>\n      <td>Alabama</td>\n      <td>Barbour</td>\n      <td>01005</td>\n      <td>4816</td>\n      <td>5622</td>\n      <td>10518</td>\n      <td>806</td>\n      <td>0.076631</td>\n    </tr>\n    <tr>\n      <th>3</th>\n      <td>Alabama</td>\n      <td>Bibb</td>\n      <td>01007</td>\n      <td>1986</td>\n      <td>7525</td>\n      <td>9595</td>\n      <td>5539</td>\n      <td>0.577280</td>\n    </tr>\n    <tr>\n      <th>4</th>\n      <td>Alabama</td>\n      <td>Blount</td>\n      <td>01009</td>\n      <td>2640</td>\n      <td>24711</td>\n      <td>27588</td>\n      <td>22071</td>\n      <td>0.800022</td>\n    </tr>\n  </tbody>\n</table>\n</div>",
      "text/plain": "     state   county   fips  tot_votes_dem  tot_votes_gop  tot_votes  \\\n0  Alabama  Autauga  01001           7503          19838      27770   \n1  Alabama  Baldwin  01003          24578          83544     109679   \n2  Alabama  Barbour  01005           4816           5622      10518   \n3  Alabama     Bibb  01007           1986           7525       9595   \n4  Alabama   Blount  01009           2640          24711      27588   \n\n   votes_diff  per_diff  \n0       12335  0.444184  \n1       58966  0.537623  \n2         806  0.076631  \n3        5539  0.577280  \n4       22071  0.800022  "
     },
     "execution_count": 117,
     "metadata": {},
     "output_type": "execute_result"
    }
   ],
   "source": [
    "elect_df.head()"
   ]
  },
  {
   "cell_type": "code",
   "execution_count": 118,
   "metadata": {},
   "outputs": [],
   "source": [
    "save_df(elect_df, 'elect_df')"
   ]
  },
  {
   "cell_type": "code",
   "execution_count": 119,
   "metadata": {},
   "outputs": [
    {
     "data": {
      "text/html": "<div>\n<style scoped>\n    .dataframe tbody tr th:only-of-type {\n        vertical-align: middle;\n    }\n\n    .dataframe tbody tr th {\n        vertical-align: top;\n    }\n\n    .dataframe thead th {\n        text-align: right;\n    }\n</style>\n<table border=\"1\" class=\"dataframe\">\n  <thead>\n    <tr style=\"text-align: right;\">\n      <th></th>\n      <th>sumlev</th>\n      <th>state_fips</th>\n      <th>state</th>\n      <th>county</th>\n      <th>fips</th>\n      <th>tot_pop</th>\n      <th>tot_male</th>\n      <th>tot_female</th>\n      <th>tot_pop_white_male</th>\n      <th>tot_pop_white_female</th>\n      <th>...</th>\n      <th>age_pop_hispanic</th>\n      <th>region</th>\n      <th>division</th>\n      <th>area</th>\n      <th>neighbors</th>\n      <th>tot_votes_dem</th>\n      <th>tot_votes_gop</th>\n      <th>tot_votes</th>\n      <th>votes_diff</th>\n      <th>per_diff</th>\n    </tr>\n  </thead>\n  <tbody>\n    <tr>\n      <th>3137</th>\n      <td>050</td>\n      <td>56</td>\n      <td>Wyoming</td>\n      <td>Sweetwater</td>\n      <td>56037</td>\n      <td>42343</td>\n      <td>21808</td>\n      <td>20535</td>\n      <td>17223</td>\n      <td>16338</td>\n      <td>...</td>\n      <td>6.700384</td>\n      <td>West</td>\n      <td>Mountain</td>\n      <td>27005.754244</td>\n      <td>[56007, 56013, 56023, 56035, 56041]</td>\n      <td>3823.0</td>\n      <td>12229.0</td>\n      <td>16603.0</td>\n      <td>8406.0</td>\n      <td>0.506294</td>\n    </tr>\n    <tr>\n      <th>3138</th>\n      <td>050</td>\n      <td>56</td>\n      <td>Wyoming</td>\n      <td>Teton</td>\n      <td>56039</td>\n      <td>23464</td>\n      <td>12142</td>\n      <td>11322</td>\n      <td>9832</td>\n      <td>9168</td>\n      <td>...</td>\n      <td>6.424592</td>\n      <td>West</td>\n      <td>Mountain</td>\n      <td>10351.784301</td>\n      <td>[56013, 56023, 56029, 56035]</td>\n      <td>9848.0</td>\n      <td>4341.0</td>\n      <td>14677.0</td>\n      <td>-5507.0</td>\n      <td>-0.375213</td>\n    </tr>\n    <tr>\n      <th>3139</th>\n      <td>050</td>\n      <td>56</td>\n      <td>Wyoming</td>\n      <td>Uinta</td>\n      <td>56041</td>\n      <td>20226</td>\n      <td>10224</td>\n      <td>10002</td>\n      <td>8935</td>\n      <td>8722</td>\n      <td>...</td>\n      <td>6.316408</td>\n      <td>West</td>\n      <td>Mountain</td>\n      <td>5391.631764</td>\n      <td>[56023, 56037]</td>\n      <td>1591.0</td>\n      <td>7496.0</td>\n      <td>9402.0</td>\n      <td>5905.0</td>\n      <td>0.628058</td>\n    </tr>\n    <tr>\n      <th>3140</th>\n      <td>050</td>\n      <td>56</td>\n      <td>Wyoming</td>\n      <td>Washakie</td>\n      <td>56043</td>\n      <td>7805</td>\n      <td>3963</td>\n      <td>3842</td>\n      <td>3266</td>\n      <td>3151</td>\n      <td>...</td>\n      <td>7.055957</td>\n      <td>West</td>\n      <td>Mountain</td>\n      <td>5798.138762</td>\n      <td>[56003, 56013, 56017, 56019, 56025, 56029]</td>\n      <td>651.0</td>\n      <td>3245.0</td>\n      <td>4012.0</td>\n      <td>2594.0</td>\n      <td>0.646560</td>\n    </tr>\n    <tr>\n      <th>3141</th>\n      <td>050</td>\n      <td>56</td>\n      <td>Wyoming</td>\n      <td>Weston</td>\n      <td>56045</td>\n      <td>6927</td>\n      <td>3624</td>\n      <td>3303</td>\n      <td>3273</td>\n      <td>2963</td>\n      <td>...</td>\n      <td>7.231579</td>\n      <td>West</td>\n      <td>Mountain</td>\n      <td>6210.804116</td>\n      <td>[56005, 56009, 56011, 56027]</td>\n      <td>360.0</td>\n      <td>3107.0</td>\n      <td>3542.0</td>\n      <td>2747.0</td>\n      <td>0.775551</td>\n    </tr>\n  </tbody>\n</table>\n<p>5 rows × 62 columns</p>\n</div>",
      "text/plain": "     sumlev state_fips    state      county   fips  tot_pop  tot_male  \\\n3137    050         56  Wyoming  Sweetwater  56037    42343     21808   \n3138    050         56  Wyoming       Teton  56039    23464     12142   \n3139    050         56  Wyoming       Uinta  56041    20226     10224   \n3140    050         56  Wyoming    Washakie  56043     7805      3963   \n3141    050         56  Wyoming      Weston  56045     6927      3624   \n\n      tot_female  tot_pop_white_male  tot_pop_white_female  ...  \\\n3137       20535               17223                 16338  ...   \n3138       11322                9832                  9168  ...   \n3139       10002                8935                  8722  ...   \n3140        3842                3266                  3151  ...   \n3141        3303                3273                  2963  ...   \n\n      age_pop_hispanic  region  division          area  \\\n3137          6.700384    West  Mountain  27005.754244   \n3138          6.424592    West  Mountain  10351.784301   \n3139          6.316408    West  Mountain   5391.631764   \n3140          7.055957    West  Mountain   5798.138762   \n3141          7.231579    West  Mountain   6210.804116   \n\n                                       neighbors  tot_votes_dem  \\\n3137         [56007, 56013, 56023, 56035, 56041]         3823.0   \n3138                [56013, 56023, 56029, 56035]         9848.0   \n3139                              [56023, 56037]         1591.0   \n3140  [56003, 56013, 56017, 56019, 56025, 56029]          651.0   \n3141                [56005, 56009, 56011, 56027]          360.0   \n\n      tot_votes_gop  tot_votes  votes_diff  per_diff  \n3137        12229.0    16603.0      8406.0  0.506294  \n3138         4341.0    14677.0     -5507.0 -0.375213  \n3139         7496.0     9402.0      5905.0  0.628058  \n3140         3245.0     4012.0      2594.0  0.646560  \n3141         3107.0     3542.0      2747.0  0.775551  \n\n[5 rows x 62 columns]"
     },
     "execution_count": 119,
     "metadata": {},
     "output_type": "execute_result"
    }
   ],
   "source": [
    "info_df = info_df.merge(elect_df.loc[:, 'fips':], on='fips', how='left')\r\n",
    "info_df.tail()"
   ]
  },
  {
   "cell_type": "code",
   "execution_count": 120,
   "metadata": {},
   "outputs": [
    {
     "data": {
      "text/html": "<div>\n<style scoped>\n    .dataframe tbody tr th:only-of-type {\n        vertical-align: middle;\n    }\n\n    .dataframe tbody tr th {\n        vertical-align: top;\n    }\n\n    .dataframe thead th {\n        text-align: right;\n    }\n</style>\n<table border=\"1\" class=\"dataframe\">\n  <thead>\n    <tr style=\"text-align: right;\">\n      <th></th>\n      <th>sumlev</th>\n      <th>state_fips</th>\n      <th>state</th>\n      <th>county</th>\n      <th>fips</th>\n      <th>tot_pop</th>\n      <th>tot_male</th>\n      <th>tot_female</th>\n      <th>tot_pop_white_male</th>\n      <th>tot_pop_white_female</th>\n      <th>...</th>\n      <th>age_pop_hispanic</th>\n      <th>region</th>\n      <th>division</th>\n      <th>area</th>\n      <th>neighbors</th>\n      <th>tot_votes_dem</th>\n      <th>tot_votes_gop</th>\n      <th>tot_votes</th>\n      <th>votes_diff</th>\n      <th>per_diff</th>\n    </tr>\n  </thead>\n  <tbody>\n    <tr>\n      <th>548</th>\n      <td>050</td>\n      <td>15</td>\n      <td>Hawaii</td>\n      <td>Kalawao</td>\n      <td>15005</td>\n      <td>86</td>\n      <td>41</td>\n      <td>45</td>\n      <td>12</td>\n      <td>11</td>\n      <td>...</td>\n      <td>7.000000</td>\n      <td>West</td>\n      <td>Pacific</td>\n      <td>31.057603</td>\n      <td>[15009]</td>\n      <td>NaN</td>\n      <td>NaN</td>\n      <td>NaN</td>\n      <td>NaN</td>\n      <td>NaN</td>\n    </tr>\n    <tr>\n      <th>629</th>\n      <td>050</td>\n      <td>17</td>\n      <td>Illinois</td>\n      <td>Hardin</td>\n      <td>17069</td>\n      <td>3821</td>\n      <td>1933</td>\n      <td>1888</td>\n      <td>1844</td>\n      <td>1767</td>\n      <td>...</td>\n      <td>6.752688</td>\n      <td>Midwest</td>\n      <td>East North Central</td>\n      <td>459.650851</td>\n      <td>[17059, 17151, 17165]</td>\n      <td>0.0</td>\n      <td>0.0</td>\n      <td>0.0</td>\n      <td>0.0</td>\n      <td>NaN</td>\n    </tr>\n  </tbody>\n</table>\n<p>2 rows × 62 columns</p>\n</div>",
      "text/plain": "    sumlev state_fips     state   county   fips  tot_pop  tot_male  \\\n548    050         15    Hawaii  Kalawao  15005       86        41   \n629    050         17  Illinois   Hardin  17069     3821      1933   \n\n     tot_female  tot_pop_white_male  tot_pop_white_female  ...  \\\n548          45                  12                    11  ...   \n629        1888                1844                  1767  ...   \n\n     age_pop_hispanic   region            division        area  \\\n548          7.000000     West             Pacific   31.057603   \n629          6.752688  Midwest  East North Central  459.650851   \n\n                 neighbors  tot_votes_dem  tot_votes_gop  tot_votes  \\\n548                [15009]            NaN            NaN        NaN   \n629  [17059, 17151, 17165]            0.0            0.0        0.0   \n\n     votes_diff  per_diff  \n548         NaN       NaN  \n629         0.0       NaN  \n\n[2 rows x 62 columns]"
     },
     "execution_count": 120,
     "metadata": {},
     "output_type": "execute_result"
    }
   ],
   "source": [
    "info_df[info_df.loc[:, 'tot_votes_dem':].isna().any(axis=1)]"
   ]
  },
  {
   "cell_type": "markdown",
   "metadata": {},
   "source": [
    "# 4. add income data\n",
    "\n",
    "Median income statistics taken from [data.census.gov](https://data.census.gov/cedsci/table?q=s1901&tid=ACSST1Y2018.S1901) (2017 ACS 1-Year Estimates). \n",
    "\n",
    "- `S1903_C03_001E` -- all households\n",
    "- `S1903_C03_003E` -- black\n",
    "- `S1903_C03_004E` -- native\n",
    "- `S1903_C03_005E` -- asian\n",
    "- `S1903_C03_006E` -- pacific\n",
    "- `S1903_C03_007E` -- other\n",
    "- `S1903_C03_008E` -- two or more\n",
    "- `S1903_C03_009E` -- hispanic\n",
    "- `S1903_C03_010E` -- white only, not hispanic"
   ]
  },
  {
   "cell_type": "code",
   "execution_count": 121,
   "metadata": {},
   "outputs": [
    {
     "data": {
      "text/html": "<div>\n<style scoped>\n    .dataframe tbody tr th:only-of-type {\n        vertical-align: middle;\n    }\n\n    .dataframe tbody tr th {\n        vertical-align: top;\n    }\n\n    .dataframe thead th {\n        text-align: right;\n    }\n</style>\n<table border=\"1\" class=\"dataframe\">\n  <thead>\n    <tr style=\"text-align: right;\">\n      <th></th>\n      <th>fips</th>\n      <th>median_income</th>\n      <th>median_income_black</th>\n      <th>median_income_native</th>\n      <th>median_income_asian</th>\n      <th>median_income_pacific</th>\n      <th>median_income_other</th>\n      <th>median_income_twoplus</th>\n      <th>median_income_hispanic</th>\n      <th>median_income_white</th>\n      <th>county</th>\n      <th>state</th>\n    </tr>\n  </thead>\n  <tbody>\n    <tr>\n      <th>3218</th>\n      <td>72149</td>\n      <td>19855.0</td>\n      <td>25714.0</td>\n      <td>NaN</td>\n      <td>NaN</td>\n      <td>NaN</td>\n      <td>19535.0</td>\n      <td>17871.0</td>\n      <td>19807.0</td>\n      <td>NaN</td>\n      <td>Villalba Municipio</td>\n      <td>Puerto Rico</td>\n    </tr>\n    <tr>\n      <th>3219</th>\n      <td>72151</td>\n      <td>16013.0</td>\n      <td>14852.0</td>\n      <td>NaN</td>\n      <td>NaN</td>\n      <td>NaN</td>\n      <td>29063.0</td>\n      <td>19213.0</td>\n      <td>15992.0</td>\n      <td>NaN</td>\n      <td>Yabucoa Municipio</td>\n      <td>Puerto Rico</td>\n    </tr>\n    <tr>\n      <th>3220</th>\n      <td>72153</td>\n      <td>14954.0</td>\n      <td>13986.0</td>\n      <td>NaN</td>\n      <td>NaN</td>\n      <td>NaN</td>\n      <td>12204.0</td>\n      <td>12650.0</td>\n      <td>14927.0</td>\n      <td>NaN</td>\n      <td>Yauco Municipio</td>\n      <td>Puerto Rico</td>\n    </tr>\n    <tr>\n      <th>3221</th>\n      <td>29JOP</td>\n      <td>42782.0</td>\n      <td>32500.0</td>\n      <td>39663.0</td>\n      <td>NaN</td>\n      <td>NaN</td>\n      <td>NaN</td>\n      <td>41033.0</td>\n      <td>47208.0</td>\n      <td>43473.0</td>\n      <td>Joplin</td>\n      <td>Missouri</td>\n    </tr>\n    <tr>\n      <th>3222</th>\n      <td>29KAN</td>\n      <td>52405.0</td>\n      <td>33899.0</td>\n      <td>48929.0</td>\n      <td>49367.0</td>\n      <td>33563.0</td>\n      <td>31768.0</td>\n      <td>50538.0</td>\n      <td>44003.0</td>\n      <td>65637.0</td>\n      <td>Kansas City</td>\n      <td>Missouri</td>\n    </tr>\n  </tbody>\n</table>\n</div>",
      "text/plain": "       fips  median_income  median_income_black  median_income_native  \\\n3218  72149        19855.0              25714.0                   NaN   \n3219  72151        16013.0              14852.0                   NaN   \n3220  72153        14954.0              13986.0                   NaN   \n3221  29JOP        42782.0              32500.0               39663.0   \n3222  29KAN        52405.0              33899.0               48929.0   \n\n      median_income_asian  median_income_pacific  median_income_other  \\\n3218                  NaN                    NaN              19535.0   \n3219                  NaN                    NaN              29063.0   \n3220                  NaN                    NaN              12204.0   \n3221                  NaN                    NaN                  NaN   \n3222              49367.0                33563.0              31768.0   \n\n      median_income_twoplus  median_income_hispanic  median_income_white  \\\n3218                17871.0                 19807.0                  NaN   \n3219                19213.0                 15992.0                  NaN   \n3220                12650.0                 14927.0                  NaN   \n3221                41033.0                 47208.0              43473.0   \n3222                50538.0                 44003.0              65637.0   \n\n                  county        state  \n3218  Villalba Municipio  Puerto Rico  \n3219   Yabucoa Municipio  Puerto Rico  \n3220     Yauco Municipio  Puerto Rico  \n3221              Joplin     Missouri  \n3222         Kansas City     Missouri  "
     },
     "execution_count": 121,
     "metadata": {},
     "output_type": "execute_result"
    }
   ],
   "source": [
    "inc_cols = [f'S1903_C03_{i:03d}E' for i in range(1,11) if i != 2]\r\n",
    "inc_col_names = ['median_income'] + [f'median_income_{race}'\r\n",
    "                   for race in ['black', 'native', 'asian', 'pacific', 'other', 'twoplus', 'hispanic', 'white']]\r\n",
    "inc_dict = dict(zip(inc_cols, inc_col_names))\r\n",
    "inc_dict.update({'GEO_ID':'fips'})\r\n",
    "\r\n",
    "# can't use dtype 'int' here because of entries like `250000+` and `-`\r\n",
    "inc_df = pd.read_csv(\r\n",
    "  '../data/external/ACSST5Y2018.S1903/ACSST5Y2018.S1903_data_with_overlays.csv',\r\n",
    "  usecols=['GEO_ID', 'NAME'] + inc_cols,\r\n",
    ")\r\n",
    "inc_df = inc_df.drop(0, axis=0)\r\n",
    "inc_df = inc_df.rename(columns=inc_dict)\r\n",
    "# inc_df['median_income'] = inc_df['median_income'].astype(float)\r\n",
    "\r\n",
    "# joplin and kansas city\r\n",
    "inc_df.at[inc_df['fips'] == '1600000US2937592', 'fips'] = '29JOP'\r\n",
    "inc_df.at[inc_df['fips'] == '1600000US2938000', 'fips'] = '29KAN'\r\n",
    "inc_df['fips'] = inc_df['fips'].str[-5:]\r\n",
    "\r\n",
    "inc_df['county'], inc_df['state'] = zip(*inc_df['NAME'].str.split(', ').tolist())\r\n",
    "inc_df.at[inc_df['fips'] == '29JOP', 'county'] = 'Joplin'\r\n",
    "inc_df.at[inc_df['fips'] == '29KAN', 'county'] = 'Kansas City'\r\n",
    "inc_df = inc_df.drop('NAME', axis=1)\r\n",
    "inc_df['county'] = inc_df[['county']].apply(remove_county_terms)\r\n",
    "\r\n",
    "# rio arriba taken from datausa.io\r\n",
    "inc_df.at[inc_df['fips'] == '35039', 'median_income'] = 33_422\r\n",
    "\r\n",
    "inc_df = inc_df.replace({'-': np.nan, '2,500-':2500, '250,000+':250000})\r\n",
    "\r\n",
    "# can't do int because of nan\r\n",
    "inc_df[inc_col_names] = inc_df[inc_col_names].astype(float)\r\n",
    "\r\n",
    "inc_df.tail()"
   ]
  },
  {
   "cell_type": "code",
   "execution_count": 122,
   "metadata": {},
   "outputs": [
    {
     "name": "stdout",
     "output_type": "stream",
     "text": [
      "<class 'pandas.core.frame.DataFrame'>\n",
      "Int64Index: 3222 entries, 1 to 3222\n",
      "Data columns (total 12 columns):\n",
      " #   Column                  Non-Null Count  Dtype  \n",
      "---  ------                  --------------  -----  \n",
      " 0   fips                    3222 non-null   object \n",
      " 1   median_income           3222 non-null   float64\n",
      " 2   median_income_black     2019 non-null   float64\n",
      " 3   median_income_native    1423 non-null   float64\n",
      " 4   median_income_asian     1405 non-null   float64\n",
      " 5   median_income_pacific   281 non-null    float64\n",
      " 6   median_income_other     1689 non-null   float64\n",
      " 7   median_income_twoplus   2190 non-null   float64\n",
      " 8   median_income_hispanic  2555 non-null   float64\n",
      " 9   median_income_white     3161 non-null   float64\n",
      " 10  county                  3222 non-null   object \n",
      " 11  state                   3222 non-null   object \n",
      "dtypes: float64(9), object(3)\n",
      "memory usage: 327.2+ KB\n"
     ]
    }
   ],
   "source": [
    "inc_df.info()"
   ]
  },
  {
   "cell_type": "code",
   "execution_count": 123,
   "metadata": {},
   "outputs": [],
   "source": [
    "# income_df = pd.read_csv('../data/income_df.csv')"
   ]
  },
  {
   "cell_type": "code",
   "execution_count": 124,
   "metadata": {},
   "outputs": [
    {
     "data": {
      "text/html": "<div>\n<style scoped>\n    .dataframe tbody tr th:only-of-type {\n        vertical-align: middle;\n    }\n\n    .dataframe tbody tr th {\n        vertical-align: top;\n    }\n\n    .dataframe thead th {\n        text-align: right;\n    }\n</style>\n<table border=\"1\" class=\"dataframe\">\n  <thead>\n    <tr style=\"text-align: right;\">\n      <th></th>\n      <th>state</th>\n      <th>county</th>\n      <th>fips</th>\n      <th>median_income</th>\n      <th>median_income_black</th>\n      <th>median_income_native</th>\n      <th>median_income_asian</th>\n      <th>median_income_pacific</th>\n      <th>median_income_other</th>\n      <th>median_income_twoplus</th>\n      <th>median_income_hispanic</th>\n      <th>median_income_white</th>\n    </tr>\n  </thead>\n  <tbody>\n    <tr>\n      <th>3218</th>\n      <td>Puerto Rico</td>\n      <td>Villalba Municipio</td>\n      <td>72149</td>\n      <td>19855.0</td>\n      <td>25714.0</td>\n      <td>NaN</td>\n      <td>NaN</td>\n      <td>NaN</td>\n      <td>19535.0</td>\n      <td>17871.0</td>\n      <td>19807.0</td>\n      <td>NaN</td>\n    </tr>\n    <tr>\n      <th>3219</th>\n      <td>Puerto Rico</td>\n      <td>Yabucoa Municipio</td>\n      <td>72151</td>\n      <td>16013.0</td>\n      <td>14852.0</td>\n      <td>NaN</td>\n      <td>NaN</td>\n      <td>NaN</td>\n      <td>29063.0</td>\n      <td>19213.0</td>\n      <td>15992.0</td>\n      <td>NaN</td>\n    </tr>\n    <tr>\n      <th>3220</th>\n      <td>Puerto Rico</td>\n      <td>Yauco Municipio</td>\n      <td>72153</td>\n      <td>14954.0</td>\n      <td>13986.0</td>\n      <td>NaN</td>\n      <td>NaN</td>\n      <td>NaN</td>\n      <td>12204.0</td>\n      <td>12650.0</td>\n      <td>14927.0</td>\n      <td>NaN</td>\n    </tr>\n    <tr>\n      <th>3221</th>\n      <td>Missouri</td>\n      <td>Joplin</td>\n      <td>29JOP</td>\n      <td>42782.0</td>\n      <td>32500.0</td>\n      <td>39663.0</td>\n      <td>NaN</td>\n      <td>NaN</td>\n      <td>NaN</td>\n      <td>41033.0</td>\n      <td>47208.0</td>\n      <td>43473.0</td>\n    </tr>\n    <tr>\n      <th>3222</th>\n      <td>Missouri</td>\n      <td>Kansas City</td>\n      <td>29KAN</td>\n      <td>52405.0</td>\n      <td>33899.0</td>\n      <td>48929.0</td>\n      <td>49367.0</td>\n      <td>33563.0</td>\n      <td>31768.0</td>\n      <td>50538.0</td>\n      <td>44003.0</td>\n      <td>65637.0</td>\n    </tr>\n  </tbody>\n</table>\n</div>",
      "text/plain": "            state              county   fips  median_income  \\\n3218  Puerto Rico  Villalba Municipio  72149        19855.0   \n3219  Puerto Rico   Yabucoa Municipio  72151        16013.0   \n3220  Puerto Rico     Yauco Municipio  72153        14954.0   \n3221     Missouri              Joplin  29JOP        42782.0   \n3222     Missouri         Kansas City  29KAN        52405.0   \n\n      median_income_black  median_income_native  median_income_asian  \\\n3218              25714.0                   NaN                  NaN   \n3219              14852.0                   NaN                  NaN   \n3220              13986.0                   NaN                  NaN   \n3221              32500.0               39663.0                  NaN   \n3222              33899.0               48929.0              49367.0   \n\n      median_income_pacific  median_income_other  median_income_twoplus  \\\n3218                    NaN              19535.0                17871.0   \n3219                    NaN              29063.0                19213.0   \n3220                    NaN              12204.0                12650.0   \n3221                    NaN                  NaN                41033.0   \n3222                33563.0              31768.0                50538.0   \n\n      median_income_hispanic  median_income_white  \n3218                 19807.0                  NaN  \n3219                 15992.0                  NaN  \n3220                 14927.0                  NaN  \n3221                 47208.0              43473.0  \n3222                 44003.0              65637.0  "
     },
     "execution_count": 124,
     "metadata": {},
     "output_type": "execute_result"
    }
   ],
   "source": [
    "inc_cols = ['state', 'county', 'fips']\\\r\n",
    "       + inc_df.select_dtypes(include='number').columns.tolist()\r\n",
    "inc_df = inc_df[inc_cols]\r\n",
    "inc_df.tail()"
   ]
  },
  {
   "cell_type": "code",
   "execution_count": 125,
   "metadata": {},
   "outputs": [],
   "source": [
    "save_df(inc_df, 'inc_df')"
   ]
  },
  {
   "cell_type": "code",
   "execution_count": 126,
   "metadata": {},
   "outputs": [
    {
     "data": {
      "text/html": "<div>\n<style scoped>\n    .dataframe tbody tr th:only-of-type {\n        vertical-align: middle;\n    }\n\n    .dataframe tbody tr th {\n        vertical-align: top;\n    }\n\n    .dataframe thead th {\n        text-align: right;\n    }\n</style>\n<table border=\"1\" class=\"dataframe\">\n  <thead>\n    <tr style=\"text-align: right;\">\n      <th></th>\n      <th>sumlev</th>\n      <th>state_fips</th>\n      <th>state</th>\n      <th>county</th>\n      <th>fips</th>\n      <th>tot_pop</th>\n      <th>tot_male</th>\n      <th>tot_female</th>\n      <th>tot_pop_white_male</th>\n      <th>tot_pop_white_female</th>\n      <th>...</th>\n      <th>per_diff</th>\n      <th>median_income</th>\n      <th>median_income_black</th>\n      <th>median_income_native</th>\n      <th>median_income_asian</th>\n      <th>median_income_pacific</th>\n      <th>median_income_other</th>\n      <th>median_income_twoplus</th>\n      <th>median_income_hispanic</th>\n      <th>median_income_white</th>\n    </tr>\n  </thead>\n  <tbody>\n    <tr>\n      <th>3137</th>\n      <td>050</td>\n      <td>56</td>\n      <td>Wyoming</td>\n      <td>Sweetwater</td>\n      <td>56037</td>\n      <td>42343</td>\n      <td>21808</td>\n      <td>20535</td>\n      <td>17223</td>\n      <td>16338</td>\n      <td>...</td>\n      <td>0.506294</td>\n      <td>73008.0</td>\n      <td>NaN</td>\n      <td>62188.0</td>\n      <td>72614.0</td>\n      <td>138053.0</td>\n      <td>74189.0</td>\n      <td>55284.0</td>\n      <td>61921.0</td>\n      <td>76469.0</td>\n    </tr>\n    <tr>\n      <th>3138</th>\n      <td>050</td>\n      <td>56</td>\n      <td>Wyoming</td>\n      <td>Teton</td>\n      <td>56039</td>\n      <td>23464</td>\n      <td>12142</td>\n      <td>11322</td>\n      <td>9832</td>\n      <td>9168</td>\n      <td>...</td>\n      <td>-0.375213</td>\n      <td>83831.0</td>\n      <td>NaN</td>\n      <td>NaN</td>\n      <td>98125.0</td>\n      <td>NaN</td>\n      <td>36433.0</td>\n      <td>17188.0</td>\n      <td>45361.0</td>\n      <td>95222.0</td>\n    </tr>\n    <tr>\n      <th>3139</th>\n      <td>050</td>\n      <td>56</td>\n      <td>Wyoming</td>\n      <td>Uinta</td>\n      <td>56041</td>\n      <td>20226</td>\n      <td>10224</td>\n      <td>10002</td>\n      <td>8935</td>\n      <td>8722</td>\n      <td>...</td>\n      <td>0.628058</td>\n      <td>58235.0</td>\n      <td>NaN</td>\n      <td>68125.0</td>\n      <td>NaN</td>\n      <td>NaN</td>\n      <td>55701.0</td>\n      <td>39205.0</td>\n      <td>39816.0</td>\n      <td>61330.0</td>\n    </tr>\n    <tr>\n      <th>3140</th>\n      <td>050</td>\n      <td>56</td>\n      <td>Wyoming</td>\n      <td>Washakie</td>\n      <td>56043</td>\n      <td>7805</td>\n      <td>3963</td>\n      <td>3842</td>\n      <td>3266</td>\n      <td>3151</td>\n      <td>...</td>\n      <td>0.646560</td>\n      <td>53426.0</td>\n      <td>NaN</td>\n      <td>NaN</td>\n      <td>NaN</td>\n      <td>NaN</td>\n      <td>62054.0</td>\n      <td>36118.0</td>\n      <td>50035.0</td>\n      <td>54815.0</td>\n    </tr>\n    <tr>\n      <th>3141</th>\n      <td>050</td>\n      <td>56</td>\n      <td>Wyoming</td>\n      <td>Weston</td>\n      <td>56045</td>\n      <td>6927</td>\n      <td>3624</td>\n      <td>3303</td>\n      <td>3273</td>\n      <td>2963</td>\n      <td>...</td>\n      <td>0.775551</td>\n      <td>52867.0</td>\n      <td>NaN</td>\n      <td>NaN</td>\n      <td>NaN</td>\n      <td>NaN</td>\n      <td>NaN</td>\n      <td>NaN</td>\n      <td>37870.0</td>\n      <td>55032.0</td>\n    </tr>\n  </tbody>\n</table>\n<p>5 rows × 71 columns</p>\n</div>",
      "text/plain": "     sumlev state_fips    state      county   fips  tot_pop  tot_male  \\\n3137    050         56  Wyoming  Sweetwater  56037    42343     21808   \n3138    050         56  Wyoming       Teton  56039    23464     12142   \n3139    050         56  Wyoming       Uinta  56041    20226     10224   \n3140    050         56  Wyoming    Washakie  56043     7805      3963   \n3141    050         56  Wyoming      Weston  56045     6927      3624   \n\n      tot_female  tot_pop_white_male  tot_pop_white_female  ...  per_diff  \\\n3137       20535               17223                 16338  ...  0.506294   \n3138       11322                9832                  9168  ... -0.375213   \n3139       10002                8935                  8722  ...  0.628058   \n3140        3842                3266                  3151  ...  0.646560   \n3141        3303                3273                  2963  ...  0.775551   \n\n      median_income  median_income_black  median_income_native  \\\n3137        73008.0                  NaN               62188.0   \n3138        83831.0                  NaN                   NaN   \n3139        58235.0                  NaN               68125.0   \n3140        53426.0                  NaN                   NaN   \n3141        52867.0                  NaN                   NaN   \n\n      median_income_asian  median_income_pacific  median_income_other  \\\n3137              72614.0               138053.0              74189.0   \n3138              98125.0                    NaN              36433.0   \n3139                  NaN                    NaN              55701.0   \n3140                  NaN                    NaN              62054.0   \n3141                  NaN                    NaN                  NaN   \n\n      median_income_twoplus  median_income_hispanic  median_income_white  \n3137                55284.0                 61921.0              76469.0  \n3138                17188.0                 45361.0              95222.0  \n3139                39205.0                 39816.0              61330.0  \n3140                36118.0                 50035.0              54815.0  \n3141                    NaN                 37870.0              55032.0  \n\n[5 rows x 71 columns]"
     },
     "execution_count": 126,
     "metadata": {},
     "output_type": "execute_result"
    }
   ],
   "source": [
    "info_df = info_df.merge(inc_df.loc[:, 'fips':], on='fips', how='left')\n",
    "info_df.tail()"
   ]
  },
  {
   "cell_type": "markdown",
   "metadata": {},
   "source": [
    "# 5. add educational attainment data\r\n",
    "\r\n",
    "Educational attainment statistics taken from [data.census.gov](https://data.census.gov/cedsci/table?tid=ACSST1Y2018.S1501&g=0400000US04) (2017 ACS 5-Year Estimates).\r\n",
    "\r\n",
    "- `S1501_C01_006E` -- population > 25yo\r\n",
    "- `S1501_C01_007E` -- less than 9th grade\r\n",
    "- `S1501_C01_008E` -- some high school\r\n",
    "- `S1501_C01_009E` -- high school or GED\r\n",
    "- `S1501_C01_010E` -- some college\r\n",
    "- `S1501_C01_011E` -- associate's\r\n",
    "- `S1501_C01_012E` -- bachelor's\r\n",
    "- `S1501_C01_013E` -- graduate or professional\r\n",
    "\r\n",
    "In addition, there are ethnic / sex breakdowns:\r\n",
    "- general patterns:\r\n",
    "  - `CO1_XXXE` -- ethnic total\r\n",
    "  - `CO3_XXXE` -- ethnic male\r\n",
    "  - `CO5_XXXE` -- ethnic female\r\n",
    "- `S1501_C01_031E` -- white alone\r\n",
    "- `S1501_C01_032E` -- white alone, high school graduate or higher\r\n",
    "- `S1501_C01_033E` -- white alone, bachelor's degree or higher\r\n",
    "- etc."
   ]
  },
  {
   "cell_type": "code",
   "execution_count": 127,
   "metadata": {},
   "outputs": [
    {
     "data": {
      "text/html": "<div>\n<style scoped>\n    .dataframe tbody tr th:only-of-type {\n        vertical-align: middle;\n    }\n\n    .dataframe tbody tr th {\n        vertical-align: top;\n    }\n\n    .dataframe thead th {\n        text-align: right;\n    }\n</style>\n<table border=\"1\" class=\"dataframe\">\n  <thead>\n    <tr style=\"text-align: right;\">\n      <th></th>\n      <th>fips</th>\n      <th>tot_edu_white</th>\n      <th>tot_edu_white_male</th>\n      <th>tot_edu_white_female</th>\n      <th>tot_edu_white_hsplus</th>\n      <th>tot_edu_white_male_hsplus</th>\n      <th>tot_edu_white_female_hsplus</th>\n      <th>tot_edu_white_4yplus</th>\n      <th>tot_edu_white_male_4yplus</th>\n      <th>tot_edu_white_female_4yplus</th>\n      <th>...</th>\n      <th>pop_25p</th>\n      <th>no_hs</th>\n      <th>some_hs</th>\n      <th>hs</th>\n      <th>some_college</th>\n      <th>associates</th>\n      <th>bachelors</th>\n      <th>graduate</th>\n      <th>county</th>\n      <th>state</th>\n    </tr>\n  </thead>\n  <tbody>\n    <tr>\n      <th>1</th>\n      <td>01001</td>\n      <td>28726</td>\n      <td>13834</td>\n      <td>14892</td>\n      <td>26130</td>\n      <td>12588</td>\n      <td>13542</td>\n      <td>8440</td>\n      <td>4573</td>\n      <td>3867</td>\n      <td>...</td>\n      <td>37166</td>\n      <td>956</td>\n      <td>3248</td>\n      <td>12119</td>\n      <td>7554</td>\n      <td>2998</td>\n      <td>5903</td>\n      <td>4388</td>\n      <td>Autauga</td>\n      <td>Alabama</td>\n    </tr>\n    <tr>\n      <th>2</th>\n      <td>01003</td>\n      <td>126316</td>\n      <td>60310</td>\n      <td>66006</td>\n      <td>116288</td>\n      <td>54788</td>\n      <td>61500</td>\n      <td>41648</td>\n      <td>19863</td>\n      <td>21785</td>\n      <td>...</td>\n      <td>146989</td>\n      <td>3978</td>\n      <td>10332</td>\n      <td>40579</td>\n      <td>32266</td>\n      <td>13759</td>\n      <td>30431</td>\n      <td>15644</td>\n      <td>Baldwin</td>\n      <td>Alabama</td>\n    </tr>\n    <tr>\n      <th>3</th>\n      <td>01005</td>\n      <td>9171</td>\n      <td>4846</td>\n      <td>4325</td>\n      <td>7264</td>\n      <td>3657</td>\n      <td>3607</td>\n      <td>1578</td>\n      <td>814</td>\n      <td>764</td>\n      <td>...</td>\n      <td>18173</td>\n      <td>1490</td>\n      <td>3411</td>\n      <td>6486</td>\n      <td>3287</td>\n      <td>1279</td>\n      <td>1417</td>\n      <td>803</td>\n      <td>Barbour</td>\n      <td>Alabama</td>\n    </tr>\n    <tr>\n      <th>4</th>\n      <td>01007</td>\n      <td>12002</td>\n      <td>6037</td>\n      <td>5965</td>\n      <td>10483</td>\n      <td>5181</td>\n      <td>5302</td>\n      <td>1570</td>\n      <td>674</td>\n      <td>896</td>\n      <td>...</td>\n      <td>15780</td>\n      <td>903</td>\n      <td>1747</td>\n      <td>7471</td>\n      <td>2938</td>\n      <td>908</td>\n      <td>1197</td>\n      <td>616</td>\n      <td>Bibb</td>\n      <td>Alabama</td>\n    </tr>\n    <tr>\n      <th>5</th>\n      <td>01009</td>\n      <td>35774</td>\n      <td>17200</td>\n      <td>18574</td>\n      <td>29814</td>\n      <td>14167</td>\n      <td>15647</td>\n      <td>4775</td>\n      <td>1900</td>\n      <td>2875</td>\n      <td>...</td>\n      <td>39627</td>\n      <td>2967</td>\n      <td>4894</td>\n      <td>13489</td>\n      <td>8492</td>\n      <td>4775</td>\n      <td>3217</td>\n      <td>1793</td>\n      <td>Blount</td>\n      <td>Alabama</td>\n    </tr>\n  </tbody>\n</table>\n<p>5 rows × 83 columns</p>\n</div>",
      "text/plain": "    fips  tot_edu_white  tot_edu_white_male  tot_edu_white_female  \\\n1  01001          28726               13834                 14892   \n2  01003         126316               60310                 66006   \n3  01005           9171                4846                  4325   \n4  01007          12002                6037                  5965   \n5  01009          35774               17200                 18574   \n\n   tot_edu_white_hsplus  tot_edu_white_male_hsplus  \\\n1                 26130                      12588   \n2                116288                      54788   \n3                  7264                       3657   \n4                 10483                       5181   \n5                 29814                      14167   \n\n   tot_edu_white_female_hsplus  tot_edu_white_4yplus  \\\n1                        13542                  8440   \n2                        61500                 41648   \n3                         3607                  1578   \n4                         5302                  1570   \n5                        15647                  4775   \n\n   tot_edu_white_male_4yplus  tot_edu_white_female_4yplus  ...  pop_25p  \\\n1                       4573                         3867  ...    37166   \n2                      19863                        21785  ...   146989   \n3                        814                          764  ...    18173   \n4                        674                          896  ...    15780   \n5                       1900                         2875  ...    39627   \n\n   no_hs  some_hs     hs  some_college  associates  bachelors  graduate  \\\n1    956     3248  12119          7554        2998       5903      4388   \n2   3978    10332  40579         32266       13759      30431     15644   \n3   1490     3411   6486          3287        1279       1417       803   \n4    903     1747   7471          2938         908       1197       616   \n5   2967     4894  13489          8492        4775       3217      1793   \n\n    county    state  \n1  Autauga  Alabama  \n2  Baldwin  Alabama  \n3  Barbour  Alabama  \n4     Bibb  Alabama  \n5   Blount  Alabama  \n\n[5 rows x 83 columns]"
     },
     "execution_count": 127,
     "metadata": {},
     "output_type": "execute_result"
    }
   ],
   "source": [
    "# general educational attainment columns\r\n",
    "edu_cols = [f'S1501_C01_{i:03d}E' for i in range(6,14)]\r\n",
    "edu_col_names = ['pop_25p', 'no_hs', 'some_hs', 'hs', 'some_college', \r\n",
    "         'associates', 'bachelors', 'graduate']\r\n",
    "edu_dict = dict(zip(edu_cols, edu_col_names))\r\n",
    "edu_dict.update({'GEO_ID':'fips'})\r\n",
    "\r\n",
    "# education/ethnicity/sex columns\r\n",
    "edu_eth_sex_cols = [f'S1501_C{i:02d}_{j:03d}E' for i in range(1,6,2) for j in range(31,55)]\r\n",
    "edu_eth_sex_col_names = [f'tot_edu_{race}{sex}{edu}' \r\n",
    "             for sex in ['', '_male', '_female']\r\n",
    "             for race in ['white', 'black', 'native', 'asian', 'pacific', 'other', 'twoplus', 'hispanic']\r\n",
    "             for edu in ['', '_hsplus', '_4yplus']]\r\n",
    "edu_eth_sex_dict = dict(zip(edu_eth_sex_cols, edu_eth_sex_col_names))\r\n",
    "edu_dict.update(edu_eth_sex_dict)\r\n",
    "\r\n",
    "edu_df = pd.read_csv('../data/external/ACSST5Y2018.S1501/ACSST5Y2018.S1501_data_with_overlays.csv',\r\n",
    "           usecols=['GEO_ID', 'NAME']+edu_cols+edu_eth_sex_cols)\r\n",
    "edu_df = edu_df.drop(0, axis=0)\r\n",
    "for col in (edu_cols+edu_eth_sex_cols):\r\n",
    "  edu_df[col] = edu_df[col].astype(int)\r\n",
    "edu_df.rename(\r\n",
    "  columns=edu_dict,\r\n",
    "  inplace=True\r\n",
    ")\r\n",
    "\r\n",
    "# joplin and kansas city\r\n",
    "edu_df.at[edu_df['fips'] == '1600000US2937592', 'fips'] = '29JOP'\r\n",
    "edu_df.at[edu_df['fips'] == '1600000US2938000', 'fips'] = '29KAN'\r\n",
    "edu_df['fips'] = edu_df['fips'].str[-5:]\r\n",
    "\r\n",
    "edu_df['county'], edu_df['state'] = zip(*edu_df['NAME'].str.split(', ').tolist())\r\n",
    "edu_df.at[edu_df['fips'] == '29JOP', 'county'] = 'Joplin'\r\n",
    "edu_df.at[edu_df['fips'] == '29KAN', 'county'] = 'Kansas City'\r\n",
    "edu_df = edu_df.drop('NAME', axis=1)\r\n",
    "edu_df['county'] = edu_df[['county']].apply(remove_county_terms)\r\n",
    "\r\n",
    "edu_df.head()"
   ]
  },
  {
   "cell_type": "code",
   "execution_count": 128,
   "metadata": {},
   "outputs": [
    {
     "data": {
      "text/html": "<div>\n<style scoped>\n    .dataframe tbody tr th:only-of-type {\n        vertical-align: middle;\n    }\n\n    .dataframe tbody tr th {\n        vertical-align: top;\n    }\n\n    .dataframe thead th {\n        text-align: right;\n    }\n</style>\n<table border=\"1\" class=\"dataframe\">\n  <thead>\n    <tr style=\"text-align: right;\">\n      <th></th>\n      <th>fips</th>\n      <th>tot_edu_white</th>\n      <th>tot_edu_white_male</th>\n      <th>tot_edu_white_female</th>\n      <th>tot_edu_white_hsplus</th>\n      <th>tot_edu_white_male_hsplus</th>\n      <th>tot_edu_white_female_hsplus</th>\n      <th>tot_edu_white_4yplus</th>\n      <th>tot_edu_white_male_4yplus</th>\n      <th>tot_edu_white_female_4yplus</th>\n      <th>...</th>\n      <th>edu_twoplus_male</th>\n      <th>per_edu_twoplus_male_nohs</th>\n      <th>edu_twoplus_female</th>\n      <th>per_edu_twoplus_female_nohs</th>\n      <th>edu_hispanic</th>\n      <th>per_edu_hispanic_nohs</th>\n      <th>edu_hispanic_male</th>\n      <th>per_edu_hispanic_male_nohs</th>\n      <th>edu_hispanic_female</th>\n      <th>per_edu_hispanic_female_nohs</th>\n    </tr>\n  </thead>\n  <tbody>\n    <tr>\n      <th>3218</th>\n      <td>72149</td>\n      <td>13</td>\n      <td>1</td>\n      <td>12</td>\n      <td>13</td>\n      <td>1</td>\n      <td>12</td>\n      <td>1</td>\n      <td>1</td>\n      <td>0</td>\n      <td>...</td>\n      <td>1.823389</td>\n      <td>0.303103</td>\n      <td>3.119681</td>\n      <td>0.233599</td>\n      <td>2.517601</td>\n      <td>0.244641</td>\n      <td>2.129082</td>\n      <td>0.266536</td>\n      <td>2.861788</td>\n      <td>0.225244</td>\n    </tr>\n    <tr>\n      <th>3219</th>\n      <td>72151</td>\n      <td>0</td>\n      <td>0</td>\n      <td>0</td>\n      <td>0</td>\n      <td>0</td>\n      <td>0</td>\n      <td>0</td>\n      <td>0</td>\n      <td>0</td>\n      <td>...</td>\n      <td>1.096154</td>\n      <td>0.596154</td>\n      <td>2.145078</td>\n      <td>0.393782</td>\n      <td>2.322749</td>\n      <td>0.302041</td>\n      <td>1.979422</td>\n      <td>0.345668</td>\n      <td>2.631746</td>\n      <td>0.262777</td>\n    </tr>\n    <tr>\n      <th>3220</th>\n      <td>72153</td>\n      <td>29</td>\n      <td>16</td>\n      <td>13</td>\n      <td>19</td>\n      <td>6</td>\n      <td>13</td>\n      <td>5</td>\n      <td>0</td>\n      <td>5</td>\n      <td>...</td>\n      <td>2.716535</td>\n      <td>0.330709</td>\n      <td>2.036364</td>\n      <td>0.496970</td>\n      <td>2.670100</td>\n      <td>0.278716</td>\n      <td>2.389952</td>\n      <td>0.310348</td>\n      <td>2.912327</td>\n      <td>0.251367</td>\n    </tr>\n    <tr>\n      <th>3221</th>\n      <td>29JOP</td>\n      <td>29516</td>\n      <td>13887</td>\n      <td>15629</td>\n      <td>26830</td>\n      <td>12641</td>\n      <td>14189</td>\n      <td>7607</td>\n      <td>3766</td>\n      <td>3841</td>\n      <td>...</td>\n      <td>3.767347</td>\n      <td>0.116327</td>\n      <td>2.785542</td>\n      <td>0.028916</td>\n      <td>2.179577</td>\n      <td>0.306338</td>\n      <td>2.316000</td>\n      <td>0.232000</td>\n      <td>2.072327</td>\n      <td>0.364780</td>\n    </tr>\n    <tr>\n      <th>3222</th>\n      <td>29KAN</td>\n      <td>196115</td>\n      <td>96625</td>\n      <td>99490</td>\n      <td>184949</td>\n      <td>90966</td>\n      <td>93983</td>\n      <td>86232</td>\n      <td>41929</td>\n      <td>44303</td>\n      <td>...</td>\n      <td>3.411234</td>\n      <td>0.108556</td>\n      <td>4.008708</td>\n      <td>0.097242</td>\n      <td>2.252631</td>\n      <td>0.303633</td>\n      <td>2.234676</td>\n      <td>0.305608</td>\n      <td>2.272133</td>\n      <td>0.301487</td>\n    </tr>\n  </tbody>\n</table>\n<p>5 rows × 132 columns</p>\n</div>",
      "text/plain": "       fips  tot_edu_white  tot_edu_white_male  tot_edu_white_female  \\\n3218  72149             13                   1                    12   \n3219  72151              0                   0                     0   \n3220  72153             29                  16                    13   \n3221  29JOP          29516               13887                 15629   \n3222  29KAN         196115               96625                 99490   \n\n      tot_edu_white_hsplus  tot_edu_white_male_hsplus  \\\n3218                    13                          1   \n3219                     0                          0   \n3220                    19                          6   \n3221                 26830                      12641   \n3222                184949                      90966   \n\n      tot_edu_white_female_hsplus  tot_edu_white_4yplus  \\\n3218                           12                     1   \n3219                            0                     0   \n3220                           13                     5   \n3221                        14189                  7607   \n3222                        93983                 86232   \n\n      tot_edu_white_male_4yplus  tot_edu_white_female_4yplus  ...  \\\n3218                          1                            0  ...   \n3219                          0                            0  ...   \n3220                          0                            5  ...   \n3221                       3766                         3841  ...   \n3222                      41929                        44303  ...   \n\n      edu_twoplus_male  per_edu_twoplus_male_nohs  edu_twoplus_female  \\\n3218          1.823389                   0.303103            3.119681   \n3219          1.096154                   0.596154            2.145078   \n3220          2.716535                   0.330709            2.036364   \n3221          3.767347                   0.116327            2.785542   \n3222          3.411234                   0.108556            4.008708   \n\n      per_edu_twoplus_female_nohs  edu_hispanic  per_edu_hispanic_nohs  \\\n3218                     0.233599      2.517601               0.244641   \n3219                     0.393782      2.322749               0.302041   \n3220                     0.496970      2.670100               0.278716   \n3221                     0.028916      2.179577               0.306338   \n3222                     0.097242      2.252631               0.303633   \n\n      edu_hispanic_male  per_edu_hispanic_male_nohs  edu_hispanic_female  \\\n3218           2.129082                    0.266536             2.861788   \n3219           1.979422                    0.345668             2.631746   \n3220           2.389952                    0.310348             2.912327   \n3221           2.316000                    0.232000             2.072327   \n3222           2.234676                    0.305608             2.272133   \n\n      per_edu_hispanic_female_nohs  \n3218                      0.225244  \n3219                      0.262777  \n3220                      0.251367  \n3221                      0.364780  \n3222                      0.301487  \n\n[5 rows x 132 columns]"
     },
     "execution_count": 128,
     "metadata": {},
     "output_type": "execute_result"
    }
   ],
   "source": [
    "edu_df['edu'] = (edu_df['some_hs'] + 2*edu_df['hs'] \\\r\n",
    "         + 3*edu_df['some_college'] + 4*edu_df['associates'] \\\r\n",
    "         + 5*edu_df['bachelors'] + 6*edu_df['graduate'])\\\r\n",
    "        / edu_df['pop_25p']\r\n",
    "for race in ['white', 'black', 'native', 'asian', 'pacific', 'other', 'twoplus', 'hispanic']:\r\n",
    "  for sex in ['', '_male', '_female']:\r\n",
    "    edu_df[f'edu_{race}{sex}'] = (2*edu_df[f'tot_edu_{race}{sex}_hsplus']\r\n",
    "                    + 5*edu_df[f'tot_edu_{race}{sex}_4yplus'])\\\r\n",
    "                   / edu_df[f'tot_edu_{race}{sex}']\r\n",
    "    edu_df[f'per_edu_{race}{sex}_nohs'] = (edu_df[f'tot_edu_{race}{sex}']\r\n",
    "                       - edu_df[f'tot_edu_{race}{sex}_hsplus'])\\\r\n",
    "                      / edu_df[f'tot_edu_{race}{sex}']\r\n",
    "# edu_df = edu_df.fillna(-1)\r\n",
    "edu_df.tail()"
   ]
  },
  {
   "cell_type": "code",
   "execution_count": 129,
   "metadata": {},
   "outputs": [],
   "source": [
    "save_df(edu_df, 'edu_df')"
   ]
  },
  {
   "cell_type": "code",
   "execution_count": 130,
   "metadata": {},
   "outputs": [],
   "source": [
    "# edu_df = pd.read_csv('../data/processed/edu_df.csv')"
   ]
  },
  {
   "cell_type": "code",
   "execution_count": 131,
   "metadata": {},
   "outputs": [
    {
     "data": {
      "text/html": "<div>\n<style scoped>\n    .dataframe tbody tr th:only-of-type {\n        vertical-align: middle;\n    }\n\n    .dataframe tbody tr th {\n        vertical-align: top;\n    }\n\n    .dataframe thead th {\n        text-align: right;\n    }\n</style>\n<table border=\"1\" class=\"dataframe\">\n  <thead>\n    <tr style=\"text-align: right;\">\n      <th></th>\n      <th>sumlev</th>\n      <th>state_fips</th>\n      <th>state</th>\n      <th>county</th>\n      <th>fips</th>\n      <th>tot_pop</th>\n      <th>tot_male</th>\n      <th>tot_female</th>\n      <th>tot_pop_white_male</th>\n      <th>tot_pop_white_female</th>\n      <th>...</th>\n      <th>edu_twoplus_male</th>\n      <th>per_edu_twoplus_male_nohs</th>\n      <th>edu_twoplus_female</th>\n      <th>per_edu_twoplus_female_nohs</th>\n      <th>edu_hispanic</th>\n      <th>per_edu_hispanic_nohs</th>\n      <th>edu_hispanic_male</th>\n      <th>per_edu_hispanic_male_nohs</th>\n      <th>edu_hispanic_female</th>\n      <th>per_edu_hispanic_female_nohs</th>\n    </tr>\n  </thead>\n  <tbody>\n    <tr>\n      <th>3137</th>\n      <td>050</td>\n      <td>56</td>\n      <td>Wyoming</td>\n      <td>Sweetwater</td>\n      <td>56037</td>\n      <td>42343</td>\n      <td>21808</td>\n      <td>20535</td>\n      <td>17223</td>\n      <td>16338</td>\n      <td>...</td>\n      <td>2.785124</td>\n      <td>0.000000</td>\n      <td>3.838235</td>\n      <td>0.000000</td>\n      <td>2.143614</td>\n      <td>0.275305</td>\n      <td>1.724343</td>\n      <td>0.311353</td>\n      <td>2.624929</td>\n      <td>0.233921</td>\n    </tr>\n    <tr>\n      <th>3138</th>\n      <td>050</td>\n      <td>56</td>\n      <td>Wyoming</td>\n      <td>Teton</td>\n      <td>56039</td>\n      <td>23464</td>\n      <td>12142</td>\n      <td>11322</td>\n      <td>9832</td>\n      <td>9168</td>\n      <td>...</td>\n      <td>6.903846</td>\n      <td>0.000000</td>\n      <td>NaN</td>\n      <td>NaN</td>\n      <td>1.986849</td>\n      <td>0.334145</td>\n      <td>1.184049</td>\n      <td>0.407975</td>\n      <td>2.717209</td>\n      <td>0.266977</td>\n    </tr>\n    <tr>\n      <th>3139</th>\n      <td>050</td>\n      <td>56</td>\n      <td>Wyoming</td>\n      <td>Uinta</td>\n      <td>56041</td>\n      <td>20226</td>\n      <td>10224</td>\n      <td>10002</td>\n      <td>8935</td>\n      <td>8722</td>\n      <td>...</td>\n      <td>2.377778</td>\n      <td>0.005556</td>\n      <td>1.847059</td>\n      <td>0.076471</td>\n      <td>1.793727</td>\n      <td>0.214717</td>\n      <td>1.818605</td>\n      <td>0.160465</td>\n      <td>1.766917</td>\n      <td>0.273183</td>\n    </tr>\n    <tr>\n      <th>3140</th>\n      <td>050</td>\n      <td>56</td>\n      <td>Wyoming</td>\n      <td>Washakie</td>\n      <td>56043</td>\n      <td>7805</td>\n      <td>3963</td>\n      <td>3842</td>\n      <td>3266</td>\n      <td>3151</td>\n      <td>...</td>\n      <td>1.777778</td>\n      <td>0.111111</td>\n      <td>2.326087</td>\n      <td>0.000000</td>\n      <td>1.985759</td>\n      <td>0.240506</td>\n      <td>1.716049</td>\n      <td>0.327160</td>\n      <td>2.269481</td>\n      <td>0.149351</td>\n    </tr>\n    <tr>\n      <th>3141</th>\n      <td>050</td>\n      <td>56</td>\n      <td>Wyoming</td>\n      <td>Weston</td>\n      <td>56045</td>\n      <td>6927</td>\n      <td>3624</td>\n      <td>3303</td>\n      <td>3273</td>\n      <td>2963</td>\n      <td>...</td>\n      <td>2.000000</td>\n      <td>0.000000</td>\n      <td>4.125000</td>\n      <td>0.000000</td>\n      <td>1.673684</td>\n      <td>0.242105</td>\n      <td>1.612500</td>\n      <td>0.287500</td>\n      <td>2.000000</td>\n      <td>0.000000</td>\n    </tr>\n  </tbody>\n</table>\n<p>5 rows × 200 columns</p>\n</div>",
      "text/plain": "     sumlev state_fips    state      county   fips  tot_pop  tot_male  \\\n3137    050         56  Wyoming  Sweetwater  56037    42343     21808   \n3138    050         56  Wyoming       Teton  56039    23464     12142   \n3139    050         56  Wyoming       Uinta  56041    20226     10224   \n3140    050         56  Wyoming    Washakie  56043     7805      3963   \n3141    050         56  Wyoming      Weston  56045     6927      3624   \n\n      tot_female  tot_pop_white_male  tot_pop_white_female  ...  \\\n3137       20535               17223                 16338  ...   \n3138       11322                9832                  9168  ...   \n3139       10002                8935                  8722  ...   \n3140        3842                3266                  3151  ...   \n3141        3303                3273                  2963  ...   \n\n      edu_twoplus_male  per_edu_twoplus_male_nohs  edu_twoplus_female  \\\n3137          2.785124                   0.000000            3.838235   \n3138          6.903846                   0.000000                 NaN   \n3139          2.377778                   0.005556            1.847059   \n3140          1.777778                   0.111111            2.326087   \n3141          2.000000                   0.000000            4.125000   \n\n      per_edu_twoplus_female_nohs  edu_hispanic  per_edu_hispanic_nohs  \\\n3137                     0.000000      2.143614               0.275305   \n3138                          NaN      1.986849               0.334145   \n3139                     0.076471      1.793727               0.214717   \n3140                     0.000000      1.985759               0.240506   \n3141                     0.000000      1.673684               0.242105   \n\n      edu_hispanic_male  per_edu_hispanic_male_nohs  edu_hispanic_female  \\\n3137           1.724343                    0.311353             2.624929   \n3138           1.184049                    0.407975             2.717209   \n3139           1.818605                    0.160465             1.766917   \n3140           1.716049                    0.327160             2.269481   \n3141           1.612500                    0.287500             2.000000   \n\n      per_edu_hispanic_female_nohs  \n3137                      0.233921  \n3138                      0.266977  \n3139                      0.273183  \n3140                      0.149351  \n3141                      0.000000  \n\n[5 rows x 200 columns]"
     },
     "execution_count": 131,
     "metadata": {},
     "output_type": "execute_result"
    }
   ],
   "source": [
    "info_df = info_df.merge(\r\n",
    "  edu_df[['fips']+edu_df.select_dtypes(include='number').columns.tolist()], \r\n",
    "  on='fips', \r\n",
    "  how='left'\r\n",
    ")\r\n",
    "info_df.tail()"
   ]
  },
  {
   "cell_type": "markdown",
   "metadata": {},
   "source": [
    "# 6. add mask usage statistics"
   ]
  },
  {
   "cell_type": "code",
   "execution_count": 132,
   "metadata": {},
   "outputs": [
    {
     "data": {
      "text/html": "<div>\n<style scoped>\n    .dataframe tbody tr th:only-of-type {\n        vertical-align: middle;\n    }\n\n    .dataframe tbody tr th {\n        vertical-align: top;\n    }\n\n    .dataframe thead th {\n        text-align: right;\n    }\n</style>\n<table border=\"1\" class=\"dataframe\">\n  <thead>\n    <tr style=\"text-align: right;\">\n      <th></th>\n      <th>fips</th>\n      <th>never</th>\n      <th>rarely</th>\n      <th>sometimes</th>\n      <th>frequently</th>\n      <th>always</th>\n    </tr>\n  </thead>\n  <tbody>\n    <tr>\n      <th>0</th>\n      <td>01001</td>\n      <td>0.053</td>\n      <td>0.074</td>\n      <td>0.134</td>\n      <td>0.295</td>\n      <td>0.444</td>\n    </tr>\n    <tr>\n      <th>1</th>\n      <td>01003</td>\n      <td>0.083</td>\n      <td>0.059</td>\n      <td>0.098</td>\n      <td>0.323</td>\n      <td>0.436</td>\n    </tr>\n    <tr>\n      <th>2</th>\n      <td>01005</td>\n      <td>0.067</td>\n      <td>0.121</td>\n      <td>0.120</td>\n      <td>0.201</td>\n      <td>0.491</td>\n    </tr>\n    <tr>\n      <th>3</th>\n      <td>01007</td>\n      <td>0.020</td>\n      <td>0.034</td>\n      <td>0.096</td>\n      <td>0.278</td>\n      <td>0.572</td>\n    </tr>\n    <tr>\n      <th>4</th>\n      <td>01009</td>\n      <td>0.053</td>\n      <td>0.114</td>\n      <td>0.180</td>\n      <td>0.194</td>\n      <td>0.459</td>\n    </tr>\n  </tbody>\n</table>\n</div>",
      "text/plain": "    fips  never  rarely  sometimes  frequently  always\n0  01001  0.053   0.074      0.134       0.295   0.444\n1  01003  0.083   0.059      0.098       0.323   0.436\n2  01005  0.067   0.121      0.120       0.201   0.491\n3  01007  0.020   0.034      0.096       0.278   0.572\n4  01009  0.053   0.114      0.180       0.194   0.459"
     },
     "execution_count": 132,
     "metadata": {},
     "output_type": "execute_result"
    }
   ],
   "source": [
    "with urlopen('https://raw.githubusercontent.com/nytimes/covid-19-data/master/mask-use/mask-use-by-county.csv') as response:\r\n",
    "  mask_df = pd.read_csv(response)\r\n",
    "  \r\n",
    "mask_df.rename(columns={'COUNTYFP':'fips'}, inplace=True)\r\n",
    "mask_df['fips'] = mask_df['fips'].apply('{0:0>5}'.format)\r\n",
    "mask_df.columns = mask_df.columns.str.lower()\r\n",
    "\r\n",
    "mask_df.head()"
   ]
  },
  {
   "cell_type": "code",
   "execution_count": 133,
   "metadata": {},
   "outputs": [
    {
     "data": {
      "text/html": "<div>\n<style scoped>\n    .dataframe tbody tr th:only-of-type {\n        vertical-align: middle;\n    }\n\n    .dataframe tbody tr th {\n        vertical-align: top;\n    }\n\n    .dataframe thead th {\n        text-align: right;\n    }\n</style>\n<table border=\"1\" class=\"dataframe\">\n  <thead>\n    <tr style=\"text-align: right;\">\n      <th></th>\n      <th>fips</th>\n      <th>never</th>\n      <th>rarely</th>\n      <th>sometimes</th>\n      <th>frequently</th>\n      <th>always</th>\n      <th>mask</th>\n    </tr>\n  </thead>\n  <tbody>\n    <tr>\n      <th>3137</th>\n      <td>56037</td>\n      <td>0.061</td>\n      <td>0.295</td>\n      <td>0.230</td>\n      <td>0.146</td>\n      <td>0.268</td>\n      <td>2.265</td>\n    </tr>\n    <tr>\n      <th>3138</th>\n      <td>56039</td>\n      <td>0.095</td>\n      <td>0.157</td>\n      <td>0.160</td>\n      <td>0.247</td>\n      <td>0.340</td>\n      <td>2.578</td>\n    </tr>\n    <tr>\n      <th>3139</th>\n      <td>56041</td>\n      <td>0.098</td>\n      <td>0.278</td>\n      <td>0.154</td>\n      <td>0.207</td>\n      <td>0.264</td>\n      <td>2.263</td>\n    </tr>\n    <tr>\n      <th>3140</th>\n      <td>56043</td>\n      <td>0.204</td>\n      <td>0.155</td>\n      <td>0.069</td>\n      <td>0.285</td>\n      <td>0.287</td>\n      <td>2.296</td>\n    </tr>\n    <tr>\n      <th>3141</th>\n      <td>56045</td>\n      <td>0.142</td>\n      <td>0.129</td>\n      <td>0.148</td>\n      <td>0.207</td>\n      <td>0.374</td>\n      <td>2.542</td>\n    </tr>\n  </tbody>\n</table>\n</div>",
      "text/plain": "       fips  never  rarely  sometimes  frequently  always   mask\n3137  56037  0.061   0.295      0.230       0.146   0.268  2.265\n3138  56039  0.095   0.157      0.160       0.247   0.340  2.578\n3139  56041  0.098   0.278      0.154       0.207   0.264  2.263\n3140  56043  0.204   0.155      0.069       0.285   0.287  2.296\n3141  56045  0.142   0.129      0.148       0.207   0.374  2.542"
     },
     "execution_count": 133,
     "metadata": {},
     "output_type": "execute_result"
    }
   ],
   "source": [
    "mask_df['mask'] = mask_df['rarely'] + 2*mask_df['sometimes']\\\r\n",
    "          + 3*mask_df['frequently'] + 4*mask_df['always']\r\n",
    "mask_df.tail()"
   ]
  },
  {
   "cell_type": "code",
   "execution_count": 134,
   "metadata": {},
   "outputs": [],
   "source": [
    "save_df(mask_df, 'mask_df')"
   ]
  },
  {
   "cell_type": "code",
   "execution_count": 135,
   "metadata": {},
   "outputs": [
    {
     "data": {
      "text/html": "<div>\n<style scoped>\n    .dataframe tbody tr th:only-of-type {\n        vertical-align: middle;\n    }\n\n    .dataframe tbody tr th {\n        vertical-align: top;\n    }\n\n    .dataframe thead th {\n        text-align: right;\n    }\n</style>\n<table border=\"1\" class=\"dataframe\">\n  <thead>\n    <tr style=\"text-align: right;\">\n      <th></th>\n      <th>sumlev</th>\n      <th>state_fips</th>\n      <th>state</th>\n      <th>county</th>\n      <th>fips</th>\n      <th>tot_pop</th>\n      <th>tot_male</th>\n      <th>tot_female</th>\n      <th>tot_pop_white_male</th>\n      <th>tot_pop_white_female</th>\n      <th>...</th>\n      <th>edu_hispanic_male</th>\n      <th>per_edu_hispanic_male_nohs</th>\n      <th>edu_hispanic_female</th>\n      <th>per_edu_hispanic_female_nohs</th>\n      <th>never</th>\n      <th>rarely</th>\n      <th>sometimes</th>\n      <th>frequently</th>\n      <th>always</th>\n      <th>mask</th>\n    </tr>\n  </thead>\n  <tbody>\n    <tr>\n      <th>3137</th>\n      <td>050</td>\n      <td>56</td>\n      <td>Wyoming</td>\n      <td>Sweetwater</td>\n      <td>56037</td>\n      <td>42343</td>\n      <td>21808</td>\n      <td>20535</td>\n      <td>17223</td>\n      <td>16338</td>\n      <td>...</td>\n      <td>1.724343</td>\n      <td>0.311353</td>\n      <td>2.624929</td>\n      <td>0.233921</td>\n      <td>0.061</td>\n      <td>0.295</td>\n      <td>0.230</td>\n      <td>0.146</td>\n      <td>0.268</td>\n      <td>2.265</td>\n    </tr>\n    <tr>\n      <th>3138</th>\n      <td>050</td>\n      <td>56</td>\n      <td>Wyoming</td>\n      <td>Teton</td>\n      <td>56039</td>\n      <td>23464</td>\n      <td>12142</td>\n      <td>11322</td>\n      <td>9832</td>\n      <td>9168</td>\n      <td>...</td>\n      <td>1.184049</td>\n      <td>0.407975</td>\n      <td>2.717209</td>\n      <td>0.266977</td>\n      <td>0.095</td>\n      <td>0.157</td>\n      <td>0.160</td>\n      <td>0.247</td>\n      <td>0.340</td>\n      <td>2.578</td>\n    </tr>\n    <tr>\n      <th>3139</th>\n      <td>050</td>\n      <td>56</td>\n      <td>Wyoming</td>\n      <td>Uinta</td>\n      <td>56041</td>\n      <td>20226</td>\n      <td>10224</td>\n      <td>10002</td>\n      <td>8935</td>\n      <td>8722</td>\n      <td>...</td>\n      <td>1.818605</td>\n      <td>0.160465</td>\n      <td>1.766917</td>\n      <td>0.273183</td>\n      <td>0.098</td>\n      <td>0.278</td>\n      <td>0.154</td>\n      <td>0.207</td>\n      <td>0.264</td>\n      <td>2.263</td>\n    </tr>\n    <tr>\n      <th>3140</th>\n      <td>050</td>\n      <td>56</td>\n      <td>Wyoming</td>\n      <td>Washakie</td>\n      <td>56043</td>\n      <td>7805</td>\n      <td>3963</td>\n      <td>3842</td>\n      <td>3266</td>\n      <td>3151</td>\n      <td>...</td>\n      <td>1.716049</td>\n      <td>0.327160</td>\n      <td>2.269481</td>\n      <td>0.149351</td>\n      <td>0.204</td>\n      <td>0.155</td>\n      <td>0.069</td>\n      <td>0.285</td>\n      <td>0.287</td>\n      <td>2.296</td>\n    </tr>\n    <tr>\n      <th>3141</th>\n      <td>050</td>\n      <td>56</td>\n      <td>Wyoming</td>\n      <td>Weston</td>\n      <td>56045</td>\n      <td>6927</td>\n      <td>3624</td>\n      <td>3303</td>\n      <td>3273</td>\n      <td>2963</td>\n      <td>...</td>\n      <td>1.612500</td>\n      <td>0.287500</td>\n      <td>2.000000</td>\n      <td>0.000000</td>\n      <td>0.142</td>\n      <td>0.129</td>\n      <td>0.148</td>\n      <td>0.207</td>\n      <td>0.374</td>\n      <td>2.542</td>\n    </tr>\n  </tbody>\n</table>\n<p>5 rows × 206 columns</p>\n</div>",
      "text/plain": "     sumlev state_fips    state      county   fips  tot_pop  tot_male  \\\n3137    050         56  Wyoming  Sweetwater  56037    42343     21808   \n3138    050         56  Wyoming       Teton  56039    23464     12142   \n3139    050         56  Wyoming       Uinta  56041    20226     10224   \n3140    050         56  Wyoming    Washakie  56043     7805      3963   \n3141    050         56  Wyoming      Weston  56045     6927      3624   \n\n      tot_female  tot_pop_white_male  tot_pop_white_female  ...  \\\n3137       20535               17223                 16338  ...   \n3138       11322                9832                  9168  ...   \n3139       10002                8935                  8722  ...   \n3140        3842                3266                  3151  ...   \n3141        3303                3273                  2963  ...   \n\n      edu_hispanic_male  per_edu_hispanic_male_nohs  edu_hispanic_female  \\\n3137           1.724343                    0.311353             2.624929   \n3138           1.184049                    0.407975             2.717209   \n3139           1.818605                    0.160465             1.766917   \n3140           1.716049                    0.327160             2.269481   \n3141           1.612500                    0.287500             2.000000   \n\n      per_edu_hispanic_female_nohs  never  rarely  sometimes  frequently  \\\n3137                      0.233921  0.061   0.295      0.230       0.146   \n3138                      0.266977  0.095   0.157      0.160       0.247   \n3139                      0.273183  0.098   0.278      0.154       0.207   \n3140                      0.149351  0.204   0.155      0.069       0.285   \n3141                      0.000000  0.142   0.129      0.148       0.207   \n\n      always   mask  \n3137   0.268  2.265  \n3138   0.340  2.578  \n3139   0.264  2.263  \n3140   0.287  2.296  \n3141   0.374  2.542  \n\n[5 rows x 206 columns]"
     },
     "execution_count": 135,
     "metadata": {},
     "output_type": "execute_result"
    }
   ],
   "source": [
    "info_df = info_df.merge(mask_df, on='fips', how='left')\n",
    "info_df.tail()"
   ]
  },
  {
   "cell_type": "code",
   "execution_count": 136,
   "metadata": {},
   "outputs": [
    {
     "data": {
      "text/plain": "Index(['sumlev', 'state_fips', 'state', 'county', 'fips', 'tot_pop',\n       'tot_male', 'tot_female', 'tot_pop_white_male', 'tot_pop_white_female',\n       ...\n       'edu_hispanic_male', 'per_edu_hispanic_male_nohs',\n       'edu_hispanic_female', 'per_edu_hispanic_female_nohs', 'never',\n       'rarely', 'sometimes', 'frequently', 'always', 'mask'],\n      dtype='object', length=206)"
     },
     "execution_count": 136,
     "metadata": {},
     "output_type": "execute_result"
    }
   ],
   "source": [
    "info_df.columns"
   ]
  },
  {
   "cell_type": "code",
   "execution_count": 137,
   "metadata": {},
   "outputs": [],
   "source": [
    "info_df['pop_density'] = info_df['tot_pop'] / info_df['area']"
   ]
  },
  {
   "cell_type": "code",
   "execution_count": 138,
   "metadata": {},
   "outputs": [],
   "source": [
    "# def per_population(df, divisor='tot_pop', ignore=['tot_pop']):\r\n",
    "  \r\n",
    "#   cols = [c for c in df.columns.tolist() if c[:4]=='tot_']\r\n",
    "  \r\n",
    "#   for c in cols:\r\n",
    "#     if c not in ignore:\r\n",
    "#       df[c.replace('tot_', 'per_')] = df[c] / df[divisor]\r\n",
    "  \r\n",
    "#   return df\r\n",
    "\r\n",
    "# edu_cols_to_ignore = [c for c in info_df.columns if 'edu' in c]\r\n",
    "# info_df = info_df.pipe(\r\n",
    "#   per_population, \r\n",
    "#   ignore=['tot_pop', 'tot_dem', 'tot_gop']+edu_cols_to_ignore\r\n",
    "# )\r\n",
    "# info_df.head()"
   ]
  },
  {
   "cell_type": "markdown",
   "metadata": {
    "colab_type": "text",
    "id": "Pjr_s8ejfK6R"
   },
   "source": [
    "# import CSSE data\n",
    "\n",
    ">Note: New York Times data has a few caveats, including treating New York City, Kansas City, and Joplin as single entities rather than including them in their respective counties. Read their [README](https://github.com/nytimes/covid-19-data/blob/master/README.md) for more information."
   ]
  },
  {
   "cell_type": "code",
   "execution_count": 139,
   "metadata": {},
   "outputs": [
    {
     "data": {
      "text/html": "<div>\n<style scoped>\n    .dataframe tbody tr th:only-of-type {\n        vertical-align: middle;\n    }\n\n    .dataframe tbody tr th {\n        vertical-align: top;\n    }\n\n    .dataframe thead th {\n        text-align: right;\n    }\n</style>\n<table border=\"1\" class=\"dataframe\">\n  <thead>\n    <tr style=\"text-align: right;\">\n      <th></th>\n      <th>sumlev</th>\n      <th>state_fips</th>\n      <th>state</th>\n      <th>county</th>\n      <th>fips</th>\n      <th>tot_pop</th>\n      <th>tot_male</th>\n      <th>tot_female</th>\n      <th>tot_pop_white_male</th>\n      <th>tot_pop_white_female</th>\n      <th>...</th>\n      <th>per_edu_hispanic_male_nohs</th>\n      <th>edu_hispanic_female</th>\n      <th>per_edu_hispanic_female_nohs</th>\n      <th>never</th>\n      <th>rarely</th>\n      <th>sometimes</th>\n      <th>frequently</th>\n      <th>always</th>\n      <th>mask</th>\n      <th>pop_density</th>\n    </tr>\n  </thead>\n  <tbody>\n    <tr>\n      <th>0</th>\n      <td>050</td>\n      <td>01</td>\n      <td>Alabama</td>\n      <td>Autauga</td>\n      <td>01001</td>\n      <td>55869</td>\n      <td>27092</td>\n      <td>28777</td>\n      <td>20138</td>\n      <td>21077</td>\n      <td>...</td>\n      <td>0.164835</td>\n      <td>3.020661</td>\n      <td>0.088843</td>\n      <td>0.053</td>\n      <td>0.074</td>\n      <td>0.134</td>\n      <td>0.295</td>\n      <td>0.444</td>\n      <td>3.003</td>\n      <td>36.287947</td>\n    </tr>\n    <tr>\n      <th>1</th>\n      <td>050</td>\n      <td>01</td>\n      <td>Alabama</td>\n      <td>Baldwin</td>\n      <td>01003</td>\n      <td>223234</td>\n      <td>108247</td>\n      <td>114987</td>\n      <td>89845</td>\n      <td>95902</td>\n      <td>...</td>\n      <td>0.340487</td>\n      <td>3.282700</td>\n      <td>0.151899</td>\n      <td>0.083</td>\n      <td>0.059</td>\n      <td>0.098</td>\n      <td>0.323</td>\n      <td>0.436</td>\n      <td>2.968</td>\n      <td>54.215293</td>\n    </tr>\n    <tr>\n      <th>2</th>\n      <td>050</td>\n      <td>01</td>\n      <td>Alabama</td>\n      <td>Barbour</td>\n      <td>01005</td>\n      <td>24686</td>\n      <td>13064</td>\n      <td>11622</td>\n      <td>5894</td>\n      <td>5341</td>\n      <td>...</td>\n      <td>0.513924</td>\n      <td>1.112360</td>\n      <td>0.668539</td>\n      <td>0.067</td>\n      <td>0.121</td>\n      <td>0.120</td>\n      <td>0.201</td>\n      <td>0.491</td>\n      <td>2.928</td>\n      <td>10.769826</td>\n    </tr>\n    <tr>\n      <th>3</th>\n      <td>050</td>\n      <td>01</td>\n      <td>Alabama</td>\n      <td>Bibb</td>\n      <td>01007</td>\n      <td>22394</td>\n      <td>11929</td>\n      <td>10465</td>\n      <td>8482</td>\n      <td>8181</td>\n      <td>...</td>\n      <td>0.444444</td>\n      <td>1.563380</td>\n      <td>0.218310</td>\n      <td>0.020</td>\n      <td>0.034</td>\n      <td>0.096</td>\n      <td>0.278</td>\n      <td>0.572</td>\n      <td>3.348</td>\n      <td>13.890616</td>\n    </tr>\n    <tr>\n      <th>4</th>\n      <td>050</td>\n      <td>01</td>\n      <td>Alabama</td>\n      <td>Blount</td>\n      <td>01009</td>\n      <td>57826</td>\n      <td>28472</td>\n      <td>29354</td>\n      <td>24494</td>\n      <td>25682</td>\n      <td>...</td>\n      <td>0.675749</td>\n      <td>1.077058</td>\n      <td>0.535902</td>\n      <td>0.053</td>\n      <td>0.114</td>\n      <td>0.180</td>\n      <td>0.194</td>\n      <td>0.459</td>\n      <td>2.892</td>\n      <td>34.624193</td>\n    </tr>\n  </tbody>\n</table>\n<p>5 rows × 207 columns</p>\n</div>",
      "text/plain": "  sumlev state_fips    state   county   fips  tot_pop  tot_male  tot_female  \\\n0    050         01  Alabama  Autauga  01001    55869     27092       28777   \n1    050         01  Alabama  Baldwin  01003   223234    108247      114987   \n2    050         01  Alabama  Barbour  01005    24686     13064       11622   \n3    050         01  Alabama     Bibb  01007    22394     11929       10465   \n4    050         01  Alabama   Blount  01009    57826     28472       29354   \n\n   tot_pop_white_male  tot_pop_white_female  ...  per_edu_hispanic_male_nohs  \\\n0               20138                 21077  ...                    0.164835   \n1               89845                 95902  ...                    0.340487   \n2                5894                  5341  ...                    0.513924   \n3                8482                  8181  ...                    0.444444   \n4               24494                 25682  ...                    0.675749   \n\n   edu_hispanic_female  per_edu_hispanic_female_nohs  never  rarely  \\\n0             3.020661                      0.088843  0.053   0.074   \n1             3.282700                      0.151899  0.083   0.059   \n2             1.112360                      0.668539  0.067   0.121   \n3             1.563380                      0.218310  0.020   0.034   \n4             1.077058                      0.535902  0.053   0.114   \n\n   sometimes  frequently  always   mask  pop_density  \n0      0.134       0.295   0.444  3.003    36.287947  \n1      0.098       0.323   0.436  2.968    54.215293  \n2      0.120       0.201   0.491  2.928    10.769826  \n3      0.096       0.278   0.572  3.348    13.890616  \n4      0.180       0.194   0.459  2.892    34.624193  \n\n[5 rows x 207 columns]"
     },
     "execution_count": 139,
     "metadata": {},
     "output_type": "execute_result"
    }
   ],
   "source": [
    "# with open('../data/processed/info_df.p', 'rb') as f:\r\n",
    "#   info_df = pickle.load(f)\r\n",
    "  \r\n",
    "info_df.head()"
   ]
  },
  {
   "cell_type": "code",
   "execution_count": 140,
   "metadata": {},
   "outputs": [
    {
     "data": {
      "text/html": "<div>\n<style scoped>\n    .dataframe tbody tr th:only-of-type {\n        vertical-align: middle;\n    }\n\n    .dataframe tbody tr th {\n        vertical-align: top;\n    }\n\n    .dataframe thead th {\n        text-align: right;\n    }\n</style>\n<table border=\"1\" class=\"dataframe\">\n  <thead>\n    <tr style=\"text-align: right;\">\n      <th></th>\n      <th>fips</th>\n      <th>lat</th>\n      <th>lon</th>\n      <th>1/22/20</th>\n      <th>1/23/20</th>\n      <th>1/24/20</th>\n      <th>1/25/20</th>\n      <th>1/26/20</th>\n      <th>1/27/20</th>\n      <th>1/28/20</th>\n      <th>...</th>\n      <th>11/28/20</th>\n      <th>11/29/20</th>\n      <th>11/30/20</th>\n      <th>12/1/20</th>\n      <th>12/2/20</th>\n      <th>12/3/20</th>\n      <th>12/4/20</th>\n      <th>12/5/20</th>\n      <th>12/6/20</th>\n      <th>12/7/20</th>\n    </tr>\n  </thead>\n  <tbody>\n    <tr>\n      <th>0</th>\n      <td>01001</td>\n      <td>32.539527</td>\n      <td>-86.644082</td>\n      <td>0</td>\n      <td>0</td>\n      <td>0</td>\n      <td>0</td>\n      <td>0</td>\n      <td>0</td>\n      <td>0</td>\n      <td>...</td>\n      <td>2735</td>\n      <td>2751</td>\n      <td>2780</td>\n      <td>2818</td>\n      <td>2873</td>\n      <td>2893</td>\n      <td>2945</td>\n      <td>2979</td>\n      <td>3005</td>\n      <td>3043</td>\n    </tr>\n    <tr>\n      <th>1</th>\n      <td>01003</td>\n      <td>30.727750</td>\n      <td>-87.722071</td>\n      <td>0</td>\n      <td>0</td>\n      <td>0</td>\n      <td>0</td>\n      <td>0</td>\n      <td>0</td>\n      <td>0</td>\n      <td>...</td>\n      <td>8733</td>\n      <td>8820</td>\n      <td>8890</td>\n      <td>9051</td>\n      <td>9163</td>\n      <td>9341</td>\n      <td>9501</td>\n      <td>9626</td>\n      <td>9728</td>\n      <td>9821</td>\n    </tr>\n    <tr>\n      <th>2</th>\n      <td>01005</td>\n      <td>31.868263</td>\n      <td>-85.387129</td>\n      <td>0</td>\n      <td>0</td>\n      <td>0</td>\n      <td>0</td>\n      <td>0</td>\n      <td>0</td>\n      <td>0</td>\n      <td>...</td>\n      <td>1173</td>\n      <td>1175</td>\n      <td>1178</td>\n      <td>1189</td>\n      <td>1206</td>\n      <td>1214</td>\n      <td>1217</td>\n      <td>1219</td>\n      <td>1223</td>\n      <td>1224</td>\n    </tr>\n    <tr>\n      <th>3</th>\n      <td>01007</td>\n      <td>32.996421</td>\n      <td>-87.125115</td>\n      <td>0</td>\n      <td>0</td>\n      <td>0</td>\n      <td>0</td>\n      <td>0</td>\n      <td>0</td>\n      <td>0</td>\n      <td>...</td>\n      <td>1179</td>\n      <td>1188</td>\n      <td>1196</td>\n      <td>1204</td>\n      <td>1239</td>\n      <td>1252</td>\n      <td>1270</td>\n      <td>1283</td>\n      <td>1293</td>\n      <td>1299</td>\n    </tr>\n    <tr>\n      <th>4</th>\n      <td>01009</td>\n      <td>33.982109</td>\n      <td>-86.567906</td>\n      <td>0</td>\n      <td>0</td>\n      <td>0</td>\n      <td>0</td>\n      <td>0</td>\n      <td>0</td>\n      <td>0</td>\n      <td>...</td>\n      <td>2922</td>\n      <td>2946</td>\n      <td>2997</td>\n      <td>3061</td>\n      <td>3100</td>\n      <td>3158</td>\n      <td>3231</td>\n      <td>3281</td>\n      <td>3299</td>\n      <td>3324</td>\n    </tr>\n  </tbody>\n</table>\n<p>5 rows × 324 columns</p>\n</div>",
      "text/plain": "    fips        lat        lon  1/22/20  1/23/20  1/24/20  1/25/20  1/26/20  \\\n0  01001  32.539527 -86.644082        0        0        0        0        0   \n1  01003  30.727750 -87.722071        0        0        0        0        0   \n2  01005  31.868263 -85.387129        0        0        0        0        0   \n3  01007  32.996421 -87.125115        0        0        0        0        0   \n4  01009  33.982109 -86.567906        0        0        0        0        0   \n\n   1/27/20  1/28/20  ...  11/28/20  11/29/20  11/30/20  12/1/20  12/2/20  \\\n0        0        0  ...      2735      2751      2780     2818     2873   \n1        0        0  ...      8733      8820      8890     9051     9163   \n2        0        0  ...      1173      1175      1178     1189     1206   \n3        0        0  ...      1179      1188      1196     1204     1239   \n4        0        0  ...      2922      2946      2997     3061     3100   \n\n   12/3/20  12/4/20  12/5/20  12/6/20  12/7/20  \n0     2893     2945     2979     3005     3043  \n1     9341     9501     9626     9728     9821  \n2     1214     1217     1219     1223     1224  \n3     1252     1270     1283     1293     1299  \n4     3158     3231     3281     3299     3324  \n\n[5 rows x 324 columns]"
     },
     "execution_count": 140,
     "metadata": {},
     "output_type": "execute_result"
    }
   ],
   "source": [
    "with urlopen('https://raw.githubusercontent.com/CSSEGISandData/COVID-19/master/csse_covid_19_data/csse_covid_19_time_series/time_series_covid19_confirmed_US.csv') as response:\r\n",
    "  csse_cases = pd.read_csv(response, dtype={'UID': str})\r\n",
    "\r\n",
    "csse_cases.columns = csse_cases.columns.str.lower()\r\n",
    "csse_cases = csse_cases.drop(columns=['iso2', 'iso3', 'code3', 'fips', 'admin2', 'province_state', 'country_region', 'combined_key'])\r\n",
    "csse_cases = csse_cases.rename(\r\n",
    "  columns={\r\n",
    "  'uid': 'fips',\r\n",
    "  'long_': 'lon'\r\n",
    "  }\r\n",
    ")\r\n",
    "csse_cases['fips'] = csse_cases['fips'].apply(lambda x: x[-5:])\r\n",
    "csse_cases.head()"
   ]
  },
  {
   "cell_type": "code",
   "execution_count": 141,
   "metadata": {},
   "outputs": [],
   "source": [
    "\r\n",
    "\r\n",
    "# csse_deaths.columns = csse_deaths.columns.str.lower()\r\n",
    "# csse_deaths = csse_deaths.drop(columns=['lat', 'long_', 'population', 'iso2', 'iso3', 'code3', 'fips', 'admin2', 'province_state', 'country_region', 'combined_key'])\r\n",
    "# csse_deaths = csse_deaths.rename(\r\n",
    "#   columns={\r\n",
    "#   'uid': 'fips'\r\n",
    "#   }\r\n",
    "# )\r\n",
    "# csse_deaths['fips'] = csse_deaths['fips'].apply(lambda x: x[-5:])\r\n",
    "# csse_deaths.head()"
   ]
  },
  {
   "cell_type": "code",
   "execution_count": 142,
   "metadata": {},
   "outputs": [
    {
     "data": {
      "text/html": "<div>\n<style scoped>\n    .dataframe tbody tr th:only-of-type {\n        vertical-align: middle;\n    }\n\n    .dataframe tbody tr th {\n        vertical-align: top;\n    }\n\n    .dataframe thead th {\n        text-align: right;\n    }\n</style>\n<table border=\"1\" class=\"dataframe\">\n  <thead>\n    <tr style=\"text-align: right;\">\n      <th></th>\n      <th>sumlev</th>\n      <th>state_fips</th>\n      <th>state</th>\n      <th>county</th>\n      <th>fips</th>\n      <th>tot_pop</th>\n      <th>tot_male</th>\n      <th>tot_female</th>\n      <th>tot_pop_white_male</th>\n      <th>tot_pop_white_female</th>\n      <th>...</th>\n      <th>per_edu_hispanic_female_nohs</th>\n      <th>never</th>\n      <th>rarely</th>\n      <th>sometimes</th>\n      <th>frequently</th>\n      <th>always</th>\n      <th>mask</th>\n      <th>pop_density</th>\n      <th>lat</th>\n      <th>lon</th>\n    </tr>\n  </thead>\n  <tbody>\n    <tr>\n      <th>3137</th>\n      <td>050</td>\n      <td>56</td>\n      <td>Wyoming</td>\n      <td>Sweetwater</td>\n      <td>56037</td>\n      <td>42343</td>\n      <td>21808</td>\n      <td>20535</td>\n      <td>17223</td>\n      <td>16338</td>\n      <td>...</td>\n      <td>0.233921</td>\n      <td>0.061</td>\n      <td>0.295</td>\n      <td>0.230</td>\n      <td>0.146</td>\n      <td>0.268</td>\n      <td>2.265</td>\n      <td>1.567925</td>\n      <td>41.659439</td>\n      <td>-108.882788</td>\n    </tr>\n    <tr>\n      <th>3138</th>\n      <td>050</td>\n      <td>56</td>\n      <td>Wyoming</td>\n      <td>Teton</td>\n      <td>56039</td>\n      <td>23464</td>\n      <td>12142</td>\n      <td>11322</td>\n      <td>9832</td>\n      <td>9168</td>\n      <td>...</td>\n      <td>0.266977</td>\n      <td>0.095</td>\n      <td>0.157</td>\n      <td>0.160</td>\n      <td>0.247</td>\n      <td>0.340</td>\n      <td>2.578</td>\n      <td>2.266662</td>\n      <td>43.935225</td>\n      <td>-110.589080</td>\n    </tr>\n    <tr>\n      <th>3139</th>\n      <td>050</td>\n      <td>56</td>\n      <td>Wyoming</td>\n      <td>Uinta</td>\n      <td>56041</td>\n      <td>20226</td>\n      <td>10224</td>\n      <td>10002</td>\n      <td>8935</td>\n      <td>8722</td>\n      <td>...</td>\n      <td>0.273183</td>\n      <td>0.098</td>\n      <td>0.278</td>\n      <td>0.154</td>\n      <td>0.207</td>\n      <td>0.264</td>\n      <td>2.263</td>\n      <td>3.751369</td>\n      <td>41.287818</td>\n      <td>-110.547578</td>\n    </tr>\n    <tr>\n      <th>3140</th>\n      <td>050</td>\n      <td>56</td>\n      <td>Wyoming</td>\n      <td>Washakie</td>\n      <td>56043</td>\n      <td>7805</td>\n      <td>3963</td>\n      <td>3842</td>\n      <td>3266</td>\n      <td>3151</td>\n      <td>...</td>\n      <td>0.149351</td>\n      <td>0.204</td>\n      <td>0.155</td>\n      <td>0.069</td>\n      <td>0.285</td>\n      <td>0.287</td>\n      <td>2.296</td>\n      <td>1.346122</td>\n      <td>43.904516</td>\n      <td>-107.680187</td>\n    </tr>\n    <tr>\n      <th>3141</th>\n      <td>050</td>\n      <td>56</td>\n      <td>Wyoming</td>\n      <td>Weston</td>\n      <td>56045</td>\n      <td>6927</td>\n      <td>3624</td>\n      <td>3303</td>\n      <td>3273</td>\n      <td>2963</td>\n      <td>...</td>\n      <td>0.000000</td>\n      <td>0.142</td>\n      <td>0.129</td>\n      <td>0.148</td>\n      <td>0.207</td>\n      <td>0.374</td>\n      <td>2.542</td>\n      <td>1.115315</td>\n      <td>43.839612</td>\n      <td>-104.567488</td>\n    </tr>\n  </tbody>\n</table>\n<p>5 rows × 209 columns</p>\n</div>",
      "text/plain": "     sumlev state_fips    state      county   fips  tot_pop  tot_male  \\\n3137    050         56  Wyoming  Sweetwater  56037    42343     21808   \n3138    050         56  Wyoming       Teton  56039    23464     12142   \n3139    050         56  Wyoming       Uinta  56041    20226     10224   \n3140    050         56  Wyoming    Washakie  56043     7805      3963   \n3141    050         56  Wyoming      Weston  56045     6927      3624   \n\n      tot_female  tot_pop_white_male  tot_pop_white_female  ...  \\\n3137       20535               17223                 16338  ...   \n3138       11322                9832                  9168  ...   \n3139       10002                8935                  8722  ...   \n3140        3842                3266                  3151  ...   \n3141        3303                3273                  2963  ...   \n\n      per_edu_hispanic_female_nohs  never  rarely  sometimes  frequently  \\\n3137                      0.233921  0.061   0.295      0.230       0.146   \n3138                      0.266977  0.095   0.157      0.160       0.247   \n3139                      0.273183  0.098   0.278      0.154       0.207   \n3140                      0.149351  0.204   0.155      0.069       0.285   \n3141                      0.000000  0.142   0.129      0.148       0.207   \n\n      always   mask  pop_density        lat         lon  \n3137   0.268  2.265     1.567925  41.659439 -108.882788  \n3138   0.340  2.578     2.266662  43.935225 -110.589080  \n3139   0.264  2.263     3.751369  41.287818 -110.547578  \n3140   0.287  2.296     1.346122  43.904516 -107.680187  \n3141   0.374  2.542     1.115315  43.839612 -104.567488  \n\n[5 rows x 209 columns]"
     },
     "execution_count": 142,
     "metadata": {},
     "output_type": "execute_result"
    }
   ],
   "source": [
    "info_df = info_df.merge(csse_cases[['fips', 'lat', 'lon']], on='fips', how='left')\n",
    "info_df.tail()"
   ]
  },
  {
   "cell_type": "markdown",
   "metadata": {},
   "source": [
    "## save info_df"
   ]
  },
  {
   "cell_type": "code",
   "execution_count": 143,
   "metadata": {},
   "outputs": [],
   "source": [
    "save_df(info_df, 'info_df', csv_=True)"
   ]
  },
  {
   "cell_type": "markdown",
   "metadata": {},
   "source": [
    "## convert to long-form data"
   ]
  },
  {
   "cell_type": "markdown",
   "metadata": {},
   "source": [
    "This will include some code up above but will provide basis for automatically grabbing CSSE data and updating our site."
   ]
  },
  {
   "cell_type": "code",
   "execution_count": 83,
   "metadata": {},
   "outputs": [],
   "source": [
    "fips = set(info_df['fips'])\r\n",
    "\r\n",
    "def preprocess_csse(df, name):\r\n",
    "  df.columns = df.columns.str.lower()\r\n",
    "  columns_to_drop = ['lat', 'long_', 'iso2', 'iso3', 'code3', 'fips', \r\n",
    "           'admin2', 'province_state', 'country_region', \r\n",
    "           'combined_key']\r\n",
    "  if 'population' in df.columns.tolist():\r\n",
    "    columns_to_drop.append('population')\r\n",
    "  df = df.drop(columns=columns_to_drop)\r\n",
    "  df = df.rename(columns={'uid': 'fips'})\r\n",
    "  df['fips'] = df['fips'].apply(lambda x: x[-5:])  \r\n",
    "  # convert to long-form\r\n",
    "  df = pd.DataFrame(df.set_index('fips').unstack()).rename(columns={0: name})\r\n",
    "  return df\r\n",
    "\r\n",
    "\r\n",
    "def make_csse_df():\r\n",
    "  \r\n",
    "  with urlopen('https://raw.githubusercontent.com/CSSEGISandData/COVID-19/master/csse_covid_19_data/csse_covid_19_time_series/time_series_covid19_confirmed_US.csv') as response:\r\n",
    "    cases = pd.read_csv(response, dtype={'UID': str})\r\n",
    "  with urlopen('https://raw.githubusercontent.com/CSSEGISandData/COVID-19/master/csse_covid_19_data/csse_covid_19_time_series/time_series_covid19_deaths_US.csv') as response:\r\n",
    "    deaths = pd.read_csv(response, dtype={'UID': str})\r\n",
    "  \r\n",
    "  cases = preprocess_csse(cases, 'cases')\r\n",
    "  deaths = preprocess_csse(deaths, 'deaths')\r\n",
    "  \r\n",
    "  df = pd.concat([cases, deaths], axis=1)     # merge along multi-index\r\n",
    "  \r\n",
    "  df.index = df.index.set_levels(         # change date to pd.datetime\r\n",
    "    [pd.to_datetime(df.index.levels[0]), \r\n",
    "    df.index.levels[1]]\r\n",
    "    )\r\n",
    "  \r\n",
    "  df = df.reset_index().rename(columns={'level_0': 'date'})\r\n",
    "  df = df[df['fips'].isin(fips)]\r\n",
    "  \r\n",
    "  # df[['new_cases', 'new_deaths']] = df[['cases', 'deaths']] - df.groupby(by='fips')[['cases', 'deaths']].shift()\r\n",
    "  # df[['new_cases_c', 'new_deaths_c']] = df[['new_cases', 'new_deaths']].clip(lower=0)\r\n",
    "  df = df.fillna(0)\r\n",
    "  num_cols = df.select_dtypes(include='number').columns\r\n",
    "  df[num_cols] = df[num_cols].astype(int)\r\n",
    "  \r\n",
    "  return df"
   ]
  },
  {
   "cell_type": "code",
   "execution_count": 84,
   "metadata": {},
   "outputs": [],
   "source": [
    "csse_df = make_csse_df()"
   ]
  },
  {
   "cell_type": "code",
   "execution_count": 85,
   "metadata": {},
   "outputs": [
    {
     "data": {
      "text/html": "<div>\n<style scoped>\n    .dataframe tbody tr th:only-of-type {\n        vertical-align: middle;\n    }\n\n    .dataframe tbody tr th {\n        vertical-align: top;\n    }\n\n    .dataframe thead th {\n        text-align: right;\n    }\n</style>\n<table border=\"1\" class=\"dataframe\">\n  <thead>\n    <tr style=\"text-align: right;\">\n      <th></th>\n      <th>date</th>\n      <th>fips</th>\n      <th>cases</th>\n      <th>deaths</th>\n    </tr>\n  </thead>\n  <tbody>\n    <tr>\n      <th>1072134</th>\n      <td>2020-12-07</td>\n      <td>56037</td>\n      <td>2176</td>\n      <td>11</td>\n    </tr>\n    <tr>\n      <th>1072135</th>\n      <td>2020-12-07</td>\n      <td>56039</td>\n      <td>1810</td>\n      <td>2</td>\n    </tr>\n    <tr>\n      <th>1072136</th>\n      <td>2020-12-07</td>\n      <td>56041</td>\n      <td>1221</td>\n      <td>6</td>\n    </tr>\n    <tr>\n      <th>1072138</th>\n      <td>2020-12-07</td>\n      <td>56043</td>\n      <td>556</td>\n      <td>10</td>\n    </tr>\n    <tr>\n      <th>1072139</th>\n      <td>2020-12-07</td>\n      <td>56045</td>\n      <td>422</td>\n      <td>2</td>\n    </tr>\n  </tbody>\n</table>\n</div>",
      "text/plain": "              date   fips  cases  deaths\n1072134 2020-12-07  56037   2176      11\n1072135 2020-12-07  56039   1810       2\n1072136 2020-12-07  56041   1221       6\n1072138 2020-12-07  56043    556      10\n1072139 2020-12-07  56045    422       2"
     },
     "execution_count": 85,
     "metadata": {},
     "output_type": "execute_result"
    }
   ],
   "source": [
    "csse_df.tail()"
   ]
  },
  {
   "cell_type": "code",
   "execution_count": 86,
   "metadata": {},
   "outputs": [
    {
     "data": {
      "text/plain": "Index(['cases', 'deaths'], dtype='object')"
     },
     "execution_count": 86,
     "metadata": {},
     "output_type": "execute_result"
    }
   ],
   "source": [
    "csse_df.select_dtypes(include='number').columns"
   ]
  },
  {
   "cell_type": "code",
   "execution_count": 87,
   "metadata": {},
   "outputs": [],
   "source": [
    "save_df(csse_df, 'csse_df')"
   ]
  },
  {
   "cell_type": "markdown",
   "metadata": {},
   "source": [
    "## engineer per capita columns"
   ]
  },
  {
   "cell_type": "code",
   "execution_count": 88,
   "metadata": {},
   "outputs": [
    {
     "name": "stdout",
     "output_type": "stream",
     "text": [
      "(1008582, 6)\n"
     ]
    },
    {
     "data": {
      "text/html": "<div>\n<style scoped>\n    .dataframe tbody tr th:only-of-type {\n        vertical-align: middle;\n    }\n\n    .dataframe tbody tr th {\n        vertical-align: top;\n    }\n\n    .dataframe thead th {\n        text-align: right;\n    }\n</style>\n<table border=\"1\" class=\"dataframe\">\n  <thead>\n    <tr style=\"text-align: right;\">\n      <th></th>\n      <th>date</th>\n      <th>fips</th>\n      <th>cases</th>\n      <th>deaths</th>\n      <th>cases_per_100k</th>\n      <th>deaths_per_100k</th>\n    </tr>\n  </thead>\n  <tbody>\n    <tr>\n      <th>0</th>\n      <td>2020-01-22</td>\n      <td>01001</td>\n      <td>0</td>\n      <td>0</td>\n      <td>0.0</td>\n      <td>0.0</td>\n    </tr>\n    <tr>\n      <th>321</th>\n      <td>2020-01-22</td>\n      <td>01003</td>\n      <td>0</td>\n      <td>0</td>\n      <td>0.0</td>\n      <td>0.0</td>\n    </tr>\n    <tr>\n      <th>642</th>\n      <td>2020-01-22</td>\n      <td>01005</td>\n      <td>0</td>\n      <td>0</td>\n      <td>0.0</td>\n      <td>0.0</td>\n    </tr>\n    <tr>\n      <th>963</th>\n      <td>2020-01-22</td>\n      <td>01007</td>\n      <td>0</td>\n      <td>0</td>\n      <td>0.0</td>\n      <td>0.0</td>\n    </tr>\n    <tr>\n      <th>1284</th>\n      <td>2020-01-22</td>\n      <td>01009</td>\n      <td>0</td>\n      <td>0</td>\n      <td>0.0</td>\n      <td>0.0</td>\n    </tr>\n  </tbody>\n</table>\n</div>",
      "text/plain": "           date   fips  cases  deaths  cases_per_100k  deaths_per_100k\n0    2020-01-22  01001      0       0             0.0              0.0\n321  2020-01-22  01003      0       0             0.0              0.0\n642  2020-01-22  01005      0       0             0.0              0.0\n963  2020-01-22  01007      0       0             0.0              0.0\n1284 2020-01-22  01009      0       0             0.0              0.0"
     },
     "execution_count": 88,
     "metadata": {},
     "output_type": "execute_result"
    }
   ],
   "source": [
    "csse_df = csse_df.merge(\r\n",
    "    info_df[['fips', 'tot_pop']], \r\n",
    "    on='fips', \r\n",
    "    suffixes=('_x','')\r\n",
    ")\r\n",
    "\r\n",
    "# df_all = df_all.drop(['county_x', 'state_x'], axis=1)\r\n",
    "csse_df[['cases_per_100k', 'deaths_per_100k']] = csse_df[['cases', 'deaths']].div(csse_df['tot_pop'], axis=0) * 100_000\r\n",
    "csse_df = csse_df.drop(columns=['tot_pop'])\r\n",
    "csse_df = csse_df.sort_values(by=['date', 'fips'])\r\n",
    "\r\n",
    "print(csse_df.shape)\r\n",
    "csse_df.head()"
   ]
  },
  {
   "cell_type": "code",
   "execution_count": 89,
   "metadata": {},
   "outputs": [
    {
     "data": {
      "text/html": "<div>\n<style scoped>\n    .dataframe tbody tr th:only-of-type {\n        vertical-align: middle;\n    }\n\n    .dataframe tbody tr th {\n        vertical-align: top;\n    }\n\n    .dataframe thead th {\n        text-align: right;\n    }\n</style>\n<table border=\"1\" class=\"dataframe\">\n  <thead>\n    <tr style=\"text-align: right;\">\n      <th></th>\n      <th>date</th>\n      <th>fips</th>\n      <th>cases</th>\n      <th>deaths</th>\n      <th>cases_per_100k</th>\n      <th>deaths_per_100k</th>\n    </tr>\n  </thead>\n  <tbody>\n    <tr>\n      <th>1007297</th>\n      <td>2020-12-07</td>\n      <td>56037</td>\n      <td>2176</td>\n      <td>11</td>\n      <td>5138.984012</td>\n      <td>25.978320</td>\n    </tr>\n    <tr>\n      <th>1007618</th>\n      <td>2020-12-07</td>\n      <td>56039</td>\n      <td>1810</td>\n      <td>2</td>\n      <td>7713.944766</td>\n      <td>8.523696</td>\n    </tr>\n    <tr>\n      <th>1007939</th>\n      <td>2020-12-07</td>\n      <td>56041</td>\n      <td>1221</td>\n      <td>6</td>\n      <td>6036.784337</td>\n      <td>29.664788</td>\n    </tr>\n    <tr>\n      <th>1008260</th>\n      <td>2020-12-07</td>\n      <td>56043</td>\n      <td>556</td>\n      <td>10</td>\n      <td>7123.638693</td>\n      <td>128.122998</td>\n    </tr>\n    <tr>\n      <th>1008581</th>\n      <td>2020-12-07</td>\n      <td>56045</td>\n      <td>422</td>\n      <td>2</td>\n      <td>6092.103364</td>\n      <td>28.872528</td>\n    </tr>\n  </tbody>\n</table>\n</div>",
      "text/plain": "              date   fips  cases  deaths  cases_per_100k  deaths_per_100k\n1007297 2020-12-07  56037   2176      11     5138.984012        25.978320\n1007618 2020-12-07  56039   1810       2     7713.944766         8.523696\n1007939 2020-12-07  56041   1221       6     6036.784337        29.664788\n1008260 2020-12-07  56043    556      10     7123.638693       128.122998\n1008581 2020-12-07  56045    422       2     6092.103364        28.872528"
     },
     "execution_count": 89,
     "metadata": {},
     "output_type": "execute_result"
    }
   ],
   "source": [
    "csse_df.tail()"
   ]
  },
  {
   "cell_type": "code",
   "execution_count": 90,
   "metadata": {},
   "outputs": [],
   "source": [
    "def add_change_cols(df, cols, pre='new_', clip=False):\r\n",
    "    df = df.sort_values(by=['date', 'fips'])\r\n",
    "    new_cols = [pre + c for c in cols]\r\n",
    "    df[new_cols] = df[cols] - df.groupby(by='fips')[cols].shift()\r\n",
    "    df[new_cols] = df[new_cols].fillna(0)\r\n",
    "    df[new_cols] = df[new_cols].astype(int)\r\n",
    "    if clip:\r\n",
    "        df[new_cols] = df[new_cols].clip(lower=0)\r\n",
    "    return (df, new_cols)\r\n",
    "\r\n",
    "def add_window_cols(df, cols, window=7):\r\n",
    "    df = df.sort_values(by=['date', 'fips'])\r\n",
    "    new_cols = [c + '_' + str(window) + 'd' for c in cols]\r\n",
    "    col_dict = dict(zip(cols, new_cols))\r\n",
    "    df = (df.merge(df.sort_values(by=['date', 'fips'])\r\n",
    "            .groupby('fips')\r\n",
    "            .rolling(window, on='date', min_periods=0)[cols].mean()\r\n",
    "            .rename(columns=col_dict), on=['fips', 'date']))\r\n",
    "#     df[new_cols] = df[new_cols].astype(int)\r\n",
    "    return (df, new_cols)\r\n",
    "\r\n",
    "def add_savgol_cols(df, cols, window=7, clip=False):\r\n",
    "    def my_savgol(x, w):\r\n",
    "        if len(x) >= w:\r\n",
    "            return savgol_filter(x, w, 1)\r\n",
    "        else:\r\n",
    "            new_window = int(np.ceil(len(x) / 2) * 2 - 1)\r\n",
    "            if new_window <= 1:\r\n",
    "                return x\r\n",
    "            else:\r\n",
    "                return savgol_filter(x, new_window, 1)\r\n",
    "    df = df.sort_values(by=['date', 'fips'])\r\n",
    "    new_cols = [c + '_' + str(window) + 'sg' for c in cols]\r\n",
    "    df[new_cols] = df.groupby(by='fips')[cols].transform(lambda x: my_savgol(x, window))\r\n",
    "    if clip:\r\n",
    "        df[new_cols] = df[new_cols].clip(lower=0)\r\n",
    "    return (df, new_cols)\r\n",
    "\r\n",
    "\r\n",
    "cols = ['cases', 'deaths', 'cases_per_100k', 'deaths_per_100k']\r\n",
    "csse_df, new_cols = add_change_cols(csse_df, cols, pre='new_', clip=True)\r\n",
    "csse_df, window_cols = add_window_cols(csse_df, new_cols, 15)\r\n",
    "csse_df, sg_cols = add_savgol_cols(csse_df, new_cols, 15)\r\n",
    "csse_df['days'] = ((csse_df['date'] - csse_df['date'].max()) / np.timedelta64(1, 'D')).astype('int')\r\n",
    "\r\n",
    "# def add_cols(df, cols, window=15, sg=True, delta=False):\r\n",
    "#     df, new_cols = add_change_cols(df, cols, pre='new_', clip=True)\r\n",
    "#     df, window_cols = add_window_cols(df, new_cols, window)\r\n",
    "#     if sg:\r\n",
    "#         df, sg_cols = add_savgol_cols(df, new_cols, window, clip=True)\r\n",
    "#     if delta:\r\n",
    "#         df, delta_new_cols = add_change_cols(df, new_cols, pre='delta_')\r\n",
    "#         df, delta_window_cols = add_window_cols(df, delta_new_cols, window)\r\n",
    "#         if sg:\r\n",
    "#             df, delta_sg_cols = add_savgol_cols(df, delta_new_cols, window)\r\n",
    "    \r\n",
    "#     df['mortality_rate'] = df['deaths'] / nyt_df['cases']\r\n",
    "#     df[f'mortality_rate_{window}d'] = df[f'new_deaths_{window}d'] / df[f'new_cases_{window}d']\r\n",
    "#     df.loc[(df[f'new_deaths_{window}d'] ==0), f'mortality_rate_{window}d'] = 0\r\n",
    "\r\n",
    "#     return df"
   ]
  },
  {
   "cell_type": "code",
   "execution_count": 78,
   "metadata": {},
   "outputs": [
    {
     "data": {
      "text/html": "<div>\n<style scoped>\n    .dataframe tbody tr th:only-of-type {\n        vertical-align: middle;\n    }\n\n    .dataframe tbody tr th {\n        vertical-align: top;\n    }\n\n    .dataframe thead th {\n        text-align: right;\n    }\n</style>\n<table border=\"1\" class=\"dataframe\">\n  <thead>\n    <tr style=\"text-align: right;\">\n      <th></th>\n      <th>date</th>\n      <th>fips</th>\n      <th>cases</th>\n      <th>deaths</th>\n      <th>tot_pop</th>\n      <th>cases_per_100k</th>\n      <th>deaths_per_100k</th>\n      <th>new_cases</th>\n      <th>new_deaths</th>\n      <th>new_cases_per_100k</th>\n      <th>...</th>\n      <th>new_deaths_per_100k_15d_x</th>\n      <th>new_cases_15d_y</th>\n      <th>new_deaths_15d_y</th>\n      <th>new_cases_per_100k_15d_y</th>\n      <th>new_deaths_per_100k_15d_y</th>\n      <th>new_cases_15sg</th>\n      <th>new_deaths_15sg</th>\n      <th>new_cases_per_100k_15sg</th>\n      <th>new_deaths_per_100k_15sg</th>\n      <th>days</th>\n    </tr>\n  </thead>\n  <tbody>\n    <tr>\n      <th>1008577</th>\n      <td>2020-12-07</td>\n      <td>56037</td>\n      <td>2176</td>\n      <td>11</td>\n      <td>42343</td>\n      <td>5138.984012</td>\n      <td>25.978320</td>\n      <td>64</td>\n      <td>1</td>\n      <td>151</td>\n      <td>...</td>\n      <td>0.733333</td>\n      <td>50.333333</td>\n      <td>0.333333</td>\n      <td>118.466667</td>\n      <td>0.733333</td>\n      <td>37.083333</td>\n      <td>0.808333</td>\n      <td>87.366667</td>\n      <td>1.758333</td>\n      <td>0</td>\n    </tr>\n    <tr>\n      <th>1008578</th>\n      <td>2020-12-07</td>\n      <td>56039</td>\n      <td>1810</td>\n      <td>2</td>\n      <td>23464</td>\n      <td>7713.944766</td>\n      <td>8.523696</td>\n      <td>25</td>\n      <td>0</td>\n      <td>106</td>\n      <td>...</td>\n      <td>0.000000</td>\n      <td>29.266667</td>\n      <td>0.000000</td>\n      <td>124.266667</td>\n      <td>0.000000</td>\n      <td>24.241667</td>\n      <td>0.000000</td>\n      <td>102.791667</td>\n      <td>0.000000</td>\n      <td>0</td>\n    </tr>\n    <tr>\n      <th>1008579</th>\n      <td>2020-12-07</td>\n      <td>56041</td>\n      <td>1221</td>\n      <td>6</td>\n      <td>20226</td>\n      <td>6036.784337</td>\n      <td>29.664788</td>\n      <td>23</td>\n      <td>1</td>\n      <td>113</td>\n      <td>...</td>\n      <td>0.533333</td>\n      <td>20.066667</td>\n      <td>0.133333</td>\n      <td>98.800000</td>\n      <td>0.533333</td>\n      <td>17.916667</td>\n      <td>0.383333</td>\n      <td>88.000000</td>\n      <td>1.533333</td>\n      <td>0</td>\n    </tr>\n    <tr>\n      <th>1008580</th>\n      <td>2020-12-07</td>\n      <td>56043</td>\n      <td>556</td>\n      <td>10</td>\n      <td>7805</td>\n      <td>7123.638693</td>\n      <td>128.122998</td>\n      <td>10</td>\n      <td>2</td>\n      <td>128</td>\n      <td>...</td>\n      <td>2.466667</td>\n      <td>16.066667</td>\n      <td>0.200000</td>\n      <td>205.466667</td>\n      <td>2.466667</td>\n      <td>13.716667</td>\n      <td>0.425000</td>\n      <td>175.391667</td>\n      <td>5.341667</td>\n      <td>0</td>\n    </tr>\n    <tr>\n      <th>1008581</th>\n      <td>2020-12-07</td>\n      <td>56045</td>\n      <td>422</td>\n      <td>2</td>\n      <td>6927</td>\n      <td>6092.103364</td>\n      <td>28.872528</td>\n      <td>2</td>\n      <td>0</td>\n      <td>28</td>\n      <td>...</td>\n      <td>1.866667</td>\n      <td>3.333333</td>\n      <td>0.133333</td>\n      <td>47.800000</td>\n      <td>1.866667</td>\n      <td>1.958333</td>\n      <td>-0.016667</td>\n      <td>27.825000</td>\n      <td>-0.233333</td>\n      <td>0</td>\n    </tr>\n  </tbody>\n</table>\n<p>5 rows × 24 columns</p>\n</div>",
      "text/plain": "              date   fips  cases  deaths  tot_pop  cases_per_100k  \\\n1008577 2020-12-07  56037   2176      11    42343     5138.984012   \n1008578 2020-12-07  56039   1810       2    23464     7713.944766   \n1008579 2020-12-07  56041   1221       6    20226     6036.784337   \n1008580 2020-12-07  56043    556      10     7805     7123.638693   \n1008581 2020-12-07  56045    422       2     6927     6092.103364   \n\n         deaths_per_100k  new_cases  new_deaths  new_cases_per_100k  ...  \\\n1008577        25.978320         64           1                 151  ...   \n1008578         8.523696         25           0                 106  ...   \n1008579        29.664788         23           1                 113  ...   \n1008580       128.122998         10           2                 128  ...   \n1008581        28.872528          2           0                  28  ...   \n\n         new_deaths_per_100k_15d_x  new_cases_15d_y  new_deaths_15d_y  \\\n1008577                   0.733333        50.333333          0.333333   \n1008578                   0.000000        29.266667          0.000000   \n1008579                   0.533333        20.066667          0.133333   \n1008580                   2.466667        16.066667          0.200000   \n1008581                   1.866667         3.333333          0.133333   \n\n         new_cases_per_100k_15d_y  new_deaths_per_100k_15d_y  new_cases_15sg  \\\n1008577                118.466667                   0.733333       37.083333   \n1008578                124.266667                   0.000000       24.241667   \n1008579                 98.800000                   0.533333       17.916667   \n1008580                205.466667                   2.466667       13.716667   \n1008581                 47.800000                   1.866667        1.958333   \n\n         new_deaths_15sg  new_cases_per_100k_15sg  new_deaths_per_100k_15sg  \\\n1008577         0.808333                87.366667                  1.758333   \n1008578         0.000000               102.791667                  0.000000   \n1008579         0.383333                88.000000                  1.533333   \n1008580         0.425000               175.391667                  5.341667   \n1008581        -0.016667                27.825000                 -0.233333   \n\n         days  \n1008577     0  \n1008578     0  \n1008579     0  \n1008580     0  \n1008581     0  \n\n[5 rows x 24 columns]"
     },
     "execution_count": 78,
     "metadata": {},
     "output_type": "execute_result"
    }
   ],
   "source": [
    "csse_df.tail()"
   ]
  },
  {
   "cell_type": "code",
   "execution_count": 59,
   "metadata": {},
   "outputs": [],
   "source": [
    "# csse_df[(csse_df['date'].map(lambda x: x.month) == 5) & (csse_df['fips'] == '36047')]"
   ]
  },
  {
   "cell_type": "code",
   "execution_count": 91,
   "metadata": {},
   "outputs": [],
   "source": [
    "save_df(csse_df, 'csse_df')"
   ]
  },
  {
   "cell_type": "code",
   "execution_count": null,
   "metadata": {},
   "outputs": [],
   "source": []
  }
 ],
 "metadata": {
  "kernelspec": {
   "display_name": "Python 3",
   "language": "python",
   "name": "python3"
  },
  "language_info": {
   "codemirror_mode": {
    "name": "ipython",
    "version": 3
   },
   "file_extension": ".py",
   "mimetype": "text/x-python",
   "name": "python",
   "nbconvert_exporter": "python",
   "pygments_lexer": "ipython3",
   "version": "3.7.9"
  }
 },
 "nbformat": 4,
 "nbformat_minor": 4
}