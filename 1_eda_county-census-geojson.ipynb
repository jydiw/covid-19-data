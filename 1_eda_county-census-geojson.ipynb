{
 "cells": [
  {
   "cell_type": "markdown",
   "metadata": {},
   "source": [
    "# Census and GeoJSON Data EDA"
   ]
  },
  {
   "cell_type": "markdown",
   "metadata": {},
   "source": [
    "The goal of this notebook is to obtain and organize the following county-level data:\n",
    "\n",
    "- nominal data: state, county, fips\n",
    "- census data: \n",
    "    - total population\n",
    "    - ethnic population(s)\n",
    "    - voting statistics\n",
    "    - median income\n",
    "    - educational attainment\n",
    "- geographic data (from GeoJSON): \n",
    "    - census area\n",
    "    - latitude/longitude"
   ]
  },
  {
   "cell_type": "code",
   "execution_count": 1,
   "metadata": {},
   "outputs": [],
   "source": [
    "import numpy as np\n",
    "import pandas as pd\n",
    "\n",
    "from urllib.request import urlopen\n",
    "import json\n",
    "\n",
    "import itertools\n",
    "\n",
    "from time import time\n",
    "from datetime import datetime, timedelta\n",
    "\n",
    "from shapely.geometry import Polygon\n",
    "from shapely.geometry import asShape\n",
    "from geojson import Feature"
   ]
  },
  {
   "cell_type": "markdown",
   "metadata": {
    "colab_type": "text",
    "id": "J39gYq9cfK6H"
   },
   "source": [
    "# 1. import census data from `census.gov`"
   ]
  },
  {
   "cell_type": "markdown",
   "metadata": {
    "colab_type": "text",
    "id": "womy4Yi5C_sT"
   },
   "source": [
    "2019 population estimates can be collected from [census.gov](https://www2.census.gov/programs-surveys/popest/datasets/2010-2019/counties/asrh/). For the most current estimates, we will only save data from `YEAR == 12` ([data dictionary](https://www2.census.gov/programs-surveys/popest/technical-documentation/file-layouts/2010-2019/cc-est2019-alldata.pdf))."
   ]
  },
  {
   "cell_type": "code",
   "execution_count": 2,
   "metadata": {},
   "outputs": [
    {
     "output_type": "execute_result",
     "data": {
      "text/plain": "     STATE COUNTY   STNAME         CTYNAME  TOT_POP  TOT_MALE  TOT_FEMALE  \\\n209     01    001  Alabama  Autauga County    55869     27092       28777   \n437     01    003  Alabama  Baldwin County   223234    108247      114987   \n665     01    005  Alabama  Barbour County    24686     13064       11622   \n893     01    007  Alabama     Bibb County    22394     11929       10465   \n1121    01    009  Alabama   Blount County    57826     28472       29354   \n\n      WA_MALE  WA_FEMALE  BA_MALE  ...  HWAC_MALE  HWAC_FEMALE  HBAC_MALE  \\\n209     20878      21729     5237  ...        778          687         89   \n437     94810     100388     9486  ...       5144         4646        268   \n665      6389       5745     6311  ...        509          408         63   \n893      8766       8425     2941  ...        291          253         32   \n1121    27258      28154      516  ...       2794         2516         76   \n\n      HBAC_FEMALE  HIAC_MALE  HIAC_FEMALE  HAAC_MALE  HAAC_FEMALE  HNAC_MALE  \\\n209            93         40           27         15           19         16   \n437           281        264          197         69           65         55   \n665            50         61           26          1            0         14   \n893            19          6           15          5            1         17   \n1121           58         67           66         18           21         34   \n\n      HNAC_FEMALE  \n209            11  \n437            35  \n665             8  \n893             3  \n1121           21  \n\n[5 rows x 77 columns]",
      "text/html": "<div>\n<style scoped>\n    .dataframe tbody tr th:only-of-type {\n        vertical-align: middle;\n    }\n\n    .dataframe tbody tr th {\n        vertical-align: top;\n    }\n\n    .dataframe thead th {\n        text-align: right;\n    }\n</style>\n<table border=\"1\" class=\"dataframe\">\n  <thead>\n    <tr style=\"text-align: right;\">\n      <th></th>\n      <th>STATE</th>\n      <th>COUNTY</th>\n      <th>STNAME</th>\n      <th>CTYNAME</th>\n      <th>TOT_POP</th>\n      <th>TOT_MALE</th>\n      <th>TOT_FEMALE</th>\n      <th>WA_MALE</th>\n      <th>WA_FEMALE</th>\n      <th>BA_MALE</th>\n      <th>...</th>\n      <th>HWAC_MALE</th>\n      <th>HWAC_FEMALE</th>\n      <th>HBAC_MALE</th>\n      <th>HBAC_FEMALE</th>\n      <th>HIAC_MALE</th>\n      <th>HIAC_FEMALE</th>\n      <th>HAAC_MALE</th>\n      <th>HAAC_FEMALE</th>\n      <th>HNAC_MALE</th>\n      <th>HNAC_FEMALE</th>\n    </tr>\n  </thead>\n  <tbody>\n    <tr>\n      <th>209</th>\n      <td>01</td>\n      <td>001</td>\n      <td>Alabama</td>\n      <td>Autauga County</td>\n      <td>55869</td>\n      <td>27092</td>\n      <td>28777</td>\n      <td>20878</td>\n      <td>21729</td>\n      <td>5237</td>\n      <td>...</td>\n      <td>778</td>\n      <td>687</td>\n      <td>89</td>\n      <td>93</td>\n      <td>40</td>\n      <td>27</td>\n      <td>15</td>\n      <td>19</td>\n      <td>16</td>\n      <td>11</td>\n    </tr>\n    <tr>\n      <th>437</th>\n      <td>01</td>\n      <td>003</td>\n      <td>Alabama</td>\n      <td>Baldwin County</td>\n      <td>223234</td>\n      <td>108247</td>\n      <td>114987</td>\n      <td>94810</td>\n      <td>100388</td>\n      <td>9486</td>\n      <td>...</td>\n      <td>5144</td>\n      <td>4646</td>\n      <td>268</td>\n      <td>281</td>\n      <td>264</td>\n      <td>197</td>\n      <td>69</td>\n      <td>65</td>\n      <td>55</td>\n      <td>35</td>\n    </tr>\n    <tr>\n      <th>665</th>\n      <td>01</td>\n      <td>005</td>\n      <td>Alabama</td>\n      <td>Barbour County</td>\n      <td>24686</td>\n      <td>13064</td>\n      <td>11622</td>\n      <td>6389</td>\n      <td>5745</td>\n      <td>6311</td>\n      <td>...</td>\n      <td>509</td>\n      <td>408</td>\n      <td>63</td>\n      <td>50</td>\n      <td>61</td>\n      <td>26</td>\n      <td>1</td>\n      <td>0</td>\n      <td>14</td>\n      <td>8</td>\n    </tr>\n    <tr>\n      <th>893</th>\n      <td>01</td>\n      <td>007</td>\n      <td>Alabama</td>\n      <td>Bibb County</td>\n      <td>22394</td>\n      <td>11929</td>\n      <td>10465</td>\n      <td>8766</td>\n      <td>8425</td>\n      <td>2941</td>\n      <td>...</td>\n      <td>291</td>\n      <td>253</td>\n      <td>32</td>\n      <td>19</td>\n      <td>6</td>\n      <td>15</td>\n      <td>5</td>\n      <td>1</td>\n      <td>17</td>\n      <td>3</td>\n    </tr>\n    <tr>\n      <th>1121</th>\n      <td>01</td>\n      <td>009</td>\n      <td>Alabama</td>\n      <td>Blount County</td>\n      <td>57826</td>\n      <td>28472</td>\n      <td>29354</td>\n      <td>27258</td>\n      <td>28154</td>\n      <td>516</td>\n      <td>...</td>\n      <td>2794</td>\n      <td>2516</td>\n      <td>76</td>\n      <td>58</td>\n      <td>67</td>\n      <td>66</td>\n      <td>18</td>\n      <td>21</td>\n      <td>34</td>\n      <td>21</td>\n    </tr>\n  </tbody>\n</table>\n<p>5 rows × 77 columns</p>\n</div>"
     },
     "metadata": {},
     "execution_count": 2
    }
   ],
   "source": [
    "with urlopen('https://www2.census.gov/programs-surveys/popest/datasets/2010-2019/counties/asrh/cc-est2019-alldata.csv') as response:\n",
    "    dem_df = pd.read_csv(\n",
    "        response,\n",
    "        encoding='latin-1',        # to avoid unicode error\n",
    "        dtype={'STATE':'str',\n",
    "               'COUNTY':'str'}\n",
    "    )\n",
    "dem_df = dem_df.drop(columns='SUMLEV')         # SUMLEV == 50 for the 50 US states\n",
    "dem_df = dem_df.loc[(dem_df['YEAR'] == 12) & (dem_df['AGEGRP'] == 0)]    # population estimate for 2019\n",
    "dem_df = dem_df.drop(columns=['YEAR', 'AGEGRP'])\n",
    "dem_df.head()"
   ]
  },
  {
   "cell_type": "code",
   "execution_count": 3,
   "metadata": {
    "tags": []
   },
   "outputs": [
    {
     "output_type": "stream",
     "name": "stdout",
     "text": "<class 'pandas.core.frame.DataFrame'>\nInt64Index: 3142 entries, 209 to 716357\nData columns (total 77 columns):\n #   Column        Non-Null Count  Dtype \n---  ------        --------------  ----- \n 0   STATE         3142 non-null   object\n 1   COUNTY        3142 non-null   object\n 2   STNAME        3142 non-null   object\n 3   CTYNAME       3142 non-null   object\n 4   TOT_POP       3142 non-null   int64 \n 5   TOT_MALE      3142 non-null   int64 \n 6   TOT_FEMALE    3142 non-null   int64 \n 7   WA_MALE       3142 non-null   int64 \n 8   WA_FEMALE     3142 non-null   int64 \n 9   BA_MALE       3142 non-null   int64 \n 10  BA_FEMALE     3142 non-null   int64 \n 11  IA_MALE       3142 non-null   int64 \n 12  IA_FEMALE     3142 non-null   int64 \n 13  AA_MALE       3142 non-null   int64 \n 14  AA_FEMALE     3142 non-null   int64 \n 15  NA_MALE       3142 non-null   int64 \n 16  NA_FEMALE     3142 non-null   int64 \n 17  TOM_MALE      3142 non-null   int64 \n 18  TOM_FEMALE    3142 non-null   int64 \n 19  WAC_MALE      3142 non-null   int64 \n 20  WAC_FEMALE    3142 non-null   int64 \n 21  BAC_MALE      3142 non-null   int64 \n 22  BAC_FEMALE    3142 non-null   int64 \n 23  IAC_MALE      3142 non-null   int64 \n 24  IAC_FEMALE    3142 non-null   int64 \n 25  AAC_MALE      3142 non-null   int64 \n 26  AAC_FEMALE    3142 non-null   int64 \n 27  NAC_MALE      3142 non-null   int64 \n 28  NAC_FEMALE    3142 non-null   int64 \n 29  NH_MALE       3142 non-null   int64 \n 30  NH_FEMALE     3142 non-null   int64 \n 31  NHWA_MALE     3142 non-null   int64 \n 32  NHWA_FEMALE   3142 non-null   int64 \n 33  NHBA_MALE     3142 non-null   int64 \n 34  NHBA_FEMALE   3142 non-null   int64 \n 35  NHIA_MALE     3142 non-null   int64 \n 36  NHIA_FEMALE   3142 non-null   int64 \n 37  NHAA_MALE     3142 non-null   int64 \n 38  NHAA_FEMALE   3142 non-null   int64 \n 39  NHNA_MALE     3142 non-null   int64 \n 40  NHNA_FEMALE   3142 non-null   int64 \n 41  NHTOM_MALE    3142 non-null   int64 \n 42  NHTOM_FEMALE  3142 non-null   int64 \n 43  NHWAC_MALE    3142 non-null   int64 \n 44  NHWAC_FEMALE  3142 non-null   int64 \n 45  NHBAC_MALE    3142 non-null   int64 \n 46  NHBAC_FEMALE  3142 non-null   int64 \n 47  NHIAC_MALE    3142 non-null   int64 \n 48  NHIAC_FEMALE  3142 non-null   int64 \n 49  NHAAC_MALE    3142 non-null   int64 \n 50  NHAAC_FEMALE  3142 non-null   int64 \n 51  NHNAC_MALE    3142 non-null   int64 \n 52  NHNAC_FEMALE  3142 non-null   int64 \n 53  H_MALE        3142 non-null   int64 \n 54  H_FEMALE      3142 non-null   int64 \n 55  HWA_MALE      3142 non-null   int64 \n 56  HWA_FEMALE    3142 non-null   int64 \n 57  HBA_MALE      3142 non-null   int64 \n 58  HBA_FEMALE    3142 non-null   int64 \n 59  HIA_MALE      3142 non-null   int64 \n 60  HIA_FEMALE    3142 non-null   int64 \n 61  HAA_MALE      3142 non-null   int64 \n 62  HAA_FEMALE    3142 non-null   int64 \n 63  HNA_MALE      3142 non-null   int64 \n 64  HNA_FEMALE    3142 non-null   int64 \n 65  HTOM_MALE     3142 non-null   int64 \n 66  HTOM_FEMALE   3142 non-null   int64 \n 67  HWAC_MALE     3142 non-null   int64 \n 68  HWAC_FEMALE   3142 non-null   int64 \n 69  HBAC_MALE     3142 non-null   int64 \n 70  HBAC_FEMALE   3142 non-null   int64 \n 71  HIAC_MALE     3142 non-null   int64 \n 72  HIAC_FEMALE   3142 non-null   int64 \n 73  HAAC_MALE     3142 non-null   int64 \n 74  HAAC_FEMALE   3142 non-null   int64 \n 75  HNAC_MALE     3142 non-null   int64 \n 76  HNAC_FEMALE   3142 non-null   int64 \ndtypes: int64(73), object(4)\nmemory usage: 1.9+ MB\n"
    }
   ],
   "source": [
    "dem_df.info()"
   ]
  },
  {
   "cell_type": "markdown",
   "metadata": {},
   "source": [
    "Notice that county names provided by the US census contain descriptive terms, such as 'County', whereas the NYTimes data does not."
   ]
  },
  {
   "cell_type": "code",
   "execution_count": 4,
   "metadata": {},
   "outputs": [],
   "source": [
    "# remove descriptive terms from county names, will use on other dataframes\n",
    "def remove_county_terms(data, county_col):\n",
    "    county_terms = ['County', 'Parish', 'Municipality']\n",
    "    for term in county_terms:\n",
    "        data[county_col] = data[county_col].str.replace(' ' + term, '')\n",
    "    return data"
   ]
  },
  {
   "cell_type": "code",
   "execution_count": 5,
   "metadata": {
    "colab": {},
    "colab_type": "code",
    "id": "dexrZzV5C8RV"
   },
   "outputs": [
    {
     "output_type": "execute_result",
     "data": {
      "text/plain": "        state   county  total_pop  tot_male  tot_female  wa_male  wa_female  \\\n209   Alabama  Autauga      55869     27092       28777    20878      21729   \n437   Alabama  Baldwin     223234    108247      114987    94810     100388   \n665   Alabama  Barbour      24686     13064       11622     6389       5745   \n893   Alabama     Bibb      22394     11929       10465     8766       8425   \n1121  Alabama   Blount      57826     28472       29354    27258      28154   \n\n      ba_male  ba_female  ia_male  ...  hwac_female  hbac_male  hbac_female  \\\n209      5237       6000      121  ...          687         89           93   \n437      9486      10107      903  ...         4646        268          281   \n665      6311       5595      103  ...          408         63           50   \n893      2941       1822       53  ...          253         32           19   \n1121      516        462      192  ...         2516         76           58   \n\n      hiac_male  hiac_female  haac_male  haac_female  hnac_male  hnac_female  \\\n209          40           27         15           19         16           11   \n437         264          197         69           65         55           35   \n665          61           26          1            0         14            8   \n893           6           15          5            1         17            3   \n1121         67           66         18           21         34           21   \n\n       fips  \n209   01001  \n437   01003  \n665   01005  \n893   01007  \n1121  01009  \n\n[5 rows x 76 columns]",
      "text/html": "<div>\n<style scoped>\n    .dataframe tbody tr th:only-of-type {\n        vertical-align: middle;\n    }\n\n    .dataframe tbody tr th {\n        vertical-align: top;\n    }\n\n    .dataframe thead th {\n        text-align: right;\n    }\n</style>\n<table border=\"1\" class=\"dataframe\">\n  <thead>\n    <tr style=\"text-align: right;\">\n      <th></th>\n      <th>state</th>\n      <th>county</th>\n      <th>total_pop</th>\n      <th>tot_male</th>\n      <th>tot_female</th>\n      <th>wa_male</th>\n      <th>wa_female</th>\n      <th>ba_male</th>\n      <th>ba_female</th>\n      <th>ia_male</th>\n      <th>...</th>\n      <th>hwac_female</th>\n      <th>hbac_male</th>\n      <th>hbac_female</th>\n      <th>hiac_male</th>\n      <th>hiac_female</th>\n      <th>haac_male</th>\n      <th>haac_female</th>\n      <th>hnac_male</th>\n      <th>hnac_female</th>\n      <th>fips</th>\n    </tr>\n  </thead>\n  <tbody>\n    <tr>\n      <th>209</th>\n      <td>Alabama</td>\n      <td>Autauga</td>\n      <td>55869</td>\n      <td>27092</td>\n      <td>28777</td>\n      <td>20878</td>\n      <td>21729</td>\n      <td>5237</td>\n      <td>6000</td>\n      <td>121</td>\n      <td>...</td>\n      <td>687</td>\n      <td>89</td>\n      <td>93</td>\n      <td>40</td>\n      <td>27</td>\n      <td>15</td>\n      <td>19</td>\n      <td>16</td>\n      <td>11</td>\n      <td>01001</td>\n    </tr>\n    <tr>\n      <th>437</th>\n      <td>Alabama</td>\n      <td>Baldwin</td>\n      <td>223234</td>\n      <td>108247</td>\n      <td>114987</td>\n      <td>94810</td>\n      <td>100388</td>\n      <td>9486</td>\n      <td>10107</td>\n      <td>903</td>\n      <td>...</td>\n      <td>4646</td>\n      <td>268</td>\n      <td>281</td>\n      <td>264</td>\n      <td>197</td>\n      <td>69</td>\n      <td>65</td>\n      <td>55</td>\n      <td>35</td>\n      <td>01003</td>\n    </tr>\n    <tr>\n      <th>665</th>\n      <td>Alabama</td>\n      <td>Barbour</td>\n      <td>24686</td>\n      <td>13064</td>\n      <td>11622</td>\n      <td>6389</td>\n      <td>5745</td>\n      <td>6311</td>\n      <td>5595</td>\n      <td>103</td>\n      <td>...</td>\n      <td>408</td>\n      <td>63</td>\n      <td>50</td>\n      <td>61</td>\n      <td>26</td>\n      <td>1</td>\n      <td>0</td>\n      <td>14</td>\n      <td>8</td>\n      <td>01005</td>\n    </tr>\n    <tr>\n      <th>893</th>\n      <td>Alabama</td>\n      <td>Bibb</td>\n      <td>22394</td>\n      <td>11929</td>\n      <td>10465</td>\n      <td>8766</td>\n      <td>8425</td>\n      <td>2941</td>\n      <td>1822</td>\n      <td>53</td>\n      <td>...</td>\n      <td>253</td>\n      <td>32</td>\n      <td>19</td>\n      <td>6</td>\n      <td>15</td>\n      <td>5</td>\n      <td>1</td>\n      <td>17</td>\n      <td>3</td>\n      <td>01007</td>\n    </tr>\n    <tr>\n      <th>1121</th>\n      <td>Alabama</td>\n      <td>Blount</td>\n      <td>57826</td>\n      <td>28472</td>\n      <td>29354</td>\n      <td>27258</td>\n      <td>28154</td>\n      <td>516</td>\n      <td>462</td>\n      <td>192</td>\n      <td>...</td>\n      <td>2516</td>\n      <td>76</td>\n      <td>58</td>\n      <td>67</td>\n      <td>66</td>\n      <td>18</td>\n      <td>21</td>\n      <td>34</td>\n      <td>21</td>\n      <td>01009</td>\n    </tr>\n  </tbody>\n</table>\n<p>5 rows × 76 columns</p>\n</div>"
     },
     "metadata": {},
     "execution_count": 5
    }
   ],
   "source": [
    "# rename columns to better-match nytimes data (and personal preference)\n",
    "dem_df.rename(\n",
    "    columns={\n",
    "        'STATE':'statefips',\n",
    "        'COUNTY':'countyfips',\n",
    "        'STNAME':'state',\n",
    "        'CTYNAME':'county',\n",
    "        'TOT_POP': 'total_pop'\n",
    "    }, inplace=True\n",
    ")\n",
    "dem_df.columns = dem_df.columns.str.lower()\n",
    "\n",
    "# nytimes fips is 5-digit combo of state and county fips\n",
    "dem_df['fips'] = dem_df['statefips'] + dem_df['countyfips']\n",
    "dem_df = dem_df.drop(columns=['statefips', 'countyfips'])\n",
    "\n",
    "dem_df = remove_county_terms(dem_df, 'county')\n",
    "\n",
    "dem_df.pipe(remove_county_terms, 'county')\n",
    "dem_df.head()"
   ]
  },
  {
   "cell_type": "markdown",
   "metadata": {},
   "source": [
    "## check county names against NYTimes data"
   ]
  },
  {
   "cell_type": "markdown",
   "metadata": {},
   "source": [
    "We eventually need to merge with the NYTimes data, so let's see how they match with each other:"
   ]
  },
  {
   "cell_type": "code",
   "execution_count": 6,
   "metadata": {},
   "outputs": [
    {
     "output_type": "execute_result",
     "data": {
      "text/plain": "         date     county       state   fips  cases  deaths\n0  2020-01-21  Snohomish  Washington  53061      1       0\n1  2020-01-22  Snohomish  Washington  53061      1       0\n2  2020-01-23  Snohomish  Washington  53061      1       0\n3  2020-01-24       Cook    Illinois  17031      1       0\n4  2020-01-24  Snohomish  Washington  53061      1       0",
      "text/html": "<div>\n<style scoped>\n    .dataframe tbody tr th:only-of-type {\n        vertical-align: middle;\n    }\n\n    .dataframe tbody tr th {\n        vertical-align: top;\n    }\n\n    .dataframe thead th {\n        text-align: right;\n    }\n</style>\n<table border=\"1\" class=\"dataframe\">\n  <thead>\n    <tr style=\"text-align: right;\">\n      <th></th>\n      <th>date</th>\n      <th>county</th>\n      <th>state</th>\n      <th>fips</th>\n      <th>cases</th>\n      <th>deaths</th>\n    </tr>\n  </thead>\n  <tbody>\n    <tr>\n      <th>0</th>\n      <td>2020-01-21</td>\n      <td>Snohomish</td>\n      <td>Washington</td>\n      <td>53061</td>\n      <td>1</td>\n      <td>0</td>\n    </tr>\n    <tr>\n      <th>1</th>\n      <td>2020-01-22</td>\n      <td>Snohomish</td>\n      <td>Washington</td>\n      <td>53061</td>\n      <td>1</td>\n      <td>0</td>\n    </tr>\n    <tr>\n      <th>2</th>\n      <td>2020-01-23</td>\n      <td>Snohomish</td>\n      <td>Washington</td>\n      <td>53061</td>\n      <td>1</td>\n      <td>0</td>\n    </tr>\n    <tr>\n      <th>3</th>\n      <td>2020-01-24</td>\n      <td>Cook</td>\n      <td>Illinois</td>\n      <td>17031</td>\n      <td>1</td>\n      <td>0</td>\n    </tr>\n    <tr>\n      <th>4</th>\n      <td>2020-01-24</td>\n      <td>Snohomish</td>\n      <td>Washington</td>\n      <td>53061</td>\n      <td>1</td>\n      <td>0</td>\n    </tr>\n  </tbody>\n</table>\n</div>"
     },
     "metadata": {},
     "execution_count": 6
    }
   ],
   "source": [
    "with urlopen('https://raw.githubusercontent.com/nytimes/covid-19-data/master/us-counties.csv') as response:\n",
    "    nyt_df = pd.read_csv(\n",
    "        response,\n",
    "        dtype={'fips':'str'}\n",
    "    )\n",
    "nyt_df.head()"
   ]
  },
  {
   "cell_type": "code",
   "execution_count": 7,
   "metadata": {},
   "outputs": [
    {
     "output_type": "execute_result",
     "data": {
      "text/plain": "84"
     },
     "metadata": {},
     "execution_count": 7
    }
   ],
   "source": [
    "county_diffs = list(set(nyt_df['county']) - set(dem_df['county']))\n",
    "len(county_diffs)"
   ]
  },
  {
   "cell_type": "code",
   "execution_count": null,
   "metadata": {},
   "outputs": [],
   "source": [
    "sorted([str(f) for f in county_diffs])"
   ]
  },
  {
   "cell_type": "markdown",
   "metadata": {},
   "source": [
    "As expected, the census county data is missing all municipios from [Puerto Rico](https://www.census.gov/data/tables/time-series/demo/popest/2010s-total-puerto-rico-municipios.html) (`fips == 72`) as well as a couple from the Northern Mariana Islands (`fips == 69`), so we need to append that data to `pop_df`."
   ]
  },
  {
   "cell_type": "markdown",
   "metadata": {},
   "source": [
    "## make rows for New York City, Kansas City, and Joplin\n",
    "\n",
    "Since the NYTimes dataset treats `New York City`, `Kansas City`, and `Joplin` [as their own entities](https://github.com/nytimes/covid-19-data#geographic-exceptions), we need to add them to our population dataframe."
   ]
  },
  {
   "cell_type": "markdown",
   "metadata": {},
   "source": [
    "### New York City\n",
    "\n",
    "`New York City` is the combination of these five counties, [which are coterminous with the five boroughs](https://en.wikipedia.org/wiki/New_York_City#Boroughs):\n",
    "\n",
    "- Bronx (36005)\n",
    "- Kings (36047)\n",
    "- New York (36061)\n",
    "- Queens (36081)\n",
    "- Richmond (36085)\n",
    "\n",
    "We will arbitrarily assign the `fips` as `36NYC`."
   ]
  },
  {
   "cell_type": "code",
   "execution_count": 8,
   "metadata": {},
   "outputs": [
    {
     "output_type": "execute_result",
     "data": {
      "text/plain": "        total_pop  tot_male  tot_female  wa_male  wa_female  ba_male  \\\n417449    8336817   3978439     4358378  2145238    2247804  1046937   \n\n        ba_female  ia_male  ia_female  aa_male  ...  hbac_female  hiac_male  \\\n417449    1247761    57897      58600   597346  ...       294492      65574   \n\n        hiac_female  haac_male  haac_female  hnac_male  hnac_female     state  \\\n417449        67225      21187        22500       8967         9468  New York   \n\n               county   fips  \n417449  New York City  36NYC  \n\n[1 rows x 76 columns]",
      "text/html": "<div>\n<style scoped>\n    .dataframe tbody tr th:only-of-type {\n        vertical-align: middle;\n    }\n\n    .dataframe tbody tr th {\n        vertical-align: top;\n    }\n\n    .dataframe thead th {\n        text-align: right;\n    }\n</style>\n<table border=\"1\" class=\"dataframe\">\n  <thead>\n    <tr style=\"text-align: right;\">\n      <th></th>\n      <th>total_pop</th>\n      <th>tot_male</th>\n      <th>tot_female</th>\n      <th>wa_male</th>\n      <th>wa_female</th>\n      <th>ba_male</th>\n      <th>ba_female</th>\n      <th>ia_male</th>\n      <th>ia_female</th>\n      <th>aa_male</th>\n      <th>...</th>\n      <th>hbac_female</th>\n      <th>hiac_male</th>\n      <th>hiac_female</th>\n      <th>haac_male</th>\n      <th>haac_female</th>\n      <th>hnac_male</th>\n      <th>hnac_female</th>\n      <th>state</th>\n      <th>county</th>\n      <th>fips</th>\n    </tr>\n  </thead>\n  <tbody>\n    <tr>\n      <th>417449</th>\n      <td>8336817</td>\n      <td>3978439</td>\n      <td>4358378</td>\n      <td>2145238</td>\n      <td>2247804</td>\n      <td>1046937</td>\n      <td>1247761</td>\n      <td>57897</td>\n      <td>58600</td>\n      <td>597346</td>\n      <td>...</td>\n      <td>294492</td>\n      <td>65574</td>\n      <td>67225</td>\n      <td>21187</td>\n      <td>22500</td>\n      <td>8967</td>\n      <td>9468</td>\n      <td>New York</td>\n      <td>New York City</td>\n      <td>36NYC</td>\n    </tr>\n  </tbody>\n</table>\n<p>1 rows × 76 columns</p>\n</div>"
     },
     "metadata": {},
     "execution_count": 8
    }
   ],
   "source": [
    "boroughs = ['Bronx', 'Kings', 'New York', 'Queens', 'Richmond']\n",
    "\n",
    "nyc_dem_df = dem_df[(dem_df['state'] == 'New York') & (dem_df['county'] == boroughs[0])].select_dtypes(include='number')\n",
    "\n",
    "for b in boroughs[1:]:\n",
    "    nyc_dem_df += dem_df[(dem_df['state'] == 'New York') & (dem_df['county'] == b)].select_dtypes(include='number').values\n",
    "\n",
    "nyc_dem_df['state'] = 'New York'\n",
    "nyc_dem_df['county'] = 'New York City'\n",
    "nyc_dem_df['fips'] = '36NYC'\n",
    "nyc_dem_df.head()"
   ]
  },
  {
   "cell_type": "code",
   "execution_count": 9,
   "metadata": {},
   "outputs": [
    {
     "output_type": "execute_result",
     "data": {
      "text/plain": "         state         county  total_pop  tot_male  tot_female  wa_male  \\\n3142  New York  New York City    8336817   3978439     4358378  2145238   \n\n      wa_female  ba_male  ba_female  ia_male  ...  hwac_female  hbac_male  \\\n3142    2247804  1046937    1247761    57897  ...       922001     257362   \n\n      hbac_female  hiac_male  hiac_female  haac_male  haac_female  hnac_male  \\\n3142       294492      65574        67225      21187        22500       8967   \n\n      hnac_female   fips  \n3142         9468  36NYC  \n\n[1 rows x 76 columns]",
      "text/html": "<div>\n<style scoped>\n    .dataframe tbody tr th:only-of-type {\n        vertical-align: middle;\n    }\n\n    .dataframe tbody tr th {\n        vertical-align: top;\n    }\n\n    .dataframe thead th {\n        text-align: right;\n    }\n</style>\n<table border=\"1\" class=\"dataframe\">\n  <thead>\n    <tr style=\"text-align: right;\">\n      <th></th>\n      <th>state</th>\n      <th>county</th>\n      <th>total_pop</th>\n      <th>tot_male</th>\n      <th>tot_female</th>\n      <th>wa_male</th>\n      <th>wa_female</th>\n      <th>ba_male</th>\n      <th>ba_female</th>\n      <th>ia_male</th>\n      <th>...</th>\n      <th>hwac_female</th>\n      <th>hbac_male</th>\n      <th>hbac_female</th>\n      <th>hiac_male</th>\n      <th>hiac_female</th>\n      <th>haac_male</th>\n      <th>haac_female</th>\n      <th>hnac_male</th>\n      <th>hnac_female</th>\n      <th>fips</th>\n    </tr>\n  </thead>\n  <tbody>\n    <tr>\n      <th>3142</th>\n      <td>New York</td>\n      <td>New York City</td>\n      <td>8336817</td>\n      <td>3978439</td>\n      <td>4358378</td>\n      <td>2145238</td>\n      <td>2247804</td>\n      <td>1046937</td>\n      <td>1247761</td>\n      <td>57897</td>\n      <td>...</td>\n      <td>922001</td>\n      <td>257362</td>\n      <td>294492</td>\n      <td>65574</td>\n      <td>67225</td>\n      <td>21187</td>\n      <td>22500</td>\n      <td>8967</td>\n      <td>9468</td>\n      <td>36NYC</td>\n    </tr>\n  </tbody>\n</table>\n<p>1 rows × 76 columns</p>\n</div>"
     },
     "metadata": {},
     "execution_count": 9
    }
   ],
   "source": [
    "dem_df = dem_df.append(nyc_dem_df, ignore_index=True)\n",
    "dem_df[dem_df['fips'] == '36NYC']"
   ]
  },
  {
   "cell_type": "code",
   "execution_count": 10,
   "metadata": {},
   "outputs": [],
   "source": [
    "dem_df['white'] = (dem_df['nhwa_male']+dem_df['nhwa_female'])\n",
    "dem_df['black'] = (dem_df['nhba_male']+dem_df['nhba_female'])\n",
    "dem_df['asian'] = (dem_df['nhaa_male']+dem_df['nhaa_female'])\n",
    "dem_df['hispanic'] = (dem_df['h_male']+dem_df['h_female'])"
   ]
  },
  {
   "cell_type": "code",
   "execution_count": 11,
   "metadata": {},
   "outputs": [
    {
     "output_type": "execute_result",
     "data": {
      "text/plain": "         state         county  total_pop   fips    white    black    asian  \\\n3138   Wyoming          Teton      23464  56039    19000      145      378   \n3139   Wyoming          Uinta      20226  56041    17657      126       92   \n3140   Wyoming       Washakie       7805  56043     6417       38       55   \n3141   Wyoming         Weston       6927  56045     6236       45      113   \n3142  New York  New York City    8336817  36NYC  2681976  1825848  1228598   \n\n      hispanic  \n3138      3554  \n3139      1871  \n3140      1108  \n3141       285  \n3142   2423590  ",
      "text/html": "<div>\n<style scoped>\n    .dataframe tbody tr th:only-of-type {\n        vertical-align: middle;\n    }\n\n    .dataframe tbody tr th {\n        vertical-align: top;\n    }\n\n    .dataframe thead th {\n        text-align: right;\n    }\n</style>\n<table border=\"1\" class=\"dataframe\">\n  <thead>\n    <tr style=\"text-align: right;\">\n      <th></th>\n      <th>state</th>\n      <th>county</th>\n      <th>total_pop</th>\n      <th>fips</th>\n      <th>white</th>\n      <th>black</th>\n      <th>asian</th>\n      <th>hispanic</th>\n    </tr>\n  </thead>\n  <tbody>\n    <tr>\n      <th>3138</th>\n      <td>Wyoming</td>\n      <td>Teton</td>\n      <td>23464</td>\n      <td>56039</td>\n      <td>19000</td>\n      <td>145</td>\n      <td>378</td>\n      <td>3554</td>\n    </tr>\n    <tr>\n      <th>3139</th>\n      <td>Wyoming</td>\n      <td>Uinta</td>\n      <td>20226</td>\n      <td>56041</td>\n      <td>17657</td>\n      <td>126</td>\n      <td>92</td>\n      <td>1871</td>\n    </tr>\n    <tr>\n      <th>3140</th>\n      <td>Wyoming</td>\n      <td>Washakie</td>\n      <td>7805</td>\n      <td>56043</td>\n      <td>6417</td>\n      <td>38</td>\n      <td>55</td>\n      <td>1108</td>\n    </tr>\n    <tr>\n      <th>3141</th>\n      <td>Wyoming</td>\n      <td>Weston</td>\n      <td>6927</td>\n      <td>56045</td>\n      <td>6236</td>\n      <td>45</td>\n      <td>113</td>\n      <td>285</td>\n    </tr>\n    <tr>\n      <th>3142</th>\n      <td>New York</td>\n      <td>New York City</td>\n      <td>8336817</td>\n      <td>36NYC</td>\n      <td>2681976</td>\n      <td>1825848</td>\n      <td>1228598</td>\n      <td>2423590</td>\n    </tr>\n  </tbody>\n</table>\n</div>"
     },
     "metadata": {},
     "execution_count": 11
    }
   ],
   "source": [
    "pop_cols = ['state', 'county', 'total_pop', 'fips', 'white', 'black', 'asian', 'hispanic']\n",
    "pop_df = dem_df[pop_cols]\n",
    "pop_df.tail()"
   ]
  },
  {
   "cell_type": "markdown",
   "metadata": {},
   "source": [
    "### Kansas City and Joplin\n",
    "\n",
    "Kansas City and Joplin both refer to cities that cross county borders in Missouri. Therefore, we have to get our information from [census.gov quickfacts](https://www.census.gov/quickfacts).\n",
    "\n",
    "We'll use `29KAN`, and `29JOP` as our `fips` for these two cities."
   ]
  },
  {
   "cell_type": "code",
   "execution_count": 12,
   "metadata": {},
   "outputs": [
    {
     "output_type": "execute_result",
     "data": {
      "text/plain": "      state       county  total_pop   fips   white   black  asian  hispanic\n0  Missouri  Kansas City     495327  29KAN  297691  143644  13373     50523\n1  Missouri       Joplin      50925  29JOP   44610    1629    967      2444",
      "text/html": "<div>\n<style scoped>\n    .dataframe tbody tr th:only-of-type {\n        vertical-align: middle;\n    }\n\n    .dataframe tbody tr th {\n        vertical-align: top;\n    }\n\n    .dataframe thead th {\n        text-align: right;\n    }\n</style>\n<table border=\"1\" class=\"dataframe\">\n  <thead>\n    <tr style=\"text-align: right;\">\n      <th></th>\n      <th>state</th>\n      <th>county</th>\n      <th>total_pop</th>\n      <th>fips</th>\n      <th>white</th>\n      <th>black</th>\n      <th>asian</th>\n      <th>hispanic</th>\n    </tr>\n  </thead>\n  <tbody>\n    <tr>\n      <th>0</th>\n      <td>Missouri</td>\n      <td>Kansas City</td>\n      <td>495327</td>\n      <td>29KAN</td>\n      <td>297691</td>\n      <td>143644</td>\n      <td>13373</td>\n      <td>50523</td>\n    </tr>\n    <tr>\n      <th>1</th>\n      <td>Missouri</td>\n      <td>Joplin</td>\n      <td>50925</td>\n      <td>29JOP</td>\n      <td>44610</td>\n      <td>1629</td>\n      <td>967</td>\n      <td>2444</td>\n    </tr>\n  </tbody>\n</table>\n</div>"
     },
     "metadata": {},
     "execution_count": 12
    }
   ],
   "source": [
    "mo_pop_df = pd.DataFrame(\n",
    "    [['Missouri',\n",
    "      'Kansas City',\n",
    "      495_327,\n",
    "      '29KAN',\n",
    "      int(0.601*495_327),\n",
    "      int(0.290*495_327),\n",
    "      int(0.027*495_327),\n",
    "      int(0.102*495_327)],\n",
    "     ['Missouri',\n",
    "      'Joplin',\n",
    "      50_925,\n",
    "      '29JOP',\n",
    "      int(0.876*50_925),\n",
    "      int(0.032*50_925),\n",
    "      int(0.019*50_925),\n",
    "      int(0.048*50_925)\n",
    "     ]]\n",
    "    , columns=pop_cols)\n",
    "mo_pop_df"
   ]
  },
  {
   "cell_type": "code",
   "execution_count": 13,
   "metadata": {},
   "outputs": [
    {
     "output_type": "execute_result",
     "data": {
      "text/plain": "         state         county  total_pop   fips    white    black    asian  \\\n3140   Wyoming       Washakie       7805  56043     6417       38       55   \n3141   Wyoming         Weston       6927  56045     6236       45      113   \n3142  New York  New York City    8336817  36NYC  2681976  1825848  1228598   \n3143  Missouri    Kansas City     495327  29KAN   297691   143644    13373   \n3144  Missouri         Joplin      50925  29JOP    44610     1629      967   \n\n      hispanic  \n3140      1108  \n3141       285  \n3142   2423590  \n3143     50523  \n3144      2444  ",
      "text/html": "<div>\n<style scoped>\n    .dataframe tbody tr th:only-of-type {\n        vertical-align: middle;\n    }\n\n    .dataframe tbody tr th {\n        vertical-align: top;\n    }\n\n    .dataframe thead th {\n        text-align: right;\n    }\n</style>\n<table border=\"1\" class=\"dataframe\">\n  <thead>\n    <tr style=\"text-align: right;\">\n      <th></th>\n      <th>state</th>\n      <th>county</th>\n      <th>total_pop</th>\n      <th>fips</th>\n      <th>white</th>\n      <th>black</th>\n      <th>asian</th>\n      <th>hispanic</th>\n    </tr>\n  </thead>\n  <tbody>\n    <tr>\n      <th>3140</th>\n      <td>Wyoming</td>\n      <td>Washakie</td>\n      <td>7805</td>\n      <td>56043</td>\n      <td>6417</td>\n      <td>38</td>\n      <td>55</td>\n      <td>1108</td>\n    </tr>\n    <tr>\n      <th>3141</th>\n      <td>Wyoming</td>\n      <td>Weston</td>\n      <td>6927</td>\n      <td>56045</td>\n      <td>6236</td>\n      <td>45</td>\n      <td>113</td>\n      <td>285</td>\n    </tr>\n    <tr>\n      <th>3142</th>\n      <td>New York</td>\n      <td>New York City</td>\n      <td>8336817</td>\n      <td>36NYC</td>\n      <td>2681976</td>\n      <td>1825848</td>\n      <td>1228598</td>\n      <td>2423590</td>\n    </tr>\n    <tr>\n      <th>3143</th>\n      <td>Missouri</td>\n      <td>Kansas City</td>\n      <td>495327</td>\n      <td>29KAN</td>\n      <td>297691</td>\n      <td>143644</td>\n      <td>13373</td>\n      <td>50523</td>\n    </tr>\n    <tr>\n      <th>3144</th>\n      <td>Missouri</td>\n      <td>Joplin</td>\n      <td>50925</td>\n      <td>29JOP</td>\n      <td>44610</td>\n      <td>1629</td>\n      <td>967</td>\n      <td>2444</td>\n    </tr>\n  </tbody>\n</table>\n</div>"
     },
     "metadata": {},
     "execution_count": 13
    }
   ],
   "source": [
    "pop_df = pop_df.append(mo_pop_df, ignore_index=True)\n",
    "pop_df.tail()"
   ]
  },
  {
   "cell_type": "markdown",
   "metadata": {
    "colab_type": "text",
    "id": "FGH01VFhfK6X"
   },
   "source": [
    "# 2. import geojson for boundaries and census areas"
   ]
  },
  {
   "cell_type": "code",
   "execution_count": 14,
   "metadata": {
    "colab": {},
    "colab_type": "code",
    "id": "M3faduMyEPRU"
   },
   "outputs": [],
   "source": [
    "with urlopen('https://raw.githubusercontent.com/plotly/datasets/master/geojson-counties-fips.json') as response:\n",
    "    county_json = json.load(response)"
   ]
  },
  {
   "cell_type": "code",
   "execution_count": 15,
   "metadata": {},
   "outputs": [
    {
     "output_type": "execute_result",
     "data": {
      "text/plain": "{'type': 'Feature',\n 'properties': {'GEO_ID': '0500000US01001',\n  'STATE': '01',\n  'COUNTY': '001',\n  'NAME': 'Autauga',\n  'LSAD': 'County',\n  'CENSUSAREA': 594.436},\n 'geometry': {'type': 'Polygon',\n  'coordinates': [[[-86.496774, 32.344437],\n    [-86.717897, 32.402814],\n    [-86.814912, 32.340803],\n    [-86.890581, 32.502974],\n    [-86.917595, 32.664169],\n    [-86.71339, 32.661732],\n    [-86.714219, 32.705694],\n    [-86.413116, 32.707386],\n    [-86.411172, 32.409937],\n    [-86.496774, 32.344437]]]},\n 'id': '01001'}"
     },
     "metadata": {},
     "execution_count": 15
    }
   ],
   "source": [
    "# inspect structure of geojson\n",
    "county_json['features'][0]"
   ]
  },
  {
   "cell_type": "markdown",
   "metadata": {},
   "source": [
    "## add areas to `county_json`"
   ]
  },
  {
   "cell_type": "code",
   "execution_count": 16,
   "metadata": {},
   "outputs": [
    {
     "output_type": "execute_result",
     "data": {
      "text/plain": "[nan, '69110', '78010', '02158', '78030', '46102', '69120', '78020']"
     },
     "metadata": {},
     "execution_count": 16
    }
   ],
   "source": [
    "fips_to_add_to_json = list(set(nyt_df['fips']) - set([f['id'] for f in county_json['features']]))\n",
    "fips_to_add_to_json"
   ]
  },
  {
   "cell_type": "markdown",
   "metadata": {},
   "source": [
    "The `plotly` county GeoJSON dataset is missing Kusilvak Census Area (`'02158'`) and Oglala Lakota County(`'46102'`), in addition to the three cities included in the NYTimes data (New York City, Kansas City, Joplin). \n",
    "\n",
    "**FUTURE WORK**: we will ignore the following entries in `nyt_df`:\n",
    "- Northern Mariana Islands (`69xxx`)\n",
    "- US Virgin Islands (`78xxx`)\n",
    "- state totals from an unknown county source (`nan`)\n",
    "\n",
    "GeoJSON data for these five areas compiled from [nomanatim](https://nominatim.openstreetmap.org/) and [polygons](http://polygons.openstreetmap.fr/):\n",
    "- Search for the area at [nomanatim](https://nominatim.openstreetmap.org/).\n",
    "- Select `details` from the relevant entry.\n",
    "- Copy the numeric `code` under `OSM`, ignoring \"relation\". Eg. for New York City, copy `175905`.\n",
    "- Search for the `code` at [polygons](http://polygons.openstreetmap.fr/).\n",
    "- For our purposes, GeoJSONs were selected according to the following criteria: (1) sparsity of vertices (`NPoints`) and (2) accuracy of shape."
   ]
  },
  {
   "cell_type": "code",
   "execution_count": 17,
   "metadata": {},
   "outputs": [],
   "source": [
    "# new york city, ny\n",
    "with urlopen('https://raw.githubusercontent.com/jydiw/nyt-covid-19-data/master/data/nyc.txt') as response:\n",
    "    nyc_json = json.load(response)\n",
    "\n",
    "# kansas city, mo\n",
    "with urlopen('https://raw.githubusercontent.com/jydiw/nyt-covid-19-data/master/data/kcm.txt') as response:\n",
    "    kcm_json = json.load(response)\n",
    "\n",
    "# joplin, mo\n",
    "with urlopen('https://raw.githubusercontent.com/jydiw/nyt-covid-19-data/master/data/jm.txt') as response:\n",
    "    jm_json = json.load(response)\n",
    "\n",
    "# oglala lakota county, nd\n",
    "with urlopen('https://raw.githubusercontent.com/jydiw/nyt-covid-19-data/master/data/olsd.txt') as response:\n",
    "    olsd_json = json.load(response)\n",
    "\n",
    "# kusilvak census area, ak\n",
    "with urlopen('https://raw.githubusercontent.com/jydiw/nyt-covid-19-data/master/data/kca.txt') as response:\n",
    "    kca_json = json.load(response)"
   ]
  },
  {
   "cell_type": "code",
   "execution_count": 18,
   "metadata": {},
   "outputs": [],
   "source": [
    "add_to_json_dict = {\n",
    "    '02158':{\n",
    "        'properties':{\n",
    "            'CENSUSAREA':17_081.43,\n",
    "            'NAME':'Kusilvak Census Area'\n",
    "        }, 'geometry':asShape(kca_json).buffer(0)\n",
    "    }, \n",
    "    '46102':{\n",
    "        'properties':{\n",
    "            'CENSUSAREA':2_093.90,\n",
    "            'NAME':'Oglala Lakota'\n",
    "        }, 'geometry':asShape(olsd_json).buffer(0)\n",
    "    },\n",
    "    '29JOP':{\n",
    "        'properties':{\n",
    "            'CENSUSAREA':35.56,\n",
    "            'NAME':'Joplin'\n",
    "        }, 'geometry':asShape(jm_json).buffer(0)\n",
    "    },\n",
    "    '29KAN':{\n",
    "        'properties':{\n",
    "            'CENSUSAREA':314.95,\n",
    "            'NAME':'Kansas City'\n",
    "        }, 'geometry':asShape(kcm_json).buffer(0)\n",
    "    },\n",
    "    '36NYC':{\n",
    "        'properties':{\n",
    "            'CENSUSAREA':302.64,\n",
    "            'NAME':'New York City'\n",
    "        }, 'geometry':asShape(nyc_json).buffer(0)\n",
    "    }\n",
    "}"
   ]
  },
  {
   "cell_type": "code",
   "execution_count": 19,
   "metadata": {},
   "outputs": [],
   "source": [
    "for fips in ['02158', '46102', '29KAN', '29JOP', '36NYC']:\n",
    "    county_json['features'].append(\n",
    "        Feature(id=fips,\n",
    "                geometry=add_to_json_dict[fips]['geometry'],\n",
    "                properties=add_to_json_dict[fips]['properties'])\n",
    "    )"
   ]
  },
  {
   "cell_type": "code",
   "execution_count": 20,
   "metadata": {},
   "outputs": [],
   "source": [
    "with open('data/county_json.json', 'w') as f:\n",
    "    json.dump(county_json, f)"
   ]
  },
  {
   "cell_type": "markdown",
   "metadata": {},
   "source": [
    "## add centroid latitude and longitude coordinates and county area from `county_json` to `pop_df`"
   ]
  },
  {
   "cell_type": "markdown",
   "metadata": {},
   "source": [
    "We will use `shapely` to calculate the [centroid](https://en.wikipedia.org/wiki/Centroid) coordinates for the counties (in case we wish to plot bubble maps)."
   ]
  },
  {
   "cell_type": "code",
   "execution_count": 21,
   "metadata": {
    "colab": {},
    "colab_type": "code",
    "id": "ESe0NZVLfK60"
   },
   "outputs": [],
   "source": [
    "def centroid(i, j=county_json):\n",
    "    for d in j['features']:\n",
    "        if d['id'] == i:\n",
    "            polygon = asShape(d['geometry']).buffer(0)\n",
    "            return polygon.centroid.coords[0]\n",
    "        \n",
    "def county_area(i, j=county_json):\n",
    "    for d in j['features']:\n",
    "        if d['id'] == i:\n",
    "            return d['properties']['CENSUSAREA']"
   ]
  },
  {
   "cell_type": "code",
   "execution_count": 22,
   "metadata": {
    "tags": []
   },
   "outputs": [
    {
     "output_type": "execute_result",
     "data": {
      "text/plain": "         state         county  total_pop   fips    white    black    asian  \\\n3140   Wyoming       Washakie       7805  56043     6417       38       55   \n3141   Wyoming         Weston       6927  56045     6236       45      113   \n3142  New York  New York City    8336817  36NYC  2681976  1825848  1228598   \n3143  Missouri    Kansas City     495327  29KAN   297691   143644    13373   \n3144  Missouri         Joplin      50925  29JOP    44610     1629      967   \n\n      hispanic      area         lon        lat  \n3140      1108  2238.549 -107.681649  43.904771  \n3141       285  2398.089 -104.567290  43.839661  \n3142   2423590   302.640  -73.939368  40.663516  \n3143     50523   314.950  -94.554422  39.127195  \n3144      2444    35.560  -94.505664  37.078985  ",
      "text/html": "<div>\n<style scoped>\n    .dataframe tbody tr th:only-of-type {\n        vertical-align: middle;\n    }\n\n    .dataframe tbody tr th {\n        vertical-align: top;\n    }\n\n    .dataframe thead th {\n        text-align: right;\n    }\n</style>\n<table border=\"1\" class=\"dataframe\">\n  <thead>\n    <tr style=\"text-align: right;\">\n      <th></th>\n      <th>state</th>\n      <th>county</th>\n      <th>total_pop</th>\n      <th>fips</th>\n      <th>white</th>\n      <th>black</th>\n      <th>asian</th>\n      <th>hispanic</th>\n      <th>area</th>\n      <th>lon</th>\n      <th>lat</th>\n    </tr>\n  </thead>\n  <tbody>\n    <tr>\n      <th>3140</th>\n      <td>Wyoming</td>\n      <td>Washakie</td>\n      <td>7805</td>\n      <td>56043</td>\n      <td>6417</td>\n      <td>38</td>\n      <td>55</td>\n      <td>1108</td>\n      <td>2238.549</td>\n      <td>-107.681649</td>\n      <td>43.904771</td>\n    </tr>\n    <tr>\n      <th>3141</th>\n      <td>Wyoming</td>\n      <td>Weston</td>\n      <td>6927</td>\n      <td>56045</td>\n      <td>6236</td>\n      <td>45</td>\n      <td>113</td>\n      <td>285</td>\n      <td>2398.089</td>\n      <td>-104.567290</td>\n      <td>43.839661</td>\n    </tr>\n    <tr>\n      <th>3142</th>\n      <td>New York</td>\n      <td>New York City</td>\n      <td>8336817</td>\n      <td>36NYC</td>\n      <td>2681976</td>\n      <td>1825848</td>\n      <td>1228598</td>\n      <td>2423590</td>\n      <td>302.640</td>\n      <td>-73.939368</td>\n      <td>40.663516</td>\n    </tr>\n    <tr>\n      <th>3143</th>\n      <td>Missouri</td>\n      <td>Kansas City</td>\n      <td>495327</td>\n      <td>29KAN</td>\n      <td>297691</td>\n      <td>143644</td>\n      <td>13373</td>\n      <td>50523</td>\n      <td>314.950</td>\n      <td>-94.554422</td>\n      <td>39.127195</td>\n    </tr>\n    <tr>\n      <th>3144</th>\n      <td>Missouri</td>\n      <td>Joplin</td>\n      <td>50925</td>\n      <td>29JOP</td>\n      <td>44610</td>\n      <td>1629</td>\n      <td>967</td>\n      <td>2444</td>\n      <td>35.560</td>\n      <td>-94.505664</td>\n      <td>37.078985</td>\n    </tr>\n  </tbody>\n</table>\n</div>"
     },
     "metadata": {},
     "execution_count": 22
    }
   ],
   "source": [
    "pop_df['area'] = pop_df['fips'].apply(county_area)\n",
    "pop_df['lon'], pop_df['lat'] = zip(*pop_df['fips'].apply(centroid).to_list())\n",
    "pop_df.tail()"
   ]
  },
  {
   "cell_type": "markdown",
   "metadata": {},
   "source": [
    "# 3. add 2016 general election data"
   ]
  },
  {
   "cell_type": "markdown",
   "metadata": {},
   "source": [
    "Mask compliance has been very political, so it would be interesting to see how political differences vary by county. Data taken from [github.com/tonmcg](https://github.com/tonmcg). Alaska data taken from [RRH Elections](https://rrhelections.com/index.php/2018/02/02/alaska-results-by-county-equivalent-1960-2016/)."
   ]
  },
  {
   "cell_type": "code",
   "execution_count": 23,
   "metadata": {},
   "outputs": [
    {
     "output_type": "execute_result",
     "data": {
      "text/plain": "   votes_dem  votes_gop  total_votes   per_dem  per_gop    diff  \\\n0      93003     130413       246588  0.377159  0.52887  37,410   \n1      93003     130413       246588  0.377159  0.52887  37,410   \n2      93003     130413       246588  0.377159  0.52887  37,410   \n3      93003     130413       246588  0.377159  0.52887  37,410   \n4      93003     130413       246588  0.377159  0.52887  37,410   \n\n  per_point_diff state_abbr county_name combined_fips  \n0         15.17%         AK      Alaska          2013  \n1         15.17%         AK      Alaska          2016  \n2         15.17%         AK      Alaska          2020  \n3         15.17%         AK      Alaska          2050  \n4         15.17%         AK      Alaska          2060  ",
      "text/html": "<div>\n<style scoped>\n    .dataframe tbody tr th:only-of-type {\n        vertical-align: middle;\n    }\n\n    .dataframe tbody tr th {\n        vertical-align: top;\n    }\n\n    .dataframe thead th {\n        text-align: right;\n    }\n</style>\n<table border=\"1\" class=\"dataframe\">\n  <thead>\n    <tr style=\"text-align: right;\">\n      <th></th>\n      <th>votes_dem</th>\n      <th>votes_gop</th>\n      <th>total_votes</th>\n      <th>per_dem</th>\n      <th>per_gop</th>\n      <th>diff</th>\n      <th>per_point_diff</th>\n      <th>state_abbr</th>\n      <th>county_name</th>\n      <th>combined_fips</th>\n    </tr>\n  </thead>\n  <tbody>\n    <tr>\n      <th>0</th>\n      <td>93003</td>\n      <td>130413</td>\n      <td>246588</td>\n      <td>0.377159</td>\n      <td>0.52887</td>\n      <td>37,410</td>\n      <td>15.17%</td>\n      <td>AK</td>\n      <td>Alaska</td>\n      <td>2013</td>\n    </tr>\n    <tr>\n      <th>1</th>\n      <td>93003</td>\n      <td>130413</td>\n      <td>246588</td>\n      <td>0.377159</td>\n      <td>0.52887</td>\n      <td>37,410</td>\n      <td>15.17%</td>\n      <td>AK</td>\n      <td>Alaska</td>\n      <td>2016</td>\n    </tr>\n    <tr>\n      <th>2</th>\n      <td>93003</td>\n      <td>130413</td>\n      <td>246588</td>\n      <td>0.377159</td>\n      <td>0.52887</td>\n      <td>37,410</td>\n      <td>15.17%</td>\n      <td>AK</td>\n      <td>Alaska</td>\n      <td>2020</td>\n    </tr>\n    <tr>\n      <th>3</th>\n      <td>93003</td>\n      <td>130413</td>\n      <td>246588</td>\n      <td>0.377159</td>\n      <td>0.52887</td>\n      <td>37,410</td>\n      <td>15.17%</td>\n      <td>AK</td>\n      <td>Alaska</td>\n      <td>2050</td>\n    </tr>\n    <tr>\n      <th>4</th>\n      <td>93003</td>\n      <td>130413</td>\n      <td>246588</td>\n      <td>0.377159</td>\n      <td>0.52887</td>\n      <td>37,410</td>\n      <td>15.17%</td>\n      <td>AK</td>\n      <td>Alaska</td>\n      <td>2060</td>\n    </tr>\n  </tbody>\n</table>\n</div>"
     },
     "metadata": {},
     "execution_count": 23
    }
   ],
   "source": [
    "with urlopen('https://raw.githubusercontent.com/tonmcg/US_County_Level_Election_Results_08-16/master/2016_US_County_Level_Presidential_Results.csv') as response:\n",
    "    elect_df = pd.read_csv(\n",
    "        response,\n",
    "        encoding='latin-1',        # to avoid unicode error\n",
    "        dtype={\n",
    "            'votes_dem':'int',\n",
    "            'votes_gop':'int',\n",
    "            'total_votes':'int',\n",
    "            'combined_fips':'str'},\n",
    "        index_col=0\n",
    "    )\n",
    "elect_df.head()"
   ]
  },
  {
   "cell_type": "code",
   "execution_count": 24,
   "metadata": {},
   "outputs": [
    {
     "output_type": "execute_result",
     "data": {
      "text/plain": "   state_abbr   county   fips  votes_dem  votes_gop  total_votes\n29         AL  Autauga  01001       5908      18110        24661\n30         AL  Baldwin  01003      18409      72780        94090\n31         AL  Barbour  01005       4848       5431        10390\n32         AL     Bibb  01007       1874       6733         8748\n33         AL   Blount  01009       2150      22808        25384",
      "text/html": "<div>\n<style scoped>\n    .dataframe tbody tr th:only-of-type {\n        vertical-align: middle;\n    }\n\n    .dataframe tbody tr th {\n        vertical-align: top;\n    }\n\n    .dataframe thead th {\n        text-align: right;\n    }\n</style>\n<table border=\"1\" class=\"dataframe\">\n  <thead>\n    <tr style=\"text-align: right;\">\n      <th></th>\n      <th>state_abbr</th>\n      <th>county</th>\n      <th>fips</th>\n      <th>votes_dem</th>\n      <th>votes_gop</th>\n      <th>total_votes</th>\n    </tr>\n  </thead>\n  <tbody>\n    <tr>\n      <th>29</th>\n      <td>AL</td>\n      <td>Autauga</td>\n      <td>01001</td>\n      <td>5908</td>\n      <td>18110</td>\n      <td>24661</td>\n    </tr>\n    <tr>\n      <th>30</th>\n      <td>AL</td>\n      <td>Baldwin</td>\n      <td>01003</td>\n      <td>18409</td>\n      <td>72780</td>\n      <td>94090</td>\n    </tr>\n    <tr>\n      <th>31</th>\n      <td>AL</td>\n      <td>Barbour</td>\n      <td>01005</td>\n      <td>4848</td>\n      <td>5431</td>\n      <td>10390</td>\n    </tr>\n    <tr>\n      <th>32</th>\n      <td>AL</td>\n      <td>Bibb</td>\n      <td>01007</td>\n      <td>1874</td>\n      <td>6733</td>\n      <td>8748</td>\n    </tr>\n    <tr>\n      <th>33</th>\n      <td>AL</td>\n      <td>Blount</td>\n      <td>01009</td>\n      <td>2150</td>\n      <td>22808</td>\n      <td>25384</td>\n    </tr>\n  </tbody>\n</table>\n</div>"
     },
     "metadata": {},
     "execution_count": 24
    }
   ],
   "source": [
    "elect_df.rename(\n",
    "    columns={\n",
    "        'county_name':'county',\n",
    "        'combined_fips':'fips',\n",
    "    }, inplace=True\n",
    ")\n",
    "\n",
    "elect_df = remove_county_terms(elect_df, 'county')\n",
    "elect_df['fips'] = elect_df['fips'].apply('{0:0>5}'.format)        # https://stackoverflow.com/a/23836353\n",
    "elect_df = elect_df[['state_abbr', 'county', 'fips', 'votes_dem', 'votes_gop', 'total_votes']]\n",
    "elect_df = elect_df.sort_values(by='fips')\n",
    "elect_df.head()"
   ]
  },
  {
   "cell_type": "markdown",
   "metadata": {},
   "source": [
    "## add New York City, Kansas City, and Joplin election data"
   ]
  },
  {
   "cell_type": "code",
   "execution_count": 25,
   "metadata": {},
   "outputs": [
    {
     "output_type": "execute_result",
     "data": {
      "text/plain": "      votes_dem  votes_gop  total_votes\n1982    1969920     461174      2490750",
      "text/html": "<div>\n<style scoped>\n    .dataframe tbody tr th:only-of-type {\n        vertical-align: middle;\n    }\n\n    .dataframe tbody tr th {\n        vertical-align: top;\n    }\n\n    .dataframe thead th {\n        text-align: right;\n    }\n</style>\n<table border=\"1\" class=\"dataframe\">\n  <thead>\n    <tr style=\"text-align: right;\">\n      <th></th>\n      <th>votes_dem</th>\n      <th>votes_gop</th>\n      <th>total_votes</th>\n    </tr>\n  </thead>\n  <tbody>\n    <tr>\n      <th>1982</th>\n      <td>1969920</td>\n      <td>461174</td>\n      <td>2490750</td>\n    </tr>\n  </tbody>\n</table>\n</div>"
     },
     "metadata": {},
     "execution_count": 25
    }
   ],
   "source": [
    "nyc_elect_df = elect_df[(elect_df['state_abbr'] == 'NY') & (elect_df['county'] == boroughs[0])].select_dtypes(include='number')\n",
    "\n",
    "for b in boroughs[1:]:\n",
    "    nyc_elect_df += elect_df[(elect_df['state_abbr'] == 'NY') & (elect_df['county'] == b)].select_dtypes(include='number').values\n",
    "    \n",
    "nyc_elect_df"
   ]
  },
  {
   "cell_type": "code",
   "execution_count": null,
   "metadata": {},
   "outputs": [],
   "source": [
    "# nyc_elect_df['per_dem'] = nyc_elect_df['votes_dem'] / nyc_elect_df['total_votes']\n",
    "# nyc_elect_df['per_gop'] = nyc_elect_df['votes_gop'] / nyc_elect_df['total_votes']"
   ]
  },
  {
   "cell_type": "code",
   "execution_count": 26,
   "metadata": {},
   "outputs": [
    {
     "output_type": "execute_result",
     "data": {
      "text/plain": "      votes_dem  votes_gop  total_votes state_abbr         county   fips\n1982    1969920     461174      2490750         NY  New York City  36NYC",
      "text/html": "<div>\n<style scoped>\n    .dataframe tbody tr th:only-of-type {\n        vertical-align: middle;\n    }\n\n    .dataframe tbody tr th {\n        vertical-align: top;\n    }\n\n    .dataframe thead th {\n        text-align: right;\n    }\n</style>\n<table border=\"1\" class=\"dataframe\">\n  <thead>\n    <tr style=\"text-align: right;\">\n      <th></th>\n      <th>votes_dem</th>\n      <th>votes_gop</th>\n      <th>total_votes</th>\n      <th>state_abbr</th>\n      <th>county</th>\n      <th>fips</th>\n    </tr>\n  </thead>\n  <tbody>\n    <tr>\n      <th>1982</th>\n      <td>1969920</td>\n      <td>461174</td>\n      <td>2490750</td>\n      <td>NY</td>\n      <td>New York City</td>\n      <td>36NYC</td>\n    </tr>\n  </tbody>\n</table>\n</div>"
     },
     "metadata": {},
     "execution_count": 26
    }
   ],
   "source": [
    "nyc_elect_df['state_abbr'] = 'NY'\n",
    "nyc_elect_df['county'] = 'New York City'\n",
    "nyc_elect_df['fips'] = '36NYC'\n",
    "nyc_elect_df.head()"
   ]
  },
  {
   "cell_type": "code",
   "execution_count": 27,
   "metadata": {},
   "outputs": [
    {
     "output_type": "execute_result",
     "data": {
      "text/plain": "  state_abbr       county   fips  votes_dem  votes_gop  total_votes\n0         MO  Kansas City  29KAN    97735.0    24654.0     128601.0\n1         MO       Joplin  29JOP        NaN        NaN          NaN",
      "text/html": "<div>\n<style scoped>\n    .dataframe tbody tr th:only-of-type {\n        vertical-align: middle;\n    }\n\n    .dataframe tbody tr th {\n        vertical-align: top;\n    }\n\n    .dataframe thead th {\n        text-align: right;\n    }\n</style>\n<table border=\"1\" class=\"dataframe\">\n  <thead>\n    <tr style=\"text-align: right;\">\n      <th></th>\n      <th>state_abbr</th>\n      <th>county</th>\n      <th>fips</th>\n      <th>votes_dem</th>\n      <th>votes_gop</th>\n      <th>total_votes</th>\n    </tr>\n  </thead>\n  <tbody>\n    <tr>\n      <th>0</th>\n      <td>MO</td>\n      <td>Kansas City</td>\n      <td>29KAN</td>\n      <td>97735.0</td>\n      <td>24654.0</td>\n      <td>128601.0</td>\n    </tr>\n    <tr>\n      <th>1</th>\n      <td>MO</td>\n      <td>Joplin</td>\n      <td>29JOP</td>\n      <td>NaN</td>\n      <td>NaN</td>\n      <td>NaN</td>\n    </tr>\n  </tbody>\n</table>\n</div>"
     },
     "metadata": {},
     "execution_count": 27
    }
   ],
   "source": [
    "# https://en.wikipedia.org/wiki/2016_United_States_presidential_election_in_Missouri\n",
    "\n",
    "mo_elect_df = pd.DataFrame(\n",
    "    [['MO', 'Kansas City', '29KAN', 97735, 24654, 128601],\n",
    "     ['MO', 'Joplin', '29JOP', np.nan, np.nan, np.nan]]\n",
    "    , columns=elect_df.columns)\n",
    "mo_elect_df"
   ]
  },
  {
   "cell_type": "code",
   "execution_count": 28,
   "metadata": {},
   "outputs": [
    {
     "output_type": "execute_result",
     "data": {
      "text/plain": "     state_abbr         county   fips  votes_dem  votes_gop  total_votes\n3139         WY       Washakie  56043      532.0     2911.0       3715.0\n3140         WY         Weston  56045      294.0     2898.0       3334.0\n3141         NY  New York City  36NYC  1969920.0   461174.0    2490750.0\n3142         MO    Kansas City  29KAN    97735.0    24654.0     128601.0\n3143         MO         Joplin  29JOP        NaN        NaN          NaN",
      "text/html": "<div>\n<style scoped>\n    .dataframe tbody tr th:only-of-type {\n        vertical-align: middle;\n    }\n\n    .dataframe tbody tr th {\n        vertical-align: top;\n    }\n\n    .dataframe thead th {\n        text-align: right;\n    }\n</style>\n<table border=\"1\" class=\"dataframe\">\n  <thead>\n    <tr style=\"text-align: right;\">\n      <th></th>\n      <th>state_abbr</th>\n      <th>county</th>\n      <th>fips</th>\n      <th>votes_dem</th>\n      <th>votes_gop</th>\n      <th>total_votes</th>\n    </tr>\n  </thead>\n  <tbody>\n    <tr>\n      <th>3139</th>\n      <td>WY</td>\n      <td>Washakie</td>\n      <td>56043</td>\n      <td>532.0</td>\n      <td>2911.0</td>\n      <td>3715.0</td>\n    </tr>\n    <tr>\n      <th>3140</th>\n      <td>WY</td>\n      <td>Weston</td>\n      <td>56045</td>\n      <td>294.0</td>\n      <td>2898.0</td>\n      <td>3334.0</td>\n    </tr>\n    <tr>\n      <th>3141</th>\n      <td>NY</td>\n      <td>New York City</td>\n      <td>36NYC</td>\n      <td>1969920.0</td>\n      <td>461174.0</td>\n      <td>2490750.0</td>\n    </tr>\n    <tr>\n      <th>3142</th>\n      <td>MO</td>\n      <td>Kansas City</td>\n      <td>29KAN</td>\n      <td>97735.0</td>\n      <td>24654.0</td>\n      <td>128601.0</td>\n    </tr>\n    <tr>\n      <th>3143</th>\n      <td>MO</td>\n      <td>Joplin</td>\n      <td>29JOP</td>\n      <td>NaN</td>\n      <td>NaN</td>\n      <td>NaN</td>\n    </tr>\n  </tbody>\n</table>\n</div>"
     },
     "metadata": {},
     "execution_count": 28
    }
   ],
   "source": [
    "elect_df = elect_df.append([nyc_elect_df, mo_elect_df], ignore_index=True)\n",
    "elect_df.tail()"
   ]
  },
  {
   "cell_type": "markdown",
   "metadata": {},
   "source": [
    "## add alaska elections data"
   ]
  },
  {
   "cell_type": "markdown",
   "metadata": {},
   "source": [
    "Data taken from [RRH Elections](https://rrhelections.com/index.php/2018/02/02/alaska-results-by-county-equivalent-1960-2016/)."
   ]
  },
  {
   "cell_type": "code",
   "execution_count": 29,
   "metadata": {},
   "outputs": [
    {
     "output_type": "execute_result",
     "data": {
      "text/plain": "                 ED/Muni      Municipality Code Registered Voters   \\\n0      Ketchikan Gateway              Ketchikan              10512   \n1  Prince of Wales-Hyder  Prince of Wales-Hyder               4630   \n2                  Sitka                  Sitka               7218   \n3             Petersburg             Petersburg               2741   \n4               Wrangell               Wrangell               1731   \n\n  Times Counted  Castle, Darrell L.  Clinton, Hillary  De La Fuente, Roque   \\\n0           4283                  48              1295                   13   \n1           1831                  67               666                   29   \n2           2787                  38              1261                   18   \n3           1078                  12               334                    7   \n4            764                   7               177                    3   \n\n  Johnson, Gary  Stein, Jill  Trump, Donald J.  Write-in 60  ED Total  \n0            339           84              2354          104     4237  \n1             93           65               831           59     1810  \n2            145           78              1146           73     2759  \n3             64           37               577           32     1063  \n4             35           13               512           13      760  ",
      "text/html": "<div>\n<style scoped>\n    .dataframe tbody tr th:only-of-type {\n        vertical-align: middle;\n    }\n\n    .dataframe tbody tr th {\n        vertical-align: top;\n    }\n\n    .dataframe thead th {\n        text-align: right;\n    }\n</style>\n<table border=\"1\" class=\"dataframe\">\n  <thead>\n    <tr style=\"text-align: right;\">\n      <th></th>\n      <th>ED/Muni</th>\n      <th>Municipality Code</th>\n      <th>Registered Voters</th>\n      <th>Times Counted</th>\n      <th>Castle, Darrell L.</th>\n      <th>Clinton, Hillary</th>\n      <th>De La Fuente, Roque</th>\n      <th>Johnson, Gary</th>\n      <th>Stein, Jill</th>\n      <th>Trump, Donald J.</th>\n      <th>Write-in 60</th>\n      <th>ED Total</th>\n    </tr>\n  </thead>\n  <tbody>\n    <tr>\n      <th>0</th>\n      <td>Ketchikan Gateway</td>\n      <td>Ketchikan</td>\n      <td>10512</td>\n      <td>4283</td>\n      <td>48</td>\n      <td>1295</td>\n      <td>13</td>\n      <td>339</td>\n      <td>84</td>\n      <td>2354</td>\n      <td>104</td>\n      <td>4237</td>\n    </tr>\n    <tr>\n      <th>1</th>\n      <td>Prince of Wales-Hyder</td>\n      <td>Prince of Wales-Hyder</td>\n      <td>4630</td>\n      <td>1831</td>\n      <td>67</td>\n      <td>666</td>\n      <td>29</td>\n      <td>93</td>\n      <td>65</td>\n      <td>831</td>\n      <td>59</td>\n      <td>1810</td>\n    </tr>\n    <tr>\n      <th>2</th>\n      <td>Sitka</td>\n      <td>Sitka</td>\n      <td>7218</td>\n      <td>2787</td>\n      <td>38</td>\n      <td>1261</td>\n      <td>18</td>\n      <td>145</td>\n      <td>78</td>\n      <td>1146</td>\n      <td>73</td>\n      <td>2759</td>\n    </tr>\n    <tr>\n      <th>3</th>\n      <td>Petersburg</td>\n      <td>Petersburg</td>\n      <td>2741</td>\n      <td>1078</td>\n      <td>12</td>\n      <td>334</td>\n      <td>7</td>\n      <td>64</td>\n      <td>37</td>\n      <td>577</td>\n      <td>32</td>\n      <td>1063</td>\n    </tr>\n    <tr>\n      <th>4</th>\n      <td>Wrangell</td>\n      <td>Wrangell</td>\n      <td>1731</td>\n      <td>764</td>\n      <td>7</td>\n      <td>177</td>\n      <td>3</td>\n      <td>35</td>\n      <td>13</td>\n      <td>512</td>\n      <td>13</td>\n      <td>760</td>\n    </tr>\n  </tbody>\n</table>\n</div>"
     },
     "metadata": {},
     "execution_count": 29
    }
   ],
   "source": [
    "ak_elect_df = pd.read_excel('data/2016 AK Gen Official.xlsx', sheet_name='By CE')\n",
    "ak_elect_df = ak_elect_df.iloc[0:29, 0:12]\n",
    "ak_elect_df.head()"
   ]
  },
  {
   "cell_type": "code",
   "execution_count": 30,
   "metadata": {
    "tags": []
   },
   "outputs": [
    {
     "output_type": "stream",
     "name": "stdout",
     "text": "<class 'pandas.core.frame.DataFrame'>\nRangeIndex: 29 entries, 0 to 28\nData columns (total 12 columns):\n #   Column                Non-Null Count  Dtype \n---  ------                --------------  ----- \n 0   ED/Muni               29 non-null     object\n 1   Municipality Code     29 non-null     object\n 2   Registered Voters     29 non-null     object\n 3   Times Counted         29 non-null     object\n 4   Castle, Darrell L.    29 non-null     object\n 5   Clinton, Hillary      29 non-null     object\n 6   De La Fuente, Roque   29 non-null     object\n 7   Johnson, Gary         29 non-null     object\n 8   Stein, Jill           29 non-null     object\n 9   Trump, Donald J.      29 non-null     object\n 10  Write-in 60           29 non-null     object\n 11  ED Total              29 non-null     object\ndtypes: object(12)\nmemory usage: 2.8+ KB\n"
    }
   ],
   "source": [
    "ak_elect_df.info()"
   ]
  },
  {
   "cell_type": "code",
   "execution_count": 31,
   "metadata": {},
   "outputs": [
    {
     "output_type": "execute_result",
     "data": {
      "text/plain": "           ED/Muni  votes_gop  votes_dem  ED Total\n22  Aleutians East        198        121       369\n24  Aleutians West        260        493       846\n19       Anchorage      39942      32130     81678\n12          Bethel        809       2178      3933\n25     Bristol Bay        180         99       316",
      "text/html": "<div>\n<style scoped>\n    .dataframe tbody tr th:only-of-type {\n        vertical-align: middle;\n    }\n\n    .dataframe tbody tr th {\n        vertical-align: top;\n    }\n\n    .dataframe thead th {\n        text-align: right;\n    }\n</style>\n<table border=\"1\" class=\"dataframe\">\n  <thead>\n    <tr style=\"text-align: right;\">\n      <th></th>\n      <th>ED/Muni</th>\n      <th>votes_gop</th>\n      <th>votes_dem</th>\n      <th>ED Total</th>\n    </tr>\n  </thead>\n  <tbody>\n    <tr>\n      <th>22</th>\n      <td>Aleutians East</td>\n      <td>198</td>\n      <td>121</td>\n      <td>369</td>\n    </tr>\n    <tr>\n      <th>24</th>\n      <td>Aleutians West</td>\n      <td>260</td>\n      <td>493</td>\n      <td>846</td>\n    </tr>\n    <tr>\n      <th>19</th>\n      <td>Anchorage</td>\n      <td>39942</td>\n      <td>32130</td>\n      <td>81678</td>\n    </tr>\n    <tr>\n      <th>12</th>\n      <td>Bethel</td>\n      <td>809</td>\n      <td>2178</td>\n      <td>3933</td>\n    </tr>\n    <tr>\n      <th>25</th>\n      <td>Bristol Bay</td>\n      <td>180</td>\n      <td>99</td>\n      <td>316</td>\n    </tr>\n  </tbody>\n</table>\n</div>"
     },
     "metadata": {},
     "execution_count": 31
    }
   ],
   "source": [
    "ak_elect_df.rename(\n",
    "    columns={\n",
    "        'Trump, Donald J. ':'votes_gop',\n",
    "        'Clinton, Hillary ':'votes_dem'\n",
    "    }, inplace=True\n",
    ")\n",
    "ak_elect_df = ak_elect_df[['ED/Muni', 'votes_gop', 'votes_dem', 'ED Total']].sort_values(by='ED/Muni')\n",
    "ak_elect_df[['votes_gop', 'votes_dem', 'ED Total']] = ak_elect_df[['votes_gop', 'votes_dem', 'ED Total']].astype(int)\n",
    "ak_elect_df = ak_elect_df.sort_values(by='ED/Muni')\n",
    "ak_elect_df.head()"
   ]
  },
  {
   "cell_type": "code",
   "execution_count": 32,
   "metadata": {
    "tags": []
   },
   "outputs": [
    {
     "output_type": "stream",
     "name": "stdout",
     "text": "29\n29\n"
    }
   ],
   "source": [
    "print(len(ak_elect_df))\n",
    "print(len(elect_df[elect_df['state_abbr'] == 'AK']))"
   ]
  },
  {
   "cell_type": "code",
   "execution_count": 35,
   "metadata": {},
   "outputs": [
    {
     "output_type": "execute_result",
     "data": {
      "text/plain": "     state_abbr         county   fips  votes_dem  votes_gop  total_votes\n3139         WY       Washakie  56043      532.0     2911.0       3715.0\n3140         WY         Weston  56045      294.0     2898.0       3334.0\n3141         NY  New York City  36NYC  1969920.0   461174.0    2490750.0\n3142         MO    Kansas City  29KAN    97735.0    24654.0     128601.0\n3143         MO         Joplin  29JOP        NaN        NaN          NaN",
      "text/html": "<div>\n<style scoped>\n    .dataframe tbody tr th:only-of-type {\n        vertical-align: middle;\n    }\n\n    .dataframe tbody tr th {\n        vertical-align: top;\n    }\n\n    .dataframe thead th {\n        text-align: right;\n    }\n</style>\n<table border=\"1\" class=\"dataframe\">\n  <thead>\n    <tr style=\"text-align: right;\">\n      <th></th>\n      <th>state_abbr</th>\n      <th>county</th>\n      <th>fips</th>\n      <th>votes_dem</th>\n      <th>votes_gop</th>\n      <th>total_votes</th>\n    </tr>\n  </thead>\n  <tbody>\n    <tr>\n      <th>3139</th>\n      <td>WY</td>\n      <td>Washakie</td>\n      <td>56043</td>\n      <td>532.0</td>\n      <td>2911.0</td>\n      <td>3715.0</td>\n    </tr>\n    <tr>\n      <th>3140</th>\n      <td>WY</td>\n      <td>Weston</td>\n      <td>56045</td>\n      <td>294.0</td>\n      <td>2898.0</td>\n      <td>3334.0</td>\n    </tr>\n    <tr>\n      <th>3141</th>\n      <td>NY</td>\n      <td>New York City</td>\n      <td>36NYC</td>\n      <td>1969920.0</td>\n      <td>461174.0</td>\n      <td>2490750.0</td>\n    </tr>\n    <tr>\n      <th>3142</th>\n      <td>MO</td>\n      <td>Kansas City</td>\n      <td>29KAN</td>\n      <td>97735.0</td>\n      <td>24654.0</td>\n      <td>128601.0</td>\n    </tr>\n    <tr>\n      <th>3143</th>\n      <td>MO</td>\n      <td>Joplin</td>\n      <td>29JOP</td>\n      <td>NaN</td>\n      <td>NaN</td>\n      <td>NaN</td>\n    </tr>\n  </tbody>\n</table>\n</div>"
     },
     "metadata": {},
     "execution_count": 35
    }
   ],
   "source": [
    "elect_df.loc[elect_df['state_abbr'] == 'AK', ['votes_gop', 'votes_dem', 'total_votes']] = ak_elect_df[['votes_gop', 'votes_dem', 'ED Total']].values\n",
    "elect_df.tail()"
   ]
  },
  {
   "cell_type": "code",
   "execution_count": 36,
   "metadata": {},
   "outputs": [
    {
     "output_type": "execute_result",
     "data": {
      "text/plain": "   state_abbr  county   fips  votes_dem  votes_gop  total_votes\n67         AK  Alaska  02013      121.0      198.0        369.0\n68         AK  Alaska  02016      493.0      260.0        846.0\n69         AK  Alaska  02020    32130.0    39942.0      81678.0\n70         AK  Alaska  02050     2178.0      809.0       3933.0\n71         AK  Alaska  02060       99.0      180.0        316.0",
      "text/html": "<div>\n<style scoped>\n    .dataframe tbody tr th:only-of-type {\n        vertical-align: middle;\n    }\n\n    .dataframe tbody tr th {\n        vertical-align: top;\n    }\n\n    .dataframe thead th {\n        text-align: right;\n    }\n</style>\n<table border=\"1\" class=\"dataframe\">\n  <thead>\n    <tr style=\"text-align: right;\">\n      <th></th>\n      <th>state_abbr</th>\n      <th>county</th>\n      <th>fips</th>\n      <th>votes_dem</th>\n      <th>votes_gop</th>\n      <th>total_votes</th>\n    </tr>\n  </thead>\n  <tbody>\n    <tr>\n      <th>67</th>\n      <td>AK</td>\n      <td>Alaska</td>\n      <td>02013</td>\n      <td>121.0</td>\n      <td>198.0</td>\n      <td>369.0</td>\n    </tr>\n    <tr>\n      <th>68</th>\n      <td>AK</td>\n      <td>Alaska</td>\n      <td>02016</td>\n      <td>493.0</td>\n      <td>260.0</td>\n      <td>846.0</td>\n    </tr>\n    <tr>\n      <th>69</th>\n      <td>AK</td>\n      <td>Alaska</td>\n      <td>02020</td>\n      <td>32130.0</td>\n      <td>39942.0</td>\n      <td>81678.0</td>\n    </tr>\n    <tr>\n      <th>70</th>\n      <td>AK</td>\n      <td>Alaska</td>\n      <td>02050</td>\n      <td>2178.0</td>\n      <td>809.0</td>\n      <td>3933.0</td>\n    </tr>\n    <tr>\n      <th>71</th>\n      <td>AK</td>\n      <td>Alaska</td>\n      <td>02060</td>\n      <td>99.0</td>\n      <td>180.0</td>\n      <td>316.0</td>\n    </tr>\n  </tbody>\n</table>\n</div>"
     },
     "metadata": {},
     "execution_count": 36
    }
   ],
   "source": [
    "elect_df[elect_df['state_abbr'] == 'AK'].head()"
   ]
  },
  {
   "cell_type": "code",
   "execution_count": 37,
   "metadata": {},
   "outputs": [],
   "source": [
    "pop_df = pop_df.merge(elect_df[['fips', 'votes_gop', 'votes_dem', 'total_votes']], on='fips', how='left')"
   ]
  },
  {
   "cell_type": "markdown",
   "metadata": {},
   "source": [
    "# 4. add income data\n",
    "\n",
    "Median income statistics taken from [data.census.gov](https://data.census.gov/cedsci/table?q=s1901&tid=ACSST1Y2018.S1901) (2017 ACS 1-Year Estimates). According to the data table, the median household income is reported in column `S1901_C01_012E`."
   ]
  },
  {
   "cell_type": "code",
   "execution_count": 38,
   "metadata": {},
   "outputs": [
    {
     "output_type": "execute_result",
     "data": {
      "text/plain": "    fips                     NAME  median_income\n1  01001  Autauga County, Alabama        58786.0\n2  01003  Baldwin County, Alabama        55962.0\n3  01005  Barbour County, Alabama        34186.0\n4  01007     Bibb County, Alabama        45340.0\n5  01009   Blount County, Alabama        48695.0",
      "text/html": "<div>\n<style scoped>\n    .dataframe tbody tr th:only-of-type {\n        vertical-align: middle;\n    }\n\n    .dataframe tbody tr th {\n        vertical-align: top;\n    }\n\n    .dataframe thead th {\n        text-align: right;\n    }\n</style>\n<table border=\"1\" class=\"dataframe\">\n  <thead>\n    <tr style=\"text-align: right;\">\n      <th></th>\n      <th>fips</th>\n      <th>NAME</th>\n      <th>median_income</th>\n    </tr>\n  </thead>\n  <tbody>\n    <tr>\n      <th>1</th>\n      <td>01001</td>\n      <td>Autauga County, Alabama</td>\n      <td>58786.0</td>\n    </tr>\n    <tr>\n      <th>2</th>\n      <td>01003</td>\n      <td>Baldwin County, Alabama</td>\n      <td>55962.0</td>\n    </tr>\n    <tr>\n      <th>3</th>\n      <td>01005</td>\n      <td>Barbour County, Alabama</td>\n      <td>34186.0</td>\n    </tr>\n    <tr>\n      <th>4</th>\n      <td>01007</td>\n      <td>Bibb County, Alabama</td>\n      <td>45340.0</td>\n    </tr>\n    <tr>\n      <th>5</th>\n      <td>01009</td>\n      <td>Blount County, Alabama</td>\n      <td>48695.0</td>\n    </tr>\n  </tbody>\n</table>\n</div>"
     },
     "metadata": {},
     "execution_count": 38
    }
   ],
   "source": [
    "income_df = pd.read_csv('data/ACSST5Y2018.S1901_data_with_overlays_2020-07-16T134009.csv',\n",
    "                        usecols=['GEO_ID', 'NAME', 'S1901_C01_012E'])\n",
    "income_df = income_df.drop(0, axis=0)\n",
    "income_df.rename(\n",
    "    columns={\n",
    "        'GEO_ID':'fips',\n",
    "        'S1901_C01_012E':'median_income'\n",
    "    }, inplace=True\n",
    ")\n",
    "income_df['median_income'] = income_df['median_income'].astype(float)\n",
    "income_df['fips'] = income_df['fips'].str[-5:]\n",
    "income_df.head()"
   ]
  },
  {
   "cell_type": "code",
   "execution_count": 39,
   "metadata": {},
   "outputs": [
    {
     "output_type": "execute_result",
     "data": {
      "text/plain": "       fips                           NAME  median_income\n1817  35039  Rio Arriba County, New Mexico            NaN",
      "text/html": "<div>\n<style scoped>\n    .dataframe tbody tr th:only-of-type {\n        vertical-align: middle;\n    }\n\n    .dataframe tbody tr th {\n        vertical-align: top;\n    }\n\n    .dataframe thead th {\n        text-align: right;\n    }\n</style>\n<table border=\"1\" class=\"dataframe\">\n  <thead>\n    <tr style=\"text-align: right;\">\n      <th></th>\n      <th>fips</th>\n      <th>NAME</th>\n      <th>median_income</th>\n    </tr>\n  </thead>\n  <tbody>\n    <tr>\n      <th>1817</th>\n      <td>35039</td>\n      <td>Rio Arriba County, New Mexico</td>\n      <td>NaN</td>\n    </tr>\n  </tbody>\n</table>\n</div>"
     },
     "metadata": {},
     "execution_count": 39
    }
   ],
   "source": [
    "income_df[income_df['median_income'].isna()]"
   ]
  },
  {
   "cell_type": "markdown",
   "metadata": {},
   "source": [
    "Rio Arriba Income statistics taken from [datausa.io](https://datausa.io/profile/geo/rio-arriba-county-nm#:~:text=Median%20household%20income%20in%20Rio%20Arriba%20County%2C%20NM%20is%20%2433%2C422.)"
   ]
  },
  {
   "cell_type": "code",
   "execution_count": 40,
   "metadata": {},
   "outputs": [],
   "source": [
    "income_df.at[income_df['fips'] == '35039', 'median_income'] = 33_422"
   ]
  },
  {
   "cell_type": "code",
   "execution_count": 41,
   "metadata": {},
   "outputs": [
    {
     "output_type": "execute_result",
     "data": {
      "text/plain": "    fips  median_income   county    state\n1  01001          58786  Autauga  Alabama\n2  01003          55962  Baldwin  Alabama\n3  01005          34186  Barbour  Alabama\n4  01007          45340     Bibb  Alabama\n5  01009          48695   Blount  Alabama",
      "text/html": "<div>\n<style scoped>\n    .dataframe tbody tr th:only-of-type {\n        vertical-align: middle;\n    }\n\n    .dataframe tbody tr th {\n        vertical-align: top;\n    }\n\n    .dataframe thead th {\n        text-align: right;\n    }\n</style>\n<table border=\"1\" class=\"dataframe\">\n  <thead>\n    <tr style=\"text-align: right;\">\n      <th></th>\n      <th>fips</th>\n      <th>median_income</th>\n      <th>county</th>\n      <th>state</th>\n    </tr>\n  </thead>\n  <tbody>\n    <tr>\n      <th>1</th>\n      <td>01001</td>\n      <td>58786</td>\n      <td>Autauga</td>\n      <td>Alabama</td>\n    </tr>\n    <tr>\n      <th>2</th>\n      <td>01003</td>\n      <td>55962</td>\n      <td>Baldwin</td>\n      <td>Alabama</td>\n    </tr>\n    <tr>\n      <th>3</th>\n      <td>01005</td>\n      <td>34186</td>\n      <td>Barbour</td>\n      <td>Alabama</td>\n    </tr>\n    <tr>\n      <th>4</th>\n      <td>01007</td>\n      <td>45340</td>\n      <td>Bibb</td>\n      <td>Alabama</td>\n    </tr>\n    <tr>\n      <th>5</th>\n      <td>01009</td>\n      <td>48695</td>\n      <td>Blount</td>\n      <td>Alabama</td>\n    </tr>\n  </tbody>\n</table>\n</div>"
     },
     "metadata": {},
     "execution_count": 41
    }
   ],
   "source": [
    "income_df['county'], income_df['state'] = zip(*income_df['NAME'].str.split(', ').tolist())\n",
    "income_df = income_df.drop('NAME', axis=1)\n",
    "income_df = remove_county_terms(income_df, 'county')\n",
    "income_df['median_income'] = income_df['median_income'].astype(int)\n",
    "income_df.head()"
   ]
  },
  {
   "cell_type": "code",
   "execution_count": 42,
   "metadata": {},
   "outputs": [
    {
     "output_type": "execute_result",
     "data": {
      "text/plain": "61884.61918031786"
     },
     "metadata": {},
     "execution_count": 42
    }
   ],
   "source": [
    "# only an estimate of median income\n",
    "\n",
    "nyc_income = income_df[(income_df['state'] == 'New York') & (income_df['county'] == boroughs[0])]['median_income'].values \\\n",
    "                * pop_df[(pop_df['state'] == 'New York') & (pop_df['county'] == boroughs[0])]['total_pop'].values\n",
    "nyc_pop = pop_df[(pop_df['state'] == 'New York') & (pop_df['county'] == boroughs[0])]['total_pop'].values\n",
    "\n",
    "for b in boroughs[1:]:\n",
    "    nyc_income += income_df[(income_df['state'] == 'New York') & (income_df['county'] == b)]['median_income'].values \\\n",
    "                     * pop_df[(pop_df['state'] == 'New York') & (pop_df['county'] == b)]['total_pop'].values\n",
    "    nyc_pop += pop_df[(pop_df['state'] == 'New York') & (pop_df['county'] == b)]['total_pop'].values\n",
    "    \n",
    "nyc_income = nyc_income / nyc_pop\n",
    "nyc_income[0]"
   ]
  },
  {
   "cell_type": "code",
   "execution_count": 43,
   "metadata": {},
   "outputs": [
    {
     "output_type": "execute_result",
     "data": {
      "text/plain": "    fips  median_income         county     state\n0  36NYC          61884  New York City  New York\n1  29KAN          52405    Kansas City  Missouri\n2  29JOP          42782         Joplin  Missouri",
      "text/html": "<div>\n<style scoped>\n    .dataframe tbody tr th:only-of-type {\n        vertical-align: middle;\n    }\n\n    .dataframe tbody tr th {\n        vertical-align: top;\n    }\n\n    .dataframe thead th {\n        text-align: right;\n    }\n</style>\n<table border=\"1\" class=\"dataframe\">\n  <thead>\n    <tr style=\"text-align: right;\">\n      <th></th>\n      <th>fips</th>\n      <th>median_income</th>\n      <th>county</th>\n      <th>state</th>\n    </tr>\n  </thead>\n  <tbody>\n    <tr>\n      <th>0</th>\n      <td>36NYC</td>\n      <td>61884</td>\n      <td>New York City</td>\n      <td>New York</td>\n    </tr>\n    <tr>\n      <th>1</th>\n      <td>29KAN</td>\n      <td>52405</td>\n      <td>Kansas City</td>\n      <td>Missouri</td>\n    </tr>\n    <tr>\n      <th>2</th>\n      <td>29JOP</td>\n      <td>42782</td>\n      <td>Joplin</td>\n      <td>Missouri</td>\n    </tr>\n  </tbody>\n</table>\n</div>"
     },
     "metadata": {},
     "execution_count": 43
    }
   ],
   "source": [
    "income_df2 = pd.DataFrame(\n",
    "    [['36NYC', int(nyc_income[0]), 'New York City', 'New York'],\n",
    "     ['29KAN', 52405, 'Kansas City', 'Missouri'],\n",
    "     ['29JOP', 42782, 'Joplin', 'Missouri']]\n",
    "    , columns=income_df.columns)\n",
    "income_df2"
   ]
  },
  {
   "cell_type": "code",
   "execution_count": 44,
   "metadata": {},
   "outputs": [
    {
     "output_type": "execute_result",
     "data": {
      "text/plain": "       fips  median_income             county        state\n3218  72151          16013  Yabucoa Municipio  Puerto Rico\n3219  72153          14954    Yauco Municipio  Puerto Rico\n3220  36NYC          61884      New York City     New York\n3221  29KAN          52405        Kansas City     Missouri\n3222  29JOP          42782             Joplin     Missouri",
      "text/html": "<div>\n<style scoped>\n    .dataframe tbody tr th:only-of-type {\n        vertical-align: middle;\n    }\n\n    .dataframe tbody tr th {\n        vertical-align: top;\n    }\n\n    .dataframe thead th {\n        text-align: right;\n    }\n</style>\n<table border=\"1\" class=\"dataframe\">\n  <thead>\n    <tr style=\"text-align: right;\">\n      <th></th>\n      <th>fips</th>\n      <th>median_income</th>\n      <th>county</th>\n      <th>state</th>\n    </tr>\n  </thead>\n  <tbody>\n    <tr>\n      <th>3218</th>\n      <td>72151</td>\n      <td>16013</td>\n      <td>Yabucoa Municipio</td>\n      <td>Puerto Rico</td>\n    </tr>\n    <tr>\n      <th>3219</th>\n      <td>72153</td>\n      <td>14954</td>\n      <td>Yauco Municipio</td>\n      <td>Puerto Rico</td>\n    </tr>\n    <tr>\n      <th>3220</th>\n      <td>36NYC</td>\n      <td>61884</td>\n      <td>New York City</td>\n      <td>New York</td>\n    </tr>\n    <tr>\n      <th>3221</th>\n      <td>29KAN</td>\n      <td>52405</td>\n      <td>Kansas City</td>\n      <td>Missouri</td>\n    </tr>\n    <tr>\n      <th>3222</th>\n      <td>29JOP</td>\n      <td>42782</td>\n      <td>Joplin</td>\n      <td>Missouri</td>\n    </tr>\n  </tbody>\n</table>\n</div>"
     },
     "metadata": {},
     "execution_count": 44
    }
   ],
   "source": [
    "income_df = income_df.append(income_df2, ignore_index=True)\n",
    "income_df.tail(5)"
   ]
  },
  {
   "cell_type": "code",
   "execution_count": 45,
   "metadata": {},
   "outputs": [
    {
     "output_type": "execute_result",
     "data": {
      "text/plain": "     state   county  total_pop   fips   white  black  asian  hispanic  \\\n0  Alabama  Autauga      55869  01001   41215  11098    646      1671   \n1  Alabama  Baldwin     223234  01003  185747  19215   2346     10534   \n2  Alabama  Barbour      24686  01005   11235  11807    116      1117   \n3  Alabama     Bibb      22394  01007   16663   4719     46       623   \n4  Alabama   Blount      57826  01009   50176    872    163      5582   \n\n       area        lon        lat  votes_gop  votes_dem  total_votes  \\\n0   594.436 -86.641196  32.536153    18110.0     5908.0      24661.0   \n1  1589.784 -87.723954  30.725862    72780.0    18409.0      94090.0   \n2   884.876 -85.389245  31.867889     5431.0     4848.0      10390.0   \n3   622.582 -87.124963  32.996456     6733.0     1874.0       8748.0   \n4   644.776 -86.569756  33.985248    22808.0     2150.0      25384.0   \n\n   median_income  \n0          58786  \n1          55962  \n2          34186  \n3          45340  \n4          48695  ",
      "text/html": "<div>\n<style scoped>\n    .dataframe tbody tr th:only-of-type {\n        vertical-align: middle;\n    }\n\n    .dataframe tbody tr th {\n        vertical-align: top;\n    }\n\n    .dataframe thead th {\n        text-align: right;\n    }\n</style>\n<table border=\"1\" class=\"dataframe\">\n  <thead>\n    <tr style=\"text-align: right;\">\n      <th></th>\n      <th>state</th>\n      <th>county</th>\n      <th>total_pop</th>\n      <th>fips</th>\n      <th>white</th>\n      <th>black</th>\n      <th>asian</th>\n      <th>hispanic</th>\n      <th>area</th>\n      <th>lon</th>\n      <th>lat</th>\n      <th>votes_gop</th>\n      <th>votes_dem</th>\n      <th>total_votes</th>\n      <th>median_income</th>\n    </tr>\n  </thead>\n  <tbody>\n    <tr>\n      <th>0</th>\n      <td>Alabama</td>\n      <td>Autauga</td>\n      <td>55869</td>\n      <td>01001</td>\n      <td>41215</td>\n      <td>11098</td>\n      <td>646</td>\n      <td>1671</td>\n      <td>594.436</td>\n      <td>-86.641196</td>\n      <td>32.536153</td>\n      <td>18110.0</td>\n      <td>5908.0</td>\n      <td>24661.0</td>\n      <td>58786</td>\n    </tr>\n    <tr>\n      <th>1</th>\n      <td>Alabama</td>\n      <td>Baldwin</td>\n      <td>223234</td>\n      <td>01003</td>\n      <td>185747</td>\n      <td>19215</td>\n      <td>2346</td>\n      <td>10534</td>\n      <td>1589.784</td>\n      <td>-87.723954</td>\n      <td>30.725862</td>\n      <td>72780.0</td>\n      <td>18409.0</td>\n      <td>94090.0</td>\n      <td>55962</td>\n    </tr>\n    <tr>\n      <th>2</th>\n      <td>Alabama</td>\n      <td>Barbour</td>\n      <td>24686</td>\n      <td>01005</td>\n      <td>11235</td>\n      <td>11807</td>\n      <td>116</td>\n      <td>1117</td>\n      <td>884.876</td>\n      <td>-85.389245</td>\n      <td>31.867889</td>\n      <td>5431.0</td>\n      <td>4848.0</td>\n      <td>10390.0</td>\n      <td>34186</td>\n    </tr>\n    <tr>\n      <th>3</th>\n      <td>Alabama</td>\n      <td>Bibb</td>\n      <td>22394</td>\n      <td>01007</td>\n      <td>16663</td>\n      <td>4719</td>\n      <td>46</td>\n      <td>623</td>\n      <td>622.582</td>\n      <td>-87.124963</td>\n      <td>32.996456</td>\n      <td>6733.0</td>\n      <td>1874.0</td>\n      <td>8748.0</td>\n      <td>45340</td>\n    </tr>\n    <tr>\n      <th>4</th>\n      <td>Alabama</td>\n      <td>Blount</td>\n      <td>57826</td>\n      <td>01009</td>\n      <td>50176</td>\n      <td>872</td>\n      <td>163</td>\n      <td>5582</td>\n      <td>644.776</td>\n      <td>-86.569756</td>\n      <td>33.985248</td>\n      <td>22808.0</td>\n      <td>2150.0</td>\n      <td>25384.0</td>\n      <td>48695</td>\n    </tr>\n  </tbody>\n</table>\n</div>"
     },
     "metadata": {},
     "execution_count": 45
    }
   ],
   "source": [
    "pop_df = pop_df.merge(income_df[['fips', 'median_income']], on='fips', how='left')\n",
    "pop_df.head()"
   ]
  },
  {
   "cell_type": "markdown",
   "metadata": {},
   "source": [
    "# 5. add educational attainment data\n",
    "\n",
    "Educational attainment statistics taken from [data.census.gov](https://data.census.gov/cedsci/table?tid=ACSST5Y2018.S1501&g=0400000US04) (2017 ACS 1-Year Estimates).\n",
    "\n",
    "- `S1501_C01_006E` -- population > 25yo\n",
    "- `S1501_C01_007E` -- less than 9th grade\n",
    "- `S1501_C01_008E` -- some high school\n",
    "- `S1501_C01_009E` -- high school or GED\n",
    "- `S1501_C01_010E` -- some college\n",
    "- `S1501_C01_011E` -- associate's\n",
    "- `S1501_C01_012E` -- bachelor's\n",
    "- `S1501_C01_013E` -- graduate or professional"
   ]
  },
  {
   "cell_type": "code",
   "execution_count": 46,
   "metadata": {},
   "outputs": [
    {
     "output_type": "execute_result",
     "data": {
      "text/plain": "    fips                     NAME   pop25  no_hs  some_hs     hs  \\\n1  01001  Autauga County, Alabama   37166    956     3248  12119   \n2  01003  Baldwin County, Alabama  146989   3978    10332  40579   \n3  01005  Barbour County, Alabama   18173   1490     3411   6486   \n4  01007     Bibb County, Alabama   15780    903     1747   7471   \n5  01009   Blount County, Alabama   39627   2967     4894  13489   \n\n   some_college  associates  bachelors  graduate  \n1          7554        2998       5903      4388  \n2         32266       13759      30431     15644  \n3          3287        1279       1417       803  \n4          2938         908       1197       616  \n5          8492        4775       3217      1793  ",
      "text/html": "<div>\n<style scoped>\n    .dataframe tbody tr th:only-of-type {\n        vertical-align: middle;\n    }\n\n    .dataframe tbody tr th {\n        vertical-align: top;\n    }\n\n    .dataframe thead th {\n        text-align: right;\n    }\n</style>\n<table border=\"1\" class=\"dataframe\">\n  <thead>\n    <tr style=\"text-align: right;\">\n      <th></th>\n      <th>fips</th>\n      <th>NAME</th>\n      <th>pop25</th>\n      <th>no_hs</th>\n      <th>some_hs</th>\n      <th>hs</th>\n      <th>some_college</th>\n      <th>associates</th>\n      <th>bachelors</th>\n      <th>graduate</th>\n    </tr>\n  </thead>\n  <tbody>\n    <tr>\n      <th>1</th>\n      <td>01001</td>\n      <td>Autauga County, Alabama</td>\n      <td>37166</td>\n      <td>956</td>\n      <td>3248</td>\n      <td>12119</td>\n      <td>7554</td>\n      <td>2998</td>\n      <td>5903</td>\n      <td>4388</td>\n    </tr>\n    <tr>\n      <th>2</th>\n      <td>01003</td>\n      <td>Baldwin County, Alabama</td>\n      <td>146989</td>\n      <td>3978</td>\n      <td>10332</td>\n      <td>40579</td>\n      <td>32266</td>\n      <td>13759</td>\n      <td>30431</td>\n      <td>15644</td>\n    </tr>\n    <tr>\n      <th>3</th>\n      <td>01005</td>\n      <td>Barbour County, Alabama</td>\n      <td>18173</td>\n      <td>1490</td>\n      <td>3411</td>\n      <td>6486</td>\n      <td>3287</td>\n      <td>1279</td>\n      <td>1417</td>\n      <td>803</td>\n    </tr>\n    <tr>\n      <th>4</th>\n      <td>01007</td>\n      <td>Bibb County, Alabama</td>\n      <td>15780</td>\n      <td>903</td>\n      <td>1747</td>\n      <td>7471</td>\n      <td>2938</td>\n      <td>908</td>\n      <td>1197</td>\n      <td>616</td>\n    </tr>\n    <tr>\n      <th>5</th>\n      <td>01009</td>\n      <td>Blount County, Alabama</td>\n      <td>39627</td>\n      <td>2967</td>\n      <td>4894</td>\n      <td>13489</td>\n      <td>8492</td>\n      <td>4775</td>\n      <td>3217</td>\n      <td>1793</td>\n    </tr>\n  </tbody>\n</table>\n</div>"
     },
     "metadata": {},
     "execution_count": 46
    }
   ],
   "source": [
    "edu_cols = ['S1501_C01_'+f'{i:03d}'+'E' for i in range(6,14)]\n",
    "edu_col_names = ['pop25', 'no_hs', 'some_hs', 'hs', 'some_college', 'associates', 'bachelors', 'graduate']\n",
    "edu_dict = dict(zip(edu_cols, edu_col_names))\n",
    "edu_dict.update({'GEO_ID':'fips'})\n",
    "\n",
    "edu_df = pd.read_csv('data/ACSST5Y2018.S1501_data_with_overlays_2020-07-18T170455.csv',\n",
    "                     usecols=['GEO_ID', 'NAME']+edu_cols)\n",
    "edu_df = edu_df.drop(0, axis=0)\n",
    "for col in edu_cols:\n",
    "    edu_df[col] = edu_df[col].astype(int)\n",
    "edu_df.rename(\n",
    "    columns=edu_dict,\n",
    "    inplace=True\n",
    ")\n",
    "edu_df['fips'] = edu_df['fips'].str[-5:]\n",
    "edu_df.head()"
   ]
  },
  {
   "cell_type": "code",
   "execution_count": 47,
   "metadata": {},
   "outputs": [
    {
     "output_type": "execute_result",
     "data": {
      "text/plain": "    fips   pop25  no_hs  some_hs     hs  some_college  associates  bachelors  \\\n1  01001   37166    956     3248  12119          7554        2998       5903   \n2  01003  146989   3978    10332  40579         32266       13759      30431   \n3  01005   18173   1490     3411   6486          3287        1279       1417   \n4  01007   15780    903     1747   7471          2938         908       1197   \n5  01009   39627   2967     4894  13489          8492        4775       3217   \n\n   graduate   county    state  \n1      4388  Autauga  Alabama  \n2     15644  Baldwin  Alabama  \n3       803  Barbour  Alabama  \n4       616     Bibb  Alabama  \n5      1793   Blount  Alabama  ",
      "text/html": "<div>\n<style scoped>\n    .dataframe tbody tr th:only-of-type {\n        vertical-align: middle;\n    }\n\n    .dataframe tbody tr th {\n        vertical-align: top;\n    }\n\n    .dataframe thead th {\n        text-align: right;\n    }\n</style>\n<table border=\"1\" class=\"dataframe\">\n  <thead>\n    <tr style=\"text-align: right;\">\n      <th></th>\n      <th>fips</th>\n      <th>pop25</th>\n      <th>no_hs</th>\n      <th>some_hs</th>\n      <th>hs</th>\n      <th>some_college</th>\n      <th>associates</th>\n      <th>bachelors</th>\n      <th>graduate</th>\n      <th>county</th>\n      <th>state</th>\n    </tr>\n  </thead>\n  <tbody>\n    <tr>\n      <th>1</th>\n      <td>01001</td>\n      <td>37166</td>\n      <td>956</td>\n      <td>3248</td>\n      <td>12119</td>\n      <td>7554</td>\n      <td>2998</td>\n      <td>5903</td>\n      <td>4388</td>\n      <td>Autauga</td>\n      <td>Alabama</td>\n    </tr>\n    <tr>\n      <th>2</th>\n      <td>01003</td>\n      <td>146989</td>\n      <td>3978</td>\n      <td>10332</td>\n      <td>40579</td>\n      <td>32266</td>\n      <td>13759</td>\n      <td>30431</td>\n      <td>15644</td>\n      <td>Baldwin</td>\n      <td>Alabama</td>\n    </tr>\n    <tr>\n      <th>3</th>\n      <td>01005</td>\n      <td>18173</td>\n      <td>1490</td>\n      <td>3411</td>\n      <td>6486</td>\n      <td>3287</td>\n      <td>1279</td>\n      <td>1417</td>\n      <td>803</td>\n      <td>Barbour</td>\n      <td>Alabama</td>\n    </tr>\n    <tr>\n      <th>4</th>\n      <td>01007</td>\n      <td>15780</td>\n      <td>903</td>\n      <td>1747</td>\n      <td>7471</td>\n      <td>2938</td>\n      <td>908</td>\n      <td>1197</td>\n      <td>616</td>\n      <td>Bibb</td>\n      <td>Alabama</td>\n    </tr>\n    <tr>\n      <th>5</th>\n      <td>01009</td>\n      <td>39627</td>\n      <td>2967</td>\n      <td>4894</td>\n      <td>13489</td>\n      <td>8492</td>\n      <td>4775</td>\n      <td>3217</td>\n      <td>1793</td>\n      <td>Blount</td>\n      <td>Alabama</td>\n    </tr>\n  </tbody>\n</table>\n</div>"
     },
     "metadata": {},
     "execution_count": 47
    }
   ],
   "source": [
    "edu_df['county'], edu_df['state'] = zip(*edu_df['NAME'].str.split(', ').tolist())\n",
    "edu_df = edu_df.drop('NAME', axis=1)\n",
    "edu_df = remove_county_terms(edu_df, 'county')\n",
    "edu_df.head()"
   ]
  },
  {
   "cell_type": "code",
   "execution_count": 48,
   "metadata": {},
   "outputs": [
    {
     "output_type": "execute_result",
     "data": {
      "text/plain": "        pop25   no_hs  some_hs       hs  some_college  associates  bachelors  \\\n1831  5923498  565345   523873  1421617        815961      379457    1292814   \n\n      graduate     state         county   fips  \n1831    924431  New York  New York City  36NYC  ",
      "text/html": "<div>\n<style scoped>\n    .dataframe tbody tr th:only-of-type {\n        vertical-align: middle;\n    }\n\n    .dataframe tbody tr th {\n        vertical-align: top;\n    }\n\n    .dataframe thead th {\n        text-align: right;\n    }\n</style>\n<table border=\"1\" class=\"dataframe\">\n  <thead>\n    <tr style=\"text-align: right;\">\n      <th></th>\n      <th>pop25</th>\n      <th>no_hs</th>\n      <th>some_hs</th>\n      <th>hs</th>\n      <th>some_college</th>\n      <th>associates</th>\n      <th>bachelors</th>\n      <th>graduate</th>\n      <th>state</th>\n      <th>county</th>\n      <th>fips</th>\n    </tr>\n  </thead>\n  <tbody>\n    <tr>\n      <th>1831</th>\n      <td>5923498</td>\n      <td>565345</td>\n      <td>523873</td>\n      <td>1421617</td>\n      <td>815961</td>\n      <td>379457</td>\n      <td>1292814</td>\n      <td>924431</td>\n      <td>New York</td>\n      <td>New York City</td>\n      <td>36NYC</td>\n    </tr>\n  </tbody>\n</table>\n</div>"
     },
     "metadata": {},
     "execution_count": 48
    }
   ],
   "source": [
    "nyc_edu_df = edu_df[(edu_df['state'] == 'New York') & (edu_df['county'] == boroughs[0])].select_dtypes(include='number')\n",
    "\n",
    "for b in boroughs[1:]:\n",
    "    nyc_edu_df += edu_df[(edu_df['state'] == 'New York') & (edu_df['county'] == b)].select_dtypes(include='number').values\n",
    "\n",
    "nyc_edu_df['state'] = 'New York'\n",
    "nyc_edu_df['county'] = 'New York City'\n",
    "nyc_edu_df['fips'] = '36NYC'\n",
    "nyc_edu_df.head()"
   ]
  },
  {
   "cell_type": "code",
   "execution_count": 49,
   "metadata": {},
   "outputs": [
    {
     "output_type": "execute_result",
     "data": {
      "text/plain": "       fips    pop25   no_hs  some_hs       hs  some_college  associates  \\\n3216  72147     6282    1096      480     2344           487         580   \n3217  72149    15288    2599     1134     5616          1648        1218   \n3218  72151    23916    4975     2245     5972          3636        2645   \n3219  72153    25976    4977     2259     8182          2381        1791   \n3220  36NYC  5923498  565345   523873  1421617        815961      379457   \n\n      bachelors  graduate              county        state  \n3216        933       362   Vieques Municipio  Puerto Rico  \n3217       2545       528  Villalba Municipio  Puerto Rico  \n3218       3706       737   Yabucoa Municipio  Puerto Rico  \n3219       4902      1484     Yauco Municipio  Puerto Rico  \n3220    1292814    924431       New York City     New York  ",
      "text/html": "<div>\n<style scoped>\n    .dataframe tbody tr th:only-of-type {\n        vertical-align: middle;\n    }\n\n    .dataframe tbody tr th {\n        vertical-align: top;\n    }\n\n    .dataframe thead th {\n        text-align: right;\n    }\n</style>\n<table border=\"1\" class=\"dataframe\">\n  <thead>\n    <tr style=\"text-align: right;\">\n      <th></th>\n      <th>fips</th>\n      <th>pop25</th>\n      <th>no_hs</th>\n      <th>some_hs</th>\n      <th>hs</th>\n      <th>some_college</th>\n      <th>associates</th>\n      <th>bachelors</th>\n      <th>graduate</th>\n      <th>county</th>\n      <th>state</th>\n    </tr>\n  </thead>\n  <tbody>\n    <tr>\n      <th>3216</th>\n      <td>72147</td>\n      <td>6282</td>\n      <td>1096</td>\n      <td>480</td>\n      <td>2344</td>\n      <td>487</td>\n      <td>580</td>\n      <td>933</td>\n      <td>362</td>\n      <td>Vieques Municipio</td>\n      <td>Puerto Rico</td>\n    </tr>\n    <tr>\n      <th>3217</th>\n      <td>72149</td>\n      <td>15288</td>\n      <td>2599</td>\n      <td>1134</td>\n      <td>5616</td>\n      <td>1648</td>\n      <td>1218</td>\n      <td>2545</td>\n      <td>528</td>\n      <td>Villalba Municipio</td>\n      <td>Puerto Rico</td>\n    </tr>\n    <tr>\n      <th>3218</th>\n      <td>72151</td>\n      <td>23916</td>\n      <td>4975</td>\n      <td>2245</td>\n      <td>5972</td>\n      <td>3636</td>\n      <td>2645</td>\n      <td>3706</td>\n      <td>737</td>\n      <td>Yabucoa Municipio</td>\n      <td>Puerto Rico</td>\n    </tr>\n    <tr>\n      <th>3219</th>\n      <td>72153</td>\n      <td>25976</td>\n      <td>4977</td>\n      <td>2259</td>\n      <td>8182</td>\n      <td>2381</td>\n      <td>1791</td>\n      <td>4902</td>\n      <td>1484</td>\n      <td>Yauco Municipio</td>\n      <td>Puerto Rico</td>\n    </tr>\n    <tr>\n      <th>3220</th>\n      <td>36NYC</td>\n      <td>5923498</td>\n      <td>565345</td>\n      <td>523873</td>\n      <td>1421617</td>\n      <td>815961</td>\n      <td>379457</td>\n      <td>1292814</td>\n      <td>924431</td>\n      <td>New York City</td>\n      <td>New York</td>\n    </tr>\n  </tbody>\n</table>\n</div>"
     },
     "metadata": {},
     "execution_count": 49
    }
   ],
   "source": [
    "edu_df = edu_df.append(nyc_edu_df, ignore_index=True)\n",
    "edu_df.tail()"
   ]
  },
  {
   "cell_type": "code",
   "execution_count": 50,
   "metadata": {},
   "outputs": [
    {
     "output_type": "execute_result",
     "data": {
      "text/plain": "    fips   pop25  no_hs  some_hs     hs  some_college  associates  bachelors  \\\n0  29KAN  325065  11373    22302  82996         73203       23673      69682   \n1  29JOP   33571    779     2580  10582          8462        2576       5759   \n\n   graduate       county     state  \n0     41836  Kansas City  Missouri  \n1      2833       Joplin  Missouri  ",
      "text/html": "<div>\n<style scoped>\n    .dataframe tbody tr th:only-of-type {\n        vertical-align: middle;\n    }\n\n    .dataframe tbody tr th {\n        vertical-align: top;\n    }\n\n    .dataframe thead th {\n        text-align: right;\n    }\n</style>\n<table border=\"1\" class=\"dataframe\">\n  <thead>\n    <tr style=\"text-align: right;\">\n      <th></th>\n      <th>fips</th>\n      <th>pop25</th>\n      <th>no_hs</th>\n      <th>some_hs</th>\n      <th>hs</th>\n      <th>some_college</th>\n      <th>associates</th>\n      <th>bachelors</th>\n      <th>graduate</th>\n      <th>county</th>\n      <th>state</th>\n    </tr>\n  </thead>\n  <tbody>\n    <tr>\n      <th>0</th>\n      <td>29KAN</td>\n      <td>325065</td>\n      <td>11373</td>\n      <td>22302</td>\n      <td>82996</td>\n      <td>73203</td>\n      <td>23673</td>\n      <td>69682</td>\n      <td>41836</td>\n      <td>Kansas City</td>\n      <td>Missouri</td>\n    </tr>\n    <tr>\n      <th>1</th>\n      <td>29JOP</td>\n      <td>33571</td>\n      <td>779</td>\n      <td>2580</td>\n      <td>10582</td>\n      <td>8462</td>\n      <td>2576</td>\n      <td>5759</td>\n      <td>2833</td>\n      <td>Joplin</td>\n      <td>Missouri</td>\n    </tr>\n  </tbody>\n</table>\n</div>"
     },
     "metadata": {},
     "execution_count": 50
    }
   ],
   "source": [
    "mo_edu_df = pd.DataFrame(\n",
    "    [['29KAN', 325065, 11373, 22302, 82996, 73203, 23673, 69682, 41836, 'Kansas City', 'Missouri'],\n",
    "     ['29JOP', 33571, 779, 2580, 10582, 8462, 2576, 5759, 2833, 'Joplin', 'Missouri']]\n",
    "    , columns=edu_df.columns)\n",
    "mo_edu_df"
   ]
  },
  {
   "cell_type": "code",
   "execution_count": 51,
   "metadata": {},
   "outputs": [
    {
     "output_type": "execute_result",
     "data": {
      "text/plain": "       fips    pop25   no_hs  some_hs       hs  some_college  associates  \\\n3218  72151    23916    4975     2245     5972          3636        2645   \n3219  72153    25976    4977     2259     8182          2381        1791   \n3220  36NYC  5923498  565345   523873  1421617        815961      379457   \n3221  29KAN   325065   11373    22302    82996         73203       23673   \n3222  29JOP    33571     779     2580    10582          8462        2576   \n\n      bachelors  graduate             county        state  \n3218       3706       737  Yabucoa Municipio  Puerto Rico  \n3219       4902      1484    Yauco Municipio  Puerto Rico  \n3220    1292814    924431      New York City     New York  \n3221      69682     41836        Kansas City     Missouri  \n3222       5759      2833             Joplin     Missouri  ",
      "text/html": "<div>\n<style scoped>\n    .dataframe tbody tr th:only-of-type {\n        vertical-align: middle;\n    }\n\n    .dataframe tbody tr th {\n        vertical-align: top;\n    }\n\n    .dataframe thead th {\n        text-align: right;\n    }\n</style>\n<table border=\"1\" class=\"dataframe\">\n  <thead>\n    <tr style=\"text-align: right;\">\n      <th></th>\n      <th>fips</th>\n      <th>pop25</th>\n      <th>no_hs</th>\n      <th>some_hs</th>\n      <th>hs</th>\n      <th>some_college</th>\n      <th>associates</th>\n      <th>bachelors</th>\n      <th>graduate</th>\n      <th>county</th>\n      <th>state</th>\n    </tr>\n  </thead>\n  <tbody>\n    <tr>\n      <th>3218</th>\n      <td>72151</td>\n      <td>23916</td>\n      <td>4975</td>\n      <td>2245</td>\n      <td>5972</td>\n      <td>3636</td>\n      <td>2645</td>\n      <td>3706</td>\n      <td>737</td>\n      <td>Yabucoa Municipio</td>\n      <td>Puerto Rico</td>\n    </tr>\n    <tr>\n      <th>3219</th>\n      <td>72153</td>\n      <td>25976</td>\n      <td>4977</td>\n      <td>2259</td>\n      <td>8182</td>\n      <td>2381</td>\n      <td>1791</td>\n      <td>4902</td>\n      <td>1484</td>\n      <td>Yauco Municipio</td>\n      <td>Puerto Rico</td>\n    </tr>\n    <tr>\n      <th>3220</th>\n      <td>36NYC</td>\n      <td>5923498</td>\n      <td>565345</td>\n      <td>523873</td>\n      <td>1421617</td>\n      <td>815961</td>\n      <td>379457</td>\n      <td>1292814</td>\n      <td>924431</td>\n      <td>New York City</td>\n      <td>New York</td>\n    </tr>\n    <tr>\n      <th>3221</th>\n      <td>29KAN</td>\n      <td>325065</td>\n      <td>11373</td>\n      <td>22302</td>\n      <td>82996</td>\n      <td>73203</td>\n      <td>23673</td>\n      <td>69682</td>\n      <td>41836</td>\n      <td>Kansas City</td>\n      <td>Missouri</td>\n    </tr>\n    <tr>\n      <th>3222</th>\n      <td>29JOP</td>\n      <td>33571</td>\n      <td>779</td>\n      <td>2580</td>\n      <td>10582</td>\n      <td>8462</td>\n      <td>2576</td>\n      <td>5759</td>\n      <td>2833</td>\n      <td>Joplin</td>\n      <td>Missouri</td>\n    </tr>\n  </tbody>\n</table>\n</div>"
     },
     "metadata": {},
     "execution_count": 51
    }
   ],
   "source": [
    "edu_df = edu_df.append(mo_edu_df, ignore_index=True)\n",
    "edu_df.tail()"
   ]
  },
  {
   "cell_type": "code",
   "execution_count": 52,
   "metadata": {},
   "outputs": [
    {
     "output_type": "execute_result",
     "data": {
      "text/plain": "         state         county  total_pop   fips    white    black    asian  \\\n3140   Wyoming       Washakie       7805  56043     6417       38       55   \n3141   Wyoming         Weston       6927  56045     6236       45      113   \n3142  New York  New York City    8336817  36NYC  2681976  1825848  1228598   \n3143  Missouri    Kansas City     495327  29KAN   297691   143644    13373   \n3144  Missouri         Joplin      50925  29JOP    44610     1629      967   \n\n      hispanic      area         lon  ...  total_votes  median_income  \\\n3140      1108  2238.549 -107.681649  ...       3715.0          53426   \n3141       285  2398.089 -104.567290  ...       3334.0          52867   \n3142   2423590   302.640  -73.939368  ...    2490750.0          61884   \n3143     50523   314.950  -94.554422  ...     128601.0          52405   \n3144      2444    35.560  -94.505664  ...          NaN          42782   \n\n        pop25   no_hs  some_hs       hs  some_college  associates  bachelors  \\\n3140     5662     181      409     1717          1434         701        849   \n3141     5014     129      260     1796          1334         534        676   \n3142  5923498  565345   523873  1421617        815961      379457    1292814   \n3143   325065   11373    22302    82996         73203       23673      69682   \n3144    33571     779     2580    10582          8462        2576       5759   \n\n      graduate  \n3140       371  \n3141       285  \n3142    924431  \n3143     41836  \n3144      2833  \n\n[5 rows x 23 columns]",
      "text/html": "<div>\n<style scoped>\n    .dataframe tbody tr th:only-of-type {\n        vertical-align: middle;\n    }\n\n    .dataframe tbody tr th {\n        vertical-align: top;\n    }\n\n    .dataframe thead th {\n        text-align: right;\n    }\n</style>\n<table border=\"1\" class=\"dataframe\">\n  <thead>\n    <tr style=\"text-align: right;\">\n      <th></th>\n      <th>state</th>\n      <th>county</th>\n      <th>total_pop</th>\n      <th>fips</th>\n      <th>white</th>\n      <th>black</th>\n      <th>asian</th>\n      <th>hispanic</th>\n      <th>area</th>\n      <th>lon</th>\n      <th>...</th>\n      <th>total_votes</th>\n      <th>median_income</th>\n      <th>pop25</th>\n      <th>no_hs</th>\n      <th>some_hs</th>\n      <th>hs</th>\n      <th>some_college</th>\n      <th>associates</th>\n      <th>bachelors</th>\n      <th>graduate</th>\n    </tr>\n  </thead>\n  <tbody>\n    <tr>\n      <th>3140</th>\n      <td>Wyoming</td>\n      <td>Washakie</td>\n      <td>7805</td>\n      <td>56043</td>\n      <td>6417</td>\n      <td>38</td>\n      <td>55</td>\n      <td>1108</td>\n      <td>2238.549</td>\n      <td>-107.681649</td>\n      <td>...</td>\n      <td>3715.0</td>\n      <td>53426</td>\n      <td>5662</td>\n      <td>181</td>\n      <td>409</td>\n      <td>1717</td>\n      <td>1434</td>\n      <td>701</td>\n      <td>849</td>\n      <td>371</td>\n    </tr>\n    <tr>\n      <th>3141</th>\n      <td>Wyoming</td>\n      <td>Weston</td>\n      <td>6927</td>\n      <td>56045</td>\n      <td>6236</td>\n      <td>45</td>\n      <td>113</td>\n      <td>285</td>\n      <td>2398.089</td>\n      <td>-104.567290</td>\n      <td>...</td>\n      <td>3334.0</td>\n      <td>52867</td>\n      <td>5014</td>\n      <td>129</td>\n      <td>260</td>\n      <td>1796</td>\n      <td>1334</td>\n      <td>534</td>\n      <td>676</td>\n      <td>285</td>\n    </tr>\n    <tr>\n      <th>3142</th>\n      <td>New York</td>\n      <td>New York City</td>\n      <td>8336817</td>\n      <td>36NYC</td>\n      <td>2681976</td>\n      <td>1825848</td>\n      <td>1228598</td>\n      <td>2423590</td>\n      <td>302.640</td>\n      <td>-73.939368</td>\n      <td>...</td>\n      <td>2490750.0</td>\n      <td>61884</td>\n      <td>5923498</td>\n      <td>565345</td>\n      <td>523873</td>\n      <td>1421617</td>\n      <td>815961</td>\n      <td>379457</td>\n      <td>1292814</td>\n      <td>924431</td>\n    </tr>\n    <tr>\n      <th>3143</th>\n      <td>Missouri</td>\n      <td>Kansas City</td>\n      <td>495327</td>\n      <td>29KAN</td>\n      <td>297691</td>\n      <td>143644</td>\n      <td>13373</td>\n      <td>50523</td>\n      <td>314.950</td>\n      <td>-94.554422</td>\n      <td>...</td>\n      <td>128601.0</td>\n      <td>52405</td>\n      <td>325065</td>\n      <td>11373</td>\n      <td>22302</td>\n      <td>82996</td>\n      <td>73203</td>\n      <td>23673</td>\n      <td>69682</td>\n      <td>41836</td>\n    </tr>\n    <tr>\n      <th>3144</th>\n      <td>Missouri</td>\n      <td>Joplin</td>\n      <td>50925</td>\n      <td>29JOP</td>\n      <td>44610</td>\n      <td>1629</td>\n      <td>967</td>\n      <td>2444</td>\n      <td>35.560</td>\n      <td>-94.505664</td>\n      <td>...</td>\n      <td>NaN</td>\n      <td>42782</td>\n      <td>33571</td>\n      <td>779</td>\n      <td>2580</td>\n      <td>10582</td>\n      <td>8462</td>\n      <td>2576</td>\n      <td>5759</td>\n      <td>2833</td>\n    </tr>\n  </tbody>\n</table>\n<p>5 rows × 23 columns</p>\n</div>"
     },
     "metadata": {},
     "execution_count": 52
    }
   ],
   "source": [
    "pop_df = pop_df.merge(edu_df[['fips']+edu_col_names], on='fips', how='left')\n",
    "pop_df.tail()"
   ]
  },
  {
   "cell_type": "markdown",
   "metadata": {},
   "source": [
    "# 6. add mask usage statistics"
   ]
  },
  {
   "cell_type": "code",
   "execution_count": 53,
   "metadata": {},
   "outputs": [
    {
     "output_type": "execute_result",
     "data": {
      "text/plain": "   COUNTYFP  NEVER  RARELY  SOMETIMES  FREQUENTLY  ALWAYS\n0      1001  0.053   0.074      0.134       0.295   0.444\n1      1003  0.083   0.059      0.098       0.323   0.436\n2      1005  0.067   0.121      0.120       0.201   0.491\n3      1007  0.020   0.034      0.096       0.278   0.572\n4      1009  0.053   0.114      0.180       0.194   0.459",
      "text/html": "<div>\n<style scoped>\n    .dataframe tbody tr th:only-of-type {\n        vertical-align: middle;\n    }\n\n    .dataframe tbody tr th {\n        vertical-align: top;\n    }\n\n    .dataframe thead th {\n        text-align: right;\n    }\n</style>\n<table border=\"1\" class=\"dataframe\">\n  <thead>\n    <tr style=\"text-align: right;\">\n      <th></th>\n      <th>COUNTYFP</th>\n      <th>NEVER</th>\n      <th>RARELY</th>\n      <th>SOMETIMES</th>\n      <th>FREQUENTLY</th>\n      <th>ALWAYS</th>\n    </tr>\n  </thead>\n  <tbody>\n    <tr>\n      <th>0</th>\n      <td>1001</td>\n      <td>0.053</td>\n      <td>0.074</td>\n      <td>0.134</td>\n      <td>0.295</td>\n      <td>0.444</td>\n    </tr>\n    <tr>\n      <th>1</th>\n      <td>1003</td>\n      <td>0.083</td>\n      <td>0.059</td>\n      <td>0.098</td>\n      <td>0.323</td>\n      <td>0.436</td>\n    </tr>\n    <tr>\n      <th>2</th>\n      <td>1005</td>\n      <td>0.067</td>\n      <td>0.121</td>\n      <td>0.120</td>\n      <td>0.201</td>\n      <td>0.491</td>\n    </tr>\n    <tr>\n      <th>3</th>\n      <td>1007</td>\n      <td>0.020</td>\n      <td>0.034</td>\n      <td>0.096</td>\n      <td>0.278</td>\n      <td>0.572</td>\n    </tr>\n    <tr>\n      <th>4</th>\n      <td>1009</td>\n      <td>0.053</td>\n      <td>0.114</td>\n      <td>0.180</td>\n      <td>0.194</td>\n      <td>0.459</td>\n    </tr>\n  </tbody>\n</table>\n</div>"
     },
     "metadata": {},
     "execution_count": 53
    }
   ],
   "source": [
    "with urlopen('https://raw.githubusercontent.com/nytimes/covid-19-data/master/mask-use/mask-use-by-county.csv') as response:\n",
    "    mask_df = pd.read_csv(response)\n",
    "mask_df.head()"
   ]
  },
  {
   "cell_type": "code",
   "execution_count": 54,
   "metadata": {},
   "outputs": [
    {
     "output_type": "execute_result",
     "data": {
      "text/plain": "    fips  never  rarely  sometimes  frequently  always\n0  01001  0.053   0.074      0.134       0.295   0.444\n1  01003  0.083   0.059      0.098       0.323   0.436\n2  01005  0.067   0.121      0.120       0.201   0.491\n3  01007  0.020   0.034      0.096       0.278   0.572\n4  01009  0.053   0.114      0.180       0.194   0.459",
      "text/html": "<div>\n<style scoped>\n    .dataframe tbody tr th:only-of-type {\n        vertical-align: middle;\n    }\n\n    .dataframe tbody tr th {\n        vertical-align: top;\n    }\n\n    .dataframe thead th {\n        text-align: right;\n    }\n</style>\n<table border=\"1\" class=\"dataframe\">\n  <thead>\n    <tr style=\"text-align: right;\">\n      <th></th>\n      <th>fips</th>\n      <th>never</th>\n      <th>rarely</th>\n      <th>sometimes</th>\n      <th>frequently</th>\n      <th>always</th>\n    </tr>\n  </thead>\n  <tbody>\n    <tr>\n      <th>0</th>\n      <td>01001</td>\n      <td>0.053</td>\n      <td>0.074</td>\n      <td>0.134</td>\n      <td>0.295</td>\n      <td>0.444</td>\n    </tr>\n    <tr>\n      <th>1</th>\n      <td>01003</td>\n      <td>0.083</td>\n      <td>0.059</td>\n      <td>0.098</td>\n      <td>0.323</td>\n      <td>0.436</td>\n    </tr>\n    <tr>\n      <th>2</th>\n      <td>01005</td>\n      <td>0.067</td>\n      <td>0.121</td>\n      <td>0.120</td>\n      <td>0.201</td>\n      <td>0.491</td>\n    </tr>\n    <tr>\n      <th>3</th>\n      <td>01007</td>\n      <td>0.020</td>\n      <td>0.034</td>\n      <td>0.096</td>\n      <td>0.278</td>\n      <td>0.572</td>\n    </tr>\n    <tr>\n      <th>4</th>\n      <td>01009</td>\n      <td>0.053</td>\n      <td>0.114</td>\n      <td>0.180</td>\n      <td>0.194</td>\n      <td>0.459</td>\n    </tr>\n  </tbody>\n</table>\n</div>"
     },
     "metadata": {},
     "execution_count": 54
    }
   ],
   "source": [
    "mask_df.rename(columns={'COUNTYFP':'fips'}, inplace=True)\n",
    "mask_df['fips'] = mask_df['fips'].apply('{0:0>5}'.format)\n",
    "mask_df.columns = mask_df.columns.str.lower()\n",
    "mask_df.head()"
   ]
  },
  {
   "cell_type": "code",
   "execution_count": 55,
   "metadata": {},
   "outputs": [],
   "source": [
    "def mask_df_averager(fips, custom_fips):\n",
    "    temp_df = pd.DataFrame(\n",
    "        [\n",
    "            np.average(\n",
    "                mask_df.set_index('fips').loc[fips, :], \n",
    "                axis=0, \n",
    "                weights=pop_df.set_index('fips').loc[fips, 'total_pop']\n",
    "            )\n",
    "        ], columns=mask_df.columns[1:]\n",
    "    )\n",
    "    temp_df['fips'] = custom_fips\n",
    "    return temp_df"
   ]
  },
  {
   "cell_type": "code",
   "execution_count": 56,
   "metadata": {},
   "outputs": [
    {
     "output_type": "execute_result",
     "data": {
      "text/plain": "      never    rarely  sometimes  frequently   always   fips\n0  0.029802  0.022852   0.057863    0.137004  0.75248  36NYC",
      "text/html": "<div>\n<style scoped>\n    .dataframe tbody tr th:only-of-type {\n        vertical-align: middle;\n    }\n\n    .dataframe tbody tr th {\n        vertical-align: top;\n    }\n\n    .dataframe thead th {\n        text-align: right;\n    }\n</style>\n<table border=\"1\" class=\"dataframe\">\n  <thead>\n    <tr style=\"text-align: right;\">\n      <th></th>\n      <th>never</th>\n      <th>rarely</th>\n      <th>sometimes</th>\n      <th>frequently</th>\n      <th>always</th>\n      <th>fips</th>\n    </tr>\n  </thead>\n  <tbody>\n    <tr>\n      <th>0</th>\n      <td>0.029802</td>\n      <td>0.022852</td>\n      <td>0.057863</td>\n      <td>0.137004</td>\n      <td>0.75248</td>\n      <td>36NYC</td>\n    </tr>\n  </tbody>\n</table>\n</div>"
     },
     "metadata": {},
     "execution_count": 56
    }
   ],
   "source": [
    "nyc_fips = ['36005', '36047', '36061', '36081', '36085']\n",
    "nyc_mask_df = mask_df_averager(nyc_fips, '36NYC')\n",
    "nyc_mask_df"
   ]
  },
  {
   "cell_type": "code",
   "execution_count": 57,
   "metadata": {},
   "outputs": [],
   "source": [
    "# estimates from averaging counties\n",
    "jop_fips = ['29097', '29145']\n",
    "kan_fips = ['29095', '29047', '29165', '29037']\n",
    "jop_mask_df = mask_df_averager(jop_fips, '29JOP')\n",
    "kan_mask_df = mask_df_averager(kan_fips, '29KAN')"
   ]
  },
  {
   "cell_type": "code",
   "execution_count": 58,
   "metadata": {},
   "outputs": [
    {
     "output_type": "execute_result",
     "data": {
      "text/plain": "       fips     never    rarely  sometimes  frequently    always\n3140  56043  0.204000  0.155000   0.069000    0.285000  0.287000\n3141  56045  0.142000  0.129000   0.148000    0.207000  0.374000\n3142  36NYC  0.029802  0.022852   0.057863    0.137004  0.752480\n3143  29JOP  0.143838  0.141946   0.144730    0.187351  0.383135\n3144  29KAN  0.029815  0.058889   0.092879    0.203477  0.614758",
      "text/html": "<div>\n<style scoped>\n    .dataframe tbody tr th:only-of-type {\n        vertical-align: middle;\n    }\n\n    .dataframe tbody tr th {\n        vertical-align: top;\n    }\n\n    .dataframe thead th {\n        text-align: right;\n    }\n</style>\n<table border=\"1\" class=\"dataframe\">\n  <thead>\n    <tr style=\"text-align: right;\">\n      <th></th>\n      <th>fips</th>\n      <th>never</th>\n      <th>rarely</th>\n      <th>sometimes</th>\n      <th>frequently</th>\n      <th>always</th>\n    </tr>\n  </thead>\n  <tbody>\n    <tr>\n      <th>3140</th>\n      <td>56043</td>\n      <td>0.204000</td>\n      <td>0.155000</td>\n      <td>0.069000</td>\n      <td>0.285000</td>\n      <td>0.287000</td>\n    </tr>\n    <tr>\n      <th>3141</th>\n      <td>56045</td>\n      <td>0.142000</td>\n      <td>0.129000</td>\n      <td>0.148000</td>\n      <td>0.207000</td>\n      <td>0.374000</td>\n    </tr>\n    <tr>\n      <th>3142</th>\n      <td>36NYC</td>\n      <td>0.029802</td>\n      <td>0.022852</td>\n      <td>0.057863</td>\n      <td>0.137004</td>\n      <td>0.752480</td>\n    </tr>\n    <tr>\n      <th>3143</th>\n      <td>29JOP</td>\n      <td>0.143838</td>\n      <td>0.141946</td>\n      <td>0.144730</td>\n      <td>0.187351</td>\n      <td>0.383135</td>\n    </tr>\n    <tr>\n      <th>3144</th>\n      <td>29KAN</td>\n      <td>0.029815</td>\n      <td>0.058889</td>\n      <td>0.092879</td>\n      <td>0.203477</td>\n      <td>0.614758</td>\n    </tr>\n  </tbody>\n</table>\n</div>"
     },
     "metadata": {},
     "execution_count": 58
    }
   ],
   "source": [
    "mask_df = mask_df.append([nyc_mask_df, jop_mask_df, kan_mask_df], ignore_index=True)\n",
    "mask_df.tail()"
   ]
  },
  {
   "cell_type": "code",
   "execution_count": 59,
   "metadata": {},
   "outputs": [
    {
     "output_type": "execute_result",
     "data": {
      "text/plain": "         state         county  total_pop   fips    white    black    asian  \\\n3140   Wyoming       Washakie       7805  56043     6417       38       55   \n3141   Wyoming         Weston       6927  56045     6236       45      113   \n3142  New York  New York City    8336817  36NYC  2681976  1825848  1228598   \n3143  Missouri    Kansas City     495327  29KAN   297691   143644    13373   \n3144  Missouri         Joplin      50925  29JOP    44610     1629      967   \n\n      hispanic      area         lon  ...       hs  some_college  associates  \\\n3140      1108  2238.549 -107.681649  ...     1717          1434         701   \n3141       285  2398.089 -104.567290  ...     1796          1334         534   \n3142   2423590   302.640  -73.939368  ...  1421617        815961      379457   \n3143     50523   314.950  -94.554422  ...    82996         73203       23673   \n3144      2444    35.560  -94.505664  ...    10582          8462        2576   \n\n      bachelors  graduate     never    rarely  sometimes  frequently    always  \n3140        849       371  0.204000  0.155000   0.069000    0.285000  0.287000  \n3141        676       285  0.142000  0.129000   0.148000    0.207000  0.374000  \n3142    1292814    924431  0.029802  0.022852   0.057863    0.137004  0.752480  \n3143      69682     41836  0.029815  0.058889   0.092879    0.203477  0.614758  \n3144       5759      2833  0.143838  0.141946   0.144730    0.187351  0.383135  \n\n[5 rows x 28 columns]",
      "text/html": "<div>\n<style scoped>\n    .dataframe tbody tr th:only-of-type {\n        vertical-align: middle;\n    }\n\n    .dataframe tbody tr th {\n        vertical-align: top;\n    }\n\n    .dataframe thead th {\n        text-align: right;\n    }\n</style>\n<table border=\"1\" class=\"dataframe\">\n  <thead>\n    <tr style=\"text-align: right;\">\n      <th></th>\n      <th>state</th>\n      <th>county</th>\n      <th>total_pop</th>\n      <th>fips</th>\n      <th>white</th>\n      <th>black</th>\n      <th>asian</th>\n      <th>hispanic</th>\n      <th>area</th>\n      <th>lon</th>\n      <th>...</th>\n      <th>hs</th>\n      <th>some_college</th>\n      <th>associates</th>\n      <th>bachelors</th>\n      <th>graduate</th>\n      <th>never</th>\n      <th>rarely</th>\n      <th>sometimes</th>\n      <th>frequently</th>\n      <th>always</th>\n    </tr>\n  </thead>\n  <tbody>\n    <tr>\n      <th>3140</th>\n      <td>Wyoming</td>\n      <td>Washakie</td>\n      <td>7805</td>\n      <td>56043</td>\n      <td>6417</td>\n      <td>38</td>\n      <td>55</td>\n      <td>1108</td>\n      <td>2238.549</td>\n      <td>-107.681649</td>\n      <td>...</td>\n      <td>1717</td>\n      <td>1434</td>\n      <td>701</td>\n      <td>849</td>\n      <td>371</td>\n      <td>0.204000</td>\n      <td>0.155000</td>\n      <td>0.069000</td>\n      <td>0.285000</td>\n      <td>0.287000</td>\n    </tr>\n    <tr>\n      <th>3141</th>\n      <td>Wyoming</td>\n      <td>Weston</td>\n      <td>6927</td>\n      <td>56045</td>\n      <td>6236</td>\n      <td>45</td>\n      <td>113</td>\n      <td>285</td>\n      <td>2398.089</td>\n      <td>-104.567290</td>\n      <td>...</td>\n      <td>1796</td>\n      <td>1334</td>\n      <td>534</td>\n      <td>676</td>\n      <td>285</td>\n      <td>0.142000</td>\n      <td>0.129000</td>\n      <td>0.148000</td>\n      <td>0.207000</td>\n      <td>0.374000</td>\n    </tr>\n    <tr>\n      <th>3142</th>\n      <td>New York</td>\n      <td>New York City</td>\n      <td>8336817</td>\n      <td>36NYC</td>\n      <td>2681976</td>\n      <td>1825848</td>\n      <td>1228598</td>\n      <td>2423590</td>\n      <td>302.640</td>\n      <td>-73.939368</td>\n      <td>...</td>\n      <td>1421617</td>\n      <td>815961</td>\n      <td>379457</td>\n      <td>1292814</td>\n      <td>924431</td>\n      <td>0.029802</td>\n      <td>0.022852</td>\n      <td>0.057863</td>\n      <td>0.137004</td>\n      <td>0.752480</td>\n    </tr>\n    <tr>\n      <th>3143</th>\n      <td>Missouri</td>\n      <td>Kansas City</td>\n      <td>495327</td>\n      <td>29KAN</td>\n      <td>297691</td>\n      <td>143644</td>\n      <td>13373</td>\n      <td>50523</td>\n      <td>314.950</td>\n      <td>-94.554422</td>\n      <td>...</td>\n      <td>82996</td>\n      <td>73203</td>\n      <td>23673</td>\n      <td>69682</td>\n      <td>41836</td>\n      <td>0.029815</td>\n      <td>0.058889</td>\n      <td>0.092879</td>\n      <td>0.203477</td>\n      <td>0.614758</td>\n    </tr>\n    <tr>\n      <th>3144</th>\n      <td>Missouri</td>\n      <td>Joplin</td>\n      <td>50925</td>\n      <td>29JOP</td>\n      <td>44610</td>\n      <td>1629</td>\n      <td>967</td>\n      <td>2444</td>\n      <td>35.560</td>\n      <td>-94.505664</td>\n      <td>...</td>\n      <td>10582</td>\n      <td>8462</td>\n      <td>2576</td>\n      <td>5759</td>\n      <td>2833</td>\n      <td>0.143838</td>\n      <td>0.141946</td>\n      <td>0.144730</td>\n      <td>0.187351</td>\n      <td>0.383135</td>\n    </tr>\n  </tbody>\n</table>\n<p>5 rows × 28 columns</p>\n</div>"
     },
     "metadata": {},
     "execution_count": 59
    }
   ],
   "source": [
    "pop_df = pop_df.merge(mask_df, on='fips', how='left')\n",
    "pop_df.tail()"
   ]
  },
  {
   "cell_type": "code",
   "execution_count": 60,
   "metadata": {},
   "outputs": [],
   "source": [
    "pop_df['pop_density'] = pop_df['total_pop'] / pop_df['area']\n",
    "for col in ['white', 'black', 'asian', 'hispanic', 'total_votes']:\n",
    "    pop_df['per_' + col] = pop_df[col] / pop_df['total_pop']\n",
    "for col in ['votes_gop', 'votes_dem']:\n",
    "    pop_df['per_' + col] = pop_df[col] / pop_df['total_votes']\n",
    "for col in ['no_hs', 'some_hs', 'hs', 'associates', 'bachelors', 'graduate']:\n",
    "    pop_df['per_' + col] = pop_df[col] / pop_df['pop25']"
   ]
  },
  {
   "cell_type": "code",
   "execution_count": 61,
   "metadata": {},
   "outputs": [],
   "source": [
    "pop_df['per_college'] = (pop_df['associates'] + pop_df['bachelors'] + pop_df['graduate']) / pop_df['pop25']\n",
    "pop_df['per_gop'] = pop_df['votes_gop'] / (pop_df['votes_gop'] + pop_df['votes_dem'])\n",
    "pop_df['gop'] = pop_df['votes_gop'] > pop_df['votes_dem']"
   ]
  },
  {
   "cell_type": "code",
   "execution_count": 62,
   "metadata": {},
   "outputs": [
    {
     "output_type": "execute_result",
     "data": {
      "text/plain": "     state   county  total_pop   fips   white  black  asian  hispanic  \\\n0  Alabama  Autauga      55869  01001   41215  11098    646      1671   \n1  Alabama  Baldwin     223234  01003  185747  19215   2346     10534   \n2  Alabama  Barbour      24686  01005   11235  11807    116      1117   \n3  Alabama     Bibb      22394  01007   16663   4719     46       623   \n4  Alabama   Blount      57826  01009   50176    872    163      5582   \n\n       area        lon  ...  per_votes_dem  per_no_hs  per_some_hs    per_hs  \\\n0   594.436 -86.641196  ...       0.239569   0.025722     0.087392  0.326078   \n1  1589.784 -87.723954  ...       0.195653   0.027063     0.070291  0.276068   \n2   884.876 -85.389245  ...       0.466603   0.081990     0.187696  0.356903   \n3   622.582 -87.124963  ...       0.214220   0.057224     0.110710  0.473447   \n4   644.776 -86.569756  ...       0.084699   0.074873     0.123502  0.340399   \n\n   per_associates  per_bachelors  per_graduate  per_college   per_gop   gop  \n0        0.080665       0.158828      0.118065     0.357558  0.754018  True  \n1        0.093606       0.207029      0.106430     0.407064  0.798123  True  \n2        0.070379       0.077973      0.044186     0.192538  0.528359  True  \n3        0.057541       0.075856      0.039037     0.172433  0.782270  True  \n4        0.120499       0.081182      0.045247     0.246928  0.913855  True  \n\n[5 rows x 45 columns]",
      "text/html": "<div>\n<style scoped>\n    .dataframe tbody tr th:only-of-type {\n        vertical-align: middle;\n    }\n\n    .dataframe tbody tr th {\n        vertical-align: top;\n    }\n\n    .dataframe thead th {\n        text-align: right;\n    }\n</style>\n<table border=\"1\" class=\"dataframe\">\n  <thead>\n    <tr style=\"text-align: right;\">\n      <th></th>\n      <th>state</th>\n      <th>county</th>\n      <th>total_pop</th>\n      <th>fips</th>\n      <th>white</th>\n      <th>black</th>\n      <th>asian</th>\n      <th>hispanic</th>\n      <th>area</th>\n      <th>lon</th>\n      <th>...</th>\n      <th>per_votes_dem</th>\n      <th>per_no_hs</th>\n      <th>per_some_hs</th>\n      <th>per_hs</th>\n      <th>per_associates</th>\n      <th>per_bachelors</th>\n      <th>per_graduate</th>\n      <th>per_college</th>\n      <th>per_gop</th>\n      <th>gop</th>\n    </tr>\n  </thead>\n  <tbody>\n    <tr>\n      <th>0</th>\n      <td>Alabama</td>\n      <td>Autauga</td>\n      <td>55869</td>\n      <td>01001</td>\n      <td>41215</td>\n      <td>11098</td>\n      <td>646</td>\n      <td>1671</td>\n      <td>594.436</td>\n      <td>-86.641196</td>\n      <td>...</td>\n      <td>0.239569</td>\n      <td>0.025722</td>\n      <td>0.087392</td>\n      <td>0.326078</td>\n      <td>0.080665</td>\n      <td>0.158828</td>\n      <td>0.118065</td>\n      <td>0.357558</td>\n      <td>0.754018</td>\n      <td>True</td>\n    </tr>\n    <tr>\n      <th>1</th>\n      <td>Alabama</td>\n      <td>Baldwin</td>\n      <td>223234</td>\n      <td>01003</td>\n      <td>185747</td>\n      <td>19215</td>\n      <td>2346</td>\n      <td>10534</td>\n      <td>1589.784</td>\n      <td>-87.723954</td>\n      <td>...</td>\n      <td>0.195653</td>\n      <td>0.027063</td>\n      <td>0.070291</td>\n      <td>0.276068</td>\n      <td>0.093606</td>\n      <td>0.207029</td>\n      <td>0.106430</td>\n      <td>0.407064</td>\n      <td>0.798123</td>\n      <td>True</td>\n    </tr>\n    <tr>\n      <th>2</th>\n      <td>Alabama</td>\n      <td>Barbour</td>\n      <td>24686</td>\n      <td>01005</td>\n      <td>11235</td>\n      <td>11807</td>\n      <td>116</td>\n      <td>1117</td>\n      <td>884.876</td>\n      <td>-85.389245</td>\n      <td>...</td>\n      <td>0.466603</td>\n      <td>0.081990</td>\n      <td>0.187696</td>\n      <td>0.356903</td>\n      <td>0.070379</td>\n      <td>0.077973</td>\n      <td>0.044186</td>\n      <td>0.192538</td>\n      <td>0.528359</td>\n      <td>True</td>\n    </tr>\n    <tr>\n      <th>3</th>\n      <td>Alabama</td>\n      <td>Bibb</td>\n      <td>22394</td>\n      <td>01007</td>\n      <td>16663</td>\n      <td>4719</td>\n      <td>46</td>\n      <td>623</td>\n      <td>622.582</td>\n      <td>-87.124963</td>\n      <td>...</td>\n      <td>0.214220</td>\n      <td>0.057224</td>\n      <td>0.110710</td>\n      <td>0.473447</td>\n      <td>0.057541</td>\n      <td>0.075856</td>\n      <td>0.039037</td>\n      <td>0.172433</td>\n      <td>0.782270</td>\n      <td>True</td>\n    </tr>\n    <tr>\n      <th>4</th>\n      <td>Alabama</td>\n      <td>Blount</td>\n      <td>57826</td>\n      <td>01009</td>\n      <td>50176</td>\n      <td>872</td>\n      <td>163</td>\n      <td>5582</td>\n      <td>644.776</td>\n      <td>-86.569756</td>\n      <td>...</td>\n      <td>0.084699</td>\n      <td>0.074873</td>\n      <td>0.123502</td>\n      <td>0.340399</td>\n      <td>0.120499</td>\n      <td>0.081182</td>\n      <td>0.045247</td>\n      <td>0.246928</td>\n      <td>0.913855</td>\n      <td>True</td>\n    </tr>\n  </tbody>\n</table>\n<p>5 rows × 45 columns</p>\n</div>"
     },
     "metadata": {},
     "execution_count": 62
    }
   ],
   "source": [
    "pop_df.head()"
   ]
  },
  {
   "cell_type": "code",
   "execution_count": 63,
   "metadata": {},
   "outputs": [
    {
     "output_type": "execute_result",
     "data": {
      "text/plain": "state              0\ncounty             0\ntotal_pop          0\nfips               0\nwhite              0\nblack              0\nasian              0\nhispanic           0\narea               0\nlon                0\nlat                0\nvotes_gop          4\nvotes_dem          4\ntotal_votes        4\nmedian_income      0\npop25              0\nno_hs              0\nsome_hs            0\nhs                 0\nsome_college       0\nassociates         0\nbachelors          0\ngraduate           0\nnever              0\nrarely             0\nsometimes          0\nfrequently         0\nalways             0\npop_density        0\nper_white          0\nper_black          0\nper_asian          0\nper_hispanic       0\nper_total_votes    4\nper_votes_gop      4\nper_votes_dem      4\nper_no_hs          0\nper_some_hs        0\nper_hs             0\nper_associates     0\nper_bachelors      0\nper_graduate       0\nper_college        0\nper_gop            4\ngop                0\ndtype: int64"
     },
     "metadata": {},
     "execution_count": 63
    }
   ],
   "source": [
    "pop_df.isna().sum()"
   ]
  },
  {
   "cell_type": "markdown",
   "metadata": {},
   "source": [
    "## save results to csv"
   ]
  },
  {
   "cell_type": "code",
   "execution_count": 64,
   "metadata": {},
   "outputs": [],
   "source": [
    "dem_df.to_csv('data/dem_df.csv', index=False)\n",
    "pop_df.to_csv('data/pop_df.csv', index=False)"
   ]
  },
  {
   "cell_type": "markdown",
   "metadata": {},
   "source": [
    "# Future Work: import Puerto Rico census data"
   ]
  },
  {
   "cell_type": "markdown",
   "metadata": {},
   "source": [
    "To do:\n",
    "- find detailed demographic data for Puerto Rico\n",
    "- find a way to incorporate Puerto Rico into the Altair map"
   ]
  },
  {
   "cell_type": "code",
   "execution_count": null,
   "metadata": {},
   "outputs": [],
   "source": [
    "# with urlopen('https://www2.census.gov/programs-surveys/popest/tables/2010-2019/municipios/totals/prm-est2019-annres.xlsx') as response:\n",
    "#     pr_df = pd.read_excel(response, header=3)\n",
    "pr_df = pd.read_excel('data/prm-est2019-annres.xlsx', header=3)\n",
    "pr_df = pr_df[['Unnamed: 0', 2019]]\n",
    "pr_df.rename(\n",
    "    columns={\n",
    "        'Unnamed: 0':'county',\n",
    "        2019:'total_pop'\n",
    "    }, inplace=True\n",
    ")\n",
    "pr_df = pr_df[~pr_df['total_pop'].isna()]\n",
    "pr_df['total_pop'] = pr_df['total_pop'].astype('int')\n",
    "pr_df.head()"
   ]
  },
  {
   "cell_type": "code",
   "execution_count": null,
   "metadata": {},
   "outputs": [],
   "source": [
    "pr_df['county'] = [s[0] if len(s) > 0 else s for s in pr_df['county'].str.findall(\"\\.([\\w\\s]+) Municipio\\,.+\")]\n",
    "pr_df = pr_df.iloc[1:]          # removing the territory as a whole from the table\n",
    "pr_df.head()"
   ]
  },
  {
   "cell_type": "markdown",
   "metadata": {},
   "source": [
    "We also need to add `fips` codes for all of the municipios."
   ]
  },
  {
   "cell_type": "markdown",
   "metadata": {},
   "source": [
    "### import Puerto Rico `fips`"
   ]
  },
  {
   "cell_type": "code",
   "execution_count": null,
   "metadata": {},
   "outputs": [],
   "source": [
    "sess = HTMLSession()\n",
    "res = sess.get('https://en.wikipedia.org/wiki/List_of_United_States_FIPS_codes_by_county')\n",
    "table = res.html.find('table.wikitable > tbody > tr')\n",
    "# puerto rico is fips 72\n",
    "pr_fips = [[tr.find('td')[1].text, tr.find('td')[0].text] for tr in table[1:] if tr.find('td')[0].text[:2] == '72']\n",
    "pr_fips_df = pd.DataFrame(pr_fips)\n",
    "pr_fips_df.rename(\n",
    "    columns={\n",
    "        0:'county',\n",
    "        1:'fips'\n",
    "    }, inplace=True\n",
    ")\n",
    "pr_fips_df.head()"
   ]
  },
  {
   "cell_type": "code",
   "execution_count": null,
   "metadata": {},
   "outputs": [],
   "source": [
    "pr_fips_df['county'] = [s[0] if len(s) > 0 else s for s in pr_fips_df['county'].str.findall(\"([\\w\\s]+) Municipality\")]\n",
    "pr_fips_df.head()"
   ]
  },
  {
   "cell_type": "code",
   "execution_count": null,
   "metadata": {},
   "outputs": [],
   "source": [
    "len(list(set(pr_fips_df['county']) - set(pr_df['county'])))"
   ]
  },
  {
   "cell_type": "code",
   "execution_count": null,
   "metadata": {},
   "outputs": [],
   "source": [
    "pr_df = pr_df.merge(pr_fips_df, on='county')\n",
    "pr_df['state'] = 'Puerto Rico'\n",
    "pr_df.head()"
   ]
  },
  {
   "cell_type": "code",
   "execution_count": null,
   "metadata": {},
   "outputs": [],
   "source": [
    "pop_df = optimize(pop_df.append(pr_df, ignore_index=True).append(pr_df, ignore_index=True))\n",
    "pop_df.tail()"
   ]
  },
  {
   "cell_type": "markdown",
   "metadata": {},
   "source": [
    "## check county names against NYTimes data (again)"
   ]
  },
  {
   "cell_type": "code",
   "execution_count": null,
   "metadata": {},
   "outputs": [],
   "source": [
    "county_diffs = list(set(nyt_df['county']) - set(dem_df['county']))\n",
    "len(county_diffs)"
   ]
  },
  {
   "cell_type": "code",
   "execution_count": null,
   "metadata": {},
   "outputs": [],
   "source": [
    "county_diffs"
   ]
  },
  {
   "cell_type": "markdown",
   "metadata": {},
   "source": [
    "The NYTimes dataset is missing diacritical marks in their names. While it would be easier to replace diacritical marks with their \"standard\" character counterparts, we will preserve them in our final dataframe in the interest of cultural accuracy. This will be handled when we merge `pop_df` with `nyt_df` in the other notebook."
   ]
  }
 ],
 "metadata": {
  "kernelspec": {
   "display_name": "Python 3",
   "language": "python",
   "name": "python3"
  },
  "language_info": {
   "codemirror_mode": {
    "name": "ipython",
    "version": 3
   },
   "file_extension": ".py",
   "mimetype": "text/x-python",
   "name": "python",
   "nbconvert_exporter": "python",
   "pygments_lexer": "ipython3",
   "version": "3.7.7"
  }
 },
 "nbformat": 4,
 "nbformat_minor": 4
}