{
  "nbformat": 4,
  "nbformat_minor": 0,
  "metadata": {
    "colab": {
      "name": "nyt-covid-data-county.ipynb",
      "provenance": [],
      "collapsed_sections": [],
      "include_colab_link": true
    },
    "kernelspec": {
      "display_name": "Python 3",
      "language": "python",
      "name": "python3"
    },
    "language_info": {
      "codemirror_mode": {
        "name": "ipython",
        "version": 3
      },
      "file_extension": ".py",
      "mimetype": "text/x-python",
      "name": "python",
      "nbconvert_exporter": "python",
      "pygments_lexer": "ipython3",
      "version": "3.7.7"
    }
  },
  "cells": [
    {
      "cell_type": "markdown",
      "metadata": {
        "id": "view-in-github",
        "colab_type": "text"
      },
      "source": [
        "<a href=\"https://colab.research.google.com/github/jydiw/nyt-covid-19-data/blob/master/eda_nytimes-data.ipynb\" target=\"_parent\"><img src=\"https://colab.research.google.com/assets/colab-badge.svg\" alt=\"Open In Colab\"/></a>"
      ]
    },
    {
      "cell_type": "markdown",
      "metadata": {
        "colab_type": "text",
        "id": "-m8i-QZVfK53"
      },
      "source": [
        "# NYTimes COVID-19 EDA"
      ]
    },
    {
      "cell_type": "code",
      "metadata": {
        "colab_type": "code",
        "id": "fQtYdlN2CywI",
        "colab": {}
      },
      "source": [
        "import numpy as np\n",
        "import numpy.polynomial.polynomial as poly\n",
        "import pandas as pd\n",
        "\n",
        "from urllib.request import urlopen\n",
        "import json\n",
        "\n",
        "import itertools\n",
        "\n",
        "from time import time\n",
        "from datetime import datetime, timedelta\n",
        "\n",
        "from shapely.geometry import Polygon"
      ],
      "execution_count": 143,
      "outputs": []
    },
    {
      "cell_type": "markdown",
      "metadata": {
        "colab_type": "text",
        "id": "Pjr_s8ejfK6R"
      },
      "source": [
        "# import nytimes data\n",
        "\n",
        "New York Times data has a few caveats, including treating New York City, Kansas City, and Joplin as single entities rather than including them in their respective counties. Read their [README](https://github.com/nytimes/covid-19-data/blob/master/README.md) for more information."
      ]
    },
    {
      "cell_type": "code",
      "metadata": {
        "colab_type": "code",
        "id": "k8JrBDueDDks",
        "colab": {
          "base_uri": "https://localhost:8080/",
          "height": 204
        },
        "outputId": "fca4f7e8-1372-4ec5-99a4-38390bdb535c"
      },
      "source": [
        "with urlopen('https://raw.githubusercontent.com/nytimes/covid-19-data/master/us-counties.csv') as response:\n",
        "    nyt_df = pd.read_csv(response)\n",
        "nyt_df.head()"
      ],
      "execution_count": 2,
      "outputs": [
        {
          "output_type": "execute_result",
          "data": {
            "text/html": [
              "<div>\n",
              "<style scoped>\n",
              "    .dataframe tbody tr th:only-of-type {\n",
              "        vertical-align: middle;\n",
              "    }\n",
              "\n",
              "    .dataframe tbody tr th {\n",
              "        vertical-align: top;\n",
              "    }\n",
              "\n",
              "    .dataframe thead th {\n",
              "        text-align: right;\n",
              "    }\n",
              "</style>\n",
              "<table border=\"1\" class=\"dataframe\">\n",
              "  <thead>\n",
              "    <tr style=\"text-align: right;\">\n",
              "      <th></th>\n",
              "      <th>date</th>\n",
              "      <th>county</th>\n",
              "      <th>state</th>\n",
              "      <th>fips</th>\n",
              "      <th>cases</th>\n",
              "      <th>deaths</th>\n",
              "    </tr>\n",
              "  </thead>\n",
              "  <tbody>\n",
              "    <tr>\n",
              "      <th>0</th>\n",
              "      <td>2020-01-21</td>\n",
              "      <td>Snohomish</td>\n",
              "      <td>Washington</td>\n",
              "      <td>53061.0</td>\n",
              "      <td>1</td>\n",
              "      <td>0</td>\n",
              "    </tr>\n",
              "    <tr>\n",
              "      <th>1</th>\n",
              "      <td>2020-01-22</td>\n",
              "      <td>Snohomish</td>\n",
              "      <td>Washington</td>\n",
              "      <td>53061.0</td>\n",
              "      <td>1</td>\n",
              "      <td>0</td>\n",
              "    </tr>\n",
              "    <tr>\n",
              "      <th>2</th>\n",
              "      <td>2020-01-23</td>\n",
              "      <td>Snohomish</td>\n",
              "      <td>Washington</td>\n",
              "      <td>53061.0</td>\n",
              "      <td>1</td>\n",
              "      <td>0</td>\n",
              "    </tr>\n",
              "    <tr>\n",
              "      <th>3</th>\n",
              "      <td>2020-01-24</td>\n",
              "      <td>Cook</td>\n",
              "      <td>Illinois</td>\n",
              "      <td>17031.0</td>\n",
              "      <td>1</td>\n",
              "      <td>0</td>\n",
              "    </tr>\n",
              "    <tr>\n",
              "      <th>4</th>\n",
              "      <td>2020-01-24</td>\n",
              "      <td>Snohomish</td>\n",
              "      <td>Washington</td>\n",
              "      <td>53061.0</td>\n",
              "      <td>1</td>\n",
              "      <td>0</td>\n",
              "    </tr>\n",
              "  </tbody>\n",
              "</table>\n",
              "</div>"
            ],
            "text/plain": [
              "         date     county       state     fips  cases  deaths\n",
              "0  2020-01-21  Snohomish  Washington  53061.0      1       0\n",
              "1  2020-01-22  Snohomish  Washington  53061.0      1       0\n",
              "2  2020-01-23  Snohomish  Washington  53061.0      1       0\n",
              "3  2020-01-24       Cook    Illinois  17031.0      1       0\n",
              "4  2020-01-24  Snohomish  Washington  53061.0      1       0"
            ]
          },
          "metadata": {
            "tags": []
          },
          "execution_count": 2
        }
      ]
    },
    {
      "cell_type": "code",
      "metadata": {
        "tags": [],
        "id": "l6Jg47gvi1f4",
        "colab_type": "code",
        "colab": {
          "base_uri": "https://localhost:8080/",
          "height": 238
        },
        "outputId": "3b728e58-8115-4b2c-89ef-fd0b20f2bb6b"
      },
      "source": [
        "nyt_df.info()"
      ],
      "execution_count": 3,
      "outputs": [
        {
          "output_type": "stream",
          "text": [
            "<class 'pandas.core.frame.DataFrame'>\n",
            "RangeIndex: 337568 entries, 0 to 337567\n",
            "Data columns (total 6 columns):\n",
            " #   Column  Non-Null Count   Dtype  \n",
            "---  ------  --------------   -----  \n",
            " 0   date    337568 non-null  object \n",
            " 1   county  337568 non-null  object \n",
            " 2   state   337568 non-null  object \n",
            " 3   fips    334129 non-null  float64\n",
            " 4   cases   337568 non-null  int64  \n",
            " 5   deaths  337568 non-null  int64  \n",
            "dtypes: float64(1), int64(2), object(3)\n",
            "memory usage: 15.5+ MB\n"
          ],
          "name": "stdout"
        }
      ]
    },
    {
      "cell_type": "code",
      "metadata": {
        "tags": [],
        "id": "vP05Cs5ui1f7",
        "colab_type": "code",
        "colab": {
          "base_uri": "https://localhost:8080/",
          "height": 170
        },
        "outputId": "103f6e04-a794-422d-b26e-6bbf47c85d8c"
      },
      "source": [
        "for col in nyt_df.select_dtypes(include='object').columns:\n",
        "    print(col)\n",
        "    print(len(nyt_df[col].unique()))\n",
        "    print()"
      ],
      "execution_count": 4,
      "outputs": [
        {
          "output_type": "stream",
          "text": [
            "date\n",
            "177\n",
            "\n",
            "county\n",
            "1901\n",
            "\n",
            "state\n",
            "55\n",
            "\n"
          ],
          "name": "stdout"
        }
      ]
    },
    {
      "cell_type": "markdown",
      "metadata": {
        "id": "ilpFlTcui1f_",
        "colab_type": "text"
      },
      "source": [
        "- `fips` should not be numeric. As we'll see down below, we will have to import this as an object type so that we don't convert `float` values to `str`.\n",
        "- the max for both `cases` and `deaths` is well below the maximum value of `int64`, so we can downcast.\n",
        "- by nature of the data, the `state`-`county` combinations (and therefore `fips`) are far fewer than the number of entries in our dataset. We can change `state`, `county`, and `fips` to the `category` data type.\n",
        "- we should probably change `date` into a `datetime` data type. This gives us some flexibility later.\n",
        "\n",
        "**Why `category`?** The memory of the `object` data type is proportional to its length, whereas for `category` it is proportional to the number of categories plus the length. Given that we have 300k+ rows and only 1814 unique counties, we save memory when converting that column to `category`.\n",
        "\n",
        "https://pandas.pydata.org/pandas-docs/stable/user_guide/categorical.html#memory-usage"
      ]
    },
    {
      "cell_type": "code",
      "metadata": {
        "id": "wGrBDlNOi1gA",
        "colab_type": "code",
        "colab": {
          "base_uri": "https://localhost:8080/",
          "height": 204
        },
        "outputId": "28c344dc-4cd0-4d52-8c52-4f02beabd5c2"
      },
      "source": [
        "nyt_df['fips'] = nyt_df['fips'].astype('category')   # doesn't work as intended\n",
        "nyt_df['cases'] = pd.to_numeric(nyt_df['cases'], downcast='integer')\n",
        "nyt_df['deaths'] = pd.to_numeric(nyt_df['deaths'], downcast='integer')\n",
        "nyt_df['state'] = nyt_df['state'].astype('category')\n",
        "nyt_df['county'] = nyt_df['county'].astype('category')\n",
        "nyt_df['date'] = pd.to_datetime(nyt_df['date'])\n",
        "nyt_df.head()"
      ],
      "execution_count": 5,
      "outputs": [
        {
          "output_type": "execute_result",
          "data": {
            "text/html": [
              "<div>\n",
              "<style scoped>\n",
              "    .dataframe tbody tr th:only-of-type {\n",
              "        vertical-align: middle;\n",
              "    }\n",
              "\n",
              "    .dataframe tbody tr th {\n",
              "        vertical-align: top;\n",
              "    }\n",
              "\n",
              "    .dataframe thead th {\n",
              "        text-align: right;\n",
              "    }\n",
              "</style>\n",
              "<table border=\"1\" class=\"dataframe\">\n",
              "  <thead>\n",
              "    <tr style=\"text-align: right;\">\n",
              "      <th></th>\n",
              "      <th>date</th>\n",
              "      <th>county</th>\n",
              "      <th>state</th>\n",
              "      <th>fips</th>\n",
              "      <th>cases</th>\n",
              "      <th>deaths</th>\n",
              "    </tr>\n",
              "  </thead>\n",
              "  <tbody>\n",
              "    <tr>\n",
              "      <th>0</th>\n",
              "      <td>2020-01-21</td>\n",
              "      <td>Snohomish</td>\n",
              "      <td>Washington</td>\n",
              "      <td>53061.0</td>\n",
              "      <td>1</td>\n",
              "      <td>0</td>\n",
              "    </tr>\n",
              "    <tr>\n",
              "      <th>1</th>\n",
              "      <td>2020-01-22</td>\n",
              "      <td>Snohomish</td>\n",
              "      <td>Washington</td>\n",
              "      <td>53061.0</td>\n",
              "      <td>1</td>\n",
              "      <td>0</td>\n",
              "    </tr>\n",
              "    <tr>\n",
              "      <th>2</th>\n",
              "      <td>2020-01-23</td>\n",
              "      <td>Snohomish</td>\n",
              "      <td>Washington</td>\n",
              "      <td>53061.0</td>\n",
              "      <td>1</td>\n",
              "      <td>0</td>\n",
              "    </tr>\n",
              "    <tr>\n",
              "      <th>3</th>\n",
              "      <td>2020-01-24</td>\n",
              "      <td>Cook</td>\n",
              "      <td>Illinois</td>\n",
              "      <td>17031.0</td>\n",
              "      <td>1</td>\n",
              "      <td>0</td>\n",
              "    </tr>\n",
              "    <tr>\n",
              "      <th>4</th>\n",
              "      <td>2020-01-24</td>\n",
              "      <td>Snohomish</td>\n",
              "      <td>Washington</td>\n",
              "      <td>53061.0</td>\n",
              "      <td>1</td>\n",
              "      <td>0</td>\n",
              "    </tr>\n",
              "  </tbody>\n",
              "</table>\n",
              "</div>"
            ],
            "text/plain": [
              "        date     county       state     fips  cases  deaths\n",
              "0 2020-01-21  Snohomish  Washington  53061.0      1       0\n",
              "1 2020-01-22  Snohomish  Washington  53061.0      1       0\n",
              "2 2020-01-23  Snohomish  Washington  53061.0      1       0\n",
              "3 2020-01-24       Cook    Illinois  17031.0      1       0\n",
              "4 2020-01-24  Snohomish  Washington  53061.0      1       0"
            ]
          },
          "metadata": {
            "tags": []
          },
          "execution_count": 5
        }
      ]
    },
    {
      "cell_type": "code",
      "metadata": {
        "tags": [],
        "id": "0YQBoo3Wi1gE",
        "colab_type": "code",
        "colab": {
          "base_uri": "https://localhost:8080/",
          "height": 238
        },
        "outputId": "b66fc6d2-764b-4c55-d45d-34c19e259c4a"
      },
      "source": [
        "nyt_df.info()"
      ],
      "execution_count": 6,
      "outputs": [
        {
          "output_type": "stream",
          "text": [
            "<class 'pandas.core.frame.DataFrame'>\n",
            "RangeIndex: 337568 entries, 0 to 337567\n",
            "Data columns (total 6 columns):\n",
            " #   Column  Non-Null Count   Dtype         \n",
            "---  ------  --------------   -----         \n",
            " 0   date    337568 non-null  datetime64[ns]\n",
            " 1   county  337568 non-null  category      \n",
            " 2   state   337568 non-null  category      \n",
            " 3   fips    334129 non-null  category      \n",
            " 4   cases   337568 non-null  int32         \n",
            " 5   deaths  337568 non-null  int16         \n",
            "dtypes: category(3), datetime64[ns](1), int16(1), int32(1)\n",
            "memory usage: 6.4 MB\n"
          ],
          "name": "stdout"
        }
      ]
    },
    {
      "cell_type": "markdown",
      "metadata": {
        "id": "Iq2BK44zi1gH",
        "colab_type": "text"
      },
      "source": [
        "We reduce our memory usage by over half. While we were not using an absolute large amount of memory prior to optimization, it's good practice to optimize your code.\n",
        "\n",
        "Combining into one function:"
      ]
    },
    {
      "cell_type": "code",
      "metadata": {
        "id": "L-zPjgxai1gI",
        "colab_type": "code",
        "colab": {}
      },
      "source": [
        "def optimize(df):\n",
        "    '''\n",
        "    Optimizes the data types in a pandas dataframe.\n",
        "    '''\n",
        "    dft = df.copy()\n",
        "    # converts to datetime if possible\n",
        "    dft = dft.apply(lambda col: pd.to_datetime(col, errors='ignore') if col.dtypes=='object' else col)\n",
        "    # if there are less than half as many unique values as there are rows, convert to category\n",
        "    for col in dft.select_dtypes(include='object'):\n",
        "        if len(dft[col].unique()) / len(df[col]) < 0.5:\n",
        "            dft[col] = dft[col].astype('category')\n",
        "    # downcasts numeric columns if possible\n",
        "    dft = dft.apply(lambda col: pd.to_numeric(col, downcast='integer') if col.dtypes=='int64' else col)\n",
        "    dft = dft.apply(lambda col: pd.to_numeric(col, downcast='float') if col.dtypes=='float64' else col)\n",
        "    return dft"
      ],
      "execution_count": 7,
      "outputs": []
    },
    {
      "cell_type": "code",
      "metadata": {
        "id": "nzr_oX2Ai1gL",
        "colab_type": "code",
        "colab": {
          "base_uri": "https://localhost:8080/",
          "height": 204
        },
        "outputId": "c9e0d9df-7c12-429d-f52e-9335d4ca5450"
      },
      "source": [
        "with urlopen('https://raw.githubusercontent.com/nytimes/covid-19-data/master/us-counties.csv') as response:\n",
        "    nyt_df = optimize(pd.read_csv(response, dtype={'fips':'str'}))\n",
        "nyt_df.head()"
      ],
      "execution_count": 8,
      "outputs": [
        {
          "output_type": "execute_result",
          "data": {
            "text/html": [
              "<div>\n",
              "<style scoped>\n",
              "    .dataframe tbody tr th:only-of-type {\n",
              "        vertical-align: middle;\n",
              "    }\n",
              "\n",
              "    .dataframe tbody tr th {\n",
              "        vertical-align: top;\n",
              "    }\n",
              "\n",
              "    .dataframe thead th {\n",
              "        text-align: right;\n",
              "    }\n",
              "</style>\n",
              "<table border=\"1\" class=\"dataframe\">\n",
              "  <thead>\n",
              "    <tr style=\"text-align: right;\">\n",
              "      <th></th>\n",
              "      <th>date</th>\n",
              "      <th>county</th>\n",
              "      <th>state</th>\n",
              "      <th>fips</th>\n",
              "      <th>cases</th>\n",
              "      <th>deaths</th>\n",
              "    </tr>\n",
              "  </thead>\n",
              "  <tbody>\n",
              "    <tr>\n",
              "      <th>0</th>\n",
              "      <td>2020-01-21</td>\n",
              "      <td>Snohomish</td>\n",
              "      <td>Washington</td>\n",
              "      <td>53061</td>\n",
              "      <td>1</td>\n",
              "      <td>0</td>\n",
              "    </tr>\n",
              "    <tr>\n",
              "      <th>1</th>\n",
              "      <td>2020-01-22</td>\n",
              "      <td>Snohomish</td>\n",
              "      <td>Washington</td>\n",
              "      <td>53061</td>\n",
              "      <td>1</td>\n",
              "      <td>0</td>\n",
              "    </tr>\n",
              "    <tr>\n",
              "      <th>2</th>\n",
              "      <td>2020-01-23</td>\n",
              "      <td>Snohomish</td>\n",
              "      <td>Washington</td>\n",
              "      <td>53061</td>\n",
              "      <td>1</td>\n",
              "      <td>0</td>\n",
              "    </tr>\n",
              "    <tr>\n",
              "      <th>3</th>\n",
              "      <td>2020-01-24</td>\n",
              "      <td>Cook</td>\n",
              "      <td>Illinois</td>\n",
              "      <td>17031</td>\n",
              "      <td>1</td>\n",
              "      <td>0</td>\n",
              "    </tr>\n",
              "    <tr>\n",
              "      <th>4</th>\n",
              "      <td>2020-01-24</td>\n",
              "      <td>Snohomish</td>\n",
              "      <td>Washington</td>\n",
              "      <td>53061</td>\n",
              "      <td>1</td>\n",
              "      <td>0</td>\n",
              "    </tr>\n",
              "  </tbody>\n",
              "</table>\n",
              "</div>"
            ],
            "text/plain": [
              "        date     county       state   fips  cases  deaths\n",
              "0 2020-01-21  Snohomish  Washington  53061      1       0\n",
              "1 2020-01-22  Snohomish  Washington  53061      1       0\n",
              "2 2020-01-23  Snohomish  Washington  53061      1       0\n",
              "3 2020-01-24       Cook    Illinois  17031      1       0\n",
              "4 2020-01-24  Snohomish  Washington  53061      1       0"
            ]
          },
          "metadata": {
            "tags": []
          },
          "execution_count": 8
        }
      ]
    },
    {
      "cell_type": "code",
      "metadata": {
        "tags": [],
        "id": "6JoLpYt-i1gO",
        "colab_type": "code",
        "colab": {
          "base_uri": "https://localhost:8080/",
          "height": 238
        },
        "outputId": "0346ad1b-e575-45ee-f188-bc6ecea51051"
      },
      "source": [
        "nyt_df.info()"
      ],
      "execution_count": 9,
      "outputs": [
        {
          "output_type": "stream",
          "text": [
            "<class 'pandas.core.frame.DataFrame'>\n",
            "RangeIndex: 337568 entries, 0 to 337567\n",
            "Data columns (total 6 columns):\n",
            " #   Column  Non-Null Count   Dtype         \n",
            "---  ------  --------------   -----         \n",
            " 0   date    337568 non-null  datetime64[ns]\n",
            " 1   county  337568 non-null  category      \n",
            " 2   state   337568 non-null  category      \n",
            " 3   fips    334129 non-null  category      \n",
            " 4   cases   337568 non-null  int32         \n",
            " 5   deaths  337568 non-null  int16         \n",
            "dtypes: category(3), datetime64[ns](1), int16(1), int32(1)\n",
            "memory usage: 6.4 MB\n"
          ],
          "name": "stdout"
        }
      ]
    },
    {
      "cell_type": "markdown",
      "metadata": {
        "colab_type": "text",
        "id": "J39gYq9cfK6H"
      },
      "source": [
        "# import census and GeoJSON data\n",
        "\n",
        "We want to calculate ratios comparing the number of cases (or deaths) to the population and/or area of the county. Since the population density varies wildly per county, relying on just the absolute number of reported cases could be misleading."
      ]
    },
    {
      "cell_type": "code",
      "metadata": {
        "id": "QEFxBFB5i1gS",
        "colab_type": "code",
        "colab": {
          "base_uri": "https://localhost:8080/",
          "height": 204
        },
        "outputId": "39516789-23c0-40db-9882-acabe5aa58de"
      },
      "source": [
        "# pop_df = pd.read_csv('data/pop_df.csv')\n",
        "with urlopen('https://raw.githubusercontent.com/jydiw/nyt-covid-19-data/master/data/pop_df.csv') as response:\n",
        "    pop_df = optimize(pd.read_csv(response, dtype={'fips':'str'}))\n",
        "pop_df.head()"
      ],
      "execution_count": 10,
      "outputs": [
        {
          "output_type": "execute_result",
          "data": {
            "text/html": [
              "<div>\n",
              "<style scoped>\n",
              "    .dataframe tbody tr th:only-of-type {\n",
              "        vertical-align: middle;\n",
              "    }\n",
              "\n",
              "    .dataframe tbody tr th {\n",
              "        vertical-align: top;\n",
              "    }\n",
              "\n",
              "    .dataframe thead th {\n",
              "        text-align: right;\n",
              "    }\n",
              "</style>\n",
              "<table border=\"1\" class=\"dataframe\">\n",
              "  <thead>\n",
              "    <tr style=\"text-align: right;\">\n",
              "      <th></th>\n",
              "      <th>state</th>\n",
              "      <th>county</th>\n",
              "      <th>population</th>\n",
              "      <th>fips</th>\n",
              "      <th>area</th>\n",
              "      <th>lon</th>\n",
              "      <th>lat</th>\n",
              "      <th>pop_per_area</th>\n",
              "    </tr>\n",
              "  </thead>\n",
              "  <tbody>\n",
              "    <tr>\n",
              "      <th>0</th>\n",
              "      <td>Alabama</td>\n",
              "      <td>Autauga</td>\n",
              "      <td>55869</td>\n",
              "      <td>01001</td>\n",
              "      <td>594.435974</td>\n",
              "      <td>-86.641197</td>\n",
              "      <td>32.536152</td>\n",
              "      <td>93.986572</td>\n",
              "    </tr>\n",
              "    <tr>\n",
              "      <th>1</th>\n",
              "      <td>Alabama</td>\n",
              "      <td>Baldwin</td>\n",
              "      <td>223234</td>\n",
              "      <td>01003</td>\n",
              "      <td>1589.784058</td>\n",
              "      <td>-87.723953</td>\n",
              "      <td>30.725863</td>\n",
              "      <td>140.417816</td>\n",
              "    </tr>\n",
              "    <tr>\n",
              "      <th>2</th>\n",
              "      <td>Alabama</td>\n",
              "      <td>Barbour</td>\n",
              "      <td>24686</td>\n",
              "      <td>01005</td>\n",
              "      <td>884.875977</td>\n",
              "      <td>-85.389244</td>\n",
              "      <td>31.867889</td>\n",
              "      <td>27.897696</td>\n",
              "    </tr>\n",
              "    <tr>\n",
              "      <th>3</th>\n",
              "      <td>Alabama</td>\n",
              "      <td>Bibb</td>\n",
              "      <td>22394</td>\n",
              "      <td>01007</td>\n",
              "      <td>622.581970</td>\n",
              "      <td>-87.124962</td>\n",
              "      <td>32.996456</td>\n",
              "      <td>35.969563</td>\n",
              "    </tr>\n",
              "    <tr>\n",
              "      <th>4</th>\n",
              "      <td>Alabama</td>\n",
              "      <td>Blount</td>\n",
              "      <td>57826</td>\n",
              "      <td>01009</td>\n",
              "      <td>644.776001</td>\n",
              "      <td>-86.569756</td>\n",
              "      <td>33.985249</td>\n",
              "      <td>89.683861</td>\n",
              "    </tr>\n",
              "  </tbody>\n",
              "</table>\n",
              "</div>"
            ],
            "text/plain": [
              "     state   county  population  ...        lon        lat  pop_per_area\n",
              "0  Alabama  Autauga       55869  ... -86.641197  32.536152     93.986572\n",
              "1  Alabama  Baldwin      223234  ... -87.723953  30.725863    140.417816\n",
              "2  Alabama  Barbour       24686  ... -85.389244  31.867889     27.897696\n",
              "3  Alabama     Bibb       22394  ... -87.124962  32.996456     35.969563\n",
              "4  Alabama   Blount       57826  ... -86.569756  33.985249     89.683861\n",
              "\n",
              "[5 rows x 8 columns]"
            ]
          },
          "metadata": {
            "tags": []
          },
          "execution_count": 10
        }
      ]
    },
    {
      "cell_type": "code",
      "metadata": {
        "id": "_iC3AMpiunQC",
        "colab_type": "code",
        "colab": {
          "base_uri": "https://localhost:8080/",
          "height": 111
        },
        "outputId": "3f49a546-c981-443e-9939-f4362ff63a9a"
      },
      "source": [
        "pop_df.sort_values(by='population').iloc[[0, -1]]"
      ],
      "execution_count": 125,
      "outputs": [
        {
          "output_type": "execute_result",
          "data": {
            "text/html": [
              "<div>\n",
              "<style scoped>\n",
              "    .dataframe tbody tr th:only-of-type {\n",
              "        vertical-align: middle;\n",
              "    }\n",
              "\n",
              "    .dataframe tbody tr th {\n",
              "        vertical-align: top;\n",
              "    }\n",
              "\n",
              "    .dataframe thead th {\n",
              "        text-align: right;\n",
              "    }\n",
              "</style>\n",
              "<table border=\"1\" class=\"dataframe\">\n",
              "  <thead>\n",
              "    <tr style=\"text-align: right;\">\n",
              "      <th></th>\n",
              "      <th>state</th>\n",
              "      <th>county</th>\n",
              "      <th>population</th>\n",
              "      <th>fips</th>\n",
              "      <th>area</th>\n",
              "      <th>lon</th>\n",
              "      <th>lat</th>\n",
              "      <th>pop_per_area</th>\n",
              "    </tr>\n",
              "  </thead>\n",
              "  <tbody>\n",
              "    <tr>\n",
              "      <th>548</th>\n",
              "      <td>Hawaii</td>\n",
              "      <td>Kalawao</td>\n",
              "      <td>86</td>\n",
              "      <td>15005</td>\n",
              "      <td>11.991000</td>\n",
              "      <td>-156.951126</td>\n",
              "      <td>21.175037</td>\n",
              "      <td>7.172046</td>\n",
              "    </tr>\n",
              "    <tr>\n",
              "      <th>204</th>\n",
              "      <td>California</td>\n",
              "      <td>Los Angeles</td>\n",
              "      <td>10039107</td>\n",
              "      <td>06037</td>\n",
              "      <td>4057.884033</td>\n",
              "      <td>-118.216835</td>\n",
              "      <td>34.357796</td>\n",
              "      <td>2473.975830</td>\n",
              "    </tr>\n",
              "  </tbody>\n",
              "</table>\n",
              "</div>"
            ],
            "text/plain": [
              "          state       county  population  ...         lon        lat  pop_per_area\n",
              "548      Hawaii      Kalawao          86  ... -156.951126  21.175037      7.172046\n",
              "204  California  Los Angeles    10039107  ... -118.216835  34.357796   2473.975830\n",
              "\n",
              "[2 rows x 8 columns]"
            ]
          },
          "metadata": {
            "tags": []
          },
          "execution_count": 125
        }
      ]
    },
    {
      "cell_type": "code",
      "metadata": {
        "id": "qCM00GHPn9qB",
        "colab_type": "code",
        "colab": {
          "base_uri": "https://localhost:8080/",
          "height": 111
        },
        "outputId": "f8106d19-f1f3-4c62-ca66-21f58595cecd"
      },
      "source": [
        "pop_df.sort_values(by='pop_per_area').iloc[[0, -1]]"
      ],
      "execution_count": 11,
      "outputs": [
        {
          "output_type": "execute_result",
          "data": {
            "text/html": [
              "<div>\n",
              "<style scoped>\n",
              "    .dataframe tbody tr th:only-of-type {\n",
              "        vertical-align: middle;\n",
              "    }\n",
              "\n",
              "    .dataframe tbody tr th {\n",
              "        vertical-align: top;\n",
              "    }\n",
              "\n",
              "    .dataframe thead th {\n",
              "        text-align: right;\n",
              "    }\n",
              "</style>\n",
              "<table border=\"1\" class=\"dataframe\">\n",
              "  <thead>\n",
              "    <tr style=\"text-align: right;\">\n",
              "      <th></th>\n",
              "      <th>state</th>\n",
              "      <th>county</th>\n",
              "      <th>population</th>\n",
              "      <th>fips</th>\n",
              "      <th>area</th>\n",
              "      <th>lon</th>\n",
              "      <th>lat</th>\n",
              "      <th>pop_per_area</th>\n",
              "    </tr>\n",
              "  </thead>\n",
              "  <tbody>\n",
              "    <tr>\n",
              "      <th>95</th>\n",
              "      <td>Alaska</td>\n",
              "      <td>Yukon-Koyukuk Census Area</td>\n",
              "      <td>5230</td>\n",
              "      <td>02290</td>\n",
              "      <td>145504.78125</td>\n",
              "      <td>-151.390030</td>\n",
              "      <td>65.508743</td>\n",
              "      <td>0.035944</td>\n",
              "    </tr>\n",
              "    <tr>\n",
              "      <th>1858</th>\n",
              "      <td>New York</td>\n",
              "      <td>New York</td>\n",
              "      <td>1628706</td>\n",
              "      <td>36061</td>\n",
              "      <td>22.82900</td>\n",
              "      <td>-73.962898</td>\n",
              "      <td>40.783318</td>\n",
              "      <td>71343.726562</td>\n",
              "    </tr>\n",
              "  </tbody>\n",
              "</table>\n",
              "</div>"
            ],
            "text/plain": [
              "         state                     county  ...        lat  pop_per_area\n",
              "95      Alaska  Yukon-Koyukuk Census Area  ...  65.508743      0.035944\n",
              "1858  New York                   New York  ...  40.783318  71343.726562\n",
              "\n",
              "[2 rows x 8 columns]"
            ]
          },
          "metadata": {
            "tags": []
          },
          "execution_count": 11
        }
      ]
    },
    {
      "cell_type": "markdown",
      "metadata": {
        "id": "EiZSQomNobHw",
        "colab_type": "text"
      },
      "source": [
        "There are several things to consider:\n",
        "\n",
        "- New York City will clearly report more cases than Yukon-Koyukuk, as it's orders of magnitude more populous. Reporting cases as a percentage (or as we'll use later, a per 100k) would better reflect the severity of infections.\n",
        "- However, a higher population density would likely make it easier to transmit the disease to another person. Looking at the day-to-day change in new cases could allow us to see how quickly the disease is spreading."
      ]
    },
    {
      "cell_type": "code",
      "metadata": {
        "id": "ycBJMoBXi1gV",
        "colab_type": "code",
        "colab": {
          "base_uri": "https://localhost:8080/",
          "height": 306
        },
        "outputId": "aacd9880-a0d4-421b-bd62-cdf22ae2d202"
      },
      "source": [
        "nyt_df = nyt_df[nyt_df['county'] != 'Unknown']\n",
        "list(set(nyt_df['county']) - set(pop_df['county']))"
      ],
      "execution_count": 12,
      "outputs": [
        {
          "output_type": "execute_result",
          "data": {
            "text/plain": [
              "['Las Marias',\n",
              " 'Rincon',\n",
              " 'Anasco',\n",
              " 'Loiza',\n",
              " 'Mayaguez',\n",
              " 'Comerio',\n",
              " 'Catano',\n",
              " 'Penuelas',\n",
              " 'Tinian',\n",
              " 'Canovanas',\n",
              " 'San German',\n",
              " 'Saipan',\n",
              " 'Juana Diaz',\n",
              " 'San Sebastian',\n",
              " 'Bayamon',\n",
              " 'Manati',\n",
              " 'Guanica']"
            ]
          },
          "metadata": {
            "tags": []
          },
          "execution_count": 12
        }
      ]
    },
    {
      "cell_type": "markdown",
      "metadata": {
        "id": "kWMfxu0Zi1gX",
        "colab_type": "text"
      },
      "source": [
        "The NYTimes dataset does not include diacritical marks for the names of Puerto Rico's municipios. In the interest of cultural accuracy, we will preserve them when merging with `pop_df`. \n",
        "\n",
        "The NYTimes dataset deals with New York City, Kansas City, and Joplin as their own entities. As such, they do not have valid `fips` codes; we must add our custom `fips` from our earlier census EDA."
      ]
    },
    {
      "cell_type": "code",
      "metadata": {
        "id": "bK_hYzrui1gY",
        "colab_type": "code",
        "colab": {}
      },
      "source": [
        "nyt_df['fips'] = nyt_df['fips'].astype('object')\n",
        "nyt_df.loc[nyt_df['county'] == 'New York City','fips'] = 'nyc'\n",
        "nyt_df.loc[nyt_df['county'] == 'Kansas City','fips'] = 'kc'\n",
        "nyt_df.loc[nyt_df['county'] == 'Joplin','fips'] = 'jm'\n",
        "nyt_df['fips'] = nyt_df['fips'].astype('category')"
      ],
      "execution_count": 13,
      "outputs": []
    },
    {
      "cell_type": "markdown",
      "metadata": {
        "colab_type": "text",
        "id": "Ku-XanaCfK7R"
      },
      "source": [
        "# merge `nyt_df` and `pop_df` for feature engineering"
      ]
    },
    {
      "cell_type": "code",
      "metadata": {
        "tags": [],
        "id": "z-Yk5rcDi1gb",
        "colab_type": "code",
        "colab": {
          "base_uri": "https://localhost:8080/",
          "height": 343
        },
        "outputId": "3051a17c-c880-4ba3-92a7-5a5d17f5a6ac"
      },
      "source": [
        "tick = time()\n",
        "\n",
        "df = nyt_df.merge(pop_df, on='fips', suffixes=('_x','')).drop(['county_x', 'state_x'], axis=1)\n",
        "\n",
        "# person density\n",
        "df[['cases_per_100k', 'deaths_per_100k']] = df[['cases', 'deaths']].div(df['population'], axis=0) * 100_000\n",
        "# df[['cases_per_100k', 'deaths_per_100k']] = df[['cases_per_100k', 'deaths_per_100k']].round(4)\n",
        "\n",
        "df = df.sort_values(by=['date', 'fips'])\n",
        "\n",
        "tock = time()\n",
        "print(tock - tick)\n",
        "print(df.shape)\n",
        "df.head()"
      ],
      "execution_count": 127,
      "outputs": [
        {
          "output_type": "stream",
          "text": [
            "0.2534177303314209\n",
            "(334401, 13)\n"
          ],
          "name": "stdout"
        },
        {
          "output_type": "execute_result",
          "data": {
            "text/html": [
              "<div>\n",
              "<style scoped>\n",
              "    .dataframe tbody tr th:only-of-type {\n",
              "        vertical-align: middle;\n",
              "    }\n",
              "\n",
              "    .dataframe tbody tr th {\n",
              "        vertical-align: top;\n",
              "    }\n",
              "\n",
              "    .dataframe thead th {\n",
              "        text-align: right;\n",
              "    }\n",
              "</style>\n",
              "<table border=\"1\" class=\"dataframe\">\n",
              "  <thead>\n",
              "    <tr style=\"text-align: right;\">\n",
              "      <th></th>\n",
              "      <th>date</th>\n",
              "      <th>fips</th>\n",
              "      <th>cases</th>\n",
              "      <th>deaths</th>\n",
              "      <th>state</th>\n",
              "      <th>county</th>\n",
              "      <th>population</th>\n",
              "      <th>area</th>\n",
              "      <th>lon</th>\n",
              "      <th>lat</th>\n",
              "      <th>pop_per_area</th>\n",
              "      <th>cases_per_100k</th>\n",
              "      <th>deaths_per_100k</th>\n",
              "    </tr>\n",
              "  </thead>\n",
              "  <tbody>\n",
              "    <tr>\n",
              "      <th>0</th>\n",
              "      <td>2020-01-21</td>\n",
              "      <td>53061</td>\n",
              "      <td>1</td>\n",
              "      <td>0</td>\n",
              "      <td>Washington</td>\n",
              "      <td>Snohomish</td>\n",
              "      <td>822083</td>\n",
              "      <td>2087.272949</td>\n",
              "      <td>-121.692780</td>\n",
              "      <td>48.046917</td>\n",
              "      <td>393.855042</td>\n",
              "      <td>0.121642</td>\n",
              "      <td>0.0</td>\n",
              "    </tr>\n",
              "    <tr>\n",
              "      <th>1</th>\n",
              "      <td>2020-01-22</td>\n",
              "      <td>53061</td>\n",
              "      <td>1</td>\n",
              "      <td>0</td>\n",
              "      <td>Washington</td>\n",
              "      <td>Snohomish</td>\n",
              "      <td>822083</td>\n",
              "      <td>2087.272949</td>\n",
              "      <td>-121.692780</td>\n",
              "      <td>48.046917</td>\n",
              "      <td>393.855042</td>\n",
              "      <td>0.121642</td>\n",
              "      <td>0.0</td>\n",
              "    </tr>\n",
              "    <tr>\n",
              "      <th>2</th>\n",
              "      <td>2020-01-23</td>\n",
              "      <td>53061</td>\n",
              "      <td>1</td>\n",
              "      <td>0</td>\n",
              "      <td>Washington</td>\n",
              "      <td>Snohomish</td>\n",
              "      <td>822083</td>\n",
              "      <td>2087.272949</td>\n",
              "      <td>-121.692780</td>\n",
              "      <td>48.046917</td>\n",
              "      <td>393.855042</td>\n",
              "      <td>0.121642</td>\n",
              "      <td>0.0</td>\n",
              "    </tr>\n",
              "    <tr>\n",
              "      <th>177</th>\n",
              "      <td>2020-01-24</td>\n",
              "      <td>17031</td>\n",
              "      <td>1</td>\n",
              "      <td>0</td>\n",
              "      <td>Illinois</td>\n",
              "      <td>Cook</td>\n",
              "      <td>5150233</td>\n",
              "      <td>945.325989</td>\n",
              "      <td>-87.817429</td>\n",
              "      <td>41.839622</td>\n",
              "      <td>5448.102539</td>\n",
              "      <td>0.019417</td>\n",
              "      <td>0.0</td>\n",
              "    </tr>\n",
              "    <tr>\n",
              "      <th>3</th>\n",
              "      <td>2020-01-24</td>\n",
              "      <td>53061</td>\n",
              "      <td>1</td>\n",
              "      <td>0</td>\n",
              "      <td>Washington</td>\n",
              "      <td>Snohomish</td>\n",
              "      <td>822083</td>\n",
              "      <td>2087.272949</td>\n",
              "      <td>-121.692780</td>\n",
              "      <td>48.046917</td>\n",
              "      <td>393.855042</td>\n",
              "      <td>0.121642</td>\n",
              "      <td>0.0</td>\n",
              "    </tr>\n",
              "  </tbody>\n",
              "</table>\n",
              "</div>"
            ],
            "text/plain": [
              "          date   fips  cases  ...  pop_per_area cases_per_100k deaths_per_100k\n",
              "0   2020-01-21  53061      1  ...    393.855042       0.121642             0.0\n",
              "1   2020-01-22  53061      1  ...    393.855042       0.121642             0.0\n",
              "2   2020-01-23  53061      1  ...    393.855042       0.121642             0.0\n",
              "177 2020-01-24  17031      1  ...   5448.102539       0.019417             0.0\n",
              "3   2020-01-24  53061      1  ...    393.855042       0.121642             0.0\n",
              "\n",
              "[5 rows x 13 columns]"
            ]
          },
          "metadata": {
            "tags": []
          },
          "execution_count": 127
        }
      ]
    },
    {
      "cell_type": "code",
      "metadata": {
        "id": "VAAICt6si1gd",
        "colab_type": "code",
        "colab": {
          "base_uri": "https://localhost:8080/",
          "height": 307
        },
        "outputId": "246398aa-5fda-4c95-b64a-8b6cadeb0a3b"
      },
      "source": [
        "df.to_csv('data/df-no-trends.csv', index=False)"
      ],
      "execution_count": 16,
      "outputs": [
        {
          "output_type": "error",
          "ename": "FileNotFoundError",
          "evalue": "ignored",
          "traceback": [
            "\u001b[0;31m---------------------------------------------------------------------------\u001b[0m",
            "\u001b[0;31mFileNotFoundError\u001b[0m                         Traceback (most recent call last)",
            "\u001b[0;32m<ipython-input-16-5dcc51a74215>\u001b[0m in \u001b[0;36m<module>\u001b[0;34m()\u001b[0m\n\u001b[0;32m----> 1\u001b[0;31m \u001b[0mdf\u001b[0m\u001b[0;34m.\u001b[0m\u001b[0mto_csv\u001b[0m\u001b[0;34m(\u001b[0m\u001b[0;34m'data/df-no-trends.csv'\u001b[0m\u001b[0;34m,\u001b[0m \u001b[0mindex\u001b[0m\u001b[0;34m=\u001b[0m\u001b[0;32mFalse\u001b[0m\u001b[0;34m)\u001b[0m\u001b[0;34m\u001b[0m\u001b[0;34m\u001b[0m\u001b[0m\n\u001b[0m",
            "\u001b[0;32m/usr/local/lib/python3.6/dist-packages/pandas/core/generic.py\u001b[0m in \u001b[0;36mto_csv\u001b[0;34m(self, path_or_buf, sep, na_rep, float_format, columns, header, index, index_label, mode, encoding, compression, quoting, quotechar, line_terminator, chunksize, date_format, doublequote, escapechar, decimal)\u001b[0m\n\u001b[1;32m   3202\u001b[0m             \u001b[0mdecimal\u001b[0m\u001b[0;34m=\u001b[0m\u001b[0mdecimal\u001b[0m\u001b[0;34m,\u001b[0m\u001b[0;34m\u001b[0m\u001b[0;34m\u001b[0m\u001b[0m\n\u001b[1;32m   3203\u001b[0m         )\n\u001b[0;32m-> 3204\u001b[0;31m         \u001b[0mformatter\u001b[0m\u001b[0;34m.\u001b[0m\u001b[0msave\u001b[0m\u001b[0;34m(\u001b[0m\u001b[0;34m)\u001b[0m\u001b[0;34m\u001b[0m\u001b[0;34m\u001b[0m\u001b[0m\n\u001b[0m\u001b[1;32m   3205\u001b[0m \u001b[0;34m\u001b[0m\u001b[0m\n\u001b[1;32m   3206\u001b[0m         \u001b[0;32mif\u001b[0m \u001b[0mpath_or_buf\u001b[0m \u001b[0;32mis\u001b[0m \u001b[0;32mNone\u001b[0m\u001b[0;34m:\u001b[0m\u001b[0;34m\u001b[0m\u001b[0;34m\u001b[0m\u001b[0m\n",
            "\u001b[0;32m/usr/local/lib/python3.6/dist-packages/pandas/io/formats/csvs.py\u001b[0m in \u001b[0;36msave\u001b[0;34m(self)\u001b[0m\n\u001b[1;32m    186\u001b[0m                 \u001b[0mself\u001b[0m\u001b[0;34m.\u001b[0m\u001b[0mmode\u001b[0m\u001b[0;34m,\u001b[0m\u001b[0;34m\u001b[0m\u001b[0;34m\u001b[0m\u001b[0m\n\u001b[1;32m    187\u001b[0m                 \u001b[0mencoding\u001b[0m\u001b[0;34m=\u001b[0m\u001b[0mself\u001b[0m\u001b[0;34m.\u001b[0m\u001b[0mencoding\u001b[0m\u001b[0;34m,\u001b[0m\u001b[0;34m\u001b[0m\u001b[0;34m\u001b[0m\u001b[0m\n\u001b[0;32m--> 188\u001b[0;31m                 \u001b[0mcompression\u001b[0m\u001b[0;34m=\u001b[0m\u001b[0mdict\u001b[0m\u001b[0;34m(\u001b[0m\u001b[0mself\u001b[0m\u001b[0;34m.\u001b[0m\u001b[0mcompression_args\u001b[0m\u001b[0;34m,\u001b[0m \u001b[0mmethod\u001b[0m\u001b[0;34m=\u001b[0m\u001b[0mself\u001b[0m\u001b[0;34m.\u001b[0m\u001b[0mcompression\u001b[0m\u001b[0;34m)\u001b[0m\u001b[0;34m,\u001b[0m\u001b[0;34m\u001b[0m\u001b[0;34m\u001b[0m\u001b[0m\n\u001b[0m\u001b[1;32m    189\u001b[0m             )\n\u001b[1;32m    190\u001b[0m             \u001b[0mclose\u001b[0m \u001b[0;34m=\u001b[0m \u001b[0;32mTrue\u001b[0m\u001b[0;34m\u001b[0m\u001b[0;34m\u001b[0m\u001b[0m\n",
            "\u001b[0;32m/usr/local/lib/python3.6/dist-packages/pandas/io/common.py\u001b[0m in \u001b[0;36mget_handle\u001b[0;34m(path_or_buf, mode, encoding, compression, memory_map, is_text)\u001b[0m\n\u001b[1;32m    426\u001b[0m         \u001b[0;32mif\u001b[0m \u001b[0mencoding\u001b[0m\u001b[0;34m:\u001b[0m\u001b[0;34m\u001b[0m\u001b[0;34m\u001b[0m\u001b[0m\n\u001b[1;32m    427\u001b[0m             \u001b[0;31m# Encoding\u001b[0m\u001b[0;34m\u001b[0m\u001b[0;34m\u001b[0m\u001b[0;34m\u001b[0m\u001b[0m\n\u001b[0;32m--> 428\u001b[0;31m             \u001b[0mf\u001b[0m \u001b[0;34m=\u001b[0m \u001b[0mopen\u001b[0m\u001b[0;34m(\u001b[0m\u001b[0mpath_or_buf\u001b[0m\u001b[0;34m,\u001b[0m \u001b[0mmode\u001b[0m\u001b[0;34m,\u001b[0m \u001b[0mencoding\u001b[0m\u001b[0;34m=\u001b[0m\u001b[0mencoding\u001b[0m\u001b[0;34m,\u001b[0m \u001b[0mnewline\u001b[0m\u001b[0;34m=\u001b[0m\u001b[0;34m\"\"\u001b[0m\u001b[0;34m)\u001b[0m\u001b[0;34m\u001b[0m\u001b[0;34m\u001b[0m\u001b[0m\n\u001b[0m\u001b[1;32m    429\u001b[0m         \u001b[0;32melif\u001b[0m \u001b[0mis_text\u001b[0m\u001b[0;34m:\u001b[0m\u001b[0;34m\u001b[0m\u001b[0;34m\u001b[0m\u001b[0m\n\u001b[1;32m    430\u001b[0m             \u001b[0;31m# No explicit encoding\u001b[0m\u001b[0;34m\u001b[0m\u001b[0;34m\u001b[0m\u001b[0;34m\u001b[0m\u001b[0m\n",
            "\u001b[0;31mFileNotFoundError\u001b[0m: [Errno 2] No such file or directory: 'data/df-no-trends.csv'"
          ]
        }
      ]
    },
    {
      "cell_type": "code",
      "metadata": {
        "id": "GfvSR8Zci1gg",
        "colab_type": "code",
        "colab": {}
      },
      "source": [
        "cols = ['cases', 'deaths', 'cases_per_100k', 'deaths_per_100k']\n",
        "new_cols = ['new_' + c for c in cols]\n",
        "delta_cols = ['delta_' + c for c in new_cols]\n",
        "\n",
        "cols_7d = [c + '_7d' for c in cols]\n",
        "new_cols_7d = ['new_' + c for c in cols_7d]\n",
        "delta_cols_7d = ['delta_' + c for c in new_cols_7d]"
      ],
      "execution_count": 17,
      "outputs": []
    },
    {
      "cell_type": "code",
      "metadata": {
        "id": "L6fzF3YYi1gj",
        "colab_type": "code",
        "colab": {}
      },
      "source": [
        "def add_change_cols(df, cols, pre='new_', clip=True):\n",
        "    df = df.sort_values(by=['date', 'fips'])\n",
        "    new_cols = [pre + c for c in cols]\n",
        "    df[new_cols] = df[cols] - df.groupby(by='fips')[cols].shift()\n",
        "    df[new_cols] = df[new_cols].fillna(0)\n",
        "    if clip:\n",
        "        df[new_cols] = df[new_cols].clip(lower=0)\n",
        "    return (df, new_cols)\n",
        "\n",
        "def add_avg_cols(df, cols, window=7):\n",
        "    df = df.sort_values(by=['date', 'fips'])\n",
        "    cols_d = [c + '_' + str(window) + 'd' for c in cols]\n",
        "    df[cols_d] = df.groupby(by='fips')[cols].apply(lambda x: x.rolling(window, min_periods=1).mean())\n",
        "    return (df, cols_d)"
      ],
      "execution_count": 18,
      "outputs": []
    },
    {
      "cell_type": "code",
      "metadata": {
        "id": "9u02KCMvi1gm",
        "colab_type": "code",
        "colab": {
          "base_uri": "https://localhost:8080/",
          "height": 513
        },
        "outputId": "da9a7603-517e-4ecf-a635-aacdd8ab5d71"
      },
      "source": [
        "ding = time()\n",
        "df, cols_7d = add_avg_cols(df, cols, window=7)\n",
        "df, new_cols = add_change_cols(df, cols, pre='new_', clip=True)\n",
        "df, new_cols_7d = add_change_cols(df, cols_7d, pre='new_', clip=True)\n",
        "df, _ = add_change_cols(df, new_cols, pre='delta_', clip=False)\n",
        "df, _ = add_change_cols(df, new_cols_7d, pre='delta_', clip=False)\n",
        "dong = time()\n",
        "print(dong - ding)\n",
        "print(df.columns)\n",
        "df.head()"
      ],
      "execution_count": 167,
      "outputs": [
        {
          "output_type": "stream",
          "text": [
            "8.636837005615234\n",
            "Index(['date', 'fips', 'cases', 'deaths', 'state', 'county', 'population',\n",
            "       'area', 'lon', 'lat', 'pop_per_area', 'cases_per_100k',\n",
            "       'deaths_per_100k', 'cases_7d', 'deaths_7d', 'cases_per_100k_7d',\n",
            "       'deaths_per_100k_7d', 'new_cases', 'new_deaths', 'new_cases_per_100k',\n",
            "       'new_deaths_per_100k', 'new_cases_7d', 'new_deaths_7d',\n",
            "       'new_cases_per_100k_7d', 'new_deaths_per_100k_7d', 'delta_new_cases',\n",
            "       'delta_new_deaths', 'delta_new_cases_per_100k',\n",
            "       'delta_new_deaths_per_100k', 'delta_new_cases_7d',\n",
            "       'delta_new_deaths_7d', 'delta_new_cases_per_100k_7d',\n",
            "       'delta_new_deaths_per_100k_7d'],\n",
            "      dtype='object')\n"
          ],
          "name": "stdout"
        },
        {
          "output_type": "execute_result",
          "data": {
            "text/html": [
              "<div>\n",
              "<style scoped>\n",
              "    .dataframe tbody tr th:only-of-type {\n",
              "        vertical-align: middle;\n",
              "    }\n",
              "\n",
              "    .dataframe tbody tr th {\n",
              "        vertical-align: top;\n",
              "    }\n",
              "\n",
              "    .dataframe thead th {\n",
              "        text-align: right;\n",
              "    }\n",
              "</style>\n",
              "<table border=\"1\" class=\"dataframe\">\n",
              "  <thead>\n",
              "    <tr style=\"text-align: right;\">\n",
              "      <th></th>\n",
              "      <th>date</th>\n",
              "      <th>fips</th>\n",
              "      <th>cases</th>\n",
              "      <th>deaths</th>\n",
              "      <th>state</th>\n",
              "      <th>county</th>\n",
              "      <th>population</th>\n",
              "      <th>area</th>\n",
              "      <th>lon</th>\n",
              "      <th>lat</th>\n",
              "      <th>pop_per_area</th>\n",
              "      <th>cases_per_100k</th>\n",
              "      <th>deaths_per_100k</th>\n",
              "      <th>cases_7d</th>\n",
              "      <th>deaths_7d</th>\n",
              "      <th>cases_per_100k_7d</th>\n",
              "      <th>deaths_per_100k_7d</th>\n",
              "      <th>new_cases</th>\n",
              "      <th>new_deaths</th>\n",
              "      <th>new_cases_per_100k</th>\n",
              "      <th>new_deaths_per_100k</th>\n",
              "      <th>new_cases_7d</th>\n",
              "      <th>new_deaths_7d</th>\n",
              "      <th>new_cases_per_100k_7d</th>\n",
              "      <th>new_deaths_per_100k_7d</th>\n",
              "      <th>delta_new_cases</th>\n",
              "      <th>delta_new_deaths</th>\n",
              "      <th>delta_new_cases_per_100k</th>\n",
              "      <th>delta_new_deaths_per_100k</th>\n",
              "      <th>delta_new_cases_7d</th>\n",
              "      <th>delta_new_deaths_7d</th>\n",
              "      <th>delta_new_cases_per_100k_7d</th>\n",
              "      <th>delta_new_deaths_per_100k_7d</th>\n",
              "    </tr>\n",
              "  </thead>\n",
              "  <tbody>\n",
              "    <tr>\n",
              "      <th>0</th>\n",
              "      <td>2020-01-21</td>\n",
              "      <td>53061</td>\n",
              "      <td>1</td>\n",
              "      <td>0</td>\n",
              "      <td>Washington</td>\n",
              "      <td>Snohomish</td>\n",
              "      <td>822083</td>\n",
              "      <td>2087.272949</td>\n",
              "      <td>-121.692780</td>\n",
              "      <td>48.046917</td>\n",
              "      <td>393.855042</td>\n",
              "      <td>0.121642</td>\n",
              "      <td>0.0</td>\n",
              "      <td>1.0</td>\n",
              "      <td>0.0</td>\n",
              "      <td>0.121642</td>\n",
              "      <td>0.0</td>\n",
              "      <td>0.0</td>\n",
              "      <td>0.0</td>\n",
              "      <td>0.0</td>\n",
              "      <td>0.0</td>\n",
              "      <td>0.0</td>\n",
              "      <td>0.0</td>\n",
              "      <td>0.0</td>\n",
              "      <td>0.0</td>\n",
              "      <td>0.0</td>\n",
              "      <td>0.0</td>\n",
              "      <td>0.0</td>\n",
              "      <td>0.0</td>\n",
              "      <td>0.0</td>\n",
              "      <td>0.0</td>\n",
              "      <td>0.0</td>\n",
              "      <td>0.0</td>\n",
              "    </tr>\n",
              "    <tr>\n",
              "      <th>1</th>\n",
              "      <td>2020-01-22</td>\n",
              "      <td>53061</td>\n",
              "      <td>1</td>\n",
              "      <td>0</td>\n",
              "      <td>Washington</td>\n",
              "      <td>Snohomish</td>\n",
              "      <td>822083</td>\n",
              "      <td>2087.272949</td>\n",
              "      <td>-121.692780</td>\n",
              "      <td>48.046917</td>\n",
              "      <td>393.855042</td>\n",
              "      <td>0.121642</td>\n",
              "      <td>0.0</td>\n",
              "      <td>1.0</td>\n",
              "      <td>0.0</td>\n",
              "      <td>0.121642</td>\n",
              "      <td>0.0</td>\n",
              "      <td>0.0</td>\n",
              "      <td>0.0</td>\n",
              "      <td>0.0</td>\n",
              "      <td>0.0</td>\n",
              "      <td>0.0</td>\n",
              "      <td>0.0</td>\n",
              "      <td>0.0</td>\n",
              "      <td>0.0</td>\n",
              "      <td>0.0</td>\n",
              "      <td>0.0</td>\n",
              "      <td>0.0</td>\n",
              "      <td>0.0</td>\n",
              "      <td>0.0</td>\n",
              "      <td>0.0</td>\n",
              "      <td>0.0</td>\n",
              "      <td>0.0</td>\n",
              "    </tr>\n",
              "    <tr>\n",
              "      <th>2</th>\n",
              "      <td>2020-01-23</td>\n",
              "      <td>53061</td>\n",
              "      <td>1</td>\n",
              "      <td>0</td>\n",
              "      <td>Washington</td>\n",
              "      <td>Snohomish</td>\n",
              "      <td>822083</td>\n",
              "      <td>2087.272949</td>\n",
              "      <td>-121.692780</td>\n",
              "      <td>48.046917</td>\n",
              "      <td>393.855042</td>\n",
              "      <td>0.121642</td>\n",
              "      <td>0.0</td>\n",
              "      <td>1.0</td>\n",
              "      <td>0.0</td>\n",
              "      <td>0.121642</td>\n",
              "      <td>0.0</td>\n",
              "      <td>0.0</td>\n",
              "      <td>0.0</td>\n",
              "      <td>0.0</td>\n",
              "      <td>0.0</td>\n",
              "      <td>0.0</td>\n",
              "      <td>0.0</td>\n",
              "      <td>0.0</td>\n",
              "      <td>0.0</td>\n",
              "      <td>0.0</td>\n",
              "      <td>0.0</td>\n",
              "      <td>0.0</td>\n",
              "      <td>0.0</td>\n",
              "      <td>0.0</td>\n",
              "      <td>0.0</td>\n",
              "      <td>0.0</td>\n",
              "      <td>0.0</td>\n",
              "    </tr>\n",
              "    <tr>\n",
              "      <th>177</th>\n",
              "      <td>2020-01-24</td>\n",
              "      <td>17031</td>\n",
              "      <td>1</td>\n",
              "      <td>0</td>\n",
              "      <td>Illinois</td>\n",
              "      <td>Cook</td>\n",
              "      <td>5150233</td>\n",
              "      <td>945.325989</td>\n",
              "      <td>-87.817429</td>\n",
              "      <td>41.839622</td>\n",
              "      <td>5448.102539</td>\n",
              "      <td>0.019417</td>\n",
              "      <td>0.0</td>\n",
              "      <td>1.0</td>\n",
              "      <td>0.0</td>\n",
              "      <td>0.019417</td>\n",
              "      <td>0.0</td>\n",
              "      <td>0.0</td>\n",
              "      <td>0.0</td>\n",
              "      <td>0.0</td>\n",
              "      <td>0.0</td>\n",
              "      <td>0.0</td>\n",
              "      <td>0.0</td>\n",
              "      <td>0.0</td>\n",
              "      <td>0.0</td>\n",
              "      <td>0.0</td>\n",
              "      <td>0.0</td>\n",
              "      <td>0.0</td>\n",
              "      <td>0.0</td>\n",
              "      <td>0.0</td>\n",
              "      <td>0.0</td>\n",
              "      <td>0.0</td>\n",
              "      <td>0.0</td>\n",
              "    </tr>\n",
              "    <tr>\n",
              "      <th>3</th>\n",
              "      <td>2020-01-24</td>\n",
              "      <td>53061</td>\n",
              "      <td>1</td>\n",
              "      <td>0</td>\n",
              "      <td>Washington</td>\n",
              "      <td>Snohomish</td>\n",
              "      <td>822083</td>\n",
              "      <td>2087.272949</td>\n",
              "      <td>-121.692780</td>\n",
              "      <td>48.046917</td>\n",
              "      <td>393.855042</td>\n",
              "      <td>0.121642</td>\n",
              "      <td>0.0</td>\n",
              "      <td>1.0</td>\n",
              "      <td>0.0</td>\n",
              "      <td>0.121642</td>\n",
              "      <td>0.0</td>\n",
              "      <td>0.0</td>\n",
              "      <td>0.0</td>\n",
              "      <td>0.0</td>\n",
              "      <td>0.0</td>\n",
              "      <td>0.0</td>\n",
              "      <td>0.0</td>\n",
              "      <td>0.0</td>\n",
              "      <td>0.0</td>\n",
              "      <td>0.0</td>\n",
              "      <td>0.0</td>\n",
              "      <td>0.0</td>\n",
              "      <td>0.0</td>\n",
              "      <td>0.0</td>\n",
              "      <td>0.0</td>\n",
              "      <td>0.0</td>\n",
              "      <td>0.0</td>\n",
              "    </tr>\n",
              "  </tbody>\n",
              "</table>\n",
              "</div>"
            ],
            "text/plain": [
              "          date  ... delta_new_deaths_per_100k_7d\n",
              "0   2020-01-21  ...                          0.0\n",
              "1   2020-01-22  ...                          0.0\n",
              "2   2020-01-23  ...                          0.0\n",
              "177 2020-01-24  ...                          0.0\n",
              "3   2020-01-24  ...                          0.0\n",
              "\n",
              "[5 rows x 33 columns]"
            ]
          },
          "metadata": {
            "tags": []
          },
          "execution_count": 167
        }
      ]
    },
    {
      "cell_type": "code",
      "metadata": {
        "id": "fIXEpziQi1gp",
        "colab_type": "code",
        "colab": {}
      },
      "source": [
        "df.to_csv('data/df.csv', index=False)"
      ],
      "execution_count": null,
      "outputs": []
    },
    {
      "cell_type": "markdown",
      "metadata": {
        "id": "Ey4ybQP3i1gr",
        "colab_type": "text"
      },
      "source": [
        "## rolling regression instead of rolling average"
      ]
    },
    {
      "cell_type": "markdown",
      "metadata": {
        "id": "NSZaqdsfi1gr",
        "colab_type": "text"
      },
      "source": [
        "To do: find a faster way to do this!"
      ]
    },
    {
      "cell_type": "code",
      "metadata": {
        "id": "1nbDEwVJi1gs",
        "colab_type": "code",
        "colab": {}
      },
      "source": [
        "def add_slope_cols(df, cols, window=7):\n",
        "    df = df.sort_values(by=['date', 'fips'])\n",
        "    cols_s = [c + '_' + str(window) + 's' for c in cols]\n",
        "\n",
        "    # https://stackoverflow.com/a/34668038\n",
        "    d = dict.fromkeys(cols_s, 0)\n",
        "    df = df.assign(**d)\n",
        "    \n",
        "    for n, fips in enumerate(df['fips'].unique()):\n",
        "        f = len(df['fips'].unique())\n",
        "        if (n + 1) % 300 == 0:\n",
        "            print(f'{n+1} of {f} fips')\n",
        "        dft = df[df['fips'] == fips][cols].values\n",
        "        l = len(dft)\n",
        "        preds = np.zeros((1, dft.shape[1]))        # first row of slopes is 0\n",
        "        if l > 1:                                   # if we have more rows\n",
        "            for i in range(2, np.min([l+1, window])):\n",
        "                x = np.arange(i)                    # emulating min_period=2\n",
        "                y = dft[0:i]\n",
        "                # https://stackoverflow.com/a/18767992\n",
        "                coefs = poly.polyfit(x, y, 1)\n",
        "                pred = [poly.polyval(x[-1], coefs)]\n",
        "                preds = np.append(preds, pred, axis=0)\n",
        "            if l > window:\n",
        "                x = np.arange(window)\n",
        "                for j in range(window, l+1):\n",
        "                    y = dft[j-window:j]         # find slope of previous window\n",
        "                    coefs = poly.polyfit(x, y, 1)\n",
        "                    pred = [poly.polyval(x[-1], coefs)]\n",
        "                    preds = np.append(preds, pred, axis=0)\n",
        "        if not (dft.shape == preds.shape):\n",
        "            print(fips)\n",
        "            break\n",
        "        df.loc[df['fips'] == fips, cols_s] = preds\n",
        "    return (df, cols_s)"
      ],
      "execution_count": 186,
      "outputs": []
    },
    {
      "cell_type": "code",
      "metadata": {
        "id": "FWNeFA9-3zw8",
        "colab_type": "code",
        "colab": {}
      },
      "source": [
        ""
      ],
      "execution_count": 177,
      "outputs": []
    },
    {
      "cell_type": "code",
      "metadata": {
        "id": "f75xzn3O35Ow",
        "colab_type": "code",
        "colab": {
          "base_uri": "https://localhost:8080/",
          "height": 51
        },
        "outputId": "3ddb1fed-0f8f-4fc0-f3b5-586564a0ec68"
      },
      "source": [
        "w = 7\n",
        "s = 20\n",
        "x = np.arange(w)\n",
        "y = dft[s:s+w]\n",
        "preds = np.zeros((1, dft.shape[1]))\n",
        "coefs = poly.polyfit(x, y, 1)\n",
        "pred = [poly.polyval(x[-1], coefs)]\n",
        "preds = np.append(preds, pred, axis=0)\n",
        "preds"
      ],
      "execution_count": 183,
      "outputs": [
        {
          "output_type": "execute_result",
          "data": {
            "text/plain": [
              "array([[0.00000000e+00, 0.00000000e+00, 0.00000000e+00, 0.00000000e+00],\n",
              "       [2.59537500e+04, 5.14357143e+02, 3.11314858e+02, 6.16970653e+00]])"
            ]
          },
          "metadata": {
            "tags": []
          },
          "execution_count": 183
        }
      ]
    },
    {
      "cell_type": "code",
      "metadata": {
        "id": "17eBcEma4VCT",
        "colab_type": "code",
        "colab": {
          "base_uri": "https://localhost:8080/",
          "height": 34
        },
        "outputId": "4d5094f9-38ee-4bcd-8844-cc0da542bc53"
      },
      "source": [
        "y[x[-1]]"
      ],
      "execution_count": 181,
      "outputs": [
        {
          "output_type": "execute_result",
          "data": {
            "text/plain": [
              "array([2.55090000e+04, 5.60000000e+02, 3.05980088e+02, 6.71719195e+00])"
            ]
          },
          "metadata": {
            "tags": []
          },
          "execution_count": 181
        }
      ]
    },
    {
      "cell_type": "code",
      "metadata": {
        "id": "Uq4d6XCDcJ08",
        "colab_type": "code",
        "colab": {
          "base_uri": "https://localhost:8080/",
          "height": 1000
        },
        "outputId": "13517bae-5b9b-4acd-d0cb-ddca3fc00d4a"
      },
      "source": [
        "tick = time()\n",
        "df, cols_7s = add_slope_cols(df, cols)\n",
        "tock = time()\n",
        "print()\n",
        "print(tock - tick)\n",
        "df.info()"
      ],
      "execution_count": 187,
      "outputs": [
        {
          "output_type": "stream",
          "text": [
            "300 of 3167 fips\n",
            "600 of 3167 fips\n",
            "900 of 3167 fips\n",
            "1200 of 3167 fips\n",
            "1500 of 3167 fips\n",
            "1800 of 3167 fips\n",
            "2100 of 3167 fips\n",
            "2400 of 3167 fips\n",
            "2700 of 3167 fips\n",
            "3000 of 3167 fips\n",
            "\n",
            "231.92249155044556\n",
            "<class 'pandas.core.frame.DataFrame'>\n",
            "Int64Index: 334401 entries, 0 to 3959\n",
            "Data columns (total 45 columns):\n",
            " #   Column                        Non-Null Count   Dtype         \n",
            "---  ------                        --------------   -----         \n",
            " 0   date                          334401 non-null  datetime64[ns]\n",
            " 1   fips                          334401 non-null  object        \n",
            " 2   cases                         334401 non-null  int32         \n",
            " 3   deaths                        334401 non-null  int16         \n",
            " 4   state                         334401 non-null  category      \n",
            " 5   county                        334401 non-null  object        \n",
            " 6   population                    334401 non-null  int32         \n",
            " 7   area                          334401 non-null  float32       \n",
            " 8   lon                           334401 non-null  float32       \n",
            " 9   lat                           334401 non-null  float32       \n",
            " 10  pop_per_area                  334401 non-null  float32       \n",
            " 11  cases_per_100k                334401 non-null  float64       \n",
            " 12  deaths_per_100k               334401 non-null  float64       \n",
            " 13  cases_7d                      334401 non-null  float64       \n",
            " 14  deaths_7d                     334401 non-null  float64       \n",
            " 15  cases_per_100k_7d             334401 non-null  float64       \n",
            " 16  deaths_per_100k_7d            334401 non-null  float64       \n",
            " 17  new_cases                     334401 non-null  float64       \n",
            " 18  new_deaths                    334401 non-null  float64       \n",
            " 19  new_cases_per_100k            334401 non-null  float64       \n",
            " 20  new_deaths_per_100k           334401 non-null  float64       \n",
            " 21  new_cases_7d                  334401 non-null  float64       \n",
            " 22  new_deaths_7d                 334401 non-null  float64       \n",
            " 23  new_cases_per_100k_7d         334401 non-null  float64       \n",
            " 24  new_deaths_per_100k_7d        334401 non-null  float64       \n",
            " 25  delta_new_cases               334401 non-null  float64       \n",
            " 26  delta_new_deaths              334401 non-null  float64       \n",
            " 27  delta_new_cases_per_100k      334401 non-null  float64       \n",
            " 28  delta_new_deaths_per_100k     334401 non-null  float64       \n",
            " 29  delta_new_cases_7d            334401 non-null  float64       \n",
            " 30  delta_new_deaths_7d           334401 non-null  float64       \n",
            " 31  delta_new_cases_per_100k_7d   334401 non-null  float64       \n",
            " 32  delta_new_deaths_per_100k_7d  334401 non-null  float64       \n",
            " 33  cases_7s                      334401 non-null  float64       \n",
            " 34  deaths_7s                     334401 non-null  float64       \n",
            " 35  cases_per_100k_7s             334401 non-null  float64       \n",
            " 36  deaths_per_100k_7s            334401 non-null  float64       \n",
            " 37  new_cases_7s                  334401 non-null  float64       \n",
            " 38  new_deaths_7s                 334401 non-null  float64       \n",
            " 39  new_cases_per_100k_7s         334401 non-null  float64       \n",
            " 40  new_deaths_per_100k_7s        334401 non-null  float64       \n",
            " 41  delta_new_cases_7s            334401 non-null  float64       \n",
            " 42  delta_new_deaths_7s           334401 non-null  float64       \n",
            " 43  delta_new_cases_per_100k_7s   334401 non-null  float64       \n",
            " 44  delta_new_deaths_per_100k_7s  334401 non-null  float64       \n",
            "dtypes: category(1), datetime64[ns](1), float32(4), float64(34), int16(1), int32(2), object(2)\n",
            "memory usage: 105.6+ MB\n"
          ],
          "name": "stdout"
        }
      ]
    },
    {
      "cell_type": "code",
      "metadata": {
        "id": "qMLmDGx2t6MI",
        "colab_type": "code",
        "colab": {
          "base_uri": "https://localhost:8080/",
          "height": 581
        },
        "outputId": "cec3898e-8c67-44c7-baf0-49a3cedb3b86"
      },
      "source": [
        "ding = time()\n",
        "df, new_cols_7s = add_change_cols(df, cols_7s, pre='new_', clip=True)\n",
        "df, delta_new_cols_7s = add_change_cols(df, new_cols_7s, pre='delta_', clip=False)\n",
        "dong = time()\n",
        "print(dong - ding)\n",
        "print(df.columns)\n",
        "df.head()"
      ],
      "execution_count": 188,
      "outputs": [
        {
          "output_type": "stream",
          "text": [
            "0.3821585178375244\n",
            "Index(['date', 'fips', 'cases', 'deaths', 'state', 'county', 'population',\n",
            "       'area', 'lon', 'lat', 'pop_per_area', 'cases_per_100k',\n",
            "       'deaths_per_100k', 'cases_7d', 'deaths_7d', 'cases_per_100k_7d',\n",
            "       'deaths_per_100k_7d', 'new_cases', 'new_deaths', 'new_cases_per_100k',\n",
            "       'new_deaths_per_100k', 'new_cases_7d', 'new_deaths_7d',\n",
            "       'new_cases_per_100k_7d', 'new_deaths_per_100k_7d', 'delta_new_cases',\n",
            "       'delta_new_deaths', 'delta_new_cases_per_100k',\n",
            "       'delta_new_deaths_per_100k', 'delta_new_cases_7d',\n",
            "       'delta_new_deaths_7d', 'delta_new_cases_per_100k_7d',\n",
            "       'delta_new_deaths_per_100k_7d', 'cases_7s', 'deaths_7s',\n",
            "       'cases_per_100k_7s', 'deaths_per_100k_7s', 'new_cases_7s',\n",
            "       'new_deaths_7s', 'new_cases_per_100k_7s', 'new_deaths_per_100k_7s',\n",
            "       'delta_new_cases_7s', 'delta_new_deaths_7s',\n",
            "       'delta_new_cases_per_100k_7s', 'delta_new_deaths_per_100k_7s'],\n",
            "      dtype='object')\n"
          ],
          "name": "stdout"
        },
        {
          "output_type": "execute_result",
          "data": {
            "text/html": [
              "<div>\n",
              "<style scoped>\n",
              "    .dataframe tbody tr th:only-of-type {\n",
              "        vertical-align: middle;\n",
              "    }\n",
              "\n",
              "    .dataframe tbody tr th {\n",
              "        vertical-align: top;\n",
              "    }\n",
              "\n",
              "    .dataframe thead th {\n",
              "        text-align: right;\n",
              "    }\n",
              "</style>\n",
              "<table border=\"1\" class=\"dataframe\">\n",
              "  <thead>\n",
              "    <tr style=\"text-align: right;\">\n",
              "      <th></th>\n",
              "      <th>date</th>\n",
              "      <th>fips</th>\n",
              "      <th>cases</th>\n",
              "      <th>deaths</th>\n",
              "      <th>state</th>\n",
              "      <th>county</th>\n",
              "      <th>population</th>\n",
              "      <th>area</th>\n",
              "      <th>lon</th>\n",
              "      <th>lat</th>\n",
              "      <th>pop_per_area</th>\n",
              "      <th>cases_per_100k</th>\n",
              "      <th>deaths_per_100k</th>\n",
              "      <th>cases_7d</th>\n",
              "      <th>deaths_7d</th>\n",
              "      <th>cases_per_100k_7d</th>\n",
              "      <th>deaths_per_100k_7d</th>\n",
              "      <th>new_cases</th>\n",
              "      <th>new_deaths</th>\n",
              "      <th>new_cases_per_100k</th>\n",
              "      <th>new_deaths_per_100k</th>\n",
              "      <th>new_cases_7d</th>\n",
              "      <th>new_deaths_7d</th>\n",
              "      <th>new_cases_per_100k_7d</th>\n",
              "      <th>new_deaths_per_100k_7d</th>\n",
              "      <th>delta_new_cases</th>\n",
              "      <th>delta_new_deaths</th>\n",
              "      <th>delta_new_cases_per_100k</th>\n",
              "      <th>delta_new_deaths_per_100k</th>\n",
              "      <th>delta_new_cases_7d</th>\n",
              "      <th>delta_new_deaths_7d</th>\n",
              "      <th>delta_new_cases_per_100k_7d</th>\n",
              "      <th>delta_new_deaths_per_100k_7d</th>\n",
              "      <th>cases_7s</th>\n",
              "      <th>deaths_7s</th>\n",
              "      <th>cases_per_100k_7s</th>\n",
              "      <th>deaths_per_100k_7s</th>\n",
              "      <th>new_cases_7s</th>\n",
              "      <th>new_deaths_7s</th>\n",
              "      <th>new_cases_per_100k_7s</th>\n",
              "      <th>new_deaths_per_100k_7s</th>\n",
              "      <th>delta_new_cases_7s</th>\n",
              "      <th>delta_new_deaths_7s</th>\n",
              "      <th>delta_new_cases_per_100k_7s</th>\n",
              "      <th>delta_new_deaths_per_100k_7s</th>\n",
              "    </tr>\n",
              "  </thead>\n",
              "  <tbody>\n",
              "    <tr>\n",
              "      <th>0</th>\n",
              "      <td>2020-01-21</td>\n",
              "      <td>53061</td>\n",
              "      <td>1</td>\n",
              "      <td>0</td>\n",
              "      <td>Washington</td>\n",
              "      <td>Snohomish</td>\n",
              "      <td>822083</td>\n",
              "      <td>2087.272949</td>\n",
              "      <td>-121.692780</td>\n",
              "      <td>48.046917</td>\n",
              "      <td>393.855042</td>\n",
              "      <td>0.121642</td>\n",
              "      <td>0.0</td>\n",
              "      <td>1.0</td>\n",
              "      <td>0.0</td>\n",
              "      <td>0.121642</td>\n",
              "      <td>0.0</td>\n",
              "      <td>0.0</td>\n",
              "      <td>0.0</td>\n",
              "      <td>0.0</td>\n",
              "      <td>0.0</td>\n",
              "      <td>0.0</td>\n",
              "      <td>0.0</td>\n",
              "      <td>0.0</td>\n",
              "      <td>0.0</td>\n",
              "      <td>0.0</td>\n",
              "      <td>0.0</td>\n",
              "      <td>0.0</td>\n",
              "      <td>0.0</td>\n",
              "      <td>0.0</td>\n",
              "      <td>0.0</td>\n",
              "      <td>0.0</td>\n",
              "      <td>0.0</td>\n",
              "      <td>0.0</td>\n",
              "      <td>0.0</td>\n",
              "      <td>0.000000</td>\n",
              "      <td>0.0</td>\n",
              "      <td>0.000000e+00</td>\n",
              "      <td>0.0</td>\n",
              "      <td>0.000000e+00</td>\n",
              "      <td>0.0</td>\n",
              "      <td>0.000000e+00</td>\n",
              "      <td>0.0</td>\n",
              "      <td>0.000000e+00</td>\n",
              "      <td>0.0</td>\n",
              "    </tr>\n",
              "    <tr>\n",
              "      <th>1</th>\n",
              "      <td>2020-01-22</td>\n",
              "      <td>53061</td>\n",
              "      <td>1</td>\n",
              "      <td>0</td>\n",
              "      <td>Washington</td>\n",
              "      <td>Snohomish</td>\n",
              "      <td>822083</td>\n",
              "      <td>2087.272949</td>\n",
              "      <td>-121.692780</td>\n",
              "      <td>48.046917</td>\n",
              "      <td>393.855042</td>\n",
              "      <td>0.121642</td>\n",
              "      <td>0.0</td>\n",
              "      <td>1.0</td>\n",
              "      <td>0.0</td>\n",
              "      <td>0.121642</td>\n",
              "      <td>0.0</td>\n",
              "      <td>0.0</td>\n",
              "      <td>0.0</td>\n",
              "      <td>0.0</td>\n",
              "      <td>0.0</td>\n",
              "      <td>0.0</td>\n",
              "      <td>0.0</td>\n",
              "      <td>0.0</td>\n",
              "      <td>0.0</td>\n",
              "      <td>0.0</td>\n",
              "      <td>0.0</td>\n",
              "      <td>0.0</td>\n",
              "      <td>0.0</td>\n",
              "      <td>0.0</td>\n",
              "      <td>0.0</td>\n",
              "      <td>0.0</td>\n",
              "      <td>0.0</td>\n",
              "      <td>1.0</td>\n",
              "      <td>0.0</td>\n",
              "      <td>0.121642</td>\n",
              "      <td>0.0</td>\n",
              "      <td>1.000000e+00</td>\n",
              "      <td>0.0</td>\n",
              "      <td>1.216422e-01</td>\n",
              "      <td>0.0</td>\n",
              "      <td>1.000000e+00</td>\n",
              "      <td>0.0</td>\n",
              "      <td>1.216422e-01</td>\n",
              "      <td>0.0</td>\n",
              "    </tr>\n",
              "    <tr>\n",
              "      <th>2</th>\n",
              "      <td>2020-01-23</td>\n",
              "      <td>53061</td>\n",
              "      <td>1</td>\n",
              "      <td>0</td>\n",
              "      <td>Washington</td>\n",
              "      <td>Snohomish</td>\n",
              "      <td>822083</td>\n",
              "      <td>2087.272949</td>\n",
              "      <td>-121.692780</td>\n",
              "      <td>48.046917</td>\n",
              "      <td>393.855042</td>\n",
              "      <td>0.121642</td>\n",
              "      <td>0.0</td>\n",
              "      <td>1.0</td>\n",
              "      <td>0.0</td>\n",
              "      <td>0.121642</td>\n",
              "      <td>0.0</td>\n",
              "      <td>0.0</td>\n",
              "      <td>0.0</td>\n",
              "      <td>0.0</td>\n",
              "      <td>0.0</td>\n",
              "      <td>0.0</td>\n",
              "      <td>0.0</td>\n",
              "      <td>0.0</td>\n",
              "      <td>0.0</td>\n",
              "      <td>0.0</td>\n",
              "      <td>0.0</td>\n",
              "      <td>0.0</td>\n",
              "      <td>0.0</td>\n",
              "      <td>0.0</td>\n",
              "      <td>0.0</td>\n",
              "      <td>0.0</td>\n",
              "      <td>0.0</td>\n",
              "      <td>1.0</td>\n",
              "      <td>0.0</td>\n",
              "      <td>0.121642</td>\n",
              "      <td>0.0</td>\n",
              "      <td>5.551115e-16</td>\n",
              "      <td>0.0</td>\n",
              "      <td>6.938894e-17</td>\n",
              "      <td>0.0</td>\n",
              "      <td>-1.000000e+00</td>\n",
              "      <td>0.0</td>\n",
              "      <td>-1.216422e-01</td>\n",
              "      <td>0.0</td>\n",
              "    </tr>\n",
              "    <tr>\n",
              "      <th>177</th>\n",
              "      <td>2020-01-24</td>\n",
              "      <td>17031</td>\n",
              "      <td>1</td>\n",
              "      <td>0</td>\n",
              "      <td>Illinois</td>\n",
              "      <td>Cook</td>\n",
              "      <td>5150233</td>\n",
              "      <td>945.325989</td>\n",
              "      <td>-87.817429</td>\n",
              "      <td>41.839622</td>\n",
              "      <td>5448.102539</td>\n",
              "      <td>0.019417</td>\n",
              "      <td>0.0</td>\n",
              "      <td>1.0</td>\n",
              "      <td>0.0</td>\n",
              "      <td>0.019417</td>\n",
              "      <td>0.0</td>\n",
              "      <td>0.0</td>\n",
              "      <td>0.0</td>\n",
              "      <td>0.0</td>\n",
              "      <td>0.0</td>\n",
              "      <td>0.0</td>\n",
              "      <td>0.0</td>\n",
              "      <td>0.0</td>\n",
              "      <td>0.0</td>\n",
              "      <td>0.0</td>\n",
              "      <td>0.0</td>\n",
              "      <td>0.0</td>\n",
              "      <td>0.0</td>\n",
              "      <td>0.0</td>\n",
              "      <td>0.0</td>\n",
              "      <td>0.0</td>\n",
              "      <td>0.0</td>\n",
              "      <td>0.0</td>\n",
              "      <td>0.0</td>\n",
              "      <td>0.000000</td>\n",
              "      <td>0.0</td>\n",
              "      <td>0.000000e+00</td>\n",
              "      <td>0.0</td>\n",
              "      <td>0.000000e+00</td>\n",
              "      <td>0.0</td>\n",
              "      <td>0.000000e+00</td>\n",
              "      <td>0.0</td>\n",
              "      <td>0.000000e+00</td>\n",
              "      <td>0.0</td>\n",
              "    </tr>\n",
              "    <tr>\n",
              "      <th>3</th>\n",
              "      <td>2020-01-24</td>\n",
              "      <td>53061</td>\n",
              "      <td>1</td>\n",
              "      <td>0</td>\n",
              "      <td>Washington</td>\n",
              "      <td>Snohomish</td>\n",
              "      <td>822083</td>\n",
              "      <td>2087.272949</td>\n",
              "      <td>-121.692780</td>\n",
              "      <td>48.046917</td>\n",
              "      <td>393.855042</td>\n",
              "      <td>0.121642</td>\n",
              "      <td>0.0</td>\n",
              "      <td>1.0</td>\n",
              "      <td>0.0</td>\n",
              "      <td>0.121642</td>\n",
              "      <td>0.0</td>\n",
              "      <td>0.0</td>\n",
              "      <td>0.0</td>\n",
              "      <td>0.0</td>\n",
              "      <td>0.0</td>\n",
              "      <td>0.0</td>\n",
              "      <td>0.0</td>\n",
              "      <td>0.0</td>\n",
              "      <td>0.0</td>\n",
              "      <td>0.0</td>\n",
              "      <td>0.0</td>\n",
              "      <td>0.0</td>\n",
              "      <td>0.0</td>\n",
              "      <td>0.0</td>\n",
              "      <td>0.0</td>\n",
              "      <td>0.0</td>\n",
              "      <td>0.0</td>\n",
              "      <td>1.0</td>\n",
              "      <td>0.0</td>\n",
              "      <td>0.121642</td>\n",
              "      <td>0.0</td>\n",
              "      <td>0.000000e+00</td>\n",
              "      <td>0.0</td>\n",
              "      <td>2.775558e-17</td>\n",
              "      <td>0.0</td>\n",
              "      <td>-5.551115e-16</td>\n",
              "      <td>0.0</td>\n",
              "      <td>-4.163336e-17</td>\n",
              "      <td>0.0</td>\n",
              "    </tr>\n",
              "  </tbody>\n",
              "</table>\n",
              "</div>"
            ],
            "text/plain": [
              "          date  ... delta_new_deaths_per_100k_7s\n",
              "0   2020-01-21  ...                          0.0\n",
              "1   2020-01-22  ...                          0.0\n",
              "2   2020-01-23  ...                          0.0\n",
              "177 2020-01-24  ...                          0.0\n",
              "3   2020-01-24  ...                          0.0\n",
              "\n",
              "[5 rows x 45 columns]"
            ]
          },
          "metadata": {
            "tags": []
          },
          "execution_count": 188
        }
      ]
    },
    {
      "cell_type": "code",
      "metadata": {
        "id": "a7gglta9wFAC",
        "colab_type": "code",
        "colab": {
          "base_uri": "https://localhost:8080/",
          "height": 221
        },
        "outputId": "63d0d64e-16eb-4065-dad5-11321d1aa808"
      },
      "source": [
        "temp_cols = [col for col in df.columns if col[-2:] == '7s']\n",
        "temp_cols"
      ],
      "execution_count": 190,
      "outputs": [
        {
          "output_type": "execute_result",
          "data": {
            "text/plain": [
              "['cases_7s',\n",
              " 'deaths_7s',\n",
              " 'cases_per_100k_7s',\n",
              " 'deaths_per_100k_7s',\n",
              " 'new_cases_7s',\n",
              " 'new_deaths_7s',\n",
              " 'new_cases_per_100k_7s',\n",
              " 'new_deaths_per_100k_7s',\n",
              " 'delta_new_cases_7s',\n",
              " 'delta_new_deaths_7s',\n",
              " 'delta_new_cases_per_100k_7s',\n",
              " 'delta_new_deaths_per_100k_7s']"
            ]
          },
          "metadata": {
            "tags": []
          },
          "execution_count": 190
        }
      ]
    },
    {
      "cell_type": "code",
      "metadata": {
        "id": "g_lfz33pi1gu",
        "colab_type": "code",
        "colab": {}
      },
      "source": [
        "df[temp_cols] = df[temp_cols].round(4)"
      ],
      "execution_count": 192,
      "outputs": []
    },
    {
      "cell_type": "code",
      "metadata": {
        "id": "MXfv-I64i1gx",
        "colab_type": "code",
        "colab": {
          "base_uri": "https://localhost:8080/",
          "height": 309
        },
        "outputId": "7ccbff07-2072-43f4-9c81-07738d3a88d8"
      },
      "source": [
        "df.head()"
      ],
      "execution_count": 193,
      "outputs": [
        {
          "output_type": "execute_result",
          "data": {
            "text/html": [
              "<div>\n",
              "<style scoped>\n",
              "    .dataframe tbody tr th:only-of-type {\n",
              "        vertical-align: middle;\n",
              "    }\n",
              "\n",
              "    .dataframe tbody tr th {\n",
              "        vertical-align: top;\n",
              "    }\n",
              "\n",
              "    .dataframe thead th {\n",
              "        text-align: right;\n",
              "    }\n",
              "</style>\n",
              "<table border=\"1\" class=\"dataframe\">\n",
              "  <thead>\n",
              "    <tr style=\"text-align: right;\">\n",
              "      <th></th>\n",
              "      <th>date</th>\n",
              "      <th>fips</th>\n",
              "      <th>cases</th>\n",
              "      <th>deaths</th>\n",
              "      <th>state</th>\n",
              "      <th>county</th>\n",
              "      <th>population</th>\n",
              "      <th>area</th>\n",
              "      <th>lon</th>\n",
              "      <th>lat</th>\n",
              "      <th>pop_per_area</th>\n",
              "      <th>cases_per_100k</th>\n",
              "      <th>deaths_per_100k</th>\n",
              "      <th>cases_7d</th>\n",
              "      <th>deaths_7d</th>\n",
              "      <th>cases_per_100k_7d</th>\n",
              "      <th>deaths_per_100k_7d</th>\n",
              "      <th>new_cases</th>\n",
              "      <th>new_deaths</th>\n",
              "      <th>new_cases_per_100k</th>\n",
              "      <th>new_deaths_per_100k</th>\n",
              "      <th>new_cases_7d</th>\n",
              "      <th>new_deaths_7d</th>\n",
              "      <th>new_cases_per_100k_7d</th>\n",
              "      <th>new_deaths_per_100k_7d</th>\n",
              "      <th>delta_new_cases</th>\n",
              "      <th>delta_new_deaths</th>\n",
              "      <th>delta_new_cases_per_100k</th>\n",
              "      <th>delta_new_deaths_per_100k</th>\n",
              "      <th>delta_new_cases_7d</th>\n",
              "      <th>delta_new_deaths_7d</th>\n",
              "      <th>delta_new_cases_per_100k_7d</th>\n",
              "      <th>delta_new_deaths_per_100k_7d</th>\n",
              "      <th>cases_7s</th>\n",
              "      <th>deaths_7s</th>\n",
              "      <th>cases_per_100k_7s</th>\n",
              "      <th>deaths_per_100k_7s</th>\n",
              "      <th>new_cases_7s</th>\n",
              "      <th>new_deaths_7s</th>\n",
              "      <th>new_cases_per_100k_7s</th>\n",
              "      <th>new_deaths_per_100k_7s</th>\n",
              "      <th>delta_new_cases_7s</th>\n",
              "      <th>delta_new_deaths_7s</th>\n",
              "      <th>delta_new_cases_per_100k_7s</th>\n",
              "      <th>delta_new_deaths_per_100k_7s</th>\n",
              "    </tr>\n",
              "  </thead>\n",
              "  <tbody>\n",
              "    <tr>\n",
              "      <th>0</th>\n",
              "      <td>2020-01-21</td>\n",
              "      <td>53061</td>\n",
              "      <td>1</td>\n",
              "      <td>0</td>\n",
              "      <td>Washington</td>\n",
              "      <td>Snohomish</td>\n",
              "      <td>822083</td>\n",
              "      <td>2087.272949</td>\n",
              "      <td>-121.692780</td>\n",
              "      <td>48.046917</td>\n",
              "      <td>393.855042</td>\n",
              "      <td>0.121642</td>\n",
              "      <td>0.0</td>\n",
              "      <td>1.0</td>\n",
              "      <td>0.0</td>\n",
              "      <td>0.121642</td>\n",
              "      <td>0.0</td>\n",
              "      <td>0.0</td>\n",
              "      <td>0.0</td>\n",
              "      <td>0.0</td>\n",
              "      <td>0.0</td>\n",
              "      <td>0.0</td>\n",
              "      <td>0.0</td>\n",
              "      <td>0.0</td>\n",
              "      <td>0.0</td>\n",
              "      <td>0.0</td>\n",
              "      <td>0.0</td>\n",
              "      <td>0.0</td>\n",
              "      <td>0.0</td>\n",
              "      <td>0.0</td>\n",
              "      <td>0.0</td>\n",
              "      <td>0.0</td>\n",
              "      <td>0.0</td>\n",
              "      <td>0.0</td>\n",
              "      <td>0.0</td>\n",
              "      <td>0.0000</td>\n",
              "      <td>0.0</td>\n",
              "      <td>0.0</td>\n",
              "      <td>0.0</td>\n",
              "      <td>0.0000</td>\n",
              "      <td>0.0</td>\n",
              "      <td>0.0</td>\n",
              "      <td>0.0</td>\n",
              "      <td>0.0000</td>\n",
              "      <td>0.0</td>\n",
              "    </tr>\n",
              "    <tr>\n",
              "      <th>1</th>\n",
              "      <td>2020-01-22</td>\n",
              "      <td>53061</td>\n",
              "      <td>1</td>\n",
              "      <td>0</td>\n",
              "      <td>Washington</td>\n",
              "      <td>Snohomish</td>\n",
              "      <td>822083</td>\n",
              "      <td>2087.272949</td>\n",
              "      <td>-121.692780</td>\n",
              "      <td>48.046917</td>\n",
              "      <td>393.855042</td>\n",
              "      <td>0.121642</td>\n",
              "      <td>0.0</td>\n",
              "      <td>1.0</td>\n",
              "      <td>0.0</td>\n",
              "      <td>0.121642</td>\n",
              "      <td>0.0</td>\n",
              "      <td>0.0</td>\n",
              "      <td>0.0</td>\n",
              "      <td>0.0</td>\n",
              "      <td>0.0</td>\n",
              "      <td>0.0</td>\n",
              "      <td>0.0</td>\n",
              "      <td>0.0</td>\n",
              "      <td>0.0</td>\n",
              "      <td>0.0</td>\n",
              "      <td>0.0</td>\n",
              "      <td>0.0</td>\n",
              "      <td>0.0</td>\n",
              "      <td>0.0</td>\n",
              "      <td>0.0</td>\n",
              "      <td>0.0</td>\n",
              "      <td>0.0</td>\n",
              "      <td>1.0</td>\n",
              "      <td>0.0</td>\n",
              "      <td>0.1216</td>\n",
              "      <td>0.0</td>\n",
              "      <td>1.0</td>\n",
              "      <td>0.0</td>\n",
              "      <td>0.1216</td>\n",
              "      <td>0.0</td>\n",
              "      <td>1.0</td>\n",
              "      <td>0.0</td>\n",
              "      <td>0.1216</td>\n",
              "      <td>0.0</td>\n",
              "    </tr>\n",
              "    <tr>\n",
              "      <th>2</th>\n",
              "      <td>2020-01-23</td>\n",
              "      <td>53061</td>\n",
              "      <td>1</td>\n",
              "      <td>0</td>\n",
              "      <td>Washington</td>\n",
              "      <td>Snohomish</td>\n",
              "      <td>822083</td>\n",
              "      <td>2087.272949</td>\n",
              "      <td>-121.692780</td>\n",
              "      <td>48.046917</td>\n",
              "      <td>393.855042</td>\n",
              "      <td>0.121642</td>\n",
              "      <td>0.0</td>\n",
              "      <td>1.0</td>\n",
              "      <td>0.0</td>\n",
              "      <td>0.121642</td>\n",
              "      <td>0.0</td>\n",
              "      <td>0.0</td>\n",
              "      <td>0.0</td>\n",
              "      <td>0.0</td>\n",
              "      <td>0.0</td>\n",
              "      <td>0.0</td>\n",
              "      <td>0.0</td>\n",
              "      <td>0.0</td>\n",
              "      <td>0.0</td>\n",
              "      <td>0.0</td>\n",
              "      <td>0.0</td>\n",
              "      <td>0.0</td>\n",
              "      <td>0.0</td>\n",
              "      <td>0.0</td>\n",
              "      <td>0.0</td>\n",
              "      <td>0.0</td>\n",
              "      <td>0.0</td>\n",
              "      <td>1.0</td>\n",
              "      <td>0.0</td>\n",
              "      <td>0.1216</td>\n",
              "      <td>0.0</td>\n",
              "      <td>0.0</td>\n",
              "      <td>0.0</td>\n",
              "      <td>0.0000</td>\n",
              "      <td>0.0</td>\n",
              "      <td>-1.0</td>\n",
              "      <td>0.0</td>\n",
              "      <td>-0.1216</td>\n",
              "      <td>0.0</td>\n",
              "    </tr>\n",
              "    <tr>\n",
              "      <th>177</th>\n",
              "      <td>2020-01-24</td>\n",
              "      <td>17031</td>\n",
              "      <td>1</td>\n",
              "      <td>0</td>\n",
              "      <td>Illinois</td>\n",
              "      <td>Cook</td>\n",
              "      <td>5150233</td>\n",
              "      <td>945.325989</td>\n",
              "      <td>-87.817429</td>\n",
              "      <td>41.839622</td>\n",
              "      <td>5448.102539</td>\n",
              "      <td>0.019417</td>\n",
              "      <td>0.0</td>\n",
              "      <td>1.0</td>\n",
              "      <td>0.0</td>\n",
              "      <td>0.019417</td>\n",
              "      <td>0.0</td>\n",
              "      <td>0.0</td>\n",
              "      <td>0.0</td>\n",
              "      <td>0.0</td>\n",
              "      <td>0.0</td>\n",
              "      <td>0.0</td>\n",
              "      <td>0.0</td>\n",
              "      <td>0.0</td>\n",
              "      <td>0.0</td>\n",
              "      <td>0.0</td>\n",
              "      <td>0.0</td>\n",
              "      <td>0.0</td>\n",
              "      <td>0.0</td>\n",
              "      <td>0.0</td>\n",
              "      <td>0.0</td>\n",
              "      <td>0.0</td>\n",
              "      <td>0.0</td>\n",
              "      <td>0.0</td>\n",
              "      <td>0.0</td>\n",
              "      <td>0.0000</td>\n",
              "      <td>0.0</td>\n",
              "      <td>0.0</td>\n",
              "      <td>0.0</td>\n",
              "      <td>0.0000</td>\n",
              "      <td>0.0</td>\n",
              "      <td>0.0</td>\n",
              "      <td>0.0</td>\n",
              "      <td>0.0000</td>\n",
              "      <td>0.0</td>\n",
              "    </tr>\n",
              "    <tr>\n",
              "      <th>3</th>\n",
              "      <td>2020-01-24</td>\n",
              "      <td>53061</td>\n",
              "      <td>1</td>\n",
              "      <td>0</td>\n",
              "      <td>Washington</td>\n",
              "      <td>Snohomish</td>\n",
              "      <td>822083</td>\n",
              "      <td>2087.272949</td>\n",
              "      <td>-121.692780</td>\n",
              "      <td>48.046917</td>\n",
              "      <td>393.855042</td>\n",
              "      <td>0.121642</td>\n",
              "      <td>0.0</td>\n",
              "      <td>1.0</td>\n",
              "      <td>0.0</td>\n",
              "      <td>0.121642</td>\n",
              "      <td>0.0</td>\n",
              "      <td>0.0</td>\n",
              "      <td>0.0</td>\n",
              "      <td>0.0</td>\n",
              "      <td>0.0</td>\n",
              "      <td>0.0</td>\n",
              "      <td>0.0</td>\n",
              "      <td>0.0</td>\n",
              "      <td>0.0</td>\n",
              "      <td>0.0</td>\n",
              "      <td>0.0</td>\n",
              "      <td>0.0</td>\n",
              "      <td>0.0</td>\n",
              "      <td>0.0</td>\n",
              "      <td>0.0</td>\n",
              "      <td>0.0</td>\n",
              "      <td>0.0</td>\n",
              "      <td>1.0</td>\n",
              "      <td>0.0</td>\n",
              "      <td>0.1216</td>\n",
              "      <td>0.0</td>\n",
              "      <td>0.0</td>\n",
              "      <td>0.0</td>\n",
              "      <td>0.0000</td>\n",
              "      <td>0.0</td>\n",
              "      <td>-0.0</td>\n",
              "      <td>0.0</td>\n",
              "      <td>-0.0000</td>\n",
              "      <td>0.0</td>\n",
              "    </tr>\n",
              "  </tbody>\n",
              "</table>\n",
              "</div>"
            ],
            "text/plain": [
              "          date  ... delta_new_deaths_per_100k_7s\n",
              "0   2020-01-21  ...                          0.0\n",
              "1   2020-01-22  ...                          0.0\n",
              "2   2020-01-23  ...                          0.0\n",
              "177 2020-01-24  ...                          0.0\n",
              "3   2020-01-24  ...                          0.0\n",
              "\n",
              "[5 rows x 45 columns]"
            ]
          },
          "metadata": {
            "tags": []
          },
          "execution_count": 193
        }
      ]
    },
    {
      "cell_type": "code",
      "metadata": {
        "id": "JZbnJmfsi1hD",
        "colab_type": "code",
        "colab": {
          "base_uri": "https://localhost:8080/",
          "height": 669
        },
        "outputId": "bb2f1510-9ed5-4ee4-a83e-b7abc8ae526b"
      },
      "source": [
        "df[df['fips'] == 'nyc'][['new_deaths','new_deaths_7d', 'new_deaths_7s']].head(20)"
      ],
      "execution_count": 194,
      "outputs": [
        {
          "output_type": "execute_result",
          "data": {
            "text/html": [
              "<div>\n",
              "<style scoped>\n",
              "    .dataframe tbody tr th:only-of-type {\n",
              "        vertical-align: middle;\n",
              "    }\n",
              "\n",
              "    .dataframe tbody tr th {\n",
              "        vertical-align: top;\n",
              "    }\n",
              "\n",
              "    .dataframe thead th {\n",
              "        text-align: right;\n",
              "    }\n",
              "</style>\n",
              "<table border=\"1\" class=\"dataframe\">\n",
              "  <thead>\n",
              "    <tr style=\"text-align: right;\">\n",
              "      <th></th>\n",
              "      <th>new_deaths</th>\n",
              "      <th>new_deaths_7d</th>\n",
              "      <th>new_deaths_7s</th>\n",
              "    </tr>\n",
              "  </thead>\n",
              "  <tbody>\n",
              "    <tr>\n",
              "      <th>3823</th>\n",
              "      <td>0.0</td>\n",
              "      <td>0.000000</td>\n",
              "      <td>0.0000</td>\n",
              "    </tr>\n",
              "    <tr>\n",
              "      <th>3824</th>\n",
              "      <td>0.0</td>\n",
              "      <td>0.000000</td>\n",
              "      <td>0.0000</td>\n",
              "    </tr>\n",
              "    <tr>\n",
              "      <th>3825</th>\n",
              "      <td>0.0</td>\n",
              "      <td>0.000000</td>\n",
              "      <td>0.0000</td>\n",
              "    </tr>\n",
              "    <tr>\n",
              "      <th>3826</th>\n",
              "      <td>0.0</td>\n",
              "      <td>0.000000</td>\n",
              "      <td>0.0000</td>\n",
              "    </tr>\n",
              "    <tr>\n",
              "      <th>3827</th>\n",
              "      <td>0.0</td>\n",
              "      <td>0.000000</td>\n",
              "      <td>0.0000</td>\n",
              "    </tr>\n",
              "    <tr>\n",
              "      <th>3828</th>\n",
              "      <td>0.0</td>\n",
              "      <td>0.000000</td>\n",
              "      <td>0.0000</td>\n",
              "    </tr>\n",
              "    <tr>\n",
              "      <th>3829</th>\n",
              "      <td>0.0</td>\n",
              "      <td>0.000000</td>\n",
              "      <td>0.0000</td>\n",
              "    </tr>\n",
              "    <tr>\n",
              "      <th>3830</th>\n",
              "      <td>0.0</td>\n",
              "      <td>0.000000</td>\n",
              "      <td>0.0000</td>\n",
              "    </tr>\n",
              "    <tr>\n",
              "      <th>3831</th>\n",
              "      <td>0.0</td>\n",
              "      <td>0.000000</td>\n",
              "      <td>0.0000</td>\n",
              "    </tr>\n",
              "    <tr>\n",
              "      <th>3832</th>\n",
              "      <td>0.0</td>\n",
              "      <td>0.000000</td>\n",
              "      <td>0.0000</td>\n",
              "    </tr>\n",
              "    <tr>\n",
              "      <th>3833</th>\n",
              "      <td>0.0</td>\n",
              "      <td>0.000000</td>\n",
              "      <td>0.0000</td>\n",
              "    </tr>\n",
              "    <tr>\n",
              "      <th>3834</th>\n",
              "      <td>0.0</td>\n",
              "      <td>0.000000</td>\n",
              "      <td>0.0000</td>\n",
              "    </tr>\n",
              "    <tr>\n",
              "      <th>3835</th>\n",
              "      <td>0.0</td>\n",
              "      <td>0.000000</td>\n",
              "      <td>0.0000</td>\n",
              "    </tr>\n",
              "    <tr>\n",
              "      <th>3836</th>\n",
              "      <td>1.0</td>\n",
              "      <td>0.142857</td>\n",
              "      <td>0.4643</td>\n",
              "    </tr>\n",
              "    <tr>\n",
              "      <th>3837</th>\n",
              "      <td>4.0</td>\n",
              "      <td>0.714286</td>\n",
              "      <td>2.2143</td>\n",
              "    </tr>\n",
              "    <tr>\n",
              "      <th>3838</th>\n",
              "      <td>2.0</td>\n",
              "      <td>1.000000</td>\n",
              "      <td>2.6071</td>\n",
              "    </tr>\n",
              "    <tr>\n",
              "      <th>3839</th>\n",
              "      <td>4.0</td>\n",
              "      <td>1.571429</td>\n",
              "      <td>3.7143</td>\n",
              "    </tr>\n",
              "    <tr>\n",
              "      <th>3840</th>\n",
              "      <td>14.0</td>\n",
              "      <td>3.571429</td>\n",
              "      <td>9.0357</td>\n",
              "    </tr>\n",
              "    <tr>\n",
              "      <th>3841</th>\n",
              "      <td>6.0</td>\n",
              "      <td>4.428571</td>\n",
              "      <td>9.1429</td>\n",
              "    </tr>\n",
              "    <tr>\n",
              "      <th>3842</th>\n",
              "      <td>23.0</td>\n",
              "      <td>7.714286</td>\n",
              "      <td>16.5000</td>\n",
              "    </tr>\n",
              "  </tbody>\n",
              "</table>\n",
              "</div>"
            ],
            "text/plain": [
              "      new_deaths  new_deaths_7d  new_deaths_7s\n",
              "3823         0.0       0.000000         0.0000\n",
              "3824         0.0       0.000000         0.0000\n",
              "3825         0.0       0.000000         0.0000\n",
              "3826         0.0       0.000000         0.0000\n",
              "3827         0.0       0.000000         0.0000\n",
              "3828         0.0       0.000000         0.0000\n",
              "3829         0.0       0.000000         0.0000\n",
              "3830         0.0       0.000000         0.0000\n",
              "3831         0.0       0.000000         0.0000\n",
              "3832         0.0       0.000000         0.0000\n",
              "3833         0.0       0.000000         0.0000\n",
              "3834         0.0       0.000000         0.0000\n",
              "3835         0.0       0.000000         0.0000\n",
              "3836         1.0       0.142857         0.4643\n",
              "3837         4.0       0.714286         2.2143\n",
              "3838         2.0       1.000000         2.6071\n",
              "3839         4.0       1.571429         3.7143\n",
              "3840        14.0       3.571429         9.0357\n",
              "3841         6.0       4.428571         9.1429\n",
              "3842        23.0       7.714286        16.5000"
            ]
          },
          "metadata": {
            "tags": []
          },
          "execution_count": 194
        }
      ]
    },
    {
      "cell_type": "code",
      "metadata": {
        "id": "4VPx3svUi1hF",
        "colab_type": "code",
        "colab": {}
      },
      "source": [
        "df['days'] = ((df['date'] - df['date'].min()) / np.timedelta64(1, 'D')).astype('int')"
      ],
      "execution_count": 195,
      "outputs": []
    },
    {
      "cell_type": "code",
      "metadata": {
        "id": "YdaorLP6i1hH",
        "colab_type": "code",
        "colab": {
          "base_uri": "https://localhost:8080/",
          "height": 71
        },
        "outputId": "547996ca-4dca-4af5-ed23-c4c0e995d7ea"
      },
      "source": [
        "import seaborn as sns\n",
        "import matplotlib.pyplot as plt"
      ],
      "execution_count": 138,
      "outputs": [
        {
          "output_type": "stream",
          "text": [
            "/usr/local/lib/python3.6/dist-packages/statsmodels/tools/_testing.py:19: FutureWarning: pandas.util.testing is deprecated. Use the functions in the public API at pandas.testing instead.\n",
            "  import pandas.util.testing as tm\n"
          ],
          "name": "stderr"
        }
      ]
    },
    {
      "cell_type": "code",
      "metadata": {
        "id": "OlUxO9y66qNj",
        "colab_type": "code",
        "colab": {
          "base_uri": "https://localhost:8080/",
          "height": 282
        },
        "outputId": "e98da91e-c025-446e-9e74-613b1611c0f9"
      },
      "source": [
        "county = 'Los Angeles'\n",
        "plt.plot('days', 'cases', data=df[df['county'] == county], color='gray')\n",
        "plt.plot('days', 'cases_7d', data=df[df['county'] == county], color='blue')\n",
        "plt.plot('days', 'cases_7s', data=df[df['county'] == county], color='red')"
      ],
      "execution_count": 199,
      "outputs": [
        {
          "output_type": "execute_result",
          "data": {
            "text/plain": [
              "[<matplotlib.lines.Line2D at 0x7fb18fef7e48>]"
            ]
          },
          "metadata": {
            "tags": []
          },
          "execution_count": 199
        },
        {
          "output_type": "display_data",
          "data": {
            "image/png": "[encoded data removed]",
            "text/plain": [
              "<Figure size 432x288 with 1 Axes>"
            ]
          },
          "metadata": {
            "tags": [],
            "needs_background": "light"
          }
        }
      ]
    },
    {
      "cell_type": "code",
      "metadata": {
        "id": "ge2rEhvywyax",
        "colab_type": "code",
        "colab": {
          "base_uri": "https://localhost:8080/",
          "height": 282
        },
        "outputId": "666fae4d-aedb-4dad-9424-81950b360e1b"
      },
      "source": [
        "plt.plot('days', 'new_cases', data=df[df['county'] == county], color='gray')\n",
        "plt.plot('days', 'new_cases_7d', data=df[df['county'] == county], color='blue')\n",
        "plt.plot('days', 'new_cases_7s', data=df[df['county'] == county], color='red')"
      ],
      "execution_count": 200,
      "outputs": [
        {
          "output_type": "execute_result",
          "data": {
            "text/plain": [
              "[<matplotlib.lines.Line2D at 0x7fb18fef7b00>]"
            ]
          },
          "metadata": {
            "tags": []
          },
          "execution_count": 200
        },
        {
          "output_type": "display_data",
          "data": {
            "image/png": "[encoded data removed]",
            "text/plain": [
              "<Figure size 432x288 with 1 Axes>"
            ]
          },
          "metadata": {
            "tags": [],
            "needs_background": "light"
          }
        }
      ]
    },
    {
      "cell_type": "code",
      "metadata": {
        "id": "WwZIkw28i1hK",
        "colab_type": "code",
        "colab": {
          "base_uri": "https://localhost:8080/",
          "height": 282
        },
        "outputId": "ab47d0c2-fb16-45c8-ff44-b39aaa7dfc34"
      },
      "source": [
        "plt.plot('days', 'delta_new_cases', data=df[df['fips'] == 'nyc'], color='gray')\n",
        "plt.plot('days', 'delta_new_cases_7d', data=df[df['fips'] == 'nyc'], color='blue')\n",
        "plt.plot('days', 'delta_new_cases_7s', data=df[df['fips'] == 'nyc'], color='red')"
      ],
      "execution_count": 197,
      "outputs": [
        {
          "output_type": "execute_result",
          "data": {
            "text/plain": [
              "[<matplotlib.lines.Line2D at 0x7fb19004ef98>]"
            ]
          },
          "metadata": {
            "tags": []
          },
          "execution_count": 197
        },
        {
          "output_type": "display_data",
          "data": {
            "image/png": "[encoded data removed]",
            "text/plain": [
              "<Figure size 432x288 with 1 Axes>"
            ]
          },
          "metadata": {
            "tags": [],
            "needs_background": "light"
          }
        }
      ]
    },
    {
      "cell_type": "code",
      "metadata": {
        "id": "uW5-BvyUi1hM",
        "colab_type": "code",
        "colab": {}
      },
      "source": [
        "df6.to_csv('data/df-1.csv', index=False)"
      ],
      "execution_count": null,
      "outputs": []
    },
    {
      "cell_type": "code",
      "metadata": {
        "id": "887bpb7pi1hO",
        "colab_type": "code",
        "colab": {},
        "outputId": "f89ef020-51fb-47a8-a2b8-64f2eaf5a3e7"
      },
      "source": [
        "plt.plot('days', 'cases', data=df[df['county'] == 'New York City'], color='gray')\n",
        "plt.plot('days', 'cases_7d', data=df[df['county'] == 'New York City'], color='red')"
      ],
      "execution_count": null,
      "outputs": [
        {
          "output_type": "execute_result",
          "data": {
            "text/plain": [
              "[<matplotlib.lines.Line2D at 0x200161b92c8>]"
            ]
          },
          "metadata": {
            "tags": []
          },
          "execution_count": 57
        },
        {
          "output_type": "display_data",
          "data": {
            "image/png": "[encoded data removed]",
            "text/plain": [
              "<Figure size 432x288 with 1 Axes>"
            ]
          },
          "metadata": {
            "tags": [],
            "needs_background": "light"
          }
        }
      ]
    },
    {
      "cell_type": "code",
      "metadata": {
        "id": "-Nzym_In8jOa",
        "colab_type": "code",
        "colab": {
          "base_uri": "https://localhost:8080/",
          "height": 221
        },
        "outputId": "f20e9c99-82a7-4ee4-ddc8-16f1295b8274"
      },
      "source": [
        "df[df['county'] == 'New York City']['new_cases'].cumsum()"
      ],
      "execution_count": 202,
      "outputs": [
        {
          "output_type": "execute_result",
          "data": {
            "text/plain": [
              "3823         0.0\n",
              "3824         0.0\n",
              "3825         1.0\n",
              "3826         1.0\n",
              "3827         3.0\n",
              "          ...   \n",
              "3955    223381.0\n",
              "3956    223724.0\n",
              "3957    223976.0\n",
              "3958    224292.0\n",
              "3959    224661.0\n",
              "Name: new_cases, Length: 137, dtype: float64"
            ]
          },
          "metadata": {
            "tags": []
          },
          "execution_count": 202
        }
      ]
    },
    {
      "cell_type": "code",
      "metadata": {
        "id": "KogCT817i1hR",
        "colab_type": "code",
        "colab": {
          "base_uri": "https://localhost:8080/",
          "height": 221
        },
        "outputId": "8988f728-54fb-405b-f1d0-8567db2b17e5"
      },
      "source": [
        "df[df['county'] == 'New York City']['new_cases_7s'].cumsum()"
      ],
      "execution_count": 201,
      "outputs": [
        {
          "output_type": "execute_result",
          "data": {
            "text/plain": [
              "3823         0.0000\n",
              "3824         1.0000\n",
              "3825         1.8333\n",
              "3826         2.1000\n",
              "3827         3.4000\n",
              "           ...     \n",
              "3955    223349.6429\n",
              "3956    223693.0358\n",
              "3957    223999.7144\n",
              "3958    224306.9287\n",
              "3959    224638.7858\n",
              "Name: new_cases_7s, Length: 137, dtype: float64"
            ]
          },
          "metadata": {
            "tags": []
          },
          "execution_count": 201
        }
      ]
    },
    {
      "cell_type": "code",
      "metadata": {
        "id": "Brx1gRU_8xU6",
        "colab_type": "code",
        "colab": {}
      },
      "source": [
        "from scipy.interpolate import UnivariateSpline\n",
        "from scipy.signal import savgol_filter"
      ],
      "execution_count": 233,
      "outputs": []
    },
    {
      "cell_type": "code",
      "metadata": {
        "id": "NxI1gYiQi1hT",
        "colab_type": "code",
        "colab": {
          "base_uri": "https://localhost:8080/",
          "height": 282
        },
        "outputId": "bcacd31f-8918-4ba9-ed19-945957cdc0bc"
      },
      "source": [
        "# https://stackoverflow.com/a/42648353\n",
        "\n"
      ],
      "execution_count": 237,
      "outputs": [
        {
          "output_type": "execute_result",
          "data": {
            "text/plain": [
              "[<matplotlib.lines.Line2D at 0x7fb18f581198>]"
            ]
          },
          "metadata": {
            "tags": []
          },
          "execution_count": 237
        },
        {
          "output_type": "display_data",
          "data": {
            "image/png": "[encoded data removed]",
            "text/plain": [
              "<Figure size 432x288 with 1 Axes>"
            ]
          },
          "metadata": {
            "tags": [],
            "needs_background": "light"
          }
        }
      ]
    },
    {
      "cell_type": "code",
      "metadata": {
        "id": "9aaCTZ5U-oy3",
        "colab_type": "code",
        "colab": {
          "base_uri": "https://localhost:8080/",
          "height": 34
        },
        "outputId": "e10b236b-e2f7-4f37-96a4-a5c20548885d"
      },
      "source": [
        "x.max()"
      ],
      "execution_count": 216,
      "outputs": [
        {
          "output_type": "execute_result",
          "data": {
            "text/plain": [
              "176"
            ]
          },
          "metadata": {
            "tags": []
          },
          "execution_count": 216
        }
      ]
    },
    {
      "cell_type": "code",
      "metadata": {
        "id": "KzIZr-7483wO",
        "colab_type": "code",
        "colab": {
          "base_uri": "https://localhost:8080/",
          "height": 282
        },
        "outputId": "02361cf1-7180-4132-beb3-ed8c71de9c4e"
      },
      "source": [
        "x = df[df['county']==county]['days'].values\n",
        "y = df[df['county']==county]['cases'].values\n",
        "plt.plot(x, y, color='gray')\n",
        "plt.plot(x, savgol_filter(y, 7, 1), color='red')\n",
        "plt.figure(figsize=(15, 10))\n",
        "plt.show()"
      ],
      "execution_count": 245,
      "outputs": [
        {
          "output_type": "display_data",
          "data": {
            "image/png": "[encoded data removed]",
            "text/plain": [
              "<Figure size 432x288 with 1 Axes>"
            ]
          },
          "metadata": {
            "tags": [],
            "needs_background": "light"
          }
        },
        {
          "output_type": "display_data",
          "data": {
            "text/plain": [
              "<Figure size 1080x720 with 0 Axes>"
            ]
          },
          "metadata": {
            "tags": []
          }
        }
      ]
    },
    {
      "cell_type": "code",
      "metadata": {
        "id": "qN6mlUsS9CDL",
        "colab_type": "code",
        "colab": {}
      },
      "source": [
        ""
      ],
      "execution_count": null,
      "outputs": []
    }
  ]
}