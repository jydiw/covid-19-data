{
 "cells": [
  {
   "cell_type": "markdown",
   "metadata": {
    "colab_type": "text",
    "id": "view-in-github"
   },
   "source": [
    "<a href=\"https://colab.research.google.com/github/jydiw/nyt-covid-19-data/blob/master/nyt_covid_data_county.ipynb\" target=\"_parent\"><img src=\"https://colab.research.google.com/assets/colab-badge.svg\" alt=\"Open In Colab\"/></a>"
   ]
  },
  {
   "cell_type": "markdown",
   "metadata": {
    "colab_type": "text",
    "id": "-m8i-QZVfK53"
   },
   "source": [
    "# NYTimes COVID-19 EDA and `pandas` Optimization"
   ]
  },
  {
   "cell_type": "code",
   "execution_count": 1,
   "metadata": {
    "colab": {
     "base_uri": "https://localhost:8080/",
     "height": 71
    },
    "colab_type": "code",
    "id": "fQtYdlN2CywI",
    "outputId": "989ca066-db11-4c23-eb3e-83370564b37e"
   },
   "outputs": [],
   "source": [
    "import numpy as np\n",
    "import pandas as pd\n",
    "\n",
    "from urllib.request import urlopen\n",
    "import json\n",
    "\n",
    "import itertools\n",
    "\n",
    "from time import time\n",
    "from datetime import datetime, timedelta\n",
    "\n",
    "from shapely.geometry import Polygon"
   ]
  },
  {
   "cell_type": "markdown",
   "metadata": {
    "colab_type": "text",
    "id": "Pjr_s8ejfK6R"
   },
   "source": [
    "# import nytimes data\n",
    "\n",
    "New York Times data has a few caveats, including treating New York City, Kansas City, and Joplin as single entities rather than including them in their respective counties. Read their [README](https://github.com/nytimes/covid-19-data/blob/master/README.md) for more information."
   ]
  },
  {
   "cell_type": "code",
   "execution_count": 2,
   "metadata": {
    "colab": {},
    "colab_type": "code",
    "id": "k8JrBDueDDks"
   },
   "outputs": [
    {
     "data": {
      "text/html": [
       "<div>\n",
       "<style scoped>\n",
       "    .dataframe tbody tr th:only-of-type {\n",
       "        vertical-align: middle;\n",
       "    }\n",
       "\n",
       "    .dataframe tbody tr th {\n",
       "        vertical-align: top;\n",
       "    }\n",
       "\n",
       "    .dataframe thead th {\n",
       "        text-align: right;\n",
       "    }\n",
       "</style>\n",
       "<table border=\"1\" class=\"dataframe\">\n",
       "  <thead>\n",
       "    <tr style=\"text-align: right;\">\n",
       "      <th></th>\n",
       "      <th>date</th>\n",
       "      <th>county</th>\n",
       "      <th>state</th>\n",
       "      <th>fips</th>\n",
       "      <th>cases</th>\n",
       "      <th>deaths</th>\n",
       "    </tr>\n",
       "  </thead>\n",
       "  <tbody>\n",
       "    <tr>\n",
       "      <th>0</th>\n",
       "      <td>2020-01-21</td>\n",
       "      <td>Snohomish</td>\n",
       "      <td>Washington</td>\n",
       "      <td>53061.0</td>\n",
       "      <td>1</td>\n",
       "      <td>0</td>\n",
       "    </tr>\n",
       "    <tr>\n",
       "      <th>1</th>\n",
       "      <td>2020-01-22</td>\n",
       "      <td>Snohomish</td>\n",
       "      <td>Washington</td>\n",
       "      <td>53061.0</td>\n",
       "      <td>1</td>\n",
       "      <td>0</td>\n",
       "    </tr>\n",
       "    <tr>\n",
       "      <th>2</th>\n",
       "      <td>2020-01-23</td>\n",
       "      <td>Snohomish</td>\n",
       "      <td>Washington</td>\n",
       "      <td>53061.0</td>\n",
       "      <td>1</td>\n",
       "      <td>0</td>\n",
       "    </tr>\n",
       "    <tr>\n",
       "      <th>3</th>\n",
       "      <td>2020-01-24</td>\n",
       "      <td>Cook</td>\n",
       "      <td>Illinois</td>\n",
       "      <td>17031.0</td>\n",
       "      <td>1</td>\n",
       "      <td>0</td>\n",
       "    </tr>\n",
       "    <tr>\n",
       "      <th>4</th>\n",
       "      <td>2020-01-24</td>\n",
       "      <td>Snohomish</td>\n",
       "      <td>Washington</td>\n",
       "      <td>53061.0</td>\n",
       "      <td>1</td>\n",
       "      <td>0</td>\n",
       "    </tr>\n",
       "  </tbody>\n",
       "</table>\n",
       "</div>"
      ],
      "text/plain": [
       "         date     county       state     fips  cases  deaths\n",
       "0  2020-01-21  Snohomish  Washington  53061.0      1       0\n",
       "1  2020-01-22  Snohomish  Washington  53061.0      1       0\n",
       "2  2020-01-23  Snohomish  Washington  53061.0      1       0\n",
       "3  2020-01-24       Cook    Illinois  17031.0      1       0\n",
       "4  2020-01-24  Snohomish  Washington  53061.0      1       0"
      ]
     },
     "execution_count": 2,
     "metadata": {},
     "output_type": "execute_result"
    }
   ],
   "source": [
    "with urlopen('https://raw.githubusercontent.com/nytimes/covid-19-data/master/us-counties.csv') as response:\n",
    "    nyt_df = pd.read_csv(response)\n",
    "nyt_df.head()"
   ]
  },
  {
   "cell_type": "code",
   "execution_count": 3,
   "metadata": {
    "tags": []
   },
   "outputs": [
    {
     "name": "stdout",
     "output_type": "stream",
     "text": [
      "<class 'pandas.core.frame.DataFrame'>\n",
      "RangeIndex: 334375 entries, 0 to 334374\n",
      "Data columns (total 6 columns):\n",
      " #   Column  Non-Null Count   Dtype  \n",
      "---  ------  --------------   -----  \n",
      " 0   date    334375 non-null  object \n",
      " 1   county  334375 non-null  object \n",
      " 2   state   334375 non-null  object \n",
      " 3   fips    330965 non-null  float64\n",
      " 4   cases   334375 non-null  int64  \n",
      " 5   deaths  334375 non-null  int64  \n",
      "dtypes: float64(1), int64(2), object(3)\n",
      "memory usage: 15.3+ MB\n"
     ]
    }
   ],
   "source": [
    "nyt_df.info()"
   ]
  },
  {
   "cell_type": "code",
   "execution_count": 4,
   "metadata": {
    "tags": []
   },
   "outputs": [
    {
     "name": "stdout",
     "output_type": "stream",
     "text": [
      "date\n",
      "176\n",
      "\n",
      "county\n",
      "1900\n",
      "\n",
      "state\n",
      "55\n",
      "\n"
     ]
    }
   ],
   "source": [
    "for col in nyt_df.select_dtypes(include='object').columns:\n",
    "    print(col)\n",
    "    print(len(nyt_df[col].unique()))\n",
    "    print()"
   ]
  },
  {
   "cell_type": "markdown",
   "metadata": {},
   "source": [
    "- `fips` should not be numeric. As we'll see down below, we will have to import this as an object type so that we don't convert `float` values to `str`.\n",
    "- the max for both `cases` and `deaths` is well below the maximum value of `int64`, so we can downcast.\n",
    "- by nature of the data, the `state`-`county` combinations (and therefore `fips`) are far fewer than the number of entries in our dataset. We can change `state`, `county`, and `fips` to the `category` data type.\n",
    "- we should probably change `date` into a `datetime` data type. This gives us some flexibility later.\n",
    "\n",
    "**Why `category`?** The memory of the `object` data type is proportional to its length, whereas for `category` it is proportional to the number of categories plus the length. Given that we have 300k+ rows and only 1814 unique counties, we save memory when converting that column to `category`.\n",
    "\n",
    "https://pandas.pydata.org/pandas-docs/stable/user_guide/categorical.html#memory-usage"
   ]
  },
  {
   "cell_type": "code",
   "execution_count": 5,
   "metadata": {},
   "outputs": [
    {
     "data": {
      "text/html": [
       "<div>\n",
       "<style scoped>\n",
       "    .dataframe tbody tr th:only-of-type {\n",
       "        vertical-align: middle;\n",
       "    }\n",
       "\n",
       "    .dataframe tbody tr th {\n",
       "        vertical-align: top;\n",
       "    }\n",
       "\n",
       "    .dataframe thead th {\n",
       "        text-align: right;\n",
       "    }\n",
       "</style>\n",
       "<table border=\"1\" class=\"dataframe\">\n",
       "  <thead>\n",
       "    <tr style=\"text-align: right;\">\n",
       "      <th></th>\n",
       "      <th>date</th>\n",
       "      <th>county</th>\n",
       "      <th>state</th>\n",
       "      <th>fips</th>\n",
       "      <th>cases</th>\n",
       "      <th>deaths</th>\n",
       "    </tr>\n",
       "  </thead>\n",
       "  <tbody>\n",
       "    <tr>\n",
       "      <th>0</th>\n",
       "      <td>2020-01-21</td>\n",
       "      <td>Snohomish</td>\n",
       "      <td>Washington</td>\n",
       "      <td>53061.0</td>\n",
       "      <td>1</td>\n",
       "      <td>0</td>\n",
       "    </tr>\n",
       "    <tr>\n",
       "      <th>1</th>\n",
       "      <td>2020-01-22</td>\n",
       "      <td>Snohomish</td>\n",
       "      <td>Washington</td>\n",
       "      <td>53061.0</td>\n",
       "      <td>1</td>\n",
       "      <td>0</td>\n",
       "    </tr>\n",
       "    <tr>\n",
       "      <th>2</th>\n",
       "      <td>2020-01-23</td>\n",
       "      <td>Snohomish</td>\n",
       "      <td>Washington</td>\n",
       "      <td>53061.0</td>\n",
       "      <td>1</td>\n",
       "      <td>0</td>\n",
       "    </tr>\n",
       "    <tr>\n",
       "      <th>3</th>\n",
       "      <td>2020-01-24</td>\n",
       "      <td>Cook</td>\n",
       "      <td>Illinois</td>\n",
       "      <td>17031.0</td>\n",
       "      <td>1</td>\n",
       "      <td>0</td>\n",
       "    </tr>\n",
       "    <tr>\n",
       "      <th>4</th>\n",
       "      <td>2020-01-24</td>\n",
       "      <td>Snohomish</td>\n",
       "      <td>Washington</td>\n",
       "      <td>53061.0</td>\n",
       "      <td>1</td>\n",
       "      <td>0</td>\n",
       "    </tr>\n",
       "  </tbody>\n",
       "</table>\n",
       "</div>"
      ],
      "text/plain": [
       "        date     county       state     fips  cases  deaths\n",
       "0 2020-01-21  Snohomish  Washington  53061.0      1       0\n",
       "1 2020-01-22  Snohomish  Washington  53061.0      1       0\n",
       "2 2020-01-23  Snohomish  Washington  53061.0      1       0\n",
       "3 2020-01-24       Cook    Illinois  17031.0      1       0\n",
       "4 2020-01-24  Snohomish  Washington  53061.0      1       0"
      ]
     },
     "execution_count": 5,
     "metadata": {},
     "output_type": "execute_result"
    }
   ],
   "source": [
    "nyt_df['fips'] = nyt_df['fips'].astype('category')   # doesn't work as intended\n",
    "nyt_df['cases'] = pd.to_numeric(nyt_df['cases'], downcast='integer')\n",
    "nyt_df['deaths'] = pd.to_numeric(nyt_df['deaths'], downcast='integer')\n",
    "nyt_df['state'] = nyt_df['state'].astype('category')\n",
    "nyt_df['county'] = nyt_df['county'].astype('category')\n",
    "nyt_df['date'] = pd.to_datetime(nyt_df['date'])\n",
    "nyt_df.head()"
   ]
  },
  {
   "cell_type": "code",
   "execution_count": 6,
   "metadata": {
    "tags": []
   },
   "outputs": [
    {
     "name": "stdout",
     "output_type": "stream",
     "text": [
      "<class 'pandas.core.frame.DataFrame'>\n",
      "RangeIndex: 334375 entries, 0 to 334374\n",
      "Data columns (total 6 columns):\n",
      " #   Column  Non-Null Count   Dtype         \n",
      "---  ------  --------------   -----         \n",
      " 0   date    334375 non-null  datetime64[ns]\n",
      " 1   county  334375 non-null  category      \n",
      " 2   state   334375 non-null  category      \n",
      " 3   fips    330965 non-null  category      \n",
      " 4   cases   334375 non-null  int32         \n",
      " 5   deaths  334375 non-null  int16         \n",
      "dtypes: category(3), datetime64[ns](1), int16(1), int32(1)\n",
      "memory usage: 6.3 MB\n"
     ]
    }
   ],
   "source": [
    "nyt_df.info()"
   ]
  },
  {
   "cell_type": "markdown",
   "metadata": {},
   "source": [
    "We reduce our memory usage by over half. While we were not using an absolute large amount of memory prior to optimization, it's good practice to optimize your code.\n",
    "\n",
    "Combining into one function:"
   ]
  },
  {
   "cell_type": "code",
   "execution_count": 7,
   "metadata": {},
   "outputs": [],
   "source": [
    "def optimize(df):\n",
    "    '''\n",
    "    Optimizes the data types in a pandas dataframe.\n",
    "    '''\n",
    "    dft = df.copy()\n",
    "    # converts to datetime if possible\n",
    "    dft = dft.apply(lambda col: pd.to_datetime(col, errors='ignore') if col.dtypes=='object' else col)\n",
    "    # if there are less than half as many unique values as there are rows, convert to category\n",
    "    for col in dft.select_dtypes(include='object'):\n",
    "        if len(dft[col].unique()) / len(df[col]) < 0.5:\n",
    "            dft[col] = dft[col].astype('category')\n",
    "    # downcasts numeric columns if possible\n",
    "    dft = dft.apply(lambda col: pd.to_numeric(col, downcast='integer') if col.dtypes=='int64' else col)\n",
    "    dft = dft.apply(lambda col: pd.to_numeric(col, downcast='float') if col.dtypes=='float64' else col)\n",
    "    return dft"
   ]
  },
  {
   "cell_type": "code",
   "execution_count": 8,
   "metadata": {},
   "outputs": [
    {
     "data": {
      "text/html": [
       "<div>\n",
       "<style scoped>\n",
       "    .dataframe tbody tr th:only-of-type {\n",
       "        vertical-align: middle;\n",
       "    }\n",
       "\n",
       "    .dataframe tbody tr th {\n",
       "        vertical-align: top;\n",
       "    }\n",
       "\n",
       "    .dataframe thead th {\n",
       "        text-align: right;\n",
       "    }\n",
       "</style>\n",
       "<table border=\"1\" class=\"dataframe\">\n",
       "  <thead>\n",
       "    <tr style=\"text-align: right;\">\n",
       "      <th></th>\n",
       "      <th>date</th>\n",
       "      <th>county</th>\n",
       "      <th>state</th>\n",
       "      <th>fips</th>\n",
       "      <th>cases</th>\n",
       "      <th>deaths</th>\n",
       "    </tr>\n",
       "  </thead>\n",
       "  <tbody>\n",
       "    <tr>\n",
       "      <th>0</th>\n",
       "      <td>2020-01-21</td>\n",
       "      <td>Snohomish</td>\n",
       "      <td>Washington</td>\n",
       "      <td>53061</td>\n",
       "      <td>1</td>\n",
       "      <td>0</td>\n",
       "    </tr>\n",
       "    <tr>\n",
       "      <th>1</th>\n",
       "      <td>2020-01-22</td>\n",
       "      <td>Snohomish</td>\n",
       "      <td>Washington</td>\n",
       "      <td>53061</td>\n",
       "      <td>1</td>\n",
       "      <td>0</td>\n",
       "    </tr>\n",
       "    <tr>\n",
       "      <th>2</th>\n",
       "      <td>2020-01-23</td>\n",
       "      <td>Snohomish</td>\n",
       "      <td>Washington</td>\n",
       "      <td>53061</td>\n",
       "      <td>1</td>\n",
       "      <td>0</td>\n",
       "    </tr>\n",
       "    <tr>\n",
       "      <th>3</th>\n",
       "      <td>2020-01-24</td>\n",
       "      <td>Cook</td>\n",
       "      <td>Illinois</td>\n",
       "      <td>17031</td>\n",
       "      <td>1</td>\n",
       "      <td>0</td>\n",
       "    </tr>\n",
       "    <tr>\n",
       "      <th>4</th>\n",
       "      <td>2020-01-24</td>\n",
       "      <td>Snohomish</td>\n",
       "      <td>Washington</td>\n",
       "      <td>53061</td>\n",
       "      <td>1</td>\n",
       "      <td>0</td>\n",
       "    </tr>\n",
       "  </tbody>\n",
       "</table>\n",
       "</div>"
      ],
      "text/plain": [
       "        date     county       state   fips  cases  deaths\n",
       "0 2020-01-21  Snohomish  Washington  53061      1       0\n",
       "1 2020-01-22  Snohomish  Washington  53061      1       0\n",
       "2 2020-01-23  Snohomish  Washington  53061      1       0\n",
       "3 2020-01-24       Cook    Illinois  17031      1       0\n",
       "4 2020-01-24  Snohomish  Washington  53061      1       0"
      ]
     },
     "execution_count": 8,
     "metadata": {},
     "output_type": "execute_result"
    }
   ],
   "source": [
    "with urlopen('https://raw.githubusercontent.com/nytimes/covid-19-data/master/us-counties.csv') as response:\n",
    "    nyt_df = optimize(pd.read_csv(response, dtype={'fips':'str'}))\n",
    "nyt_df.head()"
   ]
  },
  {
   "cell_type": "code",
   "execution_count": 9,
   "metadata": {
    "tags": []
   },
   "outputs": [
    {
     "name": "stdout",
     "output_type": "stream",
     "text": [
      "<class 'pandas.core.frame.DataFrame'>\n",
      "RangeIndex: 334375 entries, 0 to 334374\n",
      "Data columns (total 6 columns):\n",
      " #   Column  Non-Null Count   Dtype         \n",
      "---  ------  --------------   -----         \n",
      " 0   date    334375 non-null  datetime64[ns]\n",
      " 1   county  334375 non-null  category      \n",
      " 2   state   334375 non-null  category      \n",
      " 3   fips    330965 non-null  category      \n",
      " 4   cases   334375 non-null  int32         \n",
      " 5   deaths  334375 non-null  int16         \n",
      "dtypes: category(3), datetime64[ns](1), int16(1), int32(1)\n",
      "memory usage: 6.3 MB\n"
     ]
    }
   ],
   "source": [
    "nyt_df.info()"
   ]
  },
  {
   "cell_type": "markdown",
   "metadata": {
    "colab_type": "text",
    "id": "J39gYq9cfK6H"
   },
   "source": [
    "# import census and GeoJSON data"
   ]
  },
  {
   "cell_type": "code",
   "execution_count": 10,
   "metadata": {},
   "outputs": [
    {
     "data": {
      "text/html": [
       "<div>\n",
       "<style scoped>\n",
       "    .dataframe tbody tr th:only-of-type {\n",
       "        vertical-align: middle;\n",
       "    }\n",
       "\n",
       "    .dataframe tbody tr th {\n",
       "        vertical-align: top;\n",
       "    }\n",
       "\n",
       "    .dataframe thead th {\n",
       "        text-align: right;\n",
       "    }\n",
       "</style>\n",
       "<table border=\"1\" class=\"dataframe\">\n",
       "  <thead>\n",
       "    <tr style=\"text-align: right;\">\n",
       "      <th></th>\n",
       "      <th>state</th>\n",
       "      <th>county</th>\n",
       "      <th>population</th>\n",
       "      <th>fips</th>\n",
       "      <th>area</th>\n",
       "      <th>lon</th>\n",
       "      <th>lat</th>\n",
       "      <th>pop_per_area</th>\n",
       "    </tr>\n",
       "  </thead>\n",
       "  <tbody>\n",
       "    <tr>\n",
       "      <th>0</th>\n",
       "      <td>Alabama</td>\n",
       "      <td>Autauga</td>\n",
       "      <td>55869</td>\n",
       "      <td>01001</td>\n",
       "      <td>594.436</td>\n",
       "      <td>-86.641200</td>\n",
       "      <td>32.536150</td>\n",
       "      <td>93.986573</td>\n",
       "    </tr>\n",
       "    <tr>\n",
       "      <th>1</th>\n",
       "      <td>Alabama</td>\n",
       "      <td>Baldwin</td>\n",
       "      <td>223234</td>\n",
       "      <td>01003</td>\n",
       "      <td>1589.784</td>\n",
       "      <td>-87.723950</td>\n",
       "      <td>30.725863</td>\n",
       "      <td>140.417813</td>\n",
       "    </tr>\n",
       "    <tr>\n",
       "      <th>2</th>\n",
       "      <td>Alabama</td>\n",
       "      <td>Barbour</td>\n",
       "      <td>24686</td>\n",
       "      <td>01005</td>\n",
       "      <td>884.876</td>\n",
       "      <td>-85.389244</td>\n",
       "      <td>31.867890</td>\n",
       "      <td>27.897695</td>\n",
       "    </tr>\n",
       "    <tr>\n",
       "      <th>3</th>\n",
       "      <td>Alabama</td>\n",
       "      <td>Bibb</td>\n",
       "      <td>22394</td>\n",
       "      <td>01007</td>\n",
       "      <td>622.582</td>\n",
       "      <td>-87.124960</td>\n",
       "      <td>32.996456</td>\n",
       "      <td>35.969561</td>\n",
       "    </tr>\n",
       "    <tr>\n",
       "      <th>4</th>\n",
       "      <td>Alabama</td>\n",
       "      <td>Blount</td>\n",
       "      <td>57826</td>\n",
       "      <td>01009</td>\n",
       "      <td>644.776</td>\n",
       "      <td>-86.569756</td>\n",
       "      <td>33.985250</td>\n",
       "      <td>89.683859</td>\n",
       "    </tr>\n",
       "  </tbody>\n",
       "</table>\n",
       "</div>"
      ],
      "text/plain": [
       "     state   county  population   fips      area        lon        lat  \\\n",
       "0  Alabama  Autauga       55869  01001   594.436 -86.641200  32.536150   \n",
       "1  Alabama  Baldwin      223234  01003  1589.784 -87.723950  30.725863   \n",
       "2  Alabama  Barbour       24686  01005   884.876 -85.389244  31.867890   \n",
       "3  Alabama     Bibb       22394  01007   622.582 -87.124960  32.996456   \n",
       "4  Alabama   Blount       57826  01009   644.776 -86.569756  33.985250   \n",
       "\n",
       "   pop_per_area  \n",
       "0     93.986573  \n",
       "1    140.417813  \n",
       "2     27.897695  \n",
       "3     35.969561  \n",
       "4     89.683859  "
      ]
     },
     "execution_count": 10,
     "metadata": {},
     "output_type": "execute_result"
    }
   ],
   "source": [
    "pop_df = pd.read_csv('data/pop_df.csv')\n",
    "pop_df.head()"
   ]
  },
  {
   "cell_type": "code",
   "execution_count": 11,
   "metadata": {},
   "outputs": [
    {
     "data": {
      "text/plain": [
       "['Catano',\n",
       " 'Tinian',\n",
       " 'Canovanas',\n",
       " 'Saipan',\n",
       " 'Anasco',\n",
       " 'Bayamon',\n",
       " 'Loiza',\n",
       " 'Rincon',\n",
       " 'San Sebastian',\n",
       " 'San German',\n",
       " 'Comerio',\n",
       " 'Penuelas',\n",
       " 'Juana Diaz',\n",
       " 'Mayaguez',\n",
       " 'Manati',\n",
       " 'Guanica',\n",
       " 'Las Marias']"
      ]
     },
     "execution_count": 11,
     "metadata": {},
     "output_type": "execute_result"
    }
   ],
   "source": [
    "nyt_df = nyt_df[nyt_df['county'] != 'Unknown']\n",
    "list(set(nyt_df['county']) - set(pop_df['county']))"
   ]
  },
  {
   "cell_type": "markdown",
   "metadata": {},
   "source": [
    "We will deal with diacritical discrepancies in the `merge`."
   ]
  },
  {
   "cell_type": "code",
   "execution_count": 12,
   "metadata": {},
   "outputs": [],
   "source": [
    "nyt_df['fips'] = nyt_df['fips'].astype('object')\n",
    "nyt_df.loc[nyt_df['county'] == 'New York City','fips'] = 'nyc'\n",
    "nyt_df.loc[nyt_df['county'] == 'Kansas City','fips'] = 'kc'\n",
    "nyt_df.loc[nyt_df['county'] == 'Joplin','fips'] = 'jm'\n",
    "nyt_df['fips'] = nyt_df['fips'].astype('category')"
   ]
  },
  {
   "cell_type": "markdown",
   "metadata": {
    "colab_type": "text",
    "id": "Ku-XanaCfK7R"
   },
   "source": [
    "# merge `nyt_df` and `pop_df` for feature engineering"
   ]
  },
  {
   "cell_type": "code",
   "execution_count": 45,
   "metadata": {
    "tags": []
   },
   "outputs": [
    {
     "name": "stdout",
     "output_type": "stream",
     "text": [
      "0.3011949062347412\n"
     ]
    },
    {
     "data": {
      "text/html": [
       "<div>\n",
       "<style scoped>\n",
       "    .dataframe tbody tr th:only-of-type {\n",
       "        vertical-align: middle;\n",
       "    }\n",
       "\n",
       "    .dataframe tbody tr th {\n",
       "        vertical-align: top;\n",
       "    }\n",
       "\n",
       "    .dataframe thead th {\n",
       "        text-align: right;\n",
       "    }\n",
       "</style>\n",
       "<table border=\"1\" class=\"dataframe\">\n",
       "  <thead>\n",
       "    <tr style=\"text-align: right;\">\n",
       "      <th></th>\n",
       "      <th>date</th>\n",
       "      <th>fips</th>\n",
       "      <th>cases</th>\n",
       "      <th>deaths</th>\n",
       "      <th>state</th>\n",
       "      <th>county</th>\n",
       "      <th>population</th>\n",
       "      <th>area</th>\n",
       "      <th>lon</th>\n",
       "      <th>lat</th>\n",
       "      <th>pop_per_area</th>\n",
       "      <th>cases_per_100k</th>\n",
       "      <th>deaths_per_100k</th>\n",
       "    </tr>\n",
       "  </thead>\n",
       "  <tbody>\n",
       "    <tr>\n",
       "      <th>0</th>\n",
       "      <td>2020-01-21</td>\n",
       "      <td>53061</td>\n",
       "      <td>1</td>\n",
       "      <td>0</td>\n",
       "      <td>Washington</td>\n",
       "      <td>Snohomish</td>\n",
       "      <td>822083</td>\n",
       "      <td>2087.273</td>\n",
       "      <td>-121.69278</td>\n",
       "      <td>48.046917</td>\n",
       "      <td>393.855054</td>\n",
       "      <td>0.121642</td>\n",
       "      <td>0.0</td>\n",
       "    </tr>\n",
       "    <tr>\n",
       "      <th>1</th>\n",
       "      <td>2020-01-22</td>\n",
       "      <td>53061</td>\n",
       "      <td>1</td>\n",
       "      <td>0</td>\n",
       "      <td>Washington</td>\n",
       "      <td>Snohomish</td>\n",
       "      <td>822083</td>\n",
       "      <td>2087.273</td>\n",
       "      <td>-121.69278</td>\n",
       "      <td>48.046917</td>\n",
       "      <td>393.855054</td>\n",
       "      <td>0.121642</td>\n",
       "      <td>0.0</td>\n",
       "    </tr>\n",
       "    <tr>\n",
       "      <th>2</th>\n",
       "      <td>2020-01-23</td>\n",
       "      <td>53061</td>\n",
       "      <td>1</td>\n",
       "      <td>0</td>\n",
       "      <td>Washington</td>\n",
       "      <td>Snohomish</td>\n",
       "      <td>822083</td>\n",
       "      <td>2087.273</td>\n",
       "      <td>-121.69278</td>\n",
       "      <td>48.046917</td>\n",
       "      <td>393.855054</td>\n",
       "      <td>0.121642</td>\n",
       "      <td>0.0</td>\n",
       "    </tr>\n",
       "    <tr>\n",
       "      <th>176</th>\n",
       "      <td>2020-01-24</td>\n",
       "      <td>17031</td>\n",
       "      <td>1</td>\n",
       "      <td>0</td>\n",
       "      <td>Illinois</td>\n",
       "      <td>Cook</td>\n",
       "      <td>5150233</td>\n",
       "      <td>945.326</td>\n",
       "      <td>-87.81743</td>\n",
       "      <td>41.839622</td>\n",
       "      <td>5448.102624</td>\n",
       "      <td>0.019417</td>\n",
       "      <td>0.0</td>\n",
       "    </tr>\n",
       "    <tr>\n",
       "      <th>3</th>\n",
       "      <td>2020-01-24</td>\n",
       "      <td>53061</td>\n",
       "      <td>1</td>\n",
       "      <td>0</td>\n",
       "      <td>Washington</td>\n",
       "      <td>Snohomish</td>\n",
       "      <td>822083</td>\n",
       "      <td>2087.273</td>\n",
       "      <td>-121.69278</td>\n",
       "      <td>48.046917</td>\n",
       "      <td>393.855054</td>\n",
       "      <td>0.121642</td>\n",
       "      <td>0.0</td>\n",
       "    </tr>\n",
       "  </tbody>\n",
       "</table>\n",
       "</div>"
      ],
      "text/plain": [
       "          date   fips  cases  deaths       state     county  population  \\\n",
       "0   2020-01-21  53061      1       0  Washington  Snohomish      822083   \n",
       "1   2020-01-22  53061      1       0  Washington  Snohomish      822083   \n",
       "2   2020-01-23  53061      1       0  Washington  Snohomish      822083   \n",
       "176 2020-01-24  17031      1       0    Illinois       Cook     5150233   \n",
       "3   2020-01-24  53061      1       0  Washington  Snohomish      822083   \n",
       "\n",
       "         area        lon        lat  pop_per_area  cases_per_100k  \\\n",
       "0    2087.273 -121.69278  48.046917    393.855054        0.121642   \n",
       "1    2087.273 -121.69278  48.046917    393.855054        0.121642   \n",
       "2    2087.273 -121.69278  48.046917    393.855054        0.121642   \n",
       "176   945.326  -87.81743  41.839622   5448.102624        0.019417   \n",
       "3    2087.273 -121.69278  48.046917    393.855054        0.121642   \n",
       "\n",
       "     deaths_per_100k  \n",
       "0                0.0  \n",
       "1                0.0  \n",
       "2                0.0  \n",
       "176              0.0  \n",
       "3                0.0  "
      ]
     },
     "execution_count": 45,
     "metadata": {},
     "output_type": "execute_result"
    }
   ],
   "source": [
    "tick = time()\n",
    "\n",
    "df = nyt_df.merge(pop_df, on='fips', suffixes=('_x','')).drop(['county_x', 'state_x'], axis=1)\n",
    "\n",
    "# person density\n",
    "df[['cases_per_100k', 'deaths_per_100k']] = df[['cases', 'deaths']].div(df['population'], axis=0) * 100_000\n",
    "\n",
    "df = df.sort_values(by=['date', 'fips'])\n",
    "\n",
    "tock = time()\n",
    "print(tock - tick)\n",
    "\n",
    "df.head()"
   ]
  },
  {
   "cell_type": "code",
   "execution_count": 19,
   "metadata": {},
   "outputs": [],
   "source": [
    "df.to_csv('data/df-no-trends.csv', index=False)"
   ]
  },
  {
   "cell_type": "code",
   "execution_count": 43,
   "metadata": {},
   "outputs": [],
   "source": [
    "cols = ['cases', 'deaths', 'cases_per_100k', 'deaths_per_100k']\n",
    "new_cols = ['new_' + c for c in cols]\n",
    "delta_cols = ['delta_' + c for c in new_cols]\n",
    "\n",
    "cols_7d = [c + '_7d' for c in cols]\n",
    "new_cols_7d = ['new_' + c for c in cols_7d]\n",
    "delta_cols_7d = ['delta_' + c for c in new_cols_7d]"
   ]
  },
  {
   "cell_type": "code",
   "execution_count": 53,
   "metadata": {},
   "outputs": [],
   "source": [
    "def add_change_cols(df, cols, pre='new_', clip=True):\n",
    "    df = df.sort_values(by=['date', 'fips'])\n",
    "    new_cols = [pre + c for c in cols]\n",
    "    df[new_cols] = df[cols] - df.groupby(by='fips')[cols].shift()\n",
    "    df[new_cols] = df[new_cols].fillna(0)\n",
    "    if clip:\n",
    "        df[new_cols] = df[new_cols].clip(lower=0)\n",
    "    return (df, new_cols)\n",
    "\n",
    "def add_avg_cols(df, cols, window=7):\n",
    "    df = df.sort_values(by=['date', 'fips'])\n",
    "    cols_d = [c + '_' + str(window) + 'd' for c in cols]\n",
    "    df[cols_d] = df.groupby(by='fips')[cols].apply(lambda x: x.rolling(window, min_periods=1).mean())\n",
    "    return (df, cols_d)"
   ]
  },
  {
   "cell_type": "code",
   "execution_count": 54,
   "metadata": {},
   "outputs": [
    {
     "name": "stdout",
     "output_type": "stream",
     "text": [
      "5.823430061340332\n"
     ]
    },
    {
     "data": {
      "text/html": [
       "<div>\n",
       "<style scoped>\n",
       "    .dataframe tbody tr th:only-of-type {\n",
       "        vertical-align: middle;\n",
       "    }\n",
       "\n",
       "    .dataframe tbody tr th {\n",
       "        vertical-align: top;\n",
       "    }\n",
       "\n",
       "    .dataframe thead th {\n",
       "        text-align: right;\n",
       "    }\n",
       "</style>\n",
       "<table border=\"1\" class=\"dataframe\">\n",
       "  <thead>\n",
       "    <tr style=\"text-align: right;\">\n",
       "      <th></th>\n",
       "      <th>date</th>\n",
       "      <th>fips</th>\n",
       "      <th>cases</th>\n",
       "      <th>deaths</th>\n",
       "      <th>state</th>\n",
       "      <th>county</th>\n",
       "      <th>population</th>\n",
       "      <th>area</th>\n",
       "      <th>lon</th>\n",
       "      <th>lat</th>\n",
       "      <th>...</th>\n",
       "      <th>new_cases_per_100k_7d</th>\n",
       "      <th>new_deaths_per_100k_7d</th>\n",
       "      <th>delta_new_cases</th>\n",
       "      <th>delta_new_deaths</th>\n",
       "      <th>delta_new_cases_per_100k</th>\n",
       "      <th>delta_new_deaths_per_100k</th>\n",
       "      <th>delta_new_cases_7d</th>\n",
       "      <th>delta_new_deaths_7d</th>\n",
       "      <th>delta_new_cases_per_100k_7d</th>\n",
       "      <th>delta_new_deaths_per_100k_7d</th>\n",
       "    </tr>\n",
       "  </thead>\n",
       "  <tbody>\n",
       "    <tr>\n",
       "      <th>0</th>\n",
       "      <td>2020-01-21</td>\n",
       "      <td>53061</td>\n",
       "      <td>1</td>\n",
       "      <td>0</td>\n",
       "      <td>Washington</td>\n",
       "      <td>Snohomish</td>\n",
       "      <td>822083</td>\n",
       "      <td>2087.273</td>\n",
       "      <td>-121.69278</td>\n",
       "      <td>48.046917</td>\n",
       "      <td>...</td>\n",
       "      <td>0.0</td>\n",
       "      <td>0.0</td>\n",
       "      <td>0.0</td>\n",
       "      <td>0.0</td>\n",
       "      <td>0.0</td>\n",
       "      <td>0.0</td>\n",
       "      <td>0.0</td>\n",
       "      <td>0.0</td>\n",
       "      <td>0.0</td>\n",
       "      <td>0.0</td>\n",
       "    </tr>\n",
       "    <tr>\n",
       "      <th>1</th>\n",
       "      <td>2020-01-22</td>\n",
       "      <td>53061</td>\n",
       "      <td>1</td>\n",
       "      <td>0</td>\n",
       "      <td>Washington</td>\n",
       "      <td>Snohomish</td>\n",
       "      <td>822083</td>\n",
       "      <td>2087.273</td>\n",
       "      <td>-121.69278</td>\n",
       "      <td>48.046917</td>\n",
       "      <td>...</td>\n",
       "      <td>0.0</td>\n",
       "      <td>0.0</td>\n",
       "      <td>0.0</td>\n",
       "      <td>0.0</td>\n",
       "      <td>0.0</td>\n",
       "      <td>0.0</td>\n",
       "      <td>0.0</td>\n",
       "      <td>0.0</td>\n",
       "      <td>0.0</td>\n",
       "      <td>0.0</td>\n",
       "    </tr>\n",
       "    <tr>\n",
       "      <th>2</th>\n",
       "      <td>2020-01-23</td>\n",
       "      <td>53061</td>\n",
       "      <td>1</td>\n",
       "      <td>0</td>\n",
       "      <td>Washington</td>\n",
       "      <td>Snohomish</td>\n",
       "      <td>822083</td>\n",
       "      <td>2087.273</td>\n",
       "      <td>-121.69278</td>\n",
       "      <td>48.046917</td>\n",
       "      <td>...</td>\n",
       "      <td>0.0</td>\n",
       "      <td>0.0</td>\n",
       "      <td>0.0</td>\n",
       "      <td>0.0</td>\n",
       "      <td>0.0</td>\n",
       "      <td>0.0</td>\n",
       "      <td>0.0</td>\n",
       "      <td>0.0</td>\n",
       "      <td>0.0</td>\n",
       "      <td>0.0</td>\n",
       "    </tr>\n",
       "    <tr>\n",
       "      <th>176</th>\n",
       "      <td>2020-01-24</td>\n",
       "      <td>17031</td>\n",
       "      <td>1</td>\n",
       "      <td>0</td>\n",
       "      <td>Illinois</td>\n",
       "      <td>Cook</td>\n",
       "      <td>5150233</td>\n",
       "      <td>945.326</td>\n",
       "      <td>-87.81743</td>\n",
       "      <td>41.839622</td>\n",
       "      <td>...</td>\n",
       "      <td>0.0</td>\n",
       "      <td>0.0</td>\n",
       "      <td>0.0</td>\n",
       "      <td>0.0</td>\n",
       "      <td>0.0</td>\n",
       "      <td>0.0</td>\n",
       "      <td>0.0</td>\n",
       "      <td>0.0</td>\n",
       "      <td>0.0</td>\n",
       "      <td>0.0</td>\n",
       "    </tr>\n",
       "    <tr>\n",
       "      <th>3</th>\n",
       "      <td>2020-01-24</td>\n",
       "      <td>53061</td>\n",
       "      <td>1</td>\n",
       "      <td>0</td>\n",
       "      <td>Washington</td>\n",
       "      <td>Snohomish</td>\n",
       "      <td>822083</td>\n",
       "      <td>2087.273</td>\n",
       "      <td>-121.69278</td>\n",
       "      <td>48.046917</td>\n",
       "      <td>...</td>\n",
       "      <td>0.0</td>\n",
       "      <td>0.0</td>\n",
       "      <td>0.0</td>\n",
       "      <td>0.0</td>\n",
       "      <td>0.0</td>\n",
       "      <td>0.0</td>\n",
       "      <td>0.0</td>\n",
       "      <td>0.0</td>\n",
       "      <td>0.0</td>\n",
       "      <td>0.0</td>\n",
       "    </tr>\n",
       "  </tbody>\n",
       "</table>\n",
       "<p>5 rows × 33 columns</p>\n",
       "</div>"
      ],
      "text/plain": [
       "          date   fips  cases  deaths       state     county  population  \\\n",
       "0   2020-01-21  53061      1       0  Washington  Snohomish      822083   \n",
       "1   2020-01-22  53061      1       0  Washington  Snohomish      822083   \n",
       "2   2020-01-23  53061      1       0  Washington  Snohomish      822083   \n",
       "176 2020-01-24  17031      1       0    Illinois       Cook     5150233   \n",
       "3   2020-01-24  53061      1       0  Washington  Snohomish      822083   \n",
       "\n",
       "         area        lon        lat  ...  new_cases_per_100k_7d  \\\n",
       "0    2087.273 -121.69278  48.046917  ...                    0.0   \n",
       "1    2087.273 -121.69278  48.046917  ...                    0.0   \n",
       "2    2087.273 -121.69278  48.046917  ...                    0.0   \n",
       "176   945.326  -87.81743  41.839622  ...                    0.0   \n",
       "3    2087.273 -121.69278  48.046917  ...                    0.0   \n",
       "\n",
       "     new_deaths_per_100k_7d  delta_new_cases  delta_new_deaths  \\\n",
       "0                       0.0              0.0               0.0   \n",
       "1                       0.0              0.0               0.0   \n",
       "2                       0.0              0.0               0.0   \n",
       "176                     0.0              0.0               0.0   \n",
       "3                       0.0              0.0               0.0   \n",
       "\n",
       "     delta_new_cases_per_100k  delta_new_deaths_per_100k  delta_new_cases_7d  \\\n",
       "0                         0.0                        0.0                 0.0   \n",
       "1                         0.0                        0.0                 0.0   \n",
       "2                         0.0                        0.0                 0.0   \n",
       "176                       0.0                        0.0                 0.0   \n",
       "3                         0.0                        0.0                 0.0   \n",
       "\n",
       "     delta_new_deaths_7d  delta_new_cases_per_100k_7d  \\\n",
       "0                    0.0                          0.0   \n",
       "1                    0.0                          0.0   \n",
       "2                    0.0                          0.0   \n",
       "176                  0.0                          0.0   \n",
       "3                    0.0                          0.0   \n",
       "\n",
       "     delta_new_deaths_per_100k_7d  \n",
       "0                             0.0  \n",
       "1                             0.0  \n",
       "2                             0.0  \n",
       "176                           0.0  \n",
       "3                             0.0  \n",
       "\n",
       "[5 rows x 33 columns]"
      ]
     },
     "execution_count": 54,
     "metadata": {},
     "output_type": "execute_result"
    }
   ],
   "source": [
    "ding = time()\n",
    "df, cols_7d = add_avg_cols(df, cols, window=7)\n",
    "df, new_cols = add_change_cols(df, cols, pre='new_', clip=True)\n",
    "df, new_cols_7d = add_change_cols(df, cols_7d, pre='new_', clip=True)\n",
    "df, _ = add_change_cols(df, new_cols, pre='delta_', clip=False)\n",
    "df, _ = add_change_cols(df, new_cols_7d, pre='delta_', clip=False)\n",
    "dong = time()\n",
    "print(dong - ding)\n",
    "df.head()"
   ]
  },
  {
   "cell_type": "code",
   "execution_count": 25,
   "metadata": {},
   "outputs": [],
   "source": [
    "df.to_csv('data/df.csv', index=False)"
   ]
  },
  {
   "cell_type": "markdown",
   "metadata": {},
   "source": [
    "## rolling regression instead of rolling average"
   ]
  },
  {
   "cell_type": "markdown",
   "metadata": {},
   "source": [
    "To do: find a faster way to do this!"
   ]
  },
  {
   "cell_type": "code",
   "execution_count": null,
   "metadata": {},
   "outputs": [],
   "source": [
    "def add_slope_cols(df, cols, window=7):\n",
    "    df = df.sort_values(by=['date', 'fips'])\n",
    "    cols_s = [c + '_' + str(window) + 's' for c in cols]\n",
    "\n",
    "    # https://stackoverflow.com/a/34668038\n",
    "    d = dict.fromkeys(cols_s, 0)\n",
    "    df = df.assign(**d)\n",
    "    \n",
    "    for fips in df['fips'].unique():\n",
    "        dft = df[df['fips'] == fips][cols].values\n",
    "        l = len(dft)\n",
    "        slopes = np.zeros((1, dft.shape[1]))\n",
    "        for i in range(2, window+1):\n",
    "            x = np.arange(i)\n",
    "            y = dft[0:i]\n",
    "            slop\n",
    "        if l >= window:\n",
    "            \n",
    "    return (df, cols_d)"
   ]
  },
  {
   "cell_type": "code",
   "execution_count": 103,
   "metadata": {},
   "outputs": [
    {
     "data": {
      "text/plain": [
       "array([[0., 0., 0., 0.]])"
      ]
     },
     "execution_count": 103,
     "metadata": {},
     "output_type": "execute_result"
    }
   ],
   "source": [
    " np.zeros((1, dft.shape[1]))"
   ]
  },
  {
   "cell_type": "code",
   "execution_count": 69,
   "metadata": {},
   "outputs": [
    {
     "data": {
      "text/html": [
       "<div>\n",
       "<style scoped>\n",
       "    .dataframe tbody tr th:only-of-type {\n",
       "        vertical-align: middle;\n",
       "    }\n",
       "\n",
       "    .dataframe tbody tr th {\n",
       "        vertical-align: top;\n",
       "    }\n",
       "\n",
       "    .dataframe thead th {\n",
       "        text-align: right;\n",
       "    }\n",
       "</style>\n",
       "<table border=\"1\" class=\"dataframe\">\n",
       "  <thead>\n",
       "    <tr style=\"text-align: right;\">\n",
       "      <th></th>\n",
       "      <th>date</th>\n",
       "      <th>fips</th>\n",
       "      <th>cases</th>\n",
       "      <th>deaths</th>\n",
       "      <th>state</th>\n",
       "      <th>county</th>\n",
       "      <th>population</th>\n",
       "      <th>area</th>\n",
       "      <th>lon</th>\n",
       "      <th>lat</th>\n",
       "      <th>...</th>\n",
       "      <th>new_deaths_per_100k_7d</th>\n",
       "      <th>delta_new_cases</th>\n",
       "      <th>delta_new_deaths</th>\n",
       "      <th>delta_new_cases_per_100k</th>\n",
       "      <th>delta_new_deaths_per_100k</th>\n",
       "      <th>delta_new_cases_7d</th>\n",
       "      <th>delta_new_deaths_7d</th>\n",
       "      <th>delta_new_cases_per_100k_7d</th>\n",
       "      <th>delta_new_deaths_per_100k_7d</th>\n",
       "      <th>days</th>\n",
       "    </tr>\n",
       "  </thead>\n",
       "  <tbody>\n",
       "    <tr>\n",
       "      <th>0</th>\n",
       "      <td>2020-01-21</td>\n",
       "      <td>53061</td>\n",
       "      <td>1</td>\n",
       "      <td>0</td>\n",
       "      <td>Washington</td>\n",
       "      <td>Snohomish</td>\n",
       "      <td>822083</td>\n",
       "      <td>2087.273</td>\n",
       "      <td>-121.69278</td>\n",
       "      <td>48.046917</td>\n",
       "      <td>...</td>\n",
       "      <td>0.0</td>\n",
       "      <td>0.0</td>\n",
       "      <td>0.0</td>\n",
       "      <td>0.0</td>\n",
       "      <td>0.0</td>\n",
       "      <td>0.0</td>\n",
       "      <td>0.0</td>\n",
       "      <td>0.0</td>\n",
       "      <td>0.0</td>\n",
       "      <td>0</td>\n",
       "    </tr>\n",
       "    <tr>\n",
       "      <th>1</th>\n",
       "      <td>2020-01-22</td>\n",
       "      <td>53061</td>\n",
       "      <td>1</td>\n",
       "      <td>0</td>\n",
       "      <td>Washington</td>\n",
       "      <td>Snohomish</td>\n",
       "      <td>822083</td>\n",
       "      <td>2087.273</td>\n",
       "      <td>-121.69278</td>\n",
       "      <td>48.046917</td>\n",
       "      <td>...</td>\n",
       "      <td>0.0</td>\n",
       "      <td>0.0</td>\n",
       "      <td>0.0</td>\n",
       "      <td>0.0</td>\n",
       "      <td>0.0</td>\n",
       "      <td>0.0</td>\n",
       "      <td>0.0</td>\n",
       "      <td>0.0</td>\n",
       "      <td>0.0</td>\n",
       "      <td>1</td>\n",
       "    </tr>\n",
       "    <tr>\n",
       "      <th>2</th>\n",
       "      <td>2020-01-23</td>\n",
       "      <td>53061</td>\n",
       "      <td>1</td>\n",
       "      <td>0</td>\n",
       "      <td>Washington</td>\n",
       "      <td>Snohomish</td>\n",
       "      <td>822083</td>\n",
       "      <td>2087.273</td>\n",
       "      <td>-121.69278</td>\n",
       "      <td>48.046917</td>\n",
       "      <td>...</td>\n",
       "      <td>0.0</td>\n",
       "      <td>0.0</td>\n",
       "      <td>0.0</td>\n",
       "      <td>0.0</td>\n",
       "      <td>0.0</td>\n",
       "      <td>0.0</td>\n",
       "      <td>0.0</td>\n",
       "      <td>0.0</td>\n",
       "      <td>0.0</td>\n",
       "      <td>2</td>\n",
       "    </tr>\n",
       "    <tr>\n",
       "      <th>176</th>\n",
       "      <td>2020-01-24</td>\n",
       "      <td>17031</td>\n",
       "      <td>1</td>\n",
       "      <td>0</td>\n",
       "      <td>Illinois</td>\n",
       "      <td>Cook</td>\n",
       "      <td>5150233</td>\n",
       "      <td>945.326</td>\n",
       "      <td>-87.81743</td>\n",
       "      <td>41.839622</td>\n",
       "      <td>...</td>\n",
       "      <td>0.0</td>\n",
       "      <td>0.0</td>\n",
       "      <td>0.0</td>\n",
       "      <td>0.0</td>\n",
       "      <td>0.0</td>\n",
       "      <td>0.0</td>\n",
       "      <td>0.0</td>\n",
       "      <td>0.0</td>\n",
       "      <td>0.0</td>\n",
       "      <td>3</td>\n",
       "    </tr>\n",
       "    <tr>\n",
       "      <th>3</th>\n",
       "      <td>2020-01-24</td>\n",
       "      <td>53061</td>\n",
       "      <td>1</td>\n",
       "      <td>0</td>\n",
       "      <td>Washington</td>\n",
       "      <td>Snohomish</td>\n",
       "      <td>822083</td>\n",
       "      <td>2087.273</td>\n",
       "      <td>-121.69278</td>\n",
       "      <td>48.046917</td>\n",
       "      <td>...</td>\n",
       "      <td>0.0</td>\n",
       "      <td>0.0</td>\n",
       "      <td>0.0</td>\n",
       "      <td>0.0</td>\n",
       "      <td>0.0</td>\n",
       "      <td>0.0</td>\n",
       "      <td>0.0</td>\n",
       "      <td>0.0</td>\n",
       "      <td>0.0</td>\n",
       "      <td>3</td>\n",
       "    </tr>\n",
       "  </tbody>\n",
       "</table>\n",
       "<p>5 rows × 34 columns</p>\n",
       "</div>"
      ],
      "text/plain": [
       "          date   fips  cases  deaths       state     county  population  \\\n",
       "0   2020-01-21  53061      1       0  Washington  Snohomish      822083   \n",
       "1   2020-01-22  53061      1       0  Washington  Snohomish      822083   \n",
       "2   2020-01-23  53061      1       0  Washington  Snohomish      822083   \n",
       "176 2020-01-24  17031      1       0    Illinois       Cook     5150233   \n",
       "3   2020-01-24  53061      1       0  Washington  Snohomish      822083   \n",
       "\n",
       "         area        lon        lat  ...  new_deaths_per_100k_7d  \\\n",
       "0    2087.273 -121.69278  48.046917  ...                     0.0   \n",
       "1    2087.273 -121.69278  48.046917  ...                     0.0   \n",
       "2    2087.273 -121.69278  48.046917  ...                     0.0   \n",
       "176   945.326  -87.81743  41.839622  ...                     0.0   \n",
       "3    2087.273 -121.69278  48.046917  ...                     0.0   \n",
       "\n",
       "     delta_new_cases  delta_new_deaths  delta_new_cases_per_100k  \\\n",
       "0                0.0               0.0                       0.0   \n",
       "1                0.0               0.0                       0.0   \n",
       "2                0.0               0.0                       0.0   \n",
       "176              0.0               0.0                       0.0   \n",
       "3                0.0               0.0                       0.0   \n",
       "\n",
       "     delta_new_deaths_per_100k  delta_new_cases_7d  delta_new_deaths_7d  \\\n",
       "0                          0.0                 0.0                  0.0   \n",
       "1                          0.0                 0.0                  0.0   \n",
       "2                          0.0                 0.0                  0.0   \n",
       "176                        0.0                 0.0                  0.0   \n",
       "3                          0.0                 0.0                  0.0   \n",
       "\n",
       "     delta_new_cases_per_100k_7d  delta_new_deaths_per_100k_7d  days  \n",
       "0                            0.0                           0.0     0  \n",
       "1                            0.0                           0.0     1  \n",
       "2                            0.0                           0.0     2  \n",
       "176                          0.0                           0.0     3  \n",
       "3                            0.0                           0.0     3  \n",
       "\n",
       "[5 rows x 34 columns]"
      ]
     },
     "execution_count": 69,
     "metadata": {},
     "output_type": "execute_result"
    }
   ],
   "source": [
    "df1 = df.copy()\n",
    "df1.head()"
   ]
  },
  {
   "cell_type": "code",
   "execution_count": 92,
   "metadata": {},
   "outputs": [
    {
     "data": {
      "text/plain": [
       "array([[0., 0., 0., 0.],\n",
       "       [0., 0., 0., 0.],\n",
       "       [0., 0., 0., 0.],\n",
       "       [0., 0., 0., 0.],\n",
       "       [0., 0., 0., 0.],\n",
       "       [0., 0., 0., 0.]])"
      ]
     },
     "execution_count": 92,
     "metadata": {},
     "output_type": "execute_result"
    }
   ],
   "source": [
    "np.zeros((6, df1[df1['fips'] == 'nyc'][cols_s].shape[1]))"
   ]
  },
  {
   "cell_type": "code",
   "execution_count": 104,
   "metadata": {},
   "outputs": [
    {
     "data": {
      "text/plain": [
       "[2, 3, 4, 5, 6, 7]"
      ]
     },
     "execution_count": 104,
     "metadata": {},
     "output_type": "execute_result"
    }
   ],
   "source": [
    "list(range(2, 8))"
   ]
  },
  {
   "cell_type": "code",
   "execution_count": 97,
   "metadata": {},
   "outputs": [
    {
     "data": {
      "text/plain": [
       "array([4.39321429e+02, 3.34285714e+01, 5.26965422e+00, 4.00975233e-01])"
      ]
     },
     "execution_count": 97,
     "metadata": {},
     "output_type": "execute_result"
    }
   ],
   "source": [
    "np.polyfit(np.arange(7), dft[95:102], 1)[0]"
   ]
  },
  {
   "cell_type": "code",
   "execution_count": 62,
   "metadata": {},
   "outputs": [
    {
     "data": {
      "text/plain": [
       "array([0.        , 0.85714286])"
      ]
     },
     "execution_count": 62,
     "metadata": {},
     "output_type": "execute_result"
    }
   ],
   "source": [
    "np.polyfit(np.arange(7), df[df['fips'] == 'nyc'][['new_deaths', 'new_cases']][0:7].values, 1)[0]"
   ]
  },
  {
   "cell_type": "code",
   "execution_count": 26,
   "metadata": {
    "tags": []
   },
   "outputs": [
    {
     "name": "stdout",
     "output_type": "stream",
     "text": [
      "new_cases\n",
      "163.09199142456055\n",
      "\n",
      "new_deaths\n",
      "163.45698285102844\n",
      "\n",
      "new_cases_per_100k\n",
      "165.03553080558777\n",
      "\n",
      "new_deaths_per_100k\n",
      "164.23687171936035\n",
      "\n"
     ]
    }
   ],
   "source": [
    "window = 7\n",
    "\n",
    "for col in new_cols:\n",
    "    print(col)\n",
    "    ding = time()\n",
    "    slope_col = col + '_slope'\n",
    "    df[slope_col] = 0\n",
    "    for fips in df['fips'].unique():\n",
    "        dft = df[df['fips'] == fips]\n",
    "        l = len(dft)\n",
    "        slopes = list(np.zeros(window-1))\n",
    "        if l >= window:\n",
    "            for i in range(l+1-window):\n",
    "                x = np.arange(window)\n",
    "                y = dft[col][i:i+7]\n",
    "                slopes.append(np.polyfit(x, y, 1)[0])\n",
    "            df.loc[df['fips'] == fips, slope_col] = slopes\n",
    "        else:\n",
    "            df.loc[df['fips'] == fips, slope_col] = list(np.zeros(l))\n",
    "    dong = time()\n",
    "    print(dong - ding)\n",
    "    print()"
   ]
  },
  {
   "cell_type": "code",
   "execution_count": 39,
   "metadata": {},
   "outputs": [
    {
     "data": {
      "text/html": [
       "<div>\n",
       "<style scoped>\n",
       "    .dataframe tbody tr th:only-of-type {\n",
       "        vertical-align: middle;\n",
       "    }\n",
       "\n",
       "    .dataframe tbody tr th {\n",
       "        vertical-align: top;\n",
       "    }\n",
       "\n",
       "    .dataframe thead th {\n",
       "        text-align: right;\n",
       "    }\n",
       "</style>\n",
       "<table border=\"1\" class=\"dataframe\">\n",
       "  <thead>\n",
       "    <tr style=\"text-align: right;\">\n",
       "      <th></th>\n",
       "      <th>new_deaths</th>\n",
       "      <th>delta_new_deaths_7d</th>\n",
       "      <th>new_deaths_slope</th>\n",
       "    </tr>\n",
       "  </thead>\n",
       "  <tbody>\n",
       "    <tr>\n",
       "      <th>3798</th>\n",
       "      <td>0.0</td>\n",
       "      <td>0.000000</td>\n",
       "      <td>0.000000</td>\n",
       "    </tr>\n",
       "    <tr>\n",
       "      <th>3799</th>\n",
       "      <td>0.0</td>\n",
       "      <td>0.000000</td>\n",
       "      <td>0.000000</td>\n",
       "    </tr>\n",
       "    <tr>\n",
       "      <th>3800</th>\n",
       "      <td>0.0</td>\n",
       "      <td>0.000000</td>\n",
       "      <td>0.000000</td>\n",
       "    </tr>\n",
       "    <tr>\n",
       "      <th>3801</th>\n",
       "      <td>0.0</td>\n",
       "      <td>0.000000</td>\n",
       "      <td>0.000000</td>\n",
       "    </tr>\n",
       "    <tr>\n",
       "      <th>3802</th>\n",
       "      <td>0.0</td>\n",
       "      <td>0.000000</td>\n",
       "      <td>0.000000</td>\n",
       "    </tr>\n",
       "    <tr>\n",
       "      <th>3803</th>\n",
       "      <td>0.0</td>\n",
       "      <td>0.000000</td>\n",
       "      <td>0.000000</td>\n",
       "    </tr>\n",
       "    <tr>\n",
       "      <th>3804</th>\n",
       "      <td>0.0</td>\n",
       "      <td>0.000000</td>\n",
       "      <td>0.000000</td>\n",
       "    </tr>\n",
       "    <tr>\n",
       "      <th>3805</th>\n",
       "      <td>0.0</td>\n",
       "      <td>0.000000</td>\n",
       "      <td>0.000000</td>\n",
       "    </tr>\n",
       "    <tr>\n",
       "      <th>3806</th>\n",
       "      <td>0.0</td>\n",
       "      <td>0.000000</td>\n",
       "      <td>0.000000</td>\n",
       "    </tr>\n",
       "    <tr>\n",
       "      <th>3807</th>\n",
       "      <td>0.0</td>\n",
       "      <td>0.000000</td>\n",
       "      <td>0.000000</td>\n",
       "    </tr>\n",
       "    <tr>\n",
       "      <th>3808</th>\n",
       "      <td>0.0</td>\n",
       "      <td>0.000000</td>\n",
       "      <td>0.000000</td>\n",
       "    </tr>\n",
       "    <tr>\n",
       "      <th>3809</th>\n",
       "      <td>0.0</td>\n",
       "      <td>0.000000</td>\n",
       "      <td>0.000000</td>\n",
       "    </tr>\n",
       "    <tr>\n",
       "      <th>3810</th>\n",
       "      <td>0.0</td>\n",
       "      <td>0.000000</td>\n",
       "      <td>0.000000</td>\n",
       "    </tr>\n",
       "    <tr>\n",
       "      <th>3811</th>\n",
       "      <td>1.0</td>\n",
       "      <td>0.142857</td>\n",
       "      <td>0.107143</td>\n",
       "    </tr>\n",
       "    <tr>\n",
       "      <th>3812</th>\n",
       "      <td>4.0</td>\n",
       "      <td>0.571429</td>\n",
       "      <td>0.500000</td>\n",
       "    </tr>\n",
       "    <tr>\n",
       "      <th>3813</th>\n",
       "      <td>2.0</td>\n",
       "      <td>0.285714</td>\n",
       "      <td>0.535714</td>\n",
       "    </tr>\n",
       "    <tr>\n",
       "      <th>3814</th>\n",
       "      <td>4.0</td>\n",
       "      <td>0.571429</td>\n",
       "      <td>0.714286</td>\n",
       "    </tr>\n",
       "    <tr>\n",
       "      <th>3815</th>\n",
       "      <td>14.0</td>\n",
       "      <td>2.000000</td>\n",
       "      <td>1.821429</td>\n",
       "    </tr>\n",
       "    <tr>\n",
       "      <th>3816</th>\n",
       "      <td>6.0</td>\n",
       "      <td>0.857143</td>\n",
       "      <td>1.571429</td>\n",
       "    </tr>\n",
       "    <tr>\n",
       "      <th>3817</th>\n",
       "      <td>23.0</td>\n",
       "      <td>3.285714</td>\n",
       "      <td>2.928571</td>\n",
       "    </tr>\n",
       "  </tbody>\n",
       "</table>\n",
       "</div>"
      ],
      "text/plain": [
       "      new_deaths  delta_new_deaths_7d  new_deaths_slope\n",
       "3798         0.0             0.000000          0.000000\n",
       "3799         0.0             0.000000          0.000000\n",
       "3800         0.0             0.000000          0.000000\n",
       "3801         0.0             0.000000          0.000000\n",
       "3802         0.0             0.000000          0.000000\n",
       "3803         0.0             0.000000          0.000000\n",
       "3804         0.0             0.000000          0.000000\n",
       "3805         0.0             0.000000          0.000000\n",
       "3806         0.0             0.000000          0.000000\n",
       "3807         0.0             0.000000          0.000000\n",
       "3808         0.0             0.000000          0.000000\n",
       "3809         0.0             0.000000          0.000000\n",
       "3810         0.0             0.000000          0.000000\n",
       "3811         1.0             0.142857          0.107143\n",
       "3812         4.0             0.571429          0.500000\n",
       "3813         2.0             0.285714          0.535714\n",
       "3814         4.0             0.571429          0.714286\n",
       "3815        14.0             2.000000          1.821429\n",
       "3816         6.0             0.857143          1.571429\n",
       "3817        23.0             3.285714          2.928571"
      ]
     },
     "execution_count": 39,
     "metadata": {},
     "output_type": "execute_result"
    }
   ],
   "source": [
    "df[df['fips'] == 'nyc'][['new_deaths','delta_new_deaths_7d', 'new_deaths_slope']].head(20)"
   ]
  },
  {
   "cell_type": "code",
   "execution_count": 56,
   "metadata": {},
   "outputs": [],
   "source": [
    "df['days'] = ((df['date'] - df['date'].min()) / np.timedelta64(1, 'D')).astype('int')"
   ]
  },
  {
   "cell_type": "code",
   "execution_count": 33,
   "metadata": {},
   "outputs": [],
   "source": [
    "import seaborn as sns\n",
    "import matplotlib.pyplot as plt"
   ]
  },
  {
   "cell_type": "code",
   "execution_count": 38,
   "metadata": {},
   "outputs": [
    {
     "data": {
      "text/plain": [
       "[<matplotlib.lines.Line2D at 0x2001149e048>]"
      ]
     },
     "execution_count": 38,
     "metadata": {},
     "output_type": "execute_result"
    },
    {
     "data": {
      "image/png": "[encoded data removed]",
      "text/plain": [
       "<Figure size 432x288 with 1 Axes>"
      ]
     },
     "metadata": {
      "needs_background": "light"
     },
     "output_type": "display_data"
    }
   ],
   "source": [
    "plt.plot('days', 'delta_new_cases', data=df[df['county'] == 'New York City'], color='gray')\n",
    "plt.plot('days', 'delta_new_cases_7d', data=df[df['county'] == 'New York City'], color='blue')\n",
    "plt.plot('days', 'new_cases_slope', data=df[df['county'] == 'New York City'], color='red')"
   ]
  },
  {
   "cell_type": "code",
   "execution_count": null,
   "metadata": {},
   "outputs": [],
   "source": [
    "df6.to_csv('data/df-1.csv', index=False)"
   ]
  },
  {
   "cell_type": "code",
   "execution_count": 57,
   "metadata": {},
   "outputs": [
    {
     "data": {
      "text/plain": [
       "[<matplotlib.lines.Line2D at 0x200161b92c8>]"
      ]
     },
     "execution_count": 57,
     "metadata": {},
     "output_type": "execute_result"
    },
    {
     "data": {
      "image/png": "[encoded data removed]",
      "text/plain": [
       "<Figure size 432x288 with 1 Axes>"
      ]
     },
     "metadata": {
      "needs_background": "light"
     },
     "output_type": "display_data"
    }
   ],
   "source": [
    "plt.plot('days', 'cases', data=df[df['county'] == 'New York City'], color='gray')\n",
    "plt.plot('days', 'cases_7d', data=df[df['county'] == 'New York City'], color='red')"
   ]
  },
  {
   "cell_type": "code",
   "execution_count": 41,
   "metadata": {},
   "outputs": [
    {
     "data": {
      "text/plain": [
       "3798      0.000000\n",
       "3799      0.000000\n",
       "3800      0.000000\n",
       "3801      0.000000\n",
       "3802      0.000000\n",
       "           ...    \n",
       "3929    277.285714\n",
       "3930    291.964286\n",
       "3931    307.000000\n",
       "3932    309.464286\n",
       "3933    310.107143\n",
       "Name: new_cases_slope, Length: 136, dtype: float64"
      ]
     },
     "execution_count": 41,
     "metadata": {},
     "output_type": "execute_result"
    }
   ],
   "source": [
    "df[df['county'] == 'New York City']['new_cases_slope'].cumsum()"
   ]
  },
  {
   "cell_type": "code",
   "execution_count": null,
   "metadata": {},
   "outputs": [],
   "source": [
    "plt.plot('days', 'cases', data=df[df['county'] == 'New York City'], color='gray')"
   ]
  }
 ],
 "metadata": {
  "colab": {
   "collapsed_sections": [],
   "include_colab_link": true,
   "name": "nyt-covid-data-county.ipynb",
   "provenance": []
  },
  "kernelspec": {
   "display_name": "Python 3",
   "language": "python",
   "name": "python3"
  },
  "language_info": {
   "codemirror_mode": {
    "name": "ipython",
    "version": 3
   },
   "file_extension": ".py",
   "mimetype": "text/x-python",
   "name": "python",
   "nbconvert_exporter": "python",
   "pygments_lexer": "ipython3",
   "version": "3.7.7"
  }
 },
 "nbformat": 4,
 "nbformat_minor": 4
}
