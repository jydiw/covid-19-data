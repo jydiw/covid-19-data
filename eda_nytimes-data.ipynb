{
 "cells": [
  {
   "cell_type": "markdown",
   "metadata": {
    "colab_type": "text",
    "id": "view-in-github"
   },
   "source": [
    "<a href=\"https://colab.research.google.com/github/jydiw/nyt-covid-19-data/blob/master/eda_nytimes-data.ipynb\" target=\"_parent\"><img src=\"https://colab.research.google.com/assets/colab-badge.svg\" alt=\"Open In Colab\"/></a>"
   ]
  },
  {
   "cell_type": "markdown",
   "metadata": {
    "colab_type": "text",
    "id": "-m8i-QZVfK53"
   },
   "source": [
    "# NYTimes COVID-19 EDA"
   ]
  },
  {
   "cell_type": "code",
   "execution_count": 1,
   "metadata": {
    "colab": {},
    "colab_type": "code",
    "id": "fQtYdlN2CywI"
   },
   "outputs": [],
   "source": [
    "import numpy as np\n",
    "import numpy.polynomial.polynomial as poly\n",
    "import pandas as pd\n",
    "\n",
    "from scipy.signal import savgol_filter\n",
    "\n",
    "from urllib.request import urlopen\n",
    "import json\n",
    "\n",
    "from time import time\n",
    "from datetime import datetime, timedelta\n",
    "\n",
    "import matplotlib.pyplot as plt"
   ]
  },
  {
   "cell_type": "markdown",
   "metadata": {
    "colab_type": "text",
    "id": "Pjr_s8ejfK6R"
   },
   "source": [
    "# import nytimes data\n",
    "\n",
    "New York Times data has a few caveats, including treating New York City, Kansas City, and Joplin as single entities rather than including them in their respective counties. Read their [README](https://github.com/nytimes/covid-19-data/blob/master/README.md) for more information."
   ]
  },
  {
   "cell_type": "code",
   "execution_count": 47,
   "metadata": {
    "colab": {},
    "colab_type": "code",
    "id": "L-zPjgxai1gI"
   },
   "outputs": [],
   "source": [
    "def optimize(df):\n",
    "    '''\n",
    "    Optimizes the data types in a pandas dataframe.\n",
    "    '''\n",
    "    dft = df.copy()\n",
    "    # converts to datetime if possible\n",
    "    dft = dft.apply(lambda col: pd.to_datetime(col, errors='ignore') if col.dtypes=='object' else col)\n",
    "    # if there are less than half as many unique values as there are rows, convert to category\n",
    "    for col in dft.select_dtypes(include='object'):\n",
    "        if len(dft[col].unique()) / len(df[col]) < 0.5:\n",
    "            dft[col] = dft[col].astype('category')\n",
    "    # downcasts numeric columns if possible\n",
    "    dft = dft.apply(lambda col: pd.to_numeric(col, downcast='integer') if col.dtypes=='int64' else col)\n",
    "    dft = dft.apply(lambda col: pd.to_numeric(col, downcast='float') if col.dtypes=='float64' else col)\n",
    "    return dft"
   ]
  },
  {
   "cell_type": "code",
   "execution_count": 48,
   "metadata": {
    "colab": {
     "base_uri": "https://localhost:8080/",
     "height": 204
    },
    "colab_type": "code",
    "id": "nzr_oX2Ai1gL",
    "outputId": "c9e0d9df-7c12-429d-f52e-9335d4ca5450"
   },
   "outputs": [
    {
     "data": {
      "text/html": [
       "<div>\n",
       "<style scoped>\n",
       "    .dataframe tbody tr th:only-of-type {\n",
       "        vertical-align: middle;\n",
       "    }\n",
       "\n",
       "    .dataframe tbody tr th {\n",
       "        vertical-align: top;\n",
       "    }\n",
       "\n",
       "    .dataframe thead th {\n",
       "        text-align: right;\n",
       "    }\n",
       "</style>\n",
       "<table border=\"1\" class=\"dataframe\">\n",
       "  <thead>\n",
       "    <tr style=\"text-align: right;\">\n",
       "      <th></th>\n",
       "      <th>date</th>\n",
       "      <th>county</th>\n",
       "      <th>state</th>\n",
       "      <th>fips</th>\n",
       "      <th>cases</th>\n",
       "      <th>deaths</th>\n",
       "    </tr>\n",
       "  </thead>\n",
       "  <tbody>\n",
       "    <tr>\n",
       "      <th>0</th>\n",
       "      <td>2020-01-21</td>\n",
       "      <td>Snohomish</td>\n",
       "      <td>Washington</td>\n",
       "      <td>53061</td>\n",
       "      <td>1</td>\n",
       "      <td>0</td>\n",
       "    </tr>\n",
       "    <tr>\n",
       "      <th>1</th>\n",
       "      <td>2020-01-22</td>\n",
       "      <td>Snohomish</td>\n",
       "      <td>Washington</td>\n",
       "      <td>53061</td>\n",
       "      <td>1</td>\n",
       "      <td>0</td>\n",
       "    </tr>\n",
       "    <tr>\n",
       "      <th>2</th>\n",
       "      <td>2020-01-23</td>\n",
       "      <td>Snohomish</td>\n",
       "      <td>Washington</td>\n",
       "      <td>53061</td>\n",
       "      <td>1</td>\n",
       "      <td>0</td>\n",
       "    </tr>\n",
       "    <tr>\n",
       "      <th>3</th>\n",
       "      <td>2020-01-24</td>\n",
       "      <td>Cook</td>\n",
       "      <td>Illinois</td>\n",
       "      <td>17031</td>\n",
       "      <td>1</td>\n",
       "      <td>0</td>\n",
       "    </tr>\n",
       "    <tr>\n",
       "      <th>4</th>\n",
       "      <td>2020-01-24</td>\n",
       "      <td>Snohomish</td>\n",
       "      <td>Washington</td>\n",
       "      <td>53061</td>\n",
       "      <td>1</td>\n",
       "      <td>0</td>\n",
       "    </tr>\n",
       "  </tbody>\n",
       "</table>\n",
       "</div>"
      ],
      "text/plain": [
       "        date     county       state   fips  cases  deaths\n",
       "0 2020-01-21  Snohomish  Washington  53061      1       0\n",
       "1 2020-01-22  Snohomish  Washington  53061      1       0\n",
       "2 2020-01-23  Snohomish  Washington  53061      1       0\n",
       "3 2020-01-24       Cook    Illinois  17031      1       0\n",
       "4 2020-01-24  Snohomish  Washington  53061      1       0"
      ]
     },
     "execution_count": 48,
     "metadata": {},
     "output_type": "execute_result"
    }
   ],
   "source": [
    "with urlopen('https://raw.githubusercontent.com/nytimes/covid-19-data/master/us-counties.csv') as response:\n",
    "    nyt_df = optimize(pd.read_csv(response, dtype={'fips':'str'}))\n",
    "nyt_df.head()"
   ]
  },
  {
   "cell_type": "code",
   "execution_count": 50,
   "metadata": {
    "colab": {
     "base_uri": "https://localhost:8080/",
     "height": 238
    },
    "colab_type": "code",
    "id": "6JoLpYt-i1gO",
    "outputId": "0346ad1b-e575-45ee-f188-bc6ecea51051",
    "tags": []
   },
   "outputs": [
    {
     "name": "stdout",
     "output_type": "stream",
     "text": [
      "<class 'pandas.core.frame.DataFrame'>\n",
      "RangeIndex: 340762 entries, 0 to 340761\n",
      "Data columns (total 6 columns):\n",
      " #   Column  Non-Null Count   Dtype         \n",
      "---  ------  --------------   -----         \n",
      " 0   date    340762 non-null  datetime64[ns]\n",
      " 1   county  340762 non-null  category      \n",
      " 2   state   340762 non-null  category      \n",
      " 3   fips    337294 non-null  category      \n",
      " 4   cases   340762 non-null  int32         \n",
      " 5   deaths  340762 non-null  int16         \n",
      "dtypes: category(3), datetime64[ns](1), int16(1), int32(1)\n",
      "memory usage: 6.5 MB\n"
     ]
    }
   ],
   "source": [
    "nyt_df.info()"
   ]
  },
  {
   "cell_type": "markdown",
   "metadata": {
    "colab_type": "text",
    "id": "J39gYq9cfK6H"
   },
   "source": [
    "# import census and GeoJSON data\n",
    "\n",
    "We want to calculate ratios comparing the number of cases (or deaths) to the population and/or area of the county. Since the population density varies wildly per county, relying on just the absolute number of reported cases could be misleading."
   ]
  },
  {
   "cell_type": "code",
   "execution_count": 72,
   "metadata": {
    "colab": {
     "base_uri": "https://localhost:8080/",
     "height": 204
    },
    "colab_type": "code",
    "id": "QEFxBFB5i1gS",
    "outputId": "39516789-23c0-40db-9882-acabe5aa58de"
   },
   "outputs": [
    {
     "data": {
      "text/html": [
       "<div>\n",
       "<style scoped>\n",
       "    .dataframe tbody tr th:only-of-type {\n",
       "        vertical-align: middle;\n",
       "    }\n",
       "\n",
       "    .dataframe tbody tr th {\n",
       "        vertical-align: top;\n",
       "    }\n",
       "\n",
       "    .dataframe thead th {\n",
       "        text-align: right;\n",
       "    }\n",
       "</style>\n",
       "<table border=\"1\" class=\"dataframe\">\n",
       "  <thead>\n",
       "    <tr style=\"text-align: right;\">\n",
       "      <th></th>\n",
       "      <th>state</th>\n",
       "      <th>county</th>\n",
       "      <th>tot_pop</th>\n",
       "      <th>fips</th>\n",
       "      <th>per_white</th>\n",
       "      <th>area</th>\n",
       "      <th>lon</th>\n",
       "      <th>lat</th>\n",
       "      <th>pop_per_area</th>\n",
       "      <th>per_gop</th>\n",
       "      <th>per_dem</th>\n",
       "      <th>total_votes</th>\n",
       "      <th>per_votes</th>\n",
       "    </tr>\n",
       "  </thead>\n",
       "  <tbody>\n",
       "    <tr>\n",
       "      <th>0</th>\n",
       "      <td>Alabama</td>\n",
       "      <td>Autauga</td>\n",
       "      <td>55869</td>\n",
       "      <td>01001</td>\n",
       "      <td>0.762623</td>\n",
       "      <td>594.435974</td>\n",
       "      <td>-86.641197</td>\n",
       "      <td>32.536152</td>\n",
       "      <td>93.986572</td>\n",
       "      <td>0.734358</td>\n",
       "      <td>0.239569</td>\n",
       "      <td>24661.0</td>\n",
       "      <td>0.441408</td>\n",
       "    </tr>\n",
       "    <tr>\n",
       "      <th>1</th>\n",
       "      <td>Alabama</td>\n",
       "      <td>Baldwin</td>\n",
       "      <td>223234</td>\n",
       "      <td>01003</td>\n",
       "      <td>0.874410</td>\n",
       "      <td>1589.784058</td>\n",
       "      <td>-87.723953</td>\n",
       "      <td>30.725863</td>\n",
       "      <td>140.417816</td>\n",
       "      <td>0.773515</td>\n",
       "      <td>0.195653</td>\n",
       "      <td>94090.0</td>\n",
       "      <td>0.421486</td>\n",
       "    </tr>\n",
       "    <tr>\n",
       "      <th>2</th>\n",
       "      <td>Alabama</td>\n",
       "      <td>Barbour</td>\n",
       "      <td>24686</td>\n",
       "      <td>01005</td>\n",
       "      <td>0.491534</td>\n",
       "      <td>884.875977</td>\n",
       "      <td>-85.389244</td>\n",
       "      <td>31.867889</td>\n",
       "      <td>27.897696</td>\n",
       "      <td>0.522714</td>\n",
       "      <td>0.466603</td>\n",
       "      <td>10390.0</td>\n",
       "      <td>0.420886</td>\n",
       "    </tr>\n",
       "    <tr>\n",
       "      <th>3</th>\n",
       "      <td>Alabama</td>\n",
       "      <td>Bibb</td>\n",
       "      <td>22394</td>\n",
       "      <td>01007</td>\n",
       "      <td>0.767661</td>\n",
       "      <td>622.581970</td>\n",
       "      <td>-87.124962</td>\n",
       "      <td>32.996456</td>\n",
       "      <td>35.969563</td>\n",
       "      <td>0.769662</td>\n",
       "      <td>0.214220</td>\n",
       "      <td>8748.0</td>\n",
       "      <td>0.390640</td>\n",
       "    </tr>\n",
       "    <tr>\n",
       "      <th>4</th>\n",
       "      <td>Alabama</td>\n",
       "      <td>Blount</td>\n",
       "      <td>57826</td>\n",
       "      <td>01009</td>\n",
       "      <td>0.958254</td>\n",
       "      <td>644.776001</td>\n",
       "      <td>-86.569756</td>\n",
       "      <td>33.985249</td>\n",
       "      <td>89.683861</td>\n",
       "      <td>0.898519</td>\n",
       "      <td>0.084699</td>\n",
       "      <td>25384.0</td>\n",
       "      <td>0.438972</td>\n",
       "    </tr>\n",
       "  </tbody>\n",
       "</table>\n",
       "</div>"
      ],
      "text/plain": [
       "     state   county  tot_pop   fips  per_white         area        lon  \\\n",
       "0  Alabama  Autauga    55869  01001   0.762623   594.435974 -86.641197   \n",
       "1  Alabama  Baldwin   223234  01003   0.874410  1589.784058 -87.723953   \n",
       "2  Alabama  Barbour    24686  01005   0.491534   884.875977 -85.389244   \n",
       "3  Alabama     Bibb    22394  01007   0.767661   622.581970 -87.124962   \n",
       "4  Alabama   Blount    57826  01009   0.958254   644.776001 -86.569756   \n",
       "\n",
       "         lat  pop_per_area   per_gop   per_dem  total_votes  per_votes  \n",
       "0  32.536152     93.986572  0.734358  0.239569      24661.0   0.441408  \n",
       "1  30.725863    140.417816  0.773515  0.195653      94090.0   0.421486  \n",
       "2  31.867889     27.897696  0.522714  0.466603      10390.0   0.420886  \n",
       "3  32.996456     35.969563  0.769662  0.214220       8748.0   0.390640  \n",
       "4  33.985249     89.683861  0.898519  0.084699      25384.0   0.438972  "
      ]
     },
     "execution_count": 72,
     "metadata": {},
     "output_type": "execute_result"
    }
   ],
   "source": [
    "pop_df = optimize(pd.read_csv('data/pop_df.csv', dtype={'fips':'str'}))\n",
    "# with urlopen('https://raw.githubusercontent.com/jydiw/nyt-covid-19-data/master/data/pop_df.csv') as response:\n",
    "#     pop_df = optimize(pd.read_csv(response, dtype={'fips':'str'}))\n",
    "pop_df.head()"
   ]
  },
  {
   "cell_type": "code",
   "execution_count": 73,
   "metadata": {
    "colab": {
     "base_uri": "https://localhost:8080/",
     "height": 111
    },
    "colab_type": "code",
    "id": "_iC3AMpiunQC",
    "outputId": "3f49a546-c981-443e-9939-f4362ff63a9a"
   },
   "outputs": [
    {
     "data": {
      "text/html": [
       "<div>\n",
       "<style scoped>\n",
       "    .dataframe tbody tr th:only-of-type {\n",
       "        vertical-align: middle;\n",
       "    }\n",
       "\n",
       "    .dataframe tbody tr th {\n",
       "        vertical-align: top;\n",
       "    }\n",
       "\n",
       "    .dataframe thead th {\n",
       "        text-align: right;\n",
       "    }\n",
       "</style>\n",
       "<table border=\"1\" class=\"dataframe\">\n",
       "  <thead>\n",
       "    <tr style=\"text-align: right;\">\n",
       "      <th></th>\n",
       "      <th>state</th>\n",
       "      <th>county</th>\n",
       "      <th>tot_pop</th>\n",
       "      <th>fips</th>\n",
       "      <th>per_white</th>\n",
       "      <th>area</th>\n",
       "      <th>lon</th>\n",
       "      <th>lat</th>\n",
       "      <th>pop_per_area</th>\n",
       "      <th>per_gop</th>\n",
       "      <th>per_dem</th>\n",
       "      <th>total_votes</th>\n",
       "      <th>per_votes</th>\n",
       "    </tr>\n",
       "  </thead>\n",
       "  <tbody>\n",
       "    <tr>\n",
       "      <th>548</th>\n",
       "      <td>Hawaii</td>\n",
       "      <td>Kalawao</td>\n",
       "      <td>86</td>\n",
       "      <td>15005</td>\n",
       "      <td>0.279070</td>\n",
       "      <td>11.991000</td>\n",
       "      <td>-156.951126</td>\n",
       "      <td>21.175037</td>\n",
       "      <td>7.172046</td>\n",
       "      <td>NaN</td>\n",
       "      <td>NaN</td>\n",
       "      <td>NaN</td>\n",
       "      <td>NaN</td>\n",
       "    </tr>\n",
       "    <tr>\n",
       "      <th>204</th>\n",
       "      <td>California</td>\n",
       "      <td>Los Angeles</td>\n",
       "      <td>10039107</td>\n",
       "      <td>06037</td>\n",
       "      <td>0.707066</td>\n",
       "      <td>4057.884033</td>\n",
       "      <td>-118.216835</td>\n",
       "      <td>34.357796</td>\n",
       "      <td>2473.975830</td>\n",
       "      <td>0.233887</td>\n",
       "      <td>0.714072</td>\n",
       "      <td>2652072.0</td>\n",
       "      <td>0.264174</td>\n",
       "    </tr>\n",
       "  </tbody>\n",
       "</table>\n",
       "</div>"
      ],
      "text/plain": [
       "          state       county   tot_pop   fips  per_white         area  \\\n",
       "548      Hawaii      Kalawao        86  15005   0.279070    11.991000   \n",
       "204  California  Los Angeles  10039107  06037   0.707066  4057.884033   \n",
       "\n",
       "            lon        lat  pop_per_area   per_gop   per_dem  total_votes  \\\n",
       "548 -156.951126  21.175037      7.172046       NaN       NaN          NaN   \n",
       "204 -118.216835  34.357796   2473.975830  0.233887  0.714072    2652072.0   \n",
       "\n",
       "     per_votes  \n",
       "548        NaN  \n",
       "204   0.264174  "
      ]
     },
     "execution_count": 73,
     "metadata": {},
     "output_type": "execute_result"
    }
   ],
   "source": [
    "pop_df.sort_values(by='tot_pop').iloc[[0, -1]]"
   ]
  },
  {
   "cell_type": "code",
   "execution_count": 74,
   "metadata": {
    "colab": {
     "base_uri": "https://localhost:8080/",
     "height": 111
    },
    "colab_type": "code",
    "id": "qCM00GHPn9qB",
    "outputId": "f8106d19-f1f3-4c62-ca66-21f58595cecd"
   },
   "outputs": [
    {
     "data": {
      "text/html": [
       "<div>\n",
       "<style scoped>\n",
       "    .dataframe tbody tr th:only-of-type {\n",
       "        vertical-align: middle;\n",
       "    }\n",
       "\n",
       "    .dataframe tbody tr th {\n",
       "        vertical-align: top;\n",
       "    }\n",
       "\n",
       "    .dataframe thead th {\n",
       "        text-align: right;\n",
       "    }\n",
       "</style>\n",
       "<table border=\"1\" class=\"dataframe\">\n",
       "  <thead>\n",
       "    <tr style=\"text-align: right;\">\n",
       "      <th></th>\n",
       "      <th>state</th>\n",
       "      <th>county</th>\n",
       "      <th>tot_pop</th>\n",
       "      <th>fips</th>\n",
       "      <th>per_white</th>\n",
       "      <th>area</th>\n",
       "      <th>lon</th>\n",
       "      <th>lat</th>\n",
       "      <th>pop_per_area</th>\n",
       "      <th>per_gop</th>\n",
       "      <th>per_dem</th>\n",
       "      <th>total_votes</th>\n",
       "      <th>per_votes</th>\n",
       "    </tr>\n",
       "  </thead>\n",
       "  <tbody>\n",
       "    <tr>\n",
       "      <th>95</th>\n",
       "      <td>Alaska</td>\n",
       "      <td>Yukon-Koyukuk Census Area</td>\n",
       "      <td>5230</td>\n",
       "      <td>02290</td>\n",
       "      <td>0.235373</td>\n",
       "      <td>145504.78125</td>\n",
       "      <td>-151.390030</td>\n",
       "      <td>65.508743</td>\n",
       "      <td>0.035944</td>\n",
       "      <td>0.289615</td>\n",
       "      <td>0.574946</td>\n",
       "      <td>1868.0</td>\n",
       "      <td>0.357170</td>\n",
       "    </tr>\n",
       "    <tr>\n",
       "      <th>1858</th>\n",
       "      <td>New York</td>\n",
       "      <td>New York</td>\n",
       "      <td>1628706</td>\n",
       "      <td>36061</td>\n",
       "      <td>0.645742</td>\n",
       "      <td>22.82900</td>\n",
       "      <td>-73.962898</td>\n",
       "      <td>40.783318</td>\n",
       "      <td>71343.726562</td>\n",
       "      <td>0.099659</td>\n",
       "      <td>0.871675</td>\n",
       "      <td>591368.0</td>\n",
       "      <td>0.363091</td>\n",
       "    </tr>\n",
       "  </tbody>\n",
       "</table>\n",
       "</div>"
      ],
      "text/plain": [
       "         state                     county  tot_pop   fips  per_white  \\\n",
       "95      Alaska  Yukon-Koyukuk Census Area     5230  02290   0.235373   \n",
       "1858  New York                   New York  1628706  36061   0.645742   \n",
       "\n",
       "              area         lon        lat  pop_per_area   per_gop   per_dem  \\\n",
       "95    145504.78125 -151.390030  65.508743      0.035944  0.289615  0.574946   \n",
       "1858      22.82900  -73.962898  40.783318  71343.726562  0.099659  0.871675   \n",
       "\n",
       "      total_votes  per_votes  \n",
       "95         1868.0   0.357170  \n",
       "1858     591368.0   0.363091  "
      ]
     },
     "execution_count": 74,
     "metadata": {},
     "output_type": "execute_result"
    }
   ],
   "source": [
    "pop_df.sort_values(by='pop_per_area').iloc[[0, -1]]"
   ]
  },
  {
   "cell_type": "markdown",
   "metadata": {
    "colab_type": "text",
    "id": "EiZSQomNobHw"
   },
   "source": [
    "There are several things to consider:\n",
    "\n",
    "- Raw numbers will show New York City and Los Angeles County with the highest numbers, all other factors being equal.\n",
    "- Reporting cases as a percentage (or as we'll use later, a per 100k) would better reflect the severity of infections.\n",
    "- However, a higher population density would likely make it easier to transmit the disease to another person. Looking at the day-to-day change in new cases could allow us to see how quickly the disease is spreading."
   ]
  },
  {
   "cell_type": "code",
   "execution_count": 58,
   "metadata": {
    "colab": {
     "base_uri": "https://localhost:8080/",
     "height": 306
    },
    "colab_type": "code",
    "id": "ycBJMoBXi1gV",
    "outputId": "aacd9880-a0d4-421b-bd62-cdf22ae2d202"
   },
   "outputs": [
    {
     "data": {
      "text/plain": [
       "['San Lorenzo',\n",
       " 'Moca',\n",
       " 'Guanica',\n",
       " 'Toa Alta',\n",
       " 'Morovis',\n",
       " 'Corozal',\n",
       " 'Culebra',\n",
       " 'San German',\n",
       " 'Hatillo',\n",
       " 'Aguada',\n",
       " 'Patillas',\n",
       " 'Ceiba',\n",
       " 'Barranquitas',\n",
       " 'Juana Diaz',\n",
       " 'Rincon',\n",
       " 'Coamo',\n",
       " 'Penuelas',\n",
       " 'Loiza',\n",
       " 'Toa Baja',\n",
       " 'Vega Alta',\n",
       " 'Maricao',\n",
       " 'Lajas',\n",
       " 'Fajardo',\n",
       " 'Ciales',\n",
       " 'Gurabo',\n",
       " 'Las Marias',\n",
       " 'Manati',\n",
       " 'Dorado',\n",
       " 'Quebradillas',\n",
       " 'Jayuya',\n",
       " 'Las Piedras',\n",
       " 'Villalba',\n",
       " 'Maunabo',\n",
       " 'Guayanilla',\n",
       " 'Arroyo',\n",
       " 'Utuado',\n",
       " 'Juncos',\n",
       " 'Lares',\n",
       " 'Tinian',\n",
       " 'Mayaguez',\n",
       " 'Sabana Grande',\n",
       " 'Yabucoa',\n",
       " 'Florida',\n",
       " 'Adjuntas',\n",
       " 'Catano',\n",
       " 'Salinas',\n",
       " 'Humacao',\n",
       " 'Aguadilla',\n",
       " 'Cabo Rojo',\n",
       " 'Naranjito',\n",
       " 'Cayey',\n",
       " 'Santa Isabel',\n",
       " 'Guayama',\n",
       " 'Trujillo Alto',\n",
       " 'Ponce',\n",
       " 'Luquillo',\n",
       " 'Camuy',\n",
       " 'Vieques',\n",
       " 'Comerio',\n",
       " 'Bayamon',\n",
       " 'Cidra',\n",
       " 'Vega Baja',\n",
       " 'Orocovis',\n",
       " 'Guaynabo',\n",
       " 'Arecibo',\n",
       " 'Caguas',\n",
       " 'Hormigueros',\n",
       " 'Canovanas',\n",
       " 'Naguabo',\n",
       " 'Anasco',\n",
       " 'Aguas Buenas',\n",
       " 'Saipan',\n",
       " 'Yauco',\n",
       " 'Barceloneta',\n",
       " 'Isabela',\n",
       " 'Carolina',\n",
       " 'San Sebastian',\n",
       " 'Aibonito']"
      ]
     },
     "execution_count": 58,
     "metadata": {},
     "output_type": "execute_result"
    }
   ],
   "source": [
    "nyt_df = nyt_df[nyt_df['county'] != 'Unknown']\n",
    "list(set(nyt_df['county']) - set(pop_df['county']))"
   ]
  },
  {
   "cell_type": "markdown",
   "metadata": {
    "colab_type": "text",
    "id": "kWMfxu0Zi1gX"
   },
   "source": [
    "The NYTimes dataset does not include diacritical marks for the names of Puerto Rico's municipios. In the interest of cultural accuracy, we will preserve them when merging with `pop_df`. \n",
    "\n",
    "The NYTimes dataset deals with New York City, Kansas City, and Joplin as their own entities. As such, they do not have valid `fips` codes; we must add our custom `fips` from our earlier census EDA."
   ]
  },
  {
   "cell_type": "code",
   "execution_count": 59,
   "metadata": {
    "colab": {},
    "colab_type": "code",
    "id": "bK_hYzrui1gY"
   },
   "outputs": [],
   "source": [
    "nyt_df['fips'] = nyt_df['fips'].astype('object')\n",
    "nyt_df.loc[nyt_df['county'] == 'New York City','fips'] = 'nyc'\n",
    "nyt_df.loc[nyt_df['county'] == 'Kansas City','fips'] = 'kc'\n",
    "nyt_df.loc[nyt_df['county'] == 'Joplin','fips'] = 'jm'\n",
    "nyt_df['fips'] = nyt_df['fips'].astype('category')"
   ]
  },
  {
   "cell_type": "markdown",
   "metadata": {
    "colab_type": "text",
    "id": "Ku-XanaCfK7R"
   },
   "source": [
    "# merge `nyt_df` and `pop_df` for feature engineering"
   ]
  },
  {
   "cell_type": "code",
   "execution_count": 60,
   "metadata": {},
   "outputs": [
    {
     "data": {
      "text/plain": [
       "array([], dtype=object)"
      ]
     },
     "execution_count": 60,
     "metadata": {},
     "output_type": "execute_result"
    }
   ],
   "source": [
    "pop_df[pop_df['state'] == 'Puerto Rico']['county'].unique()"
   ]
  },
  {
   "cell_type": "code",
   "execution_count": 75,
   "metadata": {
    "colab": {
     "base_uri": "https://localhost:8080/",
     "height": 343
    },
    "colab_type": "code",
    "id": "z-Yk5rcDi1gb",
    "outputId": "3051a17c-c880-4ba3-92a7-5a5d17f5a6ac",
    "tags": []
   },
   "outputs": [
    {
     "name": "stdout",
     "output_type": "stream",
     "text": [
      "0.2124319076538086\n",
      "(331910, 18)\n"
     ]
    },
    {
     "data": {
      "text/html": [
       "<div>\n",
       "<style scoped>\n",
       "    .dataframe tbody tr th:only-of-type {\n",
       "        vertical-align: middle;\n",
       "    }\n",
       "\n",
       "    .dataframe tbody tr th {\n",
       "        vertical-align: top;\n",
       "    }\n",
       "\n",
       "    .dataframe thead th {\n",
       "        text-align: right;\n",
       "    }\n",
       "</style>\n",
       "<table border=\"1\" class=\"dataframe\">\n",
       "  <thead>\n",
       "    <tr style=\"text-align: right;\">\n",
       "      <th></th>\n",
       "      <th>date</th>\n",
       "      <th>fips</th>\n",
       "      <th>cases</th>\n",
       "      <th>deaths</th>\n",
       "      <th>state</th>\n",
       "      <th>county</th>\n",
       "      <th>tot_pop</th>\n",
       "      <th>per_white</th>\n",
       "      <th>area</th>\n",
       "      <th>lon</th>\n",
       "      <th>lat</th>\n",
       "      <th>pop_per_area</th>\n",
       "      <th>per_gop</th>\n",
       "      <th>per_dem</th>\n",
       "      <th>total_votes</th>\n",
       "      <th>per_votes</th>\n",
       "      <th>cases_per_100k</th>\n",
       "      <th>deaths_per_100k</th>\n",
       "    </tr>\n",
       "  </thead>\n",
       "  <tbody>\n",
       "    <tr>\n",
       "      <th>0</th>\n",
       "      <td>2020-01-21</td>\n",
       "      <td>53061</td>\n",
       "      <td>1</td>\n",
       "      <td>0</td>\n",
       "      <td>Washington</td>\n",
       "      <td>Snohomish</td>\n",
       "      <td>822083</td>\n",
       "      <td>0.769645</td>\n",
       "      <td>2087.272949</td>\n",
       "      <td>-121.692780</td>\n",
       "      <td>48.046917</td>\n",
       "      <td>393.855042</td>\n",
       "      <td>0.376202</td>\n",
       "      <td>0.542634</td>\n",
       "      <td>309496.0</td>\n",
       "      <td>0.376478</td>\n",
       "      <td>0.121642</td>\n",
       "      <td>0.0</td>\n",
       "    </tr>\n",
       "    <tr>\n",
       "      <th>1</th>\n",
       "      <td>2020-01-22</td>\n",
       "      <td>53061</td>\n",
       "      <td>1</td>\n",
       "      <td>0</td>\n",
       "      <td>Washington</td>\n",
       "      <td>Snohomish</td>\n",
       "      <td>822083</td>\n",
       "      <td>0.769645</td>\n",
       "      <td>2087.272949</td>\n",
       "      <td>-121.692780</td>\n",
       "      <td>48.046917</td>\n",
       "      <td>393.855042</td>\n",
       "      <td>0.376202</td>\n",
       "      <td>0.542634</td>\n",
       "      <td>309496.0</td>\n",
       "      <td>0.376478</td>\n",
       "      <td>0.121642</td>\n",
       "      <td>0.0</td>\n",
       "    </tr>\n",
       "    <tr>\n",
       "      <th>2</th>\n",
       "      <td>2020-01-23</td>\n",
       "      <td>53061</td>\n",
       "      <td>1</td>\n",
       "      <td>0</td>\n",
       "      <td>Washington</td>\n",
       "      <td>Snohomish</td>\n",
       "      <td>822083</td>\n",
       "      <td>0.769645</td>\n",
       "      <td>2087.272949</td>\n",
       "      <td>-121.692780</td>\n",
       "      <td>48.046917</td>\n",
       "      <td>393.855042</td>\n",
       "      <td>0.376202</td>\n",
       "      <td>0.542634</td>\n",
       "      <td>309496.0</td>\n",
       "      <td>0.376478</td>\n",
       "      <td>0.121642</td>\n",
       "      <td>0.0</td>\n",
       "    </tr>\n",
       "    <tr>\n",
       "      <th>178</th>\n",
       "      <td>2020-01-24</td>\n",
       "      <td>17031</td>\n",
       "      <td>1</td>\n",
       "      <td>0</td>\n",
       "      <td>Illinois</td>\n",
       "      <td>Cook</td>\n",
       "      <td>5150233</td>\n",
       "      <td>0.654355</td>\n",
       "      <td>945.325989</td>\n",
       "      <td>-87.817429</td>\n",
       "      <td>41.839622</td>\n",
       "      <td>5448.102539</td>\n",
       "      <td>0.214193</td>\n",
       "      <td>0.743758</td>\n",
       "      <td>2055215.0</td>\n",
       "      <td>0.399053</td>\n",
       "      <td>0.019417</td>\n",
       "      <td>0.0</td>\n",
       "    </tr>\n",
       "    <tr>\n",
       "      <th>3</th>\n",
       "      <td>2020-01-24</td>\n",
       "      <td>53061</td>\n",
       "      <td>1</td>\n",
       "      <td>0</td>\n",
       "      <td>Washington</td>\n",
       "      <td>Snohomish</td>\n",
       "      <td>822083</td>\n",
       "      <td>0.769645</td>\n",
       "      <td>2087.272949</td>\n",
       "      <td>-121.692780</td>\n",
       "      <td>48.046917</td>\n",
       "      <td>393.855042</td>\n",
       "      <td>0.376202</td>\n",
       "      <td>0.542634</td>\n",
       "      <td>309496.0</td>\n",
       "      <td>0.376478</td>\n",
       "      <td>0.121642</td>\n",
       "      <td>0.0</td>\n",
       "    </tr>\n",
       "  </tbody>\n",
       "</table>\n",
       "</div>"
      ],
      "text/plain": [
       "          date   fips  cases  deaths       state     county  tot_pop  \\\n",
       "0   2020-01-21  53061      1       0  Washington  Snohomish   822083   \n",
       "1   2020-01-22  53061      1       0  Washington  Snohomish   822083   \n",
       "2   2020-01-23  53061      1       0  Washington  Snohomish   822083   \n",
       "178 2020-01-24  17031      1       0    Illinois       Cook  5150233   \n",
       "3   2020-01-24  53061      1       0  Washington  Snohomish   822083   \n",
       "\n",
       "     per_white         area         lon        lat  pop_per_area   per_gop  \\\n",
       "0     0.769645  2087.272949 -121.692780  48.046917    393.855042  0.376202   \n",
       "1     0.769645  2087.272949 -121.692780  48.046917    393.855042  0.376202   \n",
       "2     0.769645  2087.272949 -121.692780  48.046917    393.855042  0.376202   \n",
       "178   0.654355   945.325989  -87.817429  41.839622   5448.102539  0.214193   \n",
       "3     0.769645  2087.272949 -121.692780  48.046917    393.855042  0.376202   \n",
       "\n",
       "      per_dem  total_votes  per_votes  cases_per_100k  deaths_per_100k  \n",
       "0    0.542634     309496.0   0.376478        0.121642              0.0  \n",
       "1    0.542634     309496.0   0.376478        0.121642              0.0  \n",
       "2    0.542634     309496.0   0.376478        0.121642              0.0  \n",
       "178  0.743758    2055215.0   0.399053        0.019417              0.0  \n",
       "3    0.542634     309496.0   0.376478        0.121642              0.0  "
      ]
     },
     "execution_count": 75,
     "metadata": {},
     "output_type": "execute_result"
    }
   ],
   "source": [
    "tick = time()\n",
    "\n",
    "df = nyt_df.merge(pop_df, on='fips', suffixes=('_x','')).drop(['county_x', 'state_x'], axis=1)\n",
    "\n",
    "# person density\n",
    "df[['cases_per_100k', 'deaths_per_100k']] = df[['cases', 'deaths']].div(df['tot_pop'], axis=0) * 100_000\n",
    "# df[['cases_per_100k', 'deaths_per_100k']] = df[['cases_per_100k', 'deaths_per_100k']].round(4)\n",
    "\n",
    "df = df.sort_values(by=['date', 'fips'])\n",
    "\n",
    "tock = time()\n",
    "print(tock - tick)\n",
    "print(df.shape)\n",
    "df.head()"
   ]
  },
  {
   "cell_type": "code",
   "execution_count": 63,
   "metadata": {},
   "outputs": [
    {
     "data": {
      "text/plain": [
       "[]"
      ]
     },
     "execution_count": 63,
     "metadata": {},
     "output_type": "execute_result"
    }
   ],
   "source": [
    "list(set(df['county']) - set(pop_df['county']))"
   ]
  },
  {
   "cell_type": "code",
   "execution_count": 64,
   "metadata": {
    "colab": {
     "base_uri": "https://localhost:8080/",
     "height": 307
    },
    "colab_type": "code",
    "id": "VAAICt6si1gd",
    "outputId": "246398aa-5fda-4c95-b64a-8b6cadeb0a3b"
   },
   "outputs": [],
   "source": [
    "df.to_csv('data/df-no-trends.csv', index=False)"
   ]
  },
  {
   "cell_type": "code",
   "execution_count": 65,
   "metadata": {
    "colab": {},
    "colab_type": "code",
    "id": "GfvSR8Zci1gg"
   },
   "outputs": [],
   "source": [
    "cols = ['cases', 'deaths', 'cases_per_100k', 'deaths_per_100k']"
   ]
  },
  {
   "cell_type": "code",
   "execution_count": 76,
   "metadata": {
    "colab": {},
    "colab_type": "code",
    "id": "L6fzF3YYi1gj"
   },
   "outputs": [],
   "source": [
    "def add_change_cols(df, cols, pre='new_', clip=True):\n",
    "    df = df.sort_values(by=['date', 'fips'])\n",
    "    new_cols = [pre + c for c in cols]\n",
    "    df[new_cols] = df[cols] - df.groupby(by='fips')[cols].shift()\n",
    "    df[new_cols] = df[new_cols].fillna(0)\n",
    "    if clip:\n",
    "        df[new_cols] = df[new_cols].clip(lower=0)\n",
    "    return (df, new_cols)\n",
    "\n",
    "def add_savgol_cols(df, cols, window=7):\n",
    "    def my_savgol(x, w):\n",
    "        if len(x) >= w:\n",
    "            return savgol_filter(x, w, 1)\n",
    "        else:\n",
    "            new_window = int(np.ceil(len(x) / 2) * 2 - 1)\n",
    "            if new_window <= 1:\n",
    "                return x\n",
    "            else:\n",
    "                return savgol_filter(x, new_window, 1)\n",
    "    df = df.sort_values(by=['date', 'fips'])\n",
    "    cols_d = [c + '_' + str(window) + 'sg' for c in cols]\n",
    "    df[cols_d] = df.groupby(by='fips')[cols].transform(lambda x: my_savgol(x, window))\n",
    "    return (df, cols_d)"
   ]
  },
  {
   "cell_type": "code",
   "execution_count": 77,
   "metadata": {
    "colab": {
     "base_uri": "https://localhost:8080/",
     "height": 513
    },
    "colab_type": "code",
    "id": "9u02KCMvi1gm",
    "outputId": "da9a7603-517e-4ecf-a635-aacdd8ab5d71"
   },
   "outputs": [
    {
     "name": "stdout",
     "output_type": "stream",
     "text": [
      "16.117911338806152\n",
      "Index(['date', 'fips', 'cases', 'deaths', 'state', 'county', 'tot_pop',\n",
      "       'per_white', 'area', 'lon', 'lat', 'pop_per_area', 'per_gop', 'per_dem',\n",
      "       'total_votes', 'per_votes', 'cases_per_100k', 'deaths_per_100k',\n",
      "       'new_cases', 'new_deaths', 'new_cases_per_100k', 'new_deaths_per_100k',\n",
      "       'new_cases_7sg', 'new_deaths_7sg', 'new_cases_per_100k_7sg',\n",
      "       'new_deaths_per_100k_7sg', 'delta_new_cases', 'delta_new_deaths',\n",
      "       'delta_new_cases_per_100k', 'delta_new_deaths_per_100k',\n",
      "       'delta_new_cases_7sg', 'delta_new_deaths_7sg',\n",
      "       'delta_new_cases_per_100k_7sg', 'delta_new_deaths_per_100k_7sg'],\n",
      "      dtype='object')\n"
     ]
    },
    {
     "data": {
      "text/html": [
       "<div>\n",
       "<style scoped>\n",
       "    .dataframe tbody tr th:only-of-type {\n",
       "        vertical-align: middle;\n",
       "    }\n",
       "\n",
       "    .dataframe tbody tr th {\n",
       "        vertical-align: top;\n",
       "    }\n",
       "\n",
       "    .dataframe thead th {\n",
       "        text-align: right;\n",
       "    }\n",
       "</style>\n",
       "<table border=\"1\" class=\"dataframe\">\n",
       "  <thead>\n",
       "    <tr style=\"text-align: right;\">\n",
       "      <th></th>\n",
       "      <th>date</th>\n",
       "      <th>fips</th>\n",
       "      <th>cases</th>\n",
       "      <th>deaths</th>\n",
       "      <th>state</th>\n",
       "      <th>county</th>\n",
       "      <th>tot_pop</th>\n",
       "      <th>per_white</th>\n",
       "      <th>area</th>\n",
       "      <th>lon</th>\n",
       "      <th>...</th>\n",
       "      <th>new_cases_per_100k_7sg</th>\n",
       "      <th>new_deaths_per_100k_7sg</th>\n",
       "      <th>delta_new_cases</th>\n",
       "      <th>delta_new_deaths</th>\n",
       "      <th>delta_new_cases_per_100k</th>\n",
       "      <th>delta_new_deaths_per_100k</th>\n",
       "      <th>delta_new_cases_7sg</th>\n",
       "      <th>delta_new_deaths_7sg</th>\n",
       "      <th>delta_new_cases_per_100k_7sg</th>\n",
       "      <th>delta_new_deaths_per_100k_7sg</th>\n",
       "    </tr>\n",
       "  </thead>\n",
       "  <tbody>\n",
       "    <tr>\n",
       "      <th>0</th>\n",
       "      <td>2020-01-21</td>\n",
       "      <td>53061</td>\n",
       "      <td>1</td>\n",
       "      <td>0</td>\n",
       "      <td>Washington</td>\n",
       "      <td>Snohomish</td>\n",
       "      <td>822083</td>\n",
       "      <td>0.769645</td>\n",
       "      <td>2087.272949</td>\n",
       "      <td>-121.692780</td>\n",
       "      <td>...</td>\n",
       "      <td>0.000000</td>\n",
       "      <td>0.0</td>\n",
       "      <td>0.0</td>\n",
       "      <td>0.0</td>\n",
       "      <td>0.0</td>\n",
       "      <td>0.0</td>\n",
       "      <td>0.000000</td>\n",
       "      <td>0.0</td>\n",
       "      <td>0.000000</td>\n",
       "      <td>0.0</td>\n",
       "    </tr>\n",
       "    <tr>\n",
       "      <th>1</th>\n",
       "      <td>2020-01-22</td>\n",
       "      <td>53061</td>\n",
       "      <td>1</td>\n",
       "      <td>0</td>\n",
       "      <td>Washington</td>\n",
       "      <td>Snohomish</td>\n",
       "      <td>822083</td>\n",
       "      <td>0.769645</td>\n",
       "      <td>2087.272949</td>\n",
       "      <td>-121.692780</td>\n",
       "      <td>...</td>\n",
       "      <td>0.000000</td>\n",
       "      <td>0.0</td>\n",
       "      <td>0.0</td>\n",
       "      <td>0.0</td>\n",
       "      <td>0.0</td>\n",
       "      <td>0.0</td>\n",
       "      <td>0.000000</td>\n",
       "      <td>0.0</td>\n",
       "      <td>0.000000</td>\n",
       "      <td>0.0</td>\n",
       "    </tr>\n",
       "    <tr>\n",
       "      <th>2</th>\n",
       "      <td>2020-01-23</td>\n",
       "      <td>53061</td>\n",
       "      <td>1</td>\n",
       "      <td>0</td>\n",
       "      <td>Washington</td>\n",
       "      <td>Snohomish</td>\n",
       "      <td>822083</td>\n",
       "      <td>0.769645</td>\n",
       "      <td>2087.272949</td>\n",
       "      <td>-121.692780</td>\n",
       "      <td>...</td>\n",
       "      <td>0.000000</td>\n",
       "      <td>0.0</td>\n",
       "      <td>0.0</td>\n",
       "      <td>0.0</td>\n",
       "      <td>0.0</td>\n",
       "      <td>0.0</td>\n",
       "      <td>0.000000</td>\n",
       "      <td>0.0</td>\n",
       "      <td>0.000000</td>\n",
       "      <td>0.0</td>\n",
       "    </tr>\n",
       "    <tr>\n",
       "      <th>178</th>\n",
       "      <td>2020-01-24</td>\n",
       "      <td>17031</td>\n",
       "      <td>1</td>\n",
       "      <td>0</td>\n",
       "      <td>Illinois</td>\n",
       "      <td>Cook</td>\n",
       "      <td>5150233</td>\n",
       "      <td>0.654355</td>\n",
       "      <td>945.325989</td>\n",
       "      <td>-87.817429</td>\n",
       "      <td>...</td>\n",
       "      <td>-0.003467</td>\n",
       "      <td>0.0</td>\n",
       "      <td>0.0</td>\n",
       "      <td>0.0</td>\n",
       "      <td>0.0</td>\n",
       "      <td>0.0</td>\n",
       "      <td>-0.178571</td>\n",
       "      <td>0.0</td>\n",
       "      <td>-0.003467</td>\n",
       "      <td>0.0</td>\n",
       "    </tr>\n",
       "    <tr>\n",
       "      <th>3</th>\n",
       "      <td>2020-01-24</td>\n",
       "      <td>53061</td>\n",
       "      <td>1</td>\n",
       "      <td>0</td>\n",
       "      <td>Washington</td>\n",
       "      <td>Snohomish</td>\n",
       "      <td>822083</td>\n",
       "      <td>0.769645</td>\n",
       "      <td>2087.272949</td>\n",
       "      <td>-121.692780</td>\n",
       "      <td>...</td>\n",
       "      <td>0.000000</td>\n",
       "      <td>0.0</td>\n",
       "      <td>0.0</td>\n",
       "      <td>0.0</td>\n",
       "      <td>0.0</td>\n",
       "      <td>0.0</td>\n",
       "      <td>0.000000</td>\n",
       "      <td>0.0</td>\n",
       "      <td>0.000000</td>\n",
       "      <td>0.0</td>\n",
       "    </tr>\n",
       "  </tbody>\n",
       "</table>\n",
       "<p>5 rows × 34 columns</p>\n",
       "</div>"
      ],
      "text/plain": [
       "          date   fips  cases  deaths       state     county  tot_pop  \\\n",
       "0   2020-01-21  53061      1       0  Washington  Snohomish   822083   \n",
       "1   2020-01-22  53061      1       0  Washington  Snohomish   822083   \n",
       "2   2020-01-23  53061      1       0  Washington  Snohomish   822083   \n",
       "178 2020-01-24  17031      1       0    Illinois       Cook  5150233   \n",
       "3   2020-01-24  53061      1       0  Washington  Snohomish   822083   \n",
       "\n",
       "     per_white         area         lon  ...  new_cases_per_100k_7sg  \\\n",
       "0     0.769645  2087.272949 -121.692780  ...                0.000000   \n",
       "1     0.769645  2087.272949 -121.692780  ...                0.000000   \n",
       "2     0.769645  2087.272949 -121.692780  ...                0.000000   \n",
       "178   0.654355   945.325989  -87.817429  ...               -0.003467   \n",
       "3     0.769645  2087.272949 -121.692780  ...                0.000000   \n",
       "\n",
       "     new_deaths_per_100k_7sg  delta_new_cases  delta_new_deaths  \\\n",
       "0                        0.0              0.0               0.0   \n",
       "1                        0.0              0.0               0.0   \n",
       "2                        0.0              0.0               0.0   \n",
       "178                      0.0              0.0               0.0   \n",
       "3                        0.0              0.0               0.0   \n",
       "\n",
       "     delta_new_cases_per_100k  delta_new_deaths_per_100k  delta_new_cases_7sg  \\\n",
       "0                         0.0                        0.0             0.000000   \n",
       "1                         0.0                        0.0             0.000000   \n",
       "2                         0.0                        0.0             0.000000   \n",
       "178                       0.0                        0.0            -0.178571   \n",
       "3                         0.0                        0.0             0.000000   \n",
       "\n",
       "     delta_new_deaths_7sg  delta_new_cases_per_100k_7sg  \\\n",
       "0                     0.0                      0.000000   \n",
       "1                     0.0                      0.000000   \n",
       "2                     0.0                      0.000000   \n",
       "178                   0.0                     -0.003467   \n",
       "3                     0.0                      0.000000   \n",
       "\n",
       "     delta_new_deaths_per_100k_7sg  \n",
       "0                              0.0  \n",
       "1                              0.0  \n",
       "2                              0.0  \n",
       "178                            0.0  \n",
       "3                              0.0  \n",
       "\n",
       "[5 rows x 34 columns]"
      ]
     },
     "execution_count": 77,
     "metadata": {},
     "output_type": "execute_result"
    }
   ],
   "source": [
    "ding = time()\n",
    "df, new_cols = add_change_cols(df, cols, pre='new_', clip=True)\n",
    "df, new_cols_7sg = add_savgol_cols(df, new_cols)\n",
    "df, delta_new_cols = add_change_cols(df, new_cols, pre='delta_', clip=False)\n",
    "df, delta_new_cols_7sg = add_savgol_cols(df, delta_new_cols)\n",
    "dong = time()\n",
    "print(dong - ding)\n",
    "print(df.columns)\n",
    "df.head()"
   ]
  },
  {
   "cell_type": "code",
   "execution_count": 78,
   "metadata": {
    "colab": {},
    "colab_type": "code",
    "id": "fIXEpziQi1gp"
   },
   "outputs": [],
   "source": [
    "df.to_csv('data/df.csv', index=False)"
   ]
  },
  {
   "cell_type": "code",
   "execution_count": 70,
   "metadata": {
    "colab": {
     "base_uri": "https://localhost:8080/",
     "height": 282
    },
    "colab_type": "code",
    "id": "OlUxO9y66qNj",
    "outputId": "e98da91e-c025-446e-9e74-613b1611c0f9"
   },
   "outputs": [
    {
     "data": {
      "text/plain": [
       "[<matplotlib.lines.Line2D at 0x24248884108>]"
      ]
     },
     "execution_count": 70,
     "metadata": {},
     "output_type": "execute_result"
    },
    {
     "data": {
      "image/png": "[encoded data removed]",
      "text/plain": [
       "<Figure size 432x288 with 1 Axes>"
      ]
     },
     "metadata": {
      "needs_background": "light"
     },
     "output_type": "display_data"
    }
   ],
   "source": [
    "county = 'Los Angeles'\n",
    "temp_df = df[df['county'] == county]\n",
    "plt.plot(np.arange(len(temp_df)), 'new_cases', data=temp_df, color='gray')\n",
    "plt.plot(np.arange(len(temp_df)), 'new_cases_7sg', data=temp_df, color='red')"
   ]
  },
  {
   "cell_type": "code",
   "execution_count": 71,
   "metadata": {},
   "outputs": [
    {
     "data": {
      "text/plain": [
       "[<matplotlib.lines.Line2D at 0x24248d24e08>]"
      ]
     },
     "execution_count": 71,
     "metadata": {},
     "output_type": "execute_result"
    },
    {
     "data": {
      "image/png": "[encoded data removed]",
      "text/plain": [
       "<Figure size 432x288 with 1 Axes>"
      ]
     },
     "metadata": {
      "needs_background": "light"
     },
     "output_type": "display_data"
    }
   ],
   "source": [
    "county = 'New York City'\n",
    "temp_df = df[df['county'] == county]\n",
    "plt.plot(np.arange(len(temp_df)), 'new_cases', data=temp_df, color='gray')\n",
    "plt.plot(np.arange(len(temp_df)), 'new_cases_7sg', data=temp_df, color='red')"
   ]
  }
 ],
 "metadata": {
  "colab": {
   "collapsed_sections": [],
   "include_colab_link": true,
   "name": "nyt-covid-data-county.ipynb",
   "provenance": []
  },
  "kernelspec": {
   "display_name": "Python 3",
   "language": "python",
   "name": "python3"
  },
  "language_info": {
   "codemirror_mode": {
    "name": "ipython",
    "version": 3
   },
   "file_extension": ".py",
   "mimetype": "text/x-python",
   "name": "python",
   "nbconvert_exporter": "python",
   "pygments_lexer": "ipython3",
   "version": "3.7.7"
  }
 },
 "nbformat": 4,
 "nbformat_minor": 4
}
