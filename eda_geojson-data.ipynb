{
 "cells": [
  {
   "cell_type": "markdown",
   "metadata": {},
   "source": [
    "# GeoJSON Data EDA"
   ]
  },
  {
   "cell_type": "code",
   "execution_count": 1,
   "metadata": {},
   "outputs": [],
   "source": [
    "import numpy as np\n",
    "import pandas as pd\n",
    "\n",
    "from urllib.request import urlopen\n",
    "from requests_html import HTMLSession\n",
    "import json\n",
    "\n",
    "import itertools\n",
    "\n",
    "import re\n",
    "\n",
    "from time import time\n",
    "from datetime import datetime, timedelta\n",
    "\n",
    "from shapely.geometry import Polygon"
   ]
  },
  {
   "cell_type": "markdown",
   "metadata": {
    "colab_type": "text",
    "id": "FGH01VFhfK6X"
   },
   "source": [
    "# import geojson for boundaries and census areas"
   ]
  },
  {
   "cell_type": "code",
   "execution_count": 2,
   "metadata": {
    "colab": {},
    "colab_type": "code",
    "id": "M3faduMyEPRU"
   },
   "outputs": [],
   "source": [
    "with urlopen('https://raw.githubusercontent.com/plotly/datasets/master/geojson-counties-fips.json') as response:\n",
    "    county_json = json.load(response)"
   ]
  },
  {
   "cell_type": "code",
   "execution_count": 3,
   "metadata": {},
   "outputs": [
    {
     "data": {
      "text/plain": [
       "{'type': 'Feature',\n",
       " 'properties': {'GEO_ID': '0500000US01001',\n",
       "  'STATE': '01',\n",
       "  'COUNTY': '001',\n",
       "  'NAME': 'Autauga',\n",
       "  'LSAD': 'County',\n",
       "  'CENSUSAREA': 594.436},\n",
       " 'geometry': {'type': 'Polygon',\n",
       "  'coordinates': [[[-86.496774, 32.344437],\n",
       "    [-86.717897, 32.402814],\n",
       "    [-86.814912, 32.340803],\n",
       "    [-86.890581, 32.502974],\n",
       "    [-86.917595, 32.664169],\n",
       "    [-86.71339, 32.661732],\n",
       "    [-86.714219, 32.705694],\n",
       "    [-86.413116, 32.707386],\n",
       "    [-86.411172, 32.409937],\n",
       "    [-86.496774, 32.344437]]]},\n",
       " 'id': '01001'}"
      ]
     },
     "execution_count": 3,
     "metadata": {},
     "output_type": "execute_result"
    }
   ],
   "source": [
    "county_json['features'][0]"
   ]
  },
  {
   "cell_type": "code",
   "execution_count": 23,
   "metadata": {},
   "outputs": [
    {
     "data": {
      "text/plain": [
       "['kc', 'nyc', '02158', '46102', 'jm']"
      ]
     },
     "execution_count": 23,
     "metadata": {},
     "output_type": "execute_result"
    }
   ],
   "source": [
    "fips_to_add_to_json = list(set(nyt_df['fips']) - set([f['id'] for f in county_json['features']]))\n",
    "fips_to_add_to_json"
   ]
  },
  {
   "cell_type": "markdown",
   "metadata": {},
   "source": [
    "The `plotly` county GeoJSON dataset is missing Kusilvak Census Area (`'02158'`) and Oglala Lakota County(`'46102'`), in addition to the three cities included in the NYTimes data (New York City, Kansas City, Joplin). GeoJSON data for these five areas compiled from [nomanatim](https://nominatim.openstreetmap.org/) and [polygons](http://polygons.openstreetmap.fr/).\n",
    "\n",
    "- Search for the area at [nomanatim](https://nominatim.openstreetmap.org/).\n",
    "- Select `details` from the relevant entry.\n",
    "- Copy the numeric `code` under `OSM`, ignoring \"relation\". Eg. for New York City, copy `175905`.\n",
    "- Search for the `code` at [polygons](http://polygons.openstreetmap.fr/).\n",
    "- For our purposes, GeoJSONs were selected according to the following criteria: (1) sparsity of vertices (`NPoints`) and (2) accuracy of shape."
   ]
  },
  {
   "cell_type": "code",
   "execution_count": 24,
   "metadata": {},
   "outputs": [],
   "source": [
    "# new york city, ny\n",
    "with urlopen('https://raw.githubusercontent.com/jydiw/nyt-covid-19-data/master/data/nyc.txt') as response:\n",
    "    nyc_json = json.load(response)\n",
    "\n",
    "# kansas city, mo/ks\n",
    "with urlopen('https://raw.githubusercontent.com/jydiw/nyt-covid-19-data/master/data/kcm.txt') as response:\n",
    "    kcm_json = json.load(response)\n",
    "with urlopen('https://raw.githubusercontent.com/jydiw/nyt-covid-19-data/master/data/kck.txt') as response:\n",
    "    kck_json = json.load(response)\n",
    "kc_json = dict(\n",
    "    coordinates = kcm_json['coordinates'] + kck_json['coordinates']\n",
    ")\n",
    "\n",
    "# joplin, mo\n",
    "with urlopen('https://raw.githubusercontent.com/jydiw/nyt-covid-19-data/master/data/jm.txt') as response:\n",
    "    jm_json = json.load(response)\n",
    "\n",
    "# oglala lakota county, nd\n",
    "with urlopen('https://raw.githubusercontent.com/jydiw/nyt-covid-19-data/master/data/olsd.txt') as response:\n",
    "    olsd_json = json.load(response)\n",
    "\n",
    "# kusilvak census area, ak\n",
    "with urlopen('https://raw.githubusercontent.com/jydiw/nyt-covid-19-data/master/data/kca.txt') as response:\n",
    "    kca_json = json.load(response)"
   ]
  },
  {
   "cell_type": "code",
   "execution_count": 25,
   "metadata": {},
   "outputs": [],
   "source": [
    "# https://stackoverflow.com/questions/41271146/\n",
    "def clean_coordinates(c):\n",
    "    return [list(itertools.chain(*d)) for d in c]"
   ]
  },
  {
   "cell_type": "code",
   "execution_count": 26,
   "metadata": {},
   "outputs": [],
   "source": [
    "add_to_json_dict = {\n",
    "    '02158':{'area':17_081.43,\n",
    "             'name':'Kusilvak Census Area',\n",
    "             'coordinates':clean_coordinates(kca_json['coordinates'])}, \n",
    "    '46102':{'area':2_093.90,\n",
    "             'name':'Oglala Lakota',\n",
    "             'coordinates':clean_coordinates(olsd_json['coordinates'])},\n",
    "    'jm':{'area':35.56,\n",
    "          'name':'Joplin',\n",
    "          'coordinates':clean_coordinates(jm_json['geometries'][0]['coordinates'])},\n",
    "    'kc':{'area':124.81+314.95,\n",
    "          'name':'Kansas City',\n",
    "          'coordinates':clean_coordinates(kc_json['coordinates'])},\n",
    "    'nyc':{'area':302.64,\n",
    "           'name':'New York City',\n",
    "           'coordinates':clean_coordinates(nyc_json['coordinates'])}\n",
    "}"
   ]
  },
  {
   "cell_type": "code",
   "execution_count": 27,
   "metadata": {
    "colab": {},
    "colab_type": "code",
    "id": "HabI52rrDgsz"
   },
   "outputs": [],
   "source": [
    "for fips in fips_to_add_to_json:\n",
    "    county_json['features'].append(\n",
    "        {\n",
    "            'geometry': {'coordinates': add_to_json_dict[fips]['coordinates'],\n",
    "                         'type': 'Polygon'},\n",
    "            'id': fips,\n",
    "            'properties': {'NAME': add_to_json_dict[fips]['name'],\n",
    "                           'CENSUSAREA': add_to_json_dict[fips]['area']},\n",
    "            'type': 'Feature'\n",
    "        }\n",
    "    )"
   ]
  },
  {
   "cell_type": "code",
   "execution_count": 28,
   "metadata": {},
   "outputs": [],
   "source": [
    "with open('data/county_json.json', 'w') as f:\n",
    "    json.dump(county_json, f)"
   ]
  },
  {
   "cell_type": "code",
   "execution_count": 29,
   "metadata": {
    "colab": {},
    "colab_type": "code",
    "id": "4emaegTtfK7U"
   },
   "outputs": [],
   "source": [
    "def county_area(i, j=county_json):\n",
    "    for d in j['features']:\n",
    "        if d['id'] == i:\n",
    "            return d['properties']['CENSUSAREA']"
   ]
  },
  {
   "cell_type": "code",
   "execution_count": 30,
   "metadata": {
    "tags": []
   },
   "outputs": [
    {
     "name": "stdout",
     "output_type": "stream",
     "text": [
      "439.76\n",
      "302.64\n",
      "17081.43\n",
      "2093.9\n",
      "35.56\n"
     ]
    }
   ],
   "source": [
    "for fips in fips_to_add_to_json:\n",
    "    print(county_area(fips))"
   ]
  },
  {
   "cell_type": "markdown",
   "metadata": {},
   "source": [
    "# add latitude and longitude coordinates"
   ]
  },
  {
   "cell_type": "code",
   "execution_count": 31,
   "metadata": {
    "colab": {},
    "colab_type": "code",
    "id": "ESe0NZVLfK60"
   },
   "outputs": [],
   "source": [
    "def centroid(i, j=county_json):\n",
    "    for d in j['features']:\n",
    "        if d['id'] == i:\n",
    "            shapes = np.array(d['geometry']['coordinates']).flatten()\n",
    "            try:\n",
    "                areas = [Polygon(shape).area for shape in shapes]\n",
    "                p = Polygon(shapes[areas.index(max(areas))])\n",
    "                lon, lat = p.centroid.coords[0]\n",
    "            except:\n",
    "                shapes = np.reshape(shapes, (-1, 2))\n",
    "                p = Polygon(shapes)\n",
    "                lon, lat = p.centroid.coords[0]\n",
    "            return lon, lat"
   ]
  },
  {
   "cell_type": "code",
   "execution_count": 32,
   "metadata": {
    "tags": []
   },
   "outputs": [
    {
     "name": "stdout",
     "output_type": "stream",
     "text": [
      "2\n"
     ]
    },
    {
     "data": {
      "text/plain": [
       "[0.0899984999999991, 0.035515830415977646]"
      ]
     },
     "execution_count": 32,
     "metadata": {},
     "output_type": "execute_result"
    }
   ],
   "source": [
    "for d in county_json['features']:\n",
    "    if d['id'] == fips_to_add_to_json[0]:\n",
    "        shapes = d['geometry']['coordinates']\n",
    "\n",
    "print(len(shapes))\n",
    "areas = [Polygon(shape).area for shape in shapes]\n",
    "areas"
   ]
  },
  {
   "cell_type": "code",
   "execution_count": 33,
   "metadata": {
    "tags": []
   },
   "outputs": [
    {
     "name": "stdout",
     "output_type": "stream",
     "text": [
      "(-94.5544223903731, 39.1271954680726)\n",
      "(-73.93936847673419, 40.66351613943744)\n",
      "(-163.5144805328244, 62.15824463834583)\n",
      "(-102.72778156028366, 43.18510744680853)\n",
      "(-94.50560539941796, 37.07916084816835)\n"
     ]
    }
   ],
   "source": [
    "for fips in fips_to_add_to_json:\n",
    "    print(centroid(fips))"
   ]
  },
  {
   "cell_type": "markdown",
   "metadata": {},
   "source": [
    "# add area and coordinates to `pop_df`"
   ]
  },
  {
   "cell_type": "code",
   "execution_count": 34,
   "metadata": {
    "tags": []
   },
   "outputs": [
    {
     "name": "stdout",
     "output_type": "stream",
     "text": [
      "0.759967565536499\n"
     ]
    }
   ],
   "source": [
    "tick = time()\n",
    "pop_df['area'] = pop_df['fips'].apply(county_area)\n",
    "pop_df['lon'], pop_df['lat'] = zip(*pop_df['fips'].apply(centroid).to_list())\n",
    "pop_df = optimize(pop_df)\n",
    "tock = time()\n",
    "print(tock - tick)"
   ]
  },
  {
   "cell_type": "code",
   "execution_count": 35,
   "metadata": {},
   "outputs": [
    {
     "data": {
      "text/html": [
       "<div>\n",
       "<style scoped>\n",
       "    .dataframe tbody tr th:only-of-type {\n",
       "        vertical-align: middle;\n",
       "    }\n",
       "\n",
       "    .dataframe tbody tr th {\n",
       "        vertical-align: top;\n",
       "    }\n",
       "\n",
       "    .dataframe thead th {\n",
       "        text-align: right;\n",
       "    }\n",
       "</style>\n",
       "<table border=\"1\" class=\"dataframe\">\n",
       "  <thead>\n",
       "    <tr style=\"text-align: right;\">\n",
       "      <th></th>\n",
       "      <th>state</th>\n",
       "      <th>county</th>\n",
       "      <th>population</th>\n",
       "      <th>fips</th>\n",
       "      <th>area</th>\n",
       "      <th>lon</th>\n",
       "      <th>lat</th>\n",
       "    </tr>\n",
       "  </thead>\n",
       "  <tbody>\n",
       "    <tr>\n",
       "      <th>0</th>\n",
       "      <td>Alabama</td>\n",
       "      <td>Autauga</td>\n",
       "      <td>55869</td>\n",
       "      <td>01001</td>\n",
       "      <td>594.435974</td>\n",
       "      <td>-86.641197</td>\n",
       "      <td>32.536152</td>\n",
       "    </tr>\n",
       "    <tr>\n",
       "      <th>1</th>\n",
       "      <td>Alabama</td>\n",
       "      <td>Baldwin</td>\n",
       "      <td>223234</td>\n",
       "      <td>01003</td>\n",
       "      <td>1589.784058</td>\n",
       "      <td>-87.723953</td>\n",
       "      <td>30.725863</td>\n",
       "    </tr>\n",
       "    <tr>\n",
       "      <th>2</th>\n",
       "      <td>Alabama</td>\n",
       "      <td>Barbour</td>\n",
       "      <td>24686</td>\n",
       "      <td>01005</td>\n",
       "      <td>884.875977</td>\n",
       "      <td>-85.389244</td>\n",
       "      <td>31.867889</td>\n",
       "    </tr>\n",
       "    <tr>\n",
       "      <th>3</th>\n",
       "      <td>Alabama</td>\n",
       "      <td>Bibb</td>\n",
       "      <td>22394</td>\n",
       "      <td>01007</td>\n",
       "      <td>622.581970</td>\n",
       "      <td>-87.124962</td>\n",
       "      <td>32.996456</td>\n",
       "    </tr>\n",
       "    <tr>\n",
       "      <th>4</th>\n",
       "      <td>Alabama</td>\n",
       "      <td>Blount</td>\n",
       "      <td>57826</td>\n",
       "      <td>01009</td>\n",
       "      <td>644.776001</td>\n",
       "      <td>-86.569756</td>\n",
       "      <td>33.985249</td>\n",
       "    </tr>\n",
       "  </tbody>\n",
       "</table>\n",
       "</div>"
      ],
      "text/plain": [
       "     state   county  population   fips         area        lon        lat\n",
       "0  Alabama  Autauga       55869  01001   594.435974 -86.641197  32.536152\n",
       "1  Alabama  Baldwin      223234  01003  1589.784058 -87.723953  30.725863\n",
       "2  Alabama  Barbour       24686  01005   884.875977 -85.389244  31.867889\n",
       "3  Alabama     Bibb       22394  01007   622.581970 -87.124962  32.996456\n",
       "4  Alabama   Blount       57826  01009   644.776001 -86.569756  33.985249"
      ]
     },
     "execution_count": 35,
     "metadata": {},
     "output_type": "execute_result"
    }
   ],
   "source": [
    "pop_df.head()"
   ]
  },
  {
   "cell_type": "code",
   "execution_count": 36,
   "metadata": {},
   "outputs": [],
   "source": [
    "pop_df.to_csv('data/pop_df.csv', index=False)"
   ]
  }
 ],
 "metadata": {
  "kernelspec": {
   "display_name": "Python 3",
   "language": "python",
   "name": "python3"
  },
  "language_info": {
   "codemirror_mode": {
    "name": "ipython",
    "version": 3
   },
   "file_extension": ".py",
   "mimetype": "text/x-python",
   "name": "python",
   "nbconvert_exporter": "python",
   "pygments_lexer": "ipython3",
   "version": "3.7.7"
  }
 },
 "nbformat": 4,
 "nbformat_minor": 4
}
