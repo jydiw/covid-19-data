{
 "cells": [
  {
   "cell_type": "code",
   "execution_count": 1,
   "metadata": {},
   "outputs": [],
   "source": [
    "#hide\n",
    "import json\n",
    "from datetime import datetime, timedelta\n",
    "from pytz import timezone\n",
    "from time import time\n",
    "from urllib.request import urlopen\n",
    "\n",
    "import numpy as np\n",
    "import numpy.polynomial.polynomial as poly\n",
    "import pandas as pd\n",
    "\n",
    "import altair as alt\n",
    "from altair import datum\n",
    "import matplotlib.pyplot as plt\n",
    "from mpl_toolkits.mplot3d import Axes3D\n",
    "import seaborn as sns\n",
    "\n",
    "alt.data_transformers.enable('data_server');"
   ]
  },
  {
   "cell_type": "code",
   "execution_count": 2,
   "metadata": {},
   "outputs": [],
   "source": [
    "#hide\n",
    "def optimize(df):\n",
    "    '''\n",
    "    Optimizes the data types in a pandas dataframe.\n",
    "    '''\n",
    "    dft = df.copy()\n",
    "    # converts to datetime if possible\n",
    "    dft = dft.apply(lambda col:\n",
    "        pd.to_datetime(col, errors='ignore') if col.dtypes=='object' else col)\n",
    "    \n",
    "    # if there are less than half as many unique values as there are rows, convert to category\n",
    "    for col in dft.select_dtypes(include='object'):\n",
    "        if len(dft[col].unique()) / len(df[col]) < 0.5:\n",
    "            dft[col] = dft[col].astype('category')\n",
    "            \n",
    "    # downcasts numeric columns if possible\n",
    "    dft = dft.apply(lambda col: \n",
    "        pd.to_numeric(col, downcast='integer') if col.dtypes=='int64' else col)\n",
    "    dft = dft.apply(lambda col: \n",
    "        pd.to_numeric(col, downcast='float') if col.dtypes=='float64' else col)\n",
    "    \n",
    "    return dft"
   ]
  },
  {
   "cell_type": "code",
   "execution_count": 3,
   "metadata": {},
   "outputs": [],
   "source": [
    "#hide\n",
    "df = optimize(pd.read_csv('data/df.csv'))\n",
    "pop_df_ac = optimize(pd.read_csv('data/pop_df_ac.csv', \n",
    "                                 dtype={'fips':'str', 'cluster':'int'}))\n",
    "# df['days'] = ((df['date'] - df['date'].min()) / np.timedelta64(1, 'D')).astype('int')\n",
    "# df['rate'] = df['deaths'] / df['cases']\n",
    "# la = timezone('US/Pacific')\n",
    "# last = df['date'].max()\n",
    "# df_slice = df[df['date'] == last]\n",
    "# df_slice.head()"
   ]
  },
  {
   "cell_type": "code",
   "execution_count": 4,
   "metadata": {},
   "outputs": [],
   "source": [
    "#hide\n",
    "color_dict = dict(\n",
    "    per_gop=dict(\n",
    "        scheme='redblue',\n",
    "        sort='descending',\n",
    "        mid=0.5\n",
    "    ),\n",
    "    mask=dict(\n",
    "        scheme='brownbluegreen',\n",
    "        sort='ascending',\n",
    "        mid=pop_df_ac['mask'].median()\n",
    "    ),\n",
    "    median_income=dict(\n",
    "        scheme='purplegreen',\n",
    "        sort='ascending',\n",
    "        mid=61937\n",
    "    ),\n",
    "    edu=dict(\n",
    "        scheme='blueorange',\n",
    "        sort='ascending',\n",
    "        mid=pop_df_ac['edu'].median()\n",
    "    )\n",
    ")"
   ]
  },
  {
   "cell_type": "markdown",
   "metadata": {},
   "source": [
    "# \"Iceberg\" Plots\n",
    "\n",
    "I've coined the term \"iceberg\" to refer to a stacked area chart where the two halves are split along the color axis. The two halves are engineered in a way that their cumulative sum populations are approximately equal to each other."
   ]
  },
  {
   "cell_type": "code",
   "execution_count": 5,
   "metadata": {},
   "outputs": [],
   "source": [
    "#collapse-hide\n",
    "def make_iceberg_chart(df, pop_df_ac, params):\n",
    "    \n",
    "    # https://stackoverflow.com/a/41489086\n",
    "    # find cutoff to split dataframe into equal-population halves\n",
    "    total = pop_df_ac['total_pop'].sum()\n",
    "    half = total / 2\n",
    "    sorted_pop_df_ac = pop_df_ac.sort_values(by=params['c_col'])\n",
    "    # returns last index where cumsum < half\n",
    "    cutoff_idx = np.flatnonzero(sorted_pop_df_ac['total_pop'].cumsum() < half)[-1]\n",
    "    cutoff_val = sorted_pop_df_ac[params['c_col']].iloc[cutoff_idx]\n",
    "    \n",
    "    # checks the half\n",
    "    h0 = sorted_pop_df_ac['total_pop'][:cutoff_idx + 1].sum() / total\n",
    "    print(f'{h0*100:.1f}')\n",
    "    \n",
    "    base = alt.Chart(df).properties(\n",
    "        title=params['chart_title'],\n",
    "        width=720,\n",
    "        height=480\n",
    "    )\n",
    "    \n",
    "    c_datum = 'datum.' + params['c_col']\n",
    "    \n",
    "    # top of iceberg: c_col > cutoff_val\n",
    "    top = base.mark_area(opacity=0.8).transform_filter(\n",
    "        (eval(c_datum) > cutoff_val)\n",
    "    ).encode(\n",
    "        alt.X('date:T', title='Date'),\n",
    "        alt.Y(params['y_col'] + ':Q'),\n",
    "        color=alt.Color(\n",
    "            params['c_col'] + ':Q',\n",
    "            scale=alt.Scale(\n",
    "                scheme=color_dict[params['c_col']]['scheme'],\n",
    "                domain=[np.percentile(df[params['c_col']].unique(), 1), \n",
    "                        np.percentile(df[params['c_col']].unique(), 99)],\n",
    "                domainMid=color_dict[params['c_col']]['mid'],\n",
    "            ),\n",
    "            sort=color_dict[params['c_col']]['sort'],\n",
    "        ),\n",
    "        order=alt.Order(params['c_col'], sort='ascending')\n",
    "    )\n",
    "    \n",
    "    # bottom of iceberg: c_col <= cutoff_val\n",
    "    bottom = base.mark_area(opacity=0.8).transform_filter(\n",
    "        (eval(c_datum) <= cutoff_val)\n",
    "    ).transform_calculate(\n",
    "        y_alt='datum.' + params['y_col'] + '* -1'\n",
    "    ).encode(\n",
    "        alt.X('date:T', title='Date'),\n",
    "        alt.Y('y_alt:Q', axis=alt.Axis(format='(.2s')),\n",
    "        color=alt.Color(\n",
    "            params['c_col'] + ':Q',\n",
    "            scale=alt.Scale(\n",
    "                scheme=color_dict[params['c_col']]['scheme'],\n",
    "                domain=[np.percentile(df[params['c_col']].unique(), 1), \n",
    "                        np.percentile(df[params['c_col']].unique(), 99)],\n",
    "                domainMid=color_dict[params['c_col']]['mid'],\n",
    "            ),\n",
    "            sort=color_dict[params['c_col']]['sort'],\n",
    "        ),\n",
    "        order=alt.Order(params['c_col'], sort='descending')\n",
    "    )\n",
    "    \n",
    "    df['zero'] = 0\n",
    "    zero = base.mark_line(color='black').encode(\n",
    "        x='date',\n",
    "        y='zero',\n",
    "        size=alt.value(0.5)\n",
    "    )\n",
    "    \n",
    "    layer = alt.layer(top, bottom, zero).encode(\n",
    "        tooltip=[\n",
    "            'state:N', 'county:N', 'date:T',\n",
    "            alt.Tooltip(\n",
    "                params['y_col'] + ':Q',\n",
    "                format='.2f',\n",
    "            )\n",
    "        ]\n",
    "    )\n",
    "    \n",
    "    return layer"
   ]
  },
  {
   "cell_type": "code",
   "execution_count": 6,
   "metadata": {},
   "outputs": [],
   "source": [
    "#hide\n",
    "def make_iceberg_chart_2(df, pop_df_ac, params):\n",
    "    \n",
    "    # https://stackoverflow.com/a/41489086\n",
    "    # find cutoff to split dataframe into equal-population halves\n",
    "    total = pop_df_ac['total_pop'].sum()\n",
    "    half = total / 2\n",
    "    sorted_pop_df_ac = pop_df_ac.sort_values(by=params['c_col'])\n",
    "    # returns last index where cumsum < half\n",
    "    cutoff_idx = np.flatnonzero(sorted_pop_df_ac['total_pop'].cumsum() < half)[-1]\n",
    "    cutoff_val = sorted_pop_df_ac[params['c_col']].iloc[cutoff_idx]\n",
    "    \n",
    "    # checks the half\n",
    "    h0 = sorted_pop_df_ac['total_pop'][:cutoff_idx + 1].sum() / total\n",
    "    print(f'{h0*100:.1f}')\n",
    "    \n",
    "    base = alt.Chart(df).properties(\n",
    "        title=params['chart_title'],\n",
    "        width=720,\n",
    "        height=480\n",
    "    )\n",
    "    \n",
    "    c_datum = 'datum.' + params['c_col']\n",
    "    \n",
    "    # top of iceberg: c_col > cutoff_val\n",
    "    points0 = base.mark_area().transform_filter(\n",
    "        (eval(c_datum) > cutoff_val)\n",
    "    ).transform_joinaggregate(\n",
    "        cases0='sum(cases)'\n",
    "    ).encode(\n",
    "        alt.X('date:T', title='Date'),\n",
    "        alt.Y(params['y_col'] + ':Q'),\n",
    "        color=alt.Color(\n",
    "            params['c_col'] + ':Q',\n",
    "            scale=alt.Scale(\n",
    "                scheme=params['c_scheme'],\n",
    "                domain=[np.percentile(df[params['c_col']].unique(), 0.5), \n",
    "                        np.percentile(df[params['c_col']].unique(), 99.5)],\n",
    "                domainMid=params['c_mid'],\n",
    "            ),\n",
    "            sort=params['c_sort'],\n",
    "        ),\n",
    "        order=alt.Order(params['c_col'], sort='ascending')\n",
    "    )\n",
    "    \n",
    "    # bottom of iceberg: c_col <= cutoff_val\n",
    "    points1 = base.mark_area().transform_filter(\n",
    "        (eval(c_datum) <= cutoff_val)\n",
    "    ).encode(\n",
    "        alt.X('date:T', title='Date'),\n",
    "        alt.Y('y_alt:Q', axis=alt.Axis(format='(.2s')),\n",
    "        color=alt.Color(\n",
    "            params['c_col'] + ':Q',\n",
    "            scale=alt.Scale(\n",
    "                scheme=params['c_scheme'],\n",
    "                domain=[np.percentile(df[params['c_col']].unique(), 1), \n",
    "                        np.percentile(df[params['c_col']].unique(), 99)],\n",
    "                domainMid=params['c_mid'],\n",
    "            ),\n",
    "            sort=params['c_sort'],\n",
    "        ),\n",
    "        order=alt.Order(params['c_col'], sort='descending'),\n",
    "    )\n",
    "    \n",
    "    line = base.mark_line(\n",
    "        color='red'\n",
    "    ).transform.calculate(\n",
    "        is_top = c_datum + '> cu'\n",
    "    ).encode(\n",
    "        x='date',\n",
    "        y='ratio'\n",
    "    )\n",
    "    \n",
    "    df['zero'] = 0\n",
    "    zero = base.mark_line(color='black').encode(\n",
    "        x='date',\n",
    "        y='zero',\n",
    "        size=alt.value(0.5)\n",
    "    )\n",
    "    \n",
    "    layer = alt.layer(points0, points1, line, zero).encode(\n",
    "        tooltip=[\n",
    "            'state:N', 'county:N', 'date:T',\n",
    "            alt.Tooltip(\n",
    "                params['y_col'] + ':Q',\n",
    "                format='.2f',\n",
    "            )\n",
    "        ]\n",
    "    )\n",
    "    \n",
    "    return layer"
   ]
  },
  {
   "cell_type": "markdown",
   "metadata": {},
   "source": [
    "## Comparing New Cases vs. Percent GOP"
   ]
  },
  {
   "cell_type": "code",
   "execution_count": 7,
   "metadata": {
    "tags": []
   },
   "outputs": [
    {
     "output_type": "stream",
     "name": "stdout",
     "text": "49.7\n"
    },
    {
     "output_type": "execute_result",
     "data": {
      "text/html": "\n<div id=\"altair-viz-4ec4303f57bd499184eec0a061033dac\"></div>\n<script type=\"text/javascript\">\n  (function(spec, embedOpt){\n    let outputDiv = document.currentScript.previousElementSibling;\n    if (outputDiv.id !== \"altair-viz-4ec4303f57bd499184eec0a061033dac\") {\n      outputDiv = document.getElementById(\"altair-viz-4ec4303f57bd499184eec0a061033dac\");\n    }\n    const paths = {\n      \"vega\": \"https://cdn.jsdelivr.net/npm//vega@5?noext\",\n      \"vega-lib\": \"https://cdn.jsdelivr.net/npm//vega-lib?noext\",\n      \"vega-lite\": \"https://cdn.jsdelivr.net/npm//vega-lite@4.8.1?noext\",\n      \"vega-embed\": \"https://cdn.jsdelivr.net/npm//vega-embed@6?noext\",\n    };\n\n    function loadScript(lib) {\n      return new Promise(function(resolve, reject) {\n        var s = document.createElement('script');\n        s.src = paths[lib];\n        s.async = true;\n        s.onload = () => resolve(paths[lib]);\n        s.onerror = () => reject(`Error loading script: ${paths[lib]}`);\n        document.getElementsByTagName(\"head\")[0].appendChild(s);\n      });\n    }\n\n    function showError(err) {\n      outputDiv.innerHTML = `<div class=\"error\" style=\"color:red;\">${err}</div>`;\n      throw err;\n    }\n\n    function displayChart(vegaEmbed) {\n      vegaEmbed(outputDiv, spec, embedOpt)\n        .catch(err => showError(`Javascript Error: ${err.message}<br>This usually means there's a typo in your chart specification. See the javascript console for the full traceback.`));\n    }\n\n    if(typeof define === \"function\" && define.amd) {\n      requirejs.config({paths});\n      require([\"vega-embed\"], displayChart, err => showError(`Error loading script: ${err.message}`));\n    } else if (typeof vegaEmbed === \"function\") {\n      displayChart(vegaEmbed);\n    } else {\n      loadScript(\"vega\")\n        .then(() => loadScript(\"vega-lite\"))\n        .then(() => loadScript(\"vega-embed\"))\n        .catch(showError)\n        .then(() => displayChart(vegaEmbed));\n    }\n  })({\"config\": {\"view\": {\"continuousWidth\": 400, \"continuousHeight\": 300}}, \"layer\": [{\"mark\": {\"type\": \"area\", \"opacity\": 0.8}, \"encoding\": {\"color\": {\"type\": \"quantitative\", \"field\": \"per_gop\", \"scale\": {\"domain\": [0.16424173712730408, 0.8539839363098144], \"domainMid\": 0.5, \"scheme\": \"redblue\"}, \"sort\": \"descending\"}, \"order\": {\"type\": \"quantitative\", \"field\": \"per_gop\", \"sort\": \"ascending\"}, \"x\": {\"type\": \"temporal\", \"field\": \"date\", \"title\": \"Date\"}, \"y\": {\"type\": \"quantitative\", \"field\": \"new_cases\"}}, \"height\": 480, \"title\": \"Cases per Day vs. Percent GOP\", \"transform\": [{\"filter\": \"(datum.per_gop > 0.47550592)\"}], \"width\": 720}, {\"mark\": {\"type\": \"area\", \"opacity\": 0.8}, \"encoding\": {\"color\": {\"type\": \"quantitative\", \"field\": \"per_gop\", \"scale\": {\"domain\": [0.16424173712730408, 0.8539839363098144], \"domainMid\": 0.5, \"scheme\": \"redblue\"}, \"sort\": \"descending\"}, \"order\": {\"type\": \"quantitative\", \"field\": \"per_gop\", \"sort\": \"descending\"}, \"x\": {\"type\": \"temporal\", \"field\": \"date\", \"title\": \"Date\"}, \"y\": {\"type\": \"quantitative\", \"axis\": {\"format\": \"(.2s\"}, \"field\": \"y_alt\"}}, \"height\": 480, \"title\": \"Cases per Day vs. Percent GOP\", \"transform\": [{\"filter\": \"(datum.per_gop <= 0.47550592)\"}, {\"calculate\": \"datum.new_cases* -1\", \"as\": \"y_alt\"}], \"width\": 720}, {\"mark\": {\"type\": \"line\", \"color\": \"black\"}, \"encoding\": {\"size\": {\"value\": 0.5}, \"x\": {\"type\": \"temporal\", \"field\": \"date\"}, \"y\": {\"type\": \"quantitative\", \"field\": \"zero\"}}, \"height\": 480, \"title\": \"Cases per Day vs. Percent GOP\", \"width\": 720}], \"data\": {\"url\": \"http://localhost:18755/65ff20e57fbddef145c5629b66578c35.json\"}, \"encoding\": {\"tooltip\": [{\"type\": \"nominal\", \"field\": \"state\"}, {\"type\": \"nominal\", \"field\": \"county\"}, {\"type\": \"temporal\", \"field\": \"date\"}, {\"type\": \"quantitative\", \"field\": \"new_cases\", \"format\": \".2f\"}]}, \"$schema\": \"https://vega.github.io/schema/vega-lite/v4.8.1.json\"}, {\"mode\": \"vega-lite\"});\n</script>",
      "text/plain": "alt.LayerChart(...)"
     },
     "metadata": {},
     "execution_count": 7
    }
   ],
   "source": [
    "#hide_input\n",
    "params = dict(\n",
    "    chart_title='Cases per Day vs. Percent GOP',\n",
    "    y_col='new_cases',\n",
    "    c_col='per_gop'\n",
    ")\n",
    "\n",
    "ice_gop = make_iceberg_chart(df, pop_df_ac, params)\n",
    "# ice_gop.save('docs/ice_gop.html')\n",
    "ice_gop"
   ]
  },
  {
   "cell_type": "markdown",
   "metadata": {},
   "source": [
    "Democratic counties still comprise most daily cases compared to their Republican counterparts. However, when splitting the country into \"Democratic\" and \"Republican\" halves, we see that Republican-leaning counties currently account for more than half of the new daily cases."
   ]
  },
  {
   "cell_type": "code",
   "execution_count": 8,
   "metadata": {},
   "outputs": [
    {
     "output_type": "execute_result",
     "data": {
      "text/html": "\n<div id=\"altair-viz-3985d91c66c94fe2bc15b4ec4001461b\"></div>\n<script type=\"text/javascript\">\n  (function(spec, embedOpt){\n    let outputDiv = document.currentScript.previousElementSibling;\n    if (outputDiv.id !== \"altair-viz-3985d91c66c94fe2bc15b4ec4001461b\") {\n      outputDiv = document.getElementById(\"altair-viz-3985d91c66c94fe2bc15b4ec4001461b\");\n    }\n    const paths = {\n      \"vega\": \"https://cdn.jsdelivr.net/npm//vega@5?noext\",\n      \"vega-lib\": \"https://cdn.jsdelivr.net/npm//vega-lib?noext\",\n      \"vega-lite\": \"https://cdn.jsdelivr.net/npm//vega-lite@4.8.1?noext\",\n      \"vega-embed\": \"https://cdn.jsdelivr.net/npm//vega-embed@6?noext\",\n    };\n\n    function loadScript(lib) {\n      return new Promise(function(resolve, reject) {\n        var s = document.createElement('script');\n        s.src = paths[lib];\n        s.async = true;\n        s.onload = () => resolve(paths[lib]);\n        s.onerror = () => reject(`Error loading script: ${paths[lib]}`);\n        document.getElementsByTagName(\"head\")[0].appendChild(s);\n      });\n    }\n\n    function showError(err) {\n      outputDiv.innerHTML = `<div class=\"error\" style=\"color:red;\">${err}</div>`;\n      throw err;\n    }\n\n    function displayChart(vegaEmbed) {\n      vegaEmbed(outputDiv, spec, embedOpt)\n        .catch(err => showError(`Javascript Error: ${err.message}<br>This usually means there's a typo in your chart specification. See the javascript console for the full traceback.`));\n    }\n\n    if(typeof define === \"function\" && define.amd) {\n      requirejs.config({paths});\n      require([\"vega-embed\"], displayChart, err => showError(`Error loading script: ${err.message}`));\n    } else if (typeof vegaEmbed === \"function\") {\n      displayChart(vegaEmbed);\n    } else {\n      loadScript(\"vega\")\n        .then(() => loadScript(\"vega-lite\"))\n        .then(() => loadScript(\"vega-embed\"))\n        .catch(showError)\n        .then(() => displayChart(vegaEmbed));\n    }\n  })({\"config\": {\"view\": {\"continuousWidth\": 400, \"continuousHeight\": 300}}, \"data\": {\"url\": \"http://localhost:18755/65ff20e57fbddef145c5629b66578c35.json\"}, \"mark\": \"area\", \"encoding\": {\"color\": {\"type\": \"quantitative\", \"field\": \"per_gop\", \"scale\": {\"domain\": [0.16424173712730408, 0.8539839363098144], \"domainMid\": 0.5, \"scheme\": \"redblue\"}, \"sort\": \"descending\"}, \"x\": {\"type\": \"temporal\", \"field\": \"date\", \"title\": \"Date\"}, \"y\": {\"type\": \"quantitative\", \"field\": \"cases\", \"stack\": \"normalize\"}}, \"$schema\": \"https://vega.github.io/schema/vega-lite/v4.8.1.json\"}, {\"mode\": \"vega-lite\"});\n</script>",
      "text/plain": "alt.Chart(...)"
     },
     "metadata": {},
     "execution_count": 8
    }
   ],
   "source": [
    "#hide_input\n",
    "norm_cases = alt.Chart(df).mark_area().encode(\n",
    "    alt.X('date:T', title='Date'),\n",
    "    alt.Y('cases:Q', stack='normalize'),\n",
    "    color=alt.Color(\n",
    "        'per_gop' + ':Q',\n",
    "        scale=alt.Scale(\n",
    "            scheme='redblue',\n",
    "            domain=[np.percentile(df['per_gop'].unique(), 1), \n",
    "                    np.percentile(df['per_gop'].unique(), 99)],\n",
    "            domainMid=0.5,\n",
    "        ),\n",
    "        sort='descending',\n",
    "    ),\n",
    ")\n",
    "\n",
    "# norm_cases.save('docs/norm_cases.html')\n",
    "norm_cases"
   ]
  },
  {
   "cell_type": "markdown",
   "metadata": {},
   "source": [
    "When looking at the share of total cases, Republican counties are catching up due to the virus hitting the Southern states."
   ]
  },
  {
   "cell_type": "code",
   "execution_count": 30,
   "metadata": {},
   "outputs": [
    {
     "data": {
      "text/html": [
       "\n",
       "<div id=\"altair-viz-b6a014d50cb340eeabe39a0629374b9e\"></div>\n",
       "<script type=\"text/javascript\">\n",
       "  (function(spec, embedOpt){\n",
       "    let outputDiv = document.currentScript.previousElementSibling;\n",
       "    if (outputDiv.id !== \"altair-viz-b6a014d50cb340eeabe39a0629374b9e\") {\n",
       "      outputDiv = document.getElementById(\"altair-viz-b6a014d50cb340eeabe39a0629374b9e\");\n",
       "    }\n",
       "    const paths = {\n",
       "      \"vega\": \"https://cdn.jsdelivr.net/npm//vega@5?noext\",\n",
       "      \"vega-lib\": \"https://cdn.jsdelivr.net/npm//vega-lib?noext\",\n",
       "      \"vega-lite\": \"https://cdn.jsdelivr.net/npm//vega-lite@4.8.1?noext\",\n",
       "      \"vega-embed\": \"https://cdn.jsdelivr.net/npm//vega-embed@6?noext\",\n",
       "    };\n",
       "\n",
       "    function loadScript(lib) {\n",
       "      return new Promise(function(resolve, reject) {\n",
       "        var s = document.createElement('script');\n",
       "        s.src = paths[lib];\n",
       "        s.async = true;\n",
       "        s.onload = () => resolve(paths[lib]);\n",
       "        s.onerror = () => reject(`Error loading script: ${paths[lib]}`);\n",
       "        document.getElementsByTagName(\"head\")[0].appendChild(s);\n",
       "      });\n",
       "    }\n",
       "\n",
       "    function showError(err) {\n",
       "      outputDiv.innerHTML = `<div class=\"error\" style=\"color:red;\">${err}</div>`;\n",
       "      throw err;\n",
       "    }\n",
       "\n",
       "    function displayChart(vegaEmbed) {\n",
       "      vegaEmbed(outputDiv, spec, embedOpt)\n",
       "        .catch(err => showError(`Javascript Error: ${err.message}<br>This usually means there's a typo in your chart specification. See the javascript console for the full traceback.`));\n",
       "    }\n",
       "\n",
       "    if(typeof define === \"function\" && define.amd) {\n",
       "      requirejs.config({paths});\n",
       "      require([\"vega-embed\"], displayChart, err => showError(`Error loading script: ${err.message}`));\n",
       "    } else if (typeof vegaEmbed === \"function\") {\n",
       "      displayChart(vegaEmbed);\n",
       "    } else {\n",
       "      loadScript(\"vega\")\n",
       "        .then(() => loadScript(\"vega-lite\"))\n",
       "        .then(() => loadScript(\"vega-embed\"))\n",
       "        .catch(showError)\n",
       "        .then(() => displayChart(vegaEmbed));\n",
       "    }\n",
       "  })({\"config\": {\"view\": {\"continuousWidth\": 400, \"continuousHeight\": 300}}, \"data\": {\"url\": \"http://localhost:19789/d1cdf50bbe97bbb301e60d40e4726aff.json\"}, \"mark\": \"area\", \"encoding\": {\"color\": {\"type\": \"quantitative\", \"field\": \"per_gop\", \"scale\": {\"domain\": [0.16424173712730408, 0.8539839363098144], \"domainMid\": 0.5, \"scheme\": \"redblue\"}, \"sort\": \"descending\"}, \"x\": {\"type\": \"temporal\", \"field\": \"date\", \"title\": \"Date\"}, \"y\": {\"type\": \"quantitative\", \"field\": \"new_cases\", \"stack\": \"normalize\"}}, \"$schema\": \"https://vega.github.io/schema/vega-lite/v4.8.1.json\"}, {\"mode\": \"vega-lite\"});\n",
       "</script>"
      ],
      "text/plain": [
       "alt.Chart(...)"
      ]
     },
     "execution_count": 30,
     "metadata": {},
     "output_type": "execute_result"
    }
   ],
   "source": [
    "#hide_input\n",
    "norm_new_cases = alt.Chart(df).mark_area().encode(\n",
    "    alt.X('date:T', title='Date'),\n",
    "    alt.Y('new_cases:Q', stack='normalize'),\n",
    "    color=alt.Color(\n",
    "        'per_gop' + ':Q',\n",
    "        scale=alt.Scale(\n",
    "            scheme='redblue',\n",
    "            domain=[np.percentile(df['per_gop'].unique(), 1), \n",
    "                    np.percentile(df['per_gop'].unique(), 99)],\n",
    "            domainMid=0.5,\n",
    "        ),\n",
    "        sort='descending',\n",
    "    ),\n",
    ")\n",
    "\n",
    "# norm_new_cases.save('docs/norm_new_cases.html')\n",
    "norm_new_cases"
   ]
  },
  {
   "cell_type": "markdown",
   "metadata": {},
   "source": [
    "## Comparing New Cases vs. Educational Attainment"
   ]
  },
  {
   "cell_type": "markdown",
   "metadata": {},
   "source": [
    "Counties with lower educational attainment coefficient have a disproportionate share of new cases:"
   ]
  },
  {
   "cell_type": "code",
   "execution_count": 9,
   "metadata": {
    "tags": []
   },
   "outputs": [
    {
     "output_type": "stream",
     "name": "stdout",
     "text": "49.2\n"
    },
    {
     "output_type": "execute_result",
     "data": {
      "text/html": "\n<div id=\"altair-viz-af13cad1d1f346d6b9835364474da6dc\"></div>\n<script type=\"text/javascript\">\n  (function(spec, embedOpt){\n    let outputDiv = document.currentScript.previousElementSibling;\n    if (outputDiv.id !== \"altair-viz-af13cad1d1f346d6b9835364474da6dc\") {\n      outputDiv = document.getElementById(\"altair-viz-af13cad1d1f346d6b9835364474da6dc\");\n    }\n    const paths = {\n      \"vega\": \"https://cdn.jsdelivr.net/npm//vega@5?noext\",\n      \"vega-lib\": \"https://cdn.jsdelivr.net/npm//vega-lib?noext\",\n      \"vega-lite\": \"https://cdn.jsdelivr.net/npm//vega-lite@4.8.1?noext\",\n      \"vega-embed\": \"https://cdn.jsdelivr.net/npm//vega-embed@6?noext\",\n    };\n\n    function loadScript(lib) {\n      return new Promise(function(resolve, reject) {\n        var s = document.createElement('script');\n        s.src = paths[lib];\n        s.async = true;\n        s.onload = () => resolve(paths[lib]);\n        s.onerror = () => reject(`Error loading script: ${paths[lib]}`);\n        document.getElementsByTagName(\"head\")[0].appendChild(s);\n      });\n    }\n\n    function showError(err) {\n      outputDiv.innerHTML = `<div class=\"error\" style=\"color:red;\">${err}</div>`;\n      throw err;\n    }\n\n    function displayChart(vegaEmbed) {\n      vegaEmbed(outputDiv, spec, embedOpt)\n        .catch(err => showError(`Javascript Error: ${err.message}<br>This usually means there's a typo in your chart specification. See the javascript console for the full traceback.`));\n    }\n\n    if(typeof define === \"function\" && define.amd) {\n      requirejs.config({paths});\n      require([\"vega-embed\"], displayChart, err => showError(`Error loading script: ${err.message}`));\n    } else if (typeof vegaEmbed === \"function\") {\n      displayChart(vegaEmbed);\n    } else {\n      loadScript(\"vega\")\n        .then(() => loadScript(\"vega-lite\"))\n        .then(() => loadScript(\"vega-embed\"))\n        .catch(showError)\n        .then(() => displayChart(vegaEmbed));\n    }\n  })({\"config\": {\"view\": {\"continuousWidth\": 400, \"continuousHeight\": 300}}, \"layer\": [{\"mark\": {\"type\": \"area\", \"opacity\": 0.8}, \"encoding\": {\"color\": {\"type\": \"quantitative\", \"field\": \"edu\", \"scale\": {\"domain\": [2.2939289093017576, 4.1444159317016585], \"domainMid\": 3.1192007064819336, \"scheme\": \"blueorange\"}, \"sort\": \"ascending\"}, \"order\": {\"type\": \"quantitative\", \"field\": \"edu\", \"sort\": \"ascending\"}, \"x\": {\"type\": \"temporal\", \"field\": \"date\", \"title\": \"Date\"}, \"y\": {\"type\": \"quantitative\", \"field\": \"new_cases\"}}, \"height\": 480, \"title\": \"Cases per Day vs. Educational Attainment\", \"transform\": [{\"filter\": \"(datum.edu > 3.2640536)\"}], \"width\": 720}, {\"mark\": {\"type\": \"area\", \"opacity\": 0.8}, \"encoding\": {\"color\": {\"type\": \"quantitative\", \"field\": \"edu\", \"scale\": {\"domain\": [2.2939289093017576, 4.1444159317016585], \"domainMid\": 3.1192007064819336, \"scheme\": \"blueorange\"}, \"sort\": \"ascending\"}, \"order\": {\"type\": \"quantitative\", \"field\": \"edu\", \"sort\": \"descending\"}, \"x\": {\"type\": \"temporal\", \"field\": \"date\", \"title\": \"Date\"}, \"y\": {\"type\": \"quantitative\", \"axis\": {\"format\": \"(.2s\"}, \"field\": \"y_alt\"}}, \"height\": 480, \"title\": \"Cases per Day vs. Educational Attainment\", \"transform\": [{\"filter\": \"(datum.edu <= 3.2640536)\"}, {\"calculate\": \"datum.new_cases* -1\", \"as\": \"y_alt\"}], \"width\": 720}, {\"mark\": {\"type\": \"line\", \"color\": \"black\"}, \"encoding\": {\"size\": {\"value\": 0.5}, \"x\": {\"type\": \"temporal\", \"field\": \"date\"}, \"y\": {\"type\": \"quantitative\", \"field\": \"zero\"}}, \"height\": 480, \"title\": \"Cases per Day vs. Educational Attainment\", \"width\": 720}], \"data\": {\"url\": \"http://localhost:18755/65ff20e57fbddef145c5629b66578c35.json\"}, \"encoding\": {\"tooltip\": [{\"type\": \"nominal\", \"field\": \"state\"}, {\"type\": \"nominal\", \"field\": \"county\"}, {\"type\": \"temporal\", \"field\": \"date\"}, {\"type\": \"quantitative\", \"field\": \"new_cases\", \"format\": \".2f\"}]}, \"$schema\": \"https://vega.github.io/schema/vega-lite/v4.8.1.json\"}, {\"mode\": \"vega-lite\"});\n</script>",
      "text/plain": "alt.LayerChart(...)"
     },
     "metadata": {},
     "execution_count": 9
    }
   ],
   "source": [
    "#hide_input\n",
    "params = dict(\n",
    "    chart_title='Cases per Day vs. Educational Attainment',\n",
    "    y_col='new_cases',\n",
    "    c_col='edu',\n",
    ")\n",
    "\n",
    "ice_edu = make_iceberg_chart(df, pop_df_ac, params)\n",
    "# ice_edu.save('docs/ice_edu.html')\n",
    "ice_edu"
   ]
  },
  {
   "cell_type": "markdown",
   "metadata": {},
   "source": [
    "## Comparing New Cases vs. Median Income"
   ]
  },
  {
   "cell_type": "markdown",
   "metadata": {},
   "source": [
    "Strangely enough, while there didn't seem to be a large correlation between new cases and median income (for the most recent 15-day window), we can see from this iceberg plot that low-income counties are currently disproportionately affected by COVID-19."
   ]
  },
  {
   "cell_type": "code",
   "execution_count": 10,
   "metadata": {
    "tags": []
   },
   "outputs": [
    {
     "output_type": "stream",
     "name": "stdout",
     "text": "49.8\n"
    },
    {
     "output_type": "execute_result",
     "data": {
      "text/html": "\n<div id=\"altair-viz-758cba9308f74990a46e7b6271dca005\"></div>\n<script type=\"text/javascript\">\n  (function(spec, embedOpt){\n    let outputDiv = document.currentScript.previousElementSibling;\n    if (outputDiv.id !== \"altair-viz-758cba9308f74990a46e7b6271dca005\") {\n      outputDiv = document.getElementById(\"altair-viz-758cba9308f74990a46e7b6271dca005\");\n    }\n    const paths = {\n      \"vega\": \"https://cdn.jsdelivr.net/npm//vega@5?noext\",\n      \"vega-lib\": \"https://cdn.jsdelivr.net/npm//vega-lib?noext\",\n      \"vega-lite\": \"https://cdn.jsdelivr.net/npm//vega-lite@4.8.1?noext\",\n      \"vega-embed\": \"https://cdn.jsdelivr.net/npm//vega-embed@6?noext\",\n    };\n\n    function loadScript(lib) {\n      return new Promise(function(resolve, reject) {\n        var s = document.createElement('script');\n        s.src = paths[lib];\n        s.async = true;\n        s.onload = () => resolve(paths[lib]);\n        s.onerror = () => reject(`Error loading script: ${paths[lib]}`);\n        document.getElementsByTagName(\"head\")[0].appendChild(s);\n      });\n    }\n\n    function showError(err) {\n      outputDiv.innerHTML = `<div class=\"error\" style=\"color:red;\">${err}</div>`;\n      throw err;\n    }\n\n    function displayChart(vegaEmbed) {\n      vegaEmbed(outputDiv, spec, embedOpt)\n        .catch(err => showError(`Javascript Error: ${err.message}<br>This usually means there's a typo in your chart specification. See the javascript console for the full traceback.`));\n    }\n\n    if(typeof define === \"function\" && define.amd) {\n      requirejs.config({paths});\n      require([\"vega-embed\"], displayChart, err => showError(`Error loading script: ${err.message}`));\n    } else if (typeof vegaEmbed === \"function\") {\n      displayChart(vegaEmbed);\n    } else {\n      loadScript(\"vega\")\n        .then(() => loadScript(\"vega-lite\"))\n        .then(() => loadScript(\"vega-embed\"))\n        .catch(showError)\n        .then(() => displayChart(vegaEmbed));\n    }\n  })({\"config\": {\"view\": {\"continuousWidth\": 400, \"continuousHeight\": 300}}, \"layer\": [{\"mark\": {\"type\": \"area\", \"opacity\": 0.8}, \"encoding\": {\"color\": {\"type\": \"quantitative\", \"field\": \"median_income\", \"scale\": {\"domain\": [33114.631718749995, 111312.44781249999], \"domainMid\": 61937, \"scheme\": \"purplegreen\"}, \"sort\": \"ascending\"}, \"order\": {\"type\": \"quantitative\", \"field\": \"median_income\", \"sort\": \"ascending\"}, \"x\": {\"type\": \"temporal\", \"field\": \"date\", \"title\": \"Date\"}, \"y\": {\"type\": \"quantitative\", \"field\": \"new_cases\"}}, \"height\": 480, \"title\": \"Cases per Day vs. Median Income\", \"transform\": [{\"filter\": \"(datum.median_income > 60164.0)\"}], \"width\": 720}, {\"mark\": {\"type\": \"area\", \"opacity\": 0.8}, \"encoding\": {\"color\": {\"type\": \"quantitative\", \"field\": \"median_income\", \"scale\": {\"domain\": [33114.631718749995, 111312.44781249999], \"domainMid\": 61937, \"scheme\": \"purplegreen\"}, \"sort\": \"ascending\"}, \"order\": {\"type\": \"quantitative\", \"field\": \"median_income\", \"sort\": \"descending\"}, \"x\": {\"type\": \"temporal\", \"field\": \"date\", \"title\": \"Date\"}, \"y\": {\"type\": \"quantitative\", \"axis\": {\"format\": \"(.2s\"}, \"field\": \"y_alt\"}}, \"height\": 480, \"title\": \"Cases per Day vs. Median Income\", \"transform\": [{\"filter\": \"(datum.median_income <= 60164.0)\"}, {\"calculate\": \"datum.new_cases* -1\", \"as\": \"y_alt\"}], \"width\": 720}, {\"mark\": {\"type\": \"line\", \"color\": \"black\"}, \"encoding\": {\"size\": {\"value\": 0.5}, \"x\": {\"type\": \"temporal\", \"field\": \"date\"}, \"y\": {\"type\": \"quantitative\", \"field\": \"zero\"}}, \"height\": 480, \"title\": \"Cases per Day vs. Median Income\", \"width\": 720}], \"data\": {\"url\": \"http://localhost:18755/65ff20e57fbddef145c5629b66578c35.json\"}, \"encoding\": {\"tooltip\": [{\"type\": \"nominal\", \"field\": \"state\"}, {\"type\": \"nominal\", \"field\": \"county\"}, {\"type\": \"temporal\", \"field\": \"date\"}, {\"type\": \"quantitative\", \"field\": \"new_cases\", \"format\": \".2f\"}]}, \"$schema\": \"https://vega.github.io/schema/vega-lite/v4.8.1.json\"}, {\"mode\": \"vega-lite\"});\n</script>",
      "text/plain": "alt.LayerChart(...)"
     },
     "metadata": {},
     "execution_count": 10
    }
   ],
   "source": [
    "#hide_input\n",
    "params = dict(\n",
    "    chart_title='Cases per Day vs. Median Income',\n",
    "    y_col='new_cases',\n",
    "    c_col='median_income'\n",
    ")\n",
    "\n",
    "ice_inc = make_iceberg_chart(df, pop_df_ac, params)\n",
    "# ice_inc_normed.save('docs/ice_inc_normed.html')\n",
    "ice_inc"
   ]
  },
  {
   "cell_type": "markdown",
   "metadata": {},
   "source": [
    "## Comparing New Cases vs. Mask Discipline"
   ]
  },
  {
   "cell_type": "markdown",
   "metadata": {},
   "source": [
    "While dense counties were hit the hardest in the beginning, they seem to be doing slightly better"
   ]
  },
  {
   "cell_type": "code",
   "execution_count": 16,
   "metadata": {},
   "outputs": [
    {
     "name": "stdout",
     "output_type": "stream",
     "text": [
      "50.0\n"
     ]
    },
    {
     "data": {
      "text/html": [
       "\n",
       "<div id=\"altair-viz-18c9a355cc7942b08788e03172c6cafc\"></div>\n",
       "<script type=\"text/javascript\">\n",
       "  (function(spec, embedOpt){\n",
       "    let outputDiv = document.currentScript.previousElementSibling;\n",
       "    if (outputDiv.id !== \"altair-viz-18c9a355cc7942b08788e03172c6cafc\") {\n",
       "      outputDiv = document.getElementById(\"altair-viz-18c9a355cc7942b08788e03172c6cafc\");\n",
       "    }\n",
       "    const paths = {\n",
       "      \"vega\": \"https://cdn.jsdelivr.net/npm//vega@5?noext\",\n",
       "      \"vega-lib\": \"https://cdn.jsdelivr.net/npm//vega-lib?noext\",\n",
       "      \"vega-lite\": \"https://cdn.jsdelivr.net/npm//vega-lite@4.8.1?noext\",\n",
       "      \"vega-embed\": \"https://cdn.jsdelivr.net/npm//vega-embed@6?noext\",\n",
       "    };\n",
       "\n",
       "    function loadScript(lib) {\n",
       "      return new Promise(function(resolve, reject) {\n",
       "        var s = document.createElement('script');\n",
       "        s.src = paths[lib];\n",
       "        s.async = true;\n",
       "        s.onload = () => resolve(paths[lib]);\n",
       "        s.onerror = () => reject(`Error loading script: ${paths[lib]}`);\n",
       "        document.getElementsByTagName(\"head\")[0].appendChild(s);\n",
       "      });\n",
       "    }\n",
       "\n",
       "    function showError(err) {\n",
       "      outputDiv.innerHTML = `<div class=\"error\" style=\"color:red;\">${err}</div>`;\n",
       "      throw err;\n",
       "    }\n",
       "\n",
       "    function displayChart(vegaEmbed) {\n",
       "      vegaEmbed(outputDiv, spec, embedOpt)\n",
       "        .catch(err => showError(`Javascript Error: ${err.message}<br>This usually means there's a typo in your chart specification. See the javascript console for the full traceback.`));\n",
       "    }\n",
       "\n",
       "    if(typeof define === \"function\" && define.amd) {\n",
       "      requirejs.config({paths});\n",
       "      require([\"vega-embed\"], displayChart, err => showError(`Error loading script: ${err.message}`));\n",
       "    } else if (typeof vegaEmbed === \"function\") {\n",
       "      displayChart(vegaEmbed);\n",
       "    } else {\n",
       "      loadScript(\"vega\")\n",
       "        .then(() => loadScript(\"vega-lite\"))\n",
       "        .then(() => loadScript(\"vega-embed\"))\n",
       "        .catch(showError)\n",
       "        .then(() => displayChart(vegaEmbed));\n",
       "    }\n",
       "  })({\"config\": {\"view\": {\"continuousWidth\": 400, \"continuousHeight\": 300}}, \"layer\": [{\"mark\": {\"type\": \"area\", \"opacity\": 0.8}, \"encoding\": {\"color\": {\"type\": \"quantitative\", \"field\": \"mask\", \"scale\": {\"domain\": [2.3235544204711913, 3.7881799817085264], \"domainMid\": 3.312000036239624, \"scheme\": \"brownbluegreen\"}, \"sort\": \"ascending\"}, \"order\": {\"type\": \"quantitative\", \"field\": \"mask\", \"sort\": \"ascending\"}, \"x\": {\"type\": \"temporal\", \"field\": \"date\", \"title\": \"Date\"}, \"y\": {\"type\": \"quantitative\", \"field\": \"new_cases\"}}, \"height\": 480, \"title\": \"Cases per Day vs. Mask Discipline\", \"transform\": [{\"filter\": \"(datum.mask > 3.4652917)\"}], \"width\": 720}, {\"mark\": {\"type\": \"area\", \"opacity\": 0.8}, \"encoding\": {\"color\": {\"type\": \"quantitative\", \"field\": \"mask\", \"scale\": {\"domain\": [2.3235544204711913, 3.7881799817085264], \"domainMid\": 3.312000036239624, \"scheme\": \"brownbluegreen\"}, \"sort\": \"ascending\"}, \"order\": {\"type\": \"quantitative\", \"field\": \"mask\", \"sort\": \"descending\"}, \"x\": {\"type\": \"temporal\", \"field\": \"date\", \"title\": \"Date\"}, \"y\": {\"type\": \"quantitative\", \"axis\": {\"format\": \"(.2s\"}, \"field\": \"y_alt\"}}, \"height\": 480, \"title\": \"Cases per Day vs. Mask Discipline\", \"transform\": [{\"filter\": \"(datum.mask <= 3.4652917)\"}, {\"calculate\": \"datum.new_cases* -1\", \"as\": \"y_alt\"}], \"width\": 720}, {\"mark\": {\"type\": \"line\", \"color\": \"black\"}, \"encoding\": {\"size\": {\"value\": 0.5}, \"x\": {\"type\": \"temporal\", \"field\": \"date\"}, \"y\": {\"type\": \"quantitative\", \"field\": \"zero\"}}, \"height\": 480, \"title\": \"Cases per Day vs. Mask Discipline\", \"width\": 720}], \"data\": {\"url\": \"http://localhost:21262/65ff20e57fbddef145c5629b66578c35.json\"}, \"encoding\": {\"tooltip\": [{\"type\": \"nominal\", \"field\": \"state\"}, {\"type\": \"nominal\", \"field\": \"county\"}, {\"type\": \"temporal\", \"field\": \"date\"}, {\"type\": \"quantitative\", \"field\": \"new_cases\", \"format\": \".2f\"}]}, \"$schema\": \"https://vega.github.io/schema/vega-lite/v4.8.1.json\"}, {\"mode\": \"vega-lite\"});\n",
       "</script>"
      ],
      "text/plain": [
       "alt.LayerChart(...)"
      ]
     },
     "execution_count": 16,
     "metadata": {},
     "output_type": "execute_result"
    }
   ],
   "source": [
    "#hide_input\n",
    "params = dict(\n",
    "    chart_title='Cases per Day vs. Mask Discipline',\n",
    "    y_col='new_cases',\n",
    "    c_col='mask'\n",
    ")\n",
    "\n",
    "ice_mask = make_iceberg_chart(df, pop_df_ac, params)\n",
    "# ice_inc_normed.save('docs/ice_inc_normed.html')\n",
    "ice_mask"
   ]
  },
  {
   "cell_type": "code",
   "execution_count": null,
   "metadata": {},
   "outputs": [],
   "source": [
    "#hide\n",
    "def make_normed_iceberg_chart(df, params):\n",
    "    \n",
    "    base = alt.Chart(df).properties(\n",
    "        title=params['chart_title'],\n",
    "        width=720,\n",
    "        height=480\n",
    "    )\n",
    "    \n",
    "    c_datum = 'datum.' + params['c_col']\n",
    "    y_datum = 'datum.' + params['y_col']\n",
    "    \n",
    "    # top of iceberg\n",
    "    points0 = base.mark_area().transform_filter(\n",
    "        (eval(c_datum) >= params['c_mid'])\n",
    "    ).transform_joinaggregate(\n",
    "        pop_0='sum(total_pop)',\n",
    "    ).transform_calculate(\n",
    "        per_y=y_datum + ' / datum.pop_0'\n",
    "    ).encode(\n",
    "        alt.X('date:T', title='Date'),\n",
    "        alt.Y('per_y:Q'),\n",
    "        color=alt.Color(\n",
    "            params['c_col'] + ':Q',\n",
    "            scale=alt.Scale(\n",
    "                scheme=params['c_scheme'],\n",
    "                domain=[np.percentile(df[params['c_col']].unique(), 0.5), \n",
    "                        np.percentile(df[params['c_col']].unique(), 99.5)],\n",
    "                domainMid=params['c_mid'],\n",
    "            ),\n",
    "            sort=params['c_sort'],\n",
    "        ),\n",
    "        order=alt.Order(params['c_col'], sort='ascending')\n",
    "    )\n",
    "    \n",
    "    # bottom of iceberg\n",
    "    points1 = base.mark_area().transform_filter(\n",
    "        (eval(c_datum) < params['c_mid'])\n",
    "    ).transform_joinaggregate(\n",
    "        pop_1='sum(total_pop)',\n",
    "    ).transform_calculate(\n",
    "        per_y=y_datum + ' / datum.pop_1 * -1'\n",
    "    ).encode(\n",
    "        alt.X('date:T', title='Date'),\n",
    "        alt.Y('per_y:Q', axis=alt.Axis(format='(.2s')),\n",
    "        color=alt.Color(\n",
    "            params['c_col'] + ':Q',\n",
    "            scale=alt.Scale(\n",
    "                scheme=params['c_scheme'],\n",
    "                domain=[np.percentile(df[params['c_col']].unique(), 1), \n",
    "                        np.percentile(df[params['c_col']].unique(), 99)],\n",
    "                domainMid=params['c_mid'],\n",
    "            ),\n",
    "            sort=params['c_sort'],\n",
    "        ),\n",
    "        order=alt.Order(params['c_col'], sort='descending'),\n",
    "    )\n",
    "    \n",
    "    df['zero'] = 0\n",
    "    zero = base.mark_line(color='black').encode(\n",
    "        x='date',\n",
    "        y='zero',\n",
    "        size=alt.value(0.5)\n",
    "    )\n",
    "    \n",
    "    layer = alt.layer(points0, points1, zero).encode(\n",
    "        tooltip=[\n",
    "            'state:N', 'county:N',\n",
    "            alt.Tooltip(\n",
    "                params['y_col'] + ':Q',\n",
    "                format='.0f',\n",
    "            )\n",
    "        ]\n",
    "    )\n",
    "    \n",
    "    return layer"
   ]
  }
 ],
 "metadata": {
  "kernelspec": {
   "display_name": "Python 3",
   "language": "python",
   "name": "python3"
  },
  "language_info": {
   "codemirror_mode": {
    "name": "ipython",
    "version": 3
   },
   "file_extension": ".py",
   "mimetype": "text/x-python",
   "name": "python",
   "nbconvert_exporter": "python",
   "pygments_lexer": "ipython3",
   "version": "3.7.7"
  }
 },
 "nbformat": 4,
 "nbformat_minor": 4
}