{
 "cells": [
  {
   "cell_type": "markdown",
   "metadata": {},
   "source": [
    "# Census Data EDA"
   ]
  },
  {
   "cell_type": "code",
   "execution_count": 1,
   "metadata": {},
   "outputs": [],
   "source": [
    "import numpy as np\n",
    "import pandas as pd\n",
    "\n",
    "from urllib.request import urlopen\n",
    "from requests_html import HTMLSession\n",
    "import json\n",
    "\n",
    "import itertools\n",
    "\n",
    "import re\n",
    "\n",
    "from time import time\n",
    "from datetime import datetime, timedelta\n",
    "\n",
    "from shapely.geometry import Polygon"
   ]
  },
  {
   "cell_type": "markdown",
   "metadata": {
    "colab_type": "text",
    "id": "J39gYq9cfK6H"
   },
   "source": [
    "# import census data"
   ]
  },
  {
   "cell_type": "markdown",
   "metadata": {
    "colab_type": "text",
    "id": "womy4Yi5C_sT"
   },
   "source": [
    "Population data taken from [census.gov](https://www2.census.gov/programs-surveys/popest/datasets/2010-2019/counties/totals/).\n",
    "\n",
    "Since 2020 Census data have not been released yet, we will use 2019 population estimates.\n",
    "\n",
    "Looking at the [data dictionary](https://www2.census.gov/programs-surveys/popest/datasets/2010-2019/counties/totals/co-est2019-alldata.pdf), we only want the names and FIPS columns (eg. `STATE`, `STNAME`) and `POPESTIMATE2019`."
   ]
  },
  {
   "cell_type": "code",
   "execution_count": 7,
   "metadata": {},
   "outputs": [
    {
     "data": {
      "text/html": [
       "<div>\n",
       "<style scoped>\n",
       "    .dataframe tbody tr th:only-of-type {\n",
       "        vertical-align: middle;\n",
       "    }\n",
       "\n",
       "    .dataframe tbody tr th {\n",
       "        vertical-align: top;\n",
       "    }\n",
       "\n",
       "    .dataframe thead th {\n",
       "        text-align: right;\n",
       "    }\n",
       "</style>\n",
       "<table border=\"1\" class=\"dataframe\">\n",
       "  <thead>\n",
       "    <tr style=\"text-align: right;\">\n",
       "      <th></th>\n",
       "      <th>STATE</th>\n",
       "      <th>COUNTY</th>\n",
       "      <th>STNAME</th>\n",
       "      <th>CTYNAME</th>\n",
       "      <th>POPESTIMATE2019</th>\n",
       "    </tr>\n",
       "  </thead>\n",
       "  <tbody>\n",
       "    <tr>\n",
       "      <th>0</th>\n",
       "      <td>01</td>\n",
       "      <td>000</td>\n",
       "      <td>Alabama</td>\n",
       "      <td>Alabama</td>\n",
       "      <td>4903185</td>\n",
       "    </tr>\n",
       "    <tr>\n",
       "      <th>1</th>\n",
       "      <td>01</td>\n",
       "      <td>001</td>\n",
       "      <td>Alabama</td>\n",
       "      <td>Autauga County</td>\n",
       "      <td>55869</td>\n",
       "    </tr>\n",
       "    <tr>\n",
       "      <th>2</th>\n",
       "      <td>01</td>\n",
       "      <td>003</td>\n",
       "      <td>Alabama</td>\n",
       "      <td>Baldwin County</td>\n",
       "      <td>223234</td>\n",
       "    </tr>\n",
       "    <tr>\n",
       "      <th>3</th>\n",
       "      <td>01</td>\n",
       "      <td>005</td>\n",
       "      <td>Alabama</td>\n",
       "      <td>Barbour County</td>\n",
       "      <td>24686</td>\n",
       "    </tr>\n",
       "    <tr>\n",
       "      <th>4</th>\n",
       "      <td>01</td>\n",
       "      <td>007</td>\n",
       "      <td>Alabama</td>\n",
       "      <td>Bibb County</td>\n",
       "      <td>22394</td>\n",
       "    </tr>\n",
       "  </tbody>\n",
       "</table>\n",
       "</div>"
      ],
      "text/plain": [
       "  STATE COUNTY   STNAME         CTYNAME  POPESTIMATE2019\n",
       "0    01    000  Alabama         Alabama          4903185\n",
       "1    01    001  Alabama  Autauga County            55869\n",
       "2    01    003  Alabama  Baldwin County           223234\n",
       "3    01    005  Alabama  Barbour County            24686\n",
       "4    01    007  Alabama     Bibb County            22394"
      ]
     },
     "execution_count": 7,
     "metadata": {},
     "output_type": "execute_result"
    }
   ],
   "source": [
    "with urlopen('https://www2.census.gov/programs-surveys/popest/datasets/2010-2019/counties/totals/co-est2019-alldata.csv') as response:\n",
    "    pop_df = pd.read_csv(\n",
    "        response, \n",
    "        usecols=['STATE', 'COUNTY', 'STNAME', 'CTYNAME', 'POPESTIMATE2019'], \n",
    "        encoding='latin-1',        # to avoid unicode error\n",
    "        dtype={'STATE':'str',\n",
    "               'COUNTY':'str'}\n",
    "    )\n",
    "pop_df.head()"
   ]
  },
  {
   "cell_type": "code",
   "execution_count": 3,
   "metadata": {
    "tags": []
   },
   "outputs": [
    {
     "name": "stdout",
     "output_type": "stream",
     "text": [
      "<class 'pandas.core.frame.DataFrame'>\n",
      "RangeIndex: 3193 entries, 0 to 3192\n",
      "Data columns (total 5 columns):\n",
      " #   Column           Non-Null Count  Dtype \n",
      "---  ------           --------------  ----- \n",
      " 0   STATE            3193 non-null   object\n",
      " 1   COUNTY           3193 non-null   object\n",
      " 2   STNAME           3193 non-null   object\n",
      " 3   CTYNAME          3193 non-null   object\n",
      " 4   POPESTIMATE2019  3193 non-null   int64 \n",
      "dtypes: int64(1), object(4)\n",
      "memory usage: 124.9+ KB\n"
     ]
    }
   ],
   "source": [
    "pop_df.info()"
   ]
  },
  {
   "cell_type": "markdown",
   "metadata": {},
   "source": [
    "Notice that county names provided by the US census contain descriptive terms, such as 'County', whereas the NYTimes data does not."
   ]
  },
  {
   "cell_type": "code",
   "execution_count": 5,
   "metadata": {},
   "outputs": [],
   "source": [
    "def optimize(df):\n",
    "    '''\n",
    "    Optimizes the data types in a pandas dataframe.\n",
    "    '''\n",
    "    dft = df.copy()\n",
    "    # converts to datetime if possible\n",
    "    dft = dft.apply(lambda col: pd.to_datetime(col, errors='ignore') if col.dtypes=='object' else col)\n",
    "    # if there are less than half as many unique values as there are rows, convert to category\n",
    "    for col in dft.select_dtypes(include='object'):\n",
    "        if len(dft[col].unique()) / len(df[col]) < 0.5:\n",
    "            dft[col] = dft[col].astype('category')\n",
    "    # downcasts numeric columns if possible\n",
    "    dft = dft.apply(lambda col: pd.to_numeric(col, downcast='integer') if col.dtypes=='int64' else col)\n",
    "    dft = dft.apply(lambda col: pd.to_numeric(col, downcast='float') if col.dtypes=='float64' else col)\n",
    "    return dft"
   ]
  },
  {
   "cell_type": "code",
   "execution_count": 8,
   "metadata": {
    "colab": {},
    "colab_type": "code",
    "id": "dexrZzV5C8RV"
   },
   "outputs": [
    {
     "data": {
      "text/html": [
       "<div>\n",
       "<style scoped>\n",
       "    .dataframe tbody tr th:only-of-type {\n",
       "        vertical-align: middle;\n",
       "    }\n",
       "\n",
       "    .dataframe tbody tr th {\n",
       "        vertical-align: top;\n",
       "    }\n",
       "\n",
       "    .dataframe thead th {\n",
       "        text-align: right;\n",
       "    }\n",
       "</style>\n",
       "<table border=\"1\" class=\"dataframe\">\n",
       "  <thead>\n",
       "    <tr style=\"text-align: right;\">\n",
       "      <th></th>\n",
       "      <th>state</th>\n",
       "      <th>county</th>\n",
       "      <th>population</th>\n",
       "      <th>fips</th>\n",
       "    </tr>\n",
       "  </thead>\n",
       "  <tbody>\n",
       "    <tr>\n",
       "      <th>1</th>\n",
       "      <td>Alabama</td>\n",
       "      <td>Autauga</td>\n",
       "      <td>55869</td>\n",
       "      <td>01001</td>\n",
       "    </tr>\n",
       "    <tr>\n",
       "      <th>2</th>\n",
       "      <td>Alabama</td>\n",
       "      <td>Baldwin</td>\n",
       "      <td>223234</td>\n",
       "      <td>01003</td>\n",
       "    </tr>\n",
       "    <tr>\n",
       "      <th>3</th>\n",
       "      <td>Alabama</td>\n",
       "      <td>Barbour</td>\n",
       "      <td>24686</td>\n",
       "      <td>01005</td>\n",
       "    </tr>\n",
       "    <tr>\n",
       "      <th>4</th>\n",
       "      <td>Alabama</td>\n",
       "      <td>Bibb</td>\n",
       "      <td>22394</td>\n",
       "      <td>01007</td>\n",
       "    </tr>\n",
       "    <tr>\n",
       "      <th>5</th>\n",
       "      <td>Alabama</td>\n",
       "      <td>Blount</td>\n",
       "      <td>57826</td>\n",
       "      <td>01009</td>\n",
       "    </tr>\n",
       "  </tbody>\n",
       "</table>\n",
       "</div>"
      ],
      "text/plain": [
       "     state   county  population   fips\n",
       "1  Alabama  Autauga       55869  01001\n",
       "2  Alabama  Baldwin      223234  01003\n",
       "3  Alabama  Barbour       24686  01005\n",
       "4  Alabama     Bibb       22394  01007\n",
       "5  Alabama   Blount       57826  01009"
      ]
     },
     "execution_count": 8,
     "metadata": {},
     "output_type": "execute_result"
    }
   ],
   "source": [
    "# remove state population data\n",
    "pop_df = pop_df[pop_df['COUNTY'] != '000']\n",
    "\n",
    "# rename columns to better-match nytimes data (and personal preference)\n",
    "pop_df.rename(\n",
    "    columns={\n",
    "        'STATE':'statefips',\n",
    "        'COUNTY':'countyfips',\n",
    "        'STNAME':'state',\n",
    "        'CTYNAME':'county',\n",
    "        'POPESTIMATE2019':'population'\n",
    "    }, inplace=True\n",
    ")\n",
    "\n",
    "# create county fips column\n",
    "pop_df['fips'] = pop_df['statefips'] + pop_df['countyfips']\n",
    "pop_df.drop(columns=['statefips', 'countyfips'], inplace=True)\n",
    "\n",
    "# remove descriptive terms from county names\n",
    "county_terms = ['County', 'Parish', 'Municipality']\n",
    "for term in county_terms:\n",
    "    pop_df['county'] = pop_df['county'].str.replace(' ' + term, '')\n",
    "    \n",
    "pop_df = optimize(pop_df)\n",
    "pop_df.head()"
   ]
  },
  {
   "cell_type": "code",
   "execution_count": 9,
   "metadata": {
    "tags": []
   },
   "outputs": [
    {
     "name": "stdout",
     "output_type": "stream",
     "text": [
      "<class 'pandas.core.frame.DataFrame'>\n",
      "Int64Index: 3142 entries, 1 to 3192\n",
      "Data columns (total 4 columns):\n",
      " #   Column      Non-Null Count  Dtype   \n",
      "---  ------      --------------  -----   \n",
      " 0   state       3142 non-null   category\n",
      " 1   county      3142 non-null   object  \n",
      " 2   population  3142 non-null   int32   \n",
      " 3   fips        3142 non-null   object  \n",
      "dtypes: category(1), int32(1), object(2)\n",
      "memory usage: 91.9+ KB\n"
     ]
    }
   ],
   "source": [
    "pop_df.info()"
   ]
  },
  {
   "cell_type": "markdown",
   "metadata": {},
   "source": [
    "# check county names against NYTimes data"
   ]
  },
  {
   "cell_type": "markdown",
   "metadata": {},
   "source": [
    "We eventually need to merge `nyt_df` and `pop_df`, so let's see how they match with each other:"
   ]
  },
  {
   "cell_type": "code",
   "execution_count": 10,
   "metadata": {},
   "outputs": [
    {
     "data": {
      "text/html": [
       "<div>\n",
       "<style scoped>\n",
       "    .dataframe tbody tr th:only-of-type {\n",
       "        vertical-align: middle;\n",
       "    }\n",
       "\n",
       "    .dataframe tbody tr th {\n",
       "        vertical-align: top;\n",
       "    }\n",
       "\n",
       "    .dataframe thead th {\n",
       "        text-align: right;\n",
       "    }\n",
       "</style>\n",
       "<table border=\"1\" class=\"dataframe\">\n",
       "  <thead>\n",
       "    <tr style=\"text-align: right;\">\n",
       "      <th></th>\n",
       "      <th>date</th>\n",
       "      <th>county</th>\n",
       "      <th>state</th>\n",
       "      <th>fips</th>\n",
       "      <th>cases</th>\n",
       "      <th>deaths</th>\n",
       "    </tr>\n",
       "  </thead>\n",
       "  <tbody>\n",
       "    <tr>\n",
       "      <th>0</th>\n",
       "      <td>2020-01-21</td>\n",
       "      <td>Snohomish</td>\n",
       "      <td>Washington</td>\n",
       "      <td>53061</td>\n",
       "      <td>1</td>\n",
       "      <td>0</td>\n",
       "    </tr>\n",
       "    <tr>\n",
       "      <th>1</th>\n",
       "      <td>2020-01-22</td>\n",
       "      <td>Snohomish</td>\n",
       "      <td>Washington</td>\n",
       "      <td>53061</td>\n",
       "      <td>1</td>\n",
       "      <td>0</td>\n",
       "    </tr>\n",
       "    <tr>\n",
       "      <th>2</th>\n",
       "      <td>2020-01-23</td>\n",
       "      <td>Snohomish</td>\n",
       "      <td>Washington</td>\n",
       "      <td>53061</td>\n",
       "      <td>1</td>\n",
       "      <td>0</td>\n",
       "    </tr>\n",
       "    <tr>\n",
       "      <th>3</th>\n",
       "      <td>2020-01-24</td>\n",
       "      <td>Cook</td>\n",
       "      <td>Illinois</td>\n",
       "      <td>17031</td>\n",
       "      <td>1</td>\n",
       "      <td>0</td>\n",
       "    </tr>\n",
       "    <tr>\n",
       "      <th>4</th>\n",
       "      <td>2020-01-24</td>\n",
       "      <td>Snohomish</td>\n",
       "      <td>Washington</td>\n",
       "      <td>53061</td>\n",
       "      <td>1</td>\n",
       "      <td>0</td>\n",
       "    </tr>\n",
       "  </tbody>\n",
       "</table>\n",
       "</div>"
      ],
      "text/plain": [
       "        date     county       state   fips  cases  deaths\n",
       "0 2020-01-21  Snohomish  Washington  53061      1       0\n",
       "1 2020-01-22  Snohomish  Washington  53061      1       0\n",
       "2 2020-01-23  Snohomish  Washington  53061      1       0\n",
       "3 2020-01-24       Cook    Illinois  17031      1       0\n",
       "4 2020-01-24  Snohomish  Washington  53061      1       0"
      ]
     },
     "execution_count": 10,
     "metadata": {},
     "output_type": "execute_result"
    }
   ],
   "source": [
    "with urlopen('https://raw.githubusercontent.com/nytimes/covid-19-data/master/us-counties.csv') as response:\n",
    "    nyt_df = optimize(pd.read_csv(\n",
    "        response,\n",
    "        dtype={'fips':'str'}\n",
    "    ))\n",
    "nyt_df.head()"
   ]
  },
  {
   "cell_type": "code",
   "execution_count": 12,
   "metadata": {},
   "outputs": [
    {
     "data": {
      "text/plain": [
       "80"
      ]
     },
     "execution_count": 12,
     "metadata": {},
     "output_type": "execute_result"
    }
   ],
   "source": [
    "county_diffs = list(set(nyt_df['county']) - set(pop_df['county']))\n",
    "len(county_diffs)"
   ]
  },
  {
   "cell_type": "code",
   "execution_count": 13,
   "metadata": {},
   "outputs": [
    {
     "data": {
      "text/plain": [
       "['Aguas Buenas', 'Guanica', 'San German', 'Arecibo', 'San Sebastian']"
      ]
     },
     "execution_count": 13,
     "metadata": {},
     "output_type": "execute_result"
    }
   ],
   "source": [
    "county_diffs[:5]"
   ]
  },
  {
   "cell_type": "markdown",
   "metadata": {},
   "source": [
    "The census county data is missing all municipios from [Puerto Rico](https://www.census.gov/data/tables/time-series/demo/popest/2010s-total-puerto-rico-municipios.html), so we need to append that data to `pop_df`."
   ]
  },
  {
   "cell_type": "markdown",
   "metadata": {},
   "source": [
    "# import Puerto Rico census data"
   ]
  },
  {
   "cell_type": "code",
   "execution_count": 14,
   "metadata": {},
   "outputs": [
    {
     "data": {
      "text/html": [
       "<div>\n",
       "<style scoped>\n",
       "    .dataframe tbody tr th:only-of-type {\n",
       "        vertical-align: middle;\n",
       "    }\n",
       "\n",
       "    .dataframe tbody tr th {\n",
       "        vertical-align: top;\n",
       "    }\n",
       "\n",
       "    .dataframe thead th {\n",
       "        text-align: right;\n",
       "    }\n",
       "</style>\n",
       "<table border=\"1\" class=\"dataframe\">\n",
       "  <thead>\n",
       "    <tr style=\"text-align: right;\">\n",
       "      <th></th>\n",
       "      <th>county</th>\n",
       "      <th>population</th>\n",
       "    </tr>\n",
       "  </thead>\n",
       "  <tbody>\n",
       "    <tr>\n",
       "      <th>0</th>\n",
       "      <td>Puerto Rico</td>\n",
       "      <td>3193694</td>\n",
       "    </tr>\n",
       "    <tr>\n",
       "      <th>1</th>\n",
       "      <td>.Adjuntas Municipio, Puerto Rico</td>\n",
       "      <td>17363</td>\n",
       "    </tr>\n",
       "    <tr>\n",
       "      <th>2</th>\n",
       "      <td>.Aguada Municipio, Puerto Rico</td>\n",
       "      <td>36694</td>\n",
       "    </tr>\n",
       "    <tr>\n",
       "      <th>3</th>\n",
       "      <td>.Aguadilla Municipio, Puerto Rico</td>\n",
       "      <td>50265</td>\n",
       "    </tr>\n",
       "    <tr>\n",
       "      <th>4</th>\n",
       "      <td>.Aguas Buenas Municipio, Puerto Rico</td>\n",
       "      <td>24814</td>\n",
       "    </tr>\n",
       "  </tbody>\n",
       "</table>\n",
       "</div>"
      ],
      "text/plain": [
       "                                 county  population\n",
       "0                           Puerto Rico     3193694\n",
       "1      .Adjuntas Municipio, Puerto Rico       17363\n",
       "2        .Aguada Municipio, Puerto Rico       36694\n",
       "3     .Aguadilla Municipio, Puerto Rico       50265\n",
       "4  .Aguas Buenas Municipio, Puerto Rico       24814"
      ]
     },
     "execution_count": 14,
     "metadata": {},
     "output_type": "execute_result"
    }
   ],
   "source": [
    "pr_df = pd.read_excel(\n",
    "    'https://www2.census.gov/programs-surveys/popest/tables/2010-2019/municipios/totals/prm-est2019-annres.xlsx', \n",
    "    header=3)\n",
    "pr_df = pr_df[['Unnamed: 0', 2019]]\n",
    "pr_df.rename(\n",
    "    columns={\n",
    "        'Unnamed: 0':'county',\n",
    "        2019:'population'\n",
    "    }, inplace=True\n",
    ")\n",
    "pr_df = pr_df[~pr_df['population'].isna()]\n",
    "pr_df['population'] = pr_df['population'].astype('int')\n",
    "pr_df.head()"
   ]
  },
  {
   "cell_type": "code",
   "execution_count": 15,
   "metadata": {},
   "outputs": [
    {
     "data": {
      "text/html": [
       "<div>\n",
       "<style scoped>\n",
       "    .dataframe tbody tr th:only-of-type {\n",
       "        vertical-align: middle;\n",
       "    }\n",
       "\n",
       "    .dataframe tbody tr th {\n",
       "        vertical-align: top;\n",
       "    }\n",
       "\n",
       "    .dataframe thead th {\n",
       "        text-align: right;\n",
       "    }\n",
       "</style>\n",
       "<table border=\"1\" class=\"dataframe\">\n",
       "  <thead>\n",
       "    <tr style=\"text-align: right;\">\n",
       "      <th></th>\n",
       "      <th>county</th>\n",
       "      <th>population</th>\n",
       "    </tr>\n",
       "  </thead>\n",
       "  <tbody>\n",
       "    <tr>\n",
       "      <th>1</th>\n",
       "      <td>Adjuntas</td>\n",
       "      <td>17363</td>\n",
       "    </tr>\n",
       "    <tr>\n",
       "      <th>2</th>\n",
       "      <td>Aguada</td>\n",
       "      <td>36694</td>\n",
       "    </tr>\n",
       "    <tr>\n",
       "      <th>3</th>\n",
       "      <td>Aguadilla</td>\n",
       "      <td>50265</td>\n",
       "    </tr>\n",
       "    <tr>\n",
       "      <th>4</th>\n",
       "      <td>Aguas Buenas</td>\n",
       "      <td>24814</td>\n",
       "    </tr>\n",
       "    <tr>\n",
       "      <th>5</th>\n",
       "      <td>Aibonito</td>\n",
       "      <td>22108</td>\n",
       "    </tr>\n",
       "  </tbody>\n",
       "</table>\n",
       "</div>"
      ],
      "text/plain": [
       "         county  population\n",
       "1      Adjuntas       17363\n",
       "2        Aguada       36694\n",
       "3     Aguadilla       50265\n",
       "4  Aguas Buenas       24814\n",
       "5      Aibonito       22108"
      ]
     },
     "execution_count": 15,
     "metadata": {},
     "output_type": "execute_result"
    }
   ],
   "source": [
    "pr_df['county'] = [s[0] if len(s) > 0 else s for s in pr_df['county'].str.findall(\"\\.([\\w\\s]+) Municipio\\,.+\")]\n",
    "pr_df = pr_df.iloc[1:]          # removing the territory as a whole from the table\n",
    "pr_df.head()"
   ]
  },
  {
   "cell_type": "markdown",
   "metadata": {},
   "source": [
    "We also need to add `fips` codes for all of the municipios."
   ]
  },
  {
   "cell_type": "markdown",
   "metadata": {},
   "source": [
    "## import Puerto Rico `fips`"
   ]
  },
  {
   "cell_type": "code",
   "execution_count": 16,
   "metadata": {},
   "outputs": [
    {
     "data": {
      "text/html": [
       "<div>\n",
       "<style scoped>\n",
       "    .dataframe tbody tr th:only-of-type {\n",
       "        vertical-align: middle;\n",
       "    }\n",
       "\n",
       "    .dataframe tbody tr th {\n",
       "        vertical-align: top;\n",
       "    }\n",
       "\n",
       "    .dataframe thead th {\n",
       "        text-align: right;\n",
       "    }\n",
       "</style>\n",
       "<table border=\"1\" class=\"dataframe\">\n",
       "  <thead>\n",
       "    <tr style=\"text-align: right;\">\n",
       "      <th></th>\n",
       "      <th>county</th>\n",
       "      <th>fips</th>\n",
       "    </tr>\n",
       "  </thead>\n",
       "  <tbody>\n",
       "    <tr>\n",
       "      <th>0</th>\n",
       "      <td>Adjuntas Municipality</td>\n",
       "      <td>72001</td>\n",
       "    </tr>\n",
       "    <tr>\n",
       "      <th>1</th>\n",
       "      <td>Aguada Municipality</td>\n",
       "      <td>72003</td>\n",
       "    </tr>\n",
       "    <tr>\n",
       "      <th>2</th>\n",
       "      <td>Aguadilla Municipality</td>\n",
       "      <td>72005</td>\n",
       "    </tr>\n",
       "    <tr>\n",
       "      <th>3</th>\n",
       "      <td>Aguas Buenas Municipality</td>\n",
       "      <td>72007</td>\n",
       "    </tr>\n",
       "    <tr>\n",
       "      <th>4</th>\n",
       "      <td>Aibonito Municipality</td>\n",
       "      <td>72009</td>\n",
       "    </tr>\n",
       "  </tbody>\n",
       "</table>\n",
       "</div>"
      ],
      "text/plain": [
       "                      county   fips\n",
       "0      Adjuntas Municipality  72001\n",
       "1        Aguada Municipality  72003\n",
       "2     Aguadilla Municipality  72005\n",
       "3  Aguas Buenas Municipality  72007\n",
       "4      Aibonito Municipality  72009"
      ]
     },
     "execution_count": 16,
     "metadata": {},
     "output_type": "execute_result"
    }
   ],
   "source": [
    "sess = HTMLSession()\n",
    "res = sess.get('https://en.wikipedia.org/wiki/List_of_United_States_FIPS_codes_by_county')\n",
    "table = res.html.find('table.wikitable > tbody > tr')\n",
    "# puerto rico is fips 72\n",
    "pr_fips = [[tr.find('td')[1].text, tr.find('td')[0].text] for tr in table[1:] if tr.find('td')[0].text[:2] == '72']\n",
    "pr_fips_df = pd.DataFrame(pr_fips)\n",
    "pr_fips_df.rename(\n",
    "    columns={\n",
    "        0:'county',\n",
    "        1:'fips'\n",
    "    }, inplace=True\n",
    ")\n",
    "pr_fips_df.head()"
   ]
  },
  {
   "cell_type": "code",
   "execution_count": 17,
   "metadata": {},
   "outputs": [
    {
     "data": {
      "text/html": [
       "<div>\n",
       "<style scoped>\n",
       "    .dataframe tbody tr th:only-of-type {\n",
       "        vertical-align: middle;\n",
       "    }\n",
       "\n",
       "    .dataframe tbody tr th {\n",
       "        vertical-align: top;\n",
       "    }\n",
       "\n",
       "    .dataframe thead th {\n",
       "        text-align: right;\n",
       "    }\n",
       "</style>\n",
       "<table border=\"1\" class=\"dataframe\">\n",
       "  <thead>\n",
       "    <tr style=\"text-align: right;\">\n",
       "      <th></th>\n",
       "      <th>county</th>\n",
       "      <th>fips</th>\n",
       "    </tr>\n",
       "  </thead>\n",
       "  <tbody>\n",
       "    <tr>\n",
       "      <th>0</th>\n",
       "      <td>Adjuntas</td>\n",
       "      <td>72001</td>\n",
       "    </tr>\n",
       "    <tr>\n",
       "      <th>1</th>\n",
       "      <td>Aguada</td>\n",
       "      <td>72003</td>\n",
       "    </tr>\n",
       "    <tr>\n",
       "      <th>2</th>\n",
       "      <td>Aguadilla</td>\n",
       "      <td>72005</td>\n",
       "    </tr>\n",
       "    <tr>\n",
       "      <th>3</th>\n",
       "      <td>Aguas Buenas</td>\n",
       "      <td>72007</td>\n",
       "    </tr>\n",
       "    <tr>\n",
       "      <th>4</th>\n",
       "      <td>Aibonito</td>\n",
       "      <td>72009</td>\n",
       "    </tr>\n",
       "  </tbody>\n",
       "</table>\n",
       "</div>"
      ],
      "text/plain": [
       "         county   fips\n",
       "0      Adjuntas  72001\n",
       "1        Aguada  72003\n",
       "2     Aguadilla  72005\n",
       "3  Aguas Buenas  72007\n",
       "4      Aibonito  72009"
      ]
     },
     "execution_count": 17,
     "metadata": {},
     "output_type": "execute_result"
    }
   ],
   "source": [
    "pr_fips_df['county'] = [s[0] if len(s) > 0 else s for s in pr_fips_df['county'].str.findall(\"([\\w\\s]+) Municipality\")]\n",
    "pr_fips_df.head()"
   ]
  },
  {
   "cell_type": "code",
   "execution_count": 19,
   "metadata": {},
   "outputs": [
    {
     "data": {
      "text/plain": [
       "0"
      ]
     },
     "execution_count": 19,
     "metadata": {},
     "output_type": "execute_result"
    }
   ],
   "source": [
    "len(list(set(pr_fips_df['county']) - set(pr_df['county'])))"
   ]
  },
  {
   "cell_type": "code",
   "execution_count": 20,
   "metadata": {},
   "outputs": [
    {
     "data": {
      "text/html": [
       "<div>\n",
       "<style scoped>\n",
       "    .dataframe tbody tr th:only-of-type {\n",
       "        vertical-align: middle;\n",
       "    }\n",
       "\n",
       "    .dataframe tbody tr th {\n",
       "        vertical-align: top;\n",
       "    }\n",
       "\n",
       "    .dataframe thead th {\n",
       "        text-align: right;\n",
       "    }\n",
       "</style>\n",
       "<table border=\"1\" class=\"dataframe\">\n",
       "  <thead>\n",
       "    <tr style=\"text-align: right;\">\n",
       "      <th></th>\n",
       "      <th>county</th>\n",
       "      <th>population</th>\n",
       "      <th>fips</th>\n",
       "      <th>state</th>\n",
       "    </tr>\n",
       "  </thead>\n",
       "  <tbody>\n",
       "    <tr>\n",
       "      <th>0</th>\n",
       "      <td>Adjuntas</td>\n",
       "      <td>17363</td>\n",
       "      <td>72001</td>\n",
       "      <td>Puerto Rico</td>\n",
       "    </tr>\n",
       "    <tr>\n",
       "      <th>1</th>\n",
       "      <td>Aguada</td>\n",
       "      <td>36694</td>\n",
       "      <td>72003</td>\n",
       "      <td>Puerto Rico</td>\n",
       "    </tr>\n",
       "    <tr>\n",
       "      <th>2</th>\n",
       "      <td>Aguadilla</td>\n",
       "      <td>50265</td>\n",
       "      <td>72005</td>\n",
       "      <td>Puerto Rico</td>\n",
       "    </tr>\n",
       "    <tr>\n",
       "      <th>3</th>\n",
       "      <td>Aguas Buenas</td>\n",
       "      <td>24814</td>\n",
       "      <td>72007</td>\n",
       "      <td>Puerto Rico</td>\n",
       "    </tr>\n",
       "    <tr>\n",
       "      <th>4</th>\n",
       "      <td>Aibonito</td>\n",
       "      <td>22108</td>\n",
       "      <td>72009</td>\n",
       "      <td>Puerto Rico</td>\n",
       "    </tr>\n",
       "  </tbody>\n",
       "</table>\n",
       "</div>"
      ],
      "text/plain": [
       "         county  population   fips        state\n",
       "0      Adjuntas       17363  72001  Puerto Rico\n",
       "1        Aguada       36694  72003  Puerto Rico\n",
       "2     Aguadilla       50265  72005  Puerto Rico\n",
       "3  Aguas Buenas       24814  72007  Puerto Rico\n",
       "4      Aibonito       22108  72009  Puerto Rico"
      ]
     },
     "execution_count": 20,
     "metadata": {},
     "output_type": "execute_result"
    }
   ],
   "source": [
    "pr_df = pr_df.merge(pr_fips_df, on='county')\n",
    "pr_df['state'] = 'Puerto Rico'\n",
    "pr_df.head()"
   ]
  },
  {
   "cell_type": "code",
   "execution_count": 21,
   "metadata": {},
   "outputs": [
    {
     "data": {
      "text/html": [
       "<div>\n",
       "<style scoped>\n",
       "    .dataframe tbody tr th:only-of-type {\n",
       "        vertical-align: middle;\n",
       "    }\n",
       "\n",
       "    .dataframe tbody tr th {\n",
       "        vertical-align: top;\n",
       "    }\n",
       "\n",
       "    .dataframe thead th {\n",
       "        text-align: right;\n",
       "    }\n",
       "</style>\n",
       "<table border=\"1\" class=\"dataframe\">\n",
       "  <thead>\n",
       "    <tr style=\"text-align: right;\">\n",
       "      <th></th>\n",
       "      <th>state</th>\n",
       "      <th>county</th>\n",
       "      <th>population</th>\n",
       "      <th>fips</th>\n",
       "    </tr>\n",
       "  </thead>\n",
       "  <tbody>\n",
       "    <tr>\n",
       "      <th>3215</th>\n",
       "      <td>Puerto Rico</td>\n",
       "      <td>Vega Baja</td>\n",
       "      <td>50023</td>\n",
       "      <td>72145</td>\n",
       "    </tr>\n",
       "    <tr>\n",
       "      <th>3216</th>\n",
       "      <td>Puerto Rico</td>\n",
       "      <td>Vieques</td>\n",
       "      <td>8386</td>\n",
       "      <td>72147</td>\n",
       "    </tr>\n",
       "    <tr>\n",
       "      <th>3217</th>\n",
       "      <td>Puerto Rico</td>\n",
       "      <td>Villalba</td>\n",
       "      <td>21372</td>\n",
       "      <td>72149</td>\n",
       "    </tr>\n",
       "    <tr>\n",
       "      <th>3218</th>\n",
       "      <td>Puerto Rico</td>\n",
       "      <td>Yabucoa</td>\n",
       "      <td>32282</td>\n",
       "      <td>72151</td>\n",
       "    </tr>\n",
       "    <tr>\n",
       "      <th>3219</th>\n",
       "      <td>Puerto Rico</td>\n",
       "      <td>Yauco</td>\n",
       "      <td>33575</td>\n",
       "      <td>72153</td>\n",
       "    </tr>\n",
       "  </tbody>\n",
       "</table>\n",
       "</div>"
      ],
      "text/plain": [
       "            state     county  population   fips\n",
       "3215  Puerto Rico  Vega Baja       50023  72145\n",
       "3216  Puerto Rico    Vieques        8386  72147\n",
       "3217  Puerto Rico   Villalba       21372  72149\n",
       "3218  Puerto Rico    Yabucoa       32282  72151\n",
       "3219  Puerto Rico      Yauco       33575  72153"
      ]
     },
     "execution_count": 21,
     "metadata": {},
     "output_type": "execute_result"
    }
   ],
   "source": [
    "pop_df = pop_df.append(pr_df, ignore_index=True)\n",
    "pop_df.tail()"
   ]
  },
  {
   "cell_type": "code",
   "execution_count": 22,
   "metadata": {},
   "outputs": [
    {
     "name": "stdout",
     "output_type": "stream",
     "text": [
      "<class 'pandas.core.frame.DataFrame'>\n",
      "RangeIndex: 3220 entries, 0 to 3219\n",
      "Data columns (total 4 columns):\n",
      " #   Column      Non-Null Count  Dtype \n",
      "---  ------      --------------  ----- \n",
      " 0   state       3220 non-null   object\n",
      " 1   county      3220 non-null   object\n",
      " 2   population  3220 non-null   int32 \n",
      " 3   fips        3220 non-null   object\n",
      "dtypes: int32(1), object(3)\n",
      "memory usage: 88.2+ KB\n"
     ]
    }
   ],
   "source": [
    "pop_df.info()"
   ]
  },
  {
   "cell_type": "markdown",
   "metadata": {},
   "source": [
    "# check county names against NYTimes data (again)"
   ]
  },
  {
   "cell_type": "code",
   "execution_count": 24,
   "metadata": {},
   "outputs": [
    {
     "data": {
      "text/plain": [
       "19"
      ]
     },
     "execution_count": 24,
     "metadata": {},
     "output_type": "execute_result"
    }
   ],
   "source": [
    "county_diffs = list(set(nyt_df['county']) - set(pop_df['county']))\n",
    "len(county_diffs)"
   ]
  },
  {
   "cell_type": "code",
   "execution_count": 27,
   "metadata": {},
   "outputs": [
    {
     "data": {
      "text/plain": [
       "['Guanica',\n",
       " 'San German',\n",
       " 'San Sebastian',\n",
       " 'Rincon',\n",
       " 'Unknown',\n",
       " 'New York City',\n",
       " 'Juana Diaz',\n",
       " 'Loiza',\n",
       " 'Mayaguez',\n",
       " 'Catano',\n",
       " 'Kansas City',\n",
       " 'Manati',\n",
       " 'Anasco',\n",
       " 'Bayamon',\n",
       " 'Canovanas',\n",
       " 'Penuelas',\n",
       " 'Comerio',\n",
       " 'Joplin',\n",
       " 'Las Marias']"
      ]
     },
     "execution_count": 27,
     "metadata": {},
     "output_type": "execute_result"
    }
   ],
   "source": [
    "county_diffs"
   ]
  },
  {
   "cell_type": "markdown",
   "metadata": {},
   "source": [
    "The NYTimes dataset is missing diacritical marks in their names. In the interest of cultural accuracy, we will preserve them in our final dataframe; this will be handled when we merge `pop_df` with `nyt_df` in the other notebook.\n",
    "\n",
    "Since the NYTimes dataset treats `New York City`, `Kansas City`, and `Joplin` as their own entities, we need to add them to `pop_df`. We need to add the population data for these three cities. Additional information taken from [census.gov quickfacts]('https://www.census.gov/quickfacts').\n",
    "\n",
    "We'll use `'nyc'`, `'kc'`, and `'jm'` as our `fips` for these three cities."
   ]
  },
  {
   "cell_type": "code",
   "execution_count": 28,
   "metadata": {},
   "outputs": [
    {
     "data": {
      "text/html": [
       "<div>\n",
       "<style scoped>\n",
       "    .dataframe tbody tr th:only-of-type {\n",
       "        vertical-align: middle;\n",
       "    }\n",
       "\n",
       "    .dataframe tbody tr th {\n",
       "        vertical-align: top;\n",
       "    }\n",
       "\n",
       "    .dataframe thead th {\n",
       "        text-align: right;\n",
       "    }\n",
       "</style>\n",
       "<table border=\"1\" class=\"dataframe\">\n",
       "  <thead>\n",
       "    <tr style=\"text-align: right;\">\n",
       "      <th></th>\n",
       "      <th>state</th>\n",
       "      <th>county</th>\n",
       "      <th>population</th>\n",
       "      <th>fips</th>\n",
       "    </tr>\n",
       "  </thead>\n",
       "  <tbody>\n",
       "    <tr>\n",
       "      <th>0</th>\n",
       "      <td>New York</td>\n",
       "      <td>New York City</td>\n",
       "      <td>8336817</td>\n",
       "      <td>nyc</td>\n",
       "    </tr>\n",
       "    <tr>\n",
       "      <th>1</th>\n",
       "      <td>Missouri</td>\n",
       "      <td>Kansas City</td>\n",
       "      <td>648287</td>\n",
       "      <td>kc</td>\n",
       "    </tr>\n",
       "    <tr>\n",
       "      <th>2</th>\n",
       "      <td>Missouri</td>\n",
       "      <td>Joplin</td>\n",
       "      <td>50925</td>\n",
       "      <td>jm</td>\n",
       "    </tr>\n",
       "  </tbody>\n",
       "</table>\n",
       "</div>"
      ],
      "text/plain": [
       "      state         county  population fips\n",
       "0  New York  New York City     8336817  nyc\n",
       "1  Missouri    Kansas City      648287   kc\n",
       "2  Missouri         Joplin       50925   jm"
      ]
     },
     "execution_count": 28,
     "metadata": {},
     "output_type": "execute_result"
    }
   ],
   "source": [
    "pop_df_2 = pd.DataFrame(\n",
    "    [['New York',\n",
    "      'New York City',\n",
    "      8_336_817,\n",
    "      'nyc'],\n",
    "     ['Missouri',\n",
    "      'Kansas City',\n",
    "      495_327 + 152_960,\n",
    "      'kc'],\n",
    "     ['Missouri',\n",
    "      'Joplin',\n",
    "      50_925,\n",
    "      'jm']]\n",
    "    , columns=pop_df.columns)\n",
    "pop_df_2"
   ]
  },
  {
   "cell_type": "code",
   "execution_count": 29,
   "metadata": {},
   "outputs": [
    {
     "data": {
      "text/html": [
       "<div>\n",
       "<style scoped>\n",
       "    .dataframe tbody tr th:only-of-type {\n",
       "        vertical-align: middle;\n",
       "    }\n",
       "\n",
       "    .dataframe tbody tr th {\n",
       "        vertical-align: top;\n",
       "    }\n",
       "\n",
       "    .dataframe thead th {\n",
       "        text-align: right;\n",
       "    }\n",
       "</style>\n",
       "<table border=\"1\" class=\"dataframe\">\n",
       "  <thead>\n",
       "    <tr style=\"text-align: right;\">\n",
       "      <th></th>\n",
       "      <th>state</th>\n",
       "      <th>county</th>\n",
       "      <th>population</th>\n",
       "      <th>fips</th>\n",
       "    </tr>\n",
       "  </thead>\n",
       "  <tbody>\n",
       "    <tr>\n",
       "      <th>3220</th>\n",
       "      <td>New York</td>\n",
       "      <td>New York City</td>\n",
       "      <td>8336817</td>\n",
       "      <td>nyc</td>\n",
       "    </tr>\n",
       "  </tbody>\n",
       "</table>\n",
       "</div>"
      ],
      "text/plain": [
       "         state         county  population fips\n",
       "3220  New York  New York City     8336817  nyc"
      ]
     },
     "execution_count": 29,
     "metadata": {},
     "output_type": "execute_result"
    }
   ],
   "source": [
    "pop_df = optimize(pop_df.append(pop_df_2, ignore_index=True))\n",
    "pop_df[pop_df['fips'] == 'nyc']"
   ]
  },
  {
   "cell_type": "code",
   "execution_count": 30,
   "metadata": {},
   "outputs": [],
   "source": [
    "pop_df.to_csv('data/pop_df.csv', index=False)"
   ]
  },
  {
   "cell_type": "markdown",
   "metadata": {},
   "source": [
    "# put in nytimes notebook"
   ]
  },
  {
   "cell_type": "code",
   "execution_count": 26,
   "metadata": {},
   "outputs": [
    {
     "data": {
      "text/html": [
       "<div>\n",
       "<style scoped>\n",
       "    .dataframe tbody tr th:only-of-type {\n",
       "        vertical-align: middle;\n",
       "    }\n",
       "\n",
       "    .dataframe tbody tr th {\n",
       "        vertical-align: top;\n",
       "    }\n",
       "\n",
       "    .dataframe thead th {\n",
       "        text-align: right;\n",
       "    }\n",
       "</style>\n",
       "<table border=\"1\" class=\"dataframe\">\n",
       "  <thead>\n",
       "    <tr style=\"text-align: right;\">\n",
       "      <th></th>\n",
       "      <th>date</th>\n",
       "      <th>fips</th>\n",
       "      <th>cases</th>\n",
       "      <th>deaths</th>\n",
       "      <th>state</th>\n",
       "      <th>county</th>\n",
       "      <th>population</th>\n",
       "    </tr>\n",
       "  </thead>\n",
       "  <tbody>\n",
       "    <tr>\n",
       "      <th>314598</th>\n",
       "      <td>2020-05-05</td>\n",
       "      <td>72033</td>\n",
       "      <td>12</td>\n",
       "      <td>0</td>\n",
       "      <td>Puerto Rico</td>\n",
       "      <td>Cataño</td>\n",
       "      <td>23121</td>\n",
       "    </tr>\n",
       "    <tr>\n",
       "      <th>314599</th>\n",
       "      <td>2020-05-06</td>\n",
       "      <td>72033</td>\n",
       "      <td>12</td>\n",
       "      <td>0</td>\n",
       "      <td>Puerto Rico</td>\n",
       "      <td>Cataño</td>\n",
       "      <td>23121</td>\n",
       "    </tr>\n",
       "    <tr>\n",
       "      <th>314600</th>\n",
       "      <td>2020-05-07</td>\n",
       "      <td>72033</td>\n",
       "      <td>12</td>\n",
       "      <td>0</td>\n",
       "      <td>Puerto Rico</td>\n",
       "      <td>Cataño</td>\n",
       "      <td>23121</td>\n",
       "    </tr>\n",
       "    <tr>\n",
       "      <th>314601</th>\n",
       "      <td>2020-05-08</td>\n",
       "      <td>72033</td>\n",
       "      <td>12</td>\n",
       "      <td>0</td>\n",
       "      <td>Puerto Rico</td>\n",
       "      <td>Cataño</td>\n",
       "      <td>23121</td>\n",
       "    </tr>\n",
       "    <tr>\n",
       "      <th>314602</th>\n",
       "      <td>2020-05-09</td>\n",
       "      <td>72033</td>\n",
       "      <td>12</td>\n",
       "      <td>0</td>\n",
       "      <td>Puerto Rico</td>\n",
       "      <td>Cataño</td>\n",
       "      <td>23121</td>\n",
       "    </tr>\n",
       "  </tbody>\n",
       "</table>\n",
       "</div>"
      ],
      "text/plain": [
       "             date   fips  cases  deaths        state  county  population\n",
       "314598 2020-05-05  72033     12       0  Puerto Rico  Cataño       23121\n",
       "314599 2020-05-06  72033     12       0  Puerto Rico  Cataño       23121\n",
       "314600 2020-05-07  72033     12       0  Puerto Rico  Cataño       23121\n",
       "314601 2020-05-08  72033     12       0  Puerto Rico  Cataño       23121\n",
       "314602 2020-05-09  72033     12       0  Puerto Rico  Cataño       23121"
      ]
     },
     "execution_count": 26,
     "metadata": {},
     "output_type": "execute_result"
    }
   ],
   "source": [
    "nyt_df = nyt_df.merge(pop_df, on='fips', suffixes=('_x','')).drop(['county_x', 'state_x'], axis=1)\n",
    "nyt_df[nyt_df['state'] == 'Puerto Rico']"
   ]
  },
  {
   "cell_type": "code",
   "execution_count": null,
   "metadata": {},
   "outputs": [],
   "source": [
    "nyt_df = nyt_df[nyt_df['county'] != 'Unknown']\n",
    "list(set(nyt_df['county']) - set(pop_df['county']))"
   ]
  },
  {
   "cell_type": "markdown",
   "metadata": {},
   "source": [
    "We need to add the population data for these three cities. Additional information taken from [census.gov quickfacts]('https://www.census.gov/quickfacts').\n",
    "\n",
    "We'll use `'nyc'`, `'kc'`, and `'jm'` as our `fips` for these three cities."
   ]
  }
 ],
 "metadata": {
  "kernelspec": {
   "display_name": "Python 3",
   "language": "python",
   "name": "python3"
  },
  "language_info": {
   "codemirror_mode": {
    "name": "ipython",
    "version": 3
   },
   "file_extension": ".py",
   "mimetype": "text/x-python",
   "name": "python",
   "nbconvert_exporter": "python",
   "pygments_lexer": "ipython3",
   "version": "3.7.7"
  }
 },
 "nbformat": 4,
 "nbformat_minor": 4
}
