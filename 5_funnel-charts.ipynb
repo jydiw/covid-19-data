{
 "cells": [
  {
   "cell_type": "code",
   "execution_count": 175,
   "metadata": {},
   "outputs": [],
   "source": [
    "#hide\n",
    "import json\n",
    "from datetime import datetime, timedelta\n",
    "from pytz import timezone\n",
    "from time import time\n",
    "from urllib.request import urlopen\n",
    "\n",
    "import numpy as np\n",
    "import numpy.polynomial.polynomial as poly\n",
    "import pandas as pd\n",
    "from scipy.stats import ttest_ind\n",
    "\n",
    "import altair as alt\n",
    "from altair import datum\n",
    "import matplotlib.pyplot as plt\n",
    "from mpl_toolkits.mplot3d import Axes3D\n",
    "import seaborn as sns\n",
    "\n",
    "# alt.data_transformers.enable('json');\n",
    "alt.data_transformers.enable('data_server');\n",
    "alt.renderers.enable('mimetype');"
   ]
  },
  {
   "cell_type": "code",
   "execution_count": 176,
   "metadata": {},
   "outputs": [],
   "source": [
    "#hide\n",
    "def optimize(df):\n",
    "    '''\n",
    "    Optimizes the data types in a pandas dataframe.\n",
    "    '''\n",
    "    dft = df.copy()\n",
    "    # converts to datetime if possible\n",
    "    dft = dft.apply(lambda col:\n",
    "        pd.to_datetime(col, errors='ignore') if col.dtypes=='object' else col)\n",
    "    \n",
    "    # if there are less than half as many unique values as there are rows, convert to category\n",
    "    for col in dft.select_dtypes(include='object'):\n",
    "        if len(dft[col].unique()) / len(df[col]) < 0.5:\n",
    "            dft[col] = dft[col].astype('category')\n",
    "            \n",
    "    # downcasts numeric columns if possible\n",
    "    dft = dft.apply(lambda col: \n",
    "        pd.to_numeric(col, downcast='integer') if col.dtypes=='int64' else col)\n",
    "    dft = dft.apply(lambda col: \n",
    "        pd.to_numeric(col, downcast='float') if col.dtypes=='float64' else col)\n",
    "    \n",
    "    return dft"
   ]
  },
  {
   "cell_type": "code",
   "execution_count": 177,
   "metadata": {},
   "outputs": [
    {
     "output_type": "execute_result",
     "data": {
      "text/plain": "         state  cluster       date  cases  deaths  \\\n79721  Alabama        3 2020-08-03   7939     135   \n79722  Alabama        5 2020-08-03  12409     221   \n79723  Alabama        8 2020-08-03   2637      31   \n79724  Alabama        7 2020-08-03   5711     125   \n79725  Alabama        0 2020-08-03  16463     269   \n\n                                                  county  total_pop  \\\n79721  Autauga-Coffee-Covington-Crenshaw-Dale-Elmore-...     471885   \n79722                                     Baldwin-Mobile     636444   \n79723                      Barbour-Bullock-Macon-Russell     110816   \n79724  Bibb-Butler-Chilton-Conecuh-Dallas-Escambia-Lo...     202625   \n79725  Blount-Calhoun-Chambers-Cherokee-Clay-Cleburne...     908217   \n\n                                                    fips   white   black  ...  \\\n79721  01001-01031-01039-01041-01045-01051-01061-0106...  333136  102762  ...   \n79722                                        01003-01097  419294  167703  ...   \n79723                            01005-01011-01087-01113   42892   59019  ...   \n79724    01007-01013-01021-01035-01047-01053-01085-01099  113944   76232  ...   \n79725  01009-01015-01017-01019-01027-01029-01037-0104...  712824  116482  ...   \n\n       delta_new_cases_7sg  delta_new_deaths_7sg  \\\n79721            -5.964286              0.642857   \n79722          -125.178574             -1.607143   \n79723            -8.571428             -0.214286   \n79724            -4.392857             -0.321429   \n79725           -33.964287             -2.428571   \n\n       delta_new_cases_per_100k_7sg  delta_new_deaths_per_100k_7sg  \\\n79721                     -1.263928                       0.136232   \n79722                    -19.668434                      -0.252519   \n79723                     -7.734829                      -0.193371   \n79724                     -2.167974                      -0.158632   \n79725                     -3.739666                      -0.267400   \n\n       delta_new_cases_15sg  delta_new_deaths_15sg  \\\n79721            -12.908334              -0.466667   \n79722            -50.441666              -0.733333   \n79723             -4.566667              -0.200000   \n79724             -4.841667              -0.650000   \n79725            -16.575001              -1.458333   \n\n       delta_new_cases_per_100k_15sg  delta_new_deaths_per_100k_15sg  days  \\\n79721                      -2.735483                       -0.098894   195   \n79722                      -7.925547                       -0.115224   195   \n79723                      -4.120945                       -0.180479   195   \n79724                      -2.389472                       -0.320790   195   \n79725                      -1.825004                       -0.160571   195   \n\n           rate  \n79721  0.017005  \n79722  0.017810  \n79723  0.011756  \n79724  0.021888  \n79725  0.016340  \n\n[5 rows x 79 columns]",
      "text/html": "<div>\n<style scoped>\n    .dataframe tbody tr th:only-of-type {\n        vertical-align: middle;\n    }\n\n    .dataframe tbody tr th {\n        vertical-align: top;\n    }\n\n    .dataframe thead th {\n        text-align: right;\n    }\n</style>\n<table border=\"1\" class=\"dataframe\">\n  <thead>\n    <tr style=\"text-align: right;\">\n      <th></th>\n      <th>state</th>\n      <th>cluster</th>\n      <th>date</th>\n      <th>cases</th>\n      <th>deaths</th>\n      <th>county</th>\n      <th>total_pop</th>\n      <th>fips</th>\n      <th>white</th>\n      <th>black</th>\n      <th>...</th>\n      <th>delta_new_cases_7sg</th>\n      <th>delta_new_deaths_7sg</th>\n      <th>delta_new_cases_per_100k_7sg</th>\n      <th>delta_new_deaths_per_100k_7sg</th>\n      <th>delta_new_cases_15sg</th>\n      <th>delta_new_deaths_15sg</th>\n      <th>delta_new_cases_per_100k_15sg</th>\n      <th>delta_new_deaths_per_100k_15sg</th>\n      <th>days</th>\n      <th>rate</th>\n    </tr>\n  </thead>\n  <tbody>\n    <tr>\n      <th>79721</th>\n      <td>Alabama</td>\n      <td>3</td>\n      <td>2020-08-03</td>\n      <td>7939</td>\n      <td>135</td>\n      <td>Autauga-Coffee-Covington-Crenshaw-Dale-Elmore-...</td>\n      <td>471885</td>\n      <td>01001-01031-01039-01041-01045-01051-01061-0106...</td>\n      <td>333136</td>\n      <td>102762</td>\n      <td>...</td>\n      <td>-5.964286</td>\n      <td>0.642857</td>\n      <td>-1.263928</td>\n      <td>0.136232</td>\n      <td>-12.908334</td>\n      <td>-0.466667</td>\n      <td>-2.735483</td>\n      <td>-0.098894</td>\n      <td>195</td>\n      <td>0.017005</td>\n    </tr>\n    <tr>\n      <th>79722</th>\n      <td>Alabama</td>\n      <td>5</td>\n      <td>2020-08-03</td>\n      <td>12409</td>\n      <td>221</td>\n      <td>Baldwin-Mobile</td>\n      <td>636444</td>\n      <td>01003-01097</td>\n      <td>419294</td>\n      <td>167703</td>\n      <td>...</td>\n      <td>-125.178574</td>\n      <td>-1.607143</td>\n      <td>-19.668434</td>\n      <td>-0.252519</td>\n      <td>-50.441666</td>\n      <td>-0.733333</td>\n      <td>-7.925547</td>\n      <td>-0.115224</td>\n      <td>195</td>\n      <td>0.017810</td>\n    </tr>\n    <tr>\n      <th>79723</th>\n      <td>Alabama</td>\n      <td>8</td>\n      <td>2020-08-03</td>\n      <td>2637</td>\n      <td>31</td>\n      <td>Barbour-Bullock-Macon-Russell</td>\n      <td>110816</td>\n      <td>01005-01011-01087-01113</td>\n      <td>42892</td>\n      <td>59019</td>\n      <td>...</td>\n      <td>-8.571428</td>\n      <td>-0.214286</td>\n      <td>-7.734829</td>\n      <td>-0.193371</td>\n      <td>-4.566667</td>\n      <td>-0.200000</td>\n      <td>-4.120945</td>\n      <td>-0.180479</td>\n      <td>195</td>\n      <td>0.011756</td>\n    </tr>\n    <tr>\n      <th>79724</th>\n      <td>Alabama</td>\n      <td>7</td>\n      <td>2020-08-03</td>\n      <td>5711</td>\n      <td>125</td>\n      <td>Bibb-Butler-Chilton-Conecuh-Dallas-Escambia-Lo...</td>\n      <td>202625</td>\n      <td>01007-01013-01021-01035-01047-01053-01085-01099</td>\n      <td>113944</td>\n      <td>76232</td>\n      <td>...</td>\n      <td>-4.392857</td>\n      <td>-0.321429</td>\n      <td>-2.167974</td>\n      <td>-0.158632</td>\n      <td>-4.841667</td>\n      <td>-0.650000</td>\n      <td>-2.389472</td>\n      <td>-0.320790</td>\n      <td>195</td>\n      <td>0.021888</td>\n    </tr>\n    <tr>\n      <th>79725</th>\n      <td>Alabama</td>\n      <td>0</td>\n      <td>2020-08-03</td>\n      <td>16463</td>\n      <td>269</td>\n      <td>Blount-Calhoun-Chambers-Cherokee-Clay-Cleburne...</td>\n      <td>908217</td>\n      <td>01009-01015-01017-01019-01027-01029-01037-0104...</td>\n      <td>712824</td>\n      <td>116482</td>\n      <td>...</td>\n      <td>-33.964287</td>\n      <td>-2.428571</td>\n      <td>-3.739666</td>\n      <td>-0.267400</td>\n      <td>-16.575001</td>\n      <td>-1.458333</td>\n      <td>-1.825004</td>\n      <td>-0.160571</td>\n      <td>195</td>\n      <td>0.016340</td>\n    </tr>\n  </tbody>\n</table>\n<p>5 rows × 79 columns</p>\n</div>"
     },
     "metadata": {},
     "execution_count": 177
    }
   ],
   "source": [
    "#hide\n",
    "df = optimize(pd.read_csv('data/df.csv'))\n",
    "pop_df_ac = optimize(pd.read_csv('data/pop_df_ac.csv', \n",
    "                                 dtype={'fips':'str', 'cluster':'int'}))\n",
    "df['days'] = ((df['date'] - df['date'].min()) / np.timedelta64(1, 'D')).astype('int')\n",
    "df['rate'] = df['deaths'] / df['cases']\n",
    "la = timezone('US/Pacific')\n",
    "last = df['date'].max()\n",
    "df_slice = df[df['date'] == last]\n",
    "df_slice.head()"
   ]
  },
  {
   "cell_type": "code",
   "execution_count": 178,
   "metadata": {},
   "outputs": [
    {
     "output_type": "execute_result",
     "data": {
      "text/plain": "Index(['state', 'cluster', 'date', 'cases', 'deaths', 'county', 'total_pop',\n       'fips', 'white', 'black', 'asian', 'hispanic', 'area', 'lon', 'lat',\n       'votes_gop', 'votes_dem', 'total_votes', 'median_income', 'pop25',\n       'no_hs', 'some_hs', 'hs', 'some_college', 'associates', 'bachelors',\n       'graduate', 'never', 'rarely', 'sometimes', 'frequently', 'always',\n       'pop_density', 'per_white', 'per_black', 'per_asian', 'per_hispanic',\n       'per_total_votes', 'per_votes_gop', 'per_votes_dem', 'per_no_hs',\n       'per_some_hs', 'per_hs', 'per_some_college', 'per_associates',\n       'per_bachelors', 'per_graduate', 'edu', 'mask', 'per_gop', 'gop',\n       'cases_per_100k', 'deaths_per_100k', 'new_cases', 'new_deaths',\n       'new_cases_per_100k', 'new_deaths_per_100k', 'new_cases_7sg',\n       'new_deaths_7sg', 'new_cases_per_100k_7sg', 'new_deaths_per_100k_7sg',\n       'new_cases_15sg', 'new_deaths_15sg', 'new_cases_per_100k_15sg',\n       'new_deaths_per_100k_15sg', 'delta_new_cases', 'delta_new_deaths',\n       'delta_new_cases_per_100k', 'delta_new_deaths_per_100k',\n       'delta_new_cases_7sg', 'delta_new_deaths_7sg',\n       'delta_new_cases_per_100k_7sg', 'delta_new_deaths_per_100k_7sg',\n       'delta_new_cases_15sg', 'delta_new_deaths_15sg',\n       'delta_new_cases_per_100k_15sg', 'delta_new_deaths_per_100k_15sg',\n       'days', 'rate'],\n      dtype='object')"
     },
     "metadata": {},
     "execution_count": 178
    }
   ],
   "source": [
    "df.columns"
   ]
  },
  {
   "cell_type": "code",
   "execution_count": 179,
   "metadata": {},
   "outputs": [],
   "source": [
    "#hide\n",
    "#https://colorbrewer2.org/\n",
    "\n",
    "color_dict = dict(\n",
    "    # blue-red\n",
    "    per_gop=dict(\n",
    "        range=['#2166ac', '#F7F7F7', '#b2182b'],\n",
    "        mid=0.5\n",
    "    ),\n",
    "    # pink-green\n",
    "    mask=dict(\n",
    "        range=['#c51b7d', '#F7F7F7', '#4d9221'],\n",
    "        mid=pop_df_ac['mask'].median()\n",
    "    ),\n",
    "    # purple-orange\n",
    "    median_income=dict(\n",
    "        range=['#542788', '#F7F7F7', '#b35806'],\n",
    "        mid=61937\n",
    "    ),\n",
    "    # green-purple\n",
    "    edu=dict(\n",
    "        range=['#1b7837', '#F7F7F7', '#762a83'],\n",
    "        mid=pop_df_ac['edu'].median()\n",
    "    )\n",
    ")"
   ]
  },
  {
   "cell_type": "markdown",
   "metadata": {},
   "source": [
    "# Funnel Charts"
   ]
  },
  {
   "cell_type": "code",
   "execution_count": 180,
   "metadata": {},
   "outputs": [],
   "source": [
    "#collapse-hide\n",
    "def make_funnel_chart(df, x_col, c_col, c_range, c_mid):\n",
    "\n",
    "    x_col_2 = x_col + '_per_100k_15sg'\n",
    "    cols = ['date', 'state', 'county', 'total_pop'] + [x_col, x_col_2, c_col]\n",
    "\n",
    "    df = df[df['date'] >= '2020-03-01'][cols]\n",
    "    \n",
    "    base = alt.Chart(df).properties(\n",
    "        title=x_col + ' vs. ' + c_col,\n",
    "        width=480,\n",
    "        height=720\n",
    "    )\n",
    "    \n",
    "    c_datum = 'datum.' + c_col\n",
    "    x_datum = 'datum.' + x_col\n",
    "\n",
    "    # left of iceberg: c_col <= cutoff_val\n",
    "    left = base.mark_area().transform_filter(\n",
    "        (eval(c_datum) <= c_mid)\n",
    "    ).transform_joinaggregate(\n",
    "        pop_left='sum(total_pop)',\n",
    "    ).transform_calculate(\n",
    "        per_x=x_datum + ' / datum.pop_left * -100000'\n",
    "    ).encode(\n",
    "        alt.X('per_x:Q'),\n",
    "        alt.Y('date:T', title='Date'),\n",
    "        order=alt.Order(c_col, sort='descending')\n",
    "    )\n",
    "    \n",
    "    # right of iceberg: c_col > cutoff_val\n",
    "    right = base.mark_area().transform_filter(\n",
    "        (eval(c_datum) > c_mid)\n",
    "    ).transform_joinaggregate(\n",
    "        pop_right='sum(total_pop)',\n",
    "    ).transform_calculate(\n",
    "        per_x=x_datum + ' / datum.pop_right * 100000'\n",
    "    ).encode(\n",
    "        alt.X('per_x:Q'),\n",
    "        alt.Y('date:T', title='Date'),\n",
    "        order=alt.Order(c_col, sort='ascending')\n",
    "    )   \n",
    "    \n",
    "    # just a line at zero to make it easier to see\n",
    "    zero = alt.Chart(pd.DataFrame({'x': [0]})).mark_rule(\n",
    "        color='black',\n",
    "        size=0.5\n",
    "    ).encode(x='x')\n",
    "\n",
    "    # find dates where {new cases} is statistically different between halves\n",
    "    dates = [[], []]\n",
    "    for date in df['date'].unique():\n",
    "        df_ = df[df['date'] == date]\n",
    "        df0_ = df_[df_[c_col]<=c_mid][x_col_2].values\n",
    "        df1_ = df_[df_[c_col]>c_mid][x_col_2].values\n",
    "        t, p = ttest_ind(df0_, df1_)\n",
    "        # two-tailed t-test; p/2 < alpha\n",
    "        if p/2 < 0.05:\n",
    "            # if df0_.mean() > df1_.mean()\n",
    "            if t > 0: \n",
    "                dates[0].append(date)\n",
    "            else:\n",
    "                dates[1].append(date)\n",
    "\n",
    "\n",
    "    # https://stackoverflow.com/a/6934267\n",
    "    def get_ranges(d):\n",
    "        last_date = d[-1]\n",
    "        while d:\n",
    "            end = 1\n",
    "            try:\n",
    "                while d[end] - d[end - 1] == np.timedelta64(1, 'D'):\n",
    "                    end += 1\n",
    "            except IndexError:\n",
    "                pass\n",
    "            if d[end-1] == last_date:\n",
    "                end_date = d[end-1]\n",
    "            else:\n",
    "                end_date = d[end-1] + np.timedelta64(1, 'D')\n",
    "            yield {'start': d[0],\n",
    "                   'end': end_date}\n",
    "            d = d[end:]\n",
    "\n",
    "    rects = []\n",
    "    for i, d in enumerate(dates):\n",
    "        if len(d) > 0:\n",
    "            ranges = alt.pd.DataFrame(get_ranges(d))\n",
    "            rects.append(\n",
    "                alt.Chart(ranges).mark_rect(\n",
    "                    color=c_range[-1*i], \n",
    "                    opacity=0.1\n",
    "                ).encode(\n",
    "                    y='start:T',\n",
    "                    y2='end:T'\n",
    "                )\n",
    "            )\n",
    "    \n",
    "    funnel = alt.layer(left, right).encode(\n",
    "        color=alt.Color(\n",
    "            c_col + ':Q',\n",
    "            scale=alt.Scale(\n",
    "                range=c_range,\n",
    "                domain=[np.percentile(pop_df_ac[c_col], 1),\n",
    "                        c_mid,\n",
    "                        np.percentile(pop_df_ac[c_col], 99)],\n",
    "                interpolate={\n",
    "                    'type':'rgb', \n",
    "                    'gamma':0.75\n",
    "                }\n",
    "            ),\n",
    "        ),\n",
    "        tooltip=[\n",
    "            'state:N', 'county:N', 'date:T',\n",
    "            alt.Tooltip(\n",
    "                x_col + ':Q',\n",
    "                format='.2f',\n",
    "            ),\n",
    "            alt.Tooltip(\n",
    "                c_col + ':Q',\n",
    "                format='.2f',\n",
    "            )\n",
    "        ]\n",
    "    )\n",
    "\n",
    "    layer = alt.layer(*rects, funnel, zero)\n",
    "    \n",
    "    return layer"
   ]
  },
  {
   "cell_type": "markdown",
   "metadata": {},
   "source": [
    "## New Cases vs. Percent GOP"
   ]
  },
  {
   "cell_type": "code",
   "execution_count": 181,
   "metadata": {
    "tags": []
   },
   "outputs": [
    {
     "output_type": "execute_result",
     "data": {
      "application/vnd.vegalite.v4+json": {
       "config": {
        "view": {
         "continuousWidth": 400,
         "continuousHeight": 300
        }
       },
       "layer": [
        {
         "data": {
          "url": "http://localhost:18863/475c4ff8a03f05dacf2c22392767be1d.json"
         },
         "mark": {
          "type": "rect",
          "color": "#2166ac",
          "opacity": 0.1
         },
         "encoding": {
          "y": {
           "type": "temporal",
           "field": "start"
          },
          "y2": {
           "field": "end"
          }
         }
        },
        {
         "layer": [
          {
           "mark": "area",
           "encoding": {
            "order": {
             "type": "quantitative",
             "field": "per_gop",
             "sort": "descending"
            },
            "x": {
             "type": "quantitative",
             "field": "per_x"
            },
            "y": {
             "type": "temporal",
             "field": "date",
             "title": "Date"
            }
           },
           "height": 720,
           "title": "new_cases vs. per_gop",
           "transform": [
            {
             "filter": "(datum.per_gop <= 0.5)"
            },
            {
             "joinaggregate": [
              {
               "op": "sum",
               "field": "total_pop",
               "as": "pop_left"
              }
             ]
            },
            {
             "calculate": "datum.new_cases / datum.pop_left * -100000",
             "as": "per_x"
            }
           ],
           "width": 480
          },
          {
           "mark": "area",
           "encoding": {
            "order": {
             "type": "quantitative",
             "field": "per_gop",
             "sort": "ascending"
            },
            "x": {
             "type": "quantitative",
             "field": "per_x"
            },
            "y": {
             "type": "temporal",
             "field": "date",
             "title": "Date"
            }
           },
           "height": 720,
           "title": "new_cases vs. per_gop",
           "transform": [
            {
             "filter": "(datum.per_gop > 0.5)"
            },
            {
             "joinaggregate": [
              {
               "op": "sum",
               "field": "total_pop",
               "as": "pop_right"
              }
             ]
            },
            {
             "calculate": "datum.new_cases / datum.pop_right * 100000",
             "as": "per_x"
            }
           ],
           "width": 480
          }
         ],
         "data": {
          "url": "http://localhost:18863/b9fb2357b74a81415d9cb316cf7dc2ef.json"
         },
         "encoding": {
          "color": {
           "type": "quantitative",
           "field": "per_gop",
           "scale": {
            "domain": [
             0.1479944710433483,
             0.5,
             0.8901535403728488
            ],
            "interpolate": {
             "type": "rgb",
             "gamma": 0.75
            },
            "range": [
             "#2166ac",
             "#F7F7F7",
             "#b2182b"
            ]
           }
          },
          "tooltip": [
           {
            "type": "nominal",
            "field": "state"
           },
           {
            "type": "nominal",
            "field": "county"
           },
           {
            "type": "temporal",
            "field": "date"
           },
           {
            "type": "quantitative",
            "field": "new_cases",
            "format": ".2f"
           },
           {
            "type": "quantitative",
            "field": "per_gop",
            "format": ".2f"
           }
          ]
         }
        },
        {
         "data": {
          "url": "http://localhost:18863/a2cf18193c19be88afd84610434ea0f7.json"
         },
         "mark": {
          "type": "rule",
          "color": "black",
          "size": 0.5
         },
         "encoding": {
          "x": {
           "type": "quantitative",
           "field": "x"
          }
         }
        }
       ],
       "$schema": "https://vega.github.io/schema/vega-lite/v4.8.1.json"
      },
      "text/plain": "<VegaLite 4 object>\n\nIf you see this message, it means the renderer has not been properly enabled\nfor the frontend that you are using. For more information, see\nhttps://altair-viz.github.io/user_guide/troubleshooting.html\n"
     },
     "metadata": {},
     "execution_count": 181
    }
   ],
   "source": [
    "funnel_gop = make_funnel_chart(df, 'new_cases', 'per_gop', color_dict['per_gop']['range'], color_dict['per_gop']['mid'])\n",
    "# ice_gop.save('docs/ice_gop.html')\n",
    "funnel_gop"
   ]
  },
  {
   "cell_type": "markdown",
   "metadata": {},
   "source": [
    "Democratic counties still comprise most daily cases compared to their Republican counterparts. However, when splitting the country into \"Democratic\" and \"Republican\" halves, we see that Republican-leaning counties currently account for more than half of the new daily cases."
   ]
  },
  {
   "cell_type": "markdown",
   "metadata": {},
   "source": [
    "## Comparing New Cases vs. Educational Attainment"
   ]
  },
  {
   "cell_type": "markdown",
   "metadata": {},
   "source": [
    "Counties with lower educational attainment coefficient have a disproportionate share of new cases:"
   ]
  },
  {
   "cell_type": "code",
   "execution_count": 182,
   "metadata": {
    "tags": []
   },
   "outputs": [
    {
     "output_type": "execute_result",
     "data": {
      "application/vnd.vegalite.v4+json": {
       "config": {
        "view": {
         "continuousWidth": 400,
         "continuousHeight": 300
        }
       },
       "layer": [
        {
         "data": {
          "url": "http://localhost:18863/7699925ec0669e3b602941426539eebc.json"
         },
         "mark": {
          "type": "rect",
          "color": "#1b7837",
          "opacity": 0.1
         },
         "encoding": {
          "y": {
           "type": "temporal",
           "field": "start"
          },
          "y2": {
           "field": "end"
          }
         }
        },
        {
         "data": {
          "url": "http://localhost:18863/2eb5cdc4240e2a7bab96ba713e2471ac.json"
         },
         "mark": {
          "type": "rect",
          "color": "#762a83",
          "opacity": 0.1
         },
         "encoding": {
          "y": {
           "type": "temporal",
           "field": "start"
          },
          "y2": {
           "field": "end"
          }
         }
        },
        {
         "layer": [
          {
           "mark": "area",
           "encoding": {
            "order": {
             "type": "quantitative",
             "field": "edu",
             "sort": "descending"
            },
            "x": {
             "type": "quantitative",
             "field": "per_x"
            },
            "y": {
             "type": "temporal",
             "field": "date",
             "title": "Date"
            }
           },
           "height": 720,
           "title": "new_cases vs. edu",
           "transform": [
            {
             "filter": "(datum.edu <= 3.0742032527923584)"
            },
            {
             "joinaggregate": [
              {
               "op": "sum",
               "field": "total_pop",
               "as": "pop_left"
              }
             ]
            },
            {
             "calculate": "datum.new_cases / datum.pop_left * -100000",
             "as": "per_x"
            }
           ],
           "width": 480
          },
          {
           "mark": "area",
           "encoding": {
            "order": {
             "type": "quantitative",
             "field": "edu",
             "sort": "ascending"
            },
            "x": {
             "type": "quantitative",
             "field": "per_x"
            },
            "y": {
             "type": "temporal",
             "field": "date",
             "title": "Date"
            }
           },
           "height": 720,
           "title": "new_cases vs. edu",
           "transform": [
            {
             "filter": "(datum.edu > 3.0742032527923584)"
            },
            {
             "joinaggregate": [
              {
               "op": "sum",
               "field": "total_pop",
               "as": "pop_right"
              }
             ]
            },
            {
             "calculate": "datum.new_cases / datum.pop_right * 100000",
             "as": "per_x"
            }
           ],
           "width": 480
          }
         ],
         "data": {
          "url": "http://localhost:18863/d919970830a5c8dbef65ed88afeb1ca0.json"
         },
         "encoding": {
          "color": {
           "type": "quantitative",
           "field": "edu",
           "scale": {
            "domain": [
             2.2706642246246336,
             3.0742032527923584,
             4.092764987945557
            ],
            "interpolate": {
             "type": "rgb",
             "gamma": 0.75
            },
            "range": [
             "#1b7837",
             "#F7F7F7",
             "#762a83"
            ]
           }
          },
          "tooltip": [
           {
            "type": "nominal",
            "field": "state"
           },
           {
            "type": "nominal",
            "field": "county"
           },
           {
            "type": "temporal",
            "field": "date"
           },
           {
            "type": "quantitative",
            "field": "new_cases",
            "format": ".2f"
           },
           {
            "type": "quantitative",
            "field": "edu",
            "format": ".2f"
           }
          ]
         }
        },
        {
         "data": {
          "url": "http://localhost:18863/a2cf18193c19be88afd84610434ea0f7.json"
         },
         "mark": {
          "type": "rule",
          "color": "black",
          "size": 0.5
         },
         "encoding": {
          "x": {
           "type": "quantitative",
           "field": "x"
          }
         }
        }
       ],
       "$schema": "https://vega.github.io/schema/vega-lite/v4.8.1.json"
      },
      "text/plain": "<VegaLite 4 object>\n\nIf you see this message, it means the renderer has not been properly enabled\nfor the frontend that you are using. For more information, see\nhttps://altair-viz.github.io/user_guide/troubleshooting.html\n"
     },
     "metadata": {},
     "execution_count": 182
    }
   ],
   "source": [
    "funnel_edu = make_funnel_chart(df, 'new_cases', 'edu', color_dict['edu']['range'], color_dict['edu']['mid'])\n",
    "funnel_edu"
   ]
  },
  {
   "cell_type": "markdown",
   "metadata": {},
   "source": [
    "## Comparing New Cases vs. Median Income"
   ]
  },
  {
   "cell_type": "markdown",
   "metadata": {},
   "source": [
    "Strangely enough, while there didn't seem to be a large correlation between new cases and median income (for the most recent 15-day window), we can see from this iceberg plot that low-income counties are currently disproportionately affected by COVID-19."
   ]
  },
  {
   "cell_type": "code",
   "execution_count": 183,
   "metadata": {
    "tags": []
   },
   "outputs": [
    {
     "output_type": "execute_result",
     "data": {
      "application/vnd.vegalite.v4+json": {
       "config": {
        "view": {
         "continuousWidth": 400,
         "continuousHeight": 300
        }
       },
       "layer": [
        {
         "data": {
          "url": "http://localhost:18863/6b6a7ac17c8862bebc3cf5040eb9c5a3.json"
         },
         "mark": {
          "type": "rect",
          "color": "#542788",
          "opacity": 0.1
         },
         "encoding": {
          "y": {
           "type": "temporal",
           "field": "start"
          },
          "y2": {
           "field": "end"
          }
         }
        },
        {
         "data": {
          "url": "http://localhost:18863/4256479fbbcffcfc296f86995c7d9dbf.json"
         },
         "mark": {
          "type": "rect",
          "color": "#b35806",
          "opacity": 0.1
         },
         "encoding": {
          "y": {
           "type": "temporal",
           "field": "start"
          },
          "y2": {
           "field": "end"
          }
         }
        },
        {
         "layer": [
          {
           "mark": "area",
           "encoding": {
            "order": {
             "type": "quantitative",
             "field": "median_income",
             "sort": "descending"
            },
            "x": {
             "type": "quantitative",
             "field": "per_x"
            },
            "y": {
             "type": "temporal",
             "field": "date",
             "title": "Date"
            }
           },
           "height": 720,
           "title": "new_cases vs. median_income",
           "transform": [
            {
             "filter": "(datum.median_income <= 61937)"
            },
            {
             "joinaggregate": [
              {
               "op": "sum",
               "field": "total_pop",
               "as": "pop_left"
              }
             ]
            },
            {
             "calculate": "datum.new_cases / datum.pop_left * -100000",
             "as": "per_x"
            }
           ],
           "width": 480
          },
          {
           "mark": "area",
           "encoding": {
            "order": {
             "type": "quantitative",
             "field": "median_income",
             "sort": "ascending"
            },
            "x": {
             "type": "quantitative",
             "field": "per_x"
            },
            "y": {
             "type": "temporal",
             "field": "date",
             "title": "Date"
            }
           },
           "height": 720,
           "title": "new_cases vs. median_income",
           "transform": [
            {
             "filter": "(datum.median_income > 61937)"
            },
            {
             "joinaggregate": [
              {
               "op": "sum",
               "field": "total_pop",
               "as": "pop_right"
              }
             ]
            },
            {
             "calculate": "datum.new_cases / datum.pop_right * 100000",
             "as": "per_x"
            }
           ],
           "width": 480
          }
         ],
         "data": {
          "url": "http://localhost:18863/6b7a4ca808c98d5ba688eb1399aad9ee.json"
         },
         "encoding": {
          "color": {
           "type": "quantitative",
           "field": "median_income",
           "scale": {
            "domain": [
             34251.6571875,
             61937,
             109758.46359375001
            ],
            "interpolate": {
             "type": "rgb",
             "gamma": 0.75
            },
            "range": [
             "#542788",
             "#F7F7F7",
             "#b35806"
            ]
           }
          },
          "tooltip": [
           {
            "type": "nominal",
            "field": "state"
           },
           {
            "type": "nominal",
            "field": "county"
           },
           {
            "type": "temporal",
            "field": "date"
           },
           {
            "type": "quantitative",
            "field": "new_cases",
            "format": ".2f"
           },
           {
            "type": "quantitative",
            "field": "median_income",
            "format": ".2f"
           }
          ]
         }
        },
        {
         "data": {
          "url": "http://localhost:18863/a2cf18193c19be88afd84610434ea0f7.json"
         },
         "mark": {
          "type": "rule",
          "color": "black",
          "size": 0.5
         },
         "encoding": {
          "x": {
           "type": "quantitative",
           "field": "x"
          }
         }
        }
       ],
       "$schema": "https://vega.github.io/schema/vega-lite/v4.8.1.json"
      },
      "text/plain": "<VegaLite 4 object>\n\nIf you see this message, it means the renderer has not been properly enabled\nfor the frontend that you are using. For more information, see\nhttps://altair-viz.github.io/user_guide/troubleshooting.html\n"
     },
     "metadata": {},
     "execution_count": 183
    }
   ],
   "source": [
    "#hide_input\n",
    "funnel_inc = make_funnel_chart(df, 'new_cases', 'median_income', \n",
    "                               color_dict['median_income']['range'], \n",
    "                               color_dict['median_income']['mid'])\n",
    "funnel_inc"
   ]
  },
  {
   "cell_type": "markdown",
   "metadata": {},
   "source": [
    "## Comparing New Cases vs. Mask Discipline"
   ]
  },
  {
   "cell_type": "markdown",
   "metadata": {},
   "source": [
    "While dense counties were hit the hardest in the beginning, they seem to be doing slightly better"
   ]
  },
  {
   "cell_type": "code",
   "execution_count": 184,
   "metadata": {},
   "outputs": [
    {
     "output_type": "execute_result",
     "data": {
      "application/vnd.vegalite.v4+json": {
       "config": {
        "view": {
         "continuousWidth": 400,
         "continuousHeight": 300
        }
       },
       "layer": [
        {
         "data": {
          "url": "http://localhost:18863/94fe960b936ed060cb970896eaf0fc44.json"
         },
         "mark": {
          "type": "rect",
          "color": "#c51b7d",
          "opacity": 0.1
         },
         "encoding": {
          "y": {
           "type": "temporal",
           "field": "start"
          },
          "y2": {
           "field": "end"
          }
         }
        },
        {
         "data": {
          "url": "http://localhost:18863/bd8718464e74700cdebed8dc8c481b19.json"
         },
         "mark": {
          "type": "rect",
          "color": "#4d9221",
          "opacity": 0.1
         },
         "encoding": {
          "y": {
           "type": "temporal",
           "field": "start"
          },
          "y2": {
           "field": "end"
          }
         }
        },
        {
         "layer": [
          {
           "mark": "area",
           "encoding": {
            "order": {
             "type": "quantitative",
             "field": "mask",
             "sort": "descending"
            },
            "x": {
             "type": "quantitative",
             "field": "per_x"
            },
            "y": {
             "type": "temporal",
             "field": "date",
             "title": "Date"
            }
           },
           "height": 720,
           "title": "new_cases vs. mask",
           "transform": [
            {
             "filter": "(datum.mask <= 3.284342050552368)"
            },
            {
             "joinaggregate": [
              {
               "op": "sum",
               "field": "total_pop",
               "as": "pop_left"
              }
             ]
            },
            {
             "calculate": "datum.new_cases / datum.pop_left * -100000",
             "as": "per_x"
            }
           ],
           "width": 480
          },
          {
           "mark": "area",
           "encoding": {
            "order": {
             "type": "quantitative",
             "field": "mask",
             "sort": "ascending"
            },
            "x": {
             "type": "quantitative",
             "field": "per_x"
            },
            "y": {
             "type": "temporal",
             "field": "date",
             "title": "Date"
            }
           },
           "height": 720,
           "title": "new_cases vs. mask",
           "transform": [
            {
             "filter": "(datum.mask > 3.284342050552368)"
            },
            {
             "joinaggregate": [
              {
               "op": "sum",
               "field": "total_pop",
               "as": "pop_right"
              }
             ]
            },
            {
             "calculate": "datum.new_cases / datum.pop_right * 100000",
             "as": "per_x"
            }
           ],
           "width": 480
          }
         ],
         "data": {
          "url": "http://localhost:18863/b0a73a2a810707cb9373f0608fdc9b3c.json"
         },
         "encoding": {
          "color": {
           "type": "quantitative",
           "field": "mask",
           "scale": {
            "domain": [
             2.3388788890838623,
             3.284342050552368,
             3.795660080909729
            ],
            "interpolate": {
             "type": "rgb",
             "gamma": 0.75
            },
            "range": [
             "#c51b7d",
             "#F7F7F7",
             "#4d9221"
            ]
           }
          },
          "tooltip": [
           {
            "type": "nominal",
            "field": "state"
           },
           {
            "type": "nominal",
            "field": "county"
           },
           {
            "type": "temporal",
            "field": "date"
           },
           {
            "type": "quantitative",
            "field": "new_cases",
            "format": ".2f"
           },
           {
            "type": "quantitative",
            "field": "mask",
            "format": ".2f"
           }
          ]
         }
        },
        {
         "data": {
          "url": "http://localhost:18863/a2cf18193c19be88afd84610434ea0f7.json"
         },
         "mark": {
          "type": "rule",
          "color": "black",
          "size": 0.5
         },
         "encoding": {
          "x": {
           "type": "quantitative",
           "field": "x"
          }
         }
        }
       ],
       "$schema": "https://vega.github.io/schema/vega-lite/v4.8.1.json"
      },
      "text/plain": "<VegaLite 4 object>\n\nIf you see this message, it means the renderer has not been properly enabled\nfor the frontend that you are using. For more information, see\nhttps://altair-viz.github.io/user_guide/troubleshooting.html\n"
     },
     "metadata": {},
     "execution_count": 184
    }
   ],
   "source": [
    "#hide_input\n",
    "funnel_mask = make_funnel_chart(df, 'new_cases', 'mask', color_dict['mask']['range'], color_dict['mask']['mid'])\n",
    "funnel_mask"
   ]
  },
  {
   "cell_type": "code",
   "execution_count": 186,
   "metadata": {},
   "outputs": [
    {
     "output_type": "execute_result",
     "data": {
      "application/vnd.vegalite.v4+json": {
       "config": {
        "view": {
         "continuousWidth": 400,
         "continuousHeight": 300
        }
       },
       "layer": [
        {
         "data": {
          "url": "http://localhost:18863/5ac5b12e592e8df2540d72a0ea51e945.json"
         },
         "mark": {
          "type": "rect",
          "color": "#4d9221",
          "opacity": 0.1
         },
         "encoding": {
          "y": {
           "type": "temporal",
           "field": "start"
          },
          "y2": {
           "field": "end"
          }
         }
        },
        {
         "layer": [
          {
           "mark": "area",
           "encoding": {
            "order": {
             "type": "quantitative",
             "field": "pop_density",
             "sort": "descending"
            },
            "x": {
             "type": "quantitative",
             "field": "per_x"
            },
            "y": {
             "type": "temporal",
             "field": "date",
             "title": "Date"
            }
           },
           "height": 720,
           "title": "new_cases vs. pop_density",
           "transform": [
            {
             "filter": "(datum.pop_density <= 96.63644409179688)"
            },
            {
             "joinaggregate": [
              {
               "op": "sum",
               "field": "total_pop",
               "as": "pop_left"
              }
             ]
            },
            {
             "calculate": "datum.new_cases / datum.pop_left * -100000",
             "as": "per_x"
            }
           ],
           "width": 480
          },
          {
           "mark": "area",
           "encoding": {
            "order": {
             "type": "quantitative",
             "field": "pop_density",
             "sort": "ascending"
            },
            "x": {
             "type": "quantitative",
             "field": "per_x"
            },
            "y": {
             "type": "temporal",
             "field": "date",
             "title": "Date"
            }
           },
           "height": 720,
           "title": "new_cases vs. pop_density",
           "transform": [
            {
             "filter": "(datum.pop_density > 96.63644409179688)"
            },
            {
             "joinaggregate": [
              {
               "op": "sum",
               "field": "total_pop",
               "as": "pop_right"
              }
             ]
            },
            {
             "calculate": "datum.new_cases / datum.pop_right * 100000",
             "as": "per_x"
            }
           ],
           "width": 480
          }
         ],
         "data": {
          "url": "http://localhost:18863/708b8545de0ca8b8d76a023aa7fce6c0.json"
         },
         "encoding": {
          "color": {
           "type": "quantitative",
           "field": "pop_density",
           "scale": {
            "domain": [
             1.1107245755195618,
             96.63644409179688,
             12254.953750000055
            ],
            "interpolate": {
             "type": "rgb",
             "gamma": 0.75
            },
            "range": [
             "#c51b7d",
             "#F7F7F7",
             "#4d9221"
            ]
           }
          },
          "tooltip": [
           {
            "type": "nominal",
            "field": "state"
           },
           {
            "type": "nominal",
            "field": "county"
           },
           {
            "type": "temporal",
            "field": "date"
           },
           {
            "type": "quantitative",
            "field": "new_cases",
            "format": ".2f"
           },
           {
            "type": "quantitative",
            "field": "pop_density",
            "format": ".2f"
           }
          ]
         }
        },
        {
         "data": {
          "url": "http://localhost:18863/a2cf18193c19be88afd84610434ea0f7.json"
         },
         "mark": {
          "type": "rule",
          "color": "black",
          "size": 0.5
         },
         "encoding": {
          "x": {
           "type": "quantitative",
           "field": "x"
          }
         }
        }
       ],
       "$schema": "https://vega.github.io/schema/vega-lite/v4.8.1.json"
      },
      "text/plain": "<VegaLite 4 object>\n\nIf you see this message, it means the renderer has not been properly enabled\nfor the frontend that you are using. For more information, see\nhttps://altair-viz.github.io/user_guide/troubleshooting.html\n"
     },
     "metadata": {},
     "execution_count": 186
    }
   ],
   "source": [
    "make_funnel_chart(df, 'new_cases', 'pop_density', ['#c51b7d', '#F7F7F7', '#4d9221'], pop_df_ac['pop_density'].median())"
   ]
  },
  {
   "cell_type": "code",
   "execution_count": null,
   "metadata": {},
   "outputs": [],
   "source": [
    "#collapse-hide\n",
    "def make_iceberg_chart(df, pop_df_ac, params):\n",
    "    \n",
    "    # https://stackoverflow.com/a/41489086\n",
    "    # find cutoff along color column to split dataframe into equal-population halves\n",
    "    total = pop_df_ac['total_pop'].sum()\n",
    "    half = total / 2\n",
    "    sorted_pop_df_ac = pop_df_ac.sort_values(by=params['c_col'])\n",
    "    # returns last index where cumsum < half\n",
    "    cutoff_idx = np.flatnonzero(sorted_pop_df_ac['total_pop'].cumsum() < half)[-1]\n",
    "    cutoff_val = sorted_pop_df_ac[params['c_col']].iloc[cutoff_idx]\n",
    "    \n",
    "    # checks the half\n",
    "    h0 = sorted_pop_df_ac['total_pop'][:cutoff_idx + 1].sum() / total\n",
    "    print(f'{h0*100:.1f}')\n",
    "    \n",
    "    base = alt.Chart(df).properties(\n",
    "        title=params['chart_title'],\n",
    "        width=720,\n",
    "        height=480\n",
    "    )\n",
    "    \n",
    "    c_datum = 'datum.' + params['c_col']\n",
    "    \n",
    "    # top of iceberg: c_col > cutoff_val\n",
    "    top = base.mark_area(opacity=0.8).transform_filter(\n",
    "        (eval(c_datum) > cutoff_val)\n",
    "    ).encode(\n",
    "        alt.X('date:T', title='Date'),\n",
    "        alt.Y(params['y_col'] + ':Q'),\n",
    "        color=alt.Color(\n",
    "            params['c_col'] + ':Q',\n",
    "            scale=alt.Scale(\n",
    "                scheme=color_dict[params['c_col']]['scheme'],\n",
    "                domain=[np.percentile(df[params['c_col']].unique(), 1), \n",
    "                        np.percentile(df[params['c_col']].unique(), 99)],\n",
    "                domainMid=color_dict[params['c_col']]['mid'],\n",
    "            ),\n",
    "            sort=color_dict[params['c_col']]['sort'],\n",
    "        ),\n",
    "        order=alt.Order(params['c_col'], sort='ascending')\n",
    "    )\n",
    "    \n",
    "    # bottom of iceberg: c_col <= cutoff_val\n",
    "    bottom = base.mark_area(opacity=0.8).transform_filter(\n",
    "        (eval(c_datum) <= cutoff_val)\n",
    "    ).transform_calculate(\n",
    "        y_alt='datum.' + params['y_col'] + '* -1'\n",
    "    ).encode(\n",
    "        alt.X('date:T', title='Date'),\n",
    "        alt.Y('y_alt:Q', axis=alt.Axis(format='(.2s')),\n",
    "        color=alt.Color(\n",
    "            params['c_col'] + ':Q',\n",
    "            scale=alt.Scale(\n",
    "                scheme=color_dict[params['c_col']]['scheme'],\n",
    "                domain=[np.percentile(df[params['c_col']].unique(), 1), \n",
    "                        np.percentile(df[params['c_col']].unique(), 99)],\n",
    "                domainMid=color_dict[params['c_col']]['mid'],\n",
    "            ),\n",
    "            sort=color_dict[params['c_col']]['sort'],\n",
    "        ),\n",
    "        order=alt.Order(params['c_col'], sort='descending')\n",
    "    )\n",
    "    \n",
    "    df['zero'] = 0\n",
    "    zero = base.mark_line(color='black').encode(\n",
    "        x='date',\n",
    "        y='zero',\n",
    "        size=alt.value(0.5)\n",
    "    )\n",
    "    \n",
    "    layer = alt.layer(top, bottom, zero).encode(\n",
    "        tooltip=[\n",
    "            'state:N', 'county:N', 'date:T',\n",
    "            alt.Tooltip(\n",
    "                params['y_col'] + ':Q',\n",
    "                format='.2f',\n",
    "            )\n",
    "        ]\n",
    "    )\n",
    "    \n",
    "    return layer"
   ]
  },
  {
   "cell_type": "code",
   "execution_count": null,
   "metadata": {},
   "outputs": [],
   "source": [
    "#collapse-hide\n",
    "def make_iceberg_chart_2(df, pop_df_ac, params):\n",
    "    \n",
    "    # https://stackoverflow.com/a/41489086\n",
    "    # find cutoff along color column to split dataframe into equal-population halves\n",
    "    total = pop_df_ac['total_pop'].sum()\n",
    "    half = total / 2\n",
    "    sorted_pop_df_ac = pop_df_ac.sort_values(by=params['c_col'])\n",
    "    # returns last index where cumsum < half\n",
    "    cutoff_idx = np.flatnonzero(sorted_pop_df_ac['total_pop'].cumsum() < half)[-1]\n",
    "    cutoff_val = sorted_pop_df_ac[params['c_col']].iloc[cutoff_idx]\n",
    "    \n",
    "    # checks the half\n",
    "    h0 = sorted_pop_df_ac['total_pop'][:cutoff_idx + 1].sum() / total\n",
    "    print(f'{h0*100:.1f}')\n",
    "    \n",
    "    base = alt.Chart(df).properties(\n",
    "        title=params['chart_title'],\n",
    "        width=720,\n",
    "        height=480\n",
    "    )\n",
    "    \n",
    "    c_datum = 'datum.' + params['c_col']\n",
    "    \n",
    "    # top of iceberg: c_col > cutoff_val\n",
    "    top = base.mark_area(opacity=1).transform_filter(\n",
    "        (eval(c_datum) > cutoff_val)\n",
    "    ).encode(\n",
    "        alt.X('date:T', title='Date'),\n",
    "        alt.Y(params['y_col'] + ':Q'),\n",
    "        color=alt.Color(\n",
    "            params['c_col'] + ':Q',\n",
    "            scale=alt.Scale(\n",
    "                scheme=color_dict[params['c_col']]['scheme'],\n",
    "                domain=[np.percentile(df[params['c_col']].unique(), 1), \n",
    "                        np.percentile(df[params['c_col']].unique(), 99)],\n",
    "                domainMid=color_dict[params['c_col']]['mid'],\n",
    "            ),\n",
    "            sort=color_dict[params['c_col']]['sort'],\n",
    "        ),\n",
    "        order=alt.Order(params['c_col'], sort='ascending')\n",
    "    )\n",
    "    \n",
    "    # bottom of iceberg: c_col <= cutoff_val\n",
    "    bottom = base.mark_area(opacity=1).transform_filter(\n",
    "        (eval(c_datum) <= cutoff_val)\n",
    "    ).transform_calculate(\n",
    "        y_alt='datum.' + params['y_col'] + '* -1'\n",
    "    ).encode(\n",
    "        alt.X('date:T', title='Date'),\n",
    "        alt.Y('y_alt:Q', axis=alt.Axis(format='(.2s')),\n",
    "        color=alt.Color(\n",
    "            params['c_col'] + ':Q',\n",
    "            scale=alt.Scale(\n",
    "                scheme=color_dict[params['c_col']]['scheme'],\n",
    "                domain=[np.percentile(df[params['c_col']].unique(), 1), \n",
    "                        np.percentile(df[params['c_col']].unique(), 99)],\n",
    "                domainMid=color_dict[params['c_col']]['mid'],\n",
    "            ),\n",
    "            sort=color_dict[params['c_col']]['sort'],\n",
    "        ),\n",
    "        order=alt.Order(params['c_col'], sort='descending')\n",
    "    )\n",
    "    \n",
    "    # just a line at zero to make it easier to see\n",
    "    # not sure why mark_rule doesn't work as intended\n",
    "    df['zero'] = 0\n",
    "    zero = base.mark_line(color='black').encode(\n",
    "        x='date',\n",
    "        y='zero',\n",
    "        size=alt.value(0.5)\n",
    "    )\n",
    "\n",
    "    # find dates where new cases is statistically different between samples\n",
    "    dates = []\n",
    "    for date in df['date'].unique():\n",
    "        df_ = df[df['date'] == date]\n",
    "        df0_ = df_[df_[params['c_col']]<=cutoff_val]['new_cases_per_100k'].values\n",
    "        df1_ = df_[df_[params['c_col']]>cutoff_val]['new_cases_per_100k'].values\n",
    "        stat, p = ttest_ind(df0_, df1_)\n",
    "        if p < 0.05:\n",
    "            dates.append(date)\n",
    "\n",
    "    # https://stackoverflow.com/a/6934267\n",
    "    def get_ranges(dates):\n",
    "        while dates:\n",
    "            end = 1\n",
    "            try:\n",
    "                while dates[end] - dates[end - 1] == np.timedelta64(1, 'D'):\n",
    "                    end += 1\n",
    "            except IndexError:\n",
    "                pass\n",
    "            yield {\n",
    "                'start': dates[0],\n",
    "                'end': dates[end-1] + np.timedelta64(1, 'D')\n",
    "            }\n",
    "            dates = dates[end:]\n",
    "\n",
    "    ranges = alt.pd.DataFrame(get_ranges(dates))\n",
    "\n",
    "    rects = alt.Chart(ranges).mark_rect(color='gray', opacity=0.2).encode(\n",
    "        x='start:T',\n",
    "        x2='end:T'\n",
    "    )\n",
    "    \n",
    "    iceberg = alt.layer(top, bottom).encode(\n",
    "        tooltip=[\n",
    "            'state:N', 'county:N', 'date:T',\n",
    "            alt.Tooltip(\n",
    "                params['y_col'] + ':Q',\n",
    "                format='.2f',\n",
    "            )\n",
    "        ]\n",
    "    )\n",
    "\n",
    "    layer = alt.layer(rects, iceberg, zero)\n",
    "    \n",
    "    return layer"
   ]
  },
  {
   "cell_type": "code",
   "execution_count": null,
   "metadata": {},
   "outputs": [],
   "source": [
    "#collapse-hide\n",
    "def make_iceberg_chart_3(df, pop_df_ac, params):\n",
    "    \n",
    "    base = alt.Chart(df).properties(\n",
    "        title=params['chart_title'],\n",
    "        width=720,\n",
    "        height=480\n",
    "    )\n",
    "    \n",
    "    c_datum = 'datum.' + params['c_col']\n",
    "    y_datum = 'datum.' + params['y_col']\n",
    "    \n",
    "    # top of iceberg: c_col > cutoff_val\n",
    "    top = base.mark_area(opacity=1).transform_filter(\n",
    "        (eval(c_datum) > color_dict[params['c_col']]['mid'])\n",
    "    ).transform_joinaggregate(\n",
    "        pop='sum(total_pop)',\n",
    "    ).transform_calculate(\n",
    "        per_y=y_datum + ' / datum.pop * 100000'\n",
    "    ).encode(\n",
    "        alt.X('date:T', title='Date'),\n",
    "        alt.Y('per_y:Q'),\n",
    "        color=alt.Color(\n",
    "            params['c_col'] + ':Q',\n",
    "            scale=alt.Scale(\n",
    "                scheme=color_dict[params['c_col']]['scheme'],\n",
    "                domain=[np.percentile(df[params['c_col']].unique(), 1), \n",
    "                        np.percentile(df[params['c_col']].unique(), 99)],\n",
    "                domainMid=color_dict[params['c_col']]['mid'],\n",
    "            ),\n",
    "            sort=color_dict[params['c_col']]['sort'],\n",
    "        ),\n",
    "        order=alt.Order(params['c_col'], sort='ascending')\n",
    "    )\n",
    "    \n",
    "    # bottom of iceberg: c_col <= cutoff_val\n",
    "    bottom = base.mark_area(opacity=1).transform_filter(\n",
    "        (eval(c_datum) <= color_dict[params['c_col']]['mid'])\n",
    "    ).transform_joinaggregate(\n",
    "        pop='sum(total_pop)',\n",
    "    ).transform_calculate(\n",
    "        per_y=y_datum + ' / datum.pop * -100000'\n",
    "    ).encode(\n",
    "        alt.X('date:T', title='Date'),\n",
    "        alt.Y('per_y:Q',\n",
    "            #   axis=alt.Axis(format='(.2s')\n",
    "        ),\n",
    "        color=alt.Color(\n",
    "            params['c_col'] + ':Q',\n",
    "            scale=alt.Scale(\n",
    "                scheme=color_dict[params['c_col']]['scheme'],\n",
    "                domain=[np.percentile(df[params['c_col']].unique(), 1), \n",
    "                        np.percentile(df[params['c_col']].unique(), 99)],\n",
    "                domainMid=color_dict[params['c_col']]['mid'],\n",
    "            ),\n",
    "            sort=color_dict[params['c_col']]['sort'],\n",
    "        ),\n",
    "        order=alt.Order(params['c_col'], sort='descending')\n",
    "    )\n",
    "    \n",
    "    # just a line at zero to make it easier to see\n",
    "    # not sure why mark_rule doesn't work as intended\n",
    "    zero = alt.Chart(pd.DataFrame({'y': [0]})).mark_rule(\n",
    "        color='black',\n",
    "        size=0.5\n",
    "    ).encode(y='y')\n",
    "\n",
    "    # find dates where {new cases} is statistically different between halves\n",
    "    dates = []\n",
    "    for date in df['date'].unique():\n",
    "        df_ = df[df['date'] == date]\n",
    "        df0_ = df_[df_[params['c_col']]<=color_dict[params['c_col']]['mid']]['new_cases_per_100k'].values\n",
    "        df1_ = df_[df_[params['c_col']]>color_dict[params['c_col']]['mid']]['new_cases_per_100k'].values\n",
    "        stat, p = ttest_ind(df0_, df1_)\n",
    "        if p < 0.05:\n",
    "            dates.append(date)\n",
    "\n",
    "    # https://stackoverflow.com/a/6934267\n",
    "    def get_ranges(dates):\n",
    "        while dates:\n",
    "            end = 1\n",
    "            try:\n",
    "                while dates[end] - dates[end - 1] == np.timedelta64(1, 'D'):\n",
    "                    end += 1\n",
    "            except IndexError:\n",
    "                pass\n",
    "            yield {\n",
    "                'start': dates[0],\n",
    "                'end': dates[end-1] + np.timedelta64(1, 'D')\n",
    "            }\n",
    "            dates = dates[end:]\n",
    "\n",
    "    ranges = alt.pd.DataFrame(get_ranges(dates))\n",
    "\n",
    "    rects = alt.Chart(ranges).mark_rect(color='gray', opacity=0.2).encode(\n",
    "        x='start:T',\n",
    "        x2='end:T'\n",
    "    )\n",
    "    \n",
    "    iceberg = alt.layer(top, bottom).encode(\n",
    "        tooltip=[\n",
    "            'state:N', 'county:N', 'date:T',\n",
    "            alt.Tooltip(\n",
    "                params['y_col'] + ':Q',\n",
    "                format='.2f',\n",
    "            )\n",
    "        ]\n",
    "    )\n",
    "\n",
    "    layer = alt.layer(rects, iceberg, zero)\n",
    "    \n",
    "    return layer"
   ]
  },
  {
   "cell_type": "code",
   "execution_count": null,
   "metadata": {},
   "outputs": [],
   "source": [
    "#hide\n",
    "def make_normed_iceberg_chart(df, params):\n",
    "    \n",
    "    base = alt.Chart(df).properties(\n",
    "        title=params['chart_title'],\n",
    "        width=720,\n",
    "        height=480\n",
    "    )\n",
    "    \n",
    "    c_datum = 'datum.' + params['c_col']\n",
    "    y_datum = 'datum.' + params['y_col']\n",
    "    \n",
    "    # top of iceberg\n",
    "    points0 = base.mark_area().transform_filter(\n",
    "        (eval(c_datum) >= params['c_mid'])\n",
    "    ).transform_joinaggregate(\n",
    "        pop_0='sum(total_pop)',\n",
    "    ).transform_calculate(\n",
    "        per_y=y_datum + ' / datum.pop_0'\n",
    "    ).encode(\n",
    "        alt.X('date:T', title='Date'),\n",
    "        alt.Y('per_y:Q'),\n",
    "        color=alt.Color(\n",
    "            params['c_col'] + ':Q',\n",
    "            scale=alt.Scale(\n",
    "                scheme=params['c_scheme'],\n",
    "                domain=[np.percentile(df[params['c_col']].unique(), 0.5), \n",
    "                        np.percentile(df[params['c_col']].unique(), 99.5)],\n",
    "                domainMid=params['c_mid'],\n",
    "            ),\n",
    "            sort=params['c_sort'],\n",
    "        ),\n",
    "        order=alt.Order(params['c_col'], sort='ascending')\n",
    "    )\n",
    "    \n",
    "    # bottom of iceberg\n",
    "    points1 = base.mark_area().transform_filter(\n",
    "        (eval(c_datum) < params['c_mid'])\n",
    "    ).transform_joinaggregate(\n",
    "        pop_1='sum(total_pop)',\n",
    "    ).transform_calculate(\n",
    "        per_y=y_datum + ' / datum.pop_1 * -1'\n",
    "    ).encode(\n",
    "        alt.X('date:T', title='Date'),\n",
    "        alt.Y('per_y:Q', axis=alt.Axis(format='(.2s')),\n",
    "        color=alt.Color(\n",
    "            params['c_col'] + ':Q',\n",
    "            scale=alt.Scale(\n",
    "                scheme=params['c_scheme'],\n",
    "                domain=[np.percentile(df[params['c_col']].unique(), 1), \n",
    "                        np.percentile(df[params['c_col']].unique(), 99)],\n",
    "                domainMid=params['c_mid'],\n",
    "            ),\n",
    "            sort=params['c_sort'],\n",
    "        ),\n",
    "        order=alt.Order(params['c_col'], sort='descending'),\n",
    "    )\n",
    "    \n",
    "    df['zero'] = 0\n",
    "    zero = base.mark_line(color='black').encode(\n",
    "        x='date',\n",
    "        y='zero',\n",
    "        size=alt.value(0.5)\n",
    "    )\n",
    "    \n",
    "    layer = alt.layer(points0, points1, zero).encode(\n",
    "        tooltip=[\n",
    "            'state:N', 'county:N',\n",
    "            alt.Tooltip(\n",
    "                params['y_col'] + ':Q',\n",
    "                format='.0f',\n",
    "            )\n",
    "        ]\n",
    "    )\n",
    "    \n",
    "    return layer"
   ]
  },
  {
   "cell_type": "code",
   "execution_count": null,
   "metadata": {},
   "outputs": [],
   "source": [
    "#collapse-hide\n",
    "def make_funnel_chart(df, pop_df_ac, params):\n",
    "\n",
    "    x_col_2 = params['x_col'] + '_per_100k_15sg'\n",
    "    cols = ['date', 'state', 'county', 'total_pop'] + [params['c_col'], params['x_col'], x_col_2]\n",
    "\n",
    "    df = df[df['date'] >= '2020-03-01'][cols]\n",
    "    \n",
    "    base = alt.Chart(df).properties(\n",
    "        title=params['chart_title'],\n",
    "        width=480,\n",
    "        height=720\n",
    "    )\n",
    "    \n",
    "    c_datum = 'datum.' + params['c_col']\n",
    "    x_datum = 'datum.' + params['x_col']\n",
    "\n",
    "    # left of iceberg: c_col <= cutoff_val\n",
    "    left = base.mark_area().transform_filter(\n",
    "        (eval(c_datum) <= color_dict[params['c_col']]['mid'])\n",
    "    ).transform_joinaggregate(\n",
    "        pop='sum(total_pop)',\n",
    "    ).transform_calculate(\n",
    "        per_x=x_datum + ' / datum.pop * -100000'\n",
    "    ).encode(\n",
    "        alt.X('per_x:Q'),\n",
    "        alt.Y('date:T', title='Date',\n",
    "            #   axis=alt.Axis(format='(.2s')\n",
    "        ),\n",
    "        color=alt.Color(\n",
    "            params['c_col'] + ':Q',\n",
    "            scale=alt.Scale(\n",
    "                scheme=color_dict[params['c_col']]['scheme'],\n",
    "                domain=[np.percentile(df[params['c_col']].unique(), 1), \n",
    "                        np.percentile(df[params['c_col']].unique(), 99)],\n",
    "                domainMid=color_dict[params['c_col']]['mid'],\n",
    "            ),\n",
    "            sort=color_dict[params['c_col']]['sort'],\n",
    "        ),\n",
    "        order=alt.Order(params['c_col'], sort='descending')\n",
    "    )\n",
    "    \n",
    "    # right of iceberg: c_col > cutoff_val\n",
    "    right = base.mark_area().transform_filter(\n",
    "        (eval(c_datum) > color_dict[params['c_col']]['mid'])\n",
    "    ).transform_joinaggregate(\n",
    "        pop='sum(total_pop)',\n",
    "    ).transform_calculate(\n",
    "        per_x=x_datum + ' / datum.pop * 100000'\n",
    "    ).encode(\n",
    "        alt.X('per_x:Q'),\n",
    "        alt.Y('date:T', title='Date'),\n",
    "        color=alt.Color(\n",
    "            params['c_col'] + ':Q',\n",
    "            scale=alt.Scale(\n",
    "                scheme=color_dict[params['c_col']]['scheme'],\n",
    "                domain=[np.percentile(df[params['c_col']].unique(), 1), \n",
    "                        np.percentile(df[params['c_col']].unique(), 99)],\n",
    "                domainMid=color_dict[params['c_col']]['mid'],\n",
    "            ),\n",
    "            sort=color_dict[params['c_col']]['sort'],\n",
    "        ),\n",
    "        order=alt.Order(params['c_col'], sort='ascending')\n",
    "    )   \n",
    "    \n",
    "    # just a line at zero to make it easier to see\n",
    "    # not sure why mark_rule doesn't work as intended\n",
    "    zero = alt.Chart(pd.DataFrame({'x': [0]})).mark_rule(\n",
    "        color='black',\n",
    "        size=0.5\n",
    "    ).encode(x='x')\n",
    "\n",
    "    # find dates where {new cases} is statistically different between halves\n",
    "    dates = []\n",
    "    for date in df['date'].unique():\n",
    "        df_ = df[df['date'] == date]\n",
    "        df0_ = df_[df_[params['c_col']]<=color_dict[params['c_col']]['mid']][x_col_2].values\n",
    "        df1_ = df_[df_[params['c_col']]>color_dict[params['c_col']]['mid']][x_col_2].values\n",
    "        stat, p = ttest_ind(df0_, df1_)\n",
    "        if p < 0.05:\n",
    "            dates.append(date)\n",
    "\n",
    "    # https://stackoverflow.com/a/6934267\n",
    "    def get_ranges(dates):\n",
    "        last_date = dates[-1]\n",
    "        while dates:\n",
    "            end = 1\n",
    "            try:\n",
    "                while dates[end] - dates[end - 1] == np.timedelta64(1, 'D'):\n",
    "                    end += 1\n",
    "            except IndexError:\n",
    "                pass\n",
    "            if dates[end-1] == last_date:\n",
    "                end_date = dates[end-1]\n",
    "            else:\n",
    "                end_date = dates[end-1] + np.timedelta64(1, 'D')\n",
    "            yield {\n",
    "                'start': dates[0],\n",
    "                'end': end_date\n",
    "            }\n",
    "            dates = dates[end:]\n",
    "\n",
    "    ranges = alt.pd.DataFrame(get_ranges(dates))\n",
    "\n",
    "    rects = alt.Chart(ranges).mark_rect(color='gray', opacity=0.2).encode(\n",
    "        y='start:T',\n",
    "        y2='end:T'\n",
    "    )\n",
    "    \n",
    "    funnel = alt.layer(left, right).encode(\n",
    "        tooltip=[\n",
    "            'state:N', 'county:N', 'date:T',\n",
    "            alt.Tooltip(\n",
    "                params['x_col'] + ':Q',\n",
    "                format='.2f',\n",
    "            )\n",
    "        ]\n",
    "    )\n",
    "\n",
    "    layer = alt.layer(rects, funnel, zero)\n",
    "    \n",
    "    return layer"
   ]
  }
 ],
 "metadata": {
  "kernelspec": {
   "display_name": "Python 3",
   "language": "python",
   "name": "python3"
  },
  "language_info": {
   "codemirror_mode": {
    "name": "ipython",
    "version": 3
   },
   "file_extension": ".py",
   "mimetype": "text/x-python",
   "name": "python",
   "nbconvert_exporter": "python",
   "pygments_lexer": "ipython3",
   "version": "3.7.7"
  }
 },
 "nbformat": 4,
 "nbformat_minor": 4
}