{
 "cells": [
  {
   "cell_type": "markdown",
   "metadata": {},
   "source": [
    "# Census and GeoJSON Data EDA"
   ]
  },
  {
   "cell_type": "code",
   "execution_count": 1,
   "metadata": {},
   "outputs": [],
   "source": [
    "import numpy as np\n",
    "import pandas as pd\n",
    "\n",
    "from urllib.request import urlopen\n",
    "from requests_html import HTMLSession\n",
    "import json\n",
    "\n",
    "import itertools\n",
    "\n",
    "import re\n",
    "\n",
    "from time import time\n",
    "from datetime import datetime, timedelta\n",
    "\n",
    "from shapely.geometry import Polygon"
   ]
  },
  {
   "cell_type": "markdown",
   "metadata": {
    "colab_type": "text",
    "id": "J39gYq9cfK6H"
   },
   "source": [
    "# 1. import census data from `census.gov`"
   ]
  },
  {
   "cell_type": "markdown",
   "metadata": {
    "colab_type": "text",
    "id": "womy4Yi5C_sT"
   },
   "source": [
    "Population data taken from [census.gov](https://www2.census.gov/programs-surveys/popest/datasets/2010-2019/counties/totals/).\n",
    "\n",
    "Since 2020 Census data have not been released yet, we will use 2019 population estimates.\n",
    "\n",
    "Looking at the [data dictionary](https://www2.census.gov/programs-surveys/popest/datasets/2010-2019/counties/totals/co-est2019-alldata.pdf), we only want the names and FIPS columns (eg. `STATE`, `STNAME`) and `POPESTIMATE2019`."
   ]
  },
  {
   "cell_type": "code",
   "execution_count": 2,
   "metadata": {},
   "outputs": [
    {
     "data": {
      "text/html": [
       "<div>\n",
       "<style scoped>\n",
       "    .dataframe tbody tr th:only-of-type {\n",
       "        vertical-align: middle;\n",
       "    }\n",
       "\n",
       "    .dataframe tbody tr th {\n",
       "        vertical-align: top;\n",
       "    }\n",
       "\n",
       "    .dataframe thead th {\n",
       "        text-align: right;\n",
       "    }\n",
       "</style>\n",
       "<table border=\"1\" class=\"dataframe\">\n",
       "  <thead>\n",
       "    <tr style=\"text-align: right;\">\n",
       "      <th></th>\n",
       "      <th>STATE</th>\n",
       "      <th>COUNTY</th>\n",
       "      <th>STNAME</th>\n",
       "      <th>CTYNAME</th>\n",
       "      <th>POPESTIMATE2019</th>\n",
       "    </tr>\n",
       "  </thead>\n",
       "  <tbody>\n",
       "    <tr>\n",
       "      <th>0</th>\n",
       "      <td>01</td>\n",
       "      <td>000</td>\n",
       "      <td>Alabama</td>\n",
       "      <td>Alabama</td>\n",
       "      <td>4903185</td>\n",
       "    </tr>\n",
       "    <tr>\n",
       "      <th>1</th>\n",
       "      <td>01</td>\n",
       "      <td>001</td>\n",
       "      <td>Alabama</td>\n",
       "      <td>Autauga County</td>\n",
       "      <td>55869</td>\n",
       "    </tr>\n",
       "    <tr>\n",
       "      <th>2</th>\n",
       "      <td>01</td>\n",
       "      <td>003</td>\n",
       "      <td>Alabama</td>\n",
       "      <td>Baldwin County</td>\n",
       "      <td>223234</td>\n",
       "    </tr>\n",
       "    <tr>\n",
       "      <th>3</th>\n",
       "      <td>01</td>\n",
       "      <td>005</td>\n",
       "      <td>Alabama</td>\n",
       "      <td>Barbour County</td>\n",
       "      <td>24686</td>\n",
       "    </tr>\n",
       "    <tr>\n",
       "      <th>4</th>\n",
       "      <td>01</td>\n",
       "      <td>007</td>\n",
       "      <td>Alabama</td>\n",
       "      <td>Bibb County</td>\n",
       "      <td>22394</td>\n",
       "    </tr>\n",
       "  </tbody>\n",
       "</table>\n",
       "</div>"
      ],
      "text/plain": [
       "  STATE COUNTY   STNAME         CTYNAME  POPESTIMATE2019\n",
       "0    01    000  Alabama         Alabama          4903185\n",
       "1    01    001  Alabama  Autauga County            55869\n",
       "2    01    003  Alabama  Baldwin County           223234\n",
       "3    01    005  Alabama  Barbour County            24686\n",
       "4    01    007  Alabama     Bibb County            22394"
      ]
     },
     "execution_count": 2,
     "metadata": {},
     "output_type": "execute_result"
    }
   ],
   "source": [
    "with urlopen('https://www2.census.gov/programs-surveys/popest/datasets/2010-2019/counties/totals/co-est2019-alldata.csv') as response:\n",
    "    pop_df = pd.read_csv(\n",
    "        response, \n",
    "        usecols=['STATE', 'COUNTY', 'STNAME', 'CTYNAME', 'POPESTIMATE2019'], \n",
    "        encoding='latin-1',        # to avoid unicode error\n",
    "        dtype={'STATE':'str',\n",
    "               'COUNTY':'str'}\n",
    "    )\n",
    "pop_df.head()"
   ]
  },
  {
   "cell_type": "code",
   "execution_count": 3,
   "metadata": {
    "tags": []
   },
   "outputs": [
    {
     "name": "stdout",
     "output_type": "stream",
     "text": [
      "<class 'pandas.core.frame.DataFrame'>\n",
      "RangeIndex: 3193 entries, 0 to 3192\n",
      "Data columns (total 5 columns):\n",
      " #   Column           Non-Null Count  Dtype \n",
      "---  ------           --------------  ----- \n",
      " 0   STATE            3193 non-null   object\n",
      " 1   COUNTY           3193 non-null   object\n",
      " 2   STNAME           3193 non-null   object\n",
      " 3   CTYNAME          3193 non-null   object\n",
      " 4   POPESTIMATE2019  3193 non-null   int64 \n",
      "dtypes: int64(1), object(4)\n",
      "memory usage: 124.9+ KB\n"
     ]
    }
   ],
   "source": [
    "pop_df.info()"
   ]
  },
  {
   "cell_type": "markdown",
   "metadata": {},
   "source": [
    "Notice that county names provided by the US census contain descriptive terms, such as 'County', whereas the NYTimes data does not."
   ]
  },
  {
   "cell_type": "code",
   "execution_count": 4,
   "metadata": {},
   "outputs": [],
   "source": [
    "def optimize(df):\n",
    "    '''\n",
    "    Optimizes the data types in a pandas dataframe.\n",
    "    '''\n",
    "    dft = df.copy()\n",
    "    # converts to datetime if possible\n",
    "    dft = dft.apply(lambda col: pd.to_datetime(col, errors='ignore') if col.dtypes=='object' else col)\n",
    "    # if there are less than half as many unique values as there are rows, convert to category\n",
    "    for col in dft.select_dtypes(include='object'):\n",
    "        if len(dft[col].unique()) / len(df[col]) < 0.5:\n",
    "            dft[col] = dft[col].astype('category')\n",
    "    # downcasts numeric columns if possible\n",
    "    dft = dft.apply(lambda col: pd.to_numeric(col, downcast='integer') if col.dtypes=='int64' else col)\n",
    "    dft = dft.apply(lambda col: pd.to_numeric(col, downcast='float') if col.dtypes=='float64' else col)\n",
    "    return dft"
   ]
  },
  {
   "cell_type": "code",
   "execution_count": 5,
   "metadata": {
    "colab": {},
    "colab_type": "code",
    "id": "dexrZzV5C8RV"
   },
   "outputs": [
    {
     "data": {
      "text/html": [
       "<div>\n",
       "<style scoped>\n",
       "    .dataframe tbody tr th:only-of-type {\n",
       "        vertical-align: middle;\n",
       "    }\n",
       "\n",
       "    .dataframe tbody tr th {\n",
       "        vertical-align: top;\n",
       "    }\n",
       "\n",
       "    .dataframe thead th {\n",
       "        text-align: right;\n",
       "    }\n",
       "</style>\n",
       "<table border=\"1\" class=\"dataframe\">\n",
       "  <thead>\n",
       "    <tr style=\"text-align: right;\">\n",
       "      <th></th>\n",
       "      <th>state</th>\n",
       "      <th>county</th>\n",
       "      <th>population</th>\n",
       "      <th>fips</th>\n",
       "    </tr>\n",
       "  </thead>\n",
       "  <tbody>\n",
       "    <tr>\n",
       "      <th>1</th>\n",
       "      <td>Alabama</td>\n",
       "      <td>Autauga</td>\n",
       "      <td>55869</td>\n",
       "      <td>01001</td>\n",
       "    </tr>\n",
       "    <tr>\n",
       "      <th>2</th>\n",
       "      <td>Alabama</td>\n",
       "      <td>Baldwin</td>\n",
       "      <td>223234</td>\n",
       "      <td>01003</td>\n",
       "    </tr>\n",
       "    <tr>\n",
       "      <th>3</th>\n",
       "      <td>Alabama</td>\n",
       "      <td>Barbour</td>\n",
       "      <td>24686</td>\n",
       "      <td>01005</td>\n",
       "    </tr>\n",
       "    <tr>\n",
       "      <th>4</th>\n",
       "      <td>Alabama</td>\n",
       "      <td>Bibb</td>\n",
       "      <td>22394</td>\n",
       "      <td>01007</td>\n",
       "    </tr>\n",
       "    <tr>\n",
       "      <th>5</th>\n",
       "      <td>Alabama</td>\n",
       "      <td>Blount</td>\n",
       "      <td>57826</td>\n",
       "      <td>01009</td>\n",
       "    </tr>\n",
       "  </tbody>\n",
       "</table>\n",
       "</div>"
      ],
      "text/plain": [
       "     state   county  population   fips\n",
       "1  Alabama  Autauga       55869  01001\n",
       "2  Alabama  Baldwin      223234  01003\n",
       "3  Alabama  Barbour       24686  01005\n",
       "4  Alabama     Bibb       22394  01007\n",
       "5  Alabama   Blount       57826  01009"
      ]
     },
     "execution_count": 5,
     "metadata": {},
     "output_type": "execute_result"
    }
   ],
   "source": [
    "# remove state population data\n",
    "pop_df = pop_df[pop_df['COUNTY'] != '000']\n",
    "\n",
    "# rename columns to better-match nytimes data (and personal preference)\n",
    "pop_df.rename(\n",
    "    columns={\n",
    "        'STATE':'statefips',\n",
    "        'COUNTY':'countyfips',\n",
    "        'STNAME':'state',\n",
    "        'CTYNAME':'county',\n",
    "        'POPESTIMATE2019':'population'\n",
    "    }, inplace=True\n",
    ")\n",
    "\n",
    "# create county fips column\n",
    "pop_df['fips'] = pop_df['statefips'] + pop_df['countyfips']\n",
    "pop_df.drop(columns=['statefips', 'countyfips'], inplace=True)\n",
    "\n",
    "# remove descriptive terms from county names\n",
    "county_terms = ['County', 'Parish', 'Municipality']\n",
    "for term in county_terms:\n",
    "    pop_df['county'] = pop_df['county'].str.replace(' ' + term, '')\n",
    "    \n",
    "pop_df = optimize(pop_df)\n",
    "pop_df.head()"
   ]
  },
  {
   "cell_type": "code",
   "execution_count": 6,
   "metadata": {
    "tags": []
   },
   "outputs": [
    {
     "name": "stdout",
     "output_type": "stream",
     "text": [
      "<class 'pandas.core.frame.DataFrame'>\n",
      "Int64Index: 3142 entries, 1 to 3192\n",
      "Data columns (total 4 columns):\n",
      " #   Column      Non-Null Count  Dtype   \n",
      "---  ------      --------------  -----   \n",
      " 0   state       3142 non-null   category\n",
      " 1   county      3142 non-null   object  \n",
      " 2   population  3142 non-null   int32   \n",
      " 3   fips        3142 non-null   object  \n",
      "dtypes: category(1), int32(1), object(2)\n",
      "memory usage: 91.9+ KB\n"
     ]
    }
   ],
   "source": [
    "pop_df.info()"
   ]
  },
  {
   "cell_type": "markdown",
   "metadata": {},
   "source": [
    "## check county names against NYTimes data"
   ]
  },
  {
   "cell_type": "markdown",
   "metadata": {},
   "source": [
    "We eventually need to merge `nyt_df` and `pop_df`, so let's see how they match with each other:"
   ]
  },
  {
   "cell_type": "code",
   "execution_count": 7,
   "metadata": {},
   "outputs": [
    {
     "data": {
      "text/html": [
       "<div>\n",
       "<style scoped>\n",
       "    .dataframe tbody tr th:only-of-type {\n",
       "        vertical-align: middle;\n",
       "    }\n",
       "\n",
       "    .dataframe tbody tr th {\n",
       "        vertical-align: top;\n",
       "    }\n",
       "\n",
       "    .dataframe thead th {\n",
       "        text-align: right;\n",
       "    }\n",
       "</style>\n",
       "<table border=\"1\" class=\"dataframe\">\n",
       "  <thead>\n",
       "    <tr style=\"text-align: right;\">\n",
       "      <th></th>\n",
       "      <th>date</th>\n",
       "      <th>county</th>\n",
       "      <th>state</th>\n",
       "      <th>fips</th>\n",
       "      <th>cases</th>\n",
       "      <th>deaths</th>\n",
       "    </tr>\n",
       "  </thead>\n",
       "  <tbody>\n",
       "    <tr>\n",
       "      <th>0</th>\n",
       "      <td>2020-01-21</td>\n",
       "      <td>Snohomish</td>\n",
       "      <td>Washington</td>\n",
       "      <td>53061</td>\n",
       "      <td>1</td>\n",
       "      <td>0</td>\n",
       "    </tr>\n",
       "    <tr>\n",
       "      <th>1</th>\n",
       "      <td>2020-01-22</td>\n",
       "      <td>Snohomish</td>\n",
       "      <td>Washington</td>\n",
       "      <td>53061</td>\n",
       "      <td>1</td>\n",
       "      <td>0</td>\n",
       "    </tr>\n",
       "    <tr>\n",
       "      <th>2</th>\n",
       "      <td>2020-01-23</td>\n",
       "      <td>Snohomish</td>\n",
       "      <td>Washington</td>\n",
       "      <td>53061</td>\n",
       "      <td>1</td>\n",
       "      <td>0</td>\n",
       "    </tr>\n",
       "    <tr>\n",
       "      <th>3</th>\n",
       "      <td>2020-01-24</td>\n",
       "      <td>Cook</td>\n",
       "      <td>Illinois</td>\n",
       "      <td>17031</td>\n",
       "      <td>1</td>\n",
       "      <td>0</td>\n",
       "    </tr>\n",
       "    <tr>\n",
       "      <th>4</th>\n",
       "      <td>2020-01-24</td>\n",
       "      <td>Snohomish</td>\n",
       "      <td>Washington</td>\n",
       "      <td>53061</td>\n",
       "      <td>1</td>\n",
       "      <td>0</td>\n",
       "    </tr>\n",
       "  </tbody>\n",
       "</table>\n",
       "</div>"
      ],
      "text/plain": [
       "        date     county       state   fips  cases  deaths\n",
       "0 2020-01-21  Snohomish  Washington  53061      1       0\n",
       "1 2020-01-22  Snohomish  Washington  53061      1       0\n",
       "2 2020-01-23  Snohomish  Washington  53061      1       0\n",
       "3 2020-01-24       Cook    Illinois  17031      1       0\n",
       "4 2020-01-24  Snohomish  Washington  53061      1       0"
      ]
     },
     "execution_count": 7,
     "metadata": {},
     "output_type": "execute_result"
    }
   ],
   "source": [
    "with urlopen('https://raw.githubusercontent.com/nytimes/covid-19-data/master/us-counties.csv') as response:\n",
    "    nyt_df = optimize(pd.read_csv(\n",
    "        response,\n",
    "        dtype={'fips':'str'}\n",
    "    ))\n",
    "nyt_df.head()"
   ]
  },
  {
   "cell_type": "code",
   "execution_count": 8,
   "metadata": {},
   "outputs": [
    {
     "data": {
      "text/plain": [
       "82"
      ]
     },
     "execution_count": 8,
     "metadata": {},
     "output_type": "execute_result"
    }
   ],
   "source": [
    "county_diffs = list(set(nyt_df['county']) - set(pop_df['county']))\n",
    "len(county_diffs)"
   ]
  },
  {
   "cell_type": "code",
   "execution_count": 10,
   "metadata": {},
   "outputs": [
    {
     "data": {
      "text/plain": [
       "['Florida',\n",
       " 'Isabela',\n",
       " 'Aguadilla',\n",
       " 'Patillas',\n",
       " 'Naguabo',\n",
       " 'Maunabo',\n",
       " 'Caguas',\n",
       " 'Toa Baja',\n",
       " 'Vega Alta',\n",
       " 'Adjuntas',\n",
       " 'Luquillo',\n",
       " 'Mayaguez',\n",
       " 'Corozal',\n",
       " 'Guanica',\n",
       " 'Maricao',\n",
       " 'Cidra',\n",
       " 'Quebradillas',\n",
       " 'San Lorenzo',\n",
       " 'Penuelas',\n",
       " 'Yabucoa',\n",
       " 'Tinian',\n",
       " 'Barceloneta',\n",
       " 'San German',\n",
       " 'Utuado',\n",
       " 'Jayuya',\n",
       " 'Fajardo',\n",
       " 'Hatillo',\n",
       " 'New York City',\n",
       " 'Guayanilla',\n",
       " 'Culebra',\n",
       " 'Unknown',\n",
       " 'Camuy',\n",
       " 'Santa Isabel',\n",
       " 'Arecibo',\n",
       " 'Lajas',\n",
       " 'Orocovis',\n",
       " 'Comerio',\n",
       " 'Salinas',\n",
       " 'Joplin',\n",
       " 'Ceiba',\n",
       " 'Villalba',\n",
       " 'Hormigueros',\n",
       " 'Manati',\n",
       " 'Cayey',\n",
       " 'Vieques',\n",
       " 'Coamo',\n",
       " 'Morovis',\n",
       " 'Moca',\n",
       " 'Anasco',\n",
       " 'Lares',\n",
       " 'Saipan',\n",
       " 'San Sebastian',\n",
       " 'Trujillo Alto',\n",
       " 'Catano',\n",
       " 'Dorado',\n",
       " 'Barranquitas',\n",
       " 'Arroyo',\n",
       " 'Gurabo',\n",
       " 'Ponce',\n",
       " 'Las Piedras',\n",
       " 'Canovanas',\n",
       " 'Guayama',\n",
       " 'Cabo Rojo',\n",
       " 'Sabana Grande',\n",
       " 'Kansas City',\n",
       " 'Juana Diaz',\n",
       " 'Carolina',\n",
       " 'Aguas Buenas',\n",
       " 'Rincon',\n",
       " 'Aguada',\n",
       " 'Ciales',\n",
       " 'Naranjito',\n",
       " 'Yauco',\n",
       " 'Bayamon',\n",
       " 'Las Marias',\n",
       " 'Humacao',\n",
       " 'Vega Baja',\n",
       " 'Toa Alta',\n",
       " 'Aibonito',\n",
       " 'Guaynabo',\n",
       " 'Juncos',\n",
       " 'Loiza']"
      ]
     },
     "execution_count": 10,
     "metadata": {},
     "output_type": "execute_result"
    }
   ],
   "source": [
    "county_diffs"
   ]
  },
  {
   "cell_type": "markdown",
   "metadata": {},
   "source": [
    "The census county data is missing all municipios from [Puerto Rico](https://www.census.gov/data/tables/time-series/demo/popest/2010s-total-puerto-rico-municipios.html), so we need to append that data to `pop_df`."
   ]
  },
  {
   "cell_type": "markdown",
   "metadata": {},
   "source": [
    "## optional: import Puerto Rico census data"
   ]
  },
  {
   "cell_type": "markdown",
   "metadata": {},
   "source": [
    "Future work: find a way to incorporate Puerto Rico into the Altair map."
   ]
  },
  {
   "cell_type": "code",
   "execution_count": 14,
   "metadata": {},
   "outputs": [
    {
     "data": {
      "text/html": [
       "<div>\n",
       "<style scoped>\n",
       "    .dataframe tbody tr th:only-of-type {\n",
       "        vertical-align: middle;\n",
       "    }\n",
       "\n",
       "    .dataframe tbody tr th {\n",
       "        vertical-align: top;\n",
       "    }\n",
       "\n",
       "    .dataframe thead th {\n",
       "        text-align: right;\n",
       "    }\n",
       "</style>\n",
       "<table border=\"1\" class=\"dataframe\">\n",
       "  <thead>\n",
       "    <tr style=\"text-align: right;\">\n",
       "      <th></th>\n",
       "      <th>county</th>\n",
       "      <th>population</th>\n",
       "    </tr>\n",
       "  </thead>\n",
       "  <tbody>\n",
       "    <tr>\n",
       "      <th>0</th>\n",
       "      <td>Puerto Rico</td>\n",
       "      <td>3193694</td>\n",
       "    </tr>\n",
       "    <tr>\n",
       "      <th>1</th>\n",
       "      <td>.Adjuntas Municipio, Puerto Rico</td>\n",
       "      <td>17363</td>\n",
       "    </tr>\n",
       "    <tr>\n",
       "      <th>2</th>\n",
       "      <td>.Aguada Municipio, Puerto Rico</td>\n",
       "      <td>36694</td>\n",
       "    </tr>\n",
       "    <tr>\n",
       "      <th>3</th>\n",
       "      <td>.Aguadilla Municipio, Puerto Rico</td>\n",
       "      <td>50265</td>\n",
       "    </tr>\n",
       "    <tr>\n",
       "      <th>4</th>\n",
       "      <td>.Aguas Buenas Municipio, Puerto Rico</td>\n",
       "      <td>24814</td>\n",
       "    </tr>\n",
       "  </tbody>\n",
       "</table>\n",
       "</div>"
      ],
      "text/plain": [
       "                                 county  population\n",
       "0                           Puerto Rico     3193694\n",
       "1      .Adjuntas Municipio, Puerto Rico       17363\n",
       "2        .Aguada Municipio, Puerto Rico       36694\n",
       "3     .Aguadilla Municipio, Puerto Rico       50265\n",
       "4  .Aguas Buenas Municipio, Puerto Rico       24814"
      ]
     },
     "execution_count": 14,
     "metadata": {},
     "output_type": "execute_result"
    }
   ],
   "source": [
    "# with urlopen('https://www2.census.gov/programs-surveys/popest/tables/2010-2019/municipios/totals/prm-est2019-annres.xlsx') as response:\n",
    "#     pr_df = pd.read_excel(response, header=3)\n",
    "pr_df = pd.read_excel('data/prm-est2019-annres.xlsx', header=3)\n",
    "pr_df = pr_df[['Unnamed: 0', 2019]]\n",
    "pr_df.rename(\n",
    "    columns={\n",
    "        'Unnamed: 0':'county',\n",
    "        2019:'population'\n",
    "    }, inplace=True\n",
    ")\n",
    "pr_df = pr_df[~pr_df['population'].isna()]\n",
    "pr_df['population'] = pr_df['population'].astype('int')\n",
    "pr_df.head()"
   ]
  },
  {
   "cell_type": "code",
   "execution_count": 15,
   "metadata": {},
   "outputs": [
    {
     "data": {
      "text/html": [
       "<div>\n",
       "<style scoped>\n",
       "    .dataframe tbody tr th:only-of-type {\n",
       "        vertical-align: middle;\n",
       "    }\n",
       "\n",
       "    .dataframe tbody tr th {\n",
       "        vertical-align: top;\n",
       "    }\n",
       "\n",
       "    .dataframe thead th {\n",
       "        text-align: right;\n",
       "    }\n",
       "</style>\n",
       "<table border=\"1\" class=\"dataframe\">\n",
       "  <thead>\n",
       "    <tr style=\"text-align: right;\">\n",
       "      <th></th>\n",
       "      <th>county</th>\n",
       "      <th>population</th>\n",
       "    </tr>\n",
       "  </thead>\n",
       "  <tbody>\n",
       "    <tr>\n",
       "      <th>1</th>\n",
       "      <td>Adjuntas</td>\n",
       "      <td>17363</td>\n",
       "    </tr>\n",
       "    <tr>\n",
       "      <th>2</th>\n",
       "      <td>Aguada</td>\n",
       "      <td>36694</td>\n",
       "    </tr>\n",
       "    <tr>\n",
       "      <th>3</th>\n",
       "      <td>Aguadilla</td>\n",
       "      <td>50265</td>\n",
       "    </tr>\n",
       "    <tr>\n",
       "      <th>4</th>\n",
       "      <td>Aguas Buenas</td>\n",
       "      <td>24814</td>\n",
       "    </tr>\n",
       "    <tr>\n",
       "      <th>5</th>\n",
       "      <td>Aibonito</td>\n",
       "      <td>22108</td>\n",
       "    </tr>\n",
       "  </tbody>\n",
       "</table>\n",
       "</div>"
      ],
      "text/plain": [
       "         county  population\n",
       "1      Adjuntas       17363\n",
       "2        Aguada       36694\n",
       "3     Aguadilla       50265\n",
       "4  Aguas Buenas       24814\n",
       "5      Aibonito       22108"
      ]
     },
     "execution_count": 15,
     "metadata": {},
     "output_type": "execute_result"
    }
   ],
   "source": [
    "pr_df['county'] = [s[0] if len(s) > 0 else s for s in pr_df['county'].str.findall(\"\\.([\\w\\s]+) Municipio\\,.+\")]\n",
    "pr_df = pr_df.iloc[1:]          # removing the territory as a whole from the table\n",
    "pr_df.head()"
   ]
  },
  {
   "cell_type": "markdown",
   "metadata": {},
   "source": [
    "We also need to add `fips` codes for all of the municipios."
   ]
  },
  {
   "cell_type": "markdown",
   "metadata": {},
   "source": [
    "### import Puerto Rico `fips`"
   ]
  },
  {
   "cell_type": "code",
   "execution_count": 16,
   "metadata": {},
   "outputs": [
    {
     "data": {
      "text/html": [
       "<div>\n",
       "<style scoped>\n",
       "    .dataframe tbody tr th:only-of-type {\n",
       "        vertical-align: middle;\n",
       "    }\n",
       "\n",
       "    .dataframe tbody tr th {\n",
       "        vertical-align: top;\n",
       "    }\n",
       "\n",
       "    .dataframe thead th {\n",
       "        text-align: right;\n",
       "    }\n",
       "</style>\n",
       "<table border=\"1\" class=\"dataframe\">\n",
       "  <thead>\n",
       "    <tr style=\"text-align: right;\">\n",
       "      <th></th>\n",
       "      <th>county</th>\n",
       "      <th>fips</th>\n",
       "    </tr>\n",
       "  </thead>\n",
       "  <tbody>\n",
       "    <tr>\n",
       "      <th>0</th>\n",
       "      <td>Adjuntas Municipality</td>\n",
       "      <td>72001</td>\n",
       "    </tr>\n",
       "    <tr>\n",
       "      <th>1</th>\n",
       "      <td>Aguada Municipality</td>\n",
       "      <td>72003</td>\n",
       "    </tr>\n",
       "    <tr>\n",
       "      <th>2</th>\n",
       "      <td>Aguadilla Municipality</td>\n",
       "      <td>72005</td>\n",
       "    </tr>\n",
       "    <tr>\n",
       "      <th>3</th>\n",
       "      <td>Aguas Buenas Municipality</td>\n",
       "      <td>72007</td>\n",
       "    </tr>\n",
       "    <tr>\n",
       "      <th>4</th>\n",
       "      <td>Aibonito Municipality</td>\n",
       "      <td>72009</td>\n",
       "    </tr>\n",
       "  </tbody>\n",
       "</table>\n",
       "</div>"
      ],
      "text/plain": [
       "                      county   fips\n",
       "0      Adjuntas Municipality  72001\n",
       "1        Aguada Municipality  72003\n",
       "2     Aguadilla Municipality  72005\n",
       "3  Aguas Buenas Municipality  72007\n",
       "4      Aibonito Municipality  72009"
      ]
     },
     "execution_count": 16,
     "metadata": {},
     "output_type": "execute_result"
    }
   ],
   "source": [
    "sess = HTMLSession()\n",
    "res = sess.get('https://en.wikipedia.org/wiki/List_of_United_States_FIPS_codes_by_county')\n",
    "table = res.html.find('table.wikitable > tbody > tr')\n",
    "# puerto rico is fips 72\n",
    "pr_fips = [[tr.find('td')[1].text, tr.find('td')[0].text] for tr in table[1:] if tr.find('td')[0].text[:2] == '72']\n",
    "pr_fips_df = pd.DataFrame(pr_fips)\n",
    "pr_fips_df.rename(\n",
    "    columns={\n",
    "        0:'county',\n",
    "        1:'fips'\n",
    "    }, inplace=True\n",
    ")\n",
    "pr_fips_df.head()"
   ]
  },
  {
   "cell_type": "code",
   "execution_count": 17,
   "metadata": {},
   "outputs": [
    {
     "data": {
      "text/html": [
       "<div>\n",
       "<style scoped>\n",
       "    .dataframe tbody tr th:only-of-type {\n",
       "        vertical-align: middle;\n",
       "    }\n",
       "\n",
       "    .dataframe tbody tr th {\n",
       "        vertical-align: top;\n",
       "    }\n",
       "\n",
       "    .dataframe thead th {\n",
       "        text-align: right;\n",
       "    }\n",
       "</style>\n",
       "<table border=\"1\" class=\"dataframe\">\n",
       "  <thead>\n",
       "    <tr style=\"text-align: right;\">\n",
       "      <th></th>\n",
       "      <th>county</th>\n",
       "      <th>fips</th>\n",
       "    </tr>\n",
       "  </thead>\n",
       "  <tbody>\n",
       "    <tr>\n",
       "      <th>0</th>\n",
       "      <td>Adjuntas</td>\n",
       "      <td>72001</td>\n",
       "    </tr>\n",
       "    <tr>\n",
       "      <th>1</th>\n",
       "      <td>Aguada</td>\n",
       "      <td>72003</td>\n",
       "    </tr>\n",
       "    <tr>\n",
       "      <th>2</th>\n",
       "      <td>Aguadilla</td>\n",
       "      <td>72005</td>\n",
       "    </tr>\n",
       "    <tr>\n",
       "      <th>3</th>\n",
       "      <td>Aguas Buenas</td>\n",
       "      <td>72007</td>\n",
       "    </tr>\n",
       "    <tr>\n",
       "      <th>4</th>\n",
       "      <td>Aibonito</td>\n",
       "      <td>72009</td>\n",
       "    </tr>\n",
       "  </tbody>\n",
       "</table>\n",
       "</div>"
      ],
      "text/plain": [
       "         county   fips\n",
       "0      Adjuntas  72001\n",
       "1        Aguada  72003\n",
       "2     Aguadilla  72005\n",
       "3  Aguas Buenas  72007\n",
       "4      Aibonito  72009"
      ]
     },
     "execution_count": 17,
     "metadata": {},
     "output_type": "execute_result"
    }
   ],
   "source": [
    "pr_fips_df['county'] = [s[0] if len(s) > 0 else s for s in pr_fips_df['county'].str.findall(\"([\\w\\s]+) Municipality\")]\n",
    "pr_fips_df.head()"
   ]
  },
  {
   "cell_type": "code",
   "execution_count": 18,
   "metadata": {},
   "outputs": [
    {
     "data": {
      "text/plain": [
       "0"
      ]
     },
     "execution_count": 18,
     "metadata": {},
     "output_type": "execute_result"
    }
   ],
   "source": [
    "len(list(set(pr_fips_df['county']) - set(pr_df['county'])))"
   ]
  },
  {
   "cell_type": "code",
   "execution_count": 19,
   "metadata": {},
   "outputs": [
    {
     "data": {
      "text/html": [
       "<div>\n",
       "<style scoped>\n",
       "    .dataframe tbody tr th:only-of-type {\n",
       "        vertical-align: middle;\n",
       "    }\n",
       "\n",
       "    .dataframe tbody tr th {\n",
       "        vertical-align: top;\n",
       "    }\n",
       "\n",
       "    .dataframe thead th {\n",
       "        text-align: right;\n",
       "    }\n",
       "</style>\n",
       "<table border=\"1\" class=\"dataframe\">\n",
       "  <thead>\n",
       "    <tr style=\"text-align: right;\">\n",
       "      <th></th>\n",
       "      <th>county</th>\n",
       "      <th>population</th>\n",
       "      <th>fips</th>\n",
       "      <th>state</th>\n",
       "    </tr>\n",
       "  </thead>\n",
       "  <tbody>\n",
       "    <tr>\n",
       "      <th>0</th>\n",
       "      <td>Adjuntas</td>\n",
       "      <td>17363</td>\n",
       "      <td>72001</td>\n",
       "      <td>Puerto Rico</td>\n",
       "    </tr>\n",
       "    <tr>\n",
       "      <th>1</th>\n",
       "      <td>Aguada</td>\n",
       "      <td>36694</td>\n",
       "      <td>72003</td>\n",
       "      <td>Puerto Rico</td>\n",
       "    </tr>\n",
       "    <tr>\n",
       "      <th>2</th>\n",
       "      <td>Aguadilla</td>\n",
       "      <td>50265</td>\n",
       "      <td>72005</td>\n",
       "      <td>Puerto Rico</td>\n",
       "    </tr>\n",
       "    <tr>\n",
       "      <th>3</th>\n",
       "      <td>Aguas Buenas</td>\n",
       "      <td>24814</td>\n",
       "      <td>72007</td>\n",
       "      <td>Puerto Rico</td>\n",
       "    </tr>\n",
       "    <tr>\n",
       "      <th>4</th>\n",
       "      <td>Aibonito</td>\n",
       "      <td>22108</td>\n",
       "      <td>72009</td>\n",
       "      <td>Puerto Rico</td>\n",
       "    </tr>\n",
       "  </tbody>\n",
       "</table>\n",
       "</div>"
      ],
      "text/plain": [
       "         county  population   fips        state\n",
       "0      Adjuntas       17363  72001  Puerto Rico\n",
       "1        Aguada       36694  72003  Puerto Rico\n",
       "2     Aguadilla       50265  72005  Puerto Rico\n",
       "3  Aguas Buenas       24814  72007  Puerto Rico\n",
       "4      Aibonito       22108  72009  Puerto Rico"
      ]
     },
     "execution_count": 19,
     "metadata": {},
     "output_type": "execute_result"
    }
   ],
   "source": [
    "pr_df = pr_df.merge(pr_fips_df, on='county')\n",
    "pr_df['state'] = 'Puerto Rico'\n",
    "pr_df.head()"
   ]
  },
  {
   "cell_type": "code",
   "execution_count": 20,
   "metadata": {},
   "outputs": [
    {
     "data": {
      "text/html": [
       "<div>\n",
       "<style scoped>\n",
       "    .dataframe tbody tr th:only-of-type {\n",
       "        vertical-align: middle;\n",
       "    }\n",
       "\n",
       "    .dataframe tbody tr th {\n",
       "        vertical-align: top;\n",
       "    }\n",
       "\n",
       "    .dataframe thead th {\n",
       "        text-align: right;\n",
       "    }\n",
       "</style>\n",
       "<table border=\"1\" class=\"dataframe\">\n",
       "  <thead>\n",
       "    <tr style=\"text-align: right;\">\n",
       "      <th></th>\n",
       "      <th>state</th>\n",
       "      <th>county</th>\n",
       "      <th>population</th>\n",
       "      <th>fips</th>\n",
       "    </tr>\n",
       "  </thead>\n",
       "  <tbody>\n",
       "    <tr>\n",
       "      <th>3215</th>\n",
       "      <td>Puerto Rico</td>\n",
       "      <td>Vega Baja</td>\n",
       "      <td>50023</td>\n",
       "      <td>72145</td>\n",
       "    </tr>\n",
       "    <tr>\n",
       "      <th>3216</th>\n",
       "      <td>Puerto Rico</td>\n",
       "      <td>Vieques</td>\n",
       "      <td>8386</td>\n",
       "      <td>72147</td>\n",
       "    </tr>\n",
       "    <tr>\n",
       "      <th>3217</th>\n",
       "      <td>Puerto Rico</td>\n",
       "      <td>Villalba</td>\n",
       "      <td>21372</td>\n",
       "      <td>72149</td>\n",
       "    </tr>\n",
       "    <tr>\n",
       "      <th>3218</th>\n",
       "      <td>Puerto Rico</td>\n",
       "      <td>Yabucoa</td>\n",
       "      <td>32282</td>\n",
       "      <td>72151</td>\n",
       "    </tr>\n",
       "    <tr>\n",
       "      <th>3219</th>\n",
       "      <td>Puerto Rico</td>\n",
       "      <td>Yauco</td>\n",
       "      <td>33575</td>\n",
       "      <td>72153</td>\n",
       "    </tr>\n",
       "  </tbody>\n",
       "</table>\n",
       "</div>"
      ],
      "text/plain": [
       "            state     county  population   fips\n",
       "3215  Puerto Rico  Vega Baja       50023  72145\n",
       "3216  Puerto Rico    Vieques        8386  72147\n",
       "3217  Puerto Rico   Villalba       21372  72149\n",
       "3218  Puerto Rico    Yabucoa       32282  72151\n",
       "3219  Puerto Rico      Yauco       33575  72153"
      ]
     },
     "execution_count": 20,
     "metadata": {},
     "output_type": "execute_result"
    }
   ],
   "source": [
    "pop_df = pop_df.append(pr_df, ignore_index=True)\n",
    "pop_df.tail()"
   ]
  },
  {
   "cell_type": "code",
   "execution_count": 21,
   "metadata": {},
   "outputs": [
    {
     "name": "stdout",
     "output_type": "stream",
     "text": [
      "<class 'pandas.core.frame.DataFrame'>\n",
      "RangeIndex: 3220 entries, 0 to 3219\n",
      "Data columns (total 4 columns):\n",
      " #   Column      Non-Null Count  Dtype \n",
      "---  ------      --------------  ----- \n",
      " 0   state       3220 non-null   object\n",
      " 1   county      3220 non-null   object\n",
      " 2   population  3220 non-null   int32 \n",
      " 3   fips        3220 non-null   object\n",
      "dtypes: int32(1), object(3)\n",
      "memory usage: 88.2+ KB\n"
     ]
    }
   ],
   "source": [
    "pop_df.info()"
   ]
  },
  {
   "cell_type": "markdown",
   "metadata": {},
   "source": [
    "## check county names against NYTimes data (again)"
   ]
  },
  {
   "cell_type": "code",
   "execution_count": 22,
   "metadata": {},
   "outputs": [
    {
     "data": {
      "text/plain": [
       "21"
      ]
     },
     "execution_count": 22,
     "metadata": {},
     "output_type": "execute_result"
    }
   ],
   "source": [
    "county_diffs = list(set(nyt_df['county']) - set(pop_df['county']))\n",
    "len(county_diffs)"
   ]
  },
  {
   "cell_type": "code",
   "execution_count": 23,
   "metadata": {},
   "outputs": [
    {
     "data": {
      "text/plain": [
       "['Kansas City',\n",
       " 'New York City',\n",
       " 'Juana Diaz',\n",
       " 'Rincon',\n",
       " 'Unknown',\n",
       " 'Anasco',\n",
       " 'Mayaguez',\n",
       " 'Guanica',\n",
       " 'Saipan',\n",
       " 'San Sebastian',\n",
       " 'Bayamon',\n",
       " 'Las Marias',\n",
       " 'Comerio',\n",
       " 'Catano',\n",
       " 'Joplin',\n",
       " 'Penuelas',\n",
       " 'Tinian',\n",
       " 'San German',\n",
       " 'Canovanas',\n",
       " 'Manati',\n",
       " 'Loiza']"
      ]
     },
     "execution_count": 23,
     "metadata": {},
     "output_type": "execute_result"
    }
   ],
   "source": [
    "county_diffs"
   ]
  },
  {
   "cell_type": "markdown",
   "metadata": {},
   "source": [
    "The NYTimes dataset is missing diacritical marks in their names. While it would be easier to replace diacritical marks with their \"standard\" character counterparts, we will preserve them in our final dataframe in the interest of cultural accuracy. This will be handled when we merge `pop_df` with `nyt_df` in the other notebook.\n",
    "\n",
    "Since the NYTimes dataset treats `New York City`, `Kansas City`, and `Joplin` as their own entities, we need to add them to `pop_df` in addition to adding the census data for these three cities. Additional information taken from [census.gov quickfacts]('https://www.census.gov/quickfacts').\n",
    "\n",
    "We'll use `'nyc'`, `'kc'`, and `'jm'` as our `fips` for these three cities."
   ]
  },
  {
   "cell_type": "code",
   "execution_count": 24,
   "metadata": {},
   "outputs": [
    {
     "data": {
      "text/html": [
       "<div>\n",
       "<style scoped>\n",
       "    .dataframe tbody tr th:only-of-type {\n",
       "        vertical-align: middle;\n",
       "    }\n",
       "\n",
       "    .dataframe tbody tr th {\n",
       "        vertical-align: top;\n",
       "    }\n",
       "\n",
       "    .dataframe thead th {\n",
       "        text-align: right;\n",
       "    }\n",
       "</style>\n",
       "<table border=\"1\" class=\"dataframe\">\n",
       "  <thead>\n",
       "    <tr style=\"text-align: right;\">\n",
       "      <th></th>\n",
       "      <th>state</th>\n",
       "      <th>county</th>\n",
       "      <th>population</th>\n",
       "      <th>fips</th>\n",
       "    </tr>\n",
       "  </thead>\n",
       "  <tbody>\n",
       "    <tr>\n",
       "      <th>0</th>\n",
       "      <td>New York</td>\n",
       "      <td>New York City</td>\n",
       "      <td>8336817</td>\n",
       "      <td>nyc</td>\n",
       "    </tr>\n",
       "    <tr>\n",
       "      <th>1</th>\n",
       "      <td>Missouri</td>\n",
       "      <td>Kansas City</td>\n",
       "      <td>648287</td>\n",
       "      <td>kc</td>\n",
       "    </tr>\n",
       "    <tr>\n",
       "      <th>2</th>\n",
       "      <td>Missouri</td>\n",
       "      <td>Joplin</td>\n",
       "      <td>50925</td>\n",
       "      <td>jm</td>\n",
       "    </tr>\n",
       "  </tbody>\n",
       "</table>\n",
       "</div>"
      ],
      "text/plain": [
       "      state         county  population fips\n",
       "0  New York  New York City     8336817  nyc\n",
       "1  Missouri    Kansas City      648287   kc\n",
       "2  Missouri         Joplin       50925   jm"
      ]
     },
     "execution_count": 24,
     "metadata": {},
     "output_type": "execute_result"
    }
   ],
   "source": [
    "pop_df_2 = pd.DataFrame(\n",
    "    [['New York',\n",
    "      'New York City',\n",
    "      8_336_817,\n",
    "      'nyc'],\n",
    "     ['Missouri',\n",
    "      'Kansas City',\n",
    "      495_327 + 152_960,\n",
    "      'kc'],\n",
    "     ['Missouri',\n",
    "      'Joplin',\n",
    "      50_925,\n",
    "      'jm']]\n",
    "    , columns=pop_df.columns)\n",
    "pop_df_2"
   ]
  },
  {
   "cell_type": "code",
   "execution_count": 25,
   "metadata": {},
   "outputs": [
    {
     "data": {
      "text/html": [
       "<div>\n",
       "<style scoped>\n",
       "    .dataframe tbody tr th:only-of-type {\n",
       "        vertical-align: middle;\n",
       "    }\n",
       "\n",
       "    .dataframe tbody tr th {\n",
       "        vertical-align: top;\n",
       "    }\n",
       "\n",
       "    .dataframe thead th {\n",
       "        text-align: right;\n",
       "    }\n",
       "</style>\n",
       "<table border=\"1\" class=\"dataframe\">\n",
       "  <thead>\n",
       "    <tr style=\"text-align: right;\">\n",
       "      <th></th>\n",
       "      <th>state</th>\n",
       "      <th>county</th>\n",
       "      <th>population</th>\n",
       "      <th>fips</th>\n",
       "    </tr>\n",
       "  </thead>\n",
       "  <tbody>\n",
       "    <tr>\n",
       "      <th>3220</th>\n",
       "      <td>New York</td>\n",
       "      <td>New York City</td>\n",
       "      <td>8336817</td>\n",
       "      <td>nyc</td>\n",
       "    </tr>\n",
       "  </tbody>\n",
       "</table>\n",
       "</div>"
      ],
      "text/plain": [
       "         state         county  population fips\n",
       "3220  New York  New York City     8336817  nyc"
      ]
     },
     "execution_count": 25,
     "metadata": {},
     "output_type": "execute_result"
    }
   ],
   "source": [
    "pop_df = optimize(pop_df.append(pop_df_2, ignore_index=True))\n",
    "pop_df[pop_df['fips'] == 'nyc']"
   ]
  },
  {
   "cell_type": "markdown",
   "metadata": {},
   "source": [
    "## save results to csv"
   ]
  },
  {
   "cell_type": "code",
   "execution_count": 26,
   "metadata": {},
   "outputs": [],
   "source": [
    "pop_df.to_csv('data/pop_df.csv', index=False)"
   ]
  },
  {
   "cell_type": "markdown",
   "metadata": {
    "colab_type": "text",
    "id": "FGH01VFhfK6X"
   },
   "source": [
    "# 2. import geojson for boundaries and census areas"
   ]
  },
  {
   "cell_type": "code",
   "execution_count": 27,
   "metadata": {
    "colab": {},
    "colab_type": "code",
    "id": "M3faduMyEPRU"
   },
   "outputs": [],
   "source": [
    "with urlopen('https://raw.githubusercontent.com/plotly/datasets/master/geojson-counties-fips.json') as response:\n",
    "    county_json = json.load(response)"
   ]
  },
  {
   "cell_type": "code",
   "execution_count": 28,
   "metadata": {},
   "outputs": [
    {
     "data": {
      "text/plain": [
       "{'type': 'Feature',\n",
       " 'properties': {'GEO_ID': '0500000US01001',\n",
       "  'STATE': '01',\n",
       "  'COUNTY': '001',\n",
       "  'NAME': 'Autauga',\n",
       "  'LSAD': 'County',\n",
       "  'CENSUSAREA': 594.436},\n",
       " 'geometry': {'type': 'Polygon',\n",
       "  'coordinates': [[[-86.496774, 32.344437],\n",
       "    [-86.717897, 32.402814],\n",
       "    [-86.814912, 32.340803],\n",
       "    [-86.890581, 32.502974],\n",
       "    [-86.917595, 32.664169],\n",
       "    [-86.71339, 32.661732],\n",
       "    [-86.714219, 32.705694],\n",
       "    [-86.413116, 32.707386],\n",
       "    [-86.411172, 32.409937],\n",
       "    [-86.496774, 32.344437]]]},\n",
       " 'id': '01001'}"
      ]
     },
     "execution_count": 28,
     "metadata": {},
     "output_type": "execute_result"
    }
   ],
   "source": [
    "county_json['features'][0]"
   ]
  },
  {
   "cell_type": "code",
   "execution_count": 29,
   "metadata": {},
   "outputs": [
    {
     "data": {
      "text/plain": [
       "[nan, '46102', '02158', '69110', '69120']"
      ]
     },
     "execution_count": 29,
     "metadata": {},
     "output_type": "execute_result"
    }
   ],
   "source": [
    "fips_to_add_to_json = list(set(nyt_df['fips']) - set([f['id'] for f in county_json['features']]))\n",
    "fips_to_add_to_json"
   ]
  },
  {
   "cell_type": "markdown",
   "metadata": {},
   "source": [
    "The `plotly` county GeoJSON dataset is missing Kusilvak Census Area (`'02158'`) and Oglala Lakota County(`'46102'`), in addition to the three cities included in the NYTimes data (New York City, Kansas City, Joplin). GeoJSON data for these five areas compiled from [nomanatim](https://nominatim.openstreetmap.org/) and [polygons](http://polygons.openstreetmap.fr/).\n",
    "\n",
    "- Search for the area at [nomanatim](https://nominatim.openstreetmap.org/).\n",
    "- Select `details` from the relevant entry.\n",
    "- Copy the numeric `code` under `OSM`, ignoring \"relation\". Eg. for New York City, copy `175905`.\n",
    "- Search for the `code` at [polygons](http://polygons.openstreetmap.fr/).\n",
    "- For our purposes, GeoJSONs were selected according to the following criteria: (1) sparsity of vertices (`NPoints`) and (2) accuracy of shape."
   ]
  },
  {
   "cell_type": "code",
   "execution_count": 30,
   "metadata": {},
   "outputs": [],
   "source": [
    "# new york city, ny\n",
    "with urlopen('https://raw.githubusercontent.com/jydiw/nyt-covid-19-data/master/data/nyc.txt') as response:\n",
    "    nyc_json = json.load(response)\n",
    "\n",
    "# kansas city, mo/ks\n",
    "with urlopen('https://raw.githubusercontent.com/jydiw/nyt-covid-19-data/master/data/kcm.txt') as response:\n",
    "    kcm_json = json.load(response)\n",
    "with urlopen('https://raw.githubusercontent.com/jydiw/nyt-covid-19-data/master/data/kck.txt') as response:\n",
    "    kck_json = json.load(response)\n",
    "kc_json = dict(\n",
    "    coordinates = kcm_json['coordinates'] + kck_json['coordinates']\n",
    ")\n",
    "\n",
    "# joplin, mo\n",
    "with urlopen('https://raw.githubusercontent.com/jydiw/nyt-covid-19-data/master/data/jm.txt') as response:\n",
    "    jm_json = json.load(response)\n",
    "\n",
    "# oglala lakota county, nd\n",
    "with urlopen('https://raw.githubusercontent.com/jydiw/nyt-covid-19-data/master/data/olsd.txt') as response:\n",
    "    olsd_json = json.load(response)\n",
    "\n",
    "# kusilvak census area, ak\n",
    "with urlopen('https://raw.githubusercontent.com/jydiw/nyt-covid-19-data/master/data/kca.txt') as response:\n",
    "    kca_json = json.load(response)"
   ]
  },
  {
   "cell_type": "code",
   "execution_count": 31,
   "metadata": {},
   "outputs": [],
   "source": [
    "# https://stackoverflow.com/questions/41271146/\n",
    "def clean_coordinates(c):\n",
    "    return [list(itertools.chain(*d)) for d in c]"
   ]
  },
  {
   "cell_type": "code",
   "execution_count": 32,
   "metadata": {},
   "outputs": [],
   "source": [
    "add_to_json_dict = {\n",
    "    '02158':{'area':17_081.43,\n",
    "             'name':'Kusilvak Census Area',\n",
    "             'coordinates':clean_coordinates(kca_json['coordinates'])}, \n",
    "    '46102':{'area':2_093.90,\n",
    "             'name':'Oglala Lakota',\n",
    "             'coordinates':clean_coordinates(olsd_json['coordinates'])},\n",
    "    'jm':{'area':35.56,\n",
    "          'name':'Joplin',\n",
    "          'coordinates':clean_coordinates(jm_json['geometries'][0]['coordinates'])},\n",
    "    'kc':{'area':124.81+314.95,\n",
    "          'name':'Kansas City',\n",
    "          'coordinates':clean_coordinates(kc_json['coordinates'])},\n",
    "    'nyc':{'area':302.64,\n",
    "           'name':'New York City',\n",
    "           'coordinates':clean_coordinates(nyc_json['coordinates'])}\n",
    "}"
   ]
  },
  {
   "cell_type": "code",
   "execution_count": null,
   "metadata": {},
   "outputs": [],
   "source": []
  },
  {
   "cell_type": "code",
   "execution_count": 40,
   "metadata": {
    "colab": {},
    "colab_type": "code",
    "id": "HabI52rrDgsz"
   },
   "outputs": [],
   "source": [
    "for fips in ['02158', '46102', 'jm', 'kc', 'nyc']:\n",
    "    county_json['features'].append(\n",
    "        {\n",
    "            'geometry': {'coordinates': add_to_json_dict[fips]['coordinates'],\n",
    "                         'type': 'Polygon'},\n",
    "            'id': fips,\n",
    "            'properties': {'NAME': add_to_json_dict[fips]['name'],\n",
    "                           'CENSUSAREA': add_to_json_dict[fips]['area']},\n",
    "            'type': 'Feature'\n",
    "        }\n",
    "    )"
   ]
  },
  {
   "cell_type": "code",
   "execution_count": 41,
   "metadata": {},
   "outputs": [],
   "source": [
    "with open('data/county_json.json', 'w') as f:\n",
    "    json.dump(county_json, f)"
   ]
  },
  {
   "cell_type": "markdown",
   "metadata": {},
   "source": [
    "## add centroid latitude and longitude coordinates and county area to `pop_df`"
   ]
  },
  {
   "cell_type": "code",
   "execution_count": 42,
   "metadata": {
    "colab": {},
    "colab_type": "code",
    "id": "ESe0NZVLfK60"
   },
   "outputs": [],
   "source": [
    "def centroid(i, j=county_json):\n",
    "    for d in j['features']:\n",
    "        if d['id'] == i:\n",
    "            shapes = np.array(d['geometry']['coordinates']).flatten()\n",
    "            try:\n",
    "                areas = [Polygon(shape).area for shape in shapes]\n",
    "                p = Polygon(shapes[areas.index(max(areas))])\n",
    "                lon, lat = p.centroid.coords[0]\n",
    "            except:\n",
    "                shapes = np.reshape(shapes, (-1, 2))\n",
    "                p = Polygon(shapes)\n",
    "                lon, lat = p.centroid.coords[0]\n",
    "            return lon, lat"
   ]
  },
  {
   "cell_type": "code",
   "execution_count": 43,
   "metadata": {
    "colab": {},
    "colab_type": "code",
    "id": "4emaegTtfK7U"
   },
   "outputs": [],
   "source": [
    "def county_area(i, j=county_json):\n",
    "    for d in j['features']:\n",
    "        if d['id'] == i:\n",
    "            return d['properties']['CENSUSAREA']"
   ]
  },
  {
   "cell_type": "code",
   "execution_count": 44,
   "metadata": {
    "tags": []
   },
   "outputs": [
    {
     "name": "stdout",
     "output_type": "stream",
     "text": [
      "0.7749290466308594\n"
     ]
    }
   ],
   "source": [
    "tick = time()\n",
    "pop_df['area'] = pop_df['fips'].apply(county_area)\n",
    "pop_df['lon'], pop_df['lat'] = zip(*pop_df['fips'].apply(centroid).to_list())\n",
    "pop_df = optimize(pop_df)\n",
    "tock = time()\n",
    "print(tock - tick)"
   ]
  },
  {
   "cell_type": "code",
   "execution_count": 45,
   "metadata": {},
   "outputs": [
    {
     "data": {
      "text/html": [
       "<div>\n",
       "<style scoped>\n",
       "    .dataframe tbody tr th:only-of-type {\n",
       "        vertical-align: middle;\n",
       "    }\n",
       "\n",
       "    .dataframe tbody tr th {\n",
       "        vertical-align: top;\n",
       "    }\n",
       "\n",
       "    .dataframe thead th {\n",
       "        text-align: right;\n",
       "    }\n",
       "</style>\n",
       "<table border=\"1\" class=\"dataframe\">\n",
       "  <thead>\n",
       "    <tr style=\"text-align: right;\">\n",
       "      <th></th>\n",
       "      <th>state</th>\n",
       "      <th>county</th>\n",
       "      <th>population</th>\n",
       "      <th>fips</th>\n",
       "      <th>area</th>\n",
       "      <th>lon</th>\n",
       "      <th>lat</th>\n",
       "    </tr>\n",
       "  </thead>\n",
       "  <tbody>\n",
       "    <tr>\n",
       "      <th>0</th>\n",
       "      <td>Alabama</td>\n",
       "      <td>Autauga</td>\n",
       "      <td>55869</td>\n",
       "      <td>01001</td>\n",
       "      <td>594.435974</td>\n",
       "      <td>-86.641197</td>\n",
       "      <td>32.536152</td>\n",
       "    </tr>\n",
       "    <tr>\n",
       "      <th>1</th>\n",
       "      <td>Alabama</td>\n",
       "      <td>Baldwin</td>\n",
       "      <td>223234</td>\n",
       "      <td>01003</td>\n",
       "      <td>1589.784058</td>\n",
       "      <td>-87.723953</td>\n",
       "      <td>30.725863</td>\n",
       "    </tr>\n",
       "    <tr>\n",
       "      <th>2</th>\n",
       "      <td>Alabama</td>\n",
       "      <td>Barbour</td>\n",
       "      <td>24686</td>\n",
       "      <td>01005</td>\n",
       "      <td>884.875977</td>\n",
       "      <td>-85.389244</td>\n",
       "      <td>31.867889</td>\n",
       "    </tr>\n",
       "    <tr>\n",
       "      <th>3</th>\n",
       "      <td>Alabama</td>\n",
       "      <td>Bibb</td>\n",
       "      <td>22394</td>\n",
       "      <td>01007</td>\n",
       "      <td>622.581970</td>\n",
       "      <td>-87.124962</td>\n",
       "      <td>32.996456</td>\n",
       "    </tr>\n",
       "    <tr>\n",
       "      <th>4</th>\n",
       "      <td>Alabama</td>\n",
       "      <td>Blount</td>\n",
       "      <td>57826</td>\n",
       "      <td>01009</td>\n",
       "      <td>644.776001</td>\n",
       "      <td>-86.569756</td>\n",
       "      <td>33.985249</td>\n",
       "    </tr>\n",
       "  </tbody>\n",
       "</table>\n",
       "</div>"
      ],
      "text/plain": [
       "     state   county  population   fips         area        lon        lat\n",
       "0  Alabama  Autauga       55869  01001   594.435974 -86.641197  32.536152\n",
       "1  Alabama  Baldwin      223234  01003  1589.784058 -87.723953  30.725863\n",
       "2  Alabama  Barbour       24686  01005   884.875977 -85.389244  31.867889\n",
       "3  Alabama     Bibb       22394  01007   622.581970 -87.124962  32.996456\n",
       "4  Alabama   Blount       57826  01009   644.776001 -86.569756  33.985249"
      ]
     },
     "execution_count": 45,
     "metadata": {},
     "output_type": "execute_result"
    }
   ],
   "source": [
    "pop_df.head()"
   ]
  },
  {
   "cell_type": "markdown",
   "metadata": {},
   "source": [
    "## engineer population density column"
   ]
  },
  {
   "cell_type": "code",
   "execution_count": 46,
   "metadata": {},
   "outputs": [
    {
     "data": {
      "text/html": [
       "<div>\n",
       "<style scoped>\n",
       "    .dataframe tbody tr th:only-of-type {\n",
       "        vertical-align: middle;\n",
       "    }\n",
       "\n",
       "    .dataframe tbody tr th {\n",
       "        vertical-align: top;\n",
       "    }\n",
       "\n",
       "    .dataframe thead th {\n",
       "        text-align: right;\n",
       "    }\n",
       "</style>\n",
       "<table border=\"1\" class=\"dataframe\">\n",
       "  <thead>\n",
       "    <tr style=\"text-align: right;\">\n",
       "      <th></th>\n",
       "      <th>state</th>\n",
       "      <th>county</th>\n",
       "      <th>population</th>\n",
       "      <th>fips</th>\n",
       "      <th>area</th>\n",
       "      <th>lon</th>\n",
       "      <th>lat</th>\n",
       "      <th>pop_per_area</th>\n",
       "    </tr>\n",
       "  </thead>\n",
       "  <tbody>\n",
       "    <tr>\n",
       "      <th>0</th>\n",
       "      <td>Alabama</td>\n",
       "      <td>Autauga</td>\n",
       "      <td>55869</td>\n",
       "      <td>01001</td>\n",
       "      <td>594.435974</td>\n",
       "      <td>-86.641197</td>\n",
       "      <td>32.536152</td>\n",
       "      <td>93.986573</td>\n",
       "    </tr>\n",
       "    <tr>\n",
       "      <th>1</th>\n",
       "      <td>Alabama</td>\n",
       "      <td>Baldwin</td>\n",
       "      <td>223234</td>\n",
       "      <td>01003</td>\n",
       "      <td>1589.784058</td>\n",
       "      <td>-87.723953</td>\n",
       "      <td>30.725863</td>\n",
       "      <td>140.417813</td>\n",
       "    </tr>\n",
       "    <tr>\n",
       "      <th>2</th>\n",
       "      <td>Alabama</td>\n",
       "      <td>Barbour</td>\n",
       "      <td>24686</td>\n",
       "      <td>01005</td>\n",
       "      <td>884.875977</td>\n",
       "      <td>-85.389244</td>\n",
       "      <td>31.867889</td>\n",
       "      <td>27.897695</td>\n",
       "    </tr>\n",
       "    <tr>\n",
       "      <th>3</th>\n",
       "      <td>Alabama</td>\n",
       "      <td>Bibb</td>\n",
       "      <td>22394</td>\n",
       "      <td>01007</td>\n",
       "      <td>622.581970</td>\n",
       "      <td>-87.124962</td>\n",
       "      <td>32.996456</td>\n",
       "      <td>35.969561</td>\n",
       "    </tr>\n",
       "    <tr>\n",
       "      <th>4</th>\n",
       "      <td>Alabama</td>\n",
       "      <td>Blount</td>\n",
       "      <td>57826</td>\n",
       "      <td>01009</td>\n",
       "      <td>644.776001</td>\n",
       "      <td>-86.569756</td>\n",
       "      <td>33.985249</td>\n",
       "      <td>89.683859</td>\n",
       "    </tr>\n",
       "  </tbody>\n",
       "</table>\n",
       "</div>"
      ],
      "text/plain": [
       "     state   county  population   fips         area        lon        lat  \\\n",
       "0  Alabama  Autauga       55869  01001   594.435974 -86.641197  32.536152   \n",
       "1  Alabama  Baldwin      223234  01003  1589.784058 -87.723953  30.725863   \n",
       "2  Alabama  Barbour       24686  01005   884.875977 -85.389244  31.867889   \n",
       "3  Alabama     Bibb       22394  01007   622.581970 -87.124962  32.996456   \n",
       "4  Alabama   Blount       57826  01009   644.776001 -86.569756  33.985249   \n",
       "\n",
       "   pop_per_area  \n",
       "0     93.986573  \n",
       "1    140.417813  \n",
       "2     27.897695  \n",
       "3     35.969561  \n",
       "4     89.683859  "
      ]
     },
     "execution_count": 46,
     "metadata": {},
     "output_type": "execute_result"
    }
   ],
   "source": [
    "pop_df['pop_per_area'] = pop_df['population'] / pop_df['area']\n",
    "pop_df.head()"
   ]
  },
  {
   "cell_type": "code",
   "execution_count": 47,
   "metadata": {},
   "outputs": [],
   "source": [
    "pop_df.to_csv('data/pop_df.csv', index=False)"
   ]
  },
  {
   "cell_type": "markdown",
   "metadata": {},
   "source": [
    "# put in nytimes notebook"
   ]
  },
  {
   "cell_type": "code",
   "execution_count": null,
   "metadata": {},
   "outputs": [],
   "source": [
    "nyt_df = nyt_df.merge(pop_df, on='fips', suffixes=('_x','')).drop(['county_x', 'state_x'], axis=1)\n",
    "nyt_df[nyt_df['state'] == 'Puerto Rico']"
   ]
  },
  {
   "cell_type": "code",
   "execution_count": null,
   "metadata": {},
   "outputs": [],
   "source": [
    "nyt_df = nyt_df[nyt_df['county'] != 'Unknown']\n",
    "list(set(nyt_df['county']) - set(pop_df['county']))"
   ]
  },
  {
   "cell_type": "markdown",
   "metadata": {},
   "source": [
    "We need to add the population data for these three cities. Additional information taken from [census.gov quickfacts]('https://www.census.gov/quickfacts').\n",
    "\n",
    "We'll use `'nyc'`, `'kc'`, and `'jm'` as our `fips` for these three cities."
   ]
  }
 ],
 "metadata": {
  "kernelspec": {
   "display_name": "Python 3",
   "language": "python",
   "name": "python3"
  },
  "language_info": {
   "codemirror_mode": {
    "name": "ipython",
    "version": 3
   },
   "file_extension": ".py",
   "mimetype": "text/x-python",
   "name": "python",
   "nbconvert_exporter": "python",
   "pygments_lexer": "ipython3",
   "version": "3.7.7"
  }
 },
 "nbformat": 4,
 "nbformat_minor": 4
}
